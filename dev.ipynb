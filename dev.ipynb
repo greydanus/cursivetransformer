{
 "cells": [
  {
   "cell_type": "code",
   "execution_count": 1,
   "metadata": {},
   "outputs": [
    {
     "data": {
      "text/plain": [
       "['1-10.json',\n",
       " '10-23.json',\n",
       " '107-113.json',\n",
       " '114-123.json',\n",
       " '124-134.json',\n",
       " '135-202.json',\n",
       " '202-227.json',\n",
       " '227-247.json',\n",
       " '24-25.json',\n",
       " '248-278.json',\n",
       " '26-44.json',\n",
       " '279-300.json',\n",
       " '301-321.json',\n",
       " '322-344.json',\n",
       " '345-355.json',\n",
       " '352-355.json',\n",
       " '355-522.json',\n",
       " '45-107.json',\n",
       " '522-566.json',\n",
       " '566-604.json']"
      ]
     },
     "execution_count": 1,
     "metadata": {},
     "output_type": "execute_result"
    }
   ],
   "source": [
    "import os \n",
    "import json \n",
    "\n",
    "files = os.listdir(\"data/tmp\")\n",
    "files"
   ]
  },
  {
   "cell_type": "code",
   "execution_count": 3,
   "metadata": {},
   "outputs": [
    {
     "name": "stdout",
     "output_type": "stream",
     "text": [
      "# samples: 590\n"
     ]
    }
   ],
   "source": [
    "output = []\n",
    "for file in files:\n",
    "    with open(f'data/tmp/{file}', 'r') as f:\n",
    "        samples = json.load(f)\n",
    "    output.extend(samples)\n",
    "    \n",
    "print(f'# samples: {len(output)}')"
   ]
  },
  {
   "cell_type": "code",
   "execution_count": 5,
   "metadata": {},
   "outputs": [],
   "source": [
    "with open('data/zachbank_0.59K_1K.json', \"w\") as f:\n",
    "    json.dump(output, f)\n",
    "    "
   ]
  },
  {
   "cell_type": "code",
   "execution_count": null,
   "metadata": {},
   "outputs": [],
   "source": []
  }
 ],
 "metadata": {
  "kernelspec": {
   "display_name": "env",
   "language": "python",
   "name": "python3"
  },
  "language_info": {
   "codemirror_mode": {
    "name": "ipython",
    "version": 3
   },
   "file_extension": ".py",
   "mimetype": "text/x-python",
   "name": "python",
   "nbconvert_exporter": "python",
   "pygments_lexer": "ipython3",
   "version": "3.10.14"
  }
 },
 "nbformat": 4,
 "nbformat_minor": 2
}
