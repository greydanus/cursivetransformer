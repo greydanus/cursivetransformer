{
  "nbformat": 4,
  "nbformat_minor": 0,
  "metadata": {
    "colab": {
      "provenance": [],
      "machine_shape": "hm",
      "gpuType": "A100",
      "authorship_tag": "ABX9TyNZPz60zWrLmAGA3UNPLBZI",
      "include_colab_link": true
    },
    "kernelspec": {
      "name": "python3",
      "display_name": "Python 3"
    },
    "language_info": {
      "name": "python"
    },
    "accelerator": "GPU",
    "widgets": {
      "application/vnd.jupyter.widget-state+json": {
        "48346c7dbb4840bea4bbe3a3d29c1989": {
          "model_module": "@jupyter-widgets/controls",
          "model_name": "HBoxModel",
          "model_module_version": "1.5.0",
          "state": {
            "_dom_classes": [],
            "_model_module": "@jupyter-widgets/controls",
            "_model_module_version": "1.5.0",
            "_model_name": "HBoxModel",
            "_view_count": null,
            "_view_module": "@jupyter-widgets/controls",
            "_view_module_version": "1.5.0",
            "_view_name": "HBoxView",
            "box_style": "",
            "children": [
              "IPY_MODEL_18184a284b1c455a97a624f8873ad871",
              "IPY_MODEL_d53ca15b343c435f8faa3f24d241669d",
              "IPY_MODEL_92707606447a41eb9cb46b1ea96f5e2c"
            ],
            "layout": "IPY_MODEL_53a00eccf5a242bcb7dfd866b26d4226"
          }
        },
        "18184a284b1c455a97a624f8873ad871": {
          "model_module": "@jupyter-widgets/controls",
          "model_name": "HTMLModel",
          "model_module_version": "1.5.0",
          "state": {
            "_dom_classes": [],
            "_model_module": "@jupyter-widgets/controls",
            "_model_module_version": "1.5.0",
            "_model_name": "HTMLModel",
            "_view_count": null,
            "_view_module": "@jupyter-widgets/controls",
            "_view_module_version": "1.5.0",
            "_view_name": "HTMLView",
            "description": "",
            "description_tooltip": null,
            "layout": "IPY_MODEL_cc52906217bc4c22a60df275ebc2b81a",
            "placeholder": "​",
            "style": "IPY_MODEL_98337f136ac943979828c558ae0e6b1d",
            "value": "config.json: 100%"
          }
        },
        "d53ca15b343c435f8faa3f24d241669d": {
          "model_module": "@jupyter-widgets/controls",
          "model_name": "FloatProgressModel",
          "model_module_version": "1.5.0",
          "state": {
            "_dom_classes": [],
            "_model_module": "@jupyter-widgets/controls",
            "_model_module_version": "1.5.0",
            "_model_name": "FloatProgressModel",
            "_view_count": null,
            "_view_module": "@jupyter-widgets/controls",
            "_view_module_version": "1.5.0",
            "_view_name": "ProgressView",
            "bar_style": "success",
            "description": "",
            "description_tooltip": null,
            "layout": "IPY_MODEL_53e3c6bd8b914bff9dd5c98f261acc3e",
            "max": 665,
            "min": 0,
            "orientation": "horizontal",
            "style": "IPY_MODEL_6354e89e4e8240a5878cd1ca2f62fa4e",
            "value": 665
          }
        },
        "92707606447a41eb9cb46b1ea96f5e2c": {
          "model_module": "@jupyter-widgets/controls",
          "model_name": "HTMLModel",
          "model_module_version": "1.5.0",
          "state": {
            "_dom_classes": [],
            "_model_module": "@jupyter-widgets/controls",
            "_model_module_version": "1.5.0",
            "_model_name": "HTMLModel",
            "_view_count": null,
            "_view_module": "@jupyter-widgets/controls",
            "_view_module_version": "1.5.0",
            "_view_name": "HTMLView",
            "description": "",
            "description_tooltip": null,
            "layout": "IPY_MODEL_937f33f4b31b45898d1482c22a36ba1e",
            "placeholder": "​",
            "style": "IPY_MODEL_2a13ccf9be7a4d5aa73f1a3b4002f305",
            "value": " 665/665 [00:00&lt;00:00, 53.0kB/s]"
          }
        },
        "53a00eccf5a242bcb7dfd866b26d4226": {
          "model_module": "@jupyter-widgets/base",
          "model_name": "LayoutModel",
          "model_module_version": "1.2.0",
          "state": {
            "_model_module": "@jupyter-widgets/base",
            "_model_module_version": "1.2.0",
            "_model_name": "LayoutModel",
            "_view_count": null,
            "_view_module": "@jupyter-widgets/base",
            "_view_module_version": "1.2.0",
            "_view_name": "LayoutView",
            "align_content": null,
            "align_items": null,
            "align_self": null,
            "border": null,
            "bottom": null,
            "display": null,
            "flex": null,
            "flex_flow": null,
            "grid_area": null,
            "grid_auto_columns": null,
            "grid_auto_flow": null,
            "grid_auto_rows": null,
            "grid_column": null,
            "grid_gap": null,
            "grid_row": null,
            "grid_template_areas": null,
            "grid_template_columns": null,
            "grid_template_rows": null,
            "height": null,
            "justify_content": null,
            "justify_items": null,
            "left": null,
            "margin": null,
            "max_height": null,
            "max_width": null,
            "min_height": null,
            "min_width": null,
            "object_fit": null,
            "object_position": null,
            "order": null,
            "overflow": null,
            "overflow_x": null,
            "overflow_y": null,
            "padding": null,
            "right": null,
            "top": null,
            "visibility": null,
            "width": null
          }
        },
        "cc52906217bc4c22a60df275ebc2b81a": {
          "model_module": "@jupyter-widgets/base",
          "model_name": "LayoutModel",
          "model_module_version": "1.2.0",
          "state": {
            "_model_module": "@jupyter-widgets/base",
            "_model_module_version": "1.2.0",
            "_model_name": "LayoutModel",
            "_view_count": null,
            "_view_module": "@jupyter-widgets/base",
            "_view_module_version": "1.2.0",
            "_view_name": "LayoutView",
            "align_content": null,
            "align_items": null,
            "align_self": null,
            "border": null,
            "bottom": null,
            "display": null,
            "flex": null,
            "flex_flow": null,
            "grid_area": null,
            "grid_auto_columns": null,
            "grid_auto_flow": null,
            "grid_auto_rows": null,
            "grid_column": null,
            "grid_gap": null,
            "grid_row": null,
            "grid_template_areas": null,
            "grid_template_columns": null,
            "grid_template_rows": null,
            "height": null,
            "justify_content": null,
            "justify_items": null,
            "left": null,
            "margin": null,
            "max_height": null,
            "max_width": null,
            "min_height": null,
            "min_width": null,
            "object_fit": null,
            "object_position": null,
            "order": null,
            "overflow": null,
            "overflow_x": null,
            "overflow_y": null,
            "padding": null,
            "right": null,
            "top": null,
            "visibility": null,
            "width": null
          }
        },
        "98337f136ac943979828c558ae0e6b1d": {
          "model_module": "@jupyter-widgets/controls",
          "model_name": "DescriptionStyleModel",
          "model_module_version": "1.5.0",
          "state": {
            "_model_module": "@jupyter-widgets/controls",
            "_model_module_version": "1.5.0",
            "_model_name": "DescriptionStyleModel",
            "_view_count": null,
            "_view_module": "@jupyter-widgets/base",
            "_view_module_version": "1.2.0",
            "_view_name": "StyleView",
            "description_width": ""
          }
        },
        "53e3c6bd8b914bff9dd5c98f261acc3e": {
          "model_module": "@jupyter-widgets/base",
          "model_name": "LayoutModel",
          "model_module_version": "1.2.0",
          "state": {
            "_model_module": "@jupyter-widgets/base",
            "_model_module_version": "1.2.0",
            "_model_name": "LayoutModel",
            "_view_count": null,
            "_view_module": "@jupyter-widgets/base",
            "_view_module_version": "1.2.0",
            "_view_name": "LayoutView",
            "align_content": null,
            "align_items": null,
            "align_self": null,
            "border": null,
            "bottom": null,
            "display": null,
            "flex": null,
            "flex_flow": null,
            "grid_area": null,
            "grid_auto_columns": null,
            "grid_auto_flow": null,
            "grid_auto_rows": null,
            "grid_column": null,
            "grid_gap": null,
            "grid_row": null,
            "grid_template_areas": null,
            "grid_template_columns": null,
            "grid_template_rows": null,
            "height": null,
            "justify_content": null,
            "justify_items": null,
            "left": null,
            "margin": null,
            "max_height": null,
            "max_width": null,
            "min_height": null,
            "min_width": null,
            "object_fit": null,
            "object_position": null,
            "order": null,
            "overflow": null,
            "overflow_x": null,
            "overflow_y": null,
            "padding": null,
            "right": null,
            "top": null,
            "visibility": null,
            "width": null
          }
        },
        "6354e89e4e8240a5878cd1ca2f62fa4e": {
          "model_module": "@jupyter-widgets/controls",
          "model_name": "ProgressStyleModel",
          "model_module_version": "1.5.0",
          "state": {
            "_model_module": "@jupyter-widgets/controls",
            "_model_module_version": "1.5.0",
            "_model_name": "ProgressStyleModel",
            "_view_count": null,
            "_view_module": "@jupyter-widgets/base",
            "_view_module_version": "1.2.0",
            "_view_name": "StyleView",
            "bar_color": null,
            "description_width": ""
          }
        },
        "937f33f4b31b45898d1482c22a36ba1e": {
          "model_module": "@jupyter-widgets/base",
          "model_name": "LayoutModel",
          "model_module_version": "1.2.0",
          "state": {
            "_model_module": "@jupyter-widgets/base",
            "_model_module_version": "1.2.0",
            "_model_name": "LayoutModel",
            "_view_count": null,
            "_view_module": "@jupyter-widgets/base",
            "_view_module_version": "1.2.0",
            "_view_name": "LayoutView",
            "align_content": null,
            "align_items": null,
            "align_self": null,
            "border": null,
            "bottom": null,
            "display": null,
            "flex": null,
            "flex_flow": null,
            "grid_area": null,
            "grid_auto_columns": null,
            "grid_auto_flow": null,
            "grid_auto_rows": null,
            "grid_column": null,
            "grid_gap": null,
            "grid_row": null,
            "grid_template_areas": null,
            "grid_template_columns": null,
            "grid_template_rows": null,
            "height": null,
            "justify_content": null,
            "justify_items": null,
            "left": null,
            "margin": null,
            "max_height": null,
            "max_width": null,
            "min_height": null,
            "min_width": null,
            "object_fit": null,
            "object_position": null,
            "order": null,
            "overflow": null,
            "overflow_x": null,
            "overflow_y": null,
            "padding": null,
            "right": null,
            "top": null,
            "visibility": null,
            "width": null
          }
        },
        "2a13ccf9be7a4d5aa73f1a3b4002f305": {
          "model_module": "@jupyter-widgets/controls",
          "model_name": "DescriptionStyleModel",
          "model_module_version": "1.5.0",
          "state": {
            "_model_module": "@jupyter-widgets/controls",
            "_model_module_version": "1.5.0",
            "_model_name": "DescriptionStyleModel",
            "_view_count": null,
            "_view_module": "@jupyter-widgets/base",
            "_view_module_version": "1.2.0",
            "_view_name": "StyleView",
            "description_width": ""
          }
        },
        "33d736d1bde34390b983bb65dd8c63e1": {
          "model_module": "@jupyter-widgets/controls",
          "model_name": "HBoxModel",
          "model_module_version": "1.5.0",
          "state": {
            "_dom_classes": [],
            "_model_module": "@jupyter-widgets/controls",
            "_model_module_version": "1.5.0",
            "_model_name": "HBoxModel",
            "_view_count": null,
            "_view_module": "@jupyter-widgets/controls",
            "_view_module_version": "1.5.0",
            "_view_name": "HBoxView",
            "box_style": "",
            "children": [
              "IPY_MODEL_fe1d2cadd6fc4001872a6afc3e4ac69a",
              "IPY_MODEL_0db921d9f16845f5a3d3faccdb9d59a8",
              "IPY_MODEL_8cb2252ea38a42059ea7887f52c90183"
            ],
            "layout": "IPY_MODEL_d8c2ee2fd44e47829655530e36144a5b"
          }
        },
        "fe1d2cadd6fc4001872a6afc3e4ac69a": {
          "model_module": "@jupyter-widgets/controls",
          "model_name": "HTMLModel",
          "model_module_version": "1.5.0",
          "state": {
            "_dom_classes": [],
            "_model_module": "@jupyter-widgets/controls",
            "_model_module_version": "1.5.0",
            "_model_name": "HTMLModel",
            "_view_count": null,
            "_view_module": "@jupyter-widgets/controls",
            "_view_module_version": "1.5.0",
            "_view_name": "HTMLView",
            "description": "",
            "description_tooltip": null,
            "layout": "IPY_MODEL_33dcf444b9a14e1c86998982cd287f8c",
            "placeholder": "​",
            "style": "IPY_MODEL_1822729b75994fafb5f7dc3784371814",
            "value": "model.safetensors: 100%"
          }
        },
        "0db921d9f16845f5a3d3faccdb9d59a8": {
          "model_module": "@jupyter-widgets/controls",
          "model_name": "FloatProgressModel",
          "model_module_version": "1.5.0",
          "state": {
            "_dom_classes": [],
            "_model_module": "@jupyter-widgets/controls",
            "_model_module_version": "1.5.0",
            "_model_name": "FloatProgressModel",
            "_view_count": null,
            "_view_module": "@jupyter-widgets/controls",
            "_view_module_version": "1.5.0",
            "_view_name": "ProgressView",
            "bar_style": "success",
            "description": "",
            "description_tooltip": null,
            "layout": "IPY_MODEL_85d08183a5834967a73ebd8a66362ccb",
            "max": 548105171,
            "min": 0,
            "orientation": "horizontal",
            "style": "IPY_MODEL_d713dab3c0a648a98398f4f1e59e5f46",
            "value": 548105171
          }
        },
        "8cb2252ea38a42059ea7887f52c90183": {
          "model_module": "@jupyter-widgets/controls",
          "model_name": "HTMLModel",
          "model_module_version": "1.5.0",
          "state": {
            "_dom_classes": [],
            "_model_module": "@jupyter-widgets/controls",
            "_model_module_version": "1.5.0",
            "_model_name": "HTMLModel",
            "_view_count": null,
            "_view_module": "@jupyter-widgets/controls",
            "_view_module_version": "1.5.0",
            "_view_name": "HTMLView",
            "description": "",
            "description_tooltip": null,
            "layout": "IPY_MODEL_e89b5c7ac8e845e2bc63eb5e680328a5",
            "placeholder": "​",
            "style": "IPY_MODEL_be405f40bb0b4253bcaf2b518ebaa58a",
            "value": " 548M/548M [00:03&lt;00:00, 183MB/s]"
          }
        },
        "d8c2ee2fd44e47829655530e36144a5b": {
          "model_module": "@jupyter-widgets/base",
          "model_name": "LayoutModel",
          "model_module_version": "1.2.0",
          "state": {
            "_model_module": "@jupyter-widgets/base",
            "_model_module_version": "1.2.0",
            "_model_name": "LayoutModel",
            "_view_count": null,
            "_view_module": "@jupyter-widgets/base",
            "_view_module_version": "1.2.0",
            "_view_name": "LayoutView",
            "align_content": null,
            "align_items": null,
            "align_self": null,
            "border": null,
            "bottom": null,
            "display": null,
            "flex": null,
            "flex_flow": null,
            "grid_area": null,
            "grid_auto_columns": null,
            "grid_auto_flow": null,
            "grid_auto_rows": null,
            "grid_column": null,
            "grid_gap": null,
            "grid_row": null,
            "grid_template_areas": null,
            "grid_template_columns": null,
            "grid_template_rows": null,
            "height": null,
            "justify_content": null,
            "justify_items": null,
            "left": null,
            "margin": null,
            "max_height": null,
            "max_width": null,
            "min_height": null,
            "min_width": null,
            "object_fit": null,
            "object_position": null,
            "order": null,
            "overflow": null,
            "overflow_x": null,
            "overflow_y": null,
            "padding": null,
            "right": null,
            "top": null,
            "visibility": null,
            "width": null
          }
        },
        "33dcf444b9a14e1c86998982cd287f8c": {
          "model_module": "@jupyter-widgets/base",
          "model_name": "LayoutModel",
          "model_module_version": "1.2.0",
          "state": {
            "_model_module": "@jupyter-widgets/base",
            "_model_module_version": "1.2.0",
            "_model_name": "LayoutModel",
            "_view_count": null,
            "_view_module": "@jupyter-widgets/base",
            "_view_module_version": "1.2.0",
            "_view_name": "LayoutView",
            "align_content": null,
            "align_items": null,
            "align_self": null,
            "border": null,
            "bottom": null,
            "display": null,
            "flex": null,
            "flex_flow": null,
            "grid_area": null,
            "grid_auto_columns": null,
            "grid_auto_flow": null,
            "grid_auto_rows": null,
            "grid_column": null,
            "grid_gap": null,
            "grid_row": null,
            "grid_template_areas": null,
            "grid_template_columns": null,
            "grid_template_rows": null,
            "height": null,
            "justify_content": null,
            "justify_items": null,
            "left": null,
            "margin": null,
            "max_height": null,
            "max_width": null,
            "min_height": null,
            "min_width": null,
            "object_fit": null,
            "object_position": null,
            "order": null,
            "overflow": null,
            "overflow_x": null,
            "overflow_y": null,
            "padding": null,
            "right": null,
            "top": null,
            "visibility": null,
            "width": null
          }
        },
        "1822729b75994fafb5f7dc3784371814": {
          "model_module": "@jupyter-widgets/controls",
          "model_name": "DescriptionStyleModel",
          "model_module_version": "1.5.0",
          "state": {
            "_model_module": "@jupyter-widgets/controls",
            "_model_module_version": "1.5.0",
            "_model_name": "DescriptionStyleModel",
            "_view_count": null,
            "_view_module": "@jupyter-widgets/base",
            "_view_module_version": "1.2.0",
            "_view_name": "StyleView",
            "description_width": ""
          }
        },
        "85d08183a5834967a73ebd8a66362ccb": {
          "model_module": "@jupyter-widgets/base",
          "model_name": "LayoutModel",
          "model_module_version": "1.2.0",
          "state": {
            "_model_module": "@jupyter-widgets/base",
            "_model_module_version": "1.2.0",
            "_model_name": "LayoutModel",
            "_view_count": null,
            "_view_module": "@jupyter-widgets/base",
            "_view_module_version": "1.2.0",
            "_view_name": "LayoutView",
            "align_content": null,
            "align_items": null,
            "align_self": null,
            "border": null,
            "bottom": null,
            "display": null,
            "flex": null,
            "flex_flow": null,
            "grid_area": null,
            "grid_auto_columns": null,
            "grid_auto_flow": null,
            "grid_auto_rows": null,
            "grid_column": null,
            "grid_gap": null,
            "grid_row": null,
            "grid_template_areas": null,
            "grid_template_columns": null,
            "grid_template_rows": null,
            "height": null,
            "justify_content": null,
            "justify_items": null,
            "left": null,
            "margin": null,
            "max_height": null,
            "max_width": null,
            "min_height": null,
            "min_width": null,
            "object_fit": null,
            "object_position": null,
            "order": null,
            "overflow": null,
            "overflow_x": null,
            "overflow_y": null,
            "padding": null,
            "right": null,
            "top": null,
            "visibility": null,
            "width": null
          }
        },
        "d713dab3c0a648a98398f4f1e59e5f46": {
          "model_module": "@jupyter-widgets/controls",
          "model_name": "ProgressStyleModel",
          "model_module_version": "1.5.0",
          "state": {
            "_model_module": "@jupyter-widgets/controls",
            "_model_module_version": "1.5.0",
            "_model_name": "ProgressStyleModel",
            "_view_count": null,
            "_view_module": "@jupyter-widgets/base",
            "_view_module_version": "1.2.0",
            "_view_name": "StyleView",
            "bar_color": null,
            "description_width": ""
          }
        },
        "e89b5c7ac8e845e2bc63eb5e680328a5": {
          "model_module": "@jupyter-widgets/base",
          "model_name": "LayoutModel",
          "model_module_version": "1.2.0",
          "state": {
            "_model_module": "@jupyter-widgets/base",
            "_model_module_version": "1.2.0",
            "_model_name": "LayoutModel",
            "_view_count": null,
            "_view_module": "@jupyter-widgets/base",
            "_view_module_version": "1.2.0",
            "_view_name": "LayoutView",
            "align_content": null,
            "align_items": null,
            "align_self": null,
            "border": null,
            "bottom": null,
            "display": null,
            "flex": null,
            "flex_flow": null,
            "grid_area": null,
            "grid_auto_columns": null,
            "grid_auto_flow": null,
            "grid_auto_rows": null,
            "grid_column": null,
            "grid_gap": null,
            "grid_row": null,
            "grid_template_areas": null,
            "grid_template_columns": null,
            "grid_template_rows": null,
            "height": null,
            "justify_content": null,
            "justify_items": null,
            "left": null,
            "margin": null,
            "max_height": null,
            "max_width": null,
            "min_height": null,
            "min_width": null,
            "object_fit": null,
            "object_position": null,
            "order": null,
            "overflow": null,
            "overflow_x": null,
            "overflow_y": null,
            "padding": null,
            "right": null,
            "top": null,
            "visibility": null,
            "width": null
          }
        },
        "be405f40bb0b4253bcaf2b518ebaa58a": {
          "model_module": "@jupyter-widgets/controls",
          "model_name": "DescriptionStyleModel",
          "model_module_version": "1.5.0",
          "state": {
            "_model_module": "@jupyter-widgets/controls",
            "_model_module_version": "1.5.0",
            "_model_name": "DescriptionStyleModel",
            "_view_count": null,
            "_view_module": "@jupyter-widgets/base",
            "_view_module_version": "1.2.0",
            "_view_name": "StyleView",
            "description_width": ""
          }
        },
        "07a8d0d615d2415a95ed4db4642d468d": {
          "model_module": "@jupyter-widgets/controls",
          "model_name": "HBoxModel",
          "model_module_version": "1.5.0",
          "state": {
            "_dom_classes": [],
            "_model_module": "@jupyter-widgets/controls",
            "_model_module_version": "1.5.0",
            "_model_name": "HBoxModel",
            "_view_count": null,
            "_view_module": "@jupyter-widgets/controls",
            "_view_module_version": "1.5.0",
            "_view_name": "HBoxView",
            "box_style": "",
            "children": [
              "IPY_MODEL_3a9584bf3bc6447da4fb0aee01b69206",
              "IPY_MODEL_d4a4715e1a6443d6be57920ac64023e4",
              "IPY_MODEL_eef79f57160449728ff45ba5e7abe088"
            ],
            "layout": "IPY_MODEL_f15791022fb043729957cda1428c62df"
          }
        },
        "3a9584bf3bc6447da4fb0aee01b69206": {
          "model_module": "@jupyter-widgets/controls",
          "model_name": "HTMLModel",
          "model_module_version": "1.5.0",
          "state": {
            "_dom_classes": [],
            "_model_module": "@jupyter-widgets/controls",
            "_model_module_version": "1.5.0",
            "_model_name": "HTMLModel",
            "_view_count": null,
            "_view_module": "@jupyter-widgets/controls",
            "_view_module_version": "1.5.0",
            "_view_name": "HTMLView",
            "description": "",
            "description_tooltip": null,
            "layout": "IPY_MODEL_d4d5b497820a497b824a4538bcab062c",
            "placeholder": "​",
            "style": "IPY_MODEL_19ac5486326d4c08ae1b887ae9b7914a",
            "value": "generation_config.json: 100%"
          }
        },
        "d4a4715e1a6443d6be57920ac64023e4": {
          "model_module": "@jupyter-widgets/controls",
          "model_name": "FloatProgressModel",
          "model_module_version": "1.5.0",
          "state": {
            "_dom_classes": [],
            "_model_module": "@jupyter-widgets/controls",
            "_model_module_version": "1.5.0",
            "_model_name": "FloatProgressModel",
            "_view_count": null,
            "_view_module": "@jupyter-widgets/controls",
            "_view_module_version": "1.5.0",
            "_view_name": "ProgressView",
            "bar_style": "success",
            "description": "",
            "description_tooltip": null,
            "layout": "IPY_MODEL_7b33cf7de7ff4cecb6ae9b118bf929ff",
            "max": 124,
            "min": 0,
            "orientation": "horizontal",
            "style": "IPY_MODEL_29c53097890e47738dbcdeacef3974d3",
            "value": 124
          }
        },
        "eef79f57160449728ff45ba5e7abe088": {
          "model_module": "@jupyter-widgets/controls",
          "model_name": "HTMLModel",
          "model_module_version": "1.5.0",
          "state": {
            "_dom_classes": [],
            "_model_module": "@jupyter-widgets/controls",
            "_model_module_version": "1.5.0",
            "_model_name": "HTMLModel",
            "_view_count": null,
            "_view_module": "@jupyter-widgets/controls",
            "_view_module_version": "1.5.0",
            "_view_name": "HTMLView",
            "description": "",
            "description_tooltip": null,
            "layout": "IPY_MODEL_8427d399ce34400ab56bacb527648e33",
            "placeholder": "​",
            "style": "IPY_MODEL_2bfdb7cec4164fe5af35a45681f5bf6b",
            "value": " 124/124 [00:00&lt;00:00, 10.6kB/s]"
          }
        },
        "f15791022fb043729957cda1428c62df": {
          "model_module": "@jupyter-widgets/base",
          "model_name": "LayoutModel",
          "model_module_version": "1.2.0",
          "state": {
            "_model_module": "@jupyter-widgets/base",
            "_model_module_version": "1.2.0",
            "_model_name": "LayoutModel",
            "_view_count": null,
            "_view_module": "@jupyter-widgets/base",
            "_view_module_version": "1.2.0",
            "_view_name": "LayoutView",
            "align_content": null,
            "align_items": null,
            "align_self": null,
            "border": null,
            "bottom": null,
            "display": null,
            "flex": null,
            "flex_flow": null,
            "grid_area": null,
            "grid_auto_columns": null,
            "grid_auto_flow": null,
            "grid_auto_rows": null,
            "grid_column": null,
            "grid_gap": null,
            "grid_row": null,
            "grid_template_areas": null,
            "grid_template_columns": null,
            "grid_template_rows": null,
            "height": null,
            "justify_content": null,
            "justify_items": null,
            "left": null,
            "margin": null,
            "max_height": null,
            "max_width": null,
            "min_height": null,
            "min_width": null,
            "object_fit": null,
            "object_position": null,
            "order": null,
            "overflow": null,
            "overflow_x": null,
            "overflow_y": null,
            "padding": null,
            "right": null,
            "top": null,
            "visibility": null,
            "width": null
          }
        },
        "d4d5b497820a497b824a4538bcab062c": {
          "model_module": "@jupyter-widgets/base",
          "model_name": "LayoutModel",
          "model_module_version": "1.2.0",
          "state": {
            "_model_module": "@jupyter-widgets/base",
            "_model_module_version": "1.2.0",
            "_model_name": "LayoutModel",
            "_view_count": null,
            "_view_module": "@jupyter-widgets/base",
            "_view_module_version": "1.2.0",
            "_view_name": "LayoutView",
            "align_content": null,
            "align_items": null,
            "align_self": null,
            "border": null,
            "bottom": null,
            "display": null,
            "flex": null,
            "flex_flow": null,
            "grid_area": null,
            "grid_auto_columns": null,
            "grid_auto_flow": null,
            "grid_auto_rows": null,
            "grid_column": null,
            "grid_gap": null,
            "grid_row": null,
            "grid_template_areas": null,
            "grid_template_columns": null,
            "grid_template_rows": null,
            "height": null,
            "justify_content": null,
            "justify_items": null,
            "left": null,
            "margin": null,
            "max_height": null,
            "max_width": null,
            "min_height": null,
            "min_width": null,
            "object_fit": null,
            "object_position": null,
            "order": null,
            "overflow": null,
            "overflow_x": null,
            "overflow_y": null,
            "padding": null,
            "right": null,
            "top": null,
            "visibility": null,
            "width": null
          }
        },
        "19ac5486326d4c08ae1b887ae9b7914a": {
          "model_module": "@jupyter-widgets/controls",
          "model_name": "DescriptionStyleModel",
          "model_module_version": "1.5.0",
          "state": {
            "_model_module": "@jupyter-widgets/controls",
            "_model_module_version": "1.5.0",
            "_model_name": "DescriptionStyleModel",
            "_view_count": null,
            "_view_module": "@jupyter-widgets/base",
            "_view_module_version": "1.2.0",
            "_view_name": "StyleView",
            "description_width": ""
          }
        },
        "7b33cf7de7ff4cecb6ae9b118bf929ff": {
          "model_module": "@jupyter-widgets/base",
          "model_name": "LayoutModel",
          "model_module_version": "1.2.0",
          "state": {
            "_model_module": "@jupyter-widgets/base",
            "_model_module_version": "1.2.0",
            "_model_name": "LayoutModel",
            "_view_count": null,
            "_view_module": "@jupyter-widgets/base",
            "_view_module_version": "1.2.0",
            "_view_name": "LayoutView",
            "align_content": null,
            "align_items": null,
            "align_self": null,
            "border": null,
            "bottom": null,
            "display": null,
            "flex": null,
            "flex_flow": null,
            "grid_area": null,
            "grid_auto_columns": null,
            "grid_auto_flow": null,
            "grid_auto_rows": null,
            "grid_column": null,
            "grid_gap": null,
            "grid_row": null,
            "grid_template_areas": null,
            "grid_template_columns": null,
            "grid_template_rows": null,
            "height": null,
            "justify_content": null,
            "justify_items": null,
            "left": null,
            "margin": null,
            "max_height": null,
            "max_width": null,
            "min_height": null,
            "min_width": null,
            "object_fit": null,
            "object_position": null,
            "order": null,
            "overflow": null,
            "overflow_x": null,
            "overflow_y": null,
            "padding": null,
            "right": null,
            "top": null,
            "visibility": null,
            "width": null
          }
        },
        "29c53097890e47738dbcdeacef3974d3": {
          "model_module": "@jupyter-widgets/controls",
          "model_name": "ProgressStyleModel",
          "model_module_version": "1.5.0",
          "state": {
            "_model_module": "@jupyter-widgets/controls",
            "_model_module_version": "1.5.0",
            "_model_name": "ProgressStyleModel",
            "_view_count": null,
            "_view_module": "@jupyter-widgets/base",
            "_view_module_version": "1.2.0",
            "_view_name": "StyleView",
            "bar_color": null,
            "description_width": ""
          }
        },
        "8427d399ce34400ab56bacb527648e33": {
          "model_module": "@jupyter-widgets/base",
          "model_name": "LayoutModel",
          "model_module_version": "1.2.0",
          "state": {
            "_model_module": "@jupyter-widgets/base",
            "_model_module_version": "1.2.0",
            "_model_name": "LayoutModel",
            "_view_count": null,
            "_view_module": "@jupyter-widgets/base",
            "_view_module_version": "1.2.0",
            "_view_name": "LayoutView",
            "align_content": null,
            "align_items": null,
            "align_self": null,
            "border": null,
            "bottom": null,
            "display": null,
            "flex": null,
            "flex_flow": null,
            "grid_area": null,
            "grid_auto_columns": null,
            "grid_auto_flow": null,
            "grid_auto_rows": null,
            "grid_column": null,
            "grid_gap": null,
            "grid_row": null,
            "grid_template_areas": null,
            "grid_template_columns": null,
            "grid_template_rows": null,
            "height": null,
            "justify_content": null,
            "justify_items": null,
            "left": null,
            "margin": null,
            "max_height": null,
            "max_width": null,
            "min_height": null,
            "min_width": null,
            "object_fit": null,
            "object_position": null,
            "order": null,
            "overflow": null,
            "overflow_x": null,
            "overflow_y": null,
            "padding": null,
            "right": null,
            "top": null,
            "visibility": null,
            "width": null
          }
        },
        "2bfdb7cec4164fe5af35a45681f5bf6b": {
          "model_module": "@jupyter-widgets/controls",
          "model_name": "DescriptionStyleModel",
          "model_module_version": "1.5.0",
          "state": {
            "_model_module": "@jupyter-widgets/controls",
            "_model_module_version": "1.5.0",
            "_model_name": "DescriptionStyleModel",
            "_view_count": null,
            "_view_module": "@jupyter-widgets/base",
            "_view_module_version": "1.2.0",
            "_view_name": "StyleView",
            "description_width": ""
          }
        },
        "c36c00b0d12848d69022d715b3611a7d": {
          "model_module": "@jupyter-widgets/controls",
          "model_name": "HBoxModel",
          "model_module_version": "1.5.0",
          "state": {
            "_dom_classes": [],
            "_model_module": "@jupyter-widgets/controls",
            "_model_module_version": "1.5.0",
            "_model_name": "HBoxModel",
            "_view_count": null,
            "_view_module": "@jupyter-widgets/controls",
            "_view_module_version": "1.5.0",
            "_view_name": "HBoxView",
            "box_style": "",
            "children": [
              "IPY_MODEL_e25c268c80e94951a11586df5f05f4d0",
              "IPY_MODEL_eac81650e50b428e8d0017248c65f587",
              "IPY_MODEL_90b37fe1ac7d44cf846f4fbf91fbb94c"
            ],
            "layout": "IPY_MODEL_834876590f38495785f102f13f224bf7"
          }
        },
        "e25c268c80e94951a11586df5f05f4d0": {
          "model_module": "@jupyter-widgets/controls",
          "model_name": "HTMLModel",
          "model_module_version": "1.5.0",
          "state": {
            "_dom_classes": [],
            "_model_module": "@jupyter-widgets/controls",
            "_model_module_version": "1.5.0",
            "_model_name": "HTMLModel",
            "_view_count": null,
            "_view_module": "@jupyter-widgets/controls",
            "_view_module_version": "1.5.0",
            "_view_name": "HTMLView",
            "description": "",
            "description_tooltip": null,
            "layout": "IPY_MODEL_07676923c8b64d0e8886681fea3228e7",
            "placeholder": "​",
            "style": "IPY_MODEL_73a18104f2484eeeb9f9cc7a39b09251",
            "value": "tokenizer_config.json: 100%"
          }
        },
        "eac81650e50b428e8d0017248c65f587": {
          "model_module": "@jupyter-widgets/controls",
          "model_name": "FloatProgressModel",
          "model_module_version": "1.5.0",
          "state": {
            "_dom_classes": [],
            "_model_module": "@jupyter-widgets/controls",
            "_model_module_version": "1.5.0",
            "_model_name": "FloatProgressModel",
            "_view_count": null,
            "_view_module": "@jupyter-widgets/controls",
            "_view_module_version": "1.5.0",
            "_view_name": "ProgressView",
            "bar_style": "success",
            "description": "",
            "description_tooltip": null,
            "layout": "IPY_MODEL_8181423ac0204d9c9cbf4d33ca211227",
            "max": 26,
            "min": 0,
            "orientation": "horizontal",
            "style": "IPY_MODEL_d08c3cc97ad841aead2da0bf2c3988fb",
            "value": 26
          }
        },
        "90b37fe1ac7d44cf846f4fbf91fbb94c": {
          "model_module": "@jupyter-widgets/controls",
          "model_name": "HTMLModel",
          "model_module_version": "1.5.0",
          "state": {
            "_dom_classes": [],
            "_model_module": "@jupyter-widgets/controls",
            "_model_module_version": "1.5.0",
            "_model_name": "HTMLModel",
            "_view_count": null,
            "_view_module": "@jupyter-widgets/controls",
            "_view_module_version": "1.5.0",
            "_view_name": "HTMLView",
            "description": "",
            "description_tooltip": null,
            "layout": "IPY_MODEL_fac9d2f0ecbd46eb8851c63acf283465",
            "placeholder": "​",
            "style": "IPY_MODEL_9c05f1f93a2c4da490ea54836e187f4c",
            "value": " 26.0/26.0 [00:00&lt;00:00, 2.33kB/s]"
          }
        },
        "834876590f38495785f102f13f224bf7": {
          "model_module": "@jupyter-widgets/base",
          "model_name": "LayoutModel",
          "model_module_version": "1.2.0",
          "state": {
            "_model_module": "@jupyter-widgets/base",
            "_model_module_version": "1.2.0",
            "_model_name": "LayoutModel",
            "_view_count": null,
            "_view_module": "@jupyter-widgets/base",
            "_view_module_version": "1.2.0",
            "_view_name": "LayoutView",
            "align_content": null,
            "align_items": null,
            "align_self": null,
            "border": null,
            "bottom": null,
            "display": null,
            "flex": null,
            "flex_flow": null,
            "grid_area": null,
            "grid_auto_columns": null,
            "grid_auto_flow": null,
            "grid_auto_rows": null,
            "grid_column": null,
            "grid_gap": null,
            "grid_row": null,
            "grid_template_areas": null,
            "grid_template_columns": null,
            "grid_template_rows": null,
            "height": null,
            "justify_content": null,
            "justify_items": null,
            "left": null,
            "margin": null,
            "max_height": null,
            "max_width": null,
            "min_height": null,
            "min_width": null,
            "object_fit": null,
            "object_position": null,
            "order": null,
            "overflow": null,
            "overflow_x": null,
            "overflow_y": null,
            "padding": null,
            "right": null,
            "top": null,
            "visibility": null,
            "width": null
          }
        },
        "07676923c8b64d0e8886681fea3228e7": {
          "model_module": "@jupyter-widgets/base",
          "model_name": "LayoutModel",
          "model_module_version": "1.2.0",
          "state": {
            "_model_module": "@jupyter-widgets/base",
            "_model_module_version": "1.2.0",
            "_model_name": "LayoutModel",
            "_view_count": null,
            "_view_module": "@jupyter-widgets/base",
            "_view_module_version": "1.2.0",
            "_view_name": "LayoutView",
            "align_content": null,
            "align_items": null,
            "align_self": null,
            "border": null,
            "bottom": null,
            "display": null,
            "flex": null,
            "flex_flow": null,
            "grid_area": null,
            "grid_auto_columns": null,
            "grid_auto_flow": null,
            "grid_auto_rows": null,
            "grid_column": null,
            "grid_gap": null,
            "grid_row": null,
            "grid_template_areas": null,
            "grid_template_columns": null,
            "grid_template_rows": null,
            "height": null,
            "justify_content": null,
            "justify_items": null,
            "left": null,
            "margin": null,
            "max_height": null,
            "max_width": null,
            "min_height": null,
            "min_width": null,
            "object_fit": null,
            "object_position": null,
            "order": null,
            "overflow": null,
            "overflow_x": null,
            "overflow_y": null,
            "padding": null,
            "right": null,
            "top": null,
            "visibility": null,
            "width": null
          }
        },
        "73a18104f2484eeeb9f9cc7a39b09251": {
          "model_module": "@jupyter-widgets/controls",
          "model_name": "DescriptionStyleModel",
          "model_module_version": "1.5.0",
          "state": {
            "_model_module": "@jupyter-widgets/controls",
            "_model_module_version": "1.5.0",
            "_model_name": "DescriptionStyleModel",
            "_view_count": null,
            "_view_module": "@jupyter-widgets/base",
            "_view_module_version": "1.2.0",
            "_view_name": "StyleView",
            "description_width": ""
          }
        },
        "8181423ac0204d9c9cbf4d33ca211227": {
          "model_module": "@jupyter-widgets/base",
          "model_name": "LayoutModel",
          "model_module_version": "1.2.0",
          "state": {
            "_model_module": "@jupyter-widgets/base",
            "_model_module_version": "1.2.0",
            "_model_name": "LayoutModel",
            "_view_count": null,
            "_view_module": "@jupyter-widgets/base",
            "_view_module_version": "1.2.0",
            "_view_name": "LayoutView",
            "align_content": null,
            "align_items": null,
            "align_self": null,
            "border": null,
            "bottom": null,
            "display": null,
            "flex": null,
            "flex_flow": null,
            "grid_area": null,
            "grid_auto_columns": null,
            "grid_auto_flow": null,
            "grid_auto_rows": null,
            "grid_column": null,
            "grid_gap": null,
            "grid_row": null,
            "grid_template_areas": null,
            "grid_template_columns": null,
            "grid_template_rows": null,
            "height": null,
            "justify_content": null,
            "justify_items": null,
            "left": null,
            "margin": null,
            "max_height": null,
            "max_width": null,
            "min_height": null,
            "min_width": null,
            "object_fit": null,
            "object_position": null,
            "order": null,
            "overflow": null,
            "overflow_x": null,
            "overflow_y": null,
            "padding": null,
            "right": null,
            "top": null,
            "visibility": null,
            "width": null
          }
        },
        "d08c3cc97ad841aead2da0bf2c3988fb": {
          "model_module": "@jupyter-widgets/controls",
          "model_name": "ProgressStyleModel",
          "model_module_version": "1.5.0",
          "state": {
            "_model_module": "@jupyter-widgets/controls",
            "_model_module_version": "1.5.0",
            "_model_name": "ProgressStyleModel",
            "_view_count": null,
            "_view_module": "@jupyter-widgets/base",
            "_view_module_version": "1.2.0",
            "_view_name": "StyleView",
            "bar_color": null,
            "description_width": ""
          }
        },
        "fac9d2f0ecbd46eb8851c63acf283465": {
          "model_module": "@jupyter-widgets/base",
          "model_name": "LayoutModel",
          "model_module_version": "1.2.0",
          "state": {
            "_model_module": "@jupyter-widgets/base",
            "_model_module_version": "1.2.0",
            "_model_name": "LayoutModel",
            "_view_count": null,
            "_view_module": "@jupyter-widgets/base",
            "_view_module_version": "1.2.0",
            "_view_name": "LayoutView",
            "align_content": null,
            "align_items": null,
            "align_self": null,
            "border": null,
            "bottom": null,
            "display": null,
            "flex": null,
            "flex_flow": null,
            "grid_area": null,
            "grid_auto_columns": null,
            "grid_auto_flow": null,
            "grid_auto_rows": null,
            "grid_column": null,
            "grid_gap": null,
            "grid_row": null,
            "grid_template_areas": null,
            "grid_template_columns": null,
            "grid_template_rows": null,
            "height": null,
            "justify_content": null,
            "justify_items": null,
            "left": null,
            "margin": null,
            "max_height": null,
            "max_width": null,
            "min_height": null,
            "min_width": null,
            "object_fit": null,
            "object_position": null,
            "order": null,
            "overflow": null,
            "overflow_x": null,
            "overflow_y": null,
            "padding": null,
            "right": null,
            "top": null,
            "visibility": null,
            "width": null
          }
        },
        "9c05f1f93a2c4da490ea54836e187f4c": {
          "model_module": "@jupyter-widgets/controls",
          "model_name": "DescriptionStyleModel",
          "model_module_version": "1.5.0",
          "state": {
            "_model_module": "@jupyter-widgets/controls",
            "_model_module_version": "1.5.0",
            "_model_name": "DescriptionStyleModel",
            "_view_count": null,
            "_view_module": "@jupyter-widgets/base",
            "_view_module_version": "1.2.0",
            "_view_name": "StyleView",
            "description_width": ""
          }
        },
        "dc90ea740ef044d7970547cf71a27df2": {
          "model_module": "@jupyter-widgets/controls",
          "model_name": "HBoxModel",
          "model_module_version": "1.5.0",
          "state": {
            "_dom_classes": [],
            "_model_module": "@jupyter-widgets/controls",
            "_model_module_version": "1.5.0",
            "_model_name": "HBoxModel",
            "_view_count": null,
            "_view_module": "@jupyter-widgets/controls",
            "_view_module_version": "1.5.0",
            "_view_name": "HBoxView",
            "box_style": "",
            "children": [
              "IPY_MODEL_f8275607c211455cad505d2fb8714eef",
              "IPY_MODEL_e67432e6b23b4b34a511f5e6b41775f8",
              "IPY_MODEL_3313847c38b24065b6b5b73760c8cc07"
            ],
            "layout": "IPY_MODEL_ae0a8ffe227d4919939a784fee5fa385"
          }
        },
        "f8275607c211455cad505d2fb8714eef": {
          "model_module": "@jupyter-widgets/controls",
          "model_name": "HTMLModel",
          "model_module_version": "1.5.0",
          "state": {
            "_dom_classes": [],
            "_model_module": "@jupyter-widgets/controls",
            "_model_module_version": "1.5.0",
            "_model_name": "HTMLModel",
            "_view_count": null,
            "_view_module": "@jupyter-widgets/controls",
            "_view_module_version": "1.5.0",
            "_view_name": "HTMLView",
            "description": "",
            "description_tooltip": null,
            "layout": "IPY_MODEL_31d521a5a5ee4fd7aec93e7255b828fc",
            "placeholder": "​",
            "style": "IPY_MODEL_5621f9496c2a423e97562d7a206ec4d5",
            "value": "vocab.json: 100%"
          }
        },
        "e67432e6b23b4b34a511f5e6b41775f8": {
          "model_module": "@jupyter-widgets/controls",
          "model_name": "FloatProgressModel",
          "model_module_version": "1.5.0",
          "state": {
            "_dom_classes": [],
            "_model_module": "@jupyter-widgets/controls",
            "_model_module_version": "1.5.0",
            "_model_name": "FloatProgressModel",
            "_view_count": null,
            "_view_module": "@jupyter-widgets/controls",
            "_view_module_version": "1.5.0",
            "_view_name": "ProgressView",
            "bar_style": "success",
            "description": "",
            "description_tooltip": null,
            "layout": "IPY_MODEL_2a04cba5a983441a8f4a32aee249c89d",
            "max": 1042301,
            "min": 0,
            "orientation": "horizontal",
            "style": "IPY_MODEL_a0bdf596026d49388bf4b969c7b5d343",
            "value": 1042301
          }
        },
        "3313847c38b24065b6b5b73760c8cc07": {
          "model_module": "@jupyter-widgets/controls",
          "model_name": "HTMLModel",
          "model_module_version": "1.5.0",
          "state": {
            "_dom_classes": [],
            "_model_module": "@jupyter-widgets/controls",
            "_model_module_version": "1.5.0",
            "_model_name": "HTMLModel",
            "_view_count": null,
            "_view_module": "@jupyter-widgets/controls",
            "_view_module_version": "1.5.0",
            "_view_name": "HTMLView",
            "description": "",
            "description_tooltip": null,
            "layout": "IPY_MODEL_103ae5390b534b21bc59cc576faa82fa",
            "placeholder": "​",
            "style": "IPY_MODEL_9fe62442bf1c4025b623e5278597c6dc",
            "value": " 1.04M/1.04M [00:00&lt;00:00, 13.9MB/s]"
          }
        },
        "ae0a8ffe227d4919939a784fee5fa385": {
          "model_module": "@jupyter-widgets/base",
          "model_name": "LayoutModel",
          "model_module_version": "1.2.0",
          "state": {
            "_model_module": "@jupyter-widgets/base",
            "_model_module_version": "1.2.0",
            "_model_name": "LayoutModel",
            "_view_count": null,
            "_view_module": "@jupyter-widgets/base",
            "_view_module_version": "1.2.0",
            "_view_name": "LayoutView",
            "align_content": null,
            "align_items": null,
            "align_self": null,
            "border": null,
            "bottom": null,
            "display": null,
            "flex": null,
            "flex_flow": null,
            "grid_area": null,
            "grid_auto_columns": null,
            "grid_auto_flow": null,
            "grid_auto_rows": null,
            "grid_column": null,
            "grid_gap": null,
            "grid_row": null,
            "grid_template_areas": null,
            "grid_template_columns": null,
            "grid_template_rows": null,
            "height": null,
            "justify_content": null,
            "justify_items": null,
            "left": null,
            "margin": null,
            "max_height": null,
            "max_width": null,
            "min_height": null,
            "min_width": null,
            "object_fit": null,
            "object_position": null,
            "order": null,
            "overflow": null,
            "overflow_x": null,
            "overflow_y": null,
            "padding": null,
            "right": null,
            "top": null,
            "visibility": null,
            "width": null
          }
        },
        "31d521a5a5ee4fd7aec93e7255b828fc": {
          "model_module": "@jupyter-widgets/base",
          "model_name": "LayoutModel",
          "model_module_version": "1.2.0",
          "state": {
            "_model_module": "@jupyter-widgets/base",
            "_model_module_version": "1.2.0",
            "_model_name": "LayoutModel",
            "_view_count": null,
            "_view_module": "@jupyter-widgets/base",
            "_view_module_version": "1.2.0",
            "_view_name": "LayoutView",
            "align_content": null,
            "align_items": null,
            "align_self": null,
            "border": null,
            "bottom": null,
            "display": null,
            "flex": null,
            "flex_flow": null,
            "grid_area": null,
            "grid_auto_columns": null,
            "grid_auto_flow": null,
            "grid_auto_rows": null,
            "grid_column": null,
            "grid_gap": null,
            "grid_row": null,
            "grid_template_areas": null,
            "grid_template_columns": null,
            "grid_template_rows": null,
            "height": null,
            "justify_content": null,
            "justify_items": null,
            "left": null,
            "margin": null,
            "max_height": null,
            "max_width": null,
            "min_height": null,
            "min_width": null,
            "object_fit": null,
            "object_position": null,
            "order": null,
            "overflow": null,
            "overflow_x": null,
            "overflow_y": null,
            "padding": null,
            "right": null,
            "top": null,
            "visibility": null,
            "width": null
          }
        },
        "5621f9496c2a423e97562d7a206ec4d5": {
          "model_module": "@jupyter-widgets/controls",
          "model_name": "DescriptionStyleModel",
          "model_module_version": "1.5.0",
          "state": {
            "_model_module": "@jupyter-widgets/controls",
            "_model_module_version": "1.5.0",
            "_model_name": "DescriptionStyleModel",
            "_view_count": null,
            "_view_module": "@jupyter-widgets/base",
            "_view_module_version": "1.2.0",
            "_view_name": "StyleView",
            "description_width": ""
          }
        },
        "2a04cba5a983441a8f4a32aee249c89d": {
          "model_module": "@jupyter-widgets/base",
          "model_name": "LayoutModel",
          "model_module_version": "1.2.0",
          "state": {
            "_model_module": "@jupyter-widgets/base",
            "_model_module_version": "1.2.0",
            "_model_name": "LayoutModel",
            "_view_count": null,
            "_view_module": "@jupyter-widgets/base",
            "_view_module_version": "1.2.0",
            "_view_name": "LayoutView",
            "align_content": null,
            "align_items": null,
            "align_self": null,
            "border": null,
            "bottom": null,
            "display": null,
            "flex": null,
            "flex_flow": null,
            "grid_area": null,
            "grid_auto_columns": null,
            "grid_auto_flow": null,
            "grid_auto_rows": null,
            "grid_column": null,
            "grid_gap": null,
            "grid_row": null,
            "grid_template_areas": null,
            "grid_template_columns": null,
            "grid_template_rows": null,
            "height": null,
            "justify_content": null,
            "justify_items": null,
            "left": null,
            "margin": null,
            "max_height": null,
            "max_width": null,
            "min_height": null,
            "min_width": null,
            "object_fit": null,
            "object_position": null,
            "order": null,
            "overflow": null,
            "overflow_x": null,
            "overflow_y": null,
            "padding": null,
            "right": null,
            "top": null,
            "visibility": null,
            "width": null
          }
        },
        "a0bdf596026d49388bf4b969c7b5d343": {
          "model_module": "@jupyter-widgets/controls",
          "model_name": "ProgressStyleModel",
          "model_module_version": "1.5.0",
          "state": {
            "_model_module": "@jupyter-widgets/controls",
            "_model_module_version": "1.5.0",
            "_model_name": "ProgressStyleModel",
            "_view_count": null,
            "_view_module": "@jupyter-widgets/base",
            "_view_module_version": "1.2.0",
            "_view_name": "StyleView",
            "bar_color": null,
            "description_width": ""
          }
        },
        "103ae5390b534b21bc59cc576faa82fa": {
          "model_module": "@jupyter-widgets/base",
          "model_name": "LayoutModel",
          "model_module_version": "1.2.0",
          "state": {
            "_model_module": "@jupyter-widgets/base",
            "_model_module_version": "1.2.0",
            "_model_name": "LayoutModel",
            "_view_count": null,
            "_view_module": "@jupyter-widgets/base",
            "_view_module_version": "1.2.0",
            "_view_name": "LayoutView",
            "align_content": null,
            "align_items": null,
            "align_self": null,
            "border": null,
            "bottom": null,
            "display": null,
            "flex": null,
            "flex_flow": null,
            "grid_area": null,
            "grid_auto_columns": null,
            "grid_auto_flow": null,
            "grid_auto_rows": null,
            "grid_column": null,
            "grid_gap": null,
            "grid_row": null,
            "grid_template_areas": null,
            "grid_template_columns": null,
            "grid_template_rows": null,
            "height": null,
            "justify_content": null,
            "justify_items": null,
            "left": null,
            "margin": null,
            "max_height": null,
            "max_width": null,
            "min_height": null,
            "min_width": null,
            "object_fit": null,
            "object_position": null,
            "order": null,
            "overflow": null,
            "overflow_x": null,
            "overflow_y": null,
            "padding": null,
            "right": null,
            "top": null,
            "visibility": null,
            "width": null
          }
        },
        "9fe62442bf1c4025b623e5278597c6dc": {
          "model_module": "@jupyter-widgets/controls",
          "model_name": "DescriptionStyleModel",
          "model_module_version": "1.5.0",
          "state": {
            "_model_module": "@jupyter-widgets/controls",
            "_model_module_version": "1.5.0",
            "_model_name": "DescriptionStyleModel",
            "_view_count": null,
            "_view_module": "@jupyter-widgets/base",
            "_view_module_version": "1.2.0",
            "_view_name": "StyleView",
            "description_width": ""
          }
        },
        "0eb45b74752e4a42acb19e360b161b9a": {
          "model_module": "@jupyter-widgets/controls",
          "model_name": "HBoxModel",
          "model_module_version": "1.5.0",
          "state": {
            "_dom_classes": [],
            "_model_module": "@jupyter-widgets/controls",
            "_model_module_version": "1.5.0",
            "_model_name": "HBoxModel",
            "_view_count": null,
            "_view_module": "@jupyter-widgets/controls",
            "_view_module_version": "1.5.0",
            "_view_name": "HBoxView",
            "box_style": "",
            "children": [
              "IPY_MODEL_d0fe88473ec64ef98c3110dda1e65023",
              "IPY_MODEL_e18c32ccce5947dd8be437629ae58000",
              "IPY_MODEL_401f28e9d1a445daa324392f7dd2fb66"
            ],
            "layout": "IPY_MODEL_9a5728b5dc1e4273b19245148bf717cf"
          }
        },
        "d0fe88473ec64ef98c3110dda1e65023": {
          "model_module": "@jupyter-widgets/controls",
          "model_name": "HTMLModel",
          "model_module_version": "1.5.0",
          "state": {
            "_dom_classes": [],
            "_model_module": "@jupyter-widgets/controls",
            "_model_module_version": "1.5.0",
            "_model_name": "HTMLModel",
            "_view_count": null,
            "_view_module": "@jupyter-widgets/controls",
            "_view_module_version": "1.5.0",
            "_view_name": "HTMLView",
            "description": "",
            "description_tooltip": null,
            "layout": "IPY_MODEL_6e5723bfdefc428aa2315b14cf65d3f3",
            "placeholder": "​",
            "style": "IPY_MODEL_671f65c971b740aea3575a922aa1e819",
            "value": "merges.txt: 100%"
          }
        },
        "e18c32ccce5947dd8be437629ae58000": {
          "model_module": "@jupyter-widgets/controls",
          "model_name": "FloatProgressModel",
          "model_module_version": "1.5.0",
          "state": {
            "_dom_classes": [],
            "_model_module": "@jupyter-widgets/controls",
            "_model_module_version": "1.5.0",
            "_model_name": "FloatProgressModel",
            "_view_count": null,
            "_view_module": "@jupyter-widgets/controls",
            "_view_module_version": "1.5.0",
            "_view_name": "ProgressView",
            "bar_style": "success",
            "description": "",
            "description_tooltip": null,
            "layout": "IPY_MODEL_1ae5d1e1d0bc43e29d41bb1037b40bea",
            "max": 456318,
            "min": 0,
            "orientation": "horizontal",
            "style": "IPY_MODEL_65c812c17e9843aa9859a76c7d3dec6e",
            "value": 456318
          }
        },
        "401f28e9d1a445daa324392f7dd2fb66": {
          "model_module": "@jupyter-widgets/controls",
          "model_name": "HTMLModel",
          "model_module_version": "1.5.0",
          "state": {
            "_dom_classes": [],
            "_model_module": "@jupyter-widgets/controls",
            "_model_module_version": "1.5.0",
            "_model_name": "HTMLModel",
            "_view_count": null,
            "_view_module": "@jupyter-widgets/controls",
            "_view_module_version": "1.5.0",
            "_view_name": "HTMLView",
            "description": "",
            "description_tooltip": null,
            "layout": "IPY_MODEL_6897fcc982f34333bcdbcb45ff13cd69",
            "placeholder": "​",
            "style": "IPY_MODEL_2554c10ac4d149aeb2134f58a80af5ed",
            "value": " 456k/456k [00:00&lt;00:00, 32.1MB/s]"
          }
        },
        "9a5728b5dc1e4273b19245148bf717cf": {
          "model_module": "@jupyter-widgets/base",
          "model_name": "LayoutModel",
          "model_module_version": "1.2.0",
          "state": {
            "_model_module": "@jupyter-widgets/base",
            "_model_module_version": "1.2.0",
            "_model_name": "LayoutModel",
            "_view_count": null,
            "_view_module": "@jupyter-widgets/base",
            "_view_module_version": "1.2.0",
            "_view_name": "LayoutView",
            "align_content": null,
            "align_items": null,
            "align_self": null,
            "border": null,
            "bottom": null,
            "display": null,
            "flex": null,
            "flex_flow": null,
            "grid_area": null,
            "grid_auto_columns": null,
            "grid_auto_flow": null,
            "grid_auto_rows": null,
            "grid_column": null,
            "grid_gap": null,
            "grid_row": null,
            "grid_template_areas": null,
            "grid_template_columns": null,
            "grid_template_rows": null,
            "height": null,
            "justify_content": null,
            "justify_items": null,
            "left": null,
            "margin": null,
            "max_height": null,
            "max_width": null,
            "min_height": null,
            "min_width": null,
            "object_fit": null,
            "object_position": null,
            "order": null,
            "overflow": null,
            "overflow_x": null,
            "overflow_y": null,
            "padding": null,
            "right": null,
            "top": null,
            "visibility": null,
            "width": null
          }
        },
        "6e5723bfdefc428aa2315b14cf65d3f3": {
          "model_module": "@jupyter-widgets/base",
          "model_name": "LayoutModel",
          "model_module_version": "1.2.0",
          "state": {
            "_model_module": "@jupyter-widgets/base",
            "_model_module_version": "1.2.0",
            "_model_name": "LayoutModel",
            "_view_count": null,
            "_view_module": "@jupyter-widgets/base",
            "_view_module_version": "1.2.0",
            "_view_name": "LayoutView",
            "align_content": null,
            "align_items": null,
            "align_self": null,
            "border": null,
            "bottom": null,
            "display": null,
            "flex": null,
            "flex_flow": null,
            "grid_area": null,
            "grid_auto_columns": null,
            "grid_auto_flow": null,
            "grid_auto_rows": null,
            "grid_column": null,
            "grid_gap": null,
            "grid_row": null,
            "grid_template_areas": null,
            "grid_template_columns": null,
            "grid_template_rows": null,
            "height": null,
            "justify_content": null,
            "justify_items": null,
            "left": null,
            "margin": null,
            "max_height": null,
            "max_width": null,
            "min_height": null,
            "min_width": null,
            "object_fit": null,
            "object_position": null,
            "order": null,
            "overflow": null,
            "overflow_x": null,
            "overflow_y": null,
            "padding": null,
            "right": null,
            "top": null,
            "visibility": null,
            "width": null
          }
        },
        "671f65c971b740aea3575a922aa1e819": {
          "model_module": "@jupyter-widgets/controls",
          "model_name": "DescriptionStyleModel",
          "model_module_version": "1.5.0",
          "state": {
            "_model_module": "@jupyter-widgets/controls",
            "_model_module_version": "1.5.0",
            "_model_name": "DescriptionStyleModel",
            "_view_count": null,
            "_view_module": "@jupyter-widgets/base",
            "_view_module_version": "1.2.0",
            "_view_name": "StyleView",
            "description_width": ""
          }
        },
        "1ae5d1e1d0bc43e29d41bb1037b40bea": {
          "model_module": "@jupyter-widgets/base",
          "model_name": "LayoutModel",
          "model_module_version": "1.2.0",
          "state": {
            "_model_module": "@jupyter-widgets/base",
            "_model_module_version": "1.2.0",
            "_model_name": "LayoutModel",
            "_view_count": null,
            "_view_module": "@jupyter-widgets/base",
            "_view_module_version": "1.2.0",
            "_view_name": "LayoutView",
            "align_content": null,
            "align_items": null,
            "align_self": null,
            "border": null,
            "bottom": null,
            "display": null,
            "flex": null,
            "flex_flow": null,
            "grid_area": null,
            "grid_auto_columns": null,
            "grid_auto_flow": null,
            "grid_auto_rows": null,
            "grid_column": null,
            "grid_gap": null,
            "grid_row": null,
            "grid_template_areas": null,
            "grid_template_columns": null,
            "grid_template_rows": null,
            "height": null,
            "justify_content": null,
            "justify_items": null,
            "left": null,
            "margin": null,
            "max_height": null,
            "max_width": null,
            "min_height": null,
            "min_width": null,
            "object_fit": null,
            "object_position": null,
            "order": null,
            "overflow": null,
            "overflow_x": null,
            "overflow_y": null,
            "padding": null,
            "right": null,
            "top": null,
            "visibility": null,
            "width": null
          }
        },
        "65c812c17e9843aa9859a76c7d3dec6e": {
          "model_module": "@jupyter-widgets/controls",
          "model_name": "ProgressStyleModel",
          "model_module_version": "1.5.0",
          "state": {
            "_model_module": "@jupyter-widgets/controls",
            "_model_module_version": "1.5.0",
            "_model_name": "ProgressStyleModel",
            "_view_count": null,
            "_view_module": "@jupyter-widgets/base",
            "_view_module_version": "1.2.0",
            "_view_name": "StyleView",
            "bar_color": null,
            "description_width": ""
          }
        },
        "6897fcc982f34333bcdbcb45ff13cd69": {
          "model_module": "@jupyter-widgets/base",
          "model_name": "LayoutModel",
          "model_module_version": "1.2.0",
          "state": {
            "_model_module": "@jupyter-widgets/base",
            "_model_module_version": "1.2.0",
            "_model_name": "LayoutModel",
            "_view_count": null,
            "_view_module": "@jupyter-widgets/base",
            "_view_module_version": "1.2.0",
            "_view_name": "LayoutView",
            "align_content": null,
            "align_items": null,
            "align_self": null,
            "border": null,
            "bottom": null,
            "display": null,
            "flex": null,
            "flex_flow": null,
            "grid_area": null,
            "grid_auto_columns": null,
            "grid_auto_flow": null,
            "grid_auto_rows": null,
            "grid_column": null,
            "grid_gap": null,
            "grid_row": null,
            "grid_template_areas": null,
            "grid_template_columns": null,
            "grid_template_rows": null,
            "height": null,
            "justify_content": null,
            "justify_items": null,
            "left": null,
            "margin": null,
            "max_height": null,
            "max_width": null,
            "min_height": null,
            "min_width": null,
            "object_fit": null,
            "object_position": null,
            "order": null,
            "overflow": null,
            "overflow_x": null,
            "overflow_y": null,
            "padding": null,
            "right": null,
            "top": null,
            "visibility": null,
            "width": null
          }
        },
        "2554c10ac4d149aeb2134f58a80af5ed": {
          "model_module": "@jupyter-widgets/controls",
          "model_name": "DescriptionStyleModel",
          "model_module_version": "1.5.0",
          "state": {
            "_model_module": "@jupyter-widgets/controls",
            "_model_module_version": "1.5.0",
            "_model_name": "DescriptionStyleModel",
            "_view_count": null,
            "_view_module": "@jupyter-widgets/base",
            "_view_module_version": "1.2.0",
            "_view_name": "StyleView",
            "description_width": ""
          }
        },
        "ecbfc1530c444b73bcb3f0e48383a988": {
          "model_module": "@jupyter-widgets/controls",
          "model_name": "HBoxModel",
          "model_module_version": "1.5.0",
          "state": {
            "_dom_classes": [],
            "_model_module": "@jupyter-widgets/controls",
            "_model_module_version": "1.5.0",
            "_model_name": "HBoxModel",
            "_view_count": null,
            "_view_module": "@jupyter-widgets/controls",
            "_view_module_version": "1.5.0",
            "_view_name": "HBoxView",
            "box_style": "",
            "children": [
              "IPY_MODEL_04b3119a97164bed8ef649dbeace2ce7",
              "IPY_MODEL_ab1389a22c474cc2b939465d39e45e53",
              "IPY_MODEL_09a04473d2534222afbe87fbdb03b2c0"
            ],
            "layout": "IPY_MODEL_95d86253c86c462480a7def6eb4774cd"
          }
        },
        "04b3119a97164bed8ef649dbeace2ce7": {
          "model_module": "@jupyter-widgets/controls",
          "model_name": "HTMLModel",
          "model_module_version": "1.5.0",
          "state": {
            "_dom_classes": [],
            "_model_module": "@jupyter-widgets/controls",
            "_model_module_version": "1.5.0",
            "_model_name": "HTMLModel",
            "_view_count": null,
            "_view_module": "@jupyter-widgets/controls",
            "_view_module_version": "1.5.0",
            "_view_name": "HTMLView",
            "description": "",
            "description_tooltip": null,
            "layout": "IPY_MODEL_442435e390874c51a2744743d06d85a5",
            "placeholder": "​",
            "style": "IPY_MODEL_09a3303ed01c4bb387f86f06967d46f8",
            "value": "tokenizer.json: 100%"
          }
        },
        "ab1389a22c474cc2b939465d39e45e53": {
          "model_module": "@jupyter-widgets/controls",
          "model_name": "FloatProgressModel",
          "model_module_version": "1.5.0",
          "state": {
            "_dom_classes": [],
            "_model_module": "@jupyter-widgets/controls",
            "_model_module_version": "1.5.0",
            "_model_name": "FloatProgressModel",
            "_view_count": null,
            "_view_module": "@jupyter-widgets/controls",
            "_view_module_version": "1.5.0",
            "_view_name": "ProgressView",
            "bar_style": "success",
            "description": "",
            "description_tooltip": null,
            "layout": "IPY_MODEL_794731afa7a34badab0decabdee8fe0b",
            "max": 1355256,
            "min": 0,
            "orientation": "horizontal",
            "style": "IPY_MODEL_5428e08c647f44acb5bb2f62b4074f00",
            "value": 1355256
          }
        },
        "09a04473d2534222afbe87fbdb03b2c0": {
          "model_module": "@jupyter-widgets/controls",
          "model_name": "HTMLModel",
          "model_module_version": "1.5.0",
          "state": {
            "_dom_classes": [],
            "_model_module": "@jupyter-widgets/controls",
            "_model_module_version": "1.5.0",
            "_model_name": "HTMLModel",
            "_view_count": null,
            "_view_module": "@jupyter-widgets/controls",
            "_view_module_version": "1.5.0",
            "_view_name": "HTMLView",
            "description": "",
            "description_tooltip": null,
            "layout": "IPY_MODEL_81465cfc31504118bae78582597546a5",
            "placeholder": "​",
            "style": "IPY_MODEL_594bd3cc0a8144479d4f86c78636f411",
            "value": " 1.36M/1.36M [00:00&lt;00:00, 6.29MB/s]"
          }
        },
        "95d86253c86c462480a7def6eb4774cd": {
          "model_module": "@jupyter-widgets/base",
          "model_name": "LayoutModel",
          "model_module_version": "1.2.0",
          "state": {
            "_model_module": "@jupyter-widgets/base",
            "_model_module_version": "1.2.0",
            "_model_name": "LayoutModel",
            "_view_count": null,
            "_view_module": "@jupyter-widgets/base",
            "_view_module_version": "1.2.0",
            "_view_name": "LayoutView",
            "align_content": null,
            "align_items": null,
            "align_self": null,
            "border": null,
            "bottom": null,
            "display": null,
            "flex": null,
            "flex_flow": null,
            "grid_area": null,
            "grid_auto_columns": null,
            "grid_auto_flow": null,
            "grid_auto_rows": null,
            "grid_column": null,
            "grid_gap": null,
            "grid_row": null,
            "grid_template_areas": null,
            "grid_template_columns": null,
            "grid_template_rows": null,
            "height": null,
            "justify_content": null,
            "justify_items": null,
            "left": null,
            "margin": null,
            "max_height": null,
            "max_width": null,
            "min_height": null,
            "min_width": null,
            "object_fit": null,
            "object_position": null,
            "order": null,
            "overflow": null,
            "overflow_x": null,
            "overflow_y": null,
            "padding": null,
            "right": null,
            "top": null,
            "visibility": null,
            "width": null
          }
        },
        "442435e390874c51a2744743d06d85a5": {
          "model_module": "@jupyter-widgets/base",
          "model_name": "LayoutModel",
          "model_module_version": "1.2.0",
          "state": {
            "_model_module": "@jupyter-widgets/base",
            "_model_module_version": "1.2.0",
            "_model_name": "LayoutModel",
            "_view_count": null,
            "_view_module": "@jupyter-widgets/base",
            "_view_module_version": "1.2.0",
            "_view_name": "LayoutView",
            "align_content": null,
            "align_items": null,
            "align_self": null,
            "border": null,
            "bottom": null,
            "display": null,
            "flex": null,
            "flex_flow": null,
            "grid_area": null,
            "grid_auto_columns": null,
            "grid_auto_flow": null,
            "grid_auto_rows": null,
            "grid_column": null,
            "grid_gap": null,
            "grid_row": null,
            "grid_template_areas": null,
            "grid_template_columns": null,
            "grid_template_rows": null,
            "height": null,
            "justify_content": null,
            "justify_items": null,
            "left": null,
            "margin": null,
            "max_height": null,
            "max_width": null,
            "min_height": null,
            "min_width": null,
            "object_fit": null,
            "object_position": null,
            "order": null,
            "overflow": null,
            "overflow_x": null,
            "overflow_y": null,
            "padding": null,
            "right": null,
            "top": null,
            "visibility": null,
            "width": null
          }
        },
        "09a3303ed01c4bb387f86f06967d46f8": {
          "model_module": "@jupyter-widgets/controls",
          "model_name": "DescriptionStyleModel",
          "model_module_version": "1.5.0",
          "state": {
            "_model_module": "@jupyter-widgets/controls",
            "_model_module_version": "1.5.0",
            "_model_name": "DescriptionStyleModel",
            "_view_count": null,
            "_view_module": "@jupyter-widgets/base",
            "_view_module_version": "1.2.0",
            "_view_name": "StyleView",
            "description_width": ""
          }
        },
        "794731afa7a34badab0decabdee8fe0b": {
          "model_module": "@jupyter-widgets/base",
          "model_name": "LayoutModel",
          "model_module_version": "1.2.0",
          "state": {
            "_model_module": "@jupyter-widgets/base",
            "_model_module_version": "1.2.0",
            "_model_name": "LayoutModel",
            "_view_count": null,
            "_view_module": "@jupyter-widgets/base",
            "_view_module_version": "1.2.0",
            "_view_name": "LayoutView",
            "align_content": null,
            "align_items": null,
            "align_self": null,
            "border": null,
            "bottom": null,
            "display": null,
            "flex": null,
            "flex_flow": null,
            "grid_area": null,
            "grid_auto_columns": null,
            "grid_auto_flow": null,
            "grid_auto_rows": null,
            "grid_column": null,
            "grid_gap": null,
            "grid_row": null,
            "grid_template_areas": null,
            "grid_template_columns": null,
            "grid_template_rows": null,
            "height": null,
            "justify_content": null,
            "justify_items": null,
            "left": null,
            "margin": null,
            "max_height": null,
            "max_width": null,
            "min_height": null,
            "min_width": null,
            "object_fit": null,
            "object_position": null,
            "order": null,
            "overflow": null,
            "overflow_x": null,
            "overflow_y": null,
            "padding": null,
            "right": null,
            "top": null,
            "visibility": null,
            "width": null
          }
        },
        "5428e08c647f44acb5bb2f62b4074f00": {
          "model_module": "@jupyter-widgets/controls",
          "model_name": "ProgressStyleModel",
          "model_module_version": "1.5.0",
          "state": {
            "_model_module": "@jupyter-widgets/controls",
            "_model_module_version": "1.5.0",
            "_model_name": "ProgressStyleModel",
            "_view_count": null,
            "_view_module": "@jupyter-widgets/base",
            "_view_module_version": "1.2.0",
            "_view_name": "StyleView",
            "bar_color": null,
            "description_width": ""
          }
        },
        "81465cfc31504118bae78582597546a5": {
          "model_module": "@jupyter-widgets/base",
          "model_name": "LayoutModel",
          "model_module_version": "1.2.0",
          "state": {
            "_model_module": "@jupyter-widgets/base",
            "_model_module_version": "1.2.0",
            "_model_name": "LayoutModel",
            "_view_count": null,
            "_view_module": "@jupyter-widgets/base",
            "_view_module_version": "1.2.0",
            "_view_name": "LayoutView",
            "align_content": null,
            "align_items": null,
            "align_self": null,
            "border": null,
            "bottom": null,
            "display": null,
            "flex": null,
            "flex_flow": null,
            "grid_area": null,
            "grid_auto_columns": null,
            "grid_auto_flow": null,
            "grid_auto_rows": null,
            "grid_column": null,
            "grid_gap": null,
            "grid_row": null,
            "grid_template_areas": null,
            "grid_template_columns": null,
            "grid_template_rows": null,
            "height": null,
            "justify_content": null,
            "justify_items": null,
            "left": null,
            "margin": null,
            "max_height": null,
            "max_width": null,
            "min_height": null,
            "min_width": null,
            "object_fit": null,
            "object_position": null,
            "order": null,
            "overflow": null,
            "overflow_x": null,
            "overflow_y": null,
            "padding": null,
            "right": null,
            "top": null,
            "visibility": null,
            "width": null
          }
        },
        "594bd3cc0a8144479d4f86c78636f411": {
          "model_module": "@jupyter-widgets/controls",
          "model_name": "DescriptionStyleModel",
          "model_module_version": "1.5.0",
          "state": {
            "_model_module": "@jupyter-widgets/controls",
            "_model_module_version": "1.5.0",
            "_model_name": "DescriptionStyleModel",
            "_view_count": null,
            "_view_module": "@jupyter-widgets/base",
            "_view_module_version": "1.2.0",
            "_view_name": "StyleView",
            "description_width": ""
          }
        }
      }
    }
  },
  "cells": [
    {
      "cell_type": "markdown",
      "metadata": {
        "id": "view-in-github",
        "colab_type": "text"
      },
      "source": [
        "<a href=\"https://colab.research.google.com/github/zwimpee/cursivetransformer/blob/main/arena3_chapter1_transformer_interp.ipynb\" target=\"_parent\"><img src=\"https://colab.research.google.com/assets/colab-badge.svg\" alt=\"Open In Colab\"/></a>"
      ]
    },
    {
      "cell_type": "markdown",
      "source": [
        "# ARENA 3.0 Exercises and Notes\n",
        "\n",
        "Zach Wimpee\n",
        "\n",
        "This notebook serves to host the work I will be doing to get more up to speed with the technical details surrounding applying ME techniques to transformers. In particular, this notebook will be used as a kind of scratchpad for the related work I am doing which can be found in this notebook: https://github.com/zwimpee/cursivetransformer/blob/main/arena3_chapter1_transformer_interp.ipynb\n",
        "\n",
        "The exercises in this notebook originate from the following notebook: https://colab.research.google.com/drive/1gZdHsBL8Ljq7nSWJtxxlsI4JWHmllxxP?usp=sharing"
      ],
      "metadata": {
        "id": "Exvb8yaX9rny"
      }
    },
    {
      "cell_type": "markdown",
      "source": [
        "# [1.2] Intro to Mechanistic Interpretability: TransformerLens & induction circuits\n"
      ],
      "metadata": {
        "id": "XNkMsZEpM6jA"
      }
    },
    {
      "cell_type": "markdown",
      "metadata": {
        "id": "03JpEpAd2Elc"
      },
      "source": [
        "Colab: [exercises](https://colab.research.google.com/drive/1gZdHsBL8Ljq7nSWJtxxlsI4JWHmllxxP?usp=sharing) | [solutions](https://colab.research.google.com/drive/1TVHaqN7if-8aCmc06t8CAIaHUlhJ4ek7?usp=sharing)\n",
        "\n",
        "[Streamlit page](https://arena3-chapter1-transformer-interp.streamlit.app/[1.2]_Intro_to_Mech_Interp)\n",
        "\n",
        "Please send any problems / bugs on the `#errata` channel in the [Slack group](https://join.slack.com/t/arena-uk/shared_invite/zt-2noug8mpy-TRYbCnc3pzj7ITNrZIjKww), and ask any questions on the dedicated channels for this chapter of material."
      ]
    },
    {
      "cell_type": "markdown",
      "metadata": {
        "id": "DvzNe4Rx2Yqt"
      },
      "source": [
        "<img src=\"https://raw.githubusercontent.com/callummcdougall/computational-thread-art/master/example_images/misc/lens2.png\" width=\"350\">\n"
      ]
    },
    {
      "cell_type": "markdown",
      "metadata": {
        "id": "B_KIvEj9BatC"
      },
      "source": [
        "# Introduction"
      ]
    },
    {
      "cell_type": "markdown",
      "metadata": {
        "id": "6OmTCWiQhNm7"
      },
      "source": [
        "These pages are designed to get you introduced to the core concepts of mechanistic interpretability, via Neel Nanda's **TransformerLens** library.\n",
        "\n",
        "Most of the sections are constructed in the following way:\n",
        "\n",
        "1. A particular feature of TransformerLens is introduced.\n",
        "2. You are given an exercise, in which you have to apply the feature.\n",
        "\n",
        "The running theme of the exercises is **induction circuits**. Induction circuits are a particular type of circuit in a transformer, which can perform basic in-context learning. You should read the [corresponding section of Neel's glossary](https://dynalist.io/d/n2ZWtnoYHrU1s4vnFSAQ519J#z=_Jzi6YHRHKP1JziwdE02qdYZ), before continuing. This [LessWrong post](https://www.lesswrong.com/posts/TvrfY4c9eaGLeyDkE/induction-heads-illustrated) might also help; it contains some diagrams (like the one below) which walk through the induction mechanism step by step.\n",
        "\n",
        "Each exercise will have a difficulty and importance rating out of 5, as well as an estimated maximum time you should spend on these exercises and sometimes a short annotation. You should interpret the ratings & time estimates relatively (e.g. if you find yourself spending about 50% longer on the exercises than the time estimates, adjust accordingly). Please do skip exercises / look at solutions if you don't feel like they're important enough to be worth doing, and you'd rather get to the good stuff!\n"
      ]
    },
    {
      "cell_type": "markdown",
      "metadata": {
        "id": "XglOwgi1_6o5"
      },
      "source": [
        "<img src=\"https://raw.githubusercontent.com/callummcdougall/computational-thread-art/master/example_images/misc/kcomp_diagram.png\" width=\"1000\">\n"
      ]
    },
    {
      "cell_type": "markdown",
      "metadata": {
        "id": "iSm-jMXOBWGU"
      },
      "source": [
        "## Content & Learning Objectives\n"
      ]
    },
    {
      "cell_type": "markdown",
      "metadata": {
        "id": "xoglhcoRhNm9"
      },
      "source": [
        "#### 1️⃣ TransformerLens: Introduction\n",
        "\n",
        "This section is designed to get you up to speed with the TransformerLens library. You'll learn how to load and run models, and learn about the shared architecture template for all of these models (the latter of which should be familiar to you if you've already done the exercises that come before these, since many of the same design principles are followed).\n",
        "\n",
        "> ##### Learning objectives\n",
        ">\n",
        "> - Load and run a `HookedTransformer` model\n",
        "> - Understand the basic architecture of these models\n",
        "> - Use the model's tokenizer to convert text to tokens, and vice versa\n",
        "> - Know how to cache activations, and to access activations from the cache\n",
        "> - Use `circuitsvis` to visualise attention heads\n",
        "\n",
        "#### 2️⃣ Finding induction heads\n",
        "\n",
        "Here, you'll learn about induction heads, how they work and why they are important. You'll also learn how to identify them from the characteristic induction head stripe in their attention patterns when the model input is a repeating sequence.\n",
        "\n",
        "> ##### Learning objectives\n",
        ">\n",
        "> - Understand what induction heads are, and the algorithm they are implementing\n",
        "> - Inspect activation patterns to identify basic attention head patterns, and write your own functions to detect attention heads for you\n",
        "> - Identify induction heads by looking at the attention patterns produced from a repeating random sequence\n",
        "\n",
        "#### 3️⃣ TransformerLens: Hooks\n",
        "\n",
        "Next, you'll learn about hooks, which are a great feature of TransformerLens allowing you to access and intervene on activations within the model. We will mainly focus on the basics of hooks and using them to access activations (we'll mainly save the causal interventions for the later IOI exercises). You will also build some tools to perform logit attribution within your model, so you can identify which components are responsible for your model's performance on certain tasks.\n",
        "\n",
        "> ##### Learning objectives\n",
        ">\n",
        "> - Understand what hooks are, and how they are used in TransformerLens\n",
        "> - Use hooks to access activations, process the results, and write them to an external tensor\n",
        "> - Build tools to perform attribution, i.e. detecting which components of your model are responsible for performance on a given task\n",
        "> - Understand how hooks can be used to perform basic interventions like **ablation**\n",
        "\n",
        "#### 4️⃣ Reverse-engineering induction circuits\n",
        "\n",
        "Lastly, these exercises show you how you can reverse-engineer a circuit by looking directly at a transformer's weights (which can be considered a \"gold standard\" of interpretability; something not possible in every situation). You'll examine QK and OV circuits by multiplying through matrices (and learn how the FactoredMatrix class makes matrices like these much easier to analyse). You'll also look for evidence of composition between two induction heads, and once you've found it then you'll investigate the functionality of the full circuit formed from this composition.\n",
        "\n",
        "> ##### Learning objectives\n",
        ">\n",
        "> - Understand the difference between investigating a circuit by looking at activtion patterns, and reverse-engineering a circuit by looking directly at the weights\n",
        "> - Use the factored matrix class to inspect the QK and OV circuits within an induction circuit\n",
        "> - Perform further exploration of induction circuits: composition scores, and targeted ablations\n"
      ]
    },
    {
      "cell_type": "markdown",
      "metadata": {
        "id": "MwPFDFbFAQfd"
      },
      "source": [
        "## Setup (don't read, just run!)\n"
      ]
    },
    {
      "cell_type": "code",
      "execution_count": 1,
      "metadata": {
        "id": "G6mV_i4LAPuB",
        "colab": {
          "base_uri": "https://localhost:8080/"
        },
        "outputId": "362b9c15-d5b1-44b2-d0ba-5b7d25e1f556"
      },
      "outputs": [
        {
          "output_type": "stream",
          "name": "stdout",
          "text": [
            "Collecting transformer_lens\n",
            "  Downloading transformer_lens-2.6.0-py3-none-any.whl.metadata (12 kB)\n",
            "Requirement already satisfied: accelerate>=0.23.0 in /usr/local/lib/python3.10/dist-packages (from transformer_lens) (0.34.2)\n",
            "Collecting beartype<0.15.0,>=0.14.1 (from transformer_lens)\n",
            "  Downloading beartype-0.14.1-py3-none-any.whl.metadata (28 kB)\n",
            "Collecting better-abc<0.0.4,>=0.0.3 (from transformer_lens)\n",
            "  Downloading better_abc-0.0.3-py3-none-any.whl.metadata (1.4 kB)\n",
            "Collecting datasets>=2.7.1 (from transformer_lens)\n",
            "  Downloading datasets-3.0.0-py3-none-any.whl.metadata (19 kB)\n",
            "Requirement already satisfied: einops>=0.6.0 in /usr/local/lib/python3.10/dist-packages (from transformer_lens) (0.8.0)\n",
            "Collecting fancy-einsum>=0.0.3 (from transformer_lens)\n",
            "  Downloading fancy_einsum-0.0.3-py3-none-any.whl.metadata (1.2 kB)\n",
            "Collecting jaxtyping>=0.2.11 (from transformer_lens)\n",
            "  Downloading jaxtyping-0.2.34-py3-none-any.whl.metadata (6.4 kB)\n",
            "Requirement already satisfied: numpy>=1.24 in /usr/local/lib/python3.10/dist-packages (from transformer_lens) (1.26.4)\n",
            "Requirement already satisfied: pandas>=1.1.5 in /usr/local/lib/python3.10/dist-packages (from transformer_lens) (2.1.4)\n",
            "Requirement already satisfied: rich>=12.6.0 in /usr/local/lib/python3.10/dist-packages (from transformer_lens) (13.8.1)\n",
            "Requirement already satisfied: sentencepiece in /usr/local/lib/python3.10/dist-packages (from transformer_lens) (0.1.99)\n",
            "Requirement already satisfied: torch>=1.10 in /usr/local/lib/python3.10/dist-packages (from transformer_lens) (2.4.1+cu121)\n",
            "Requirement already satisfied: tqdm>=4.64.1 in /usr/local/lib/python3.10/dist-packages (from transformer_lens) (4.66.5)\n",
            "Requirement already satisfied: transformers>=4.37.2 in /usr/local/lib/python3.10/dist-packages (from transformer_lens) (4.44.2)\n",
            "Requirement already satisfied: typing-extensions in /usr/local/lib/python3.10/dist-packages (from transformer_lens) (4.12.2)\n",
            "Collecting wandb>=0.13.5 (from transformer_lens)\n",
            "  Downloading wandb-0.18.1-py3-none-manylinux_2_17_x86_64.manylinux2014_x86_64.whl.metadata (9.6 kB)\n",
            "Requirement already satisfied: packaging>=20.0 in /usr/local/lib/python3.10/dist-packages (from accelerate>=0.23.0->transformer_lens) (24.1)\n",
            "Requirement already satisfied: psutil in /usr/local/lib/python3.10/dist-packages (from accelerate>=0.23.0->transformer_lens) (5.9.5)\n",
            "Requirement already satisfied: pyyaml in /usr/local/lib/python3.10/dist-packages (from accelerate>=0.23.0->transformer_lens) (6.0.2)\n",
            "Requirement already satisfied: huggingface-hub>=0.21.0 in /usr/local/lib/python3.10/dist-packages (from accelerate>=0.23.0->transformer_lens) (0.24.7)\n",
            "Requirement already satisfied: safetensors>=0.4.3 in /usr/local/lib/python3.10/dist-packages (from accelerate>=0.23.0->transformer_lens) (0.4.5)\n",
            "Requirement already satisfied: filelock in /usr/local/lib/python3.10/dist-packages (from datasets>=2.7.1->transformer_lens) (3.16.1)\n",
            "Collecting pyarrow>=15.0.0 (from datasets>=2.7.1->transformer_lens)\n",
            "  Downloading pyarrow-17.0.0-cp310-cp310-manylinux_2_28_x86_64.whl.metadata (3.3 kB)\n",
            "Collecting dill<0.3.9,>=0.3.0 (from datasets>=2.7.1->transformer_lens)\n",
            "  Downloading dill-0.3.8-py3-none-any.whl.metadata (10 kB)\n",
            "Requirement already satisfied: requests>=2.32.2 in /usr/local/lib/python3.10/dist-packages (from datasets>=2.7.1->transformer_lens) (2.32.3)\n",
            "Collecting xxhash (from datasets>=2.7.1->transformer_lens)\n",
            "  Downloading xxhash-3.5.0-cp310-cp310-manylinux_2_17_x86_64.manylinux2014_x86_64.whl.metadata (12 kB)\n",
            "Collecting multiprocess (from datasets>=2.7.1->transformer_lens)\n",
            "  Downloading multiprocess-0.70.16-py310-none-any.whl.metadata (7.2 kB)\n",
            "Requirement already satisfied: fsspec<=2024.6.1,>=2023.1.0 in /usr/local/lib/python3.10/dist-packages (from fsspec[http]<=2024.6.1,>=2023.1.0->datasets>=2.7.1->transformer_lens) (2024.6.1)\n",
            "Requirement already satisfied: aiohttp in /usr/local/lib/python3.10/dist-packages (from datasets>=2.7.1->transformer_lens) (3.10.5)\n",
            "Collecting typeguard==2.13.3 (from jaxtyping>=0.2.11->transformer_lens)\n",
            "  Downloading typeguard-2.13.3-py3-none-any.whl.metadata (3.6 kB)\n",
            "Requirement already satisfied: python-dateutil>=2.8.2 in /usr/local/lib/python3.10/dist-packages (from pandas>=1.1.5->transformer_lens) (2.8.2)\n",
            "Requirement already satisfied: pytz>=2020.1 in /usr/local/lib/python3.10/dist-packages (from pandas>=1.1.5->transformer_lens) (2024.2)\n",
            "Requirement already satisfied: tzdata>=2022.1 in /usr/local/lib/python3.10/dist-packages (from pandas>=1.1.5->transformer_lens) (2024.1)\n",
            "Requirement already satisfied: markdown-it-py>=2.2.0 in /usr/local/lib/python3.10/dist-packages (from rich>=12.6.0->transformer_lens) (3.0.0)\n",
            "Requirement already satisfied: pygments<3.0.0,>=2.13.0 in /usr/local/lib/python3.10/dist-packages (from rich>=12.6.0->transformer_lens) (2.18.0)\n",
            "Requirement already satisfied: sympy in /usr/local/lib/python3.10/dist-packages (from torch>=1.10->transformer_lens) (1.13.2)\n",
            "Requirement already satisfied: networkx in /usr/local/lib/python3.10/dist-packages (from torch>=1.10->transformer_lens) (3.3)\n",
            "Requirement already satisfied: jinja2 in /usr/local/lib/python3.10/dist-packages (from torch>=1.10->transformer_lens) (3.1.4)\n",
            "Requirement already satisfied: regex!=2019.12.17 in /usr/local/lib/python3.10/dist-packages (from transformers>=4.37.2->transformer_lens) (2024.9.11)\n",
            "Requirement already satisfied: tokenizers<0.20,>=0.19 in /usr/local/lib/python3.10/dist-packages (from transformers>=4.37.2->transformer_lens) (0.19.1)\n",
            "Requirement already satisfied: click!=8.0.0,>=7.1 in /usr/local/lib/python3.10/dist-packages (from wandb>=0.13.5->transformer_lens) (8.1.7)\n",
            "Collecting docker-pycreds>=0.4.0 (from wandb>=0.13.5->transformer_lens)\n",
            "  Downloading docker_pycreds-0.4.0-py2.py3-none-any.whl.metadata (1.8 kB)\n",
            "Collecting gitpython!=3.1.29,>=1.0.0 (from wandb>=0.13.5->transformer_lens)\n",
            "  Downloading GitPython-3.1.43-py3-none-any.whl.metadata (13 kB)\n",
            "Requirement already satisfied: platformdirs in /usr/local/lib/python3.10/dist-packages (from wandb>=0.13.5->transformer_lens) (4.3.6)\n",
            "Requirement already satisfied: protobuf!=4.21.0,!=5.28.0,<6,>=3.19.0 in /usr/local/lib/python3.10/dist-packages (from wandb>=0.13.5->transformer_lens) (3.20.3)\n",
            "Collecting sentry-sdk>=1.0.0 (from wandb>=0.13.5->transformer_lens)\n",
            "  Downloading sentry_sdk-2.14.0-py2.py3-none-any.whl.metadata (9.7 kB)\n",
            "Collecting setproctitle (from wandb>=0.13.5->transformer_lens)\n",
            "  Downloading setproctitle-1.3.3-cp310-cp310-manylinux_2_5_x86_64.manylinux1_x86_64.manylinux_2_17_x86_64.manylinux2014_x86_64.whl.metadata (9.9 kB)\n",
            "Requirement already satisfied: setuptools in /usr/local/lib/python3.10/dist-packages (from wandb>=0.13.5->transformer_lens) (71.0.4)\n",
            "Requirement already satisfied: six>=1.4.0 in /usr/local/lib/python3.10/dist-packages (from docker-pycreds>=0.4.0->wandb>=0.13.5->transformer_lens) (1.16.0)\n",
            "Requirement already satisfied: aiohappyeyeballs>=2.3.0 in /usr/local/lib/python3.10/dist-packages (from aiohttp->datasets>=2.7.1->transformer_lens) (2.4.0)\n",
            "Requirement already satisfied: aiosignal>=1.1.2 in /usr/local/lib/python3.10/dist-packages (from aiohttp->datasets>=2.7.1->transformer_lens) (1.3.1)\n",
            "Requirement already satisfied: attrs>=17.3.0 in /usr/local/lib/python3.10/dist-packages (from aiohttp->datasets>=2.7.1->transformer_lens) (24.2.0)\n",
            "Requirement already satisfied: frozenlist>=1.1.1 in /usr/local/lib/python3.10/dist-packages (from aiohttp->datasets>=2.7.1->transformer_lens) (1.4.1)\n",
            "Requirement already satisfied: multidict<7.0,>=4.5 in /usr/local/lib/python3.10/dist-packages (from aiohttp->datasets>=2.7.1->transformer_lens) (6.1.0)\n",
            "Requirement already satisfied: yarl<2.0,>=1.0 in /usr/local/lib/python3.10/dist-packages (from aiohttp->datasets>=2.7.1->transformer_lens) (1.11.1)\n",
            "Requirement already satisfied: async-timeout<5.0,>=4.0 in /usr/local/lib/python3.10/dist-packages (from aiohttp->datasets>=2.7.1->transformer_lens) (4.0.3)\n",
            "Collecting gitdb<5,>=4.0.1 (from gitpython!=3.1.29,>=1.0.0->wandb>=0.13.5->transformer_lens)\n",
            "  Downloading gitdb-4.0.11-py3-none-any.whl.metadata (1.2 kB)\n",
            "Requirement already satisfied: mdurl~=0.1 in /usr/local/lib/python3.10/dist-packages (from markdown-it-py>=2.2.0->rich>=12.6.0->transformer_lens) (0.1.2)\n",
            "Requirement already satisfied: charset-normalizer<4,>=2 in /usr/local/lib/python3.10/dist-packages (from requests>=2.32.2->datasets>=2.7.1->transformer_lens) (3.3.2)\n",
            "Requirement already satisfied: idna<4,>=2.5 in /usr/local/lib/python3.10/dist-packages (from requests>=2.32.2->datasets>=2.7.1->transformer_lens) (3.10)\n",
            "Requirement already satisfied: urllib3<3,>=1.21.1 in /usr/local/lib/python3.10/dist-packages (from requests>=2.32.2->datasets>=2.7.1->transformer_lens) (2.0.7)\n",
            "Requirement already satisfied: certifi>=2017.4.17 in /usr/local/lib/python3.10/dist-packages (from requests>=2.32.2->datasets>=2.7.1->transformer_lens) (2024.8.30)\n",
            "Requirement already satisfied: MarkupSafe>=2.0 in /usr/local/lib/python3.10/dist-packages (from jinja2->torch>=1.10->transformer_lens) (2.1.5)\n",
            "Requirement already satisfied: mpmath<1.4,>=1.1.0 in /usr/local/lib/python3.10/dist-packages (from sympy->torch>=1.10->transformer_lens) (1.3.0)\n",
            "Collecting smmap<6,>=3.0.1 (from gitdb<5,>=4.0.1->gitpython!=3.1.29,>=1.0.0->wandb>=0.13.5->transformer_lens)\n",
            "  Downloading smmap-5.0.1-py3-none-any.whl.metadata (4.3 kB)\n",
            "Downloading transformer_lens-2.6.0-py3-none-any.whl (175 kB)\n",
            "\u001b[2K   \u001b[90m━━━━━━━━━━━━━━━━━━━━━━━━━━━━━━━━━━━━━━━━\u001b[0m \u001b[32m175.1/175.1 kB\u001b[0m \u001b[31m2.9 MB/s\u001b[0m eta \u001b[36m0:00:00\u001b[0m\n",
            "\u001b[?25hDownloading beartype-0.14.1-py3-none-any.whl (739 kB)\n",
            "\u001b[2K   \u001b[90m━━━━━━━━━━━━━━━━━━━━━━━━━━━━━━━━━━━━━━━━\u001b[0m \u001b[32m739.7/739.7 kB\u001b[0m \u001b[31m9.4 MB/s\u001b[0m eta \u001b[36m0:00:00\u001b[0m\n",
            "\u001b[?25hDownloading better_abc-0.0.3-py3-none-any.whl (3.5 kB)\n",
            "Downloading datasets-3.0.0-py3-none-any.whl (474 kB)\n",
            "\u001b[2K   \u001b[90m━━━━━━━━━━━━━━━━━━━━━━━━━━━━━━━━━━━━━━━━\u001b[0m \u001b[32m474.3/474.3 kB\u001b[0m \u001b[31m29.2 MB/s\u001b[0m eta \u001b[36m0:00:00\u001b[0m\n",
            "\u001b[?25hDownloading fancy_einsum-0.0.3-py3-none-any.whl (6.2 kB)\n",
            "Downloading jaxtyping-0.2.34-py3-none-any.whl (42 kB)\n",
            "\u001b[2K   \u001b[90m━━━━━━━━━━━━━━━━━━━━━━━━━━━━━━━━━━━━━━━━\u001b[0m \u001b[32m42.4/42.4 kB\u001b[0m \u001b[31m3.4 MB/s\u001b[0m eta \u001b[36m0:00:00\u001b[0m\n",
            "\u001b[?25hDownloading typeguard-2.13.3-py3-none-any.whl (17 kB)\n",
            "Downloading wandb-0.18.1-py3-none-manylinux_2_17_x86_64.manylinux2014_x86_64.whl (9.7 MB)\n",
            "\u001b[2K   \u001b[90m━━━━━━━━━━━━━━━━━━━━━━━━━━━━━━━━━━━━━━━━\u001b[0m \u001b[32m9.7/9.7 MB\u001b[0m \u001b[31m64.7 MB/s\u001b[0m eta \u001b[36m0:00:00\u001b[0m\n",
            "\u001b[?25hDownloading dill-0.3.8-py3-none-any.whl (116 kB)\n",
            "\u001b[2K   \u001b[90m━━━━━━━━━━━━━━━━━━━━━━━━━━━━━━━━━━━━━━━━\u001b[0m \u001b[32m116.3/116.3 kB\u001b[0m \u001b[31m11.1 MB/s\u001b[0m eta \u001b[36m0:00:00\u001b[0m\n",
            "\u001b[?25hDownloading docker_pycreds-0.4.0-py2.py3-none-any.whl (9.0 kB)\n",
            "Downloading GitPython-3.1.43-py3-none-any.whl (207 kB)\n",
            "\u001b[2K   \u001b[90m━━━━━━━━━━━━━━━━━━━━━━━━━━━━━━━━━━━━━━━━\u001b[0m \u001b[32m207.3/207.3 kB\u001b[0m \u001b[31m18.9 MB/s\u001b[0m eta \u001b[36m0:00:00\u001b[0m\n",
            "\u001b[?25hDownloading pyarrow-17.0.0-cp310-cp310-manylinux_2_28_x86_64.whl (39.9 MB)\n",
            "\u001b[2K   \u001b[90m━━━━━━━━━━━━━━━━━━━━━━━━━━━━━━━━━━━━━━━━\u001b[0m \u001b[32m39.9/39.9 MB\u001b[0m \u001b[31m44.9 MB/s\u001b[0m eta \u001b[36m0:00:00\u001b[0m\n",
            "\u001b[?25hDownloading sentry_sdk-2.14.0-py2.py3-none-any.whl (311 kB)\n",
            "\u001b[2K   \u001b[90m━━━━━━━━━━━━━━━━━━━━━━━━━━━━━━━━━━━━━━━━\u001b[0m \u001b[32m311.4/311.4 kB\u001b[0m \u001b[31m24.5 MB/s\u001b[0m eta \u001b[36m0:00:00\u001b[0m\n",
            "\u001b[?25hDownloading multiprocess-0.70.16-py310-none-any.whl (134 kB)\n",
            "\u001b[2K   \u001b[90m━━━━━━━━━━━━━━━━━━━━━━━━━━━━━━━━━━━━━━━━\u001b[0m \u001b[32m134.8/134.8 kB\u001b[0m \u001b[31m11.5 MB/s\u001b[0m eta \u001b[36m0:00:00\u001b[0m\n",
            "\u001b[?25hDownloading setproctitle-1.3.3-cp310-cp310-manylinux_2_5_x86_64.manylinux1_x86_64.manylinux_2_17_x86_64.manylinux2014_x86_64.whl (30 kB)\n",
            "Downloading xxhash-3.5.0-cp310-cp310-manylinux_2_17_x86_64.manylinux2014_x86_64.whl (194 kB)\n",
            "\u001b[2K   \u001b[90m━━━━━━━━━━━━━━━━━━━━━━━━━━━━━━━━━━━━━━━━\u001b[0m \u001b[32m194.1/194.1 kB\u001b[0m \u001b[31m16.5 MB/s\u001b[0m eta \u001b[36m0:00:00\u001b[0m\n",
            "\u001b[?25hDownloading gitdb-4.0.11-py3-none-any.whl (62 kB)\n",
            "\u001b[2K   \u001b[90m━━━━━━━━━━━━━━━━━━━━━━━━━━━━━━━━━━━━━━━━\u001b[0m \u001b[32m62.7/62.7 kB\u001b[0m \u001b[31m5.2 MB/s\u001b[0m eta \u001b[36m0:00:00\u001b[0m\n",
            "\u001b[?25hDownloading smmap-5.0.1-py3-none-any.whl (24 kB)\n",
            "Installing collected packages: better-abc, xxhash, typeguard, smmap, setproctitle, sentry-sdk, pyarrow, fancy-einsum, docker-pycreds, dill, beartype, multiprocess, jaxtyping, gitdb, gitpython, wandb, datasets, transformer_lens\n",
            "  Attempting uninstall: typeguard\n",
            "    Found existing installation: typeguard 4.3.0\n",
            "    Uninstalling typeguard-4.3.0:\n",
            "      Successfully uninstalled typeguard-4.3.0\n",
            "  Attempting uninstall: pyarrow\n",
            "    Found existing installation: pyarrow 14.0.2\n",
            "    Uninstalling pyarrow-14.0.2:\n",
            "      Successfully uninstalled pyarrow-14.0.2\n",
            "\u001b[31mERROR: pip's dependency resolver does not currently take into account all the packages that are installed. This behaviour is the source of the following dependency conflicts.\n",
            "cudf-cu12 24.4.1 requires pyarrow<15.0.0a0,>=14.0.1, but you have pyarrow 17.0.0 which is incompatible.\n",
            "ibis-framework 8.0.0 requires pyarrow<16,>=2, but you have pyarrow 17.0.0 which is incompatible.\n",
            "inflect 7.4.0 requires typeguard>=4.0.1, but you have typeguard 2.13.3 which is incompatible.\u001b[0m\u001b[31m\n",
            "\u001b[0mSuccessfully installed beartype-0.14.1 better-abc-0.0.3 datasets-3.0.0 dill-0.3.8 docker-pycreds-0.4.0 fancy-einsum-0.0.3 gitdb-4.0.11 gitpython-3.1.43 jaxtyping-0.2.34 multiprocess-0.70.16 pyarrow-17.0.0 sentry-sdk-2.14.0 setproctitle-1.3.3 smmap-5.0.1 transformer_lens-2.6.0 typeguard-2.13.3 wandb-0.18.1 xxhash-3.5.0\n",
            "Requirement already satisfied: einops in /usr/local/lib/python3.10/dist-packages (0.8.0)\n",
            "Requirement already satisfied: jaxtyping in /usr/local/lib/python3.10/dist-packages (0.2.34)\n",
            "Requirement already satisfied: typeguard==2.13.3 in /usr/local/lib/python3.10/dist-packages (from jaxtyping) (2.13.3)\n",
            "Collecting git+https://github.com/callummcdougall/CircuitsVis.git#subdirectory=python\n",
            "  Cloning https://github.com/callummcdougall/CircuitsVis.git to /tmp/pip-req-build-ybo5efbw\n",
            "  Running command git clone --filter=blob:none --quiet https://github.com/callummcdougall/CircuitsVis.git /tmp/pip-req-build-ybo5efbw\n",
            "  Resolved https://github.com/callummcdougall/CircuitsVis.git to commit 1e6129d08cae7af9242d9ab5d3ed322dd44b4dd3\n",
            "  Installing build dependencies ... \u001b[?25l\u001b[?25hdone\n",
            "  Getting requirements to build wheel ... \u001b[?25l\u001b[?25hdone\n",
            "  Preparing metadata (pyproject.toml) ... \u001b[?25l\u001b[?25hdone\n",
            "Collecting importlib-metadata<6.0.0,>=5.1.0 (from circuitsvis==0.0.0)\n",
            "  Downloading importlib_metadata-5.2.0-py3-none-any.whl.metadata (5.0 kB)\n",
            "Requirement already satisfied: numpy<2.0,>=1.23 in /usr/local/lib/python3.10/dist-packages (from circuitsvis==0.0.0) (1.26.4)\n",
            "Requirement already satisfied: torch<3.0,>=2.0 in /usr/local/lib/python3.10/dist-packages (from circuitsvis==0.0.0) (2.4.1+cu121)\n",
            "Requirement already satisfied: zipp>=0.5 in /usr/local/lib/python3.10/dist-packages (from importlib-metadata<6.0.0,>=5.1.0->circuitsvis==0.0.0) (3.20.2)\n",
            "Requirement already satisfied: filelock in /usr/local/lib/python3.10/dist-packages (from torch<3.0,>=2.0->circuitsvis==0.0.0) (3.16.1)\n",
            "Requirement already satisfied: typing-extensions>=4.8.0 in /usr/local/lib/python3.10/dist-packages (from torch<3.0,>=2.0->circuitsvis==0.0.0) (4.12.2)\n",
            "Requirement already satisfied: sympy in /usr/local/lib/python3.10/dist-packages (from torch<3.0,>=2.0->circuitsvis==0.0.0) (1.13.2)\n",
            "Requirement already satisfied: networkx in /usr/local/lib/python3.10/dist-packages (from torch<3.0,>=2.0->circuitsvis==0.0.0) (3.3)\n",
            "Requirement already satisfied: jinja2 in /usr/local/lib/python3.10/dist-packages (from torch<3.0,>=2.0->circuitsvis==0.0.0) (3.1.4)\n",
            "Requirement already satisfied: fsspec in /usr/local/lib/python3.10/dist-packages (from torch<3.0,>=2.0->circuitsvis==0.0.0) (2024.6.1)\n",
            "Requirement already satisfied: MarkupSafe>=2.0 in /usr/local/lib/python3.10/dist-packages (from jinja2->torch<3.0,>=2.0->circuitsvis==0.0.0) (2.1.5)\n",
            "Requirement already satisfied: mpmath<1.4,>=1.1.0 in /usr/local/lib/python3.10/dist-packages (from sympy->torch<3.0,>=2.0->circuitsvis==0.0.0) (1.3.0)\n",
            "Downloading importlib_metadata-5.2.0-py3-none-any.whl (21 kB)\n",
            "Building wheels for collected packages: circuitsvis\n",
            "  Building wheel for circuitsvis (pyproject.toml) ... \u001b[?25l\u001b[?25hdone\n",
            "  Created wheel for circuitsvis: filename=circuitsvis-0.0.0-py3-none-any.whl size=6172334 sha256=59415c32edc93016c6c42f3b4833706a3be43b700e7573be5495cc7c0ec5f306\n",
            "  Stored in directory: /tmp/pip-ephem-wheel-cache-r8oqq0io/wheels/86/be/ad/78078aba9344d200aad61b63d35cdaecdec160212f039eed74\n",
            "Successfully built circuitsvis\n",
            "Installing collected packages: importlib-metadata, circuitsvis\n",
            "  Attempting uninstall: importlib-metadata\n",
            "    Found existing installation: importlib_metadata 8.5.0\n",
            "    Uninstalling importlib_metadata-8.5.0:\n",
            "      Successfully uninstalled importlib_metadata-8.5.0\n",
            "Successfully installed circuitsvis-0.0.0 importlib-metadata-5.2.0\n",
            "--2024-09-22 14:00:18--  https://github.com/callummcdougall/ARENA_3.0/archive/refs/heads/main.zip\n",
            "Resolving github.com (github.com)... 140.82.112.3\n",
            "Connecting to github.com (github.com)|140.82.112.3|:443... connected.\n",
            "HTTP request sent, awaiting response... 302 Found\n",
            "Location: https://codeload.github.com/callummcdougall/ARENA_3.0/zip/refs/heads/main [following]\n",
            "--2024-09-22 14:00:18--  https://codeload.github.com/callummcdougall/ARENA_3.0/zip/refs/heads/main\n",
            "Resolving codeload.github.com (codeload.github.com)... 140.82.114.9\n",
            "Connecting to codeload.github.com (codeload.github.com)|140.82.114.9|:443... connected.\n",
            "HTTP request sent, awaiting response... 200 OK\n",
            "Length: unspecified [application/zip]\n",
            "Saving to: ‘main.zip’\n",
            "\n",
            "main.zip                [   <=>              ]  86.75M  9.35MB/s    in 9.9s    \n",
            "\n",
            "2024-09-22 14:00:28 (8.77 MB/s) - ‘main.zip’ saved [90967829]\n",
            "\n",
            "Archive:  /content/main.zip\n",
            "0f2cdc7936f0a0c593a387aadc57e4ba53405b8c\n",
            "   creating: ARENA_3.0-main/chapter1_transformer_interp/exercises/\n",
            "   creating: ARENA_3.0-main/chapter1_transformer_interp/exercises/monthly_algorithmic_problems/\n",
            "   creating: ARENA_3.0-main/chapter1_transformer_interp/exercises/monthly_algorithmic_problems/august23_unique_char/\n",
            "  inflating: ARENA_3.0-main/chapter1_transformer_interp/exercises/monthly_algorithmic_problems/august23_unique_char/dataset.py  \n",
            "  inflating: ARENA_3.0-main/chapter1_transformer_interp/exercises/monthly_algorithmic_problems/august23_unique_char/first_unique_char_model.pt  \n",
            "  inflating: ARENA_3.0-main/chapter1_transformer_interp/exercises/monthly_algorithmic_problems/august23_unique_char/model.py  \n",
            "  inflating: ARENA_3.0-main/chapter1_transformer_interp/exercises/monthly_algorithmic_problems/august23_unique_char/training.py  \n",
            "  inflating: ARENA_3.0-main/chapter1_transformer_interp/exercises/monthly_algorithmic_problems/august23_unique_char/training_model.ipynb  \n",
            "   creating: ARENA_3.0-main/chapter1_transformer_interp/exercises/monthly_algorithmic_problems/january24_caesar_cipher/\n",
            "  inflating: ARENA_3.0-main/chapter1_transformer_interp/exercises/monthly_algorithmic_problems/january24_caesar_cipher/caesar_cipher_model_easy.pt  \n",
            "  inflating: ARENA_3.0-main/chapter1_transformer_interp/exercises/monthly_algorithmic_problems/january24_caesar_cipher/caesar_cipher_model_hard.pt  \n",
            "  inflating: ARENA_3.0-main/chapter1_transformer_interp/exercises/monthly_algorithmic_problems/january24_caesar_cipher/caesar_cipher_model_medium.pt  \n",
            "  inflating: ARENA_3.0-main/chapter1_transformer_interp/exercises/monthly_algorithmic_problems/january24_caesar_cipher/dataset.py  \n",
            "  inflating: ARENA_3.0-main/chapter1_transformer_interp/exercises/monthly_algorithmic_problems/january24_caesar_cipher/hitchhikers.txt  \n",
            "  inflating: ARENA_3.0-main/chapter1_transformer_interp/exercises/monthly_algorithmic_problems/january24_caesar_cipher/model.py  \n",
            "  inflating: ARENA_3.0-main/chapter1_transformer_interp/exercises/monthly_algorithmic_problems/january24_caesar_cipher/training.py  \n",
            "  inflating: ARENA_3.0-main/chapter1_transformer_interp/exercises/monthly_algorithmic_problems/january24_caesar_cipher/training_model.ipynb  \n",
            "   creating: ARENA_3.0-main/chapter1_transformer_interp/exercises/monthly_algorithmic_problems/july23_palindromes/\n",
            "  inflating: ARENA_3.0-main/chapter1_transformer_interp/exercises/monthly_algorithmic_problems/july23_palindromes/dataset.py  \n",
            "  inflating: ARENA_3.0-main/chapter1_transformer_interp/exercises/monthly_algorithmic_problems/july23_palindromes/model.py  \n",
            "  inflating: ARENA_3.0-main/chapter1_transformer_interp/exercises/monthly_algorithmic_problems/july23_palindromes/palindrome_classifier.pt  \n",
            "  inflating: ARENA_3.0-main/chapter1_transformer_interp/exercises/monthly_algorithmic_problems/july23_palindromes/training.py  \n",
            "  inflating: ARENA_3.0-main/chapter1_transformer_interp/exercises/monthly_algorithmic_problems/july23_palindromes/training_model.ipynb  \n",
            "   creating: ARENA_3.0-main/chapter1_transformer_interp/exercises/monthly_algorithmic_problems/november23_cumsum/\n",
            "  inflating: ARENA_3.0-main/chapter1_transformer_interp/exercises/monthly_algorithmic_problems/november23_cumsum/cumsum_model.pt  \n",
            "  inflating: ARENA_3.0-main/chapter1_transformer_interp/exercises/monthly_algorithmic_problems/november23_cumsum/dataset.py  \n",
            "  inflating: ARENA_3.0-main/chapter1_transformer_interp/exercises/monthly_algorithmic_problems/november23_cumsum/model.py  \n",
            "  inflating: ARENA_3.0-main/chapter1_transformer_interp/exercises/monthly_algorithmic_problems/november23_cumsum/training.py  \n",
            "  inflating: ARENA_3.0-main/chapter1_transformer_interp/exercises/monthly_algorithmic_problems/november23_cumsum/training_model.ipynb  \n",
            "   creating: ARENA_3.0-main/chapter1_transformer_interp/exercises/monthly_algorithmic_problems/october23_sorted_list/\n",
            "  inflating: ARENA_3.0-main/chapter1_transformer_interp/exercises/monthly_algorithmic_problems/october23_sorted_list/dataset.py  \n",
            "  inflating: ARENA_3.0-main/chapter1_transformer_interp/exercises/monthly_algorithmic_problems/october23_sorted_list/model.py  \n",
            "  inflating: ARENA_3.0-main/chapter1_transformer_interp/exercises/monthly_algorithmic_problems/october23_sorted_list/sorted_list_model.pt  \n",
            "  inflating: ARENA_3.0-main/chapter1_transformer_interp/exercises/monthly_algorithmic_problems/october23_sorted_list/training.py  \n",
            "  inflating: ARENA_3.0-main/chapter1_transformer_interp/exercises/monthly_algorithmic_problems/october23_sorted_list/training_model.ipynb  \n",
            "   creating: ARENA_3.0-main/chapter1_transformer_interp/exercises/monthly_algorithmic_problems/september23_sum/\n",
            "  inflating: ARENA_3.0-main/chapter1_transformer_interp/exercises/monthly_algorithmic_problems/september23_sum/dataset.py  \n",
            "  inflating: ARENA_3.0-main/chapter1_transformer_interp/exercises/monthly_algorithmic_problems/september23_sum/model.py  \n",
            "  inflating: ARENA_3.0-main/chapter1_transformer_interp/exercises/monthly_algorithmic_problems/september23_sum/sum_model.pt  \n",
            "  inflating: ARENA_3.0-main/chapter1_transformer_interp/exercises/monthly_algorithmic_problems/september23_sum/training.py  \n",
            "  inflating: ARENA_3.0-main/chapter1_transformer_interp/exercises/monthly_algorithmic_problems/september23_sum/training_model.ipynb  \n",
            "   creating: ARENA_3.0-main/chapter1_transformer_interp/exercises/part1_transformer_from_scratch/\n",
            "  inflating: ARENA_3.0-main/chapter1_transformer_interp/exercises/part1_transformer_from_scratch/solutions.py  \n",
            "  inflating: ARENA_3.0-main/chapter1_transformer_interp/exercises/part1_transformer_from_scratch/tests.py  \n",
            "   creating: ARENA_3.0-main/chapter1_transformer_interp/exercises/part2_intro_to_mech_interp/\n",
            "  inflating: ARENA_3.0-main/chapter1_transformer_interp/exercises/part2_intro_to_mech_interp/solutions.py  \n",
            "  inflating: ARENA_3.0-main/chapter1_transformer_interp/exercises/part2_intro_to_mech_interp/tests.py  \n",
            "   creating: ARENA_3.0-main/chapter1_transformer_interp/exercises/part31_superposition_and_saes/\n",
            "  inflating: ARENA_3.0-main/chapter1_transformer_interp/exercises/part31_superposition_and_saes/solutions.py  \n",
            "  inflating: ARENA_3.0-main/chapter1_transformer_interp/exercises/part31_superposition_and_saes/solutions_double_descent.py  \n",
            "  inflating: ARENA_3.0-main/chapter1_transformer_interp/exercises/part31_superposition_and_saes/tests.py  \n",
            "  inflating: ARENA_3.0-main/chapter1_transformer_interp/exercises/part31_superposition_and_saes/utils.py  \n",
            "   creating: ARENA_3.0-main/chapter1_transformer_interp/exercises/part32_interp_with_saes/\n",
            "  inflating: ARENA_3.0-main/chapter1_transformer_interp/exercises/part32_interp_with_saes/solutions.py  \n",
            "   creating: ARENA_3.0-main/chapter1_transformer_interp/exercises/part41_indirect_object_identification/\n",
            "  inflating: ARENA_3.0-main/chapter1_transformer_interp/exercises/part41_indirect_object_identification/ioi_circuit_extraction.py  \n",
            "  inflating: ARENA_3.0-main/chapter1_transformer_interp/exercises/part41_indirect_object_identification/ioi_dataset.py  \n",
            "  inflating: ARENA_3.0-main/chapter1_transformer_interp/exercises/part41_indirect_object_identification/solutions.py  \n",
            "  inflating: ARENA_3.0-main/chapter1_transformer_interp/exercises/part41_indirect_object_identification/tests.py  \n",
            "   creating: ARENA_3.0-main/chapter1_transformer_interp/exercises/part42_function_vectors_and_model_steering/\n",
            "   creating: ARENA_3.0-main/chapter1_transformer_interp/exercises/part42_function_vectors_and_model_steering/data/\n",
            "  inflating: ARENA_3.0-main/chapter1_transformer_interp/exercises/part42_function_vectors_and_model_steering/data/antonym_pairs.txt  \n",
            "  inflating: ARENA_3.0-main/chapter1_transformer_interp/exercises/part42_function_vectors_and_model_steering/data/country_capital_pairs.txt  \n",
            "  inflating: ARENA_3.0-main/chapter1_transformer_interp/exercises/part42_function_vectors_and_model_steering/data/test_fn_vector.pt  \n",
            "  inflating: ARENA_3.0-main/chapter1_transformer_interp/exercises/part42_function_vectors_and_model_steering/data/test_fn_vector_1.pt  \n",
            "  inflating: ARENA_3.0-main/chapter1_transformer_interp/exercises/part42_function_vectors_and_model_steering/data/test_fn_vector_2.pt  \n",
            "  inflating: ARENA_3.0-main/chapter1_transformer_interp/exercises/part42_function_vectors_and_model_steering/data/test_h.pt  \n",
            "  inflating: ARENA_3.0-main/chapter1_transformer_interp/exercises/part42_function_vectors_and_model_steering/solutions.py  \n",
            "  inflating: ARENA_3.0-main/chapter1_transformer_interp/exercises/part42_function_vectors_and_model_steering/tests.py  \n",
            "   creating: ARENA_3.0-main/chapter1_transformer_interp/exercises/part51_balanced_bracket_classifier/\n",
            "  inflating: ARENA_3.0-main/chapter1_transformer_interp/exercises/part51_balanced_bracket_classifier/brackets_data.json  \n",
            "  inflating: ARENA_3.0-main/chapter1_transformer_interp/exercises/part51_balanced_bracket_classifier/brackets_datasets.py  \n",
            "  inflating: ARENA_3.0-main/chapter1_transformer_interp/exercises/part51_balanced_bracket_classifier/brackets_model_state_dict.pt  \n",
            "  inflating: ARENA_3.0-main/chapter1_transformer_interp/exercises/part51_balanced_bracket_classifier/solutions.py  \n",
            "  inflating: ARENA_3.0-main/chapter1_transformer_interp/exercises/part51_balanced_bracket_classifier/tests.py  \n",
            "   creating: ARENA_3.0-main/chapter1_transformer_interp/exercises/part52_grokking_and_modular_arithmetic/\n",
            "  inflating: ARENA_3.0-main/chapter1_transformer_interp/exercises/part52_grokking_and_modular_arithmetic/my_utils.py  \n",
            "  inflating: ARENA_3.0-main/chapter1_transformer_interp/exercises/part52_grokking_and_modular_arithmetic/solutions.py  \n",
            "  inflating: ARENA_3.0-main/chapter1_transformer_interp/exercises/part52_grokking_and_modular_arithmetic/tests.py  \n",
            "   creating: ARENA_3.0-main/chapter1_transformer_interp/exercises/part53_othellogpt/\n",
            "  inflating: ARENA_3.0-main/chapter1_transformer_interp/exercises/part53_othellogpt/solutions.py  \n",
            "  inflating: ARENA_3.0-main/chapter1_transformer_interp/exercises/part53_othellogpt/tests.py  \n",
            "  inflating: ARENA_3.0-main/chapter1_transformer_interp/exercises/plotly_utils.py  \n",
            "  inflating: ARENA_3.0-main/chapter1_transformer_interp/exercises/test_solutions_ch1.py  \n"
          ]
        }
      ],
      "source": [
        "try:\n",
        "    import google.colab # type: ignore\n",
        "    IN_COLAB = True\n",
        "except:\n",
        "    IN_COLAB = False\n",
        "\n",
        "import os, sys\n",
        "chapter = \"chapter1_transformer_interp\"\n",
        "repo = \"ARENA_3.0\"\n",
        "\n",
        "if IN_COLAB:\n",
        "    # Install packages\n",
        "    %pip install transformer_lens\n",
        "    %pip install einops\n",
        "    %pip install jaxtyping\n",
        "    %pip install git+https://github.com/callummcdougall/CircuitsVis.git#subdirectory=python\n",
        "\n",
        "    # Code to download the necessary files (e.g. solutions, test funcs)\n",
        "    if not os.path.exists(f\"/content/{chapter}\"):\n",
        "        !wget https://github.com/callummcdougall/ARENA_3.0/archive/refs/heads/main.zip\n",
        "        !unzip /content/main.zip 'ARENA_3.0-main/chapter1_transformer_interp/exercises/*'\n",
        "        sys.path.append(f\"/content/{repo}-main/{chapter}/exercises\")\n",
        "        os.remove(\"/content/main.zip\")\n",
        "        os.rename(f\"{repo}-main/{chapter}\", chapter)\n",
        "        os.rmdir(f\"{repo}-main\")\n",
        "        os.chdir(f\"{chapter}/exercises\")\n",
        "else:\n",
        "    raise Exception(\"If running from VSCode, you should copy code from the Streamlit page, not the Colab.\")"
      ]
    },
    {
      "cell_type": "code",
      "execution_count": 2,
      "metadata": {
        "id": "5g0vLQbLdbSQ"
      },
      "outputs": [],
      "source": [
        "import sys\n",
        "import torch as t\n",
        "from torch import Tensor\n",
        "import torch.nn as nn\n",
        "import torch.nn.functional as F\n",
        "from pathlib import Path\n",
        "import numpy as np\n",
        "import einops\n",
        "from jaxtyping import Int, Float\n",
        "import functools\n",
        "from tqdm import tqdm\n",
        "from IPython.display import display\n",
        "from transformer_lens.hook_points import HookPoint\n",
        "from transformer_lens import (\n",
        "    utils,\n",
        "    HookedTransformer,\n",
        "    HookedTransformerConfig,\n",
        "    FactoredMatrix,\n",
        "    ActivationCache,\n",
        ")\n",
        "import circuitsvis as cv\n",
        "\n",
        "# Make sure exercises are in the path\n",
        "exercises_dir = Path(f\"{os.getcwd().split(chapter)[0]}/{chapter}/exercises\").resolve()\n",
        "section_dir = (exercises_dir / \"part2_intro_to_mech_interp\").resolve()\n",
        "if str(exercises_dir) not in sys.path: sys.path.append(str(exercises_dir))\n",
        "\n",
        "from plotly_utils import imshow, hist, plot_comp_scores, plot_logit_attribution, plot_loss_difference\n",
        "from part1_transformer_from_scratch.solutions import get_log_probs\n",
        "import part2_intro_to_mech_interp.tests as tests\n",
        "\n",
        "# Saves computation time, since we don't need it for the contents of this notebook\n",
        "t.set_grad_enabled(False)\n",
        "\n",
        "device = t.device(\"cuda\" if t.cuda.is_available() else \"cpu\")\n",
        "\n",
        "MAIN = __name__ == \"__main__\""
      ]
    },
    {
      "cell_type": "markdown",
      "metadata": {
        "id": "3whcqc4-B2i2"
      },
      "source": [
        "# 1️⃣ TransformerLens: Introduction\n"
      ]
    },
    {
      "cell_type": "markdown",
      "metadata": {
        "id": "XpHooQYXB2Ry"
      },
      "source": [
        "> ##### Learning objectives\n",
        ">\n",
        "> - Load and run a `HookedTransformer` model\n",
        "> - Understand the basic architecture of these models\n",
        "> - Use the model's tokenizer to convert text to tokens, and vice versa\n",
        "> - Know how to cache activations, and to access activations from the cache\n",
        "> - Use `circuitsvis` to visualise attention heads\n"
      ]
    },
    {
      "cell_type": "markdown",
      "metadata": {
        "id": "4mWSmayGCGd_"
      },
      "source": [
        "## Introduction\n",
        "\n",
        "*Note - most of this is written from the POV of Neel Nanda.*\n",
        "\n",
        "This is a demo notebook for [TransformerLens](https://github.com/neelnanda-io/TransformerLens), **a library I ([Neel Nanda](neelnanda.io)) wrote for doing [mechanistic interpretability](https://distill.pub/2020/circuits/zoom-in/) of GPT-2 Style language models.** The goal of mechanistic interpretability is to take a trained model and reverse engineer the algorithms the model learned during training from its weights. It is a fact about the world today that we have computer programs that can essentially speak English at a human level (GPT-3, PaLM, etc), yet we have no idea how they work nor how to write one ourselves. This offends me greatly, and I would like to solve this! Mechanistic interpretability is a very young and small field, and there are a *lot* of open problems - if you would like to help, please try working on one! **Check out my [list of concrete open problems](https://docs.google.com/document/d/1WONBzNqfKIxERejrrPlQMyKqg7jSFW92x5UMXNrMdPo/edit#) to figure out where to start.**\n",
        "\n",
        "I wrote this library because after I left the Anthropic interpretability team and started doing independent research, I got extremely frustrated by the state of open source tooling. There's a lot of excellent infrastructure like HuggingFace and DeepSpeed to *use* or *train* models, but very little to dig into their internals and reverse engineer how they work. **This library tries to solve that**, and to make it easy to get into the field even if you don't work at an industry org with real infrastructure! The core features were heavily inspired by [Anthropic's excellent Garcon tool](https://transformer-circuits.pub/2021/garcon/index.html). Credit to Nelson Elhage and Chris Olah for building Garcon and showing me the value of good infrastructure for accelerating exploratory research!\n",
        "\n",
        "The core design principle I've followed is to enable exploratory analysis - one of the most fun parts of mechanistic interpretability compared to normal ML is the extremely short feedback loops! The point of this library is to keep the gap between having an experiment idea and seeing the results as small as possible, to make it easy for **research to feel like play** and to enter a flow state. This notebook demonstrates how the library works and how to use it, but if you want to see how well it works for exploratory research, check out [my notebook analysing Indirect Objection Identification](https://github.com/neelnanda-io/TransformerLens/blob/main/Exploratory_Analysis_Demo.ipynb) or [my recording of myself doing research](https://www.youtube.com/watch?v=yo4QvDn-vsU)!\n"
      ]
    },
    {
      "cell_type": "markdown",
      "metadata": {
        "id": "hV9UWb03CJFk"
      },
      "source": [
        "## Loading and Running Models\n",
        "\n",
        "TransformerLens comes loaded with >40 open source GPT-style models. You can load any of them in with `HookedTransformer.from_pretrained(MODEL_NAME)`. For this demo notebook we'll look at GPT-2 Small, an 80M parameter model, see the Available Models section for info on the rest.\n"
      ]
    },
    {
      "cell_type": "code",
      "execution_count": 3,
      "metadata": {
        "id": "oAjxyDmVCVbh",
        "colab": {
          "base_uri": "https://localhost:8080/",
          "height": 417,
          "referenced_widgets": [
            "48346c7dbb4840bea4bbe3a3d29c1989",
            "18184a284b1c455a97a624f8873ad871",
            "d53ca15b343c435f8faa3f24d241669d",
            "92707606447a41eb9cb46b1ea96f5e2c",
            "53a00eccf5a242bcb7dfd866b26d4226",
            "cc52906217bc4c22a60df275ebc2b81a",
            "98337f136ac943979828c558ae0e6b1d",
            "53e3c6bd8b914bff9dd5c98f261acc3e",
            "6354e89e4e8240a5878cd1ca2f62fa4e",
            "937f33f4b31b45898d1482c22a36ba1e",
            "2a13ccf9be7a4d5aa73f1a3b4002f305",
            "33d736d1bde34390b983bb65dd8c63e1",
            "fe1d2cadd6fc4001872a6afc3e4ac69a",
            "0db921d9f16845f5a3d3faccdb9d59a8",
            "8cb2252ea38a42059ea7887f52c90183",
            "d8c2ee2fd44e47829655530e36144a5b",
            "33dcf444b9a14e1c86998982cd287f8c",
            "1822729b75994fafb5f7dc3784371814",
            "85d08183a5834967a73ebd8a66362ccb",
            "d713dab3c0a648a98398f4f1e59e5f46",
            "e89b5c7ac8e845e2bc63eb5e680328a5",
            "be405f40bb0b4253bcaf2b518ebaa58a",
            "07a8d0d615d2415a95ed4db4642d468d",
            "3a9584bf3bc6447da4fb0aee01b69206",
            "d4a4715e1a6443d6be57920ac64023e4",
            "eef79f57160449728ff45ba5e7abe088",
            "f15791022fb043729957cda1428c62df",
            "d4d5b497820a497b824a4538bcab062c",
            "19ac5486326d4c08ae1b887ae9b7914a",
            "7b33cf7de7ff4cecb6ae9b118bf929ff",
            "29c53097890e47738dbcdeacef3974d3",
            "8427d399ce34400ab56bacb527648e33",
            "2bfdb7cec4164fe5af35a45681f5bf6b",
            "c36c00b0d12848d69022d715b3611a7d",
            "e25c268c80e94951a11586df5f05f4d0",
            "eac81650e50b428e8d0017248c65f587",
            "90b37fe1ac7d44cf846f4fbf91fbb94c",
            "834876590f38495785f102f13f224bf7",
            "07676923c8b64d0e8886681fea3228e7",
            "73a18104f2484eeeb9f9cc7a39b09251",
            "8181423ac0204d9c9cbf4d33ca211227",
            "d08c3cc97ad841aead2da0bf2c3988fb",
            "fac9d2f0ecbd46eb8851c63acf283465",
            "9c05f1f93a2c4da490ea54836e187f4c",
            "dc90ea740ef044d7970547cf71a27df2",
            "f8275607c211455cad505d2fb8714eef",
            "e67432e6b23b4b34a511f5e6b41775f8",
            "3313847c38b24065b6b5b73760c8cc07",
            "ae0a8ffe227d4919939a784fee5fa385",
            "31d521a5a5ee4fd7aec93e7255b828fc",
            "5621f9496c2a423e97562d7a206ec4d5",
            "2a04cba5a983441a8f4a32aee249c89d",
            "a0bdf596026d49388bf4b969c7b5d343",
            "103ae5390b534b21bc59cc576faa82fa",
            "9fe62442bf1c4025b623e5278597c6dc",
            "0eb45b74752e4a42acb19e360b161b9a",
            "d0fe88473ec64ef98c3110dda1e65023",
            "e18c32ccce5947dd8be437629ae58000",
            "401f28e9d1a445daa324392f7dd2fb66",
            "9a5728b5dc1e4273b19245148bf717cf",
            "6e5723bfdefc428aa2315b14cf65d3f3",
            "671f65c971b740aea3575a922aa1e819",
            "1ae5d1e1d0bc43e29d41bb1037b40bea",
            "65c812c17e9843aa9859a76c7d3dec6e",
            "6897fcc982f34333bcdbcb45ff13cd69",
            "2554c10ac4d149aeb2134f58a80af5ed",
            "ecbfc1530c444b73bcb3f0e48383a988",
            "04b3119a97164bed8ef649dbeace2ce7",
            "ab1389a22c474cc2b939465d39e45e53",
            "09a04473d2534222afbe87fbdb03b2c0",
            "95d86253c86c462480a7def6eb4774cd",
            "442435e390874c51a2744743d06d85a5",
            "09a3303ed01c4bb387f86f06967d46f8",
            "794731afa7a34badab0decabdee8fe0b",
            "5428e08c647f44acb5bb2f62b4074f00",
            "81465cfc31504118bae78582597546a5",
            "594bd3cc0a8144479d4f86c78636f411"
          ]
        },
        "outputId": "896f0f82-fb41-466e-bec2-4ff5be6740be"
      },
      "outputs": [
        {
          "output_type": "stream",
          "name": "stderr",
          "text": [
            "/usr/local/lib/python3.10/dist-packages/huggingface_hub/utils/_token.py:89: UserWarning: \n",
            "The secret `HF_TOKEN` does not exist in your Colab secrets.\n",
            "To authenticate with the Hugging Face Hub, create a token in your settings tab (https://huggingface.co/settings/tokens), set it as secret in your Google Colab and restart your session.\n",
            "You will be able to reuse this secret in all of your notebooks.\n",
            "Please note that authentication is recommended but still optional to access public models or datasets.\n",
            "  warnings.warn(\n"
          ]
        },
        {
          "output_type": "display_data",
          "data": {
            "text/plain": [
              "config.json:   0%|          | 0.00/665 [00:00<?, ?B/s]"
            ],
            "application/vnd.jupyter.widget-view+json": {
              "version_major": 2,
              "version_minor": 0,
              "model_id": "48346c7dbb4840bea4bbe3a3d29c1989"
            }
          },
          "metadata": {}
        },
        {
          "output_type": "display_data",
          "data": {
            "text/plain": [
              "model.safetensors:   0%|          | 0.00/548M [00:00<?, ?B/s]"
            ],
            "application/vnd.jupyter.widget-view+json": {
              "version_major": 2,
              "version_minor": 0,
              "model_id": "33d736d1bde34390b983bb65dd8c63e1"
            }
          },
          "metadata": {}
        },
        {
          "output_type": "display_data",
          "data": {
            "text/plain": [
              "generation_config.json:   0%|          | 0.00/124 [00:00<?, ?B/s]"
            ],
            "application/vnd.jupyter.widget-view+json": {
              "version_major": 2,
              "version_minor": 0,
              "model_id": "07a8d0d615d2415a95ed4db4642d468d"
            }
          },
          "metadata": {}
        },
        {
          "output_type": "display_data",
          "data": {
            "text/plain": [
              "tokenizer_config.json:   0%|          | 0.00/26.0 [00:00<?, ?B/s]"
            ],
            "application/vnd.jupyter.widget-view+json": {
              "version_major": 2,
              "version_minor": 0,
              "model_id": "c36c00b0d12848d69022d715b3611a7d"
            }
          },
          "metadata": {}
        },
        {
          "output_type": "display_data",
          "data": {
            "text/plain": [
              "vocab.json:   0%|          | 0.00/1.04M [00:00<?, ?B/s]"
            ],
            "application/vnd.jupyter.widget-view+json": {
              "version_major": 2,
              "version_minor": 0,
              "model_id": "dc90ea740ef044d7970547cf71a27df2"
            }
          },
          "metadata": {}
        },
        {
          "output_type": "display_data",
          "data": {
            "text/plain": [
              "merges.txt:   0%|          | 0.00/456k [00:00<?, ?B/s]"
            ],
            "application/vnd.jupyter.widget-view+json": {
              "version_major": 2,
              "version_minor": 0,
              "model_id": "0eb45b74752e4a42acb19e360b161b9a"
            }
          },
          "metadata": {}
        },
        {
          "output_type": "display_data",
          "data": {
            "text/plain": [
              "tokenizer.json:   0%|          | 0.00/1.36M [00:00<?, ?B/s]"
            ],
            "application/vnd.jupyter.widget-view+json": {
              "version_major": 2,
              "version_minor": 0,
              "model_id": "ecbfc1530c444b73bcb3f0e48383a988"
            }
          },
          "metadata": {}
        },
        {
          "output_type": "stream",
          "name": "stderr",
          "text": [
            "/usr/local/lib/python3.10/dist-packages/transformers/tokenization_utils_base.py:1601: FutureWarning: `clean_up_tokenization_spaces` was not set. It will be set to `True` by default. This behavior will be depracted in transformers v4.45, and will be then set to `False` by default. For more details check this issue: https://github.com/huggingface/transformers/issues/31884\n",
            "  warnings.warn(\n"
          ]
        },
        {
          "output_type": "stream",
          "name": "stdout",
          "text": [
            "Loaded pretrained model gpt2-small into HookedTransformer\n"
          ]
        }
      ],
      "source": [
        "gpt2_small: HookedTransformer = HookedTransformer.from_pretrained(\"gpt2-small\")"
      ]
    },
    {
      "cell_type": "markdown",
      "metadata": {
        "id": "6Bz6GYhGCWi_"
      },
      "source": [
        "### HookedTransformerConfig\n",
        "\n",
        "Alternatively, you can define a config object, then call `HookedTransformer.from_config(cfg)` to define your model. This is particularly useful when you want to have finer control over the architecture of your model. We'll see an example of this in the next section, when we define an attention-only model to study induction heads.\n",
        "\n",
        "Even if you don't define your model in this way, you can still access the config object through the `cfg` attribute of the model.\n"
      ]
    },
    {
      "cell_type": "markdown",
      "metadata": {
        "id": "iOZFAhYyCK-P"
      },
      "source": [
        "### Exercise - inspect your model\n",
        "\n",
        "```c\n",
        "Difficulty: 🔴⚪⚪⚪⚪\n",
        "Importance: 🔵🔵🔵⚪⚪\n",
        "```\n",
        "\n",
        "Use `gpt2_small.cfg` to find the following, for your GPT-2 Small model:\n",
        "\n",
        "* Number of layers\n",
        "* Number of heads per layer\n",
        "* Maximum context window\n",
        "\n",
        "You might have to check out the documentation page for some of these. If you're in VSCode then you can reach it by right-clicking on `HookedTransformerConfig` and choosing \"Go to definition\". If you're in Colab, then you can read the [GitHub page](https://github.com/neelnanda-io/TransformerLens).\n",
        "\n",
        "<details>\n",
        "<summary>Answer</summary>\n",
        "\n",
        "The following parameters in the config object give you the answers:\n",
        "\n",
        "```\n",
        "cfg.n_layers == 12\n",
        "cfg.n_heads == 12\n",
        "cfg.n_ctx == 1024\n",
        "```\n",
        "\n",
        "</details>\n"
      ]
    },
    {
      "cell_type": "markdown",
      "source": [
        "#### Solution"
      ],
      "metadata": {
        "id": "73NwvH2HCt5A"
      }
    },
    {
      "cell_type": "markdown",
      "source": [
        "- [x] Number of layers: `12`\n",
        "- [x] Number of heads per layer: `12`\n",
        "- [x] Maximum context window: `1024`"
      ],
      "metadata": {
        "id": "BV2f1SytCqVh"
      }
    },
    {
      "cell_type": "markdown",
      "metadata": {
        "id": "iQ4GFi5TDe5j"
      },
      "source": [
        "### Running your model\n",
        "\n",
        "Models can be run on a single string or a tensor of tokens (shape: `[batch, position]`, all integers). The possible return types are:\n",
        "\n",
        "* `\"logits\"` (shape `[batch, position, d_vocab]`, floats),\n",
        "* `\"loss\"` (the cross-entropy loss when predicting the next token),\n",
        "* `\"both\"` (a tuple of `(logits, loss)`)\n",
        "* `None` (run the model, but don't calculate the logits - this is faster when we only want to use intermediate activations)\n"
      ]
    },
    {
      "cell_type": "code",
      "execution_count": 5,
      "metadata": {
        "id": "hgDUf25tDiDK",
        "colab": {
          "base_uri": "https://localhost:8080/"
        },
        "outputId": "18f392e3-ee6d-41b3-bc71-d20c62f3956d"
      },
      "outputs": [
        {
          "output_type": "stream",
          "name": "stdout",
          "text": [
            "Model loss: tensor(4.3443, device='cuda:0')\n"
          ]
        }
      ],
      "source": [
        "model_description_text = '''## Loading Models\n",
        "\n",
        "HookedTransformer comes loaded with >40 open source GPT-style models. You can load any of them in with `HookedTransformer.from_pretrained(MODEL_NAME)`. Each model is loaded into the consistent HookedTransformer architecture, designed to be clean, consistent and interpretability-friendly.\n",
        "\n",
        "For this demo notebook we'll look at GPT-2 Small, an 80M parameter model. To try the model the model out, let's find the loss on this paragraph!'''\n",
        "\n",
        "loss = gpt2_small(model_description_text, return_type=\"loss\")\n",
        "print(\"Model loss:\", loss)"
      ]
    },
    {
      "cell_type": "markdown",
      "metadata": {
        "id": "mYBk1eymDi5X"
      },
      "source": [
        "## Transformer architecture\n",
        "\n",
        "HookedTransformer is a somewhat adapted GPT-2 architecture, but is computationally identical. The most significant changes are to the internal structure of the attention heads:\n",
        "\n",
        "* The weights `W_K`, `W_Q`, `W_V` mapping the residual stream to queries, keys and values are 3 separate matrices, rather than big concatenated one.\n",
        "* The weight matrices `W_K`, `W_Q`, `W_V`, `W_O` and activations have separate `head_index` and `d_head` axes, rather than flattening them into one big axis.\n",
        "    * The activations all have shape `[batch, position, head_index, d_head]`.\n",
        "    * `W_K`, `W_Q`, `W_V` have shape `[head_index, d_model, d_head]` and `W_O` has shape `[head_index, d_head, d_model]`\n",
        "* **Important - we generally follow the convention that weight matrices multiply on the right rather than the left.** In other words, they have shape `[input, output]`, and we have `new_activation = old_activation @ weights + bias`.\n",
        "    * Click the dropdown below for examples of this, if it seems unintuitive.\n",
        "\n",
        "<details>\n",
        "<summary>Examples of matrix multiplication in our model</summary>\n",
        "\n",
        "* **Query matrices**\n",
        "    * Each query matrix `W_Q` for a particular layer and head has shape `[d_model, d_head]`.\n",
        "    * So if a vector `x` in the residual stream has length `d_model`, then the corresponding query vector is `x @ W_Q`, which has length `d_head`.\n",
        "* **Embedding matrix**\n",
        "    * The embedding matrix `W_E` has shape `[d_vocab, d_model]`.\n",
        "    * So if `A` is a one-hot-encoded vector of length `d_vocab` corresponding to a particular token, then the embedding vector for this token is `A @ W_E`, which has length `d_model`.\n",
        "\n",
        "</details>\n",
        "\n",
        "The actual code is a bit of a mess, as there's a variety of Boolean flags to make it consistent with the various different model families in TransformerLens - to understand it and the internal structure, I instead recommend reading the code in [CleanTransformerDemo](https://colab.research.google.com/github/neelnanda-io/TransformerLens/blob/clean-transformer-demo/Clean_Transformer_Demo.ipynb).\n"
      ]
    },
    {
      "cell_type": "markdown",
      "metadata": {
        "id": "GfFvQsrgDx1t"
      },
      "source": [
        "### Parameters and Activations\n",
        "\n",
        "It's important to distinguish between parameters and activations in the model.\n",
        "\n",
        "* **Parameters** are the weights and biases that are learned during training.\n",
        "    * These don't change when the model input changes.\n",
        "    * They can be accessed direction from the model, e.g. `model.W_E` for the embedding matrix.\n",
        "* **Activations** are temporary numbers calculated during a forward pass, that are functions of the input.\n",
        "    * We can think of these values as only existing for the duration of a single forward pass, and disappearing afterwards.\n",
        "    * We can use hooks to access these values during a forward pass (more on hooks later), but it doesn't make sense to talk about a model's activations outside the context of some particular input.\n",
        "    * Attention scores and patterns are activations (this is slightly non-intuitve because they're used in a matrix multiplication with another activation).\n",
        "\n",
        "The link below shows a diagram of a single layer (called a `TransformerBlock`) for an attention-only model with no biases. Each box corresponds to an **activation** (and also tells you the name of the corresponding hook point, which we will eventually use to access those activations). The red text below each box tells you the shape of the activation (ignoring the batch dimension). Each arrow corresponds to an operation on an activation; where there are **parameters** involved these are labelled on the arrows.\n",
        "\n",
        "[Link to diagram](https://raw.githubusercontent.com/callummcdougall/computational-thread-art/master/example_images/misc/small-merm.svg)\n",
        "\n",
        "The next link is to a diagram of a `TransformerBlock` with full features (including biases, layernorms, and MLPs). Don't worry if not all of this makes sense at first - we'll return to some of the details later. As we work with these transformers, we'll get more comfortable with their architecture.\n",
        "\n",
        "[Link to diagram](https://raw.githubusercontent.com/callummcdougall/computational-thread-art/master/example_images/misc/full-merm.svg)\n"
      ]
    },
    {
      "cell_type": "markdown",
      "metadata": {
        "id": "niAB4j1rEJok"
      },
      "source": [
        "A few shortctus to make your lives easier when using these models:\n",
        "\n",
        "* You can index weights like `W_Q` directly from the model via e.g. `model.blocks[0].attn.W_Q` (which gives you the `[nheads, d_model, d_head]` query weights for all heads in layer 0).\n",
        "    * But an easier way is just to index with `model.W_Q`, which gives you the `[nlayers, nheads, d_model, d_head]` tensor containing **every** query weight in the model.\n",
        "* Similarly, there exist shortcuts `model.W_E`, `model.W_U` and `model.W_pos` for the embeddings, unembeddings and positional embeddings respectively.\n",
        "* With models containing MLP layers, you also have `model.W_in` and `model.W_out` for the linear layers.\n",
        "* The same is true for all biases (e.g. `model.b_Q` for all query biases).\n"
      ]
    },
    {
      "cell_type": "markdown",
      "metadata": {
        "id": "ZMVYV4leEKbL"
      },
      "source": [
        "## Tokenization\n",
        "\n",
        "The tokenizer is stored inside the model, and you can access it using `model.tokenizer`. There are also a few helper methods that call the tokenizer under the hood, for instance:\n",
        "\n",
        "* `model.to_str_tokens(text)` converts a string into a list of tokens-as-strings (or a list of strings into a list of lists of tokens-as-strings).\n",
        "* `model.to_tokens(text)` converts a string into a tensor of tokens.\n",
        "* `model.to_string(tokens)` converts a tensor of tokens into a string.\n",
        "\n",
        "Examples of use:\n"
      ]
    },
    {
      "cell_type": "code",
      "execution_count": 6,
      "metadata": {
        "id": "uhYz1-TIENg8",
        "colab": {
          "base_uri": "https://localhost:8080/"
        },
        "outputId": "ca85c8fc-7366-4625-e950-e3cd509bd900"
      },
      "outputs": [
        {
          "output_type": "stream",
          "name": "stdout",
          "text": [
            "['<|endoftext|>', 'g', 'pt', '2']\n",
            "[['<|endoftext|>', 'g', 'pt', '2'], ['<|endoftext|>', 'g', 'pt', '2']]\n",
            "tensor([[50256,    70,   457,    17]], device='cuda:0')\n",
            "<|endoftext|>gpt2\n"
          ]
        }
      ],
      "source": [
        "print(gpt2_small.to_str_tokens(\"gpt2\"))\n",
        "print(gpt2_small.to_str_tokens([\"gpt2\", \"gpt2\"]))\n",
        "print(gpt2_small.to_tokens(\"gpt2\"))\n",
        "print(gpt2_small.to_string([50256, 70, 457, 17]))"
      ]
    },
    {
      "cell_type": "markdown",
      "metadata": {
        "id": "Bqi4ia9gEQ0H"
      },
      "source": [
        "<details>\n",
        "<summary>Aside - <code><|endoftext|></code></summary>\n",
        "\n",
        "A weirdness you may have noticed in the above is that `to_tokens` and `to_str_tokens` added a weird `<|endoftext|>` to the start of each prompt. We encountered this in the previous set of exercises, and noted that this was the **Beginning of Sequence (BOS)** token (which for GPT-2 is also the same as the EOS and PAD tokens - index `50256`.\n",
        "\n",
        "TransformerLens appends this token by default, and it can easily trip up new users. Notably, **this includes** `model.forward` (which is what's implicitly used when you do eg `model(\"Hello World\")`). You can disable this behaviour by setting the flag `prepend_bos=False` in `to_tokens`, `to_str_tokens`, `model.forward` and any other function that converts strings to multi-token tensors.\n",
        "\n",
        "`prepend_bos` is a bit of a hack, and I've gone back and forth on what the correct default here is. The reason I do this is that transformers tend to treat the first token weirdly - this doesn't really matter in training (where all inputs are >1000 tokens), but this can be a big issue when investigating short prompts! The reason for this is that attention patterns are a probability distribution and so need to add up to one, so to simulate being \"off\" they normally look at the first token. Giving them a BOS token lets the heads rest by looking at that, preserving the information in the first \"real\" token.\n",
        "\n",
        "Further, *some* models are trained to need a BOS token (OPT and my interpretability-friendly models are, GPT-2 and GPT-Neo are not). But despite GPT-2 not being trained with this, empirically it seems to make interpretability easier.\n",
        "\n",
        "</details>\n"
      ]
    },
    {
      "cell_type": "markdown",
      "metadata": {
        "id": "n1dzElw0EdAu"
      },
      "source": [
        "### Exercise - how many tokens does your model guess correctly?\n",
        "\n",
        "```c\n",
        "Difficulty: 🔴🔴⚪⚪⚪\n",
        "Importance: 🔵🔵🔵⚪⚪\n",
        "\n",
        "You should spend up to ~10 minutes on this exercise.\n",
        "```\n",
        "\n",
        "Consider the `model_description_text` you fed into your model above. How many tokens did your model guess correctly? Which tokens were correct?\n"
      ]
    },
    {
      "cell_type": "code",
      "execution_count": 7,
      "metadata": {
        "id": "bELe8BuHEgCa"
      },
      "outputs": [],
      "source": [
        "logits: Tensor = gpt2_small(model_description_text, return_type=\"logits\")\n",
        "prediction = logits.argmax(dim=-1).squeeze()[:-1]"
      ]
    },
    {
      "cell_type": "code",
      "source": [
        "model_description_tokens = gpt2_small.to_tokens(model_description_text, prepend_bos=False)\n",
        "print(len(model_description_tokens[0]))"
      ],
      "metadata": {
        "colab": {
          "base_uri": "https://localhost:8080/"
        },
        "id": "wFCiNQltFGLM",
        "outputId": "6c77ef9b-58c7-49c2-f06c-e4e86f34c34e"
      },
      "execution_count": 14,
      "outputs": [
        {
          "output_type": "stream",
          "name": "stdout",
          "text": [
            "111\n"
          ]
        }
      ]
    },
    {
      "cell_type": "code",
      "source": [
        "# YOUR CODE HERE - get the model's prediction on the text\n",
        "print(len(prediction))"
      ],
      "metadata": {
        "colab": {
          "base_uri": "https://localhost:8080/"
        },
        "id": "B5aLdbZbE-_f",
        "outputId": "d3ecf500-3ffc-435e-fa1b-03875ca58773"
      },
      "execution_count": 15,
      "outputs": [
        {
          "output_type": "stream",
          "name": "stdout",
          "text": [
            "111\n"
          ]
        }
      ]
    },
    {
      "cell_type": "code",
      "source": [
        "res = prediction==model_description_tokens[0]\n",
        "print(f'Correct Tokens: {sum(res)}/{len(res)}')"
      ],
      "metadata": {
        "colab": {
          "base_uri": "https://localhost:8080/"
        },
        "id": "WrNuxg4TFdyp",
        "outputId": "2554f063-ad1b-46c6-81cd-58ead9d678b3"
      },
      "execution_count": 19,
      "outputs": [
        {
          "output_type": "stream",
          "name": "stdout",
          "text": [
            "Correct Tokens: 33/111\n"
          ]
        }
      ]
    },
    {
      "cell_type": "code",
      "source": [
        "correct_tokens = gpt2_small.to_str_tokens(prediction[res])\n",
        "print(correct_tokens)"
      ],
      "metadata": {
        "colab": {
          "base_uri": "https://localhost:8080/"
        },
        "id": "njF6pzYTFFfX",
        "outputId": "921984de-ca39-4365-d774-de0087fe949a"
      },
      "execution_count": 22,
      "outputs": [
        {
          "output_type": "stream",
          "name": "stdout",
          "text": [
            "['\\n', '\\n', 'former', ' with', ' models', '.', ' can', ' of', 'ooked', 'Trans', 'former', '_', 'NAME', '`.', ' model', ' the', 'Trans', 'former', ' to', ' be', ' and', '-', '.', '\\n', '\\n', ' at', 'PT', '-', ',', ' model', ',', \"'s\", ' the']\n"
          ]
        }
      ]
    },
    {
      "cell_type": "markdown",
      "metadata": {
        "id": "n3DrdBkEEiRA"
      },
      "source": [
        "<details>\n",
        "<summary>Hint</summary>\n",
        "\n",
        "Use `return_type=\"logits\"` to get the model's predictions, then take argmax across the vocab dimension. Then, compare these predictions with the actual tokens, derived from the `model_description_text`.\n",
        "\n",
        "Remember, you should be comparing the `[:-1]`th elements of this tensor of predictions with the `[1:]`th elements of the input tokens (because your model's output represents a probability distribution over the *next* token, not the current one).\n",
        "\n",
        "Also, remember to handle the batch dimension (since `logits`, and the output of `to_tokens`, will both have batch dimensions by default).\n",
        "\n",
        "</details>\n",
        "\n",
        "<details>\n",
        "<summary>Answer - what you should see</summary>\n",
        "\n",
        "```\n",
        "Model accuracy: 33/111\n",
        "Correct tokens: ['\\n', '\\n', 'former', ' with', ' models', '.', ' can', ' of', 'ooked', 'Trans', 'former', '_', 'NAME', '`.', ' model', ' the', 'Trans', 'former', ' to', ' be', ' and', '-', '.', '\\n', '\\n', ' at', 'PT', '-', ',', ' model', ',', \"'s\", ' the']\n",
        "```\n",
        "\n",
        "So the model got 33 out of 111 tokens correct. Not too bad!\n",
        "\n",
        "</details>"
      ]
    },
    {
      "cell_type": "markdown",
      "metadata": {
        "id": "UX_lpxWuEm4P"
      },
      "source": [
        "**Induction heads** are a special kind of attention head which we'll examine a lot more in coming exercises. They allow a model to perform in-context learning of a specific form: generalising from one observation that token `B` follows token `A`, to predict that token `B` will follow `A` in future occurrences of `A`, even if these two tokens had never appeared together in the model's training data.\n",
        "\n",
        "**Can you see evidence of any induction heads at work, on this text?**\n",
        "\n",
        "<details>\n",
        "<summary>Evidence of induction heads</summary>\n",
        "\n",
        "The evidence for induction heads comes from the fact that the model successfully predicted `'ooked', 'Trans', 'former'` following the token `'H'`. This is because it's the second time that `HookedTransformer` had appeared in this text string, and the model predicted it the second time but not the first. (The model did predict `former` the first time, but we can reasonably assume that `Transformer` is a word this model had already been exposed to during training, so this prediction wouldn't require the induction capability, unlike `HookedTransformer`.)\n",
        "\n",
        "```python\n",
        "print(gpt2_small.to_str_tokens(\"HookedTransformer\", prepend_bos=False))     # --> ['H', 'ooked', 'Trans', 'former']\n",
        "```\n",
        "</details>\n"
      ]
    },
    {
      "cell_type": "markdown",
      "metadata": {
        "id": "cTaC3NSKFZBm"
      },
      "source": [
        "## Caching all Activations\n",
        "\n",
        "The first basic operation when doing mechanistic interpretability is to break open the black box of the model and look at all of the internal activations of a model. This can be done with `logits, cache = model.run_with_cache(tokens)`. Let's try this out, on the first sentence from the GPT-2 paper.\n",
        "\n",
        "<details>\n",
        "<summary>Aside - a note on <code>remove_batch_dim</code></summary>\n",
        "\n",
        "Every activation inside the model begins with a batch dimension. Here, because we only entered a single batch dimension, that dimension is always length 1 and kinda annoying, so passing in the `remove_batch_dim=True` keyword removes it.\n",
        "\n",
        "`gpt2_cache_no_batch_dim = gpt2_cache.remove_batch_dim()` would have achieved the same effect.\n",
        "</details>\n"
      ]
    },
    {
      "cell_type": "code",
      "execution_count": null,
      "metadata": {
        "id": "5qVoXngtFtdX"
      },
      "outputs": [],
      "source": [
        "gpt2_text = \"Natural language processing tasks, such as question answering, machine translation, reading comprehension, and summarization, are typically approached with supervised learning on taskspecific datasets.\"\n",
        "gpt2_tokens = gpt2_small.to_tokens(gpt2_text)\n",
        "gpt2_logits, gpt2_cache = gpt2_small.run_with_cache(gpt2_tokens, remove_batch_dim=True)"
      ]
    },
    {
      "cell_type": "markdown",
      "metadata": {
        "id": "rSHVuoxUFwrz"
      },
      "source": [
        "If you inspect the `gpt2_cache` object, you should see that it contains a very large number of keys, each one corresponding to a different activation in the model. You can access the keys by indexing the cache directly, or by a more convenient indexing shorthand. For instance, the code:\n"
      ]
    },
    {
      "cell_type": "code",
      "execution_count": null,
      "metadata": {
        "id": "g6S7nL1SFxlm"
      },
      "outputs": [],
      "source": [
        "attn_patterns_layer_0 = gpt2_cache[\"pattern\", 0]"
      ]
    },
    {
      "cell_type": "markdown",
      "metadata": {
        "id": "6CPykIduFz6C"
      },
      "source": [
        "returns the same thing as:\n"
      ]
    },
    {
      "cell_type": "code",
      "execution_count": null,
      "metadata": {
        "id": "PIsPKXKOF2KA"
      },
      "outputs": [],
      "source": [
        "attn_patterns_layer_0_copy = gpt2_cache[\"blocks.0.attn.hook_pattern\"]\n",
        "\n",
        "t.testing.assert_close(attn_patterns_layer_0, attn_patterns_layer_0_copy)"
      ]
    },
    {
      "cell_type": "markdown",
      "metadata": {
        "id": "efgg9LEEF33O"
      },
      "source": [
        "<details>\n",
        "<summary>Aside: <code>utils.get_act_name</code></summary>\n",
        "\n",
        "The reason these are the same is that, under the hood, the first example actually indexes by `utils.get_act_name(\"pattern\", 0)`, which evaluates to `\"blocks.0.attn.hook_pattern\"`.\n",
        "\n",
        "In general, `utils.get_act_name` is a useful function for getting the full name of an activation, given its short name and layer number.\n",
        "\n",
        "You can use the diagram from the **Transformer Architecture** section to help you find activation names.\n",
        "</details>\n"
      ]
    },
    {
      "cell_type": "markdown",
      "metadata": {
        "id": "deNLzOcuF9yP"
      },
      "source": [
        "### Exercise - verify activations\n",
        "\n",
        "```c\n",
        "Difficulty: 🔴🔴🔴⚪⚪\n",
        "Importance: 🔵🔵🔵⚪⚪\n",
        "\n",
        "You should spend up to 10-15 minutes on this exercise.\n",
        "\n",
        "If you're already comfortable implementing things like attention calculations (e.g. having gone through Neel's transformer walkthrough) you can skip this exercise. However, it might serve as a useful refresher.\n",
        "```\n",
        "\n",
        "Verify that `hook_q`, `hook_k` and `hook_pattern` are related to each other in the way implied by the diagram. Do this by computing `layer0_pattern_from_cache` (the attention pattern taken directly from the cache, for layer 0) and `layer0_pattern_from_q_and_k` (the attention pattern calculated from `hook_q` and `hook_k`, for layer 0). Remember that attention pattern is the probabilities, so you'll need to scale and softmax appropriately.\n"
      ]
    },
    {
      "cell_type": "code",
      "execution_count": null,
      "metadata": {
        "id": "gi6rAACXGHAY"
      },
      "outputs": [],
      "source": [
        "layer0_pattern_from_cache = gpt2_cache[\"pattern\", 0]\n",
        "\n",
        "# YOUR CODE HERE - define `layer0_pattern_from_q_and_k` manually, by manually performing the steps of the attention calculation (dot product, masking, scaling, softmax)\n",
        "t.testing.assert_close(layer0_pattern_from_cache, layer0_pattern_from_q_and_k)\n",
        "print(\"Tests passed!\")"
      ]
    },
    {
      "cell_type": "markdown",
      "metadata": {
        "id": "3FDUELPcGC0W"
      },
      "source": [
        "<details>\n",
        "<summary>Hint</summary>\n",
        "\n",
        "You'll need to use three different cache indexes in all:\n",
        "\n",
        "* `gpt2_cache[\"pattern\", 0]` to get the attention patterns, which have shape `[seqQ, seqK]`\n",
        "* `gpt2_cache[\"q\", 0]` to get the query vectors, which have shape `[seqQ, nhead, headsize]`\n",
        "* `gpt2_cache[\"k\", 0]` to get the key vectors, which have shape `[seqK, nhead, headsize]`\n",
        "\n",
        "</details>\n"
      ]
    },
    {
      "cell_type": "markdown",
      "metadata": {
        "id": "dAfJSiXBGRin"
      },
      "source": [
        "## Visualising Attention Heads\n",
        "\n",
        "A key insight from the Mathematical Frameworks paper is that we should focus on interpreting the parts of the model that are intrinsically interpretable - the input tokens, the output logits and the attention patterns. Everything else (the residual stream, keys, queries, values, etc) are compressed intermediate states when calculating meaningful things. So a natural place to start is classifying heads by their attention patterns on various texts.\n",
        "\n",
        "When doing interpretability, it's always good to begin by visualising your data, rather than taking summary statistics. Summary statistics can be super misleading! But now that we have visualised the attention patterns, we can create some basic summary statistics and use our visualisations to validate them! (Accordingly, being good at web dev/data visualisation is a surprisingly useful skillset! Neural networks are very high-dimensional object.)\n",
        "\n",
        "Let's visualize the attention pattern of all the heads in layer 0, using [Alan Cooney's CircuitsVis library](https://github.com/alan-cooney/CircuitsVis) (based on Anthropic's PySvelte library). If you did the previous set of exercises, you'll have seen this library before.\n",
        "\n",
        "We will use the function `cv.attention.attention_patterns`, which takes two important arguments:\n",
        "\n",
        "* `attention`: Attention head activations.\n",
        "    * This should be a tensor of shape `[nhead, seq_dest, seq_src]`, i.e. the `[i, :, :]`th element is the grid of attention patterns (probabilities) for the `i`th attention head.\n",
        "    * We get this by indexing our `gpt2_cache` object.\n",
        "* `tokens`: List of tokens (e.g. `[\"A\", \"person\"]`).\n",
        "    * Sequence length must match that inferred from `attention`.\n",
        "    * This is used to label the grid.\n",
        "    * We get this by using the `gpt2_small.to_str_tokens` method.\n",
        "\n",
        "(Another optional argument is `attention_head_names`, which is useful if you don't just want the heads to show up as \"Head 0\", \"Head 1\", ... in the visualisation. Also, note that we can use `cv.attention.attention_patterns` too, which has the same syntax but presents information differently, and can be more helpful in some cases.)\n",
        "\n",
        "<details>\n",
        "<summary>Help - my <code>attention_heads</code> plots are behaving weirdly (e.g. they continually shrink after I plot them).</summary>\n",
        "\n",
        "This seems to be a bug in `circuitsvis` - on VSCode, the attention head plots continually shrink in size.\n",
        "\n",
        "Until this is fixed, one way to get around it is to open the plots in your browser. You can do this inline with the `webbrowser` library:\n",
        "\n",
        "```python\n",
        "attn_heads = cv.attention.attention_heads(\n",
        "    tokens=gpt2_str_tokens,\n",
        "    attention=attention_pattern,\n",
        "    attention_head_names=[f\"L0H{i}\" for i in range(12)],\n",
        ")\n",
        "\n",
        "path = \"attn_heads.html\"\n",
        "\n",
        "with open(path, \"w\") as f:\n",
        "    f.write(str(attn_heads))\n",
        "\n",
        "webbrowser.open(path)\n",
        "```\n",
        "\n",
        "To check exactly where this is getting saved, you can print your current working directory with `os.getcwd()`.\n",
        "</details>\n",
        "\n",
        "This visualization is interactive! Try hovering over a token or head, and click to lock. The grid on the top left and for each head is the attention pattern as a destination position by source position grid. It's lower triangular because GPT-2 has **causal attention**, attention can only look backwards, so information can only move forwards in the network.\n"
      ]
    },
    {
      "cell_type": "code",
      "execution_count": null,
      "metadata": {
        "id": "Pm7LUCkYGjcV"
      },
      "outputs": [],
      "source": [
        "print(type(gpt2_cache))\n",
        "attention_pattern = gpt2_cache[\"pattern\", 0]\n",
        "print(attention_pattern.shape)\n",
        "gpt2_str_tokens = gpt2_small.to_str_tokens(gpt2_text)\n",
        "\n",
        "print(\"Layer 0 Head Attention Patterns:\")\n",
        "display(cv.attention.attention_patterns(\n",
        "    tokens=gpt2_str_tokens,\n",
        "    attention=attention_pattern,\n",
        "    attention_head_names=[f\"L0H{i}\" for i in range(12)],\n",
        "))"
      ]
    },
    {
      "cell_type": "markdown",
      "metadata": {
        "id": "sDvQvf3nGlgp"
      },
      "source": [
        "Hover over heads to see the attention patterns; click on a head to lock it. Hover over each token to see which other tokens it attends to (or which other tokens attend to it - you can see this by changing the dropdown to `Destination <- Source`).\n"
      ]
    },
    {
      "cell_type": "markdown",
      "source": [
        "\n",
        "<details>\n",
        "<summary>Other circuitsvis functions - neuron activations</summary>\n",
        "\n",
        "The `circuitsvis` library also has a number of cool visualisations for **neuron activations**. Here are some more of them (you don't have to understand them all now, but you can come back to them later).\n",
        "\n",
        "The function below visualises neuron activations. The example shows just one sequence, but it can also show multiple sequences (if `tokens` is a list of lists of strings, and `activations` is a list of tensors).\n",
        "\n",
        "```python\n",
        "neuron_activations_for_all_layers = t.stack([\n",
        "    gpt2_cache[\"post\", layer] for layer in range(gpt2_small.cfg.n_layers)\n",
        "], dim=1)\n",
        "# shape = (seq_pos, layers, neurons)\n",
        "\n",
        "cv.activations.text_neuron_activations(\n",
        "    tokens=gpt2_str_tokens,\n",
        "    activations=neuron_activations_for_all_layers\n",
        ")\n",
        "```\n",
        "\n",
        "The next function shows which words each of the neurons activates most / least on (note that it requires some weird indexing to work correctly).\n",
        "\n",
        "```python\n",
        "neuron_activations_for_all_layers_rearranged = utils.to_numpy(einops.rearrange(neuron_activations_for_all_layers, \"seq layers neurons -> 1 layers seq neurons\"))\n",
        "\n",
        "cv.topk_tokens.topk_tokens(\n",
        "    # Some weird indexing required here ¯\\_(ツ)_/¯\n",
        "    tokens=[gpt2_str_tokens],\n",
        "    activations=neuron_activations_for_all_layers_rearranged,\n",
        "    max_k=7,\n",
        "    first_dimension_name=\"Layer\",\n",
        "    third_dimension_name=\"Neuron\",\n",
        "    first_dimension_labels=list(range(12))\n",
        ")\n",
        "```\n",
        "</details>"
      ],
      "metadata": {
        "id": "DV4pHPMSMROZ"
      }
    },
    {
      "cell_type": "markdown",
      "metadata": {
        "id": "c9dS0gMOGrOZ"
      },
      "source": [
        "# 2️⃣ Finding induction heads\n"
      ]
    },
    {
      "cell_type": "markdown",
      "metadata": {
        "id": "8paALp2IGyqR"
      },
      "source": [
        "> ##### Learning objectives\n",
        ">\n",
        "> - Understand what induction heads are, and the algorithm they are implementing\n",
        "> - Inspect activation patterns to identify basic attention head patterns, and write your own functions to detect attention heads for you\n",
        "> - Identify induction heads by looking at the attention patterns produced from a repeating random sequence\n"
      ]
    },
    {
      "cell_type": "markdown",
      "metadata": {
        "id": "OclKuCm_G4EI"
      },
      "source": [
        "## Introducing Our Toy Attention-Only Model\n",
        "\n",
        "Here we introduce a toy 2L attention-only transformer trained specifically for today. Some changes to make them easier to interpret:\n",
        "- It has only attention blocks.\n",
        "- The positional embeddings are only added to the residual stream before each key and query vector in the attention layers as opposed to the token embeddings - i.e. we compute queries as `Q = (resid + pos_embed) @ W_Q + b_Q` and same for keys, but values as `V = resid @ W_V + b_V`. This means that **the residual stream can't directly encode positional information**.\n",
        "    - This turns out to make it *way* easier for induction heads to form, it happens 2-3x times earlier - [see the comparison of two training runs](https://wandb.ai/mechanistic-interpretability/attn-only/reports/loss_ewma-22-08-24-11-08-83---VmlldzoyNTI0MDMz?accessToken=8ap8ir6y072uqa4f9uinotdtrwmoa8d8k2je4ec0lyasf1jcm3mtdh37ouijgdbm) here. (The bump in each curve is the formation of induction heads.)\n",
        "    - The argument that does this below is `positional_embedding_type=\"shortformer\"`.\n",
        "- It has no MLP layers, no LayerNorms, and no biases.\n",
        "- There are separate embed and unembed matrices (i.e. the weights are not tied).\n",
        "\n",
        "\\*In other words, we compute\n",
        "\n",
        "We now define our model with a `HookedTransformerConfig` object. This is similar to the `Config` object we used in the previous set of exercises, although it has a lot more features. You can look at the documentation page (Right-click, \"Go to Definition\" in VSCode) to seee what the different arguments do.\n"
      ]
    },
    {
      "cell_type": "code",
      "execution_count": null,
      "metadata": {
        "id": "Az0iWVMUGnIy"
      },
      "outputs": [],
      "source": [
        "cfg = HookedTransformerConfig(\n",
        "    d_model=768,\n",
        "    d_head=64,\n",
        "    n_heads=12,\n",
        "    n_layers=2,\n",
        "    n_ctx=2048,\n",
        "    d_vocab=50278,\n",
        "    attention_dir=\"causal\",\n",
        "    attn_only=True, # defaults to False\n",
        "    tokenizer_name=\"EleutherAI/gpt-neox-20b\",\n",
        "    seed=398,\n",
        "    use_attn_result=True,\n",
        "    normalization_type=None, # defaults to \"LN\", i.e. layernorm with weights & biases\n",
        "    positional_embedding_type=\"shortformer\"\n",
        ")"
      ]
    },
    {
      "cell_type": "markdown",
      "metadata": {
        "id": "YSK_0Z0EG8vE"
      },
      "source": [
        "<details>\n",
        "<summary>An aside about tokenizers</summary>\n",
        "\n",
        "In the last section, we defined a tokenizer explicitly, and passed it into our model. But here, we just pass a tokenizer name. The model automatically creates a tokenizer for us (under the hood, it calls `AutoTokenizer.from_pretrained(tokenizer_name)`).\n",
        "</details>\n",
        "\n",
        "Below, you'll load in your weights, with some boilerplate code to download your state dict from HuggingFace (you can do this for any model you've uploaded to HuggingFace yourself):\n"
      ]
    },
    {
      "cell_type": "code",
      "execution_count": null,
      "metadata": {
        "id": "ZiO18Aj6hNnK"
      },
      "outputs": [],
      "source": [
        "from huggingface_hub import hf_hub_download\n",
        "\n",
        "REPO_ID = \"callummcdougall/attn_only_2L_half\"\n",
        "FILENAME = \"attn_only_2L_half.pth\"\n",
        "\n",
        "weights_path = hf_hub_download(repo_id=REPO_ID, filename=FILENAME)"
      ]
    },
    {
      "cell_type": "markdown",
      "metadata": {
        "id": "uh9NhPrBhNnK"
      },
      "source": [
        "Finally, we'll create our model and load in the weights:\n"
      ]
    },
    {
      "cell_type": "code",
      "execution_count": null,
      "metadata": {
        "id": "mkwIxlMgHDcV"
      },
      "outputs": [],
      "source": [
        "model = HookedTransformer(cfg)\n",
        "pretrained_weights = t.load(weights_path, map_location=device)\n",
        "model.load_state_dict(pretrained_weights)"
      ]
    },
    {
      "cell_type": "markdown",
      "metadata": {
        "id": "aI2rp_mKHFGC"
      },
      "source": [
        "Use the [diagram at this link](https://raw.githubusercontent.com/callummcdougall/computational-thread-art/master/example_images/misc/small-merm.svg) to remind yourself of the relevant hook names.\n"
      ]
    },
    {
      "cell_type": "markdown",
      "metadata": {
        "id": "vBDA1EbxHL5R"
      },
      "source": [
        "### Exercise - visualise attention patterns\n",
        "\n",
        "```c\n",
        "Difficulty: 🔴🔴⚪⚪⚪\n",
        "Importance: 🔵🔵🔵⚪⚪\n",
        "\n",
        "You should spend up to ~10 minutes on this exercise.\n",
        "\n",
        "It's important to be comfortable using circuitsvis, and the cache object.\n",
        "```\n",
        "\n",
        "*This exercise should be very quick - you can reuse code from the previous section. You should look at the solution if you're still stuck after 5-10 minutes.*\n",
        "\n",
        "Visualise the attention patterns for both layers of your model, on the following prompt:\n"
      ]
    },
    {
      "cell_type": "code",
      "execution_count": null,
      "metadata": {
        "id": "wF2PES1PHVSf"
      },
      "outputs": [],
      "source": [
        "text = \"We think that powerful, significantly superhuman machine intelligence is more likely than not to be created this century. If current machine learning techniques were scaled up to this level, we think they would by default produce systems that are deceptive or manipulative, and that no solid plans are known for how to avoid this.\"\n",
        "\n",
        "logits, cache = model.run_with_cache(text, remove_batch_dim=True)"
      ]
    },
    {
      "cell_type": "markdown",
      "metadata": {
        "id": "JwukbB_qHS7c"
      },
      "source": [
        "*(Note that we've run the model on the string `text`, rather than on tokens like we did previously when creating a cache - this is something that `HookedTransformer` allows.)*\n",
        "\n",
        "Inspect the attention patterns. What do you notice about the attention heads?\n",
        "\n",
        "You should spot three relatively distinctive basic patterns, which occur in multiple heads. What are these patterns, and can you guess why they might be present?\n",
        "\n",
        "<details>\n",
        "<summary>Aside - what to do if your plots won't show up</summary>\n",
        "\n",
        "A common mistake is to fail to pass the tokens in as arguments. If you do this, your attention patterns won't render.\n",
        "\n",
        "If this isn't the problem, then it might be an issue with the Circuitsvis library.Rather than plotting inline, you can do the following, and then open in your browser from the left-hand file explorer menu of VSCode:\n",
        "</details>\n"
      ]
    },
    {
      "cell_type": "code",
      "execution_count": null,
      "metadata": {
        "id": "WC23gqMaHfRf"
      },
      "outputs": [],
      "source": [
        "# YOUR CODE HERE - visualize attention"
      ]
    },
    {
      "cell_type": "markdown",
      "metadata": {
        "id": "A00EWF9WHUQX"
      },
      "source": [
        "<details>\n",
        "<summary>Discussion of results </summary>\n",
        "\n",
        "We notice that there are three basic patterns which repeat quite frequently:\n",
        "\n",
        "* `prev_token_heads`, which attend mainly to the previous token (e.g. head `0.7`)\n",
        "* `current_token_heads`, which attend mainly to the current token (e.g. head `1.6`)\n",
        "* `first_token_heads`, which attend mainly to the first token (e.g. heads `0.3` or `1.4`, although these are a bit less clear-cut than the other two)\n",
        "\n",
        "The `prev_token_heads` and `current_token_heads` are perhaps unsurprising, because words that are close together in a sequence probably have a lot more mutual information (i.e. we could get quite far using bigram or trigram prediction).\n",
        "\n",
        "The `first_token_heads` are a bit more surprising. The basic intuition here is that the first token in a sequence is often used as a resting or null position for heads that only sometimes activate (since our attention probabilities always have to add up to 1).\n",
        "</details>\n"
      ]
    },
    {
      "cell_type": "markdown",
      "metadata": {
        "id": "Od-uDxRaHUOQ"
      },
      "source": [
        "Now that we've observed our three basic attention patterns, it's time to make detectors for those patterns!\n"
      ]
    },
    {
      "cell_type": "markdown",
      "metadata": {
        "id": "aGXkm-zgHUL9"
      },
      "source": [
        "### Exercise - write your own detectors\n",
        "\n",
        "```c\n",
        "Difficulty: 🔴🔴⚪⚪⚪\n",
        "Importance: 🔵🔵🔵⚪⚪\n",
        "\n",
        "You shouldn't spend more than 15-20 minutes on these exercises.\n",
        "\n",
        "These exercises shouldn't be too challenging, if you understand attention patterns. Use the hint if stuck on things like how to correctly index your tensors, or how to access the activation patterns from the cache.\n",
        "```\n",
        "\n",
        "You should fill in the functions below, which act as detectors for particular types of heads. Validate your detectors by comparing these results to the visual attention patterns above - summary statistics on their own can be dodgy, but are much more reliable if you can validate it by directly playing with the data.\n",
        "\n",
        "Tasks like this are useful, because we need to be able to take our observations / intuitions about what a model is doing, and translate these into quantitative measures. As the exercises proceed, we'll be creating some much more interesting tools and detectors!\n",
        "\n",
        "Note - there's no objectively correct answer for which heads are doing which tasks, and which detectors can spot them. You should just try and come up with something plausible-seeming, which identifies the kind of behaviour you're looking for.\n"
      ]
    },
    {
      "cell_type": "code",
      "execution_count": null,
      "metadata": {
        "id": "3kGccWbxH7oV"
      },
      "outputs": [],
      "source": [
        "def current_attn_detector(cache: ActivationCache) -> list[str]:\n",
        "    '''\n",
        "    Returns a list e.g. [\"0.2\", \"1.4\", \"1.9\"] of \"layer.head\" which you judge to be current-token heads\n",
        "    '''\n",
        "    pass\n",
        "\n",
        "\n",
        "def prev_attn_detector(cache: ActivationCache) -> list[str]:\n",
        "    '''\n",
        "    Returns a list e.g. [\"0.2\", \"1.4\", \"1.9\"] of \"layer.head\" which you judge to be prev-token heads\n",
        "    '''\n",
        "    pass\n",
        "\n",
        "\n",
        "def first_attn_detector(cache: ActivationCache) -> list[str]:\n",
        "    '''\n",
        "    Returns a list e.g. [\"0.2\", \"1.4\", \"1.9\"] of \"layer.head\" which you judge to be first-token heads\n",
        "    '''\n",
        "    pass\n",
        "\n",
        "\n",
        "print(\"Heads attending to current token  = \", \", \".join(current_attn_detector(cache)))\n",
        "print(\"Heads attending to previous token = \", \", \".join(prev_attn_detector(cache)))\n",
        "print(\"Heads attending to first token    = \", \", \".join(first_attn_detector(cache)))"
      ]
    },
    {
      "cell_type": "markdown",
      "metadata": {
        "id": "21HXRwbSSy_8"
      },
      "source": [
        "<details>\n",
        "<summary>Hint</summary>\n",
        "\n",
        "Try and compute the average attention probability along the relevant tokens. For instance, you can get the tokens just below the diagonal by using `t.diagonal` with appropriate `offset` parameter:\n",
        "\n",
        "```python\n",
        ">>> arr = t.arange(9).reshape(3, 3)\n",
        ">>> arr\n",
        "tensor([[0, 1, 2],\n",
        "        [3, 4, 5],\n",
        "        [6, 7, 8]])\n",
        "\n",
        ">>> arr.diagonal()\n",
        "tensor([0, 4, 8])\n",
        "\n",
        ">>> arr.diagonal(-1)\n",
        "tensor([3, 7])\n",
        "```\n",
        "\n",
        "Remember that you should be using `cache[\"pattern\", layer]` to get all the attention probabilities for a given layer, and then indexing on the 0th dimension to get the correct head.\n",
        "</details>\n"
      ]
    },
    {
      "cell_type": "markdown",
      "metadata": {
        "id": "HAxjI6Q9HUJx"
      },
      "source": [
        "Compare the printouts to your attention visualisations above. Do they seem to make sense?\n",
        "\n",
        "### Bonus - try different text\n",
        "\n",
        "Try inputting different text, and see how stable your results are. Do you always get the same classifications for heads?\n"
      ]
    },
    {
      "cell_type": "markdown",
      "metadata": {
        "id": "XsZy1UBgHUHU"
      },
      "source": [
        "Now, it's time to turn our attention to induction heads.\n",
        "\n",
        "## What are induction heads?\n",
        "\n",
        "(Note: I use induction **head** to refer to the head in the second layer which attends to the 'token immediately after the copy of the current token', and induction **circuit** to refer to the circuit consisting of the composition of a **previous token head** in layer 0 and an **induction head** in layer 1)\n",
        "\n",
        "[Induction heads](https://transformer-circuits.pub/2021/framework/index.html#induction-heads) are the first sophisticated circuit we see in transformers! And are sufficiently interesting that we wrote [another paper just about them](https://transformer-circuits.pub/2022/in-context-learning-and-induction-heads/index.html).\n",
        "\n",
        "<details>\n",
        "<summary>An aside on why induction heads are a big deal</summary>\n",
        "\n",
        "There's a few particularly striking things about induction heads:\n",
        "\n",
        "* They develop fairly suddenly in a phase change - from about 2B to 4B tokens we go from no induction heads to pretty well developed ones. This is a striking divergence from a 1L model [see the comparison of in context learning performance curves curves for models with different layers](https://transformer-circuits.pub/2022/in-context-learning-and-induction-heads/index.html#:~:text=Our%20first%20observation) and can be observed in much larger models (eg a 13B one)\n",
        "    * Phase changes are particularly interesting (and depressing) from an alignment perspective, because the prospect of a sharp left turn, or emergent capabilities like deception or situational awareness seems like worlds where alignment may be harder, and we get caught by surprise without warning shots or simpler but analogous models to test our techniques on.\n",
        "* They are responsible for a significant loss decrease - so much so that there's a visible bump in the loss curve when they develop (this change in loss can be pretty comparable to the increase in loss from major increases in model size, though this is hard to make an apples-to-apples comparison)\n",
        "* They seem to be responsible for the vast majority of in-context learning - the ability to use far back tokens in the context to predict the next token. This is a significant way in which transformers outperform older architectures like RNNs or LSTMs, and induction heads seem to be a big part of this.\n",
        "* The same core circuit seems to be used in a bunch of more sophisticated settings, such as translation or few-shot learning - there are heads that seem clearly responsible for those *and* which double as induction heads.\n",
        "\n",
        "</details>\n",
        "\n",
        "Again, you are strongly recommended to read the [corresponding section of the glossary](https://dynalist.io/d/n2ZWtnoYHrU1s4vnFSAQ519J#z=_Jzi6YHRHKP1JziwdE02qdYZ), before continuing (or [this LessWrong post](https://www.lesswrong.com/posts/TvrfY4c9eaGLeyDkE/induction-heads-illustrated)). In brief, however, the induction circuit consists of a previous token head in layer 0 and an induction head in layer 1, where the induction head learns to attend to the token immediately *after* copies of the current token via K-Composition with the previous token head.\n",
        "\n",
        "##### Question - why couldn't an induction head form in a 1L model?\n",
        "\n",
        "<details>\n",
        "<summary>Answer</summary>\n",
        "\n",
        "Because this would require a head which attends a key position based on the *value of the token before it*. Attention scores are just a function of the key token and the query token, and are not a function of other tokens.\n",
        "\n",
        "(The attention pattern *does* in fact include effects from other tokens because of softmax - if another key token has a high attention score, softmax inhibits this pair. But this inhibition is symmetric across positions, so can't systematically favour the token *next* to the relevant one.)\n",
        "\n",
        "Note that a key detail is that the value of adjacent tokens are (approximately) unrelated - if the model wanted to attend based on relative *position* this is easy.\n",
        "</details>\n"
      ]
    },
    {
      "cell_type": "markdown",
      "metadata": {
        "id": "mejpDZlBHUEL"
      },
      "source": [
        "## Checking for the induction capability\n",
        "\n",
        "A striking thing about models with induction heads is that, given a repeated sequence of random tokens, they can predict the repeated half of the sequence. This is nothing like it's training data, so this is kind of wild! The ability to predict this kind of out of distribution generalisation is a strong point of evidence that you've really understood a circuit.\n",
        "\n",
        "To check that this model has induction heads, we're going to run it on exactly that, and compare performance on the two halves - you should see a striking difference in the per token losses.\n",
        "\n",
        "Note - we're using small sequences (and just one sequence), since the results are very obvious and this makes it easier to visualise. In practice we'd obviously use larger ones on more subtle tasks. But it's often easiest to iterate and debug on small tasks.\n"
      ]
    },
    {
      "cell_type": "markdown",
      "metadata": {
        "id": "--Rc6KozHT-1"
      },
      "source": [
        "### Exercise - plot per-token loss on repeated sequence\n",
        "\n",
        "```c\n",
        "Difficulty: 🔴🔴⚪⚪⚪\n",
        "Importance: 🔵🔵⚪⚪⚪\n",
        "\n",
        "You shouldn't spend more than 10-15 minutes on these exercises.\n",
        "```\n",
        "\n",
        "You should fill in the functions below. We've given you the first line of the first function, which defines a prefix (remember we need the BOS token for GPT-2, since it was trained to have one).\n"
      ]
    },
    {
      "cell_type": "code",
      "execution_count": null,
      "metadata": {
        "id": "APlyxd32IWzV"
      },
      "outputs": [],
      "source": [
        "def generate_repeated_tokens(\n",
        "    model: HookedTransformer, seq_len: int, batch: int = 1\n",
        ") -> Int[Tensor, \"batch full_seq_len\"]:\n",
        "    '''\n",
        "    Generates a sequence of repeated random tokens\n",
        "\n",
        "    Outputs are:\n",
        "        rep_tokens: [batch, 1+2*seq_len]\n",
        "    '''\n",
        "    pass\n",
        "\n",
        "\n",
        "def run_and_cache_model_repeated_tokens(model: HookedTransformer, seq_len: int, batch: int = 1) -> tuple[Tensor, Tensor, ActivationCache]:\n",
        "    '''\n",
        "    Generates a sequence of repeated random tokens, and runs the model on it, returning (tokens, logits, cache)\n",
        "\n",
        "    Should use the `generate_repeated_tokens` function above\n",
        "\n",
        "    Outputs are:\n",
        "        rep_tokens: [batch, 1+2*seq_len]\n",
        "        rep_logits: [batch, 1+2*seq_len, d_vocab]\n",
        "        rep_cache: The cache of the model run on rep_tokens\n",
        "    '''\n",
        "    pass\n",
        "\n",
        "\n",
        "seq_len = 50\n",
        "batch = 1\n",
        "(rep_tokens, rep_logits, rep_cache) = run_and_cache_model_repeated_tokens(model, seq_len, batch)\n",
        "rep_cache.remove_batch_dim()\n",
        "rep_str = model.to_str_tokens(rep_tokens)\n",
        "model.reset_hooks()\n",
        "log_probs = get_log_probs(rep_logits, rep_tokens).squeeze()\n",
        "\n",
        "print(f\"Performance on the first half: {log_probs[:seq_len].mean():.3f}\")\n",
        "print(f\"Performance on the second half: {log_probs[seq_len:].mean():.3f}\")\n",
        "\n",
        "plot_loss_difference(log_probs, rep_str, seq_len)"
      ]
    },
    {
      "cell_type": "markdown",
      "metadata": {
        "id": "GQVYx89VHT4a"
      },
      "source": [
        "<details>\n",
        "<summary>Hint</summary>\n",
        "\n",
        "You can define the first half of the repeated tokens using `t.randint(low, high, shape)`. Also remember to specify `dtype=t.long`.\n",
        "\n",
        "Then you can concatenate together your prefix and two copies of the repeated tokens, using `t.concat`.\n",
        "</details>\n",
        "\n"
      ]
    },
    {
      "cell_type": "markdown",
      "metadata": {
        "id": "ooiXcu15HTwv"
      },
      "source": [
        "### Looking for Induction Attention Patterns\n",
        "\n",
        "The next natural thing to check for is the induction attention pattern.\n",
        "\n",
        "First, go back to the attention patterns visualisation code from earlier (i.e. `cv.attention.attention_heads` or `attention_patterns`) and manually check for likely heads in the second layer. Which ones do you think might be serving as induction heads?\n",
        "\n",
        "Note - above, we defined the `rep_str` object for you, so you can use it in your `circuitsvis` functions.\n"
      ]
    },
    {
      "cell_type": "code",
      "execution_count": null,
      "metadata": {
        "id": "pYnjfNSnIoCa"
      },
      "outputs": [],
      "source": [
        "# YOUR CODE HERE - display the attention patterns stored in `rep_cache`, for each layer"
      ]
    },
    {
      "cell_type": "markdown",
      "metadata": {
        "id": "9hUuNqY1HTof"
      },
      "source": [
        "<details>\n",
        "<summary>What you should see (only click after you've made your own observations):</summary>\n",
        "\n",
        "```python\n",
        "for layer in range(model.cfg.n_layers):\n",
        "    attention_pattern = rep_cache[\"pattern\", layer]\n",
        "    display(cv.attention.attention_patterns(tokens=rep_str, attention=attention_pattern))\n",
        "```\n",
        "\n",
        "The characteristic pattern of attention heads is a diagonal stripe, with the diagonal offset as `seq_len - 1` (because the destination token attends to the token *after* the destimation token's previous occurrence).\n",
        "\n",
        "You should see that heads 4 and 10 are strongly induction-y, head 6 is very weakly induction-y, and the rest aren't.\n",
        "\n",
        "</details>\n"
      ]
    },
    {
      "cell_type": "markdown",
      "metadata": {
        "id": "BcK4I-ZBhNnP"
      },
      "source": [
        "### Exercise - make an induction-head detector\n",
        "\n",
        "```c\n",
        "Difficulty: 🔴🔴⚪⚪⚪\n",
        "Importance: 🔵🔵⚪⚪⚪\n",
        "\n",
        "You shouldn't spend more than 5-10 minutes on this exercise.\n",
        "\n",
        "This exercise should be very similar to the earlier detector exercises (with a slightly more difficult form of indexing)\n",
        "```\n"
      ]
    },
    {
      "cell_type": "markdown",
      "metadata": {
        "id": "_MBJKlOMHTKa"
      },
      "source": [
        "Now, you should make an induction pattern score function, which looks for the average attention paid to the offset diagonal. Do this in the same style as our earlier head scorers.\n"
      ]
    },
    {
      "cell_type": "code",
      "execution_count": null,
      "metadata": {
        "id": "d4PMG9cVJGNa"
      },
      "outputs": [],
      "source": [
        "def induction_attn_detector(cache: ActivationCache) -> list[str]:\n",
        "    '''\n",
        "    Returns a list e.g. [\"0.2\", \"1.4\", \"1.9\"] of \"layer.head\" which you judge to be induction heads\n",
        "\n",
        "    Remember - the tokens used to generate rep_cache are (bos_token, *rand_tokens, *rand_tokens)\n",
        "    '''\n",
        "    pass\n",
        "\n",
        "\n",
        "print(\"Induction heads = \", \", \".join(induction_attn_detector(rep_cache)))"
      ]
    },
    {
      "cell_type": "markdown",
      "metadata": {
        "id": "EmUgS0JsJIiC"
      },
      "source": [
        "If this function works as expected, then you should see output that matches your observations from `circuitsvis` (i.e. the heads which you observed to be induction heads are being classified as induction heads by your function here).\n",
        "\n",
        "<details>\n",
        "<summary>Help - I'm not sure what offset to use.</summary>\n",
        "\n",
        "The offset in your diagonal should be `- (seq_len - 1)` (where `seq_len` is the length of the random tokens which you repeat twice), because the second instance of random token `T` will attend to the token **after** the first instance of `T`.\n",
        "</details>\n",
        "\n"
      ]
    },
    {
      "cell_type": "markdown",
      "metadata": {
        "id": "lGYJsGDMJKBk"
      },
      "source": [
        "# 3️⃣ TransformerLens: Hooks\n"
      ]
    },
    {
      "cell_type": "markdown",
      "metadata": {
        "id": "BmvH6gTJJUV_"
      },
      "source": [
        "> ##### Learning objectives\n",
        ">\n",
        "> - Understand what hooks are, and how they are used in TransformerLens\n",
        "> - Use hooks to access activations, process the results, and write them to an external tensor\n",
        "> - Build tools to perform attribution, i.e. detecting which components of your model are responsible for performance on a given task\n",
        "> - Understand how hooks can be used to perform basic interventions like **ablation**\n"
      ]
    },
    {
      "cell_type": "markdown",
      "metadata": {
        "id": "ZFWi9ZoLJKiH"
      },
      "source": [
        "## What are hooks?\n",
        "\n",
        "One of the great things about interpreting neural networks is that we have *full control* over our system. From a computational perspective, we know exactly what operations are going on inside (even if we don't know what they mean!). And we can make precise, surgical edits and see how the model's behaviour and other internals change. This is an extremely powerful tool, because it can let us e.g. set up careful counterfactuals and causal intervention to easily understand model behaviour.\n",
        "\n",
        "Accordingly, being able to do this is a pretty core operation, and this is one of the main things TransformerLens supports! The key feature here is **hook points**. Every activation inside the transformer is surrounded by a hook point, which allows us to edit or intervene on it.\n",
        "\n",
        "We do this by adding a **hook function** to that activation, and then calling `model.run_with_hooks`.\n",
        "\n",
        "*(Terminology note - because basically all the activations in our model have an associated hook point, we'll sometimes use the terms \"hook\" and \"activation\" interchangeably.)*\n"
      ]
    },
    {
      "cell_type": "markdown",
      "metadata": {
        "id": "4BQM1JrCJKaE"
      },
      "source": [
        "### Hook functions\n",
        "\n",
        "Hook functions take two arguments: `activation_value` and `hook_point`. The `activation_value` is a tensor representing some activation in the model, just like the values in our `ActivationCache`. The `hook_point` is an object which gives us methods like `hook.layer()` or attributes like `hook.name` that are sometimes useful to call within the function.\n",
        "\n",
        "If we're using hooks to edit activations, then the hook function should return a tensor of the same shape as the activation value. But we can also just have our hook function access the activation, do some processing, and write the results to some external variable (in which case our hook function should just not return anything).\n",
        "\n",
        "An example hook function for changing the attention patterns at a particular layer might look like:\n"
      ]
    },
    {
      "cell_type": "markdown",
      "metadata": {
        "id": "ToP08SBsJsgS"
      },
      "source": [
        "```python\n",
        "def hook_function(\n",
        "    attn_pattern: Float[Tensor, \"batch heads seq_len seq_len\"],\n",
        "    hook: HookPoint\n",
        ") -> TT[\"batch\", \"heads\", \"seq_len\", \"seq_len\"]:\n",
        "\n",
        "    # modify attn_pattern (can be inplace)\n",
        "    return attn_pattern\n",
        "```\n"
      ]
    },
    {
      "cell_type": "markdown",
      "metadata": {
        "id": "X5gnN_cNJKSc"
      },
      "source": [
        "### Running with hooks\n",
        "\n",
        "Once you've defined a hook function (or functions), you should call `model.run_with_hooks`. A typical call to this function might look like:\n"
      ]
    },
    {
      "cell_type": "markdown",
      "metadata": {
        "id": "dgf9Rv5PJufC"
      },
      "source": [
        "```python\n",
        "loss = model.run_with_hooks(\n",
        "    tokens,\n",
        "    return_type=\"loss\",\n",
        "    fwd_hooks=[\n",
        "        ('blocks.1.attn.hook_pattern', hook_function)\n",
        "    ]\n",
        ")\n",
        "```\n"
      ]
    },
    {
      "cell_type": "markdown",
      "metadata": {
        "id": "-lN0Q41VJKKw"
      },
      "source": [
        "Let's break this code down.\n",
        "\n",
        "* `tokens` represents our model's input.\n",
        "* `return_type=\"loss\"` is used here because we're modifying our activations and seeing how this affects the loss.\n",
        "    * We could also return the logits, or just use `return_type=None` if we only want to access the intermediate activations and we don't care about the output.\n",
        "* `fwd_hooks` is a list of 2-tuples of (hook name, hook function).\n",
        "    * The hook name is a string that specifies which activation we want to hook.\n",
        "    * The hook function gets run with the corresponding activation as its first argument.\n",
        "\n",
        "### A bit more about hooks\n",
        "\n",
        "Here are a few extra notes for how to squeeze even more functionality out of hooks. If you'd prefer, you can [jump ahead](#hooks-accessing-activations) to see an actual example of hooks being used, and come back to this section later.\n",
        "\n",
        "<details>\n",
        "<summary>Resetting hooks</summary>\n",
        "\n",
        "`model.run_with_hooks` has the default parameter `reset_hooks_end=True` which resets all hooks at the end of the run (including both those that were added before and during the run).\n",
        "\n",
        "Despite this, it's possible to shoot yourself in the foot with hooks, e.g. if there's an error in one of your hooks so the function never finishes. In this case, you can use `model.reset_hooks()` to reset all hooks.\n",
        "\n",
        "Further, if you *do* want to keep the hooks that you add, you can do this by calling `add_hook` on the relevant `HookPoint`.\n",
        "</details>\n",
        "<details>\n",
        "<summary>Adding multiple hooks at once</summary>\n",
        "\n",
        "Including more than one tuple in the `fwd_hooks` list is one way to add multiple hooks:\n",
        "\n",
        "```python\n",
        "loss = model.run_with_hooks(\n",
        "    tokens,\n",
        "    return_type=\"loss\",\n",
        "    fwd_hooks=[\n",
        "        ('blocks.0.attn.hook_pattern', hook_function),\n",
        "        ('blocks.1.attn.hook_pattern', hook_function)\n",
        "    ]\n",
        ")\n",
        "```\n",
        "\n",
        "Another way is to use a **name filter** rather than a single name:\n",
        "\n",
        "```python\n",
        "loss = model.run_with_hooks(\n",
        "    tokens,\n",
        "    return_type=\"loss\",\n",
        "    fwd_hooks=[\n",
        "        (lambda name: name.endswith(\"pattern\"), hook_function)\n",
        "    ]\n",
        ")\n",
        "```\n",
        "</details>\n",
        "<details>\n",
        "<summary><code>utils.get_act_name</code></summary>\n",
        "\n",
        "When we were indexing the cache in the previous section, we found we could use strings like `cache['blocks.0.attn.hook_pattern']`, or use the shorthand of `cache['pattern', 0]`. The reason the second one works is that it calls the function `utils.get_act_name` under the hood, i.e. we have:\n",
        "\n",
        "```python\n",
        "utils.get_act_name('pattern', 0) == 'blocks.0.attn.hook_pattern'\n",
        "```\n",
        "\n",
        "Using `utils.get_act_name` in your forward hooks is often easier than using the full string, since the only thing you need to remember is the activation name (you can refer back to the diagram in the previous section for this).\n",
        "</details>\n",
        "<details>\n",
        "<summary>Using <code>functools.partial</code> to create variations on hooks</summary>\n",
        "\n",
        "A useful trick is to define a hook function with more arguments than it needs, and then use `functools.partial` to fill in the extra arguments. For instance, if you want a hook function which only modifies a particular head, but you want to run it on all heads separately (rather than just adding all the hooks and having them all run on the next forward pass), then you can do something like:\n",
        "\n",
        "```python\n",
        "def hook_all_attention_patterns(\n",
        "    attn_pattern: TT[\"batch\", \"heads\", \"seq_len\", \"seq_len\"],\n",
        "    hook: HookPoint,\n",
        "    head_idx: int\n",
        ") -> TT[\"batch\", \"heads\", \"seq_len\", \"seq_len\"]:\n",
        "    # modify attn_pattern inplace, at head_idx\n",
        "    return attn_pattern\n",
        "\n",
        "for head_idx in range(12):\n",
        "    temp_hook_fn = functools.partial(hook_all_attention_patterns, head_idx=head_idx)\n",
        "    model.run_with_hooks(tokens, fwd_hooks=[('blocks.1.attn.hook_pattern', temp_hook_fn)])\n",
        "```\n",
        "</details>\n",
        "\n",
        "And here are some points of interest, which aren't vital to understand:\n",
        "\n",
        "<details>\n",
        "<summary>Relationship to PyTorch hooks</summary>\n",
        "\n",
        "[PyTorch hooks](https://blog.paperspace.com/pytorch-hooks-gradient-clipping-debugging/) are a great and underrated, yet incredibly janky, feature. They can act on a layer, and edit the input or output of that layer, or the gradient when applying autodiff. The key difference is that **Hook points** act on *activations* not layers. This means that you can intervene within a layer on each activation, and don't need to care about the precise layer structure of the transformer. And it's immediately clear exactly how the hook's effect is applied. This adjustment was shamelessly inspired by [Garcon's use of ProbePoints](https://transformer-circuits.pub/2021/garcon/index.html).\n",
        "\n",
        "They also come with a range of other quality of life improvements. PyTorch's hooks are global state, which can be a massive pain if you accidentally leave a hook on a model. TransformerLens hooks are also global state, but `run_with_hooks` tries to create an abstraction where these are local state by removing all hooks at the end of the function (and they come with a helpful `model.reset_hooks()` method to remove all hooks).\n",
        "</details>\n",
        "\n",
        "<details>\n",
        "<summary>How are TransformerLens hooks actually implemented?</summary>\n",
        "\n",
        "They are implemented as modules with the identity function as their forward method:\n",
        "\n",
        "```python\n",
        "class HookPoint(nn.Module):\n",
        "    ...\n",
        "    def forward(self, x):\n",
        "        return x\n",
        "```\n",
        "\n",
        "but also with special features for adding and removing hook functions. This is why you see hooks when you print a HookedTransformer model, because all its modules are recursively printed.\n",
        "\n",
        "When you run the model normally, hook modules won't change the model's behaviour (since applying the identity function does nothing). It's only once you add functions to the hook modules (e.g. a function which ablates any inputs into the hook module) that the model's behaviour changes.\n",
        "\n",
        "</details>\n"
      ]
    },
    {
      "cell_type": "markdown",
      "metadata": {
        "id": "gVxoO6VcKPtW"
      },
      "source": [
        "## Hooks: Accessing Activations\n",
        "\n",
        "In later sections, we'll write some code to intervene on hooks, which is really the core feature that makes them so useful for interpretability. But for now, let's just look at how to access them without changing their value. This can be achieved by having the hook function write to a global variable, and return nothing (rather than modifying the activation in place).\n",
        "\n",
        "Why might we want to do this? It turns out to be useful for things like:\n",
        "\n",
        "* Extracting activations for a specific task\n",
        "* Doing some long-running calculation across many inputs, e.g. finding the text that most activates a specific neuron\n",
        "\n",
        "Note that, in theory, this could all be done using the `run_with_cache` function we used in the previous section, combined with post-processing of the cache result. But using hooks can be more intuitive and memory efficient.\n"
      ]
    },
    {
      "cell_type": "markdown",
      "metadata": {
        "id": "GaJ0zU1kKRDe"
      },
      "source": [
        "### Exercise - calculate induction scores with hooks\n",
        "\n",
        "```c\n",
        "Difficulty: 🔴🔴🔴⚪⚪\n",
        "Importance: 🔵🔵🔵🔵⚪\n",
        "\n",
        "You shouldn't spend more than 15-20 minutes on this exercise.\n",
        "\n",
        "This is our first exercise with hooks, which are an absolutely vital TransformerLens tool. Use the hints if you're stuck.\n",
        "```\n",
        "\n",
        "To start with, we'll look at how hooks can be used to get the same results as from the previous section (where we ran our induction head detector functions on the values in the cache).\n",
        "\n",
        "Most of the code has already been provided for you below; the only thing you need to do is **implement the `induction_score_hook` function**. As mentioned, this function takes two arguments: the activation value (which in this case will be our attention pattern) and the hook object (which gives us some useful methods and attributes that we can access in the function, e.g. `hook.layer()` to return the layer, or `hook.name` to return the name, which is the same as the name in the cache).\n",
        "\n",
        "Your function should do the following:\n",
        "\n",
        "* Calculate the induction score for the attention pattern `pattern`, using the same methodology as you used in the previous section when you wrote your induction head detectors.\n",
        "    * Note that this time, the batch dimension is greater than 1, so you should compute the average attention score over the batch dimension.\n",
        "    * Also note that you are computing the induction score for all heads at once, rather than one at a time. You might find the arguments `dim1` and `dim2` of the `torch.diagonal` function useful.\n",
        "* Write this score to the tensor `induction_score_store`, which is a global variable that we've provided for you. The `[i, j]`th element of this tensor should be the induction score for the `j`th head in the `i`th layer.\n"
      ]
    },
    {
      "cell_type": "code",
      "execution_count": null,
      "metadata": {
        "id": "H7Lz6BE0JIKh"
      },
      "outputs": [],
      "source": [
        "seq_len = 50\n",
        "batch = 10\n",
        "rep_tokens_10 = generate_repeated_tokens(model, seq_len, batch)\n",
        "\n",
        "# We make a tensor to store the induction score for each head.\n",
        "# We put it on the model's device to avoid needing to move things between the GPU and CPU, which can be slow.\n",
        "induction_score_store = t.zeros((model.cfg.n_layers, model.cfg.n_heads), device=model.cfg.device)\n",
        "\n",
        "def induction_score_hook(\n",
        "    pattern: Float[Tensor, \"batch head_index dest_pos source_pos\"],\n",
        "    hook: HookPoint,\n",
        "):\n",
        "    '''\n",
        "    Calculates the induction score, and stores it in the [layer, head] position of the `induction_score_store` tensor.\n",
        "    '''\n",
        "    pass\n",
        "\n",
        "pattern_hook_names_filter = lambda name: name.endswith(\"pattern\")\n",
        "\n",
        "# Run with hooks (this is where we write to the `induction_score_store` tensor`)\n",
        "model.run_with_hooks(\n",
        "    rep_tokens_10,\n",
        "    return_type=None, # For efficiency, we don't need to calculate the logits\n",
        "    fwd_hooks=[(\n",
        "        pattern_hook_names_filter,\n",
        "        induction_score_hook\n",
        "    )]\n",
        ")\n",
        "\n",
        "# Plot the induction scores for each head in each layer\n",
        "imshow(\n",
        "    induction_score_store,\n",
        "    labels={\"x\": \"Head\", \"y\": \"Layer\"},\n",
        "    title=\"Induction Score by Head\",\n",
        "    text_auto=\".2f\",\n",
        "    width=900, height=400\n",
        ")"
      ]
    },
    {
      "cell_type": "markdown",
      "metadata": {
        "id": "fTkPOxVNKaxt"
      },
      "source": [
        "If this function has been implemented correctly, you should see a result matching your observations from the previous section: a high induction score (>0.6) for all the heads which you identified as induction heads, and a low score (close to 0) for all others.\n",
        "\n",
        "<details>\n",
        "<summary>Help - I'm not sure how to implement this function.</summary>\n",
        "\n",
        "To get the induction stripe, you can use:\n",
        "\n",
        "```python\n",
        "torch.diagonal(pattern, dim1=-2, dim2=-1, offset=1-seq_len)\n",
        "```\n",
        "\n",
        "since this returns the diagonal of each attention scores matrix, for every element in the batch and every attention head.\n",
        "\n",
        "Once you have this, you can then take the mean over the batch and diagonal dimensions, giving you a tensor of length `n_heads`. You can then write this to the global `induction_score_store` tensor, using the `hook.layer()` method to get the correct row number.\n",
        "</details>\n"
      ]
    },
    {
      "cell_type": "markdown",
      "metadata": {
        "id": "g0vfMILdKiQA"
      },
      "source": [
        "### Exercise - find induction heads in GPT2-small\n",
        "\n",
        "```c\n",
        "Difficulty: 🔴🔴🔴⚪⚪\n",
        "Importance: 🔵🔵🔵🔵⚪\n",
        "\n",
        "You shouldn't spend more than 10-20 minutes on this exercise.\n",
        "\n",
        "Here, you mostly just need to use previously defined functions and interpret the results, rather than writing new code.\n",
        "```\n",
        "\n",
        "*This is your first opportunity to investigate a larger and more extensively trained model, rather than the simple 2-layer model we've been using so far. None of the code required is new (you can copy most of it from previous sections), so these exercises shouldn't take very long.*\n"
      ]
    },
    {
      "cell_type": "markdown",
      "metadata": {
        "id": "tnG0vhamLU_z"
      },
      "source": [
        "Perform the same analysis on your `gpt2_small`. You should observe that some heads, particularly in a couple of the middle layers, have high induction scores. Use CircuitsVis to plot the attention patterns for these heads when run on the repeated token sequences, and verify that they look like induction heads.\n",
        "\n",
        "Note - you can make CircuitsVis plots (and other visualisations) using hooks rather than plotting directly from the cache. For example, we've given you a hook function which will display the attention patterns at a given hook when you include it in a call to `model.run_with_hooks`.\n"
      ]
    },
    {
      "cell_type": "code",
      "execution_count": null,
      "metadata": {
        "id": "IO2GMPY2Kjqr"
      },
      "outputs": [],
      "source": [
        "def visualize_pattern_hook(\n",
        "    pattern: Float[Tensor, \"batch head_index dest_pos source_pos\"],\n",
        "    hook: HookPoint,\n",
        "):\n",
        "    print(\"Layer: \", hook.layer())\n",
        "    display(\n",
        "        cv.attention.attention_patterns(\n",
        "            tokens=gpt2_small.to_str_tokens(rep_tokens[0]),\n",
        "            attention=pattern.mean(0)\n",
        "        )\n",
        "    )\n",
        "\n",
        "    # YOUR CODE HERE - find induction heads in gpt2_small"
      ]
    },
    {
      "cell_type": "markdown",
      "metadata": {
        "id": "1BSPHnpaKqu7"
      },
      "source": [
        "## Building interpretability tools\n",
        "\n",
        "In order to develop a mechanistic understanding for how transformers perform certain tasks, we need to be able to answer questions like:\n",
        "\n",
        "> *How much of the model's performance on some particular task is attributable to each component of the model?*\n",
        "\n",
        "where \"component\" here might mean, for example, a specific head in a layer.\n",
        "\n",
        "There are many ways to approach a question like this. For example, we might look at how a head interacts with other heads in different layers, or we might perform a causal intervention by seeing how well the model performs if we remove the effect of this head. However, we'll keep things simple for now, and ask the question: **what are the direct contributions of this head to the output logits?**\n",
        "\n",
        "### Direct Logit attribution\n",
        "\n",
        "A consequence of the residual stream is that the output logits are the sum of the contributions of each layer, and thus the sum of the results of each head. This means we can decompose the output logits into a term coming from each head and directly do attribution like this!\n",
        "\n",
        "<details>\n",
        "<summary>A concrete example</summary>\n",
        "\n",
        "Let's say that our model knows that the token Harry is followed by the token Potter, and we want to figure out how it does this. The logits on Harry are `residual @ W_U`. But this is a linear map, and the residual stream is the sum of all previous layers `residual = embed + attn_out_0 + attn_out_1`. So `logits = (embed @ W_U) + (attn_out @ W_U) + (attn_out_1 @ W_U)`\n",
        "\n",
        "We can be even more specific, and *just* look at the logit of the Potter token - this corresponds to a column of `W_U`, and so a direction in the residual stream - our logit is now a single number that is the sum of `(embed @ potter_U) + (attn_out_0 @ potter_U) + (attn_out_1 @ potter_U)`. Even better, we can decompose each attention layer output into the sum of the result of each head, and use this to get many terms.\n",
        "</details>\n",
        "\n",
        "Your mission here is to write a function to look at how much each component contributes to the correct logit. Your components are:\n",
        "\n",
        "* The direct path (i.e. the residual connections from the embedding to unembedding),\n",
        "* Each layer 0 head (via the residual connection and skipping layer 1)\n",
        "* Each layer 1 head\n",
        "\n",
        "To emphasise, these are not paths from the start to the end of the model, these are paths from the output of some component directly to the logits - we make no assumptions about how each path was calculated!\n",
        "\n",
        "A few important notes for this exercise:\n",
        "\n",
        "* Here we are just looking at the DIRECT effect on the logits, i.e. the thing that this component writes / embeds into the residual stream - if heads compose with other heads and affect logits like that, or inhibit logits for other tokens to boost the correct one we will not pick up on this!\n",
        "* By looking at just the logits corresponding to the correct token, our data is much lower dimensional because we can ignore all other tokens other than the correct next one (Dealing with a 50K vocab size is a pain!). But this comes at the cost of missing out on more subtle effects, like a head suppressing other plausible logits, to increase the log prob of the correct one.\n",
        "    * There are other situations where our job might be easier. For instance, in the IOI task (which we'll discuss shortly) we're just comparing the logits of the indirect object to the logits of the direct object, meaning we can use the **difference between these logits**, and ignore all the other logits.\n",
        "* When calculating correct output logits, we will get tensors with a dimension `(position - 1,)`, not `(position,)` - we remove the final element of the output (logits), and the first element of labels (tokens). This is because we're predicting the *next* token, and we don't know the token after the final token, so we ignore it.\n",
        "\n",
        "<details>\n",
        "<summary>Aside - centering <code>W_U</code></summary>\n",
        "\n",
        "While we won't worry about this for this exercise, logit attribution is often more meaningful if we first center `W_U` - i.e. ensure the mean of each row writing to the output logits is zero. Log softmax is invariant when we add a constant to all the logits, so we want to control for a head that just increases all logits by the same amount. We won't do this here for ease of testing.\n",
        "</details>\n",
        "\n",
        "<details>\n",
        "<summary>Question - why don't we do this to the log probs instead?</summary>\n",
        "\n",
        "Because log probs aren't linear, they go through `log_softmax`, a non-linear function.\n",
        "</details>\n"
      ]
    },
    {
      "cell_type": "markdown",
      "metadata": {
        "id": "pg9Mk-Y8K85A"
      },
      "source": [
        "### Exercise - build logit attribution tool\n",
        "\n",
        "```c\n",
        "Difficulty: 🔴🔴🔴⚪⚪\n",
        "Importance: 🔵🔵🔵🔵⚪\n",
        "\n",
        "You shouldn't spend more than 10-15 minutes on this exercise.\n",
        "\n",
        "This exercise is important, but has quite a few messy einsums, so you might get more value from reading the solution than doing the exercises.\n",
        "```\n",
        "\n",
        "You should implement the `logit_attribution` function below. This should return the contribution of each component in the \"correct direction\". We've already given you the unembedding vectors for the correct direction, `W_U_correct_tokens` (note that we take the `[1:]` slice of tokens, for reasons discussed above).\n",
        "\n",
        "The code below this function will check your logit attribution function is working correctly, by taking the sum of logit attributions and comparing it to the actual values in the residual stream at the end of your model.\n"
      ]
    },
    {
      "cell_type": "code",
      "execution_count": null,
      "metadata": {
        "id": "DddLKFSwK_fi"
      },
      "outputs": [],
      "source": [
        "def logit_attribution(\n",
        "    embed: Float[Tensor, \"seq d_model\"],\n",
        "    l1_results: Float[Tensor, \"seq nheads d_model\"],\n",
        "    l2_results: Float[Tensor, \"seq nheads d_model\"],\n",
        "    W_U: Float[Tensor, \"d_model d_vocab\"],\n",
        "    tokens: Int[Tensor, \"seq\"]\n",
        ") -> Float[Tensor, \"seq-1 n_components\"]:\n",
        "    '''\n",
        "    Inputs:\n",
        "        embed: the embeddings of the tokens (i.e. token + position embeddings)\n",
        "        l1_results: the outputs of the attention heads at layer 1 (with head as one of the dimensions)\n",
        "        l2_results: the outputs of the attention heads at layer 2 (with head as one of the dimensions)\n",
        "        W_U: the unembedding matrix\n",
        "        tokens: the token ids of the sequence\n",
        "\n",
        "    Returns:\n",
        "        Tensor of shape (seq_len-1, n_components)\n",
        "        represents the concatenation (along dim=-1) of logit attributions from:\n",
        "            the direct path (seq-1,1)\n",
        "            layer 0 logits (seq-1, n_heads)\n",
        "            layer 1 logits (seq-1, n_heads)\n",
        "        so n_components = 1 + 2*n_heads\n",
        "    '''\n",
        "    W_U_correct_tokens = W_U[:, tokens[1:]]\n",
        "    pass\n",
        "\n",
        "\n",
        "text = \"We think that powerful, significantly superhuman machine intelligence is more likely than not to be created this century. If current machine learning techniques were scaled up to this level, we think they would by default produce systems that are deceptive or manipulative, and that no solid plans are known for how to avoid this.\"\n",
        "logits, cache = model.run_with_cache(text, remove_batch_dim=True)\n",
        "str_tokens = model.to_str_tokens(text)\n",
        "tokens = model.to_tokens(text)\n",
        "\n",
        "with t.inference_mode():\n",
        "    embed = cache[\"embed\"]\n",
        "    l1_results = cache[\"result\", 0]\n",
        "    l2_results = cache[\"result\", 1]\n",
        "    logit_attr = logit_attribution(embed, l1_results, l2_results, model.W_U, tokens[0])\n",
        "    # Uses fancy indexing to get a len(tokens[0])-1 length tensor, where the kth entry is the predicted logit for the correct k+1th token\n",
        "    correct_token_logits = logits[0, t.arange(len(tokens[0]) - 1), tokens[0, 1:]]\n",
        "    t.testing.assert_close(logit_attr.sum(1), correct_token_logits, atol=1e-3, rtol=0)\n",
        "    print(\"Tests passed!\")"
      ]
    },
    {
      "cell_type": "markdown",
      "metadata": {
        "id": "22wzWYZdK81H"
      },
      "source": [
        "Once you've got the tests working, you can visualise the logit attributions for each path through the model. We've provided you with the helper function `plot_logit_attribution`, which presents the results in a nice way.\n"
      ]
    },
    {
      "cell_type": "code",
      "execution_count": null,
      "metadata": {
        "id": "zNsS-qcpLLVz"
      },
      "outputs": [],
      "source": [
        "embed = cache[\"embed\"]\n",
        "l1_results = cache[\"result\", 0]\n",
        "l2_results = cache[\"result\", 1]\n",
        "logit_attr = logit_attribution(embed, l1_results, l2_results, model.W_U, tokens[0])\n",
        "\n",
        "plot_logit_attribution(model, logit_attr, tokens)"
      ]
    },
    {
      "cell_type": "markdown",
      "metadata": {
        "id": "R_5AwUIRK8w5"
      },
      "source": [
        "#### Question - what is the interpretation of this plot?\n",
        "\n",
        "You should find that the most variation in the logit attribution comes from the direct path. In particular, some of the tokens in the direct path have a very high logit attribution (e.g. tokens 12, 24 and 46). Can you guess what gives them in particular such a high logit attribution?\n",
        "\n",
        "<details>\n",
        "<summary>Answer</summary>\n",
        "\n",
        "The tokens with very high logit attribution are the ones which \"offer very probable bigrams\". For instance, the highest contribution on the direct path comes from `| manip|`, because this is very likely to be followed by `|ulative|` (or presumably a different stem like `| ulation|`). `| super|` -> `|human|` is another example of a bigram formed when the tokenizer splits one word into multiple tokens.\n",
        "\n",
        "There are also examples that come from two different words, rather than a single word split by the tokenizer. These include:\n",
        "\n",
        "* `| more|` -> `| likely|`\n",
        "* `| machine|` -> `| learning|`\n",
        "* `| by|` -> `| default|`\n",
        "* `| how|` -> `| to|`\n",
        "\n",
        "See later for a discussion of all the ~infuriating~ fun quirks of tokenization!\n",
        "</details>\n",
        "\n",
        "Another feature of the plot - the heads in the second layer seem to have much higher contributions than the heads in the first layer. Why do you think this might be?\n",
        "\n",
        "<details>\n",
        "<summary>Hint</summary>\n",
        "\n",
        "Think about what this graph actually represents, in terms of paths through the transformer.\n",
        "</details>\n",
        "\n",
        "<details>\n",
        "<summary>Answer</summary>\n",
        "\n",
        "This is because of a point we discussed earlier - this plot doesn't pick up on things like a head's effect in composition with another head. So the attribution for layer-0 heads won't involve any composition, whereas the attributions for layer-1 heads will involve not only the single-head paths through those attention heads, but also the 2-layer compositional paths through heads in layer 0 and layer 1.\n",
        "</details>\n"
      ]
    },
    {
      "cell_type": "markdown",
      "metadata": {
        "id": "Phy2zvxCLdYL"
      },
      "source": [
        "### Exercise - logit attribution for the induction heads\n",
        "\n",
        "```c\n",
        "Difficulty: 🔴🔴🔴⚪⚪\n",
        "Importance: 🔵🔵⚪⚪⚪\n",
        "\n",
        "You shouldn't spend more than ~10 minutes on this exercise.\n",
        "\n",
        "This exercise just involves calling logit_attribution with appropriate arguments. Don't spend too long on it, you should look at solutions if you are stuck.\n",
        "```\n",
        "\n",
        "Perform logit attribution for your attention-only model `model`, on the `rep_cache`. What do you expect to see?\n",
        "\n",
        "Remember, you'll need to split the sequence in two, with one overlapping token (since predicting the next token involves removing the final token with no label) - your `logit_attr` should both have shape `[seq_len, 2*n_heads + 1]` (ie `[50, 25]` here).\n",
        "\n",
        "<details>\n",
        "<summary>Note - the first plot will be pretty meaningless. Can you see why?</summary>\n",
        "\n",
        "Because the first plot shows the logit attribution for the first half of the sequence, i.e. the first occurrence of each of the tokens. Since there is no structure to this sequence (it is purely random), there is no reason to expect the heads to be doing meaningful computation. The structure lies in the second half of the sequence, when the tokens are repeated, and the heads with high logit attributions will be the ones that can perform induction.\n",
        "</details>\n"
      ]
    },
    {
      "cell_type": "code",
      "execution_count": null,
      "metadata": {
        "id": "FgEeiKZPLnyE"
      },
      "outputs": [],
      "source": [
        "seq_len = 50\n",
        "\n",
        "embed = rep_cache[\"embed\"]\n",
        "l1_results = rep_cache[\"result\", 0]\n",
        "l2_results = rep_cache[\"result\", 1]\n",
        "first_half_tokens = rep_tokens[0, : 1 + seq_len]\n",
        "second_half_tokens = rep_tokens[0, seq_len:]\n",
        "\n",
        "# YOUR CODE HERE - define `first_half_logit_attr` and `second_half_logit_attr`\n",
        "\n",
        "assert first_half_logit_attr.shape == (seq_len, 2*model.cfg.n_heads + 1)\n",
        "assert second_half_logit_attr.shape == (seq_len, 2*model.cfg.n_heads + 1)\n",
        "\n",
        "plot_logit_attribution(model, first_half_logit_attr, first_half_tokens, \"Logit attribution (first half of repeated sequence)\")\n",
        "plot_logit_attribution(model, second_half_logit_attr, second_half_tokens, \"Logit attribution (second half of repeated sequence)\")"
      ]
    },
    {
      "cell_type": "markdown",
      "metadata": {
        "id": "PLaGqDfJK8sz"
      },
      "source": [
        "What is the interpretation of this plot, in the context of our induction head circuit?\n",
        "\n",
        "<details>\n",
        "<summary>Answer</summary>\n",
        "\n",
        "Previously, we observed that heads `1.4` and `1.10` seemed to be acting as induction heads.\n",
        "\n",
        "This plot gives further evidence that this is the case, since these two heads have a large logit attribution score **on sequences in which the only way to get accurate predictions is to use the induction mechanism**.\n",
        "\n",
        "This also agrees with our attention scores result, in showing tht `1.10` is a stronger induction head than `1.4`.\n",
        "</details>\n"
      ]
    },
    {
      "cell_type": "markdown",
      "metadata": {
        "id": "4L93pPDiL77t"
      },
      "source": [
        "## Hooks: Intervening on Activations\n",
        "\n",
        "Now that we've built some tools to decompose our model's output, it's time to start making causal interventions.\n",
        "\n",
        "### Ablations\n",
        "\n",
        "Let's start with a simple example: **ablation**. An ablation is a simple causal intervention on a model - we pick some part of it and set it to zero. This is a crude proxy for how much that part matters. Further, if we have some story about how a specific circuit in the model enables some capability, showing that ablating *other* parts does nothing can be strong evidence of this.\n",
        "\n",
        "As mentioned in [the glossary](https://dynalist.io/d/n2ZWtnoYHrU1s4vnFSAQ519J#z=fh-HJyz1CgUVrXuoiban6bYx), there are many ways to do ablation. We'll focus on the simplest: zero-ablation (even though it's somewhat unprincipled).\n"
      ]
    },
    {
      "cell_type": "markdown",
      "metadata": {
        "id": "-JNwwzKxK8oh"
      },
      "source": [
        "### Exercise - induction head ablation\n",
        "\n",
        "```c\n",
        "Difficulty: 🔴🔴⚪⚪⚪\n",
        "Importance: 🔵🔵🔵🔵⚪\n",
        "\n",
        "You shouldn't spend more than ~10 minutes on this exercise.\n",
        "\n",
        "This exercise is conceptually important, but very short.\n",
        "```\n",
        "\n",
        "The code below provides a template for performing zero-ablation on the value vectors at a particular head (i.e. the vectors we get when applying the weight matrices `W_V` to the residual stream). If you're confused about what different activations mean, you can refer back to [the diagram](https://raw.githubusercontent.com/callummcdougall/computational-thread-art/master/example_images/misc/small-merm.svg).\n",
        "\n",
        "**The only thing left for you to do is fill in the function `head_ablation_hook`** so that it performs zero-ablation on the head given by `head_index_to_ablate`. In other words, your function should return a modified version of `value` with this head ablated. (Technically you don't have to return any tensor if you're modifying `value` in-place; this is just convention.)\n",
        "\n",
        "A few notes to help explain the code below:\n",
        "\n",
        "* In the `get_ablation_scores` function, we run our hook function in a for loop: once for each layer and each head. Each time, we write a single value to the tensor `ablation_scores` that stores the results of ablating that particular head.\n",
        "* We use `cross_entropy_loss` as a metric for model performance, rather than logit difference like in the previous section.\n",
        "    * If the head didn't have any effect on the output, then the ablation score would be zero (since the loss doesn't increase when we ablate).\n",
        "    * If the head was very important for making correct predictions, then we should see a very large ablation score.\n",
        "* We use `functools.partial` to create a temporary hook function with the head number fixed. This is a nice way to avoid having to write a separate hook function for each head.\n",
        "* We use `utils.get_act_name` to get the name of our activation. This is a nice shorthand way of getting the full name.\n"
      ]
    },
    {
      "cell_type": "code",
      "execution_count": null,
      "metadata": {
        "id": "iaLTsjZiMMgQ"
      },
      "outputs": [],
      "source": [
        "def head_ablation_hook(\n",
        "    v: Float[Tensor, \"batch seq n_heads d_head\"],\n",
        "    hook: HookPoint,\n",
        "    head_index_to_ablate: int,\n",
        ") -> Float[Tensor, \"batch seq n_heads d_head\"]:\n",
        "    # YOUR CODE HERE!\n",
        "    raise NotImplementedError()\n",
        "\n",
        "\n",
        "def cross_entropy_loss(logits, tokens):\n",
        "    '''\n",
        "    Computes the mean cross entropy between logits (the model's prediction) and tokens (the true values).\n",
        "    '''\n",
        "    log_probs = F.log_softmax(logits, dim=-1)\n",
        "    pred_log_probs = t.gather(log_probs[:, :-1], -1, tokens[:, 1:, None])[..., 0]\n",
        "    return -pred_log_probs.mean()\n",
        "\n",
        "\n",
        "def get_ablation_scores(\n",
        "    model: HookedTransformer,\n",
        "    tokens: Int[Tensor, \"batch seq\"]\n",
        ") -> Float[Tensor, \"n_layers n_heads\"]:\n",
        "    '''\n",
        "    Returns a tensor of shape (n_layers, n_heads) containing the increase in cross entropy loss from ablating the output of each head.\n",
        "    '''\n",
        "    # Initialize an object to store the ablation scores\n",
        "    ablation_scores = t.zeros((model.cfg.n_layers, model.cfg.n_heads), device=model.cfg.device)\n",
        "\n",
        "    # Calculating loss without any ablation, to act as a baseline\n",
        "    model.reset_hooks()\n",
        "    logits = model(tokens, return_type=\"logits\")\n",
        "    seq_len = (tokens.shape[1] - 1) // 2\n",
        "    loss_no_ablation = cross_entropy_loss(logits[:, -seq_len:], tokens[:, -seq_len:])\n",
        "\n",
        "    for layer in tqdm(range(model.cfg.n_layers)):\n",
        "        for head in range(model.cfg.n_heads):\n",
        "            # Use functools.partial to create a temporary hook function with the head number fixed\n",
        "            temp_hook_fn = functools.partial(head_ablation_hook, head_index_to_ablate=head)\n",
        "            # Run the model with the ablation hook\n",
        "            ablated_logits = model.run_with_hooks(tokens, fwd_hooks=[\n",
        "                (utils.get_act_name(\"result\", layer), temp_hook_fn)\n",
        "            ])\n",
        "            # Calculate the logit difference\n",
        "            loss = cross_entropy_loss(ablated_logits[:, -seq_len:], tokens[:, -seq_len:])\n",
        "            # Store the result, subtracting the clean loss so that a value of zero means no change in loss\n",
        "            ablation_scores[layer, head] = loss - loss_no_ablation\n",
        "\n",
        "    return ablation_scores\n",
        "\n",
        "\n",
        "ablation_scores = get_ablation_scores(model, rep_tokens)\n",
        "tests.test_get_ablation_scores(ablation_scores, model, rep_tokens)"
      ]
    },
    {
      "cell_type": "markdown",
      "metadata": {
        "id": "mdiktdOqK8jR"
      },
      "source": [
        "Once you've passed the tests, you can plot the results:\n"
      ]
    },
    {
      "cell_type": "code",
      "execution_count": null,
      "metadata": {
        "id": "9wE47lE6MR3T"
      },
      "outputs": [],
      "source": [
        "imshow(\n",
        "    ablation_scores,\n",
        "    labels={\"x\": \"Head\", \"y\": \"Layer\", \"color\": \"Logit diff\"},\n",
        "    title=\"Loss Difference After Ablating Heads\",\n",
        "    text_auto=\".2f\",\n",
        "    width=900, height=400\n",
        ")"
      ]
    },
    {
      "cell_type": "markdown",
      "metadata": {
        "id": "dmbSOM37K8dV"
      },
      "source": [
        "What is your interpretation of these results?\n",
        "\n",
        "<details>\n",
        "<summary>Interpretation</summary>\n",
        "\n",
        "This tells us not just which heads are responsible for writing output to the residual stream that gets us the correct result, but **which heads play an important role in the induction circuit**.\n",
        "\n",
        "This chart tells us that - for sequences of repeated tokens - head `0.7` is by far the most important in layer 0 (which makes sense, since we observed it to be the strongest \"previous token head\"), and heads `1.4`, `1.10` are the most important in layer 1 (which makes sense, since we observed these to be the most induction-y).\n",
        "\n",
        "This is a good illustration of the kind of result which we can get from ablation, but **wouldn't be able to get from something like direct logit attribution**, because it isn't a causal intervention.\n",
        "</details>\n",
        "\n",
        "### Bonus - different ablations\n",
        "\n",
        "Try ablating *every* head apart from the previous token head and the two induction heads. What does this do to performance?\n",
        "\n",
        "What if you mean ablate it, rather than zero ablating it?\n",
        "\n",
        "*(In later sections e.g. Indirect Object Identification, we'll use hooks to implement some more advanced causal interventions, such as **activation patching** and **causal tracing**.)*\n"
      ]
    },
    {
      "cell_type": "markdown",
      "metadata": {
        "id": "RJmvjLzqK75I"
      },
      "source": [
        "# 4️⃣ Reverse-engineering induction circuits\n"
      ]
    },
    {
      "cell_type": "markdown",
      "metadata": {
        "id": "V3wdFTLDMmdY"
      },
      "source": [
        "> ##### Learning objectives\n",
        ">\n",
        "> - Understand the difference between investigating a circuit by looking at activtion patterns, and reverse-engineering a circuit by looking directly at the weights\n",
        "> - Use the factored matrix class to inspect the QK and OV circuits within an induction circuit\n",
        "> - Perform further exploration of induction circuits: composition scores, and targeted ablations\n"
      ]
    },
    {
      "cell_type": "markdown",
      "metadata": {
        "id": "J1NGoyR3MmWT"
      },
      "source": [
        "In previous exercises, we looked at the attention patterns and attributions of attention heads to try and identify which ones were important in the induction circuit. This might be a good way to get a feel for the circuit, but it's not a very rigorous way to understand it. It would be better described as **feature analysis**, where we observe *that* a particular head seems to be performing some task on a certain class of inputs, without identifying *why* it does so.\n",
        "\n",
        "Now we're going to do some more rigorous mechanistic analysis - digging into the weights and using them to reverse engineer the induction head algorithm and verify that it is really doing what we think it is.\n"
      ]
    },
    {
      "cell_type": "markdown",
      "metadata": {
        "id": "EbYD9jWFMmOI"
      },
      "source": [
        "## Refresher - the induction circuit\n",
        "\n",
        "Before we get into the meat of this section, let's refresh the results we've gotten so far from investigating induction heads. We've found:\n",
        "\n",
        "* When fed repeated sequences of tokens, heads `1.4` and `1.10` have the characteristic induction head attention pattern of a diagonal stripe with offset `seq_len - 1`.\n",
        "    * We saw this both from the CircuitsVis results, and from the fact that these heads had high induction scores by our chosen metric (with all other heads having much lower scores).\n",
        "* We also saw that head `0.7` strongly attends to the previous token in the sequence (even on non-repeated sequences).\n",
        "* We performed **logit attribution** on the model, and found that the values written to the residual stream by heads `1.4` and `1.10` were both important for getting us correct predictions in the second half of the sequence.\n",
        "* We performed **zero-ablation** on the model, and found that heads `0.7`, `1.4` and `1.10` all resulted in a large accuracy degradation on the repeated sequence task when they were ablated.\n",
        "\n",
        "Based on all these observations, try and summarise the induction circuit and how it works, in your own words. You should try and link your explanation to the QK and OV circuits for particular heads, and describe what type (or types) of attention head composition are taking place.\n",
        "\n",
        "You can use the dropdown below to check your understanding.\n",
        "\n",
        "<details>\n",
        "<summary>My summary of the algorithm</summary>\n",
        "\n",
        "* Head `0.7` is a previous token head (the QK-circuit ensures it always attends to the previous token).\n",
        "* The OV circuit of head `0.7` writes a copy of the previous token in a *different* subspace to the one used by the embedding.\n",
        "* The output of head `0.7` is used by the *key* input of head `1.10` via K-Composition to attend to 'the source token whose previous token is the destination token'.\n",
        "* The OV-circuit of head `1.10` copies the *value* of the source token to the same output logit.\n",
        "    * Note that this is copying from the embedding subspace, *not* the `0.7` output subspace - it is not using V-Composition at all.\n",
        "* `1.4` is also performing the same role as `1.10` (so together they can be more accurate - we'll see exactly how later).\n",
        "\n",
        "To emphasise - the sophisticated hard part is computing the *attention* pattern of the induction head - this takes careful composition. The previous token and copying parts are fairly easy. This is a good illustrative example of how the QK circuits and OV circuits act semi-independently, and are often best thought of somewhat separately. And that computing the attention patterns can involve real and sophisticated computation!\n",
        "\n",
        "Below is a diagram of the induction circuit, with the heads indicated in the weight matrices.\n",
        "\n",
        "![kcomp_diagram_3.png](https://raw.githubusercontent.com/callummcdougall/computational-thread-art/master/example_images/misc/kcomp_diagram_described_3.png)\n",
        "</details>\n"
      ]
    },
    {
      "cell_type": "markdown",
      "metadata": {
        "id": "5hQ1nB-nMmGV"
      },
      "source": [
        "## Refresher - QK and OV circuits\n",
        "\n",
        "Before we start, a brief terminology note. I'll refer to weight matrices for a particular layer and head using superscript notation, e.g. $W_Q^{1.4}$ is the query matrix for the 4th head in layer 1, and it has shape `[d_model, d_head]` (remember that we multiply with weight matrices on the right). Similarly, attention patterns will be denoted $A^{1.4}$ (remember that these are **activations**, not parameters, since they're given by the formula $A^h = x W_{QK}^h x^T$, where $x$ is the residual stream (with shape `[seq_len, d_model]`).\n",
        "\n",
        "As a shorthand, I'll often have $A$ denote the one-hot encoding of token `A` (i.e. the vector with zeros everywhere except a one at the index of `A`), so $A^T W_E$ is the embedding vector for `A`.\n",
        "\n",
        "Lastly, I'll refer to special matrix products as follows:\n",
        "\n",
        "* $W_{OV}^{h} := W_V^{h}W_O^{h}$ is the **OV circuit** for head $h$, and $W_E W_{OV}^h W_U$ is the **full OV circuit**.\n",
        "* $W_{QK}^h := W_Q^h (W_K^h)^T$ is the **QK circuit** for head $h$, and $W_E W_{QK}^h W_E^T$ is the **full QK circuit**.\n",
        "\n",
        "Note that the order of these matrices are slightly different from the **Mathematical Frameworks** paper - this is a consequence of the way TransformerLens stores its weight matrices.\n"
      ]
    },
    {
      "cell_type": "markdown",
      "metadata": {
        "id": "aWtgyybxMl9N"
      },
      "source": [
        "#### Question - what is the interpretation of each of the following matrices?\n",
        "\n",
        "*There are quite a lot of questions here, but they are conceptually important. If you're confused, you might want to read the answers to the first few questions and then try the later ones.*\n",
        "\n",
        "In your answers, you should describe the type of input it takes, and what the outputs represent.\n",
        "\n",
        "#### $W_{OV}^{h}$\n",
        "\n",
        "<details>\n",
        "<summary>Answer</summary>\n",
        "\n",
        "$W_{OV}^{h}$ has size $(d_\\text{model}, d_\\text{model})$, it is a linear map describing **what information gets moved from source to destination, in the residual stream.**\n",
        "\n",
        "In other words, if $x$ is a vector in the residual stream, then $x^T W_{OV}^{h}$ is the vector written to the residual stream at the destination position, if the destination token only pays attention to the source token at the position of the vector $x$.\n",
        "</details>\n",
        "\n",
        "#### $W_E W_{OV}^h W_U$\n",
        "\n",
        "<details>\n",
        "<summary>Hint</summary>\n",
        "\n",
        "If $A$ is the one-hot encoding for token `A` (i.e. the vector with zeros everywhere except for a one in the position corresponding to token `A`), then think about what $A^T W_E W_{OV}^h W_U$ represents. You can evaluate this expression from left to right (e.g. start with thinking about what $A^T W_E$ represents, then multiply by the other two matrices).\n",
        "</details>\n",
        "<details>\n",
        "<summary>Answer</summary>\n",
        "\n",
        "$W_E W_{OV}^h W_U$ has size $(d_\\text{vocab}, d_\\text{vocab})$, it is a linear map describing **what information gets moved from source to destination, in a start-to-end sense.**\n",
        "\n",
        "If $A$ is the one-hot encoding for token `A`, then:\n",
        "\n",
        "* $A^T W_E$ is the embedding vector for `A`.\n",
        "* $A^T W_E W_{OV}^h$ is the vector which would get written to the residual stream at the destination position, if the destination token only pays attention to `A`.\n",
        "* $A^T W_E W_{OV}^h W_U$ is the unembedding of this vector, i.e. the thing which gets added to the final logits.\n",
        "\n",
        "</details>\n",
        "\n",
        "#### $W_{QK}^{h}$\n",
        "\n",
        "<details>\n",
        "<summary>Answer</summary>\n",
        "\n",
        "$W_{QK}^{h}$ has size $(d_\\text{model}, d_\\text{model})$, it is a bilinear form describing **where information is moved to and from** in the residual stream (i.e. which residual stream vectors attend to which others).\n",
        "\n",
        "$x_i^T W_{QK}^h x_j = (x_i^T W_Q^h) (x_j^T W_K^h)^T$ is the attention score paid by token $i$ to token $j$.\n",
        "</details>\n",
        "\n",
        "#### $W_E W_{QK}^h W_E^T$\n",
        "\n",
        "<details>\n",
        "<summary>Answer</summary>\n",
        "\n",
        "$W_E W_{QK}^h W_E^T$ has size $(d_\\text{vocab}, d_\\text{vocab})$, it is a bilinear form describing **where information is moved to and from**, among words in our vocabulary (i.e. which tokens pay attention to which others).\n",
        "\n",
        "If $A$ and $B$ are one-hot encodings for tokens `A` and `B`, then $A^T W_E W_{QK}^h W_E^T B$ is the attention score paid by token `A` to token `B`:\n",
        "\n",
        "$$\n",
        "A^T \\, W_E\\, W_{QK}^{h}\\, W_E^T \\, B = \\underbrace{(A^T W_E W_Q^{h})}_{\\text{query for token } A}  \\underbrace{(B^T W_E W_K^{h})^T}_{\\text{key for token }B}\n",
        "$$\n",
        "</details>\n",
        "\n",
        "#### $W_{pos} W_{QK}^h W_{pos}^T$\n",
        "\n",
        "<details>\n",
        "<summary>Answer</summary>\n",
        "\n",
        "$W_{pos} W_{QK}^h W_{pos}^T$ has size $(n_\\text{ctx}, n_\\text{ctx})$, it is a bilinear form describing **where information is moved to and from**, among tokens in our context (i.e. which token positions pay attention to other positions).\n",
        "\n",
        "If $i$ and $j$ are one-hot encodings for positions `i` and `j` (in other words they are just the ith and jth basis vectors), then $i^T W_{pos} W_{QK}^h W_{pos}^T j$ is the attention score paid by the token with position `i` to the token with position `j`:\n",
        "\n",
        "$$\n",
        "i^T \\, W_{pos}\\, W_{QK}^{h}\\, W_{pos}^T \\, j = \\underbrace{(i^T W_{pos} W_Q^{h})}_{\\text{query for i-th token}}  \\underbrace{(j^T W_{pos} W_K^{h})^T}_{\\text{key for j-th token}}\n",
        "$$\n",
        "\n",
        "</details>\n",
        "\n",
        "#### $W_E W_{OV}^{h_1} W_{QK}^{h_2} W_E^T$\n",
        "\n",
        "where $h_1$ is in an earlier layer than $h_2$.\n",
        "\n",
        "<details>\n",
        "<summary>Hint</summary>\n",
        "\n",
        "This matrix is best seen as a bilinear form of size $(d_\\text{vocab}, d_\\text{vocab})$. The $(A, B)$-th element is:\n",
        "\n",
        "$$\n",
        "(A^T W_E W_{OV}^{h_1}) W_{QK}^{h_2} (B^T W_E)^T\n",
        "$$\n",
        "</details>\n",
        "\n",
        "<details>\n",
        "<summary>Answer</summary>\n",
        "\n",
        "$W_E W_{OV}^{h_1} W_{QK}^{h_2} W_E^T$ has size $(d_\\text{vocab}, d_\\text{vocab})$, it is a bilinear form describing where information is moved to and from in head $h_2$, given that the **query-side vector** is formed from the output of head $h_1$. In other words, this is an instance of **Q-composition**.\n",
        "\n",
        "If $A$ and $B$ are one-hot encodings for tokens `A` and `B`, then $A^T W_E W_{OV}^{h_1} W_{QK}^{h_2} W_E^T B$ is the attention score paid **to** token `B`, **by** any token which attended strongly to an `A`-token in head $h_1$.\n",
        "\n",
        "---\n",
        "\n",
        "To further break this down, if it still seems confusing:\n",
        "\n",
        "$$\n",
        "\\begin{aligned}\n",
        "A^T \\, W_E\\, W_{OV}^{h_1} W_{QK}^{h_2}\\, W_E^T \\, B &= \\underbrace{(A^T W_E W_{OV}^{h_1}W_Q^{h_2})}_{\\text{query of token which attended to A}}  \\underbrace{(B^T W_E W_K^{h_2})^T}_\\text{key of token B} \\\\\n",
        "\\end{aligned}\n",
        "$$\n",
        "\n",
        "---\n",
        "\n",
        "Note that the actual attention score will be a sum of multiple terms, not just this one (in fact, we'd have a different term for every combination of query and key input). But this term describes the **particular contribution** to the attention score from this combination of query and key input, and it might be the case that this term is the only one that matters (i.e. all other terms don't much affect the final probabilities). We'll see something exactly like this later on.\n",
        "</details>\n"
      ]
    },
    {
      "cell_type": "markdown",
      "metadata": {
        "id": "BMO-17ZPMlpn"
      },
      "source": [
        "Before we start, there's a problem that we might run into when calculating all these matrices. Some of them are massive, and might not fit on our GPU. For instance, both full circuit matrices have shape $(d_\\text{vocab}, d_\\text{vocab})$, which in our case means $50278\\times 50278 \\approx 2.5\\times 10^{9}$ elements. Even if your GPU can handle this, it still seems inefficient. Is there any way we can meaningfully analyse these matrices, without actually having to calculate them?\n",
        "\n",
        "## Factored Matrix class\n",
        "\n",
        "In transformer interpretability, we often need to analyse low rank factorized matrices - a matrix $M = AB$, where M is `[large, large]`, but A is `[large, small]` and B is `[small, large]`. This is a common structure in transformers.\n",
        "\n",
        "For instance, we can factorise the OV circuit above as $W_{OV}^h = W_V^h W_O^h$, where $W_V^h$ has shape `[768, 64]` and $W_O^h$ has shape `[64, 768]`. For an even more extreme example, the full OV circuit can be written as $(W_E W_V^h) (W_O^h W_U)$, where these two matrices have shape `[50278, 64]` and `[64, 50278]` respectively. Similarly, we can write the full QK circuit as $(W_E W_Q^h) (W_E W_K^h)^T$.\n",
        "\n",
        "The `FactoredMatrix` class is a convenient way to work with these. It implements efficient algorithms for various operations on these, such as computing the trace, eigenvalues, Frobenius norm, singular value decomposition, and products with other matrices. It can (approximately) act as a drop-in replacement for the original matrix.\n",
        "\n",
        "This is all possible because knowing the factorisation of a matrix gives us a much easier way of computing its important properties. Intuitively, since $M=AB$ is a very large matrix that operates on very small subspaces, we shouldn't expect knowing the actual values $M_{ij}$ to be the most efficient way of storing it!\n"
      ]
    },
    {
      "cell_type": "markdown",
      "metadata": {
        "id": "IBL1qfvMPT8q"
      },
      "source": [
        "### Exercise - deriving properties of a factored matrix\n",
        "\n",
        "```c\n",
        "Difficulty: 🔴🔴🔴🔴⚪\n",
        "Importance: 🔵🔵⚪⚪⚪\n",
        "\n",
        "You shouldn't spend more than 10-25 minutes on this exercise.\n",
        "\n",
        "If you're less interested in the maths, you can skip these exercises.\n",
        "```\n",
        "\n",
        "To give you an idea of what kinds of properties you can easily compute if you have a factored matrix, let's try and derive some ourselves.\n",
        "\n",
        "Suppose we have $M=AB$, where $A$ has shape $(m, n)$, $B$ has shape $(n, m)$, and $m > n$. So $M$ is a size-$(m, m)$ matrix with rank at most $n$.\\;\n",
        "\n",
        "**Question - how can you easily compute the trace of $M$?**\n",
        "\n",
        "<details>\n",
        "<summary>Answer</summary>\n",
        "\n",
        "We have:\n",
        "\n",
        "$$\n",
        "\\text{Tr}(M) = \\text{Tr}(AB)\n",
        "= \\sum_{i=1}^m \\sum_{j=1}^n A_{ij} B_{ji}\n",
        "$$\n",
        "\n",
        "so evaluation of the trace is $O(mn)$.\n",
        "\n",
        "Note that, by cyclicity of the trace, we can also show that $\\text{Tr}(M) = \\text{Tr}(BA)$ (although we don't even need to calculate the product $AB$ to evaluate the trace).\n",
        "</details>\n",
        "\n",
        "**Question - how can you easily compute the eigenvalues of $M$?**\n",
        "\n",
        "(As you'll see in later exercises, eigenvalues are very important for evaluating matrices, for instance we can assess the [copying scores](https://transformer-circuits.pub/2021/framework/index.html#copying-matrix) of an OV circuit by looking at the eigenvalues of $W_{OV}$.)\n",
        "\n",
        "<details>\n",
        "<summary>Hint</summary>\n",
        "\n",
        "It's computationally cheaper to find the eigenvalues of $BA$ rather than $AB$.\n",
        "\n",
        "How are the eigenvalues of $AB$ and $BA$ related?\n",
        "</details>\n",
        "<details>\n",
        "<summary>Answer</summary>\n",
        "\n",
        "The eigenvalues of $AB$ and $BA$ are related as follows: if $\\mathbf{v}$ is an eigenvector of $AB$ with $ABv = \\lambda \\mathbf{v}$, then $B\\mathbf{v}$ is an eigenvector of $BA$ with the same eigenvalue:\n",
        "\n",
        "$$\n",
        "BA(B\\mathbf{v}) = B (AB\\mathbf{v}) = B (\\lambda \\mathbf{v}) = \\lambda (B\\mathbf{v})\n",
        "$$\n",
        "\n",
        "This only fails when $B\\mathbf{v} = \\mathbf{0}$, but in this case $AB\\mathbf{v} = \\mathbf{0}$ so $\\lambda = 0$. Thus, we can conclude that any non-zero eigenvalues of $AB$ are also eigenvalues of $BA$.\n",
        "\n",
        "It's much computationally cheaper to compute the eigenvalues of $BA$ (since it's a much smaller matrix), and this gives us all the non-zero eigenvalues of $AB$.\n",
        "</details>\n",
        "\n",
        "**Question (hard) - how can you easily compute the SVD of $M$?**\n",
        "\n",
        "<details>\n",
        "<summary>Hint</summary>\n",
        "\n",
        "For a size-$(m, n)$ matrix with $m > n$, the [algorithmic complexity of finding SVD](https://en.wikipedia.org/wiki/Singular_value_decomposition#Numerical_approach) is $O(mn^2)$. So it's relatively cheap to find the SVD of $A$ and $B$ (complexity $mn^2$ vs $m^3$). Can you use that to find the SVD of $M$?\n",
        "</details>\n",
        "\n",
        "\n",
        "<details>\n",
        "<summary>Answer</summary>\n",
        "\n",
        "It's much cheaper to compute the SVD of the small matrices $A$ and $B$. Denote these SVDs by:\n",
        "\n",
        "$$\n",
        "\\begin{aligned}\n",
        "A &= U_A S_A V_A^T \\\\\n",
        "B &= U_B S_B V_B^T\n",
        "\\end{aligned}\n",
        "$$\n",
        "\n",
        "where $U_A$ and $V_B$ are $(m, n)$, and the other matrices are $(n, n)$.\n",
        "\n",
        "Then we have:\n",
        "\n",
        "$$\n",
        "\\begin{aligned}\n",
        "\\quad\\quad\\quad\\quad M &= AB \\\\\n",
        "&= U_A (S_A V_A^T U_B S_B) V_B^T\n",
        "\\end{aligned}\n",
        "$$\n",
        "\n",
        "Note that the matrix in the middle has size $(n, n)$ (i.e. small), so we can compute its SVD cheaply:\n",
        "\n",
        "$$\n",
        "\\begin{aligned}\n",
        "\\; S_A V_A^T U_B S_B &= U' S' {V'}^T \\quad\\quad\\quad\\quad\\quad\n",
        "\\end{aligned}\n",
        "$$\n",
        "\n",
        "and finally, this gives us the SVD of $M$:\n",
        "\n",
        "$$\n",
        "\\begin{aligned}\n",
        "\\quad\\quad M &= U_A U' S' {V'}^T V_B^T \\\\\n",
        "&= U S {V'}^T\n",
        "\\end{aligned}\n",
        "$$\n",
        "\n",
        "where $U = U_A U'$, $V = V_B V'$, and $S = S'$.\n",
        "\n",
        "All our SVD calculations and matrix multiplications had complexity at most $O(mn^2)$, which is much better than $O(m^3)$ (remember that we don't need to compute all the values of $U = U_A U'$, only the ones which correspond to non-zero singular values).\n",
        "</details>\n",
        "\n",
        "If you're curious, you can go to the `FactoredMatrix` documentation to see the implementation of the SVD calculation, as well as other properties and operations.\n"
      ]
    },
    {
      "cell_type": "markdown",
      "metadata": {
        "id": "QbfBXlYcPpxt"
      },
      "source": [
        "Now that we've discussed some of the motivations behind having a `FactoredMatrix` class, let's see it in action.\n",
        "\n",
        "### Basic Examples\n",
        "\n",
        "We can use the basic class directly - let's make a factored matrix directly and look at the basic operations:\n"
      ]
    },
    {
      "cell_type": "code",
      "execution_count": null,
      "metadata": {
        "id": "5LIr_ivOPsk2"
      },
      "outputs": [],
      "source": [
        "A = t.randn(5, 2)\n",
        "B = t.randn(2, 5)\n",
        "AB = A @ B\n",
        "AB_factor = FactoredMatrix(A, B)\n",
        "print(\"Norms:\")\n",
        "print(AB.norm())\n",
        "print(AB_factor.norm())\n",
        "\n",
        "print(f\"Right dimension: {AB_factor.rdim}, Left dimension: {AB_factor.ldim}, Hidden dimension: {AB_factor.mdim}\")"
      ]
    },
    {
      "cell_type": "markdown",
      "metadata": {
        "id": "5YmNMkIYPuqq"
      },
      "source": [
        "We can also look at the eigenvalues and singular values of the matrix. Note that, because the matrix is rank 2 but 5 by 5, the final 3 eigenvalues and singular values are zero - the factored class omits the zeros.\n"
      ]
    },
    {
      "cell_type": "code",
      "execution_count": null,
      "metadata": {
        "id": "tlFXprK4Pweo"
      },
      "outputs": [],
      "source": [
        "print(\"Eigenvalues:\")\n",
        "print(t.linalg.eig(AB).eigenvalues)\n",
        "print(AB_factor.eigenvalues)\n",
        "print()\n",
        "print(\"Singular Values:\")\n",
        "print(t.linalg.svd(AB).S)\n",
        "print(AB_factor.S)\n",
        "print(\"Full SVD:\")\n",
        "print(AB_factor.svd())"
      ]
    },
    {
      "cell_type": "markdown",
      "metadata": {
        "id": "FhP6qtywPTy-"
      },
      "source": [
        "<details>\n",
        "<summary>Aside - the sizes of objects returned by the SVD method.</summary>\n",
        "\n",
        "If $M = USV^T$, and `M.shape = (m, n)` and the rank is `r`, then the SVD method returns the matrices $U, S, V$. They have shape `(m, r)`, `(r,)`, and `(n, r)` respectively, because:\n",
        "\n",
        "* We don't bother storing the off-diagonal entries of $S$, since they're all zero.\n",
        "* We don't bother storing the columns of $U$ and $V$ which correspond to zero singular values, since these won't affect the value of $USV^T$.\n",
        "</details>\n",
        "\n",
        "We can multiply a factored matrix with an unfactored matrix to get another factored matrix (as in example below). We can also multiply two factored matrices together to get another factored matrix.\n"
      ]
    },
    {
      "cell_type": "code",
      "execution_count": null,
      "metadata": {
        "id": "ZUpuZj-kP5cz"
      },
      "outputs": [],
      "source": [
        "C = t.randn(5, 300)\n",
        "ABC = AB @ C\n",
        "ABC_factor = AB_factor @ C\n",
        "print(\"Unfactored:\", ABC.shape, ABC.norm())\n",
        "print(\"Factored:\", ABC_factor.shape, ABC_factor.norm())\n",
        "print(f\"Right dimension: {ABC_factor.rdim}, Left dimension: {ABC_factor.ldim}, Hidden dimension: {ABC_factor.mdim}\")"
      ]
    },
    {
      "cell_type": "markdown",
      "metadata": {
        "id": "vWGT1Do4P6zQ"
      },
      "source": [
        "If we want to collapse this back to an unfactored matrix, we can use the `AB` property to get the product:\n"
      ]
    },
    {
      "cell_type": "code",
      "execution_count": null,
      "metadata": {
        "id": "GjPwvpg_P7rX"
      },
      "outputs": [],
      "source": [
        "AB_unfactored = AB_factor.AB\n",
        "t.testing.assert_close(AB_unfactored, AB)"
      ]
    },
    {
      "cell_type": "markdown",
      "metadata": {
        "id": "AV6Ldh8cPTqN"
      },
      "source": [
        "## Reverse-engineering circuits\n",
        "\n",
        "Within our induction circuit, we have four individual circuits: the OV and QK circuits in our previous token head, and the OV and QK circuits in our induction head. In the following sections of the exercise, we'll reverse-engineer each of these circuits in turn.\n",
        "\n",
        "* In the section **OV copying circuit**, we'll look at the layer-1 OV circuit.\n",
        "* In the section **QK prev-token circuit**, we'll look at the layer-0 QK circuit.\n",
        "* The third section (**K-composition**) is a bit trickier, because it involves looking at the composition of the layer-0 OV circuit **and** layer-1 QK circuit. We will have to do two things:\n",
        "    1. Show that these two circuits are composing (i.e. that the output of the layer-0 OV circuit is the main determinant of the key vectors in the layer-1 QK circuit).\n",
        "    2. Show that the joint operation of these two circuits is \"make the second instance of a token attend to the token *following* an earlier instance.\n",
        "\n",
        "The dropdown below contains a diagram explaining how the three sections relate to the different components of the induction circuit. You might have to open it in a new tab to see it clearly.\n",
        "\n",
        "<details>\n",
        "<summary>Diagram</summary>\n",
        "\n",
        "![kcomp](https://raw.githubusercontent.com/callummcdougall/computational-thread-art/master/example_images/misc/kcomp_diagram_described_2_new.png)\n",
        "</details>\n",
        "\n",
        "After this, we'll have a look at composition scores, which are a more mathematically justified way of showing that two attention heads are composing (without having to look at their behaviour on any particular class of inputs, since it is a property of the actual model weights).\n"
      ]
    },
    {
      "cell_type": "markdown",
      "metadata": {
        "id": "JDERB3SXPTUC"
      },
      "source": [
        "## [1] OV copying circuit\n",
        "\n",
        "Let's start with an easy parts of the circuit - the copying OV circuit of `1.4` and `1.10`. Let's start with head 4. The only interpretable (read: **privileged basis**) things here are the input tokens and output logits, so we want to study the matrix:\n",
        "\n",
        "$$\n",
        "W_E W_{OV}^{1.4} W_U\n",
        "$$\n",
        "\n",
        "(and same for `1.10`). This is the $(d_\\text{vocab}, d_\\text{vocab})$-shape matrix that combines with the attention pattern to get us from input to output.\n",
        "\n",
        "We want to calculate this matrix, and inspect it. We should find that its diagonal values are very high, and its non-diagonal values are much lower.\n",
        "\n",
        "**Question - why should we expect this observation?** (you may find it helpful to refer back to the previous section, where you described what the interpretation of different matrices was.)\n",
        "\n",
        "<details>\n",
        "<summary>Hint</summary>\n",
        "\n",
        "Suppose our repeating sequence is `A B ... A B`. Let $A$, $B$ be the corresponding one-hot encoded tokens. The `B`-th row of this matrix is:\n",
        "\n",
        "$$\n",
        "B^T W_E W_{OV}^{1.4} W_U\n",
        "$$\n",
        "\n",
        "What is the interpretation of this expression, in the context of our attention head?\n",
        "</details>\n",
        "\n",
        "<!-- <details> -->\n",
        "<summary>Answer</summary>\n",
        "\n",
        "If our repeating sequence is `A B ... A B`, then:\n",
        "\n",
        "$$\n",
        "B^T W_E W_{OV}^{1.4} W_U\n",
        "$$\n",
        "\n",
        "is the **vector of logits which gets moved from the first `B` token to the second `A` token, to be used as the prediction for the token following the second `A` token**. It should result in a high prediction for `B`, and a low prediction for everything else. In other words, the `(B, X)`-th element of this matrix should be highest for `X=B`, which is exactly what we claimed.\n",
        "\n",
        "---\n",
        "\n",
        "If this still seems confusing, let's break it down bit by bit. We have:\n",
        "\n",
        "* $B^T W_E$ is the token-embedding of `B`.\n",
        "* $B^T W_E W_{OV}^{1.4}$ is the vector which gets moved from the first `B` token to the second `A` token, by our attention head (because the second `A` token attends strongly to the first `B`).\n",
        "* $B^T W_E W_{OV}^{1.4} W_U$ is the vector of logits representing how this attention head affects the prediction of the token following the second `A`. There should be a higher logit for `B` than for any other token, because the attention head is trying to copy `B` to the second `A`.\n",
        "\n",
        "---\n",
        "\n",
        "<img src=\"https://raw.githubusercontent.com/callummcdougall/computational-thread-art/master/example_images/misc/kcomp_diagram_described-OV-end.png\" width=\"500\">\n",
        "\n",
        "</details>\n"
      ]
    },
    {
      "cell_type": "markdown",
      "metadata": {
        "id": "5LfzLieWPTgi"
      },
      "source": [
        "### Exercise - compute OV circuit for `1.4`\n",
        "\n",
        "*This is the first of several similar exercises where you calculate a circuit by multiplying matrices. This exercise is pretty important (in particular, you should make sure you understand what this matrix represents and why we're interested in it), but the actual calculation shouldn't take very long.*\n"
      ]
    },
    {
      "cell_type": "markdown",
      "metadata": {
        "id": "mw0P4WTGMjU2"
      },
      "source": [
        "You should compute it as a `FactoredMatrix` object.\n",
        "\n",
        "Remember, you can access the model's weights directly e.g. using `model.W_E` or `model.W_Q` (the latter gives you all the `W_Q` matrices, indexed by layer and head).\n"
      ]
    },
    {
      "cell_type": "code",
      "execution_count": null,
      "metadata": {
        "id": "QamUKy6mUQqo"
      },
      "outputs": [],
      "source": [
        "layer = 1\n",
        "head_index = 4\n",
        "\n",
        "# YOUR CODE HERE - compte the `full_OV_circuit` object\n",
        "\n",
        "tests.test_full_OV_circuit(full_OV_circuit, model, layer, head_index)"
      ]
    },
    {
      "cell_type": "markdown",
      "metadata": {
        "id": "KzRwrMMZUSun"
      },
      "source": [
        "<details>\n",
        "<summary>Help - I'm not sure how to use this class to compute a product of more than 2 matrices.</summary>\n",
        "\n",
        "You can compute it directly, as:\n",
        "\n",
        "```python\n",
        "full_OV_circuit = FactoredMatrix(W_E @ W_V, W_O @ W_U)\n",
        "```\n",
        "\n",
        "Alternatively, another nice feature about the `FactoredMatrix` class is that you can chain together matrix multiplications. The following code defines exactly the same `FactoredMatrix` object:\n",
        "\n",
        "```python\n",
        "OV_circuit = FactoredMatrix(W_V, W_O)\n",
        "full_OV_circuit = W_E @ OV_circuit @ W_U\n",
        "```\n",
        "</details>"
      ]
    },
    {
      "cell_type": "markdown",
      "metadata": {
        "id": "c-PjNsfdPS43"
      },
      "source": [
        "### Exercise - verify this is the identity\n",
        "\n",
        "```c\n",
        "Difficulty: 🔴🔴⚪⚪⚪\n",
        "Importance: 🔵🔵🔵⚪⚪\n",
        "\n",
        "You shouldn't spend more than 5-10 minutes on this exercise.\n",
        "\n",
        "This exercise should be very short; it only requires 2 lines of code. Understanding it conceptually is more important than the actual coding.\n",
        "```\n"
      ]
    },
    {
      "cell_type": "markdown",
      "metadata": {
        "id": "h4deQSV5M33H"
      },
      "source": [
        "Now we want to check that this matrix is the identity. Since it's in factored matrix form, this is a bit tricky, but there are still things we can do.\n",
        "\n",
        "First, to validate that it looks diagonal-ish, let's pick 200 random rows and columns and visualise that - it should at least look identity-ish here!\n"
      ]
    },
    {
      "cell_type": "code",
      "execution_count": null,
      "metadata": {
        "id": "qXgRTO1jUbqi"
      },
      "outputs": [],
      "source": [
        "# YOUR CODE HERE - get a random sample from the full OV circuit, so it can be plotted with `imshow`\n",
        "imshow(\n",
        "    full_OV_circuit_sample,\n",
        "    labels={\"x\": \"Input token\", \"y\": \"Logits on output token\"},\n",
        "    title=\"Full OV circuit for copying head\",\n",
        "    width=700,\n",
        ")"
      ]
    },
    {
      "cell_type": "markdown",
      "metadata": {
        "id": "ef6iWjQsUdDd"
      },
      "source": [
        "<details>\n",
        "<summary>Aside - indexing factored matrices</summary>\n",
        "\n",
        "Yet another nice thing about factored matrices is that you can evaluate small submatrices without having to compute the entire matrix. This is based on the fact that the `[i, j]`-th element of matrix `AB` is `A[i, :] @ B[:, j]`.\n",
        "\n",
        "When you index a factored matrix, you get back another factored matrix. So rather than explicitly calculating `A[left_indices, :] @ B[:, left_indices]`, we can just write `AB[left_indices, left_indices]`.\n",
        "</details>\n",
        "\n",
        "You should observe a pretty distinct diagonal pattern here, which is a good sign. However, the matrix is pretty noisy so it probably won't be exactly the identity. Instead, we should come up with a summary statistic to capture a rough sense of \"closeness to the identity\".\n",
        "\n",
        "**Accuracy** is a good summary statistic - what fraction of the time is the largest logit in a row on the diagonal? Even if there's lots of noise, you'd probably still expect the largest logit to be on the diagonal a good deal of the time.\n",
        "\n",
        "If you're on a Colab or have a powerful GPU, you should be able to compute the full matrix and perform this test. However, it's better practice to iterate through this matrix when we can, so that we avoid CUDA issues. We've given you a `batch_size` argument in the function below, and you should try to only explicitly calculate matrices of size `d_vocab * batch_size` rather than the massive matrix of `d_vocab * d_vocab`."
      ]
    },
    {
      "cell_type": "code",
      "execution_count": null,
      "metadata": {
        "id": "0fa73_qlUy9P"
      },
      "outputs": [],
      "source": [
        "def top_1_acc(full_OV_circuit: FactoredMatrix, batch_size: int = 1000) -> float:\n",
        "    '''\n",
        "    This should take the argmax of each column (ie over dim=0) and return the fraction of the time that's equal to the correct logit\n",
        "    '''\n",
        "    pass\n",
        "\n",
        "\n",
        "print(f\"Fraction of the time that the best logit is on the diagonal: {top_1_acc(full_OV_circuit):.4f}\")"
      ]
    },
    {
      "cell_type": "markdown",
      "metadata": {
        "id": "f0omG_tnU01V"
      },
      "source": [
        "This should return about 30.79% - pretty underwhelming. It goes up to 47.73% for top-5. What's up with that?\n"
      ]
    },
    {
      "cell_type": "markdown",
      "metadata": {
        "id": "womxCKC-Uc73"
      },
      "source": [
        "### Exercise - compute effective circuit\n",
        "\n",
        "```c\n",
        "Difficulty: 🔴🔴⚪⚪⚪\n",
        "Importance: 🔵🔵🔵⚪⚪\n",
        "\n",
        "You shouldn't spend more than 5-10 minutes on this exercise.\n",
        "\n",
        "This exercise should be very short; it only requires 2 lines of code. Understanding it conceptually is more important than the actual coding.\n",
        "```\n"
      ]
    },
    {
      "cell_type": "markdown",
      "metadata": {
        "id": "xIFaowSONYhc"
      },
      "source": [
        "Now we return to why we have *two* induction heads. If both have the same attention pattern, the effective OV circuit is actually $W_E(W_V^{1.4}W_O^{1.4}+W_V^{1.10}W_O^{1.10})W_U$, and this is what matters. So let's re-run our analysis on this!\n",
        "\n",
        "<img src=\"https://raw.githubusercontent.com/callummcdougall/computational-thread-art/master/example_images/misc/effective_ov_circuit.png\" width=\"650\">\n"
      ]
    },
    {
      "cell_type": "markdown",
      "metadata": {
        "id": "cvvIxncCV5nJ"
      },
      "source": [
        "<details>\n",
        "<summary>Question - why might the model want to split the circuit across two heads?</summary>\n",
        "\n",
        "Because $W_V W_O$ is a rank 64 matrix. The sum of two is a rank 128 matrix. This can be a significantly better approximation to the desired 50K x 50K matrix!\n",
        "</details>\n"
      ]
    },
    {
      "cell_type": "code",
      "execution_count": null,
      "metadata": {
        "id": "f83trUNAV6ij"
      },
      "outputs": [],
      "source": [
        "# YOUR CODE HERE - compute the effective OV circuit, and run `top_1_acc` on it"
      ]
    },
    {
      "cell_type": "markdown",
      "metadata": {
        "id": "QixqCn7kV94q"
      },
      "source": [
        "<details>\n",
        "<summary>Expected output</summary>\n",
        "\n",
        "You should get an accuracy of 95.6% for top-1, and 98% for top-5 - much better!\n",
        "</details>\n"
      ]
    },
    {
      "cell_type": "markdown",
      "metadata": {
        "id": "1Y89hhZsWB7V"
      },
      "source": [
        "## [2] QK prev-token circuit\n",
        "\n",
        "The other easy circuit is the QK-circuit of L0H7 - how does it know to be a previous token circuit?\n",
        "\n",
        "We can multiply out the full QK circuit via the positional embeddings:\n",
        "\n",
        "$$\n",
        "W_\\text{pos} W_Q^{0.7} (W_K^{0.7})^T W_\\text{pos}^T\n",
        "$$\n",
        "\n",
        "to get a matrix `pos_by_pos` of shape `[max_ctx, max_ctx]` (max ctx = max context length, i.e. maximum length of a sequence we're allowing, which is set by our choice of dimensions in $W_\\text{pos}$).\n",
        "\n",
        "Note that in this case, our max context window is 2048 (we can check this via `model.cfg.n_ctx`). This is much smaller than the 50k-size matrices we were working with in the previous section, so we shouldn't need to use the factored matrix class here.\n",
        "\n",
        "Once we calculate it, we can then mask it and apply a softmax, and should get a clear stripe on the lower diagonal (Tip: Click and drag to zoom in, hover over cells to see their values and indices!)\n"
      ]
    },
    {
      "cell_type": "markdown",
      "metadata": {
        "id": "AzWvf8XQWD28"
      },
      "source": [
        "<details>\n",
        "<summary>Question - why should we expect this matrix to have a lower-diagonal stripe?</summary>\n",
        "\n",
        "The full QK circuit $W_\\text{pos} W_{QK}^{0.7} W_\\text{pos}^T$ has shape `[n_ctx, n_ctx]`. It is a bilinear form, with the $(i, j)$-th element representing the attention score paid by the $i$-th token to the $j$-th token. This should be very large when $j = i - 1$ (and smaller for all other values of $j$), because this is a **previous head token**. So if we softmax over $j$, we should get a lower-diagonal stripe of 1.\n",
        "\n",
        "<img src=\"https://raw.githubusercontent.com/callummcdougall/computational-thread-art/master/example_images/misc/kcomp_diagram_described-QK-last.png\" width=\"600\">\n",
        "\n",
        "</details>\n",
        "\n",
        "Why is it justified to ignore token encodings? In this case, it turns out that the positional encodings have a much larger effect on the attention scores than the token encodings. If you want, you can verify this for yourself - after going through the next section (reverse-engineering K-composition), you'll have a better sense of how to perform attribution on the inputs to attention heads, and assess their importance).\n"
      ]
    },
    {
      "cell_type": "markdown",
      "metadata": {
        "id": "3Kq1FabjWjF4"
      },
      "source": [
        "### Exercise - compute full QK-circuit for `0.7`\n",
        "\n",
        "```c\n",
        "Difficulty: 🔴🔴🔴⚪⚪\n",
        "Importance: 🔵🔵🔵⚪⚪\n",
        "\n",
        "You shouldn't spend more than 10-15 minutes on this exercise.\n",
        "\n",
        "The fiddly masking and scaling steps make this exercise a bit harder than the last one. Look at the solution if you don't see where you're going wrong.\n",
        "```\n",
        "\n",
        "*This is another relatively simple matrix multiplication, although it's a bit fiddly on account of the  masking and scaling steps. If you understand what you're being asked to do but still not passing the tests, you should probably look at the solution.*\n"
      ]
    },
    {
      "cell_type": "markdown",
      "metadata": {
        "id": "-h8HM0LPN4-o"
      },
      "source": [
        "Now, you should compute and plot the matrix.\n",
        "\n",
        "Remember, you're calculating the attention pattern (i.e. probabilites) not the scores. You'll need to mask the scores (you can use the `mask_scores` function we've provided you with), and scale them.\n"
      ]
    },
    {
      "cell_type": "code",
      "execution_count": null,
      "metadata": {
        "id": "sUb-JFppWkg-"
      },
      "outputs": [],
      "source": [
        "def mask_scores(attn_scores: Float[Tensor, \"query_nctx key_nctx\"]):\n",
        "    '''Mask the attention scores so that tokens don't attend to previous tokens.'''\n",
        "    assert attn_scores.shape == (model.cfg.n_ctx, model.cfg.n_ctx)\n",
        "    mask = t.tril(t.ones_like(attn_scores)).bool()\n",
        "    neg_inf = t.tensor(-1.0e6).to(attn_scores.device)\n",
        "    masked_attn_scores = t.where(mask, attn_scores, neg_inf)\n",
        "    return masked_attn_scores\n",
        "\n",
        "\n",
        "    # YOUR CODE HERE - calculate the matrix `pos_by_pos_pattern` as described above\n",
        "tests.test_pos_by_pos_pattern(pos_by_pos_pattern, model, layer, head_index)"
      ]
    },
    {
      "cell_type": "markdown",
      "metadata": {
        "id": "-q20PTgEWmIm"
      },
      "source": [
        "Once the tests pass, you can plot a corner of your matrix:\n"
      ]
    },
    {
      "cell_type": "code",
      "execution_count": null,
      "metadata": {
        "id": "L8dylbJWtxI7"
      },
      "outputs": [],
      "source": [
        "print(f\"Avg lower-diagonal value: {pos_by_pos_pattern.diag(-1).mean():.4f}\")\n",
        "\n",
        "imshow(\n",
        "    utils.to_numpy(pos_by_pos_pattern[:100, :100]),\n",
        "    labels={\"x\": \"Key\", \"y\": \"Query\"},\n",
        "    title=\"Attention patterns for prev-token QK circuit, first 100 indices\",\n",
        "    width=700\n",
        ")"
      ]
    },
    {
      "cell_type": "markdown",
      "metadata": {
        "id": "D4LbhcE5Uc0F"
      },
      "source": [
        "## [3] K-composition circuit\n",
        "\n",
        "We now dig into the hard part of the circuit - demonstrating the K-Composition between the previous token head and the induction head.\n",
        "\n",
        "#### Splitting activations\n",
        "\n",
        "We can repeat the trick from the logit attribution scores. The QK-input for layer 1 is the sum of 14 terms (2+n_heads) - the token embedding, the positional embedding, and the results of each layer 0 head. So for each head $\\text{H}$ in layer 1, the query tensor (ditto key) corresponding to sequence position $i$ is:\n",
        "\n",
        "$$\n",
        "\\begin{align*}\n",
        "x W^\\text{1.H}_Q &= (e + pe + \\sum_{h=0}^{11} x^\\text{0.h}) W^\\text{1.H}_Q \\\\\n",
        "&= e W^\\text{1.H}_Q + pe W^\\text{1.H}_Q + \\sum_{h=0}^{11} x^\\text{0.h} W^\\text{1.H}_Q\n",
        "\\end{align*}\n",
        "$$\n",
        "\n",
        "where $e$ stands for the token embedding, $pe$ for the positional embedding, and $x^\\text{0.h}$ for the output of head $h$ in layer 0 (and the sum of these tensors equals the residual stream $x$). All these tensors have shape `[seq, d_model]`. So we can treat the expression above as a sum of matrix multiplications `[seq, d_model] @ [d_model, d_head] -> [seq, d_head]`.\n",
        "\n",
        "For ease of notation, I'll refer to the 14 inputs as $(y_0, y_1, ..., y_{13})$ rather than $(e, pe, x^\\text{0.h}, ..., x^{h.11})$. So we have:\n",
        "\n",
        "$$\n",
        "x W^h_Q = \\sum_{i=0}^{13} y_i W^h_Q\n",
        "$$\n",
        "\n",
        "with each $y_i$ having shape `[seq, d_model]`, and the sum of $y_i$s being the full residual stream $x$. Here is a diagram to illustrate:\n",
        "\n",
        "<img src=\"https://raw.githubusercontent.com/callummcdougall/computational-thread-art/master/example_images/misc/components.png\" width=\"550\">\n"
      ]
    },
    {
      "cell_type": "markdown",
      "metadata": {
        "id": "9X_s8YfsUctM"
      },
      "source": [
        "### Exercise - analyse the relative importance\n",
        "\n",
        "```c\n",
        "Difficulty: 🔴🔴🔴🔴⚪\n",
        "Importance: 🔵🔵🔵🔵⚪\n",
        "\n",
        "You shouldn't spend more than 15-25 minutes on these exercises.\n",
        "\n",
        "Most of these functions just involve indexing and einsums, but conceptual understanding / figuring out exactly what the question is asking for is the hard part!\n",
        "```\n"
      ]
    },
    {
      "cell_type": "markdown",
      "metadata": {
        "id": "NhlziOldQlda"
      },
      "source": [
        "We can now analyse the relative importance of these 14 terms! A very crude measure is to take the norm of each term (by component and position).\n",
        "\n",
        "Note that this is a pretty dodgy metric - q and k are not inherently interpretable! But it can be a good and easy-to-compute proxy.\n",
        "\n",
        "<details>\n",
        "<summary>Question - why are Q and K not inherently interpretable? Why might the norm be a good metric in spite of this?</summary>\n",
        "\n",
        "They are not inherently interpretable because they operate on the residual stream, which doesn't have a **privileged basis**. You could stick a rotation matrix $R$ after all of the $Q$, $K$ and $V$ weights (and stick a rotation matrix before everything that writes to the residual stream), and the model would still behave exactly the same.\n",
        "\n",
        "The reason taking the norm is still a reasonable thing to do is that, despite the individual elements of these vectors not being inherently interpretable, it's still a safe bet that if they are larger than they will have a greater overall effect on the residual stream. So looking at the norm doesn't tell us how they work, but it does indicate which ones are more important.\n",
        "</details>\n",
        "\n",
        "Fill in the functions below:\n"
      ]
    },
    {
      "cell_type": "code",
      "execution_count": null,
      "metadata": {
        "id": "JQmd48vgW5_v"
      },
      "outputs": [],
      "source": [
        "def decompose_qk_input(cache: ActivationCache) -> Tensor:\n",
        "    '''\n",
        "    Output is decomposed_qk_input, with shape [2+num_heads, seq, d_model]\n",
        "\n",
        "    The [i, 0, 0]th element is y_i (from notation above)\n",
        "    '''\n",
        "    pass\n",
        "\n",
        "\n",
        "def decompose_q(\n",
        "    decomposed_qk_input: Float[Tensor, \"n_heads+2 posn d_head\"],\n",
        "    ind_head_index: int,\n",
        "    model: HookedTransformer,\n",
        ") -> Tensor:\n",
        "    '''\n",
        "    Output is decomposed_q with shape [2+num_heads, position, d_head]\n",
        "\n",
        "    The [i, :, :]th element is y_i @ W_Q (so the sum along axis 0 is just the q-values)\n",
        "    '''\n",
        "    pass\n",
        "\n",
        "\n",
        "def decompose_k(\n",
        "    decomposed_qk_input: Float[Tensor, \"n_heads+2 posn d_head\"],\n",
        "    ind_head_index: int,\n",
        "    model: HookedTransformer,\n",
        ") -> Tensor:\n",
        "    '''\n",
        "    Output is decomposed_k with shape [2+num_heads, position, d_head]\n",
        "\n",
        "    The [i, :, :]th element is y_i @ W_K (so the sum along axis 0 is just the k-values)\n",
        "    '''\n",
        "    pass\n",
        "\n",
        "\n",
        "ind_head_index = 4\n",
        "# First we get decomposed q and k input, and check they're what we expect\n",
        "decomposed_qk_input = decompose_qk_input(rep_cache)\n",
        "decomposed_q = decompose_q(decomposed_qk_input, ind_head_index)\n",
        "decomposed_k = decompose_k(decomposed_qk_input, ind_head_index)\n",
        "t.testing.assert_close(decomposed_qk_input.sum(0), rep_cache[\"resid_pre\", 1] + rep_cache[\"pos_embed\"], rtol=0.01, atol=1e-05)\n",
        "t.testing.assert_close(decomposed_q.sum(0), rep_cache[\"q\", 1][:, ind_head_index], rtol=0.01, atol=0.001)\n",
        "t.testing.assert_close(decomposed_k.sum(0), rep_cache[\"k\", 1][:, ind_head_index], rtol=0.01, atol=0.01)\n",
        "# Second, we plot our results\n",
        "component_labels = [\"Embed\", \"PosEmbed\"] + [f\"0.{h}\" for h in range(model.cfg.n_heads)]\n",
        "for decomposed_input, name in [(decomposed_q, \"query\"), (decomposed_k, \"key\")]:\n",
        "    imshow(\n",
        "        utils.to_numpy(decomposed_input.pow(2).sum([-1])),\n",
        "        labels={\"x\": \"Position\", \"y\": \"Component\"},\n",
        "        title=f\"Norms of components of {name}\",\n",
        "        y=component_labels,\n",
        "        width=1000, height=400\n",
        "    )"
      ]
    },
    {
      "cell_type": "markdown",
      "metadata": {
        "id": "pUaYPdg6Ucfj"
      },
      "source": [
        "<details>\n",
        "<summary>What you should see</summary>\n",
        "\n",
        "You should see that the most important query components are the token and positional embeddings. The most important key components are those from $y_9$, which is $x_7$, i.e. from head `0.7`.\n",
        "\n",
        "</details>\n",
        "\n",
        "<details>\n",
        "\n",
        "<summary>A technical note on the positional embeddings - optional, feel free to skip this.</summary>\n",
        "\n",
        "You might be wondering why the tests compare the decomposed qk sum with the sum of the `resid_pre + pos_embed`, rather than just `resid_pre`. The answer lies in how we defined the transformer, specifically in this line from the config:\n",
        "\n",
        "```python\n",
        "positional_embedding_type=\"shortformer\"\n",
        "```\n",
        "\n",
        "The result of this is that the positional embedding isn't added to the residual stream. Instead, it's added as inputs to the Q and K calculation (i.e. we calculate `(resid_pre + pos_embed) @ W_Q` and same for `W_K`), but **not** as inputs to the V calculation (i.e. we just calculate `resid_pre @ W_V`). This isn't actually how attention works in general, but for our purposes it makes the analysis of induction heads cleaner because we don't have positional embeddings interfering with the OV circuit.\n",
        "\n",
        "**Question - this type of embedding actually makes it impossible for attention heads to form via Q-composition. Can you see why?**\n",
        "</details>\n",
        "\n"
      ]
    },
    {
      "cell_type": "markdown",
      "source": [
        "This tells us which heads are probably important, but we can do better than that. Rather than looking at the query and key components separately, we can see how they combine together - i.e. take the decomposed attention scores.\n",
        "\n",
        "This is a bilinear function of q and k, and so we will end up with a `decomposed_scores` tensor with shape `[query_component, key_component, query_pos, key_pos]`, where summing along BOTH of the first axes will give us the original attention scores (pre-mask).\n"
      ],
      "metadata": {
        "id": "lvlVMODYmagm"
      }
    },
    {
      "cell_type": "markdown",
      "metadata": {
        "id": "KZvU04gYXRXq"
      },
      "source": [
        "### Exercise - decompose attention scores\n",
        "\n",
        "```c\n",
        "Difficulty: 🔴🔴⚪⚪⚪\n",
        "Importance: 🔵🔵🔵🔵⚪\n",
        "\n",
        "You shouldn't spend more than 5-10 minutes on this exercise.\n",
        "\n",
        "Having already done the previous exercises, this one should be easier.\n",
        "```\n",
        "\n",
        "Implement the function giving the decomposed scores (remember to scale by `sqrt(d_head)`!) For now, don't mask it.\n",
        "\n",
        "<details>\n",
        "<summary>Question - why do I focus on the attention scores, not the attention pattern? (i.e. pre softmax not post softmax)</summary>\n",
        "\n",
        "Because the decomposition trick *only* works for things that are linear - softmax isn't linear and so we can no longer consider each component independently.\n",
        "</details>\n",
        "\n",
        "<details>\n",
        "<summary>Help - I'm confused about what we're doing / why we're doing it.</summary>\n",
        "\n",
        "Remember that each of our components writes to the residual stream separately. So after layer 1, we have:\n",
        "\n",
        "<img src=\"https://raw.githubusercontent.com/callummcdougall/computational-thread-art/master/example_images/misc/components.png\" width=\"650\">\n",
        "\n",
        "We're particularly interested in the attention scores computed in head `1.4`, and how they depend on the inputs into that head. We've already decomposed the residual stream value $x$ into its terms $e$, $pe$, and $x^ 0$ through $x^{11}$ (which we've labelled $y_0, ..., y_{13}$ for simplicity), and we've done the same for key and query terms. We can picture these terms being passed into head `1.4` as:\n",
        "\n",
        "<img src=\"https://raw.githubusercontent.com/callummcdougall/computational-thread-art/master/example_images/misc/components-2.png\" width=\"650\">\n",
        "\n",
        "So when we expand `attn_scores` out in full, they are a sum of $14^2 = 196$ terms - one for each combination of `(query_component, key_component)`.\n",
        "\n",
        "---\n",
        "\n",
        "#### Why is this decomposition useful?\n",
        "\n",
        "We have a theory about a particular circuit in our model. We think that head `1.4` is an induction head, and the most important components that feed into this head are the prev token head `0.7` (as key) and the token embedding (as query). This is already supported by the evidence of our magnitude plots above (because we saw that `0.7` as key and token embeddings as query were large), but we still don't know how this particular key and query work **together**; we've only looked at them separately.\n",
        "\n",
        "By decomposing `attn_scores` like this, we can check whether the contribution from combination `(query=tok_emb, key=0.7)` is indeed producing the characteristic induction head pattern which we've observed (and the other 195 terms don't really matter).\n",
        "</details>\n"
      ]
    },
    {
      "cell_type": "code",
      "execution_count": null,
      "metadata": {
        "id": "m3ZhyA9tXQwX"
      },
      "outputs": [],
      "source": [
        "def decompose_attn_scores(decomposed_q: t.Tensor, decomposed_k: t.Tensor) -> Tensor:\n",
        "    '''\n",
        "    Output is decomposed_scores with shape [query_component, key_component, query_pos, key_pos]\n",
        "\n",
        "    The [i, j, 0, 0]th element is y_i @ W_QK @ y_j^T (so the sum along both first axes are the attention scores)\n",
        "    '''\n",
        "    pass\n",
        "\n",
        "tests.test_decompose_attn_scores(decompose_attn_scores, decomposed_q, decomposed_k)"
      ]
    },
    {
      "cell_type": "markdown",
      "metadata": {
        "id": "egmtQK4RXKuF"
      },
      "source": [
        "Once these tests have passed, you can plot the results:\n"
      ]
    },
    {
      "cell_type": "code",
      "execution_count": null,
      "metadata": {
        "id": "pD7LG25tYJ0r"
      },
      "outputs": [],
      "source": [
        "decomposed_scores = decompose_attn_scores(decomposed_q, decomposed_k)\n",
        "decomposed_stds = einops.reduce(\n",
        "    decomposed_scores,\n",
        "    \"query_decomp key_decomp query_pos key_pos -> query_decomp key_decomp\",\n",
        "    t.std\n",
        ")\n",
        "\n",
        "# First plot: attention score contribution from (query_component, key_component) = (Embed, L0H7)\n",
        "imshow(\n",
        "    utils.to_numpy(t.tril(decomposed_scores[0, 9])),\n",
        "    title=\"Attention score contributions from (query, key) = (embed, output of L0H7)\",\n",
        "    width=800\n",
        ")\n",
        "\n",
        "# Second plot: std dev over query and key positions, shown by component\n",
        "imshow(\n",
        "    utils.to_numpy(decomposed_stds),\n",
        "    labels={\"x\": \"Key Component\", \"y\": \"Query Component\"},\n",
        "    title=\"Standard deviations of attention score contributions (by key and query component)\",\n",
        "    x=component_labels,\n",
        "    y=component_labels,\n",
        "    width=800\n",
        ")"
      ]
    },
    {
      "cell_type": "markdown",
      "metadata": {
        "id": "oIJO3gpiYNhj"
      },
      "source": [
        "<details>\n",
        "<summary>Question - what is the interpretation of these plots?</summary>\n",
        "\n",
        "The first plot tells you that the term $e W_{QK}^{1.4} (x^{0.7})^T$ (i.e. the component of the attention scores for head `1.4` where the query is supplied by the token embeddings and the key is supplied by the output of head `0.7`) produces the distinctive attention pattern we see in the induction head: a strong diagonal stripe.\n",
        "\n",
        "Although this tells us that this this component would probably be sufficient to implement the induction mechanism, it doesn't tell us the whole story. Ideally, we'd like to show that the other 195 terms are unimportant. Taking the standard deviation across the attention scores for a particular pair of components is a decent proxy for how important this term is in the overall attention pattern. The second plot shows us that the standard deviation is very small for all the other components, so we can be confident that the other components are unimportant.\n",
        "\n",
        "To summarise:\n",
        "\n",
        "* The first plot tells us that the pair `(q_component=tok_emb, k_component=0.7)` produces the characteristic induction-head pattern we see in attention head `1.4`.\n",
        "* The second plot confirms that this pair is the only important one for influencing the attention pattern in `1.4`; all other pairs have very small contributions.\n",
        "</details>\n",
        "\n",
        "### Interpreting the full circuit\n",
        "\n",
        "Now we know that head `1.4` is composing with head `0.7` via K composition, we can multiply through to create a full circuit:\n",
        "\n",
        "$$\n",
        "W_E\\, W_{QK}^{1.4}\\, (W_{OV}^{0.7})^T\\, W_E^T\n",
        "$$\n",
        "\n",
        "and verify that it's the identity. (Note, when we say identity here, we're again thinking about it as a distribution over logits, so this should be taken to mean \"high diagonal values\", and we'll be using our previous metric of `top_1_acc`.)\n",
        "\n",
        "#### Question - why should this be the identity?\n",
        "\n",
        "<details>\n",
        "<summary>Answer</summary>\n",
        "\n",
        "This matrix is a bilinear form. Its diagonal elements $(A, A)$ are:\n",
        "\n",
        "$$\n",
        "A^T \\, W_E\\, W_{QK}^{1.4}\\, W_{OV}^{0.7}\\, W_E^T \\, A = \\underbrace{(A^T W_E W_Q^{1.4})}_{\\text{query}} \\underbrace{(A^T W_E W_{OV}^{0.7} W_K^{1.4})^T}_{\\text{key}}\n",
        "$$\n",
        "\n",
        "Intuitively, the query is saying **\"I'm looking for a token which followed $A$\"**, and the key is saying **\"I *am* a token which folllowed $A$\"** (recall that $A^T W_E W_{OV}^{0.7}$ is the vector which gets moved one position forward by our prev token head `0.7`).\n",
        "\n",
        "Now, consider the off-diagonal elements $(A, X)$ (for $X \\neq A$). We expect these to be small, because the key doesn't match the query:\n",
        "\n",
        "$$\n",
        "A^T \\, W_E\\, W_{QK}^{1.4}\\, W_{OV}^{0.7}\\, W_E^T \\, X = \\underbrace{(\\text{I'm looking for a token which followed A})}_\\text{query} \\boldsymbol{\\cdot} \\underbrace{(\\text{I am a token which followed X})}_{\\text{key}}\n",
        "$$\n",
        "\n",
        "\n",
        "Hence, we expect this to be the identity.\n",
        "\n",
        "An illustration:\n",
        "\n",
        "<img src=\"https://raw.githubusercontent.com/callummcdougall/computational-thread-art/master/example_images/misc/kcomp_diagram_described-K-last.png\" width=\"700\">\n",
        "\n",
        "<!-- ![kcomp_diagram_described-K.png](https://raw.githubusercontent.com/callummcdougall/computational-thread-art/master/example_images/misc/kcomp_diagram_described-K.png) -->\n",
        "</details>\n"
      ]
    },
    {
      "cell_type": "markdown",
      "metadata": {
        "id": "RtpIRXHxYjCO"
      },
      "source": [
        "### Exercise - compute the K-comp circuit\n",
        "\n",
        "```c\n",
        "Difficulty: 🔴🔴🔴⚪⚪\n",
        "Importance: 🔵🔵🔵🔵⚪\n",
        "\n",
        "You shouldn't spend more than 10-20 minutes on this exercise.\n",
        "```\n",
        "\n",
        "Calculate the matrix above, as a `FactoredMatrix` object.\n",
        "\n",
        "<details>\n",
        "<summary>Aside about multiplying FactoredMatrix objects together.</summary>\n",
        "\n",
        "If  `M1 = A1 @ B1` and `M2 = A2 @ B2` are factored matrices, then `M = M1 @ M2` returns a new factored matrix. This might be:\n",
        "\n",
        "```python\n",
        "FactoredMatrix(M1.AB @ M2.A, M2.B)\n",
        "```\n",
        "\n",
        "or it might be:\n",
        "\n",
        "```python\n",
        "FactoredMatrix(M1.A, M1.B @ M2.AB)\n",
        "```\n",
        "\n",
        "with these two objects corresponding to the factorisations $M = (A_1 B_1 A_2) (B_2)$ and $M = (A_1) (B_1 A_2 B_2)$ respectively.\n",
        "\n",
        "Which one gets returned depends on the size of the hidden dimension, e.g. `M1.mdim < M2.mdim` then the factorisation used will be $M = A_1 B_1 (A_2 B_2)$.\n",
        "\n",
        "Remember that both these factorisations are valid, and will give you the exact same SVD. The only reason to prefer one over the other is for computational efficiency (we prefer a smaller bottleneck dimension, because this determines the computational complexity of operations like finding SVD).\n",
        "</details>\n"
      ]
    },
    {
      "cell_type": "code",
      "execution_count": null,
      "metadata": {
        "colab": {
          "background_save": true
        },
        "id": "wDugzs6DZzHO"
      },
      "outputs": [],
      "source": [
        "def find_K_comp_full_circuit(\n",
        "    model: HookedTransformer,\n",
        "    prev_token_head_index: int,\n",
        "    ind_head_index: int\n",
        ") -> FactoredMatrix:\n",
        "    '''\n",
        "    Returns a (vocab, vocab)-size FactoredMatrix, with the first dimension being the query side and the second dimension being the key side (going via the previous token head)\n",
        "    '''\n",
        "    pass\n",
        "\n",
        "\n",
        "prev_token_head_index = 7\n",
        "ind_head_index = 4\n",
        "K_comp_circuit = find_K_comp_full_circuit(model, prev_token_head_index, ind_head_index)\n",
        "\n",
        "tests.test_find_K_comp_full_circuit(find_K_comp_full_circuit, model)\n",
        "\n",
        "print(f\"Fraction of tokens where the highest activating key is the same token: {top_1_acc(K_comp_circuit.T):.4f}\")"
      ]
    },
    {
      "cell_type": "markdown",
      "metadata": {
        "id": "HOfqDceLZXDC"
      },
      "source": [
        "You can also try this out for `ind_head_index = 10`. Do you get a better result?\n",
        "\n",
        "Note - unlike last time, it doesn't make sense to consider the \"effective circuit\" formed by adding together the weight matrices for heads `1.4` and `1.10`. Why not?\n",
        "\n",
        "<details>\n",
        "<summary>Answer</summary>\n",
        "\n",
        "Because the weight matrices we're dealing with here are from the QK circuit, not the OV circuit. These don't get combined in a linear way; instead we take softmax over each head's QK-circuit output individually.\n",
        "</details>\n",
        "\n",
        "## Further Exploration of Induction Circuits\n",
        "\n",
        "I now consider us to have fully reverse engineered an induction circuit - by both interpreting the features and by reverse engineering the circuit from the weights. But there's a bunch more ideas that we can apply for finding circuits in networks that are fun to practice on induction heads, so here's some bonus content - feel free to skip to the later bonus ideas though.\n",
        "\n",
        "### Composition scores\n",
        "\n",
        "A particularly cool idea in the paper is the idea of [virtual weights](https://transformer-circuits.pub/2021/framework/index.html#residual-comms), or compositional scores. (Though I came up with it, so I'm deeply biased!). This is used [to identify induction heads](https://transformer-circuits.pub/2021/framework/index.html#analyzing-a-two-layer-model).\n",
        "\n",
        "The key idea of compositional scores is that the residual stream is a large space, and each head is reading and writing from small subspaces. By default, any two heads will have little overlap between their subspaces (in the same way that any two random vectors have almost zero dot product in a large vector space). But if two heads are deliberately composing, then they will likely want to ensure they write and read from similar subspaces, so that minimal information is lost. As a result, we can just directly look at \"how much overlap there is\" between the output space of the earlier head and the K, Q, or V input space of the later head.\n",
        "\n",
        "We represent the **output space** with $W_{OV}=W_V W_O$. Call matrices like this $W_A$.\n",
        "\n",
        "We represent the **input space** with $W_{QK}=W_Q W_K^T$ (for Q-composition), $W_{QK}^T=W_K  W_Q^T$ (for K-Composition) or $W_{OV}=W_V W_O$ (for V-Composition, of the later head). Call matrices like these $W_B$ (we've used this notation so that $W_B$ refers to a later head, and $W_A$ to an earlier head).\n",
        "\n",
        "<details>\n",
        "<summary>Help - I don't understand what motivates these definitions.</summary>\n",
        "\n",
        "Recall that we can view each head as having three input wires (keys, queries and values), and one output wire (the outputs). The different forms of composition come from the fact that keys, queries and values can all be supplied from the output of a different head.\n",
        "\n",
        "Here is an illustration which shows the three different cases, and should also explain why we use this terminology. You might have to open it in a new tab to see it clearly.\n",
        "\n",
        "![composition](https://raw.githubusercontent.com/callummcdougall/computational-thread-art/master/example_images/misc/composition_new.png)\n",
        "\n",
        "</details>\n",
        "\n",
        "How do we formalise overlap? This is basically an open question, but a surprisingly good metric is $\\frac{\\|W_AW_B\\|_F}{\\|W_B\\|_F\\|W_A\\|_F}$ where $\\|W\\|_F=\\sum_{i,j}W_{i,j}^2$ is the Frobenius norm, the sum of squared elements. (If you're dying of curiosity as to what makes this a good metric, you can jump to the section immediately after the exercises below.)\n"
      ]
    },
    {
      "cell_type": "markdown",
      "metadata": {
        "id": "EtTTNIjEZZbm"
      },
      "source": [
        "### Exercise - calculate composition scores\n",
        "\n",
        "```c\n",
        "Difficulty: 🔴🔴🔴⚪⚪\n",
        "Importance: 🔵🔵🔵⚪⚪\n",
        "\n",
        "You shouldn't spend more than 15-25 minutes on these exercises.\n",
        "\n",
        "Writing a composition score function should be easy. The slightly harder part is getting the right weight matrices in the exercises that come after.\n",
        "```\n"
      ]
    },
    {
      "cell_type": "markdown",
      "metadata": {
        "id": "kebAzc1dWS2v"
      },
      "source": [
        "\n",
        "\n",
        "Let's calculate this metric for all pairs of heads in layer 0 and layer 1 for each of K, Q and V composition and plot it.\n",
        "\n",
        "We'll start by implementing this using plain old tensors (later on we'll see how this can be sped up using the `FactoredMatrix` class). We also won't worry about batching our calculations yet; we'll just do one matrix at a time.\n",
        "\n",
        "We've given you tensors `q_comp_scores` etc. to hold the composition scores for each of Q, K and V composition (i.e. the `[i, j]`th element of `q_comp_scores` is the Q-composition score between the output from the `i`th head in layer 0 and the input to the `j`th head in layer 1). You should complete the function `get_comp_score`, and then fill in each of these tensors.\n"
      ]
    },
    {
      "cell_type": "code",
      "execution_count": null,
      "metadata": {
        "id": "qirubY7ebN-p"
      },
      "outputs": [],
      "source": [
        "def get_comp_score(\n",
        "    W_A: Float[Tensor, \"in_A out_A\"],\n",
        "    W_B: Float[Tensor, \"out_A out_B\"]\n",
        ") -> float:\n",
        "    '''\n",
        "    Return the composition score between W_A and W_B.\n",
        "    '''\n",
        "    pass\n",
        "\n",
        "\n",
        "tests.test_get_comp_score(get_comp_score)"
      ]
    },
    {
      "cell_type": "markdown",
      "metadata": {
        "id": "Ohe2lvvAZZRG"
      },
      "source": [
        "Once you've passed the tests, you can fill in all the composition scores. Here you should just use a for loop, iterating over all possible pairs of `W_A` in layer 0 and `W_B` in layer 1, for each type of composition. Later on, we'll look at ways to batch this computation.\n"
      ]
    },
    {
      "cell_type": "code",
      "execution_count": null,
      "metadata": {
        "id": "NRud3669bRhU"
      },
      "outputs": [],
      "source": [
        "# Get all QK and OV matrices\n",
        "W_QK = model.W_Q @ model.W_K.transpose(-1, -2)\n",
        "W_OV = model.W_V @ model.W_O\n",
        "\n",
        "# Define tensors to hold the composition scores\n",
        "composition_scores = {\n",
        "    \"Q\": t.zeros(model.cfg.n_heads, model.cfg.n_heads).to(device),\n",
        "    \"K\": t.zeros(model.cfg.n_heads, model.cfg.n_heads).to(device),\n",
        "    \"V\": t.zeros(model.cfg.n_heads, model.cfg.n_heads).to(device),\n",
        "}\n",
        "\n",
        "# YOUR CODE HERE - fill in each tensor in the dictionary, by looping over W_A and W_B from layers 0 and 1\n",
        "\n",
        "for comp_type in \"QKV\":\n",
        "    plot_comp_scores(model, composition_scores[comp_type], f\"{comp_type} Composition Scores\")"
      ]
    },
    {
      "cell_type": "markdown",
      "metadata": {
        "id": "bmqFfxcihNnf"
      },
      "source": [
        "### Exercise - Setting a Baseline\n",
        "\n",
        "```c\n",
        "Difficulty: 🔴🔴⚪⚪⚪\n",
        "Importance: 🔵🔵⚪⚪⚪\n",
        "\n",
        "You shouldn't spend more than ~10 minutes on this exercise.\n",
        "```\n",
        "\n",
        "To interpret the above graphs we need a baseline! A good one is what the scores look like at initialisation. Make a function that randomly generates a composition score 200 times and tries this. Remember to generate 4 `[d_head, d_model]` matrices, not 2 `[d_model, d_model]` matrices! This model was initialised with **Kaiming Uniform Initialisation**:\n",
        "\n",
        "```python\n",
        "W = t.empty(shape)\n",
        "nn.init.kaiming_uniform_(W, a=np.sqrt(5))\n",
        "```\n",
        "\n",
        "(Ideally we'd do a more efficient generation involving batching, and more samples, but we won't worry about that yet.)\n"
      ]
    },
    {
      "cell_type": "code",
      "execution_count": null,
      "metadata": {
        "id": "hp6xeJsKbcfJ"
      },
      "outputs": [],
      "source": [
        "def generate_single_random_comp_score() -> float:\n",
        "    '''\n",
        "    Write a function which generates a single composition score for random matrices\n",
        "    '''\n",
        "    pass\n",
        "\n",
        "\n",
        "n_samples = 300\n",
        "comp_scores_baseline = np.zeros(n_samples)\n",
        "for i in tqdm(range(n_samples)):\n",
        "    comp_scores_baseline[i] = generate_single_random_comp_score()"
      ]
    },
    {
      "cell_type": "code",
      "source": [
        "print(\"\\nMean:\", comp_scores_baseline.mean())\n",
        "print(\"Std:\", comp_scores_baseline.std())\n",
        "\n",
        "hist(\n",
        "    comp_scores_baseline,\n",
        "    nbins=50,\n",
        "    width=800,\n",
        "    labels={\"x\": \"Composition score\"},\n",
        "    title=\"Random composition scores\"\n",
        ")"
      ],
      "metadata": {
        "id": "WF_7no3vuZ1D"
      },
      "execution_count": null,
      "outputs": []
    },
    {
      "cell_type": "markdown",
      "metadata": {
        "id": "gM60MEJbZZJV"
      },
      "source": [
        "We can re-plot our above graphs with this baseline set to white. Look for interesting things in this graph!\n"
      ]
    },
    {
      "cell_type": "code",
      "execution_count": null,
      "metadata": {
        "id": "KRwowjP1bmiq"
      },
      "outputs": [],
      "source": [
        "baseline = comp_scores_baseline.mean()\n",
        "for comp_type, comp_scores in composition_scores.items():\n",
        "    plot_comp_scores(model, comp_scores, f\"{comp_type} Composition Scores\", baseline=baseline)"
      ]
    },
    {
      "cell_type": "markdown",
      "metadata": {
        "id": "GoEhNjgU1GzI"
      },
      "source": [
        "<details>\n",
        "<summary>Some interesting things to observe:</summary>\n",
        "\n",
        "The most obvious thing that jumps out (when considered in the context of all the analysis we've done so far) is the K-composition scores. `0.7` (the prev token head) is strongly composing with `1.4` and `1.10` (the two attention heads). This is what we expect, and is a good indication that our composition scores are working as intended.\n",
        "\n",
        "Another interesting thing to note is that the V-composition scores for heads `1.4` and `1.10` with all other heads in layer 0 are very low. In the context of the induction circuit, this is a good thing - the OV circuits of our induction heads should be operating on the **embeddings**, rather than the outputs of the layer-0 heads. (If our repeating sequence is `A B ... A B`, then it's the QK circuit's job to make sure the second `A` attends to the first `B`, and it's the OV circuit's job to project the residual vector at that position onto the **embedding space** in order to extract the `B`-information, while hopefully ignoring anything else that has been written to that position by the heads in layer 0). So once again, this is a good sign for our composition scores.\n",
        "\n",
        "![small_comp](https://raw.githubusercontent.com/callummcdougall/computational-thread-art/master/example_images/misc/small_comp_diagram_last.png)\n",
        "\n",
        "</details>\n"
      ]
    },
    {
      "cell_type": "markdown",
      "metadata": {
        "id": "MPwEd6QzZY0Q"
      },
      "source": [
        "#### Theory + Efficient Implementation\n",
        "\n",
        "So, what's up with that metric? The key is a cute linear algebra result that the squared Frobenius norm is equal to the sum of the squared singular values.\n",
        "\n",
        "<details>\n",
        "<summary>Proof</summary>\n",
        "\n",
        "We'll give three different proofs:\n",
        "\n",
        "---\n",
        "\n",
        "##### Short sketch of proof\n",
        "\n",
        "Clearly $\\|M\\|_F^2$ equals the sum of squared singular values when $M$ is diagonal. The singular values of $M$ don't change when we multiply it by an orthogonal matrix (only the matrices $U$ and $V$ will change, not $S$), so it remains to show that the Frobenius norm also won't change when we multiply $M$ by an orthogonal matrix. But this follows from the fact that the Frobenius norm is the sum of the squared $l_2$ norms of the column vectors of $M$, and orthogonal matrices preserve $l_2$ norms. (If we're right-multiplying $M$ by an orthogonal matrix, then we instead view this as performing orthogonal operations on the row vectors of $M$, and the same argument holds.)\n",
        "\n",
        "---\n",
        "\n",
        "##### Long proof\n",
        "\n",
        "$$\n",
        "\\begin{aligned}\n",
        "\\|M\\|_F^2 &= \\sum_{ij}M_{ij}^2 \\\\\n",
        "&= \\sum_{ij}((USV^T)_{ij})^2 \\\\\n",
        "&= \\sum_{ij}\\bigg(\\sum_k U_{ik}S_{kk}V_{jk}\\bigg)^2 \\\\\n",
        "&= \\sum_{ijk_1 k_2}S_{k_1 k_1} S_{k_2 k_2} U_{i k_1} U_{i k_2} V_{j k_2} V_{j k_2} \\\\\n",
        "&= \\sum_{k_1 k_2}S_{k_1 k_1} S_{k_2 k_2} \\bigg(\\sum_i U_{i k_1} U_{i k_2}\\bigg)\\bigg(\\sum_j V_{j k_2} V_{j k_2}\\bigg) \\\\\n",
        "\\end{aligned}\n",
        "$$\n",
        "\n",
        "Each of the terms in large brackets is actually the dot product of columns of $U$ and $V$ respectively. Since these are orthogonal matrices, these terms evaluate to 1 when $k_1=k_2$ and 0 otherwise. So we are left with:\n",
        "\n",
        "$$\n",
        "\\|M\\|_F^2 = \\sum_{k}S_{k k}^2\n",
        "$$\n",
        "\n",
        "---\n",
        "\n",
        "##### Cute proof which uses the fact that the squared Frobenius norm $|M|^2$ is the same as the trace of $MM^T$\n",
        "\n",
        "$$\n",
        "\\|M\\|_F^2 = \\text{Tr}(MM^T) = \\text{Tr}(USV^TVSU^T) = \\text{Tr}(US^2U^T) = \\text{Tr}(S^2 U^T U) = \\text{Tr}(S^2) = \\|S\\|_F^2\n",
        "$$\n",
        "\n",
        "where we used the cyclicity of trace, and the fact that $U$ is orthogonal so $U^TU=I$ (and same for $V$). We finish by observing that $\\|S\\|_F^2$ is precisely the sum of the squared singular values.\n",
        "</details>\n"
      ]
    },
    {
      "cell_type": "markdown",
      "metadata": {
        "id": "ZDjv_GXUZYgt"
      },
      "source": [
        "So if $W_A=U_AS_AV_A^T$, $W_B=U_BS_BV_B^T$, then $\\|W_A\\|_F=\\|S_A\\|_F$, $\\|W_B\\|_F=\\|S_B\\|_F$ and $\\|W_AW_B\\|_F=\\|S_AV_A^TU_BS_B\\|_F$. In some sense, $V_A^TU_B$ represents how aligned the subspaces written to and read from are, and the $S_A$ and $S_B$ terms weights by the importance of those subspaces.\n",
        "\n",
        "<details>\n",
        "<summary>Click here, if this explanation still seems confusing.</summary>\n",
        "\n",
        "$U_B$ is a matrix of shape `[d_model, d_head]`. It represents **the subspace being read from**, i.e. our later head reads from the residual stream by projecting it onto the `d_head` columns of this matrix.\n",
        "\n",
        "$V_A$ is a matrix of shape `[d_model, d_head]`. It represents **the subspace being written to**, i.e. the thing written to the residual stream by our earlier head is a linear combination of the `d_head` column-vectors of $V_A$.\n",
        "\n",
        "$V_A^T U_B$ is a matrix of shape `[d_head, d_head]`. Each element of this matrix is formed by taking the dot product of two vectors of length `d_model`:\n",
        "\n",
        "* $v_i^A$, a column of $V_A$ (one of the vectors our earlier head embeds into the residual stream)\n",
        "* $u_j^B$, a column of $U_B$ (one of the vectors our later head projects the residual stream onto)\n",
        "\n",
        "Let the singular values of $S_A$ be $\\sigma_1^A, ..., \\sigma_k^A$ and similarly for $S_B$. Then:\n",
        "\n",
        "$$\n",
        "\\|S_A V_A^T U_B S_B\\|_F^2 = \\sum_{i,j=1}^k (\\sigma_i^A \\sigma_j^B)^2 \\|v^A_i \\cdot u^B_j\\|_F^2\n",
        "$$\n",
        "\n",
        "This is a weighted sum of the squared cosine similarity of the columns of $V_A$ and $U_B$ (i.e. the output directions of the earlier head and the input directions of the later head). The weights in this sum are given by the singular values of both $S_A$ and $S_B$ - i.e. if $v^A_i$ is an important output direction, **and** $u_B^i$ is an important input direction, then the composition score will be much higher when these two directions are aligned with each other.\n",
        "\n",
        "---\n",
        "\n",
        "To build intuition, let's consider a couple of extreme examples.\n",
        "\n",
        "* If there was no overlap between the spaces being written to and read from, then $V_A^T U_B$ would be a matrix of zeros (since every $v_i^A \\cdot u_j^B$ would be zero). This would mean that the composition score would be zero.\n",
        "* If there was perfect overlap, i.e. the span of the $v_i^A$ vectors and $u_j^B$ vectors is the same, then the composition score is large. It is as large as possible when the most important input directions and most important output directions line up (i.e. when the singular values $\\sigma_i^A$ and $\\sigma_j^B$ are in the same order).\n",
        "* If our matrices $W_A$ and $W_B$ were just rank 1 (i.e. $W_A = \\sigma_A u_A v_A^T$, and $W_B = \\sigma_B u_B v_B^T$), then the composition score is $|v_A^T u_B|$, in other words just the cosine similarity of the single output direction of $W_A$ and the single input direction of $W_B$.\n",
        "</details>\n"
      ]
    },
    {
      "cell_type": "markdown",
      "metadata": {
        "id": "Kpr8kEeGcTx_"
      },
      "source": [
        "### Exercise - batching, and using the `FactoredMatrix` class\n",
        "\n",
        "```c\n",
        "Difficulty: 🔴🔴🔴🔴⚪\n",
        "Importance: 🔵⚪⚪⚪⚪\n",
        "\n",
        "This exercise is optional, and not a vitally important conceptual part  of this section. It's also quite messy to rearrange our tensors in the right way! You are invited to skip it if you want.\n",
        "```\n"
      ]
    },
    {
      "cell_type": "markdown",
      "metadata": {
        "id": "F5Y7GgKWXPtA"
      },
      "source": [
        "We can also use this insight to write a more efficient way to calculate composition scores - this is extremely useful if you want to do this analysis at scale! The key is that we know that our matrices have a low rank factorisation, and it's much cheaper to calculate the SVD of a narrow matrix than one that's large in both dimensions. See the [algorithm described at the end of the paper](https://transformer-circuits.pub/2021/framework/index.html#induction-heads:~:text=Working%20with%20Low%2DRank%20Matrices) (search for SVD).\n",
        "\n",
        "So we can work with the `FactoredMatrix` class. This also provides the method `.norm()` which returns the Frobenium norm. This is also a good opportunity to bring back baching - this will sometimes be useful in our analysis. In the function below, `W_As` and `W_Bs` are both >2D factored matrices (e.g. they might represent the OV circuits for all heads in a particular layer, or across multiple layers), and the function's output should be a tensor of composition scores for each pair of matrices `(W_A, W_B)` in the >2D tensors `(W_As, W_Bs)`.\n"
      ]
    },
    {
      "cell_type": "code",
      "execution_count": null,
      "metadata": {
        "id": "Apc3rweMcVzc"
      },
      "outputs": [],
      "source": [
        "def get_batched_comp_scores(\n",
        "    W_As: FactoredMatrix,\n",
        "    W_Bs: FactoredMatrix\n",
        ") -> Tensor:\n",
        "    '''Computes the compositional scores from indexed factored matrices W_As and W_Bs.\n",
        "\n",
        "    Each of W_As and W_Bs is a FactoredMatrix object which is indexed by all but its last 2 dimensions, i.e.:\n",
        "        W_As.shape == (*A_idx, A_in, A_out)\n",
        "        W_Bs.shape == (*B_idx, B_in, B_out)\n",
        "        A_out == B_in\n",
        "\n",
        "    Return: tensor of shape (*A_idx, *B_idx) where the [*a_idx, *b_idx]th element is the compositional score from W_As[*a_idx] to W_Bs[*b_idx].\n",
        "    '''\n",
        "    pass\n",
        "\n",
        "\n",
        "W_QK = FactoredMatrix(model.W_Q, model.W_K.transpose(-1, -2))\n",
        "W_OV = FactoredMatrix(model.W_V, model.W_O)\n",
        "\n",
        "composition_scores_batched = dict()\n",
        "composition_scores_batched[\"Q\"] = get_batched_comp_scores(W_OV[0], W_QK[1])\n",
        "composition_scores_batched[\"K\"] = get_batched_comp_scores(W_OV[0], W_QK[1].T) # Factored matrix: .T is interpreted as transpose of the last two axes\n",
        "composition_scores_batched[\"V\"] = get_batched_comp_scores(W_OV[0], W_OV[1])\n",
        "\n",
        "t.testing.assert_close(composition_scores_batched[\"Q\"], composition_scores[\"Q\"])\n",
        "t.testing.assert_close(composition_scores_batched[\"K\"], composition_scores[\"K\"])\n",
        "t.testing.assert_close(composition_scores_batched[\"V\"], composition_scores[\"V\"])\n",
        "print(\"Tests passed - your `get_batched_comp_scores` function is working!\")"
      ]
    },
    {
      "cell_type": "markdown",
      "metadata": {
        "id": "Dlf9aXyYcZbg"
      },
      "source": [
        "<details>\n",
        "<summary>Hint</summary>\n",
        "\n",
        "Suppose `W_As` has shape `(A1, A2, ..., Am, A_in, A_out)` and `W_Bs` has shape `(B1, B2, ..., Bn, B_in, B_out)` (where `A_out == B_in`).\n",
        "\n",
        "It will be helpful to reshape these two tensors so that:\n",
        "\n",
        "```python\n",
        "W_As.shape == (A1*A2*...*Am, 1, A_in, A_out)\n",
        "W_Bs.shape == (1, B1*B2*...*Bn, B_in, B_out)\n",
        "```\n",
        "\n",
        "since we can then multiply them together as `W_As @ W_Bs` (broadcasting will take care of this for us!).\n",
        "\n",
        "To do the reshaping, the easiest way is to reshape `W_As.A` and `W_As.B`, and define a new `FactoredMatrix` from these reshaped tensors (and same for `W_Bs`).\n",
        "</details>\n"
      ]
    },
    {
      "cell_type": "markdown",
      "metadata": {
        "id": "PXad9JB6chPy"
      },
      "source": [
        "### Targeted Ablations\n",
        "\n",
        "We can refine the ablation technique to detect composition by looking at the effect of the ablation on the attention pattern of an induction head, rather than the loss. Let's implement this!\n",
        "\n",
        "Gotcha - by default, `run_with_hooks` removes any existing hooks when it runs. If you want to use caching, set the `reset_hooks_start` flag to False.\n"
      ]
    },
    {
      "cell_type": "code",
      "execution_count": null,
      "metadata": {
        "id": "vJcSO_PmcjF6"
      },
      "outputs": [],
      "source": [
        "seq_len = 50\n",
        "\n",
        "def ablation_induction_score(prev_head_index: int | None, ind_head_index: int) -> float:\n",
        "    '''\n",
        "    Takes as input the index of the L0 head and the index of the L1 head, and then runs with the previous token head ablated and returns the induction score for the ind_head_index now.\n",
        "    '''\n",
        "    def ablation_hook(v, hook):\n",
        "        if prev_head_index is not None:\n",
        "            v[:, :, prev_head_index] = 0.0\n",
        "        return v\n",
        "\n",
        "    def induction_pattern_hook(attn, hook):\n",
        "        hook.ctx[prev_head_index] = attn[0, ind_head_index].diag(-(seq_len - 1)).mean()\n",
        "\n",
        "    model.run_with_hooks(\n",
        "        rep_tokens,\n",
        "        fwd_hooks=[\n",
        "            (utils.get_act_name(\"v\", 0), ablation_hook),\n",
        "            (utils.get_act_name(\"pattern\", 1), induction_pattern_hook)\n",
        "        ],\n",
        "    )\n",
        "    return model.blocks[1].attn.hook_pattern.ctx[prev_head_index].item()\n",
        "\n",
        "\n",
        "baseline_induction_score = ablation_induction_score(None, 4)\n",
        "print(f\"Induction score for no ablations: {baseline_induction_score:.5f}\\n\")\n",
        "for i in range(model.cfg.n_heads):\n",
        "    new_induction_score = ablation_induction_score(i, 4)\n",
        "    induction_score_change = new_induction_score - baseline_induction_score\n",
        "    print(f\"Ablation score change for head {i:02}: {induction_score_change:+.5f}\")"
      ]
    },
    {
      "cell_type": "markdown",
      "metadata": {
        "id": "cZYSMQ--clXm"
      },
      "source": [
        "<details>\n",
        "<summary>Question - what is the interpretation of the results you're getting?</summary>\n",
        "\n",
        "You should have found that the induction score without any ablations is about 0.68, and that most other heads don't change the induction score by much when they are ablated, except for head 7 which reduces the induction score to nearly zero.\n",
        "\n",
        "This is another strong piece of evidence that head `0.7` is the prev token head in this induction circuit.\n",
        "</details>\n"
      ]
    },
    {
      "cell_type": "markdown",
      "metadata": {
        "id": "gF7BofwBcpmI"
      },
      "source": [
        "## Bonus\n",
        "\n",
        "### Looking for Circuits in Real LLMs\n",
        "\n",
        "A particularly cool application of these techniques is looking for real examples of circuits in large language models. Fortunately, there's a bunch of open source ones you can play around with in the `TransformerLens` library! Many of the techniques we've been using for our 2L transformer carry over to ones with more layers.\n",
        "\n",
        "This library should make it moderately easy to play around with these models - I recommend going wild and looking for interesting circuits!\n",
        "\n",
        "Some fun things you might want to try:\n",
        "\n",
        "- Look for induction heads - try repeating all of the steps from above. Do they follow the same algorithm?\n",
        "- Look for neurons that erase info\n",
        "    - i.e. having a high negative cosine similarity between the input and output weights\n",
        "- Try to interpret a position embedding.\n",
        "\n",
        "<details>\n",
        "<summary>Positional Embedding Hint</summary>\n",
        "\n",
        "Look at the singular value decomposition `t.svd` and plot the principal components over position space. High ones tend to be sine and cosine waves of different frequencies.\n",
        "</details>\n",
        "\n",
        "- Look for heads with interpretable attention patterns: e.g. heads that attend to the same word (or subsequent word) when given text in different languages, or the most recent proper noun, or the most recent full-stop, or the subject of the sentence, etc.\n",
        "    - Pick a head, ablate it, and run the model on a load of text with and without the head. Look for tokens with the largest difference in loss, and try to interpret what the head is doing.\n",
        "- Try replicating some of Kevin's work on indirect object identification.\n",
        "- Inspired by the [ROME paper](https://rome.baulab.info/), use the causal tracing technique of patching in the residual stream - can you analyse how the network answers different facts?\n",
        "\n",
        "Note: I apply several simplifications to the resulting transformer - these leave the model mathematically equivalent and doesn't change the output log probs, but does somewhat change the structure of the model and one change translates the output logits by a constant.\n",
        "\n",
        "<details>\n",
        "<summary>Model simplifications</summary>\n",
        "\n",
        "#### Centering $W_U$\n",
        "\n",
        "The output of $W_U$ is a $d_{vocab}$ vector (or tensor with that as the final dimension) which is fed into a softmax\n",
        "\n",
        "#### LayerNorm Folding\n",
        "\n",
        "LayerNorm is only applied at the start of a linear layer reading from the residual stream (eg query, key, value, mlp_in or unembed calculations)\n",
        "\n",
        "Each LayerNorm has the functional form $LN:\\mathbb{R}^n\\to\\mathbb{R}^n$,\n",
        "$LN(x)=s(x) * w_{ln} + b_{ln}$, where $*$ is element-wise multiply and $s(x)=\\frac{x-\\bar{x}}{|x-\\bar{x}|}$, and $w_{ln},b_{ln}$ are both vectors in $\\mathbb{R}^n$\n",
        "\n",
        "The linear layer has form $l:\\mathbb{R}^n\\to\\mathbb{R}^m$, $l(y)=Wy+b$ where $W\\in \\mathbb{R}^{m\\times n},b\\in \\mathbb{R}^m,y\\in\\mathbb{R}^n$\n",
        "\n",
        "So $f(LN(x))=W(w_{ln} * s(x)+b_{ln})+b=(W * w_{ln})s(x)+(Wb_{ln}+b)=W_{eff}s(x)+b_{eff}$, where $W_{eff}$ is the elementwise product of $W$ and $w_{ln}$ (showing that elementwise multiplication commutes like this is left as an exercise) and $b_{eff}=Wb_{ln}+b\\in \\mathbb{R}^m$.\n",
        "\n",
        "From the perspective of interpretability, it's much nicer to interpret the folded layer $W_{eff},b_{eff}$ - fundamentally, this is the computation being done, and there's no reason to expect $W$ or $w_{ln}$ to be meaningful on their own.\n",
        "</details>\n"
      ]
    },
    {
      "cell_type": "markdown",
      "metadata": {
        "id": "uhGTCGF4c4PQ"
      },
      "source": [
        "### Training Your Own Toy Models\n",
        "\n",
        "A fun exercise is training models on the minimal task that'll produce induction heads - predicting the next token in a sequence of random tokens with repeated subsequences. You can get a small 2L Attention-Only model to do this.\n",
        "\n",
        "<details>\n",
        "<summary>Tips</summary>\n",
        "\n",
        "* Make sure to randomise the positions that are repeated! Otherwise the model can just learn the boring algorithm of attending to fixed positions\n",
        "* It works better if you *only* evaluate loss on the repeated tokens, this makes the task less noisy.\n",
        "* It works best with several repeats of the same sequence rather than just one.\n",
        "* If you do things right, and give it finite data + weight decay, you *should* be able to get it to grok - this may take some hyper-parameter tuning though.\n",
        "* When I've done this I get weird franken-induction heads, where each head has 1/3 of an induction stripe, and together cover all tokens.\n",
        "* It'll work better if you only let the queries and keys access the positional embeddings, but *should* work either way.\n",
        "</details>\n"
      ]
    },
    {
      "cell_type": "markdown",
      "metadata": {
        "id": "4F95nL4ZhNni"
      },
      "source": [
        "### Interpreting Induction Heads During Training\n",
        "\n",
        "A particularly striking result about induction heads is that they consistently [form very abruptly in training as a phase change](https://transformer-circuits.pub/2022/in-context-learning-and-induction-heads/index.html#argument-phase-change), and are such an important capability that there is a [visible non-convex bump in the loss curve](https://wandb.ai/mechanistic-interpretability/attn-only/reports/loss_ewma-22-08-24-22-08-00---VmlldzoyNTI2MDM0?accessToken=r6v951q0e1l4q4o70wb2q67wopdyo3v69kz54siuw7lwb4jz6u732vo56h6dr7c2) (in this model, approx 2B to 4B tokens). I have a bunch of checkpoints for this model, you can try re-running the induction head detection techniques on intermediate checkpoints and see what happens. (Bonus points if you have good ideas for how to efficiently send a bunch of 300MB checkpoints from Wandb lol)\n"
      ]
    },
    {
      "cell_type": "markdown",
      "metadata": {
        "id": "4ykXRb9HhNni"
      },
      "source": [
        "### Further discussion / investigation\n",
        "\n",
        "Anthropic has written a post on [In-context Learning and Induction Heads](https://transformer-circuits.pub/2022/in-context-learning-and-induction-heads/index.html) which goes into much deeper discussion on induction heads. The post is structured around six different points of evidence for the hypothesis that **induction heads are the main source of in-context learning in transformer models**, even large ones. Briefly, these are:\n",
        "\n",
        "1. Transformers undergo a \"phase change\" where they suddenly become much better at in-context learning, and this is around the same time induction heads appear.\n",
        "2. When we change the transformer's architecture to make it easier for induction heads to form, we get a corresponding improvement in in-context learning.\n",
        "3. When we ablate induction heads at runtime, in-context learning gets worse.\n",
        "4. We have specific examples of induction heads performing more complex in-context learning algorithms (you'll have the opportunity to investigate one of these later - **indirect object identification**).\n",
        "5. We have a mechanistic explanation of induction heads, which suggests natural extensions to more general forms of in-context learning.\n",
        "6. In-context learning-related behaviour is generally smoothly continuous between small and large models, suggesting that the underlying mechanism is also the same.\n",
        "\n",
        "Here are a few questions for you:\n",
        "\n",
        "* How compelling do you find this evidence? Discuss with your partner.\n",
        "    * Which points do you find most compelling?\n",
        "    * Which do you find least compelling?\n",
        "    * Are there any subset of these which would be enough to convince you of the hypothesis, in the absence of others?\n",
        "* In point 3, the paper observes that in-context learning performance degrades when you ablate induction heads. While we measured this by testing the model's ability to copy a duplicated random sequence, the paper used **in-context learning score** (the loss of the 500th token in the context, minus the loss on the 50th token).\n",
        "    * Can you see why this is a reasonable metric?\n",
        "    * Can you replicate these results (maybe on a larger model than the 2-layer one we've been using)?\n",
        "* In point 4 (more complex forms of in-context learning), the paper suggests the natural extension of \"fuzzy induction heads\", which match patterns like `[A*][B*]...[A][B]` rather than `[A][B]...[A][B]` (where the `*` indicates some form of linguistic similarity, not necessarily being the same token).\n",
        "    * Can you think of any forms this might take, i.e. any kinds of similarity which induction heads might pick up on? Can you generate examples?\n"
      ]
    },
    {
      "cell_type": "code",
      "source": [],
      "metadata": {
        "id": "MVWx3uzn-x_g"
      },
      "execution_count": null,
      "outputs": []
    }
  ]
}