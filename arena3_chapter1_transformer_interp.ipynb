{
  "nbformat": 4,
  "nbformat_minor": 0,
  "metadata": {
    "colab": {
      "provenance": [],
      "machine_shape": "hm",
      "gpuType": "A100",
      "authorship_tag": "ABX9TyMwF5SoyeTJrGpBrcrg+yzn",
      "include_colab_link": true
    },
    "kernelspec": {
      "name": "python3",
      "display_name": "Python 3"
    },
    "language_info": {
      "name": "python"
    },
    "accelerator": "GPU",
    "widgets": {
      "application/vnd.jupyter.widget-state+json": {
        "48346c7dbb4840bea4bbe3a3d29c1989": {
          "model_module": "@jupyter-widgets/controls",
          "model_name": "HBoxModel",
          "model_module_version": "1.5.0",
          "state": {
            "_dom_classes": [],
            "_model_module": "@jupyter-widgets/controls",
            "_model_module_version": "1.5.0",
            "_model_name": "HBoxModel",
            "_view_count": null,
            "_view_module": "@jupyter-widgets/controls",
            "_view_module_version": "1.5.0",
            "_view_name": "HBoxView",
            "box_style": "",
            "children": [
              "IPY_MODEL_18184a284b1c455a97a624f8873ad871",
              "IPY_MODEL_d53ca15b343c435f8faa3f24d241669d",
              "IPY_MODEL_92707606447a41eb9cb46b1ea96f5e2c"
            ],
            "layout": "IPY_MODEL_53a00eccf5a242bcb7dfd866b26d4226"
          }
        },
        "18184a284b1c455a97a624f8873ad871": {
          "model_module": "@jupyter-widgets/controls",
          "model_name": "HTMLModel",
          "model_module_version": "1.5.0",
          "state": {
            "_dom_classes": [],
            "_model_module": "@jupyter-widgets/controls",
            "_model_module_version": "1.5.0",
            "_model_name": "HTMLModel",
            "_view_count": null,
            "_view_module": "@jupyter-widgets/controls",
            "_view_module_version": "1.5.0",
            "_view_name": "HTMLView",
            "description": "",
            "description_tooltip": null,
            "layout": "IPY_MODEL_cc52906217bc4c22a60df275ebc2b81a",
            "placeholder": "​",
            "style": "IPY_MODEL_98337f136ac943979828c558ae0e6b1d",
            "value": "config.json: 100%"
          }
        },
        "d53ca15b343c435f8faa3f24d241669d": {
          "model_module": "@jupyter-widgets/controls",
          "model_name": "FloatProgressModel",
          "model_module_version": "1.5.0",
          "state": {
            "_dom_classes": [],
            "_model_module": "@jupyter-widgets/controls",
            "_model_module_version": "1.5.0",
            "_model_name": "FloatProgressModel",
            "_view_count": null,
            "_view_module": "@jupyter-widgets/controls",
            "_view_module_version": "1.5.0",
            "_view_name": "ProgressView",
            "bar_style": "success",
            "description": "",
            "description_tooltip": null,
            "layout": "IPY_MODEL_53e3c6bd8b914bff9dd5c98f261acc3e",
            "max": 665,
            "min": 0,
            "orientation": "horizontal",
            "style": "IPY_MODEL_6354e89e4e8240a5878cd1ca2f62fa4e",
            "value": 665
          }
        },
        "92707606447a41eb9cb46b1ea96f5e2c": {
          "model_module": "@jupyter-widgets/controls",
          "model_name": "HTMLModel",
          "model_module_version": "1.5.0",
          "state": {
            "_dom_classes": [],
            "_model_module": "@jupyter-widgets/controls",
            "_model_module_version": "1.5.0",
            "_model_name": "HTMLModel",
            "_view_count": null,
            "_view_module": "@jupyter-widgets/controls",
            "_view_module_version": "1.5.0",
            "_view_name": "HTMLView",
            "description": "",
            "description_tooltip": null,
            "layout": "IPY_MODEL_937f33f4b31b45898d1482c22a36ba1e",
            "placeholder": "​",
            "style": "IPY_MODEL_2a13ccf9be7a4d5aa73f1a3b4002f305",
            "value": " 665/665 [00:00&lt;00:00, 53.0kB/s]"
          }
        },
        "53a00eccf5a242bcb7dfd866b26d4226": {
          "model_module": "@jupyter-widgets/base",
          "model_name": "LayoutModel",
          "model_module_version": "1.2.0",
          "state": {
            "_model_module": "@jupyter-widgets/base",
            "_model_module_version": "1.2.0",
            "_model_name": "LayoutModel",
            "_view_count": null,
            "_view_module": "@jupyter-widgets/base",
            "_view_module_version": "1.2.0",
            "_view_name": "LayoutView",
            "align_content": null,
            "align_items": null,
            "align_self": null,
            "border": null,
            "bottom": null,
            "display": null,
            "flex": null,
            "flex_flow": null,
            "grid_area": null,
            "grid_auto_columns": null,
            "grid_auto_flow": null,
            "grid_auto_rows": null,
            "grid_column": null,
            "grid_gap": null,
            "grid_row": null,
            "grid_template_areas": null,
            "grid_template_columns": null,
            "grid_template_rows": null,
            "height": null,
            "justify_content": null,
            "justify_items": null,
            "left": null,
            "margin": null,
            "max_height": null,
            "max_width": null,
            "min_height": null,
            "min_width": null,
            "object_fit": null,
            "object_position": null,
            "order": null,
            "overflow": null,
            "overflow_x": null,
            "overflow_y": null,
            "padding": null,
            "right": null,
            "top": null,
            "visibility": null,
            "width": null
          }
        },
        "cc52906217bc4c22a60df275ebc2b81a": {
          "model_module": "@jupyter-widgets/base",
          "model_name": "LayoutModel",
          "model_module_version": "1.2.0",
          "state": {
            "_model_module": "@jupyter-widgets/base",
            "_model_module_version": "1.2.0",
            "_model_name": "LayoutModel",
            "_view_count": null,
            "_view_module": "@jupyter-widgets/base",
            "_view_module_version": "1.2.0",
            "_view_name": "LayoutView",
            "align_content": null,
            "align_items": null,
            "align_self": null,
            "border": null,
            "bottom": null,
            "display": null,
            "flex": null,
            "flex_flow": null,
            "grid_area": null,
            "grid_auto_columns": null,
            "grid_auto_flow": null,
            "grid_auto_rows": null,
            "grid_column": null,
            "grid_gap": null,
            "grid_row": null,
            "grid_template_areas": null,
            "grid_template_columns": null,
            "grid_template_rows": null,
            "height": null,
            "justify_content": null,
            "justify_items": null,
            "left": null,
            "margin": null,
            "max_height": null,
            "max_width": null,
            "min_height": null,
            "min_width": null,
            "object_fit": null,
            "object_position": null,
            "order": null,
            "overflow": null,
            "overflow_x": null,
            "overflow_y": null,
            "padding": null,
            "right": null,
            "top": null,
            "visibility": null,
            "width": null
          }
        },
        "98337f136ac943979828c558ae0e6b1d": {
          "model_module": "@jupyter-widgets/controls",
          "model_name": "DescriptionStyleModel",
          "model_module_version": "1.5.0",
          "state": {
            "_model_module": "@jupyter-widgets/controls",
            "_model_module_version": "1.5.0",
            "_model_name": "DescriptionStyleModel",
            "_view_count": null,
            "_view_module": "@jupyter-widgets/base",
            "_view_module_version": "1.2.0",
            "_view_name": "StyleView",
            "description_width": ""
          }
        },
        "53e3c6bd8b914bff9dd5c98f261acc3e": {
          "model_module": "@jupyter-widgets/base",
          "model_name": "LayoutModel",
          "model_module_version": "1.2.0",
          "state": {
            "_model_module": "@jupyter-widgets/base",
            "_model_module_version": "1.2.0",
            "_model_name": "LayoutModel",
            "_view_count": null,
            "_view_module": "@jupyter-widgets/base",
            "_view_module_version": "1.2.0",
            "_view_name": "LayoutView",
            "align_content": null,
            "align_items": null,
            "align_self": null,
            "border": null,
            "bottom": null,
            "display": null,
            "flex": null,
            "flex_flow": null,
            "grid_area": null,
            "grid_auto_columns": null,
            "grid_auto_flow": null,
            "grid_auto_rows": null,
            "grid_column": null,
            "grid_gap": null,
            "grid_row": null,
            "grid_template_areas": null,
            "grid_template_columns": null,
            "grid_template_rows": null,
            "height": null,
            "justify_content": null,
            "justify_items": null,
            "left": null,
            "margin": null,
            "max_height": null,
            "max_width": null,
            "min_height": null,
            "min_width": null,
            "object_fit": null,
            "object_position": null,
            "order": null,
            "overflow": null,
            "overflow_x": null,
            "overflow_y": null,
            "padding": null,
            "right": null,
            "top": null,
            "visibility": null,
            "width": null
          }
        },
        "6354e89e4e8240a5878cd1ca2f62fa4e": {
          "model_module": "@jupyter-widgets/controls",
          "model_name": "ProgressStyleModel",
          "model_module_version": "1.5.0",
          "state": {
            "_model_module": "@jupyter-widgets/controls",
            "_model_module_version": "1.5.0",
            "_model_name": "ProgressStyleModel",
            "_view_count": null,
            "_view_module": "@jupyter-widgets/base",
            "_view_module_version": "1.2.0",
            "_view_name": "StyleView",
            "bar_color": null,
            "description_width": ""
          }
        },
        "937f33f4b31b45898d1482c22a36ba1e": {
          "model_module": "@jupyter-widgets/base",
          "model_name": "LayoutModel",
          "model_module_version": "1.2.0",
          "state": {
            "_model_module": "@jupyter-widgets/base",
            "_model_module_version": "1.2.0",
            "_model_name": "LayoutModel",
            "_view_count": null,
            "_view_module": "@jupyter-widgets/base",
            "_view_module_version": "1.2.0",
            "_view_name": "LayoutView",
            "align_content": null,
            "align_items": null,
            "align_self": null,
            "border": null,
            "bottom": null,
            "display": null,
            "flex": null,
            "flex_flow": null,
            "grid_area": null,
            "grid_auto_columns": null,
            "grid_auto_flow": null,
            "grid_auto_rows": null,
            "grid_column": null,
            "grid_gap": null,
            "grid_row": null,
            "grid_template_areas": null,
            "grid_template_columns": null,
            "grid_template_rows": null,
            "height": null,
            "justify_content": null,
            "justify_items": null,
            "left": null,
            "margin": null,
            "max_height": null,
            "max_width": null,
            "min_height": null,
            "min_width": null,
            "object_fit": null,
            "object_position": null,
            "order": null,
            "overflow": null,
            "overflow_x": null,
            "overflow_y": null,
            "padding": null,
            "right": null,
            "top": null,
            "visibility": null,
            "width": null
          }
        },
        "2a13ccf9be7a4d5aa73f1a3b4002f305": {
          "model_module": "@jupyter-widgets/controls",
          "model_name": "DescriptionStyleModel",
          "model_module_version": "1.5.0",
          "state": {
            "_model_module": "@jupyter-widgets/controls",
            "_model_module_version": "1.5.0",
            "_model_name": "DescriptionStyleModel",
            "_view_count": null,
            "_view_module": "@jupyter-widgets/base",
            "_view_module_version": "1.2.0",
            "_view_name": "StyleView",
            "description_width": ""
          }
        },
        "33d736d1bde34390b983bb65dd8c63e1": {
          "model_module": "@jupyter-widgets/controls",
          "model_name": "HBoxModel",
          "model_module_version": "1.5.0",
          "state": {
            "_dom_classes": [],
            "_model_module": "@jupyter-widgets/controls",
            "_model_module_version": "1.5.0",
            "_model_name": "HBoxModel",
            "_view_count": null,
            "_view_module": "@jupyter-widgets/controls",
            "_view_module_version": "1.5.0",
            "_view_name": "HBoxView",
            "box_style": "",
            "children": [
              "IPY_MODEL_fe1d2cadd6fc4001872a6afc3e4ac69a",
              "IPY_MODEL_0db921d9f16845f5a3d3faccdb9d59a8",
              "IPY_MODEL_8cb2252ea38a42059ea7887f52c90183"
            ],
            "layout": "IPY_MODEL_d8c2ee2fd44e47829655530e36144a5b"
          }
        },
        "fe1d2cadd6fc4001872a6afc3e4ac69a": {
          "model_module": "@jupyter-widgets/controls",
          "model_name": "HTMLModel",
          "model_module_version": "1.5.0",
          "state": {
            "_dom_classes": [],
            "_model_module": "@jupyter-widgets/controls",
            "_model_module_version": "1.5.0",
            "_model_name": "HTMLModel",
            "_view_count": null,
            "_view_module": "@jupyter-widgets/controls",
            "_view_module_version": "1.5.0",
            "_view_name": "HTMLView",
            "description": "",
            "description_tooltip": null,
            "layout": "IPY_MODEL_33dcf444b9a14e1c86998982cd287f8c",
            "placeholder": "​",
            "style": "IPY_MODEL_1822729b75994fafb5f7dc3784371814",
            "value": "model.safetensors: 100%"
          }
        },
        "0db921d9f16845f5a3d3faccdb9d59a8": {
          "model_module": "@jupyter-widgets/controls",
          "model_name": "FloatProgressModel",
          "model_module_version": "1.5.0",
          "state": {
            "_dom_classes": [],
            "_model_module": "@jupyter-widgets/controls",
            "_model_module_version": "1.5.0",
            "_model_name": "FloatProgressModel",
            "_view_count": null,
            "_view_module": "@jupyter-widgets/controls",
            "_view_module_version": "1.5.0",
            "_view_name": "ProgressView",
            "bar_style": "success",
            "description": "",
            "description_tooltip": null,
            "layout": "IPY_MODEL_85d08183a5834967a73ebd8a66362ccb",
            "max": 548105171,
            "min": 0,
            "orientation": "horizontal",
            "style": "IPY_MODEL_d713dab3c0a648a98398f4f1e59e5f46",
            "value": 548105171
          }
        },
        "8cb2252ea38a42059ea7887f52c90183": {
          "model_module": "@jupyter-widgets/controls",
          "model_name": "HTMLModel",
          "model_module_version": "1.5.0",
          "state": {
            "_dom_classes": [],
            "_model_module": "@jupyter-widgets/controls",
            "_model_module_version": "1.5.0",
            "_model_name": "HTMLModel",
            "_view_count": null,
            "_view_module": "@jupyter-widgets/controls",
            "_view_module_version": "1.5.0",
            "_view_name": "HTMLView",
            "description": "",
            "description_tooltip": null,
            "layout": "IPY_MODEL_e89b5c7ac8e845e2bc63eb5e680328a5",
            "placeholder": "​",
            "style": "IPY_MODEL_be405f40bb0b4253bcaf2b518ebaa58a",
            "value": " 548M/548M [00:03&lt;00:00, 183MB/s]"
          }
        },
        "d8c2ee2fd44e47829655530e36144a5b": {
          "model_module": "@jupyter-widgets/base",
          "model_name": "LayoutModel",
          "model_module_version": "1.2.0",
          "state": {
            "_model_module": "@jupyter-widgets/base",
            "_model_module_version": "1.2.0",
            "_model_name": "LayoutModel",
            "_view_count": null,
            "_view_module": "@jupyter-widgets/base",
            "_view_module_version": "1.2.0",
            "_view_name": "LayoutView",
            "align_content": null,
            "align_items": null,
            "align_self": null,
            "border": null,
            "bottom": null,
            "display": null,
            "flex": null,
            "flex_flow": null,
            "grid_area": null,
            "grid_auto_columns": null,
            "grid_auto_flow": null,
            "grid_auto_rows": null,
            "grid_column": null,
            "grid_gap": null,
            "grid_row": null,
            "grid_template_areas": null,
            "grid_template_columns": null,
            "grid_template_rows": null,
            "height": null,
            "justify_content": null,
            "justify_items": null,
            "left": null,
            "margin": null,
            "max_height": null,
            "max_width": null,
            "min_height": null,
            "min_width": null,
            "object_fit": null,
            "object_position": null,
            "order": null,
            "overflow": null,
            "overflow_x": null,
            "overflow_y": null,
            "padding": null,
            "right": null,
            "top": null,
            "visibility": null,
            "width": null
          }
        },
        "33dcf444b9a14e1c86998982cd287f8c": {
          "model_module": "@jupyter-widgets/base",
          "model_name": "LayoutModel",
          "model_module_version": "1.2.0",
          "state": {
            "_model_module": "@jupyter-widgets/base",
            "_model_module_version": "1.2.0",
            "_model_name": "LayoutModel",
            "_view_count": null,
            "_view_module": "@jupyter-widgets/base",
            "_view_module_version": "1.2.0",
            "_view_name": "LayoutView",
            "align_content": null,
            "align_items": null,
            "align_self": null,
            "border": null,
            "bottom": null,
            "display": null,
            "flex": null,
            "flex_flow": null,
            "grid_area": null,
            "grid_auto_columns": null,
            "grid_auto_flow": null,
            "grid_auto_rows": null,
            "grid_column": null,
            "grid_gap": null,
            "grid_row": null,
            "grid_template_areas": null,
            "grid_template_columns": null,
            "grid_template_rows": null,
            "height": null,
            "justify_content": null,
            "justify_items": null,
            "left": null,
            "margin": null,
            "max_height": null,
            "max_width": null,
            "min_height": null,
            "min_width": null,
            "object_fit": null,
            "object_position": null,
            "order": null,
            "overflow": null,
            "overflow_x": null,
            "overflow_y": null,
            "padding": null,
            "right": null,
            "top": null,
            "visibility": null,
            "width": null
          }
        },
        "1822729b75994fafb5f7dc3784371814": {
          "model_module": "@jupyter-widgets/controls",
          "model_name": "DescriptionStyleModel",
          "model_module_version": "1.5.0",
          "state": {
            "_model_module": "@jupyter-widgets/controls",
            "_model_module_version": "1.5.0",
            "_model_name": "DescriptionStyleModel",
            "_view_count": null,
            "_view_module": "@jupyter-widgets/base",
            "_view_module_version": "1.2.0",
            "_view_name": "StyleView",
            "description_width": ""
          }
        },
        "85d08183a5834967a73ebd8a66362ccb": {
          "model_module": "@jupyter-widgets/base",
          "model_name": "LayoutModel",
          "model_module_version": "1.2.0",
          "state": {
            "_model_module": "@jupyter-widgets/base",
            "_model_module_version": "1.2.0",
            "_model_name": "LayoutModel",
            "_view_count": null,
            "_view_module": "@jupyter-widgets/base",
            "_view_module_version": "1.2.0",
            "_view_name": "LayoutView",
            "align_content": null,
            "align_items": null,
            "align_self": null,
            "border": null,
            "bottom": null,
            "display": null,
            "flex": null,
            "flex_flow": null,
            "grid_area": null,
            "grid_auto_columns": null,
            "grid_auto_flow": null,
            "grid_auto_rows": null,
            "grid_column": null,
            "grid_gap": null,
            "grid_row": null,
            "grid_template_areas": null,
            "grid_template_columns": null,
            "grid_template_rows": null,
            "height": null,
            "justify_content": null,
            "justify_items": null,
            "left": null,
            "margin": null,
            "max_height": null,
            "max_width": null,
            "min_height": null,
            "min_width": null,
            "object_fit": null,
            "object_position": null,
            "order": null,
            "overflow": null,
            "overflow_x": null,
            "overflow_y": null,
            "padding": null,
            "right": null,
            "top": null,
            "visibility": null,
            "width": null
          }
        },
        "d713dab3c0a648a98398f4f1e59e5f46": {
          "model_module": "@jupyter-widgets/controls",
          "model_name": "ProgressStyleModel",
          "model_module_version": "1.5.0",
          "state": {
            "_model_module": "@jupyter-widgets/controls",
            "_model_module_version": "1.5.0",
            "_model_name": "ProgressStyleModel",
            "_view_count": null,
            "_view_module": "@jupyter-widgets/base",
            "_view_module_version": "1.2.0",
            "_view_name": "StyleView",
            "bar_color": null,
            "description_width": ""
          }
        },
        "e89b5c7ac8e845e2bc63eb5e680328a5": {
          "model_module": "@jupyter-widgets/base",
          "model_name": "LayoutModel",
          "model_module_version": "1.2.0",
          "state": {
            "_model_module": "@jupyter-widgets/base",
            "_model_module_version": "1.2.0",
            "_model_name": "LayoutModel",
            "_view_count": null,
            "_view_module": "@jupyter-widgets/base",
            "_view_module_version": "1.2.0",
            "_view_name": "LayoutView",
            "align_content": null,
            "align_items": null,
            "align_self": null,
            "border": null,
            "bottom": null,
            "display": null,
            "flex": null,
            "flex_flow": null,
            "grid_area": null,
            "grid_auto_columns": null,
            "grid_auto_flow": null,
            "grid_auto_rows": null,
            "grid_column": null,
            "grid_gap": null,
            "grid_row": null,
            "grid_template_areas": null,
            "grid_template_columns": null,
            "grid_template_rows": null,
            "height": null,
            "justify_content": null,
            "justify_items": null,
            "left": null,
            "margin": null,
            "max_height": null,
            "max_width": null,
            "min_height": null,
            "min_width": null,
            "object_fit": null,
            "object_position": null,
            "order": null,
            "overflow": null,
            "overflow_x": null,
            "overflow_y": null,
            "padding": null,
            "right": null,
            "top": null,
            "visibility": null,
            "width": null
          }
        },
        "be405f40bb0b4253bcaf2b518ebaa58a": {
          "model_module": "@jupyter-widgets/controls",
          "model_name": "DescriptionStyleModel",
          "model_module_version": "1.5.0",
          "state": {
            "_model_module": "@jupyter-widgets/controls",
            "_model_module_version": "1.5.0",
            "_model_name": "DescriptionStyleModel",
            "_view_count": null,
            "_view_module": "@jupyter-widgets/base",
            "_view_module_version": "1.2.0",
            "_view_name": "StyleView",
            "description_width": ""
          }
        },
        "07a8d0d615d2415a95ed4db4642d468d": {
          "model_module": "@jupyter-widgets/controls",
          "model_name": "HBoxModel",
          "model_module_version": "1.5.0",
          "state": {
            "_dom_classes": [],
            "_model_module": "@jupyter-widgets/controls",
            "_model_module_version": "1.5.0",
            "_model_name": "HBoxModel",
            "_view_count": null,
            "_view_module": "@jupyter-widgets/controls",
            "_view_module_version": "1.5.0",
            "_view_name": "HBoxView",
            "box_style": "",
            "children": [
              "IPY_MODEL_3a9584bf3bc6447da4fb0aee01b69206",
              "IPY_MODEL_d4a4715e1a6443d6be57920ac64023e4",
              "IPY_MODEL_eef79f57160449728ff45ba5e7abe088"
            ],
            "layout": "IPY_MODEL_f15791022fb043729957cda1428c62df"
          }
        },
        "3a9584bf3bc6447da4fb0aee01b69206": {
          "model_module": "@jupyter-widgets/controls",
          "model_name": "HTMLModel",
          "model_module_version": "1.5.0",
          "state": {
            "_dom_classes": [],
            "_model_module": "@jupyter-widgets/controls",
            "_model_module_version": "1.5.0",
            "_model_name": "HTMLModel",
            "_view_count": null,
            "_view_module": "@jupyter-widgets/controls",
            "_view_module_version": "1.5.0",
            "_view_name": "HTMLView",
            "description": "",
            "description_tooltip": null,
            "layout": "IPY_MODEL_d4d5b497820a497b824a4538bcab062c",
            "placeholder": "​",
            "style": "IPY_MODEL_19ac5486326d4c08ae1b887ae9b7914a",
            "value": "generation_config.json: 100%"
          }
        },
        "d4a4715e1a6443d6be57920ac64023e4": {
          "model_module": "@jupyter-widgets/controls",
          "model_name": "FloatProgressModel",
          "model_module_version": "1.5.0",
          "state": {
            "_dom_classes": [],
            "_model_module": "@jupyter-widgets/controls",
            "_model_module_version": "1.5.0",
            "_model_name": "FloatProgressModel",
            "_view_count": null,
            "_view_module": "@jupyter-widgets/controls",
            "_view_module_version": "1.5.0",
            "_view_name": "ProgressView",
            "bar_style": "success",
            "description": "",
            "description_tooltip": null,
            "layout": "IPY_MODEL_7b33cf7de7ff4cecb6ae9b118bf929ff",
            "max": 124,
            "min": 0,
            "orientation": "horizontal",
            "style": "IPY_MODEL_29c53097890e47738dbcdeacef3974d3",
            "value": 124
          }
        },
        "eef79f57160449728ff45ba5e7abe088": {
          "model_module": "@jupyter-widgets/controls",
          "model_name": "HTMLModel",
          "model_module_version": "1.5.0",
          "state": {
            "_dom_classes": [],
            "_model_module": "@jupyter-widgets/controls",
            "_model_module_version": "1.5.0",
            "_model_name": "HTMLModel",
            "_view_count": null,
            "_view_module": "@jupyter-widgets/controls",
            "_view_module_version": "1.5.0",
            "_view_name": "HTMLView",
            "description": "",
            "description_tooltip": null,
            "layout": "IPY_MODEL_8427d399ce34400ab56bacb527648e33",
            "placeholder": "​",
            "style": "IPY_MODEL_2bfdb7cec4164fe5af35a45681f5bf6b",
            "value": " 124/124 [00:00&lt;00:00, 10.6kB/s]"
          }
        },
        "f15791022fb043729957cda1428c62df": {
          "model_module": "@jupyter-widgets/base",
          "model_name": "LayoutModel",
          "model_module_version": "1.2.0",
          "state": {
            "_model_module": "@jupyter-widgets/base",
            "_model_module_version": "1.2.0",
            "_model_name": "LayoutModel",
            "_view_count": null,
            "_view_module": "@jupyter-widgets/base",
            "_view_module_version": "1.2.0",
            "_view_name": "LayoutView",
            "align_content": null,
            "align_items": null,
            "align_self": null,
            "border": null,
            "bottom": null,
            "display": null,
            "flex": null,
            "flex_flow": null,
            "grid_area": null,
            "grid_auto_columns": null,
            "grid_auto_flow": null,
            "grid_auto_rows": null,
            "grid_column": null,
            "grid_gap": null,
            "grid_row": null,
            "grid_template_areas": null,
            "grid_template_columns": null,
            "grid_template_rows": null,
            "height": null,
            "justify_content": null,
            "justify_items": null,
            "left": null,
            "margin": null,
            "max_height": null,
            "max_width": null,
            "min_height": null,
            "min_width": null,
            "object_fit": null,
            "object_position": null,
            "order": null,
            "overflow": null,
            "overflow_x": null,
            "overflow_y": null,
            "padding": null,
            "right": null,
            "top": null,
            "visibility": null,
            "width": null
          }
        },
        "d4d5b497820a497b824a4538bcab062c": {
          "model_module": "@jupyter-widgets/base",
          "model_name": "LayoutModel",
          "model_module_version": "1.2.0",
          "state": {
            "_model_module": "@jupyter-widgets/base",
            "_model_module_version": "1.2.0",
            "_model_name": "LayoutModel",
            "_view_count": null,
            "_view_module": "@jupyter-widgets/base",
            "_view_module_version": "1.2.0",
            "_view_name": "LayoutView",
            "align_content": null,
            "align_items": null,
            "align_self": null,
            "border": null,
            "bottom": null,
            "display": null,
            "flex": null,
            "flex_flow": null,
            "grid_area": null,
            "grid_auto_columns": null,
            "grid_auto_flow": null,
            "grid_auto_rows": null,
            "grid_column": null,
            "grid_gap": null,
            "grid_row": null,
            "grid_template_areas": null,
            "grid_template_columns": null,
            "grid_template_rows": null,
            "height": null,
            "justify_content": null,
            "justify_items": null,
            "left": null,
            "margin": null,
            "max_height": null,
            "max_width": null,
            "min_height": null,
            "min_width": null,
            "object_fit": null,
            "object_position": null,
            "order": null,
            "overflow": null,
            "overflow_x": null,
            "overflow_y": null,
            "padding": null,
            "right": null,
            "top": null,
            "visibility": null,
            "width": null
          }
        },
        "19ac5486326d4c08ae1b887ae9b7914a": {
          "model_module": "@jupyter-widgets/controls",
          "model_name": "DescriptionStyleModel",
          "model_module_version": "1.5.0",
          "state": {
            "_model_module": "@jupyter-widgets/controls",
            "_model_module_version": "1.5.0",
            "_model_name": "DescriptionStyleModel",
            "_view_count": null,
            "_view_module": "@jupyter-widgets/base",
            "_view_module_version": "1.2.0",
            "_view_name": "StyleView",
            "description_width": ""
          }
        },
        "7b33cf7de7ff4cecb6ae9b118bf929ff": {
          "model_module": "@jupyter-widgets/base",
          "model_name": "LayoutModel",
          "model_module_version": "1.2.0",
          "state": {
            "_model_module": "@jupyter-widgets/base",
            "_model_module_version": "1.2.0",
            "_model_name": "LayoutModel",
            "_view_count": null,
            "_view_module": "@jupyter-widgets/base",
            "_view_module_version": "1.2.0",
            "_view_name": "LayoutView",
            "align_content": null,
            "align_items": null,
            "align_self": null,
            "border": null,
            "bottom": null,
            "display": null,
            "flex": null,
            "flex_flow": null,
            "grid_area": null,
            "grid_auto_columns": null,
            "grid_auto_flow": null,
            "grid_auto_rows": null,
            "grid_column": null,
            "grid_gap": null,
            "grid_row": null,
            "grid_template_areas": null,
            "grid_template_columns": null,
            "grid_template_rows": null,
            "height": null,
            "justify_content": null,
            "justify_items": null,
            "left": null,
            "margin": null,
            "max_height": null,
            "max_width": null,
            "min_height": null,
            "min_width": null,
            "object_fit": null,
            "object_position": null,
            "order": null,
            "overflow": null,
            "overflow_x": null,
            "overflow_y": null,
            "padding": null,
            "right": null,
            "top": null,
            "visibility": null,
            "width": null
          }
        },
        "29c53097890e47738dbcdeacef3974d3": {
          "model_module": "@jupyter-widgets/controls",
          "model_name": "ProgressStyleModel",
          "model_module_version": "1.5.0",
          "state": {
            "_model_module": "@jupyter-widgets/controls",
            "_model_module_version": "1.5.0",
            "_model_name": "ProgressStyleModel",
            "_view_count": null,
            "_view_module": "@jupyter-widgets/base",
            "_view_module_version": "1.2.0",
            "_view_name": "StyleView",
            "bar_color": null,
            "description_width": ""
          }
        },
        "8427d399ce34400ab56bacb527648e33": {
          "model_module": "@jupyter-widgets/base",
          "model_name": "LayoutModel",
          "model_module_version": "1.2.0",
          "state": {
            "_model_module": "@jupyter-widgets/base",
            "_model_module_version": "1.2.0",
            "_model_name": "LayoutModel",
            "_view_count": null,
            "_view_module": "@jupyter-widgets/base",
            "_view_module_version": "1.2.0",
            "_view_name": "LayoutView",
            "align_content": null,
            "align_items": null,
            "align_self": null,
            "border": null,
            "bottom": null,
            "display": null,
            "flex": null,
            "flex_flow": null,
            "grid_area": null,
            "grid_auto_columns": null,
            "grid_auto_flow": null,
            "grid_auto_rows": null,
            "grid_column": null,
            "grid_gap": null,
            "grid_row": null,
            "grid_template_areas": null,
            "grid_template_columns": null,
            "grid_template_rows": null,
            "height": null,
            "justify_content": null,
            "justify_items": null,
            "left": null,
            "margin": null,
            "max_height": null,
            "max_width": null,
            "min_height": null,
            "min_width": null,
            "object_fit": null,
            "object_position": null,
            "order": null,
            "overflow": null,
            "overflow_x": null,
            "overflow_y": null,
            "padding": null,
            "right": null,
            "top": null,
            "visibility": null,
            "width": null
          }
        },
        "2bfdb7cec4164fe5af35a45681f5bf6b": {
          "model_module": "@jupyter-widgets/controls",
          "model_name": "DescriptionStyleModel",
          "model_module_version": "1.5.0",
          "state": {
            "_model_module": "@jupyter-widgets/controls",
            "_model_module_version": "1.5.0",
            "_model_name": "DescriptionStyleModel",
            "_view_count": null,
            "_view_module": "@jupyter-widgets/base",
            "_view_module_version": "1.2.0",
            "_view_name": "StyleView",
            "description_width": ""
          }
        },
        "c36c00b0d12848d69022d715b3611a7d": {
          "model_module": "@jupyter-widgets/controls",
          "model_name": "HBoxModel",
          "model_module_version": "1.5.0",
          "state": {
            "_dom_classes": [],
            "_model_module": "@jupyter-widgets/controls",
            "_model_module_version": "1.5.0",
            "_model_name": "HBoxModel",
            "_view_count": null,
            "_view_module": "@jupyter-widgets/controls",
            "_view_module_version": "1.5.0",
            "_view_name": "HBoxView",
            "box_style": "",
            "children": [
              "IPY_MODEL_e25c268c80e94951a11586df5f05f4d0",
              "IPY_MODEL_eac81650e50b428e8d0017248c65f587",
              "IPY_MODEL_90b37fe1ac7d44cf846f4fbf91fbb94c"
            ],
            "layout": "IPY_MODEL_834876590f38495785f102f13f224bf7"
          }
        },
        "e25c268c80e94951a11586df5f05f4d0": {
          "model_module": "@jupyter-widgets/controls",
          "model_name": "HTMLModel",
          "model_module_version": "1.5.0",
          "state": {
            "_dom_classes": [],
            "_model_module": "@jupyter-widgets/controls",
            "_model_module_version": "1.5.0",
            "_model_name": "HTMLModel",
            "_view_count": null,
            "_view_module": "@jupyter-widgets/controls",
            "_view_module_version": "1.5.0",
            "_view_name": "HTMLView",
            "description": "",
            "description_tooltip": null,
            "layout": "IPY_MODEL_07676923c8b64d0e8886681fea3228e7",
            "placeholder": "​",
            "style": "IPY_MODEL_73a18104f2484eeeb9f9cc7a39b09251",
            "value": "tokenizer_config.json: 100%"
          }
        },
        "eac81650e50b428e8d0017248c65f587": {
          "model_module": "@jupyter-widgets/controls",
          "model_name": "FloatProgressModel",
          "model_module_version": "1.5.0",
          "state": {
            "_dom_classes": [],
            "_model_module": "@jupyter-widgets/controls",
            "_model_module_version": "1.5.0",
            "_model_name": "FloatProgressModel",
            "_view_count": null,
            "_view_module": "@jupyter-widgets/controls",
            "_view_module_version": "1.5.0",
            "_view_name": "ProgressView",
            "bar_style": "success",
            "description": "",
            "description_tooltip": null,
            "layout": "IPY_MODEL_8181423ac0204d9c9cbf4d33ca211227",
            "max": 26,
            "min": 0,
            "orientation": "horizontal",
            "style": "IPY_MODEL_d08c3cc97ad841aead2da0bf2c3988fb",
            "value": 26
          }
        },
        "90b37fe1ac7d44cf846f4fbf91fbb94c": {
          "model_module": "@jupyter-widgets/controls",
          "model_name": "HTMLModel",
          "model_module_version": "1.5.0",
          "state": {
            "_dom_classes": [],
            "_model_module": "@jupyter-widgets/controls",
            "_model_module_version": "1.5.0",
            "_model_name": "HTMLModel",
            "_view_count": null,
            "_view_module": "@jupyter-widgets/controls",
            "_view_module_version": "1.5.0",
            "_view_name": "HTMLView",
            "description": "",
            "description_tooltip": null,
            "layout": "IPY_MODEL_fac9d2f0ecbd46eb8851c63acf283465",
            "placeholder": "​",
            "style": "IPY_MODEL_9c05f1f93a2c4da490ea54836e187f4c",
            "value": " 26.0/26.0 [00:00&lt;00:00, 2.33kB/s]"
          }
        },
        "834876590f38495785f102f13f224bf7": {
          "model_module": "@jupyter-widgets/base",
          "model_name": "LayoutModel",
          "model_module_version": "1.2.0",
          "state": {
            "_model_module": "@jupyter-widgets/base",
            "_model_module_version": "1.2.0",
            "_model_name": "LayoutModel",
            "_view_count": null,
            "_view_module": "@jupyter-widgets/base",
            "_view_module_version": "1.2.0",
            "_view_name": "LayoutView",
            "align_content": null,
            "align_items": null,
            "align_self": null,
            "border": null,
            "bottom": null,
            "display": null,
            "flex": null,
            "flex_flow": null,
            "grid_area": null,
            "grid_auto_columns": null,
            "grid_auto_flow": null,
            "grid_auto_rows": null,
            "grid_column": null,
            "grid_gap": null,
            "grid_row": null,
            "grid_template_areas": null,
            "grid_template_columns": null,
            "grid_template_rows": null,
            "height": null,
            "justify_content": null,
            "justify_items": null,
            "left": null,
            "margin": null,
            "max_height": null,
            "max_width": null,
            "min_height": null,
            "min_width": null,
            "object_fit": null,
            "object_position": null,
            "order": null,
            "overflow": null,
            "overflow_x": null,
            "overflow_y": null,
            "padding": null,
            "right": null,
            "top": null,
            "visibility": null,
            "width": null
          }
        },
        "07676923c8b64d0e8886681fea3228e7": {
          "model_module": "@jupyter-widgets/base",
          "model_name": "LayoutModel",
          "model_module_version": "1.2.0",
          "state": {
            "_model_module": "@jupyter-widgets/base",
            "_model_module_version": "1.2.0",
            "_model_name": "LayoutModel",
            "_view_count": null,
            "_view_module": "@jupyter-widgets/base",
            "_view_module_version": "1.2.0",
            "_view_name": "LayoutView",
            "align_content": null,
            "align_items": null,
            "align_self": null,
            "border": null,
            "bottom": null,
            "display": null,
            "flex": null,
            "flex_flow": null,
            "grid_area": null,
            "grid_auto_columns": null,
            "grid_auto_flow": null,
            "grid_auto_rows": null,
            "grid_column": null,
            "grid_gap": null,
            "grid_row": null,
            "grid_template_areas": null,
            "grid_template_columns": null,
            "grid_template_rows": null,
            "height": null,
            "justify_content": null,
            "justify_items": null,
            "left": null,
            "margin": null,
            "max_height": null,
            "max_width": null,
            "min_height": null,
            "min_width": null,
            "object_fit": null,
            "object_position": null,
            "order": null,
            "overflow": null,
            "overflow_x": null,
            "overflow_y": null,
            "padding": null,
            "right": null,
            "top": null,
            "visibility": null,
            "width": null
          }
        },
        "73a18104f2484eeeb9f9cc7a39b09251": {
          "model_module": "@jupyter-widgets/controls",
          "model_name": "DescriptionStyleModel",
          "model_module_version": "1.5.0",
          "state": {
            "_model_module": "@jupyter-widgets/controls",
            "_model_module_version": "1.5.0",
            "_model_name": "DescriptionStyleModel",
            "_view_count": null,
            "_view_module": "@jupyter-widgets/base",
            "_view_module_version": "1.2.0",
            "_view_name": "StyleView",
            "description_width": ""
          }
        },
        "8181423ac0204d9c9cbf4d33ca211227": {
          "model_module": "@jupyter-widgets/base",
          "model_name": "LayoutModel",
          "model_module_version": "1.2.0",
          "state": {
            "_model_module": "@jupyter-widgets/base",
            "_model_module_version": "1.2.0",
            "_model_name": "LayoutModel",
            "_view_count": null,
            "_view_module": "@jupyter-widgets/base",
            "_view_module_version": "1.2.0",
            "_view_name": "LayoutView",
            "align_content": null,
            "align_items": null,
            "align_self": null,
            "border": null,
            "bottom": null,
            "display": null,
            "flex": null,
            "flex_flow": null,
            "grid_area": null,
            "grid_auto_columns": null,
            "grid_auto_flow": null,
            "grid_auto_rows": null,
            "grid_column": null,
            "grid_gap": null,
            "grid_row": null,
            "grid_template_areas": null,
            "grid_template_columns": null,
            "grid_template_rows": null,
            "height": null,
            "justify_content": null,
            "justify_items": null,
            "left": null,
            "margin": null,
            "max_height": null,
            "max_width": null,
            "min_height": null,
            "min_width": null,
            "object_fit": null,
            "object_position": null,
            "order": null,
            "overflow": null,
            "overflow_x": null,
            "overflow_y": null,
            "padding": null,
            "right": null,
            "top": null,
            "visibility": null,
            "width": null
          }
        },
        "d08c3cc97ad841aead2da0bf2c3988fb": {
          "model_module": "@jupyter-widgets/controls",
          "model_name": "ProgressStyleModel",
          "model_module_version": "1.5.0",
          "state": {
            "_model_module": "@jupyter-widgets/controls",
            "_model_module_version": "1.5.0",
            "_model_name": "ProgressStyleModel",
            "_view_count": null,
            "_view_module": "@jupyter-widgets/base",
            "_view_module_version": "1.2.0",
            "_view_name": "StyleView",
            "bar_color": null,
            "description_width": ""
          }
        },
        "fac9d2f0ecbd46eb8851c63acf283465": {
          "model_module": "@jupyter-widgets/base",
          "model_name": "LayoutModel",
          "model_module_version": "1.2.0",
          "state": {
            "_model_module": "@jupyter-widgets/base",
            "_model_module_version": "1.2.0",
            "_model_name": "LayoutModel",
            "_view_count": null,
            "_view_module": "@jupyter-widgets/base",
            "_view_module_version": "1.2.0",
            "_view_name": "LayoutView",
            "align_content": null,
            "align_items": null,
            "align_self": null,
            "border": null,
            "bottom": null,
            "display": null,
            "flex": null,
            "flex_flow": null,
            "grid_area": null,
            "grid_auto_columns": null,
            "grid_auto_flow": null,
            "grid_auto_rows": null,
            "grid_column": null,
            "grid_gap": null,
            "grid_row": null,
            "grid_template_areas": null,
            "grid_template_columns": null,
            "grid_template_rows": null,
            "height": null,
            "justify_content": null,
            "justify_items": null,
            "left": null,
            "margin": null,
            "max_height": null,
            "max_width": null,
            "min_height": null,
            "min_width": null,
            "object_fit": null,
            "object_position": null,
            "order": null,
            "overflow": null,
            "overflow_x": null,
            "overflow_y": null,
            "padding": null,
            "right": null,
            "top": null,
            "visibility": null,
            "width": null
          }
        },
        "9c05f1f93a2c4da490ea54836e187f4c": {
          "model_module": "@jupyter-widgets/controls",
          "model_name": "DescriptionStyleModel",
          "model_module_version": "1.5.0",
          "state": {
            "_model_module": "@jupyter-widgets/controls",
            "_model_module_version": "1.5.0",
            "_model_name": "DescriptionStyleModel",
            "_view_count": null,
            "_view_module": "@jupyter-widgets/base",
            "_view_module_version": "1.2.0",
            "_view_name": "StyleView",
            "description_width": ""
          }
        },
        "dc90ea740ef044d7970547cf71a27df2": {
          "model_module": "@jupyter-widgets/controls",
          "model_name": "HBoxModel",
          "model_module_version": "1.5.0",
          "state": {
            "_dom_classes": [],
            "_model_module": "@jupyter-widgets/controls",
            "_model_module_version": "1.5.0",
            "_model_name": "HBoxModel",
            "_view_count": null,
            "_view_module": "@jupyter-widgets/controls",
            "_view_module_version": "1.5.0",
            "_view_name": "HBoxView",
            "box_style": "",
            "children": [
              "IPY_MODEL_f8275607c211455cad505d2fb8714eef",
              "IPY_MODEL_e67432e6b23b4b34a511f5e6b41775f8",
              "IPY_MODEL_3313847c38b24065b6b5b73760c8cc07"
            ],
            "layout": "IPY_MODEL_ae0a8ffe227d4919939a784fee5fa385"
          }
        },
        "f8275607c211455cad505d2fb8714eef": {
          "model_module": "@jupyter-widgets/controls",
          "model_name": "HTMLModel",
          "model_module_version": "1.5.0",
          "state": {
            "_dom_classes": [],
            "_model_module": "@jupyter-widgets/controls",
            "_model_module_version": "1.5.0",
            "_model_name": "HTMLModel",
            "_view_count": null,
            "_view_module": "@jupyter-widgets/controls",
            "_view_module_version": "1.5.0",
            "_view_name": "HTMLView",
            "description": "",
            "description_tooltip": null,
            "layout": "IPY_MODEL_31d521a5a5ee4fd7aec93e7255b828fc",
            "placeholder": "​",
            "style": "IPY_MODEL_5621f9496c2a423e97562d7a206ec4d5",
            "value": "vocab.json: 100%"
          }
        },
        "e67432e6b23b4b34a511f5e6b41775f8": {
          "model_module": "@jupyter-widgets/controls",
          "model_name": "FloatProgressModel",
          "model_module_version": "1.5.0",
          "state": {
            "_dom_classes": [],
            "_model_module": "@jupyter-widgets/controls",
            "_model_module_version": "1.5.0",
            "_model_name": "FloatProgressModel",
            "_view_count": null,
            "_view_module": "@jupyter-widgets/controls",
            "_view_module_version": "1.5.0",
            "_view_name": "ProgressView",
            "bar_style": "success",
            "description": "",
            "description_tooltip": null,
            "layout": "IPY_MODEL_2a04cba5a983441a8f4a32aee249c89d",
            "max": 1042301,
            "min": 0,
            "orientation": "horizontal",
            "style": "IPY_MODEL_a0bdf596026d49388bf4b969c7b5d343",
            "value": 1042301
          }
        },
        "3313847c38b24065b6b5b73760c8cc07": {
          "model_module": "@jupyter-widgets/controls",
          "model_name": "HTMLModel",
          "model_module_version": "1.5.0",
          "state": {
            "_dom_classes": [],
            "_model_module": "@jupyter-widgets/controls",
            "_model_module_version": "1.5.0",
            "_model_name": "HTMLModel",
            "_view_count": null,
            "_view_module": "@jupyter-widgets/controls",
            "_view_module_version": "1.5.0",
            "_view_name": "HTMLView",
            "description": "",
            "description_tooltip": null,
            "layout": "IPY_MODEL_103ae5390b534b21bc59cc576faa82fa",
            "placeholder": "​",
            "style": "IPY_MODEL_9fe62442bf1c4025b623e5278597c6dc",
            "value": " 1.04M/1.04M [00:00&lt;00:00, 13.9MB/s]"
          }
        },
        "ae0a8ffe227d4919939a784fee5fa385": {
          "model_module": "@jupyter-widgets/base",
          "model_name": "LayoutModel",
          "model_module_version": "1.2.0",
          "state": {
            "_model_module": "@jupyter-widgets/base",
            "_model_module_version": "1.2.0",
            "_model_name": "LayoutModel",
            "_view_count": null,
            "_view_module": "@jupyter-widgets/base",
            "_view_module_version": "1.2.0",
            "_view_name": "LayoutView",
            "align_content": null,
            "align_items": null,
            "align_self": null,
            "border": null,
            "bottom": null,
            "display": null,
            "flex": null,
            "flex_flow": null,
            "grid_area": null,
            "grid_auto_columns": null,
            "grid_auto_flow": null,
            "grid_auto_rows": null,
            "grid_column": null,
            "grid_gap": null,
            "grid_row": null,
            "grid_template_areas": null,
            "grid_template_columns": null,
            "grid_template_rows": null,
            "height": null,
            "justify_content": null,
            "justify_items": null,
            "left": null,
            "margin": null,
            "max_height": null,
            "max_width": null,
            "min_height": null,
            "min_width": null,
            "object_fit": null,
            "object_position": null,
            "order": null,
            "overflow": null,
            "overflow_x": null,
            "overflow_y": null,
            "padding": null,
            "right": null,
            "top": null,
            "visibility": null,
            "width": null
          }
        },
        "31d521a5a5ee4fd7aec93e7255b828fc": {
          "model_module": "@jupyter-widgets/base",
          "model_name": "LayoutModel",
          "model_module_version": "1.2.0",
          "state": {
            "_model_module": "@jupyter-widgets/base",
            "_model_module_version": "1.2.0",
            "_model_name": "LayoutModel",
            "_view_count": null,
            "_view_module": "@jupyter-widgets/base",
            "_view_module_version": "1.2.0",
            "_view_name": "LayoutView",
            "align_content": null,
            "align_items": null,
            "align_self": null,
            "border": null,
            "bottom": null,
            "display": null,
            "flex": null,
            "flex_flow": null,
            "grid_area": null,
            "grid_auto_columns": null,
            "grid_auto_flow": null,
            "grid_auto_rows": null,
            "grid_column": null,
            "grid_gap": null,
            "grid_row": null,
            "grid_template_areas": null,
            "grid_template_columns": null,
            "grid_template_rows": null,
            "height": null,
            "justify_content": null,
            "justify_items": null,
            "left": null,
            "margin": null,
            "max_height": null,
            "max_width": null,
            "min_height": null,
            "min_width": null,
            "object_fit": null,
            "object_position": null,
            "order": null,
            "overflow": null,
            "overflow_x": null,
            "overflow_y": null,
            "padding": null,
            "right": null,
            "top": null,
            "visibility": null,
            "width": null
          }
        },
        "5621f9496c2a423e97562d7a206ec4d5": {
          "model_module": "@jupyter-widgets/controls",
          "model_name": "DescriptionStyleModel",
          "model_module_version": "1.5.0",
          "state": {
            "_model_module": "@jupyter-widgets/controls",
            "_model_module_version": "1.5.0",
            "_model_name": "DescriptionStyleModel",
            "_view_count": null,
            "_view_module": "@jupyter-widgets/base",
            "_view_module_version": "1.2.0",
            "_view_name": "StyleView",
            "description_width": ""
          }
        },
        "2a04cba5a983441a8f4a32aee249c89d": {
          "model_module": "@jupyter-widgets/base",
          "model_name": "LayoutModel",
          "model_module_version": "1.2.0",
          "state": {
            "_model_module": "@jupyter-widgets/base",
            "_model_module_version": "1.2.0",
            "_model_name": "LayoutModel",
            "_view_count": null,
            "_view_module": "@jupyter-widgets/base",
            "_view_module_version": "1.2.0",
            "_view_name": "LayoutView",
            "align_content": null,
            "align_items": null,
            "align_self": null,
            "border": null,
            "bottom": null,
            "display": null,
            "flex": null,
            "flex_flow": null,
            "grid_area": null,
            "grid_auto_columns": null,
            "grid_auto_flow": null,
            "grid_auto_rows": null,
            "grid_column": null,
            "grid_gap": null,
            "grid_row": null,
            "grid_template_areas": null,
            "grid_template_columns": null,
            "grid_template_rows": null,
            "height": null,
            "justify_content": null,
            "justify_items": null,
            "left": null,
            "margin": null,
            "max_height": null,
            "max_width": null,
            "min_height": null,
            "min_width": null,
            "object_fit": null,
            "object_position": null,
            "order": null,
            "overflow": null,
            "overflow_x": null,
            "overflow_y": null,
            "padding": null,
            "right": null,
            "top": null,
            "visibility": null,
            "width": null
          }
        },
        "a0bdf596026d49388bf4b969c7b5d343": {
          "model_module": "@jupyter-widgets/controls",
          "model_name": "ProgressStyleModel",
          "model_module_version": "1.5.0",
          "state": {
            "_model_module": "@jupyter-widgets/controls",
            "_model_module_version": "1.5.0",
            "_model_name": "ProgressStyleModel",
            "_view_count": null,
            "_view_module": "@jupyter-widgets/base",
            "_view_module_version": "1.2.0",
            "_view_name": "StyleView",
            "bar_color": null,
            "description_width": ""
          }
        },
        "103ae5390b534b21bc59cc576faa82fa": {
          "model_module": "@jupyter-widgets/base",
          "model_name": "LayoutModel",
          "model_module_version": "1.2.0",
          "state": {
            "_model_module": "@jupyter-widgets/base",
            "_model_module_version": "1.2.0",
            "_model_name": "LayoutModel",
            "_view_count": null,
            "_view_module": "@jupyter-widgets/base",
            "_view_module_version": "1.2.0",
            "_view_name": "LayoutView",
            "align_content": null,
            "align_items": null,
            "align_self": null,
            "border": null,
            "bottom": null,
            "display": null,
            "flex": null,
            "flex_flow": null,
            "grid_area": null,
            "grid_auto_columns": null,
            "grid_auto_flow": null,
            "grid_auto_rows": null,
            "grid_column": null,
            "grid_gap": null,
            "grid_row": null,
            "grid_template_areas": null,
            "grid_template_columns": null,
            "grid_template_rows": null,
            "height": null,
            "justify_content": null,
            "justify_items": null,
            "left": null,
            "margin": null,
            "max_height": null,
            "max_width": null,
            "min_height": null,
            "min_width": null,
            "object_fit": null,
            "object_position": null,
            "order": null,
            "overflow": null,
            "overflow_x": null,
            "overflow_y": null,
            "padding": null,
            "right": null,
            "top": null,
            "visibility": null,
            "width": null
          }
        },
        "9fe62442bf1c4025b623e5278597c6dc": {
          "model_module": "@jupyter-widgets/controls",
          "model_name": "DescriptionStyleModel",
          "model_module_version": "1.5.0",
          "state": {
            "_model_module": "@jupyter-widgets/controls",
            "_model_module_version": "1.5.0",
            "_model_name": "DescriptionStyleModel",
            "_view_count": null,
            "_view_module": "@jupyter-widgets/base",
            "_view_module_version": "1.2.0",
            "_view_name": "StyleView",
            "description_width": ""
          }
        },
        "0eb45b74752e4a42acb19e360b161b9a": {
          "model_module": "@jupyter-widgets/controls",
          "model_name": "HBoxModel",
          "model_module_version": "1.5.0",
          "state": {
            "_dom_classes": [],
            "_model_module": "@jupyter-widgets/controls",
            "_model_module_version": "1.5.0",
            "_model_name": "HBoxModel",
            "_view_count": null,
            "_view_module": "@jupyter-widgets/controls",
            "_view_module_version": "1.5.0",
            "_view_name": "HBoxView",
            "box_style": "",
            "children": [
              "IPY_MODEL_d0fe88473ec64ef98c3110dda1e65023",
              "IPY_MODEL_e18c32ccce5947dd8be437629ae58000",
              "IPY_MODEL_401f28e9d1a445daa324392f7dd2fb66"
            ],
            "layout": "IPY_MODEL_9a5728b5dc1e4273b19245148bf717cf"
          }
        },
        "d0fe88473ec64ef98c3110dda1e65023": {
          "model_module": "@jupyter-widgets/controls",
          "model_name": "HTMLModel",
          "model_module_version": "1.5.0",
          "state": {
            "_dom_classes": [],
            "_model_module": "@jupyter-widgets/controls",
            "_model_module_version": "1.5.0",
            "_model_name": "HTMLModel",
            "_view_count": null,
            "_view_module": "@jupyter-widgets/controls",
            "_view_module_version": "1.5.0",
            "_view_name": "HTMLView",
            "description": "",
            "description_tooltip": null,
            "layout": "IPY_MODEL_6e5723bfdefc428aa2315b14cf65d3f3",
            "placeholder": "​",
            "style": "IPY_MODEL_671f65c971b740aea3575a922aa1e819",
            "value": "merges.txt: 100%"
          }
        },
        "e18c32ccce5947dd8be437629ae58000": {
          "model_module": "@jupyter-widgets/controls",
          "model_name": "FloatProgressModel",
          "model_module_version": "1.5.0",
          "state": {
            "_dom_classes": [],
            "_model_module": "@jupyter-widgets/controls",
            "_model_module_version": "1.5.0",
            "_model_name": "FloatProgressModel",
            "_view_count": null,
            "_view_module": "@jupyter-widgets/controls",
            "_view_module_version": "1.5.0",
            "_view_name": "ProgressView",
            "bar_style": "success",
            "description": "",
            "description_tooltip": null,
            "layout": "IPY_MODEL_1ae5d1e1d0bc43e29d41bb1037b40bea",
            "max": 456318,
            "min": 0,
            "orientation": "horizontal",
            "style": "IPY_MODEL_65c812c17e9843aa9859a76c7d3dec6e",
            "value": 456318
          }
        },
        "401f28e9d1a445daa324392f7dd2fb66": {
          "model_module": "@jupyter-widgets/controls",
          "model_name": "HTMLModel",
          "model_module_version": "1.5.0",
          "state": {
            "_dom_classes": [],
            "_model_module": "@jupyter-widgets/controls",
            "_model_module_version": "1.5.0",
            "_model_name": "HTMLModel",
            "_view_count": null,
            "_view_module": "@jupyter-widgets/controls",
            "_view_module_version": "1.5.0",
            "_view_name": "HTMLView",
            "description": "",
            "description_tooltip": null,
            "layout": "IPY_MODEL_6897fcc982f34333bcdbcb45ff13cd69",
            "placeholder": "​",
            "style": "IPY_MODEL_2554c10ac4d149aeb2134f58a80af5ed",
            "value": " 456k/456k [00:00&lt;00:00, 32.1MB/s]"
          }
        },
        "9a5728b5dc1e4273b19245148bf717cf": {
          "model_module": "@jupyter-widgets/base",
          "model_name": "LayoutModel",
          "model_module_version": "1.2.0",
          "state": {
            "_model_module": "@jupyter-widgets/base",
            "_model_module_version": "1.2.0",
            "_model_name": "LayoutModel",
            "_view_count": null,
            "_view_module": "@jupyter-widgets/base",
            "_view_module_version": "1.2.0",
            "_view_name": "LayoutView",
            "align_content": null,
            "align_items": null,
            "align_self": null,
            "border": null,
            "bottom": null,
            "display": null,
            "flex": null,
            "flex_flow": null,
            "grid_area": null,
            "grid_auto_columns": null,
            "grid_auto_flow": null,
            "grid_auto_rows": null,
            "grid_column": null,
            "grid_gap": null,
            "grid_row": null,
            "grid_template_areas": null,
            "grid_template_columns": null,
            "grid_template_rows": null,
            "height": null,
            "justify_content": null,
            "justify_items": null,
            "left": null,
            "margin": null,
            "max_height": null,
            "max_width": null,
            "min_height": null,
            "min_width": null,
            "object_fit": null,
            "object_position": null,
            "order": null,
            "overflow": null,
            "overflow_x": null,
            "overflow_y": null,
            "padding": null,
            "right": null,
            "top": null,
            "visibility": null,
            "width": null
          }
        },
        "6e5723bfdefc428aa2315b14cf65d3f3": {
          "model_module": "@jupyter-widgets/base",
          "model_name": "LayoutModel",
          "model_module_version": "1.2.0",
          "state": {
            "_model_module": "@jupyter-widgets/base",
            "_model_module_version": "1.2.0",
            "_model_name": "LayoutModel",
            "_view_count": null,
            "_view_module": "@jupyter-widgets/base",
            "_view_module_version": "1.2.0",
            "_view_name": "LayoutView",
            "align_content": null,
            "align_items": null,
            "align_self": null,
            "border": null,
            "bottom": null,
            "display": null,
            "flex": null,
            "flex_flow": null,
            "grid_area": null,
            "grid_auto_columns": null,
            "grid_auto_flow": null,
            "grid_auto_rows": null,
            "grid_column": null,
            "grid_gap": null,
            "grid_row": null,
            "grid_template_areas": null,
            "grid_template_columns": null,
            "grid_template_rows": null,
            "height": null,
            "justify_content": null,
            "justify_items": null,
            "left": null,
            "margin": null,
            "max_height": null,
            "max_width": null,
            "min_height": null,
            "min_width": null,
            "object_fit": null,
            "object_position": null,
            "order": null,
            "overflow": null,
            "overflow_x": null,
            "overflow_y": null,
            "padding": null,
            "right": null,
            "top": null,
            "visibility": null,
            "width": null
          }
        },
        "671f65c971b740aea3575a922aa1e819": {
          "model_module": "@jupyter-widgets/controls",
          "model_name": "DescriptionStyleModel",
          "model_module_version": "1.5.0",
          "state": {
            "_model_module": "@jupyter-widgets/controls",
            "_model_module_version": "1.5.0",
            "_model_name": "DescriptionStyleModel",
            "_view_count": null,
            "_view_module": "@jupyter-widgets/base",
            "_view_module_version": "1.2.0",
            "_view_name": "StyleView",
            "description_width": ""
          }
        },
        "1ae5d1e1d0bc43e29d41bb1037b40bea": {
          "model_module": "@jupyter-widgets/base",
          "model_name": "LayoutModel",
          "model_module_version": "1.2.0",
          "state": {
            "_model_module": "@jupyter-widgets/base",
            "_model_module_version": "1.2.0",
            "_model_name": "LayoutModel",
            "_view_count": null,
            "_view_module": "@jupyter-widgets/base",
            "_view_module_version": "1.2.0",
            "_view_name": "LayoutView",
            "align_content": null,
            "align_items": null,
            "align_self": null,
            "border": null,
            "bottom": null,
            "display": null,
            "flex": null,
            "flex_flow": null,
            "grid_area": null,
            "grid_auto_columns": null,
            "grid_auto_flow": null,
            "grid_auto_rows": null,
            "grid_column": null,
            "grid_gap": null,
            "grid_row": null,
            "grid_template_areas": null,
            "grid_template_columns": null,
            "grid_template_rows": null,
            "height": null,
            "justify_content": null,
            "justify_items": null,
            "left": null,
            "margin": null,
            "max_height": null,
            "max_width": null,
            "min_height": null,
            "min_width": null,
            "object_fit": null,
            "object_position": null,
            "order": null,
            "overflow": null,
            "overflow_x": null,
            "overflow_y": null,
            "padding": null,
            "right": null,
            "top": null,
            "visibility": null,
            "width": null
          }
        },
        "65c812c17e9843aa9859a76c7d3dec6e": {
          "model_module": "@jupyter-widgets/controls",
          "model_name": "ProgressStyleModel",
          "model_module_version": "1.5.0",
          "state": {
            "_model_module": "@jupyter-widgets/controls",
            "_model_module_version": "1.5.0",
            "_model_name": "ProgressStyleModel",
            "_view_count": null,
            "_view_module": "@jupyter-widgets/base",
            "_view_module_version": "1.2.0",
            "_view_name": "StyleView",
            "bar_color": null,
            "description_width": ""
          }
        },
        "6897fcc982f34333bcdbcb45ff13cd69": {
          "model_module": "@jupyter-widgets/base",
          "model_name": "LayoutModel",
          "model_module_version": "1.2.0",
          "state": {
            "_model_module": "@jupyter-widgets/base",
            "_model_module_version": "1.2.0",
            "_model_name": "LayoutModel",
            "_view_count": null,
            "_view_module": "@jupyter-widgets/base",
            "_view_module_version": "1.2.0",
            "_view_name": "LayoutView",
            "align_content": null,
            "align_items": null,
            "align_self": null,
            "border": null,
            "bottom": null,
            "display": null,
            "flex": null,
            "flex_flow": null,
            "grid_area": null,
            "grid_auto_columns": null,
            "grid_auto_flow": null,
            "grid_auto_rows": null,
            "grid_column": null,
            "grid_gap": null,
            "grid_row": null,
            "grid_template_areas": null,
            "grid_template_columns": null,
            "grid_template_rows": null,
            "height": null,
            "justify_content": null,
            "justify_items": null,
            "left": null,
            "margin": null,
            "max_height": null,
            "max_width": null,
            "min_height": null,
            "min_width": null,
            "object_fit": null,
            "object_position": null,
            "order": null,
            "overflow": null,
            "overflow_x": null,
            "overflow_y": null,
            "padding": null,
            "right": null,
            "top": null,
            "visibility": null,
            "width": null
          }
        },
        "2554c10ac4d149aeb2134f58a80af5ed": {
          "model_module": "@jupyter-widgets/controls",
          "model_name": "DescriptionStyleModel",
          "model_module_version": "1.5.0",
          "state": {
            "_model_module": "@jupyter-widgets/controls",
            "_model_module_version": "1.5.0",
            "_model_name": "DescriptionStyleModel",
            "_view_count": null,
            "_view_module": "@jupyter-widgets/base",
            "_view_module_version": "1.2.0",
            "_view_name": "StyleView",
            "description_width": ""
          }
        },
        "ecbfc1530c444b73bcb3f0e48383a988": {
          "model_module": "@jupyter-widgets/controls",
          "model_name": "HBoxModel",
          "model_module_version": "1.5.0",
          "state": {
            "_dom_classes": [],
            "_model_module": "@jupyter-widgets/controls",
            "_model_module_version": "1.5.0",
            "_model_name": "HBoxModel",
            "_view_count": null,
            "_view_module": "@jupyter-widgets/controls",
            "_view_module_version": "1.5.0",
            "_view_name": "HBoxView",
            "box_style": "",
            "children": [
              "IPY_MODEL_04b3119a97164bed8ef649dbeace2ce7",
              "IPY_MODEL_ab1389a22c474cc2b939465d39e45e53",
              "IPY_MODEL_09a04473d2534222afbe87fbdb03b2c0"
            ],
            "layout": "IPY_MODEL_95d86253c86c462480a7def6eb4774cd"
          }
        },
        "04b3119a97164bed8ef649dbeace2ce7": {
          "model_module": "@jupyter-widgets/controls",
          "model_name": "HTMLModel",
          "model_module_version": "1.5.0",
          "state": {
            "_dom_classes": [],
            "_model_module": "@jupyter-widgets/controls",
            "_model_module_version": "1.5.0",
            "_model_name": "HTMLModel",
            "_view_count": null,
            "_view_module": "@jupyter-widgets/controls",
            "_view_module_version": "1.5.0",
            "_view_name": "HTMLView",
            "description": "",
            "description_tooltip": null,
            "layout": "IPY_MODEL_442435e390874c51a2744743d06d85a5",
            "placeholder": "​",
            "style": "IPY_MODEL_09a3303ed01c4bb387f86f06967d46f8",
            "value": "tokenizer.json: 100%"
          }
        },
        "ab1389a22c474cc2b939465d39e45e53": {
          "model_module": "@jupyter-widgets/controls",
          "model_name": "FloatProgressModel",
          "model_module_version": "1.5.0",
          "state": {
            "_dom_classes": [],
            "_model_module": "@jupyter-widgets/controls",
            "_model_module_version": "1.5.0",
            "_model_name": "FloatProgressModel",
            "_view_count": null,
            "_view_module": "@jupyter-widgets/controls",
            "_view_module_version": "1.5.0",
            "_view_name": "ProgressView",
            "bar_style": "success",
            "description": "",
            "description_tooltip": null,
            "layout": "IPY_MODEL_794731afa7a34badab0decabdee8fe0b",
            "max": 1355256,
            "min": 0,
            "orientation": "horizontal",
            "style": "IPY_MODEL_5428e08c647f44acb5bb2f62b4074f00",
            "value": 1355256
          }
        },
        "09a04473d2534222afbe87fbdb03b2c0": {
          "model_module": "@jupyter-widgets/controls",
          "model_name": "HTMLModel",
          "model_module_version": "1.5.0",
          "state": {
            "_dom_classes": [],
            "_model_module": "@jupyter-widgets/controls",
            "_model_module_version": "1.5.0",
            "_model_name": "HTMLModel",
            "_view_count": null,
            "_view_module": "@jupyter-widgets/controls",
            "_view_module_version": "1.5.0",
            "_view_name": "HTMLView",
            "description": "",
            "description_tooltip": null,
            "layout": "IPY_MODEL_81465cfc31504118bae78582597546a5",
            "placeholder": "​",
            "style": "IPY_MODEL_594bd3cc0a8144479d4f86c78636f411",
            "value": " 1.36M/1.36M [00:00&lt;00:00, 6.29MB/s]"
          }
        },
        "95d86253c86c462480a7def6eb4774cd": {
          "model_module": "@jupyter-widgets/base",
          "model_name": "LayoutModel",
          "model_module_version": "1.2.0",
          "state": {
            "_model_module": "@jupyter-widgets/base",
            "_model_module_version": "1.2.0",
            "_model_name": "LayoutModel",
            "_view_count": null,
            "_view_module": "@jupyter-widgets/base",
            "_view_module_version": "1.2.0",
            "_view_name": "LayoutView",
            "align_content": null,
            "align_items": null,
            "align_self": null,
            "border": null,
            "bottom": null,
            "display": null,
            "flex": null,
            "flex_flow": null,
            "grid_area": null,
            "grid_auto_columns": null,
            "grid_auto_flow": null,
            "grid_auto_rows": null,
            "grid_column": null,
            "grid_gap": null,
            "grid_row": null,
            "grid_template_areas": null,
            "grid_template_columns": null,
            "grid_template_rows": null,
            "height": null,
            "justify_content": null,
            "justify_items": null,
            "left": null,
            "margin": null,
            "max_height": null,
            "max_width": null,
            "min_height": null,
            "min_width": null,
            "object_fit": null,
            "object_position": null,
            "order": null,
            "overflow": null,
            "overflow_x": null,
            "overflow_y": null,
            "padding": null,
            "right": null,
            "top": null,
            "visibility": null,
            "width": null
          }
        },
        "442435e390874c51a2744743d06d85a5": {
          "model_module": "@jupyter-widgets/base",
          "model_name": "LayoutModel",
          "model_module_version": "1.2.0",
          "state": {
            "_model_module": "@jupyter-widgets/base",
            "_model_module_version": "1.2.0",
            "_model_name": "LayoutModel",
            "_view_count": null,
            "_view_module": "@jupyter-widgets/base",
            "_view_module_version": "1.2.0",
            "_view_name": "LayoutView",
            "align_content": null,
            "align_items": null,
            "align_self": null,
            "border": null,
            "bottom": null,
            "display": null,
            "flex": null,
            "flex_flow": null,
            "grid_area": null,
            "grid_auto_columns": null,
            "grid_auto_flow": null,
            "grid_auto_rows": null,
            "grid_column": null,
            "grid_gap": null,
            "grid_row": null,
            "grid_template_areas": null,
            "grid_template_columns": null,
            "grid_template_rows": null,
            "height": null,
            "justify_content": null,
            "justify_items": null,
            "left": null,
            "margin": null,
            "max_height": null,
            "max_width": null,
            "min_height": null,
            "min_width": null,
            "object_fit": null,
            "object_position": null,
            "order": null,
            "overflow": null,
            "overflow_x": null,
            "overflow_y": null,
            "padding": null,
            "right": null,
            "top": null,
            "visibility": null,
            "width": null
          }
        },
        "09a3303ed01c4bb387f86f06967d46f8": {
          "model_module": "@jupyter-widgets/controls",
          "model_name": "DescriptionStyleModel",
          "model_module_version": "1.5.0",
          "state": {
            "_model_module": "@jupyter-widgets/controls",
            "_model_module_version": "1.5.0",
            "_model_name": "DescriptionStyleModel",
            "_view_count": null,
            "_view_module": "@jupyter-widgets/base",
            "_view_module_version": "1.2.0",
            "_view_name": "StyleView",
            "description_width": ""
          }
        },
        "794731afa7a34badab0decabdee8fe0b": {
          "model_module": "@jupyter-widgets/base",
          "model_name": "LayoutModel",
          "model_module_version": "1.2.0",
          "state": {
            "_model_module": "@jupyter-widgets/base",
            "_model_module_version": "1.2.0",
            "_model_name": "LayoutModel",
            "_view_count": null,
            "_view_module": "@jupyter-widgets/base",
            "_view_module_version": "1.2.0",
            "_view_name": "LayoutView",
            "align_content": null,
            "align_items": null,
            "align_self": null,
            "border": null,
            "bottom": null,
            "display": null,
            "flex": null,
            "flex_flow": null,
            "grid_area": null,
            "grid_auto_columns": null,
            "grid_auto_flow": null,
            "grid_auto_rows": null,
            "grid_column": null,
            "grid_gap": null,
            "grid_row": null,
            "grid_template_areas": null,
            "grid_template_columns": null,
            "grid_template_rows": null,
            "height": null,
            "justify_content": null,
            "justify_items": null,
            "left": null,
            "margin": null,
            "max_height": null,
            "max_width": null,
            "min_height": null,
            "min_width": null,
            "object_fit": null,
            "object_position": null,
            "order": null,
            "overflow": null,
            "overflow_x": null,
            "overflow_y": null,
            "padding": null,
            "right": null,
            "top": null,
            "visibility": null,
            "width": null
          }
        },
        "5428e08c647f44acb5bb2f62b4074f00": {
          "model_module": "@jupyter-widgets/controls",
          "model_name": "ProgressStyleModel",
          "model_module_version": "1.5.0",
          "state": {
            "_model_module": "@jupyter-widgets/controls",
            "_model_module_version": "1.5.0",
            "_model_name": "ProgressStyleModel",
            "_view_count": null,
            "_view_module": "@jupyter-widgets/base",
            "_view_module_version": "1.2.0",
            "_view_name": "StyleView",
            "bar_color": null,
            "description_width": ""
          }
        },
        "81465cfc31504118bae78582597546a5": {
          "model_module": "@jupyter-widgets/base",
          "model_name": "LayoutModel",
          "model_module_version": "1.2.0",
          "state": {
            "_model_module": "@jupyter-widgets/base",
            "_model_module_version": "1.2.0",
            "_model_name": "LayoutModel",
            "_view_count": null,
            "_view_module": "@jupyter-widgets/base",
            "_view_module_version": "1.2.0",
            "_view_name": "LayoutView",
            "align_content": null,
            "align_items": null,
            "align_self": null,
            "border": null,
            "bottom": null,
            "display": null,
            "flex": null,
            "flex_flow": null,
            "grid_area": null,
            "grid_auto_columns": null,
            "grid_auto_flow": null,
            "grid_auto_rows": null,
            "grid_column": null,
            "grid_gap": null,
            "grid_row": null,
            "grid_template_areas": null,
            "grid_template_columns": null,
            "grid_template_rows": null,
            "height": null,
            "justify_content": null,
            "justify_items": null,
            "left": null,
            "margin": null,
            "max_height": null,
            "max_width": null,
            "min_height": null,
            "min_width": null,
            "object_fit": null,
            "object_position": null,
            "order": null,
            "overflow": null,
            "overflow_x": null,
            "overflow_y": null,
            "padding": null,
            "right": null,
            "top": null,
            "visibility": null,
            "width": null
          }
        },
        "594bd3cc0a8144479d4f86c78636f411": {
          "model_module": "@jupyter-widgets/controls",
          "model_name": "DescriptionStyleModel",
          "model_module_version": "1.5.0",
          "state": {
            "_model_module": "@jupyter-widgets/controls",
            "_model_module_version": "1.5.0",
            "_model_name": "DescriptionStyleModel",
            "_view_count": null,
            "_view_module": "@jupyter-widgets/base",
            "_view_module_version": "1.2.0",
            "_view_name": "StyleView",
            "description_width": ""
          }
        }
      }
    }
  },
  "cells": [
    {
      "cell_type": "markdown",
      "metadata": {
        "id": "view-in-github",
        "colab_type": "text"
      },
      "source": [
        "<a href=\"https://colab.research.google.com/github/zwimpee/cursivetransformer/blob/main/arena3_chapter1_transformer_interp.ipynb\" target=\"_parent\"><img src=\"https://colab.research.google.com/assets/colab-badge.svg\" alt=\"Open In Colab\"/></a>"
      ]
    },
    {
      "cell_type": "markdown",
      "source": [
        "# ARENA 3.0 Exercises and Notes\n",
        "\n",
        "Zach Wimpee\n",
        "\n",
        "This notebook serves to host the work I will be doing to get more up to speed with the technical details surrounding applying ME techniques to transformers. In particular, this notebook will be used as a kind of scratchpad for the related work I am doing which can be found in this notebook: https://github.com/zwimpee/cursivetransformer/blob/main/arena3_chapter1_transformer_interp.ipynb\n",
        "\n",
        "The exercises in this notebook originate from the following notebook: https://colab.research.google.com/drive/1gZdHsBL8Ljq7nSWJtxxlsI4JWHmllxxP?usp=sharing"
      ],
      "metadata": {
        "id": "Exvb8yaX9rny"
      }
    },
    {
      "cell_type": "markdown",
      "source": [
        "# [1.2] Intro to Mechanistic Interpretability: TransformerLens & induction circuits\n"
      ],
      "metadata": {
        "id": "XNkMsZEpM6jA"
      }
    },
    {
      "cell_type": "markdown",
      "metadata": {
        "id": "03JpEpAd2Elc"
      },
      "source": [
        "Colab: [exercises](https://colab.research.google.com/drive/1gZdHsBL8Ljq7nSWJtxxlsI4JWHmllxxP?usp=sharing) | [solutions](https://colab.research.google.com/drive/1TVHaqN7if-8aCmc06t8CAIaHUlhJ4ek7?usp=sharing)\n",
        "\n",
        "[Streamlit page](https://arena3-chapter1-transformer-interp.streamlit.app/[1.2]_Intro_to_Mech_Interp)\n",
        "\n",
        "Please send any problems / bugs on the `#errata` channel in the [Slack group](https://join.slack.com/t/arena-uk/shared_invite/zt-2noug8mpy-TRYbCnc3pzj7ITNrZIjKww), and ask any questions on the dedicated channels for this chapter of material."
      ]
    },
    {
      "cell_type": "markdown",
      "metadata": {
        "id": "DvzNe4Rx2Yqt"
      },
      "source": [
        "<img src=\"https://raw.githubusercontent.com/callummcdougall/computational-thread-art/master/example_images/misc/lens2.png\" width=\"350\">\n"
      ]
    },
    {
      "cell_type": "markdown",
      "metadata": {
        "id": "B_KIvEj9BatC"
      },
      "source": [
        "# Introduction"
      ]
    },
    {
      "cell_type": "markdown",
      "metadata": {
        "id": "6OmTCWiQhNm7"
      },
      "source": [
        "These pages are designed to get you introduced to the core concepts of mechanistic interpretability, via Neel Nanda's **TransformerLens** library.\n",
        "\n",
        "Most of the sections are constructed in the following way:\n",
        "\n",
        "1. A particular feature of TransformerLens is introduced.\n",
        "2. You are given an exercise, in which you have to apply the feature.\n",
        "\n",
        "The running theme of the exercises is **induction circuits**. Induction circuits are a particular type of circuit in a transformer, which can perform basic in-context learning. You should read the [corresponding section of Neel's glossary](https://dynalist.io/d/n2ZWtnoYHrU1s4vnFSAQ519J#z=_Jzi6YHRHKP1JziwdE02qdYZ), before continuing. This [LessWrong post](https://www.lesswrong.com/posts/TvrfY4c9eaGLeyDkE/induction-heads-illustrated) might also help; it contains some diagrams (like the one below) which walk through the induction mechanism step by step.\n",
        "\n",
        "Each exercise will have a difficulty and importance rating out of 5, as well as an estimated maximum time you should spend on these exercises and sometimes a short annotation. You should interpret the ratings & time estimates relatively (e.g. if you find yourself spending about 50% longer on the exercises than the time estimates, adjust accordingly). Please do skip exercises / look at solutions if you don't feel like they're important enough to be worth doing, and you'd rather get to the good stuff!\n"
      ]
    },
    {
      "cell_type": "markdown",
      "metadata": {
        "id": "XglOwgi1_6o5"
      },
      "source": [
        "<img src=\"https://raw.githubusercontent.com/callummcdougall/computational-thread-art/master/example_images/misc/kcomp_diagram.png\" width=\"1000\">\n"
      ]
    },
    {
      "cell_type": "markdown",
      "metadata": {
        "id": "iSm-jMXOBWGU"
      },
      "source": [
        "## Content & Learning Objectives\n"
      ]
    },
    {
      "cell_type": "markdown",
      "metadata": {
        "id": "xoglhcoRhNm9"
      },
      "source": [
        "#### 1️⃣ TransformerLens: Introduction\n",
        "\n",
        "This section is designed to get you up to speed with the TransformerLens library. You'll learn how to load and run models, and learn about the shared architecture template for all of these models (the latter of which should be familiar to you if you've already done the exercises that come before these, since many of the same design principles are followed).\n",
        "\n",
        "> ##### Learning objectives\n",
        ">\n",
        "> - Load and run a `HookedTransformer` model\n",
        "> - Understand the basic architecture of these models\n",
        "> - Use the model's tokenizer to convert text to tokens, and vice versa\n",
        "> - Know how to cache activations, and to access activations from the cache\n",
        "> - Use `circuitsvis` to visualise attention heads\n",
        "\n",
        "#### 2️⃣ Finding induction heads\n",
        "\n",
        "Here, you'll learn about induction heads, how they work and why they are important. You'll also learn how to identify them from the characteristic induction head stripe in their attention patterns when the model input is a repeating sequence.\n",
        "\n",
        "> ##### Learning objectives\n",
        ">\n",
        "> - Understand what induction heads are, and the algorithm they are implementing\n",
        "> - Inspect activation patterns to identify basic attention head patterns, and write your own functions to detect attention heads for you\n",
        "> - Identify induction heads by looking at the attention patterns produced from a repeating random sequence\n",
        "\n",
        "#### 3️⃣ TransformerLens: Hooks\n",
        "\n",
        "Next, you'll learn about hooks, which are a great feature of TransformerLens allowing you to access and intervene on activations within the model. We will mainly focus on the basics of hooks and using them to access activations (we'll mainly save the causal interventions for the later IOI exercises). You will also build some tools to perform logit attribution within your model, so you can identify which components are responsible for your model's performance on certain tasks.\n",
        "\n",
        "> ##### Learning objectives\n",
        ">\n",
        "> - Understand what hooks are, and how they are used in TransformerLens\n",
        "> - Use hooks to access activations, process the results, and write them to an external tensor\n",
        "> - Build tools to perform attribution, i.e. detecting which components of your model are responsible for performance on a given task\n",
        "> - Understand how hooks can be used to perform basic interventions like **ablation**\n",
        "\n",
        "#### 4️⃣ Reverse-engineering induction circuits\n",
        "\n",
        "Lastly, these exercises show you how you can reverse-engineer a circuit by looking directly at a transformer's weights (which can be considered a \"gold standard\" of interpretability; something not possible in every situation). You'll examine QK and OV circuits by multiplying through matrices (and learn how the FactoredMatrix class makes matrices like these much easier to analyse). You'll also look for evidence of composition between two induction heads, and once you've found it then you'll investigate the functionality of the full circuit formed from this composition.\n",
        "\n",
        "> ##### Learning objectives\n",
        ">\n",
        "> - Understand the difference between investigating a circuit by looking at activtion patterns, and reverse-engineering a circuit by looking directly at the weights\n",
        "> - Use the factored matrix class to inspect the QK and OV circuits within an induction circuit\n",
        "> - Perform further exploration of induction circuits: composition scores, and targeted ablations\n"
      ]
    },
    {
      "cell_type": "markdown",
      "metadata": {
        "id": "MwPFDFbFAQfd"
      },
      "source": [
        "## Setup (don't read, just run!)\n"
      ]
    },
    {
      "cell_type": "code",
      "execution_count": 1,
      "metadata": {
        "id": "G6mV_i4LAPuB",
        "colab": {
          "base_uri": "https://localhost:8080/"
        },
        "outputId": "362b9c15-d5b1-44b2-d0ba-5b7d25e1f556"
      },
      "outputs": [
        {
          "output_type": "stream",
          "name": "stdout",
          "text": [
            "Collecting transformer_lens\n",
            "  Downloading transformer_lens-2.6.0-py3-none-any.whl.metadata (12 kB)\n",
            "Requirement already satisfied: accelerate>=0.23.0 in /usr/local/lib/python3.10/dist-packages (from transformer_lens) (0.34.2)\n",
            "Collecting beartype<0.15.0,>=0.14.1 (from transformer_lens)\n",
            "  Downloading beartype-0.14.1-py3-none-any.whl.metadata (28 kB)\n",
            "Collecting better-abc<0.0.4,>=0.0.3 (from transformer_lens)\n",
            "  Downloading better_abc-0.0.3-py3-none-any.whl.metadata (1.4 kB)\n",
            "Collecting datasets>=2.7.1 (from transformer_lens)\n",
            "  Downloading datasets-3.0.0-py3-none-any.whl.metadata (19 kB)\n",
            "Requirement already satisfied: einops>=0.6.0 in /usr/local/lib/python3.10/dist-packages (from transformer_lens) (0.8.0)\n",
            "Collecting fancy-einsum>=0.0.3 (from transformer_lens)\n",
            "  Downloading fancy_einsum-0.0.3-py3-none-any.whl.metadata (1.2 kB)\n",
            "Collecting jaxtyping>=0.2.11 (from transformer_lens)\n",
            "  Downloading jaxtyping-0.2.34-py3-none-any.whl.metadata (6.4 kB)\n",
            "Requirement already satisfied: numpy>=1.24 in /usr/local/lib/python3.10/dist-packages (from transformer_lens) (1.26.4)\n",
            "Requirement already satisfied: pandas>=1.1.5 in /usr/local/lib/python3.10/dist-packages (from transformer_lens) (2.1.4)\n",
            "Requirement already satisfied: rich>=12.6.0 in /usr/local/lib/python3.10/dist-packages (from transformer_lens) (13.8.1)\n",
            "Requirement already satisfied: sentencepiece in /usr/local/lib/python3.10/dist-packages (from transformer_lens) (0.1.99)\n",
            "Requirement already satisfied: torch>=1.10 in /usr/local/lib/python3.10/dist-packages (from transformer_lens) (2.4.1+cu121)\n",
            "Requirement already satisfied: tqdm>=4.64.1 in /usr/local/lib/python3.10/dist-packages (from transformer_lens) (4.66.5)\n",
            "Requirement already satisfied: transformers>=4.37.2 in /usr/local/lib/python3.10/dist-packages (from transformer_lens) (4.44.2)\n",
            "Requirement already satisfied: typing-extensions in /usr/local/lib/python3.10/dist-packages (from transformer_lens) (4.12.2)\n",
            "Collecting wandb>=0.13.5 (from transformer_lens)\n",
            "  Downloading wandb-0.18.1-py3-none-manylinux_2_17_x86_64.manylinux2014_x86_64.whl.metadata (9.6 kB)\n",
            "Requirement already satisfied: packaging>=20.0 in /usr/local/lib/python3.10/dist-packages (from accelerate>=0.23.0->transformer_lens) (24.1)\n",
            "Requirement already satisfied: psutil in /usr/local/lib/python3.10/dist-packages (from accelerate>=0.23.0->transformer_lens) (5.9.5)\n",
            "Requirement already satisfied: pyyaml in /usr/local/lib/python3.10/dist-packages (from accelerate>=0.23.0->transformer_lens) (6.0.2)\n",
            "Requirement already satisfied: huggingface-hub>=0.21.0 in /usr/local/lib/python3.10/dist-packages (from accelerate>=0.23.0->transformer_lens) (0.24.7)\n",
            "Requirement already satisfied: safetensors>=0.4.3 in /usr/local/lib/python3.10/dist-packages (from accelerate>=0.23.0->transformer_lens) (0.4.5)\n",
            "Requirement already satisfied: filelock in /usr/local/lib/python3.10/dist-packages (from datasets>=2.7.1->transformer_lens) (3.16.1)\n",
            "Collecting pyarrow>=15.0.0 (from datasets>=2.7.1->transformer_lens)\n",
            "  Downloading pyarrow-17.0.0-cp310-cp310-manylinux_2_28_x86_64.whl.metadata (3.3 kB)\n",
            "Collecting dill<0.3.9,>=0.3.0 (from datasets>=2.7.1->transformer_lens)\n",
            "  Downloading dill-0.3.8-py3-none-any.whl.metadata (10 kB)\n",
            "Requirement already satisfied: requests>=2.32.2 in /usr/local/lib/python3.10/dist-packages (from datasets>=2.7.1->transformer_lens) (2.32.3)\n",
            "Collecting xxhash (from datasets>=2.7.1->transformer_lens)\n",
            "  Downloading xxhash-3.5.0-cp310-cp310-manylinux_2_17_x86_64.manylinux2014_x86_64.whl.metadata (12 kB)\n",
            "Collecting multiprocess (from datasets>=2.7.1->transformer_lens)\n",
            "  Downloading multiprocess-0.70.16-py310-none-any.whl.metadata (7.2 kB)\n",
            "Requirement already satisfied: fsspec<=2024.6.1,>=2023.1.0 in /usr/local/lib/python3.10/dist-packages (from fsspec[http]<=2024.6.1,>=2023.1.0->datasets>=2.7.1->transformer_lens) (2024.6.1)\n",
            "Requirement already satisfied: aiohttp in /usr/local/lib/python3.10/dist-packages (from datasets>=2.7.1->transformer_lens) (3.10.5)\n",
            "Collecting typeguard==2.13.3 (from jaxtyping>=0.2.11->transformer_lens)\n",
            "  Downloading typeguard-2.13.3-py3-none-any.whl.metadata (3.6 kB)\n",
            "Requirement already satisfied: python-dateutil>=2.8.2 in /usr/local/lib/python3.10/dist-packages (from pandas>=1.1.5->transformer_lens) (2.8.2)\n",
            "Requirement already satisfied: pytz>=2020.1 in /usr/local/lib/python3.10/dist-packages (from pandas>=1.1.5->transformer_lens) (2024.2)\n",
            "Requirement already satisfied: tzdata>=2022.1 in /usr/local/lib/python3.10/dist-packages (from pandas>=1.1.5->transformer_lens) (2024.1)\n",
            "Requirement already satisfied: markdown-it-py>=2.2.0 in /usr/local/lib/python3.10/dist-packages (from rich>=12.6.0->transformer_lens) (3.0.0)\n",
            "Requirement already satisfied: pygments<3.0.0,>=2.13.0 in /usr/local/lib/python3.10/dist-packages (from rich>=12.6.0->transformer_lens) (2.18.0)\n",
            "Requirement already satisfied: sympy in /usr/local/lib/python3.10/dist-packages (from torch>=1.10->transformer_lens) (1.13.2)\n",
            "Requirement already satisfied: networkx in /usr/local/lib/python3.10/dist-packages (from torch>=1.10->transformer_lens) (3.3)\n",
            "Requirement already satisfied: jinja2 in /usr/local/lib/python3.10/dist-packages (from torch>=1.10->transformer_lens) (3.1.4)\n",
            "Requirement already satisfied: regex!=2019.12.17 in /usr/local/lib/python3.10/dist-packages (from transformers>=4.37.2->transformer_lens) (2024.9.11)\n",
            "Requirement already satisfied: tokenizers<0.20,>=0.19 in /usr/local/lib/python3.10/dist-packages (from transformers>=4.37.2->transformer_lens) (0.19.1)\n",
            "Requirement already satisfied: click!=8.0.0,>=7.1 in /usr/local/lib/python3.10/dist-packages (from wandb>=0.13.5->transformer_lens) (8.1.7)\n",
            "Collecting docker-pycreds>=0.4.0 (from wandb>=0.13.5->transformer_lens)\n",
            "  Downloading docker_pycreds-0.4.0-py2.py3-none-any.whl.metadata (1.8 kB)\n",
            "Collecting gitpython!=3.1.29,>=1.0.0 (from wandb>=0.13.5->transformer_lens)\n",
            "  Downloading GitPython-3.1.43-py3-none-any.whl.metadata (13 kB)\n",
            "Requirement already satisfied: platformdirs in /usr/local/lib/python3.10/dist-packages (from wandb>=0.13.5->transformer_lens) (4.3.6)\n",
            "Requirement already satisfied: protobuf!=4.21.0,!=5.28.0,<6,>=3.19.0 in /usr/local/lib/python3.10/dist-packages (from wandb>=0.13.5->transformer_lens) (3.20.3)\n",
            "Collecting sentry-sdk>=1.0.0 (from wandb>=0.13.5->transformer_lens)\n",
            "  Downloading sentry_sdk-2.14.0-py2.py3-none-any.whl.metadata (9.7 kB)\n",
            "Collecting setproctitle (from wandb>=0.13.5->transformer_lens)\n",
            "  Downloading setproctitle-1.3.3-cp310-cp310-manylinux_2_5_x86_64.manylinux1_x86_64.manylinux_2_17_x86_64.manylinux2014_x86_64.whl.metadata (9.9 kB)\n",
            "Requirement already satisfied: setuptools in /usr/local/lib/python3.10/dist-packages (from wandb>=0.13.5->transformer_lens) (71.0.4)\n",
            "Requirement already satisfied: six>=1.4.0 in /usr/local/lib/python3.10/dist-packages (from docker-pycreds>=0.4.0->wandb>=0.13.5->transformer_lens) (1.16.0)\n",
            "Requirement already satisfied: aiohappyeyeballs>=2.3.0 in /usr/local/lib/python3.10/dist-packages (from aiohttp->datasets>=2.7.1->transformer_lens) (2.4.0)\n",
            "Requirement already satisfied: aiosignal>=1.1.2 in /usr/local/lib/python3.10/dist-packages (from aiohttp->datasets>=2.7.1->transformer_lens) (1.3.1)\n",
            "Requirement already satisfied: attrs>=17.3.0 in /usr/local/lib/python3.10/dist-packages (from aiohttp->datasets>=2.7.1->transformer_lens) (24.2.0)\n",
            "Requirement already satisfied: frozenlist>=1.1.1 in /usr/local/lib/python3.10/dist-packages (from aiohttp->datasets>=2.7.1->transformer_lens) (1.4.1)\n",
            "Requirement already satisfied: multidict<7.0,>=4.5 in /usr/local/lib/python3.10/dist-packages (from aiohttp->datasets>=2.7.1->transformer_lens) (6.1.0)\n",
            "Requirement already satisfied: yarl<2.0,>=1.0 in /usr/local/lib/python3.10/dist-packages (from aiohttp->datasets>=2.7.1->transformer_lens) (1.11.1)\n",
            "Requirement already satisfied: async-timeout<5.0,>=4.0 in /usr/local/lib/python3.10/dist-packages (from aiohttp->datasets>=2.7.1->transformer_lens) (4.0.3)\n",
            "Collecting gitdb<5,>=4.0.1 (from gitpython!=3.1.29,>=1.0.0->wandb>=0.13.5->transformer_lens)\n",
            "  Downloading gitdb-4.0.11-py3-none-any.whl.metadata (1.2 kB)\n",
            "Requirement already satisfied: mdurl~=0.1 in /usr/local/lib/python3.10/dist-packages (from markdown-it-py>=2.2.0->rich>=12.6.0->transformer_lens) (0.1.2)\n",
            "Requirement already satisfied: charset-normalizer<4,>=2 in /usr/local/lib/python3.10/dist-packages (from requests>=2.32.2->datasets>=2.7.1->transformer_lens) (3.3.2)\n",
            "Requirement already satisfied: idna<4,>=2.5 in /usr/local/lib/python3.10/dist-packages (from requests>=2.32.2->datasets>=2.7.1->transformer_lens) (3.10)\n",
            "Requirement already satisfied: urllib3<3,>=1.21.1 in /usr/local/lib/python3.10/dist-packages (from requests>=2.32.2->datasets>=2.7.1->transformer_lens) (2.0.7)\n",
            "Requirement already satisfied: certifi>=2017.4.17 in /usr/local/lib/python3.10/dist-packages (from requests>=2.32.2->datasets>=2.7.1->transformer_lens) (2024.8.30)\n",
            "Requirement already satisfied: MarkupSafe>=2.0 in /usr/local/lib/python3.10/dist-packages (from jinja2->torch>=1.10->transformer_lens) (2.1.5)\n",
            "Requirement already satisfied: mpmath<1.4,>=1.1.0 in /usr/local/lib/python3.10/dist-packages (from sympy->torch>=1.10->transformer_lens) (1.3.0)\n",
            "Collecting smmap<6,>=3.0.1 (from gitdb<5,>=4.0.1->gitpython!=3.1.29,>=1.0.0->wandb>=0.13.5->transformer_lens)\n",
            "  Downloading smmap-5.0.1-py3-none-any.whl.metadata (4.3 kB)\n",
            "Downloading transformer_lens-2.6.0-py3-none-any.whl (175 kB)\n",
            "\u001b[2K   \u001b[90m━━━━━━━━━━━━━━━━━━━━━━━━━━━━━━━━━━━━━━━━\u001b[0m \u001b[32m175.1/175.1 kB\u001b[0m \u001b[31m2.9 MB/s\u001b[0m eta \u001b[36m0:00:00\u001b[0m\n",
            "\u001b[?25hDownloading beartype-0.14.1-py3-none-any.whl (739 kB)\n",
            "\u001b[2K   \u001b[90m━━━━━━━━━━━━━━━━━━━━━━━━━━━━━━━━━━━━━━━━\u001b[0m \u001b[32m739.7/739.7 kB\u001b[0m \u001b[31m9.4 MB/s\u001b[0m eta \u001b[36m0:00:00\u001b[0m\n",
            "\u001b[?25hDownloading better_abc-0.0.3-py3-none-any.whl (3.5 kB)\n",
            "Downloading datasets-3.0.0-py3-none-any.whl (474 kB)\n",
            "\u001b[2K   \u001b[90m━━━━━━━━━━━━━━━━━━━━━━━━━━━━━━━━━━━━━━━━\u001b[0m \u001b[32m474.3/474.3 kB\u001b[0m \u001b[31m29.2 MB/s\u001b[0m eta \u001b[36m0:00:00\u001b[0m\n",
            "\u001b[?25hDownloading fancy_einsum-0.0.3-py3-none-any.whl (6.2 kB)\n",
            "Downloading jaxtyping-0.2.34-py3-none-any.whl (42 kB)\n",
            "\u001b[2K   \u001b[90m━━━━━━━━━━━━━━━━━━━━━━━━━━━━━━━━━━━━━━━━\u001b[0m \u001b[32m42.4/42.4 kB\u001b[0m \u001b[31m3.4 MB/s\u001b[0m eta \u001b[36m0:00:00\u001b[0m\n",
            "\u001b[?25hDownloading typeguard-2.13.3-py3-none-any.whl (17 kB)\n",
            "Downloading wandb-0.18.1-py3-none-manylinux_2_17_x86_64.manylinux2014_x86_64.whl (9.7 MB)\n",
            "\u001b[2K   \u001b[90m━━━━━━━━━━━━━━━━━━━━━━━━━━━━━━━━━━━━━━━━\u001b[0m \u001b[32m9.7/9.7 MB\u001b[0m \u001b[31m64.7 MB/s\u001b[0m eta \u001b[36m0:00:00\u001b[0m\n",
            "\u001b[?25hDownloading dill-0.3.8-py3-none-any.whl (116 kB)\n",
            "\u001b[2K   \u001b[90m━━━━━━━━━━━━━━━━━━━━━━━━━━━━━━━━━━━━━━━━\u001b[0m \u001b[32m116.3/116.3 kB\u001b[0m \u001b[31m11.1 MB/s\u001b[0m eta \u001b[36m0:00:00\u001b[0m\n",
            "\u001b[?25hDownloading docker_pycreds-0.4.0-py2.py3-none-any.whl (9.0 kB)\n",
            "Downloading GitPython-3.1.43-py3-none-any.whl (207 kB)\n",
            "\u001b[2K   \u001b[90m━━━━━━━━━━━━━━━━━━━━━━━━━━━━━━━━━━━━━━━━\u001b[0m \u001b[32m207.3/207.3 kB\u001b[0m \u001b[31m18.9 MB/s\u001b[0m eta \u001b[36m0:00:00\u001b[0m\n",
            "\u001b[?25hDownloading pyarrow-17.0.0-cp310-cp310-manylinux_2_28_x86_64.whl (39.9 MB)\n",
            "\u001b[2K   \u001b[90m━━━━━━━━━━━━━━━━━━━━━━━━━━━━━━━━━━━━━━━━\u001b[0m \u001b[32m39.9/39.9 MB\u001b[0m \u001b[31m44.9 MB/s\u001b[0m eta \u001b[36m0:00:00\u001b[0m\n",
            "\u001b[?25hDownloading sentry_sdk-2.14.0-py2.py3-none-any.whl (311 kB)\n",
            "\u001b[2K   \u001b[90m━━━━━━━━━━━━━━━━━━━━━━━━━━━━━━━━━━━━━━━━\u001b[0m \u001b[32m311.4/311.4 kB\u001b[0m \u001b[31m24.5 MB/s\u001b[0m eta \u001b[36m0:00:00\u001b[0m\n",
            "\u001b[?25hDownloading multiprocess-0.70.16-py310-none-any.whl (134 kB)\n",
            "\u001b[2K   \u001b[90m━━━━━━━━━━━━━━━━━━━━━━━━━━━━━━━━━━━━━━━━\u001b[0m \u001b[32m134.8/134.8 kB\u001b[0m \u001b[31m11.5 MB/s\u001b[0m eta \u001b[36m0:00:00\u001b[0m\n",
            "\u001b[?25hDownloading setproctitle-1.3.3-cp310-cp310-manylinux_2_5_x86_64.manylinux1_x86_64.manylinux_2_17_x86_64.manylinux2014_x86_64.whl (30 kB)\n",
            "Downloading xxhash-3.5.0-cp310-cp310-manylinux_2_17_x86_64.manylinux2014_x86_64.whl (194 kB)\n",
            "\u001b[2K   \u001b[90m━━━━━━━━━━━━━━━━━━━━━━━━━━━━━━━━━━━━━━━━\u001b[0m \u001b[32m194.1/194.1 kB\u001b[0m \u001b[31m16.5 MB/s\u001b[0m eta \u001b[36m0:00:00\u001b[0m\n",
            "\u001b[?25hDownloading gitdb-4.0.11-py3-none-any.whl (62 kB)\n",
            "\u001b[2K   \u001b[90m━━━━━━━━━━━━━━━━━━━━━━━━━━━━━━━━━━━━━━━━\u001b[0m \u001b[32m62.7/62.7 kB\u001b[0m \u001b[31m5.2 MB/s\u001b[0m eta \u001b[36m0:00:00\u001b[0m\n",
            "\u001b[?25hDownloading smmap-5.0.1-py3-none-any.whl (24 kB)\n",
            "Installing collected packages: better-abc, xxhash, typeguard, smmap, setproctitle, sentry-sdk, pyarrow, fancy-einsum, docker-pycreds, dill, beartype, multiprocess, jaxtyping, gitdb, gitpython, wandb, datasets, transformer_lens\n",
            "  Attempting uninstall: typeguard\n",
            "    Found existing installation: typeguard 4.3.0\n",
            "    Uninstalling typeguard-4.3.0:\n",
            "      Successfully uninstalled typeguard-4.3.0\n",
            "  Attempting uninstall: pyarrow\n",
            "    Found existing installation: pyarrow 14.0.2\n",
            "    Uninstalling pyarrow-14.0.2:\n",
            "      Successfully uninstalled pyarrow-14.0.2\n",
            "\u001b[31mERROR: pip's dependency resolver does not currently take into account all the packages that are installed. This behaviour is the source of the following dependency conflicts.\n",
            "cudf-cu12 24.4.1 requires pyarrow<15.0.0a0,>=14.0.1, but you have pyarrow 17.0.0 which is incompatible.\n",
            "ibis-framework 8.0.0 requires pyarrow<16,>=2, but you have pyarrow 17.0.0 which is incompatible.\n",
            "inflect 7.4.0 requires typeguard>=4.0.1, but you have typeguard 2.13.3 which is incompatible.\u001b[0m\u001b[31m\n",
            "\u001b[0mSuccessfully installed beartype-0.14.1 better-abc-0.0.3 datasets-3.0.0 dill-0.3.8 docker-pycreds-0.4.0 fancy-einsum-0.0.3 gitdb-4.0.11 gitpython-3.1.43 jaxtyping-0.2.34 multiprocess-0.70.16 pyarrow-17.0.0 sentry-sdk-2.14.0 setproctitle-1.3.3 smmap-5.0.1 transformer_lens-2.6.0 typeguard-2.13.3 wandb-0.18.1 xxhash-3.5.0\n",
            "Requirement already satisfied: einops in /usr/local/lib/python3.10/dist-packages (0.8.0)\n",
            "Requirement already satisfied: jaxtyping in /usr/local/lib/python3.10/dist-packages (0.2.34)\n",
            "Requirement already satisfied: typeguard==2.13.3 in /usr/local/lib/python3.10/dist-packages (from jaxtyping) (2.13.3)\n",
            "Collecting git+https://github.com/callummcdougall/CircuitsVis.git#subdirectory=python\n",
            "  Cloning https://github.com/callummcdougall/CircuitsVis.git to /tmp/pip-req-build-ybo5efbw\n",
            "  Running command git clone --filter=blob:none --quiet https://github.com/callummcdougall/CircuitsVis.git /tmp/pip-req-build-ybo5efbw\n",
            "  Resolved https://github.com/callummcdougall/CircuitsVis.git to commit 1e6129d08cae7af9242d9ab5d3ed322dd44b4dd3\n",
            "  Installing build dependencies ... \u001b[?25l\u001b[?25hdone\n",
            "  Getting requirements to build wheel ... \u001b[?25l\u001b[?25hdone\n",
            "  Preparing metadata (pyproject.toml) ... \u001b[?25l\u001b[?25hdone\n",
            "Collecting importlib-metadata<6.0.0,>=5.1.0 (from circuitsvis==0.0.0)\n",
            "  Downloading importlib_metadata-5.2.0-py3-none-any.whl.metadata (5.0 kB)\n",
            "Requirement already satisfied: numpy<2.0,>=1.23 in /usr/local/lib/python3.10/dist-packages (from circuitsvis==0.0.0) (1.26.4)\n",
            "Requirement already satisfied: torch<3.0,>=2.0 in /usr/local/lib/python3.10/dist-packages (from circuitsvis==0.0.0) (2.4.1+cu121)\n",
            "Requirement already satisfied: zipp>=0.5 in /usr/local/lib/python3.10/dist-packages (from importlib-metadata<6.0.0,>=5.1.0->circuitsvis==0.0.0) (3.20.2)\n",
            "Requirement already satisfied: filelock in /usr/local/lib/python3.10/dist-packages (from torch<3.0,>=2.0->circuitsvis==0.0.0) (3.16.1)\n",
            "Requirement already satisfied: typing-extensions>=4.8.0 in /usr/local/lib/python3.10/dist-packages (from torch<3.0,>=2.0->circuitsvis==0.0.0) (4.12.2)\n",
            "Requirement already satisfied: sympy in /usr/local/lib/python3.10/dist-packages (from torch<3.0,>=2.0->circuitsvis==0.0.0) (1.13.2)\n",
            "Requirement already satisfied: networkx in /usr/local/lib/python3.10/dist-packages (from torch<3.0,>=2.0->circuitsvis==0.0.0) (3.3)\n",
            "Requirement already satisfied: jinja2 in /usr/local/lib/python3.10/dist-packages (from torch<3.0,>=2.0->circuitsvis==0.0.0) (3.1.4)\n",
            "Requirement already satisfied: fsspec in /usr/local/lib/python3.10/dist-packages (from torch<3.0,>=2.0->circuitsvis==0.0.0) (2024.6.1)\n",
            "Requirement already satisfied: MarkupSafe>=2.0 in /usr/local/lib/python3.10/dist-packages (from jinja2->torch<3.0,>=2.0->circuitsvis==0.0.0) (2.1.5)\n",
            "Requirement already satisfied: mpmath<1.4,>=1.1.0 in /usr/local/lib/python3.10/dist-packages (from sympy->torch<3.0,>=2.0->circuitsvis==0.0.0) (1.3.0)\n",
            "Downloading importlib_metadata-5.2.0-py3-none-any.whl (21 kB)\n",
            "Building wheels for collected packages: circuitsvis\n",
            "  Building wheel for circuitsvis (pyproject.toml) ... \u001b[?25l\u001b[?25hdone\n",
            "  Created wheel for circuitsvis: filename=circuitsvis-0.0.0-py3-none-any.whl size=6172334 sha256=59415c32edc93016c6c42f3b4833706a3be43b700e7573be5495cc7c0ec5f306\n",
            "  Stored in directory: /tmp/pip-ephem-wheel-cache-r8oqq0io/wheels/86/be/ad/78078aba9344d200aad61b63d35cdaecdec160212f039eed74\n",
            "Successfully built circuitsvis\n",
            "Installing collected packages: importlib-metadata, circuitsvis\n",
            "  Attempting uninstall: importlib-metadata\n",
            "    Found existing installation: importlib_metadata 8.5.0\n",
            "    Uninstalling importlib_metadata-8.5.0:\n",
            "      Successfully uninstalled importlib_metadata-8.5.0\n",
            "Successfully installed circuitsvis-0.0.0 importlib-metadata-5.2.0\n",
            "--2024-09-22 14:00:18--  https://github.com/callummcdougall/ARENA_3.0/archive/refs/heads/main.zip\n",
            "Resolving github.com (github.com)... 140.82.112.3\n",
            "Connecting to github.com (github.com)|140.82.112.3|:443... connected.\n",
            "HTTP request sent, awaiting response... 302 Found\n",
            "Location: https://codeload.github.com/callummcdougall/ARENA_3.0/zip/refs/heads/main [following]\n",
            "--2024-09-22 14:00:18--  https://codeload.github.com/callummcdougall/ARENA_3.0/zip/refs/heads/main\n",
            "Resolving codeload.github.com (codeload.github.com)... 140.82.114.9\n",
            "Connecting to codeload.github.com (codeload.github.com)|140.82.114.9|:443... connected.\n",
            "HTTP request sent, awaiting response... 200 OK\n",
            "Length: unspecified [application/zip]\n",
            "Saving to: ‘main.zip’\n",
            "\n",
            "main.zip                [   <=>              ]  86.75M  9.35MB/s    in 9.9s    \n",
            "\n",
            "2024-09-22 14:00:28 (8.77 MB/s) - ‘main.zip’ saved [90967829]\n",
            "\n",
            "Archive:  /content/main.zip\n",
            "0f2cdc7936f0a0c593a387aadc57e4ba53405b8c\n",
            "   creating: ARENA_3.0-main/chapter1_transformer_interp/exercises/\n",
            "   creating: ARENA_3.0-main/chapter1_transformer_interp/exercises/monthly_algorithmic_problems/\n",
            "   creating: ARENA_3.0-main/chapter1_transformer_interp/exercises/monthly_algorithmic_problems/august23_unique_char/\n",
            "  inflating: ARENA_3.0-main/chapter1_transformer_interp/exercises/monthly_algorithmic_problems/august23_unique_char/dataset.py  \n",
            "  inflating: ARENA_3.0-main/chapter1_transformer_interp/exercises/monthly_algorithmic_problems/august23_unique_char/first_unique_char_model.pt  \n",
            "  inflating: ARENA_3.0-main/chapter1_transformer_interp/exercises/monthly_algorithmic_problems/august23_unique_char/model.py  \n",
            "  inflating: ARENA_3.0-main/chapter1_transformer_interp/exercises/monthly_algorithmic_problems/august23_unique_char/training.py  \n",
            "  inflating: ARENA_3.0-main/chapter1_transformer_interp/exercises/monthly_algorithmic_problems/august23_unique_char/training_model.ipynb  \n",
            "   creating: ARENA_3.0-main/chapter1_transformer_interp/exercises/monthly_algorithmic_problems/january24_caesar_cipher/\n",
            "  inflating: ARENA_3.0-main/chapter1_transformer_interp/exercises/monthly_algorithmic_problems/january24_caesar_cipher/caesar_cipher_model_easy.pt  \n",
            "  inflating: ARENA_3.0-main/chapter1_transformer_interp/exercises/monthly_algorithmic_problems/january24_caesar_cipher/caesar_cipher_model_hard.pt  \n",
            "  inflating: ARENA_3.0-main/chapter1_transformer_interp/exercises/monthly_algorithmic_problems/january24_caesar_cipher/caesar_cipher_model_medium.pt  \n",
            "  inflating: ARENA_3.0-main/chapter1_transformer_interp/exercises/monthly_algorithmic_problems/january24_caesar_cipher/dataset.py  \n",
            "  inflating: ARENA_3.0-main/chapter1_transformer_interp/exercises/monthly_algorithmic_problems/january24_caesar_cipher/hitchhikers.txt  \n",
            "  inflating: ARENA_3.0-main/chapter1_transformer_interp/exercises/monthly_algorithmic_problems/january24_caesar_cipher/model.py  \n",
            "  inflating: ARENA_3.0-main/chapter1_transformer_interp/exercises/monthly_algorithmic_problems/january24_caesar_cipher/training.py  \n",
            "  inflating: ARENA_3.0-main/chapter1_transformer_interp/exercises/monthly_algorithmic_problems/january24_caesar_cipher/training_model.ipynb  \n",
            "   creating: ARENA_3.0-main/chapter1_transformer_interp/exercises/monthly_algorithmic_problems/july23_palindromes/\n",
            "  inflating: ARENA_3.0-main/chapter1_transformer_interp/exercises/monthly_algorithmic_problems/july23_palindromes/dataset.py  \n",
            "  inflating: ARENA_3.0-main/chapter1_transformer_interp/exercises/monthly_algorithmic_problems/july23_palindromes/model.py  \n",
            "  inflating: ARENA_3.0-main/chapter1_transformer_interp/exercises/monthly_algorithmic_problems/july23_palindromes/palindrome_classifier.pt  \n",
            "  inflating: ARENA_3.0-main/chapter1_transformer_interp/exercises/monthly_algorithmic_problems/july23_palindromes/training.py  \n",
            "  inflating: ARENA_3.0-main/chapter1_transformer_interp/exercises/monthly_algorithmic_problems/july23_palindromes/training_model.ipynb  \n",
            "   creating: ARENA_3.0-main/chapter1_transformer_interp/exercises/monthly_algorithmic_problems/november23_cumsum/\n",
            "  inflating: ARENA_3.0-main/chapter1_transformer_interp/exercises/monthly_algorithmic_problems/november23_cumsum/cumsum_model.pt  \n",
            "  inflating: ARENA_3.0-main/chapter1_transformer_interp/exercises/monthly_algorithmic_problems/november23_cumsum/dataset.py  \n",
            "  inflating: ARENA_3.0-main/chapter1_transformer_interp/exercises/monthly_algorithmic_problems/november23_cumsum/model.py  \n",
            "  inflating: ARENA_3.0-main/chapter1_transformer_interp/exercises/monthly_algorithmic_problems/november23_cumsum/training.py  \n",
            "  inflating: ARENA_3.0-main/chapter1_transformer_interp/exercises/monthly_algorithmic_problems/november23_cumsum/training_model.ipynb  \n",
            "   creating: ARENA_3.0-main/chapter1_transformer_interp/exercises/monthly_algorithmic_problems/october23_sorted_list/\n",
            "  inflating: ARENA_3.0-main/chapter1_transformer_interp/exercises/monthly_algorithmic_problems/october23_sorted_list/dataset.py  \n",
            "  inflating: ARENA_3.0-main/chapter1_transformer_interp/exercises/monthly_algorithmic_problems/october23_sorted_list/model.py  \n",
            "  inflating: ARENA_3.0-main/chapter1_transformer_interp/exercises/monthly_algorithmic_problems/october23_sorted_list/sorted_list_model.pt  \n",
            "  inflating: ARENA_3.0-main/chapter1_transformer_interp/exercises/monthly_algorithmic_problems/october23_sorted_list/training.py  \n",
            "  inflating: ARENA_3.0-main/chapter1_transformer_interp/exercises/monthly_algorithmic_problems/october23_sorted_list/training_model.ipynb  \n",
            "   creating: ARENA_3.0-main/chapter1_transformer_interp/exercises/monthly_algorithmic_problems/september23_sum/\n",
            "  inflating: ARENA_3.0-main/chapter1_transformer_interp/exercises/monthly_algorithmic_problems/september23_sum/dataset.py  \n",
            "  inflating: ARENA_3.0-main/chapter1_transformer_interp/exercises/monthly_algorithmic_problems/september23_sum/model.py  \n",
            "  inflating: ARENA_3.0-main/chapter1_transformer_interp/exercises/monthly_algorithmic_problems/september23_sum/sum_model.pt  \n",
            "  inflating: ARENA_3.0-main/chapter1_transformer_interp/exercises/monthly_algorithmic_problems/september23_sum/training.py  \n",
            "  inflating: ARENA_3.0-main/chapter1_transformer_interp/exercises/monthly_algorithmic_problems/september23_sum/training_model.ipynb  \n",
            "   creating: ARENA_3.0-main/chapter1_transformer_interp/exercises/part1_transformer_from_scratch/\n",
            "  inflating: ARENA_3.0-main/chapter1_transformer_interp/exercises/part1_transformer_from_scratch/solutions.py  \n",
            "  inflating: ARENA_3.0-main/chapter1_transformer_interp/exercises/part1_transformer_from_scratch/tests.py  \n",
            "   creating: ARENA_3.0-main/chapter1_transformer_interp/exercises/part2_intro_to_mech_interp/\n",
            "  inflating: ARENA_3.0-main/chapter1_transformer_interp/exercises/part2_intro_to_mech_interp/solutions.py  \n",
            "  inflating: ARENA_3.0-main/chapter1_transformer_interp/exercises/part2_intro_to_mech_interp/tests.py  \n",
            "   creating: ARENA_3.0-main/chapter1_transformer_interp/exercises/part31_superposition_and_saes/\n",
            "  inflating: ARENA_3.0-main/chapter1_transformer_interp/exercises/part31_superposition_and_saes/solutions.py  \n",
            "  inflating: ARENA_3.0-main/chapter1_transformer_interp/exercises/part31_superposition_and_saes/solutions_double_descent.py  \n",
            "  inflating: ARENA_3.0-main/chapter1_transformer_interp/exercises/part31_superposition_and_saes/tests.py  \n",
            "  inflating: ARENA_3.0-main/chapter1_transformer_interp/exercises/part31_superposition_and_saes/utils.py  \n",
            "   creating: ARENA_3.0-main/chapter1_transformer_interp/exercises/part32_interp_with_saes/\n",
            "  inflating: ARENA_3.0-main/chapter1_transformer_interp/exercises/part32_interp_with_saes/solutions.py  \n",
            "   creating: ARENA_3.0-main/chapter1_transformer_interp/exercises/part41_indirect_object_identification/\n",
            "  inflating: ARENA_3.0-main/chapter1_transformer_interp/exercises/part41_indirect_object_identification/ioi_circuit_extraction.py  \n",
            "  inflating: ARENA_3.0-main/chapter1_transformer_interp/exercises/part41_indirect_object_identification/ioi_dataset.py  \n",
            "  inflating: ARENA_3.0-main/chapter1_transformer_interp/exercises/part41_indirect_object_identification/solutions.py  \n",
            "  inflating: ARENA_3.0-main/chapter1_transformer_interp/exercises/part41_indirect_object_identification/tests.py  \n",
            "   creating: ARENA_3.0-main/chapter1_transformer_interp/exercises/part42_function_vectors_and_model_steering/\n",
            "   creating: ARENA_3.0-main/chapter1_transformer_interp/exercises/part42_function_vectors_and_model_steering/data/\n",
            "  inflating: ARENA_3.0-main/chapter1_transformer_interp/exercises/part42_function_vectors_and_model_steering/data/antonym_pairs.txt  \n",
            "  inflating: ARENA_3.0-main/chapter1_transformer_interp/exercises/part42_function_vectors_and_model_steering/data/country_capital_pairs.txt  \n",
            "  inflating: ARENA_3.0-main/chapter1_transformer_interp/exercises/part42_function_vectors_and_model_steering/data/test_fn_vector.pt  \n",
            "  inflating: ARENA_3.0-main/chapter1_transformer_interp/exercises/part42_function_vectors_and_model_steering/data/test_fn_vector_1.pt  \n",
            "  inflating: ARENA_3.0-main/chapter1_transformer_interp/exercises/part42_function_vectors_and_model_steering/data/test_fn_vector_2.pt  \n",
            "  inflating: ARENA_3.0-main/chapter1_transformer_interp/exercises/part42_function_vectors_and_model_steering/data/test_h.pt  \n",
            "  inflating: ARENA_3.0-main/chapter1_transformer_interp/exercises/part42_function_vectors_and_model_steering/solutions.py  \n",
            "  inflating: ARENA_3.0-main/chapter1_transformer_interp/exercises/part42_function_vectors_and_model_steering/tests.py  \n",
            "   creating: ARENA_3.0-main/chapter1_transformer_interp/exercises/part51_balanced_bracket_classifier/\n",
            "  inflating: ARENA_3.0-main/chapter1_transformer_interp/exercises/part51_balanced_bracket_classifier/brackets_data.json  \n",
            "  inflating: ARENA_3.0-main/chapter1_transformer_interp/exercises/part51_balanced_bracket_classifier/brackets_datasets.py  \n",
            "  inflating: ARENA_3.0-main/chapter1_transformer_interp/exercises/part51_balanced_bracket_classifier/brackets_model_state_dict.pt  \n",
            "  inflating: ARENA_3.0-main/chapter1_transformer_interp/exercises/part51_balanced_bracket_classifier/solutions.py  \n",
            "  inflating: ARENA_3.0-main/chapter1_transformer_interp/exercises/part51_balanced_bracket_classifier/tests.py  \n",
            "   creating: ARENA_3.0-main/chapter1_transformer_interp/exercises/part52_grokking_and_modular_arithmetic/\n",
            "  inflating: ARENA_3.0-main/chapter1_transformer_interp/exercises/part52_grokking_and_modular_arithmetic/my_utils.py  \n",
            "  inflating: ARENA_3.0-main/chapter1_transformer_interp/exercises/part52_grokking_and_modular_arithmetic/solutions.py  \n",
            "  inflating: ARENA_3.0-main/chapter1_transformer_interp/exercises/part52_grokking_and_modular_arithmetic/tests.py  \n",
            "   creating: ARENA_3.0-main/chapter1_transformer_interp/exercises/part53_othellogpt/\n",
            "  inflating: ARENA_3.0-main/chapter1_transformer_interp/exercises/part53_othellogpt/solutions.py  \n",
            "  inflating: ARENA_3.0-main/chapter1_transformer_interp/exercises/part53_othellogpt/tests.py  \n",
            "  inflating: ARENA_3.0-main/chapter1_transformer_interp/exercises/plotly_utils.py  \n",
            "  inflating: ARENA_3.0-main/chapter1_transformer_interp/exercises/test_solutions_ch1.py  \n"
          ]
        }
      ],
      "source": [
        "try:\n",
        "    import google.colab # type: ignore\n",
        "    IN_COLAB = True\n",
        "except:\n",
        "    IN_COLAB = False\n",
        "\n",
        "import os, sys\n",
        "chapter = \"chapter1_transformer_interp\"\n",
        "repo = \"ARENA_3.0\"\n",
        "\n",
        "if IN_COLAB:\n",
        "    # Install packages\n",
        "    %pip install transformer_lens\n",
        "    %pip install einops\n",
        "    %pip install jaxtyping\n",
        "    %pip install git+https://github.com/callummcdougall/CircuitsVis.git#subdirectory=python\n",
        "\n",
        "    # Code to download the necessary files (e.g. solutions, test funcs)\n",
        "    if not os.path.exists(f\"/content/{chapter}\"):\n",
        "        !wget https://github.com/callummcdougall/ARENA_3.0/archive/refs/heads/main.zip\n",
        "        !unzip /content/main.zip 'ARENA_3.0-main/chapter1_transformer_interp/exercises/*'\n",
        "        sys.path.append(f\"/content/{repo}-main/{chapter}/exercises\")\n",
        "        os.remove(\"/content/main.zip\")\n",
        "        os.rename(f\"{repo}-main/{chapter}\", chapter)\n",
        "        os.rmdir(f\"{repo}-main\")\n",
        "        os.chdir(f\"{chapter}/exercises\")\n",
        "else:\n",
        "    raise Exception(\"If running from VSCode, you should copy code from the Streamlit page, not the Colab.\")"
      ]
    },
    {
      "cell_type": "code",
      "execution_count": 2,
      "metadata": {
        "id": "5g0vLQbLdbSQ"
      },
      "outputs": [],
      "source": [
        "import sys\n",
        "import torch as t\n",
        "from torch import Tensor\n",
        "import torch.nn as nn\n",
        "import torch.nn.functional as F\n",
        "from pathlib import Path\n",
        "import numpy as np\n",
        "import einops\n",
        "from jaxtyping import Int, Float\n",
        "import functools\n",
        "from tqdm import tqdm\n",
        "from IPython.display import display\n",
        "from transformer_lens.hook_points import HookPoint\n",
        "from transformer_lens import (\n",
        "    utils,\n",
        "    HookedTransformer,\n",
        "    HookedTransformerConfig,\n",
        "    FactoredMatrix,\n",
        "    ActivationCache,\n",
        ")\n",
        "import circuitsvis as cv\n",
        "\n",
        "# Make sure exercises are in the path\n",
        "exercises_dir = Path(f\"{os.getcwd().split(chapter)[0]}/{chapter}/exercises\").resolve()\n",
        "section_dir = (exercises_dir / \"part2_intro_to_mech_interp\").resolve()\n",
        "if str(exercises_dir) not in sys.path: sys.path.append(str(exercises_dir))\n",
        "\n",
        "from plotly_utils import imshow, hist, plot_comp_scores, plot_logit_attribution, plot_loss_difference\n",
        "from part1_transformer_from_scratch.solutions import get_log_probs\n",
        "import part2_intro_to_mech_interp.tests as tests\n",
        "\n",
        "# Saves computation time, since we don't need it for the contents of this notebook\n",
        "t.set_grad_enabled(False)\n",
        "\n",
        "device = t.device(\"cuda\" if t.cuda.is_available() else \"cpu\")\n",
        "\n",
        "MAIN = __name__ == \"__main__\""
      ]
    },
    {
      "cell_type": "markdown",
      "metadata": {
        "id": "3whcqc4-B2i2"
      },
      "source": [
        "# 1️⃣ TransformerLens: Introduction\n"
      ]
    },
    {
      "cell_type": "markdown",
      "metadata": {
        "id": "XpHooQYXB2Ry"
      },
      "source": [
        "> ##### Learning objectives\n",
        ">\n",
        "> - Load and run a `HookedTransformer` model\n",
        "> - Understand the basic architecture of these models\n",
        "> - Use the model's tokenizer to convert text to tokens, and vice versa\n",
        "> - Know how to cache activations, and to access activations from the cache\n",
        "> - Use `circuitsvis` to visualise attention heads\n"
      ]
    },
    {
      "cell_type": "markdown",
      "metadata": {
        "id": "4mWSmayGCGd_"
      },
      "source": [
        "## Introduction\n",
        "\n",
        "*Note - most of this is written from the POV of Neel Nanda.*\n",
        "\n",
        "This is a demo notebook for [TransformerLens](https://github.com/neelnanda-io/TransformerLens), **a library I ([Neel Nanda](neelnanda.io)) wrote for doing [mechanistic interpretability](https://distill.pub/2020/circuits/zoom-in/) of GPT-2 Style language models.** The goal of mechanistic interpretability is to take a trained model and reverse engineer the algorithms the model learned during training from its weights. It is a fact about the world today that we have computer programs that can essentially speak English at a human level (GPT-3, PaLM, etc), yet we have no idea how they work nor how to write one ourselves. This offends me greatly, and I would like to solve this! Mechanistic interpretability is a very young and small field, and there are a *lot* of open problems - if you would like to help, please try working on one! **Check out my [list of concrete open problems](https://docs.google.com/document/d/1WONBzNqfKIxERejrrPlQMyKqg7jSFW92x5UMXNrMdPo/edit#) to figure out where to start.**\n",
        "\n",
        "I wrote this library because after I left the Anthropic interpretability team and started doing independent research, I got extremely frustrated by the state of open source tooling. There's a lot of excellent infrastructure like HuggingFace and DeepSpeed to *use* or *train* models, but very little to dig into their internals and reverse engineer how they work. **This library tries to solve that**, and to make it easy to get into the field even if you don't work at an industry org with real infrastructure! The core features were heavily inspired by [Anthropic's excellent Garcon tool](https://transformer-circuits.pub/2021/garcon/index.html). Credit to Nelson Elhage and Chris Olah for building Garcon and showing me the value of good infrastructure for accelerating exploratory research!\n",
        "\n",
        "The core design principle I've followed is to enable exploratory analysis - one of the most fun parts of mechanistic interpretability compared to normal ML is the extremely short feedback loops! The point of this library is to keep the gap between having an experiment idea and seeing the results as small as possible, to make it easy for **research to feel like play** and to enter a flow state. This notebook demonstrates how the library works and how to use it, but if you want to see how well it works for exploratory research, check out [my notebook analysing Indirect Objection Identification](https://github.com/neelnanda-io/TransformerLens/blob/main/Exploratory_Analysis_Demo.ipynb) or [my recording of myself doing research](https://www.youtube.com/watch?v=yo4QvDn-vsU)!\n"
      ]
    },
    {
      "cell_type": "markdown",
      "metadata": {
        "id": "hV9UWb03CJFk"
      },
      "source": [
        "## Loading and Running Models\n",
        "\n",
        "TransformerLens comes loaded with >40 open source GPT-style models. You can load any of them in with `HookedTransformer.from_pretrained(MODEL_NAME)`. For this demo notebook we'll look at GPT-2 Small, an 80M parameter model, see the Available Models section for info on the rest.\n"
      ]
    },
    {
      "cell_type": "code",
      "execution_count": 3,
      "metadata": {
        "id": "oAjxyDmVCVbh",
        "colab": {
          "base_uri": "https://localhost:8080/",
          "height": 417,
          "referenced_widgets": [
            "48346c7dbb4840bea4bbe3a3d29c1989",
            "18184a284b1c455a97a624f8873ad871",
            "d53ca15b343c435f8faa3f24d241669d",
            "92707606447a41eb9cb46b1ea96f5e2c",
            "53a00eccf5a242bcb7dfd866b26d4226",
            "cc52906217bc4c22a60df275ebc2b81a",
            "98337f136ac943979828c558ae0e6b1d",
            "53e3c6bd8b914bff9dd5c98f261acc3e",
            "6354e89e4e8240a5878cd1ca2f62fa4e",
            "937f33f4b31b45898d1482c22a36ba1e",
            "2a13ccf9be7a4d5aa73f1a3b4002f305",
            "33d736d1bde34390b983bb65dd8c63e1",
            "fe1d2cadd6fc4001872a6afc3e4ac69a",
            "0db921d9f16845f5a3d3faccdb9d59a8",
            "8cb2252ea38a42059ea7887f52c90183",
            "d8c2ee2fd44e47829655530e36144a5b",
            "33dcf444b9a14e1c86998982cd287f8c",
            "1822729b75994fafb5f7dc3784371814",
            "85d08183a5834967a73ebd8a66362ccb",
            "d713dab3c0a648a98398f4f1e59e5f46",
            "e89b5c7ac8e845e2bc63eb5e680328a5",
            "be405f40bb0b4253bcaf2b518ebaa58a",
            "07a8d0d615d2415a95ed4db4642d468d",
            "3a9584bf3bc6447da4fb0aee01b69206",
            "d4a4715e1a6443d6be57920ac64023e4",
            "eef79f57160449728ff45ba5e7abe088",
            "f15791022fb043729957cda1428c62df",
            "d4d5b497820a497b824a4538bcab062c",
            "19ac5486326d4c08ae1b887ae9b7914a",
            "7b33cf7de7ff4cecb6ae9b118bf929ff",
            "29c53097890e47738dbcdeacef3974d3",
            "8427d399ce34400ab56bacb527648e33",
            "2bfdb7cec4164fe5af35a45681f5bf6b",
            "c36c00b0d12848d69022d715b3611a7d",
            "e25c268c80e94951a11586df5f05f4d0",
            "eac81650e50b428e8d0017248c65f587",
            "90b37fe1ac7d44cf846f4fbf91fbb94c",
            "834876590f38495785f102f13f224bf7",
            "07676923c8b64d0e8886681fea3228e7",
            "73a18104f2484eeeb9f9cc7a39b09251",
            "8181423ac0204d9c9cbf4d33ca211227",
            "d08c3cc97ad841aead2da0bf2c3988fb",
            "fac9d2f0ecbd46eb8851c63acf283465",
            "9c05f1f93a2c4da490ea54836e187f4c",
            "dc90ea740ef044d7970547cf71a27df2",
            "f8275607c211455cad505d2fb8714eef",
            "e67432e6b23b4b34a511f5e6b41775f8",
            "3313847c38b24065b6b5b73760c8cc07",
            "ae0a8ffe227d4919939a784fee5fa385",
            "31d521a5a5ee4fd7aec93e7255b828fc",
            "5621f9496c2a423e97562d7a206ec4d5",
            "2a04cba5a983441a8f4a32aee249c89d",
            "a0bdf596026d49388bf4b969c7b5d343",
            "103ae5390b534b21bc59cc576faa82fa",
            "9fe62442bf1c4025b623e5278597c6dc",
            "0eb45b74752e4a42acb19e360b161b9a",
            "d0fe88473ec64ef98c3110dda1e65023",
            "e18c32ccce5947dd8be437629ae58000",
            "401f28e9d1a445daa324392f7dd2fb66",
            "9a5728b5dc1e4273b19245148bf717cf",
            "6e5723bfdefc428aa2315b14cf65d3f3",
            "671f65c971b740aea3575a922aa1e819",
            "1ae5d1e1d0bc43e29d41bb1037b40bea",
            "65c812c17e9843aa9859a76c7d3dec6e",
            "6897fcc982f34333bcdbcb45ff13cd69",
            "2554c10ac4d149aeb2134f58a80af5ed",
            "ecbfc1530c444b73bcb3f0e48383a988",
            "04b3119a97164bed8ef649dbeace2ce7",
            "ab1389a22c474cc2b939465d39e45e53",
            "09a04473d2534222afbe87fbdb03b2c0",
            "95d86253c86c462480a7def6eb4774cd",
            "442435e390874c51a2744743d06d85a5",
            "09a3303ed01c4bb387f86f06967d46f8",
            "794731afa7a34badab0decabdee8fe0b",
            "5428e08c647f44acb5bb2f62b4074f00",
            "81465cfc31504118bae78582597546a5",
            "594bd3cc0a8144479d4f86c78636f411"
          ]
        },
        "outputId": "896f0f82-fb41-466e-bec2-4ff5be6740be"
      },
      "outputs": [
        {
          "output_type": "stream",
          "name": "stderr",
          "text": [
            "/usr/local/lib/python3.10/dist-packages/huggingface_hub/utils/_token.py:89: UserWarning: \n",
            "The secret `HF_TOKEN` does not exist in your Colab secrets.\n",
            "To authenticate with the Hugging Face Hub, create a token in your settings tab (https://huggingface.co/settings/tokens), set it as secret in your Google Colab and restart your session.\n",
            "You will be able to reuse this secret in all of your notebooks.\n",
            "Please note that authentication is recommended but still optional to access public models or datasets.\n",
            "  warnings.warn(\n"
          ]
        },
        {
          "output_type": "display_data",
          "data": {
            "text/plain": [
              "config.json:   0%|          | 0.00/665 [00:00<?, ?B/s]"
            ],
            "application/vnd.jupyter.widget-view+json": {
              "version_major": 2,
              "version_minor": 0,
              "model_id": "48346c7dbb4840bea4bbe3a3d29c1989"
            }
          },
          "metadata": {}
        },
        {
          "output_type": "display_data",
          "data": {
            "text/plain": [
              "model.safetensors:   0%|          | 0.00/548M [00:00<?, ?B/s]"
            ],
            "application/vnd.jupyter.widget-view+json": {
              "version_major": 2,
              "version_minor": 0,
              "model_id": "33d736d1bde34390b983bb65dd8c63e1"
            }
          },
          "metadata": {}
        },
        {
          "output_type": "display_data",
          "data": {
            "text/plain": [
              "generation_config.json:   0%|          | 0.00/124 [00:00<?, ?B/s]"
            ],
            "application/vnd.jupyter.widget-view+json": {
              "version_major": 2,
              "version_minor": 0,
              "model_id": "07a8d0d615d2415a95ed4db4642d468d"
            }
          },
          "metadata": {}
        },
        {
          "output_type": "display_data",
          "data": {
            "text/plain": [
              "tokenizer_config.json:   0%|          | 0.00/26.0 [00:00<?, ?B/s]"
            ],
            "application/vnd.jupyter.widget-view+json": {
              "version_major": 2,
              "version_minor": 0,
              "model_id": "c36c00b0d12848d69022d715b3611a7d"
            }
          },
          "metadata": {}
        },
        {
          "output_type": "display_data",
          "data": {
            "text/plain": [
              "vocab.json:   0%|          | 0.00/1.04M [00:00<?, ?B/s]"
            ],
            "application/vnd.jupyter.widget-view+json": {
              "version_major": 2,
              "version_minor": 0,
              "model_id": "dc90ea740ef044d7970547cf71a27df2"
            }
          },
          "metadata": {}
        },
        {
          "output_type": "display_data",
          "data": {
            "text/plain": [
              "merges.txt:   0%|          | 0.00/456k [00:00<?, ?B/s]"
            ],
            "application/vnd.jupyter.widget-view+json": {
              "version_major": 2,
              "version_minor": 0,
              "model_id": "0eb45b74752e4a42acb19e360b161b9a"
            }
          },
          "metadata": {}
        },
        {
          "output_type": "display_data",
          "data": {
            "text/plain": [
              "tokenizer.json:   0%|          | 0.00/1.36M [00:00<?, ?B/s]"
            ],
            "application/vnd.jupyter.widget-view+json": {
              "version_major": 2,
              "version_minor": 0,
              "model_id": "ecbfc1530c444b73bcb3f0e48383a988"
            }
          },
          "metadata": {}
        },
        {
          "output_type": "stream",
          "name": "stderr",
          "text": [
            "/usr/local/lib/python3.10/dist-packages/transformers/tokenization_utils_base.py:1601: FutureWarning: `clean_up_tokenization_spaces` was not set. It will be set to `True` by default. This behavior will be depracted in transformers v4.45, and will be then set to `False` by default. For more details check this issue: https://github.com/huggingface/transformers/issues/31884\n",
            "  warnings.warn(\n"
          ]
        },
        {
          "output_type": "stream",
          "name": "stdout",
          "text": [
            "Loaded pretrained model gpt2-small into HookedTransformer\n"
          ]
        }
      ],
      "source": [
        "gpt2_small: HookedTransformer = HookedTransformer.from_pretrained(\"gpt2-small\")"
      ]
    },
    {
      "cell_type": "markdown",
      "metadata": {
        "id": "6Bz6GYhGCWi_"
      },
      "source": [
        "### HookedTransformerConfig\n",
        "\n",
        "Alternatively, you can define a config object, then call `HookedTransformer.from_config(cfg)` to define your model. This is particularly useful when you want to have finer control over the architecture of your model. We'll see an example of this in the next section, when we define an attention-only model to study induction heads.\n",
        "\n",
        "Even if you don't define your model in this way, you can still access the config object through the `cfg` attribute of the model.\n"
      ]
    },
    {
      "cell_type": "markdown",
      "metadata": {
        "id": "iOZFAhYyCK-P"
      },
      "source": [
        "### Exercise - inspect your model\n",
        "\n",
        "```c\n",
        "Difficulty: 🔴⚪⚪⚪⚪\n",
        "Importance: 🔵🔵🔵⚪⚪\n",
        "```\n",
        "\n",
        "Use `gpt2_small.cfg` to find the following, for your GPT-2 Small model:\n",
        "\n",
        "* Number of layers\n",
        "* Number of heads per layer\n",
        "* Maximum context window\n",
        "\n",
        "You might have to check out the documentation page for some of these. If you're in VSCode then you can reach it by right-clicking on `HookedTransformerConfig` and choosing \"Go to definition\". If you're in Colab, then you can read the [GitHub page](https://github.com/neelnanda-io/TransformerLens).\n",
        "\n",
        "<details>\n",
        "<summary>Answer</summary>\n",
        "\n",
        "The following parameters in the config object give you the answers:\n",
        "\n",
        "```\n",
        "cfg.n_layers == 12\n",
        "cfg.n_heads == 12\n",
        "cfg.n_ctx == 1024\n",
        "```\n",
        "\n",
        "</details>\n"
      ]
    },
    {
      "cell_type": "markdown",
      "source": [
        "#### Solution"
      ],
      "metadata": {
        "id": "73NwvH2HCt5A"
      }
    },
    {
      "cell_type": "markdown",
      "source": [
        "- [x] Number of layers: `12`\n",
        "- [x] Number of heads per layer: `12`\n",
        "- [x] Maximum context window: `1024`"
      ],
      "metadata": {
        "id": "BV2f1SytCqVh"
      }
    },
    {
      "cell_type": "markdown",
      "metadata": {
        "id": "iQ4GFi5TDe5j"
      },
      "source": [
        "### Running your model\n",
        "\n",
        "Models can be run on a single string or a tensor of tokens (shape: `[batch, position]`, all integers). The possible return types are:\n",
        "\n",
        "* `\"logits\"` (shape `[batch, position, d_vocab]`, floats),\n",
        "* `\"loss\"` (the cross-entropy loss when predicting the next token),\n",
        "* `\"both\"` (a tuple of `(logits, loss)`)\n",
        "* `None` (run the model, but don't calculate the logits - this is faster when we only want to use intermediate activations)\n"
      ]
    },
    {
      "cell_type": "code",
      "execution_count": 5,
      "metadata": {
        "id": "hgDUf25tDiDK",
        "colab": {
          "base_uri": "https://localhost:8080/"
        },
        "outputId": "18f392e3-ee6d-41b3-bc71-d20c62f3956d"
      },
      "outputs": [
        {
          "output_type": "stream",
          "name": "stdout",
          "text": [
            "Model loss: tensor(4.3443, device='cuda:0')\n"
          ]
        }
      ],
      "source": [
        "model_description_text = '''## Loading Models\n",
        "\n",
        "HookedTransformer comes loaded with >40 open source GPT-style models. You can load any of them in with `HookedTransformer.from_pretrained(MODEL_NAME)`. Each model is loaded into the consistent HookedTransformer architecture, designed to be clean, consistent and interpretability-friendly.\n",
        "\n",
        "For this demo notebook we'll look at GPT-2 Small, an 80M parameter model. To try the model the model out, let's find the loss on this paragraph!'''\n",
        "\n",
        "loss = gpt2_small(model_description_text, return_type=\"loss\")\n",
        "print(\"Model loss:\", loss)"
      ]
    },
    {
      "cell_type": "markdown",
      "metadata": {
        "id": "mYBk1eymDi5X"
      },
      "source": [
        "## Transformer architecture\n",
        "\n",
        "HookedTransformer is a somewhat adapted GPT-2 architecture, but is computationally identical. The most significant changes are to the internal structure of the attention heads:\n",
        "\n",
        "* The weights `W_K`, `W_Q`, `W_V` mapping the residual stream to queries, keys and values are 3 separate matrices, rather than big concatenated one.\n",
        "* The weight matrices `W_K`, `W_Q`, `W_V`, `W_O` and activations have separate `head_index` and `d_head` axes, rather than flattening them into one big axis.\n",
        "    * The activations all have shape `[batch, position, head_index, d_head]`.\n",
        "    * `W_K`, `W_Q`, `W_V` have shape `[head_index, d_model, d_head]` and `W_O` has shape `[head_index, d_head, d_model]`\n",
        "* **Important - we generally follow the convention that weight matrices multiply on the right rather than the left.** In other words, they have shape `[input, output]`, and we have `new_activation = old_activation @ weights + bias`.\n",
        "    * Click the dropdown below for examples of this, if it seems unintuitive.\n",
        "\n",
        "<details>\n",
        "<summary>Examples of matrix multiplication in our model</summary>\n",
        "\n",
        "* **Query matrices**\n",
        "    * Each query matrix `W_Q` for a particular layer and head has shape `[d_model, d_head]`.\n",
        "    * So if a vector `x` in the residual stream has length `d_model`, then the corresponding query vector is `x @ W_Q`, which has length `d_head`.\n",
        "* **Embedding matrix**\n",
        "    * The embedding matrix `W_E` has shape `[d_vocab, d_model]`.\n",
        "    * So if `A` is a one-hot-encoded vector of length `d_vocab` corresponding to a particular token, then the embedding vector for this token is `A @ W_E`, which has length `d_model`.\n",
        "\n",
        "</details>\n",
        "\n",
        "The actual code is a bit of a mess, as there's a variety of Boolean flags to make it consistent with the various different model families in TransformerLens - to understand it and the internal structure, I instead recommend reading the code in [CleanTransformerDemo](https://colab.research.google.com/github/neelnanda-io/TransformerLens/blob/clean-transformer-demo/Clean_Transformer_Demo.ipynb).\n"
      ]
    },
    {
      "cell_type": "markdown",
      "metadata": {
        "id": "GfFvQsrgDx1t"
      },
      "source": [
        "### Parameters and Activations\n",
        "\n",
        "It's important to distinguish between parameters and activations in the model.\n",
        "\n",
        "* **Parameters** are the weights and biases that are learned during training.\n",
        "    * These don't change when the model input changes.\n",
        "    * They can be accessed direction from the model, e.g. `model.W_E` for the embedding matrix.\n",
        "* **Activations** are temporary numbers calculated during a forward pass, that are functions of the input.\n",
        "    * We can think of these values as only existing for the duration of a single forward pass, and disappearing afterwards.\n",
        "    * We can use hooks to access these values during a forward pass (more on hooks later), but it doesn't make sense to talk about a model's activations outside the context of some particular input.\n",
        "    * Attention scores and patterns are activations (this is slightly non-intuitve because they're used in a matrix multiplication with another activation).\n",
        "\n",
        "The link below shows a diagram of a single layer (called a `TransformerBlock`) for an attention-only model with no biases. Each box corresponds to an **activation** (and also tells you the name of the corresponding hook point, which we will eventually use to access those activations). The red text below each box tells you the shape of the activation (ignoring the batch dimension). Each arrow corresponds to an operation on an activation; where there are **parameters** involved these are labelled on the arrows.\n",
        "\n",
        "[Link to diagram](https://raw.githubusercontent.com/callummcdougall/computational-thread-art/master/example_images/misc/small-merm.svg)\n",
        "\n",
        "The next link is to a diagram of a `TransformerBlock` with full features (including biases, layernorms, and MLPs). Don't worry if not all of this makes sense at first - we'll return to some of the details later. As we work with these transformers, we'll get more comfortable with their architecture.\n",
        "\n",
        "[Link to diagram](https://raw.githubusercontent.com/callummcdougall/computational-thread-art/master/example_images/misc/full-merm.svg)\n"
      ]
    },
    {
      "cell_type": "markdown",
      "metadata": {
        "id": "niAB4j1rEJok"
      },
      "source": [
        "A few shortctus to make your lives easier when using these models:\n",
        "\n",
        "* You can index weights like `W_Q` directly from the model via e.g. `model.blocks[0].attn.W_Q` (which gives you the `[nheads, d_model, d_head]` query weights for all heads in layer 0).\n",
        "    * But an easier way is just to index with `model.W_Q`, which gives you the `[nlayers, nheads, d_model, d_head]` tensor containing **every** query weight in the model.\n",
        "* Similarly, there exist shortcuts `model.W_E`, `model.W_U` and `model.W_pos` for the embeddings, unembeddings and positional embeddings respectively.\n",
        "* With models containing MLP layers, you also have `model.W_in` and `model.W_out` for the linear layers.\n",
        "* The same is true for all biases (e.g. `model.b_Q` for all query biases).\n"
      ]
    },
    {
      "cell_type": "markdown",
      "metadata": {
        "id": "ZMVYV4leEKbL"
      },
      "source": [
        "## Tokenization\n",
        "\n",
        "The tokenizer is stored inside the model, and you can access it using `model.tokenizer`. There are also a few helper methods that call the tokenizer under the hood, for instance:\n",
        "\n",
        "* `model.to_str_tokens(text)` converts a string into a list of tokens-as-strings (or a list of strings into a list of lists of tokens-as-strings).\n",
        "* `model.to_tokens(text)` converts a string into a tensor of tokens.\n",
        "* `model.to_string(tokens)` converts a tensor of tokens into a string.\n",
        "\n",
        "Examples of use:\n"
      ]
    },
    {
      "cell_type": "code",
      "execution_count": 6,
      "metadata": {
        "id": "uhYz1-TIENg8",
        "colab": {
          "base_uri": "https://localhost:8080/"
        },
        "outputId": "ca85c8fc-7366-4625-e950-e3cd509bd900"
      },
      "outputs": [
        {
          "output_type": "stream",
          "name": "stdout",
          "text": [
            "['<|endoftext|>', 'g', 'pt', '2']\n",
            "[['<|endoftext|>', 'g', 'pt', '2'], ['<|endoftext|>', 'g', 'pt', '2']]\n",
            "tensor([[50256,    70,   457,    17]], device='cuda:0')\n",
            "<|endoftext|>gpt2\n"
          ]
        }
      ],
      "source": [
        "print(gpt2_small.to_str_tokens(\"gpt2\"))\n",
        "print(gpt2_small.to_str_tokens([\"gpt2\", \"gpt2\"]))\n",
        "print(gpt2_small.to_tokens(\"gpt2\"))\n",
        "print(gpt2_small.to_string([50256, 70, 457, 17]))"
      ]
    },
    {
      "cell_type": "markdown",
      "metadata": {
        "id": "Bqi4ia9gEQ0H"
      },
      "source": [
        "<details>\n",
        "<summary>Aside - <code><|endoftext|></code></summary>\n",
        "\n",
        "A weirdness you may have noticed in the above is that `to_tokens` and `to_str_tokens` added a weird `<|endoftext|>` to the start of each prompt. We encountered this in the previous set of exercises, and noted that this was the **Beginning of Sequence (BOS)** token (which for GPT-2 is also the same as the EOS and PAD tokens - index `50256`.\n",
        "\n",
        "TransformerLens appends this token by default, and it can easily trip up new users. Notably, **this includes** `model.forward` (which is what's implicitly used when you do eg `model(\"Hello World\")`). You can disable this behaviour by setting the flag `prepend_bos=False` in `to_tokens`, `to_str_tokens`, `model.forward` and any other function that converts strings to multi-token tensors.\n",
        "\n",
        "`prepend_bos` is a bit of a hack, and I've gone back and forth on what the correct default here is. The reason I do this is that transformers tend to treat the first token weirdly - this doesn't really matter in training (where all inputs are >1000 tokens), but this can be a big issue when investigating short prompts! The reason for this is that attention patterns are a probability distribution and so need to add up to one, so to simulate being \"off\" they normally look at the first token. Giving them a BOS token lets the heads rest by looking at that, preserving the information in the first \"real\" token.\n",
        "\n",
        "Further, *some* models are trained to need a BOS token (OPT and my interpretability-friendly models are, GPT-2 and GPT-Neo are not). But despite GPT-2 not being trained with this, empirically it seems to make interpretability easier.\n",
        "\n",
        "</details>\n"
      ]
    },
    {
      "cell_type": "markdown",
      "metadata": {
        "id": "n1dzElw0EdAu"
      },
      "source": [
        "### Exercise - how many tokens does your model guess correctly?\n",
        "\n",
        "```c\n",
        "Difficulty: 🔴🔴⚪⚪⚪\n",
        "Importance: 🔵🔵🔵⚪⚪\n",
        "\n",
        "You should spend up to ~10 minutes on this exercise.\n",
        "```\n",
        "\n",
        "Consider the `model_description_text` you fed into your model above. How many tokens did your model guess correctly? Which tokens were correct?\n"
      ]
    },
    {
      "cell_type": "code",
      "execution_count": 7,
      "metadata": {
        "id": "bELe8BuHEgCa"
      },
      "outputs": [],
      "source": [
        "logits: Tensor = gpt2_small(model_description_text, return_type=\"logits\")\n",
        "prediction = logits.argmax(dim=-1).squeeze()[:-1]"
      ]
    },
    {
      "cell_type": "code",
      "source": [
        "model_description_tokens = gpt2_small.to_tokens(model_description_text, prepend_bos=False)\n",
        "print(len(model_description_tokens[0]))"
      ],
      "metadata": {
        "colab": {
          "base_uri": "https://localhost:8080/"
        },
        "id": "wFCiNQltFGLM",
        "outputId": "6c77ef9b-58c7-49c2-f06c-e4e86f34c34e"
      },
      "execution_count": 14,
      "outputs": [
        {
          "output_type": "stream",
          "name": "stdout",
          "text": [
            "111\n"
          ]
        }
      ]
    },
    {
      "cell_type": "code",
      "source": [
        "# YOUR CODE HERE - get the model's prediction on the text\n",
        "print(len(prediction))"
      ],
      "metadata": {
        "colab": {
          "base_uri": "https://localhost:8080/"
        },
        "id": "B5aLdbZbE-_f",
        "outputId": "d3ecf500-3ffc-435e-fa1b-03875ca58773"
      },
      "execution_count": 15,
      "outputs": [
        {
          "output_type": "stream",
          "name": "stdout",
          "text": [
            "111\n"
          ]
        }
      ]
    },
    {
      "cell_type": "code",
      "source": [
        "res = prediction==model_description_tokens[0]\n",
        "print(f'Correct Tokens: {sum(res)}/{len(res)}')"
      ],
      "metadata": {
        "colab": {
          "base_uri": "https://localhost:8080/"
        },
        "id": "WrNuxg4TFdyp",
        "outputId": "2554f063-ad1b-46c6-81cd-58ead9d678b3"
      },
      "execution_count": 19,
      "outputs": [
        {
          "output_type": "stream",
          "name": "stdout",
          "text": [
            "Correct Tokens: 33/111\n"
          ]
        }
      ]
    },
    {
      "cell_type": "code",
      "source": [
        "correct_tokens = gpt2_small.to_str_tokens(prediction[res])\n",
        "print(correct_tokens)"
      ],
      "metadata": {
        "colab": {
          "base_uri": "https://localhost:8080/"
        },
        "id": "njF6pzYTFFfX",
        "outputId": "921984de-ca39-4365-d774-de0087fe949a"
      },
      "execution_count": 22,
      "outputs": [
        {
          "output_type": "stream",
          "name": "stdout",
          "text": [
            "['\\n', '\\n', 'former', ' with', ' models', '.', ' can', ' of', 'ooked', 'Trans', 'former', '_', 'NAME', '`.', ' model', ' the', 'Trans', 'former', ' to', ' be', ' and', '-', '.', '\\n', '\\n', ' at', 'PT', '-', ',', ' model', ',', \"'s\", ' the']\n"
          ]
        }
      ]
    },
    {
      "cell_type": "markdown",
      "metadata": {
        "id": "n3DrdBkEEiRA"
      },
      "source": [
        "<details>\n",
        "<summary>Hint</summary>\n",
        "\n",
        "Use `return_type=\"logits\"` to get the model's predictions, then take argmax across the vocab dimension. Then, compare these predictions with the actual tokens, derived from the `model_description_text`.\n",
        "\n",
        "Remember, you should be comparing the `[:-1]`th elements of this tensor of predictions with the `[1:]`th elements of the input tokens (because your model's output represents a probability distribution over the *next* token, not the current one).\n",
        "\n",
        "Also, remember to handle the batch dimension (since `logits`, and the output of `to_tokens`, will both have batch dimensions by default).\n",
        "\n",
        "</details>\n",
        "\n",
        "<details>\n",
        "<summary>Answer - what you should see</summary>\n",
        "\n",
        "```\n",
        "Model accuracy: 33/111\n",
        "Correct tokens: ['\\n', '\\n', 'former', ' with', ' models', '.', ' can', ' of', 'ooked', 'Trans', 'former', '_', 'NAME', '`.', ' model', ' the', 'Trans', 'former', ' to', ' be', ' and', '-', '.', '\\n', '\\n', ' at', 'PT', '-', ',', ' model', ',', \"'s\", ' the']\n",
        "```\n",
        "\n",
        "So the model got 33 out of 111 tokens correct. Not too bad!\n",
        "\n",
        "</details>"
      ]
    },
    {
      "cell_type": "markdown",
      "metadata": {
        "id": "UX_lpxWuEm4P"
      },
      "source": [
        "**Induction heads** are a special kind of attention head which we'll examine a lot more in coming exercises. They allow a model to perform in-context learning of a specific form: generalising from one observation that token `B` follows token `A`, to predict that token `B` will follow `A` in future occurrences of `A`, even if these two tokens had never appeared together in the model's training data.\n",
        "\n",
        "**Can you see evidence of any induction heads at work, on this text?**\n",
        "\n",
        "<details>\n",
        "<summary>Evidence of induction heads</summary>\n",
        "\n",
        "The evidence for induction heads comes from the fact that the model successfully predicted `'ooked', 'Trans', 'former'` following the token `'H'`. This is because it's the second time that `HookedTransformer` had appeared in this text string, and the model predicted it the second time but not the first. (The model did predict `former` the first time, but we can reasonably assume that `Transformer` is a word this model had already been exposed to during training, so this prediction wouldn't require the induction capability, unlike `HookedTransformer`.)\n",
        "\n",
        "```python\n",
        "print(gpt2_small.to_str_tokens(\"HookedTransformer\", prepend_bos=False))     # --> ['H', 'ooked', 'Trans', 'former']\n",
        "```\n",
        "</details>\n"
      ]
    },
    {
      "cell_type": "markdown",
      "metadata": {
        "id": "cTaC3NSKFZBm"
      },
      "source": [
        "## Caching all Activations\n",
        "\n",
        "The first basic operation when doing mechanistic interpretability is to break open the black box of the model and look at all of the internal activations of a model. This can be done with `logits, cache = model.run_with_cache(tokens)`. Let's try this out, on the first sentence from the GPT-2 paper.\n",
        "\n",
        "<details>\n",
        "<summary>Aside - a note on <code>remove_batch_dim</code></summary>\n",
        "\n",
        "Every activation inside the model begins with a batch dimension. Here, because we only entered a single batch dimension, that dimension is always length 1 and kinda annoying, so passing in the `remove_batch_dim=True` keyword removes it.\n",
        "\n",
        "`gpt2_cache_no_batch_dim = gpt2_cache.remove_batch_dim()` would have achieved the same effect.\n",
        "</details>\n"
      ]
    },
    {
      "cell_type": "code",
      "execution_count": 23,
      "metadata": {
        "id": "5qVoXngtFtdX"
      },
      "outputs": [],
      "source": [
        "gpt2_text = \"Natural language processing tasks, such as question answering, machine translation, reading comprehension, and summarization, are typically approached with supervised learning on taskspecific datasets.\"\n",
        "gpt2_tokens = gpt2_small.to_tokens(gpt2_text)\n",
        "gpt2_logits, gpt2_cache = gpt2_small.run_with_cache(gpt2_tokens, remove_batch_dim=True)"
      ]
    },
    {
      "cell_type": "code",
      "source": [
        "gpt2_cache"
      ],
      "metadata": {
        "colab": {
          "base_uri": "https://localhost:8080/"
        },
        "id": "m8G0Tk7aIu5U",
        "outputId": "33abb13a-d226-4e50-e9b8-66e5f8a37b06"
      },
      "execution_count": 24,
      "outputs": [
        {
          "output_type": "execute_result",
          "data": {
            "text/plain": [
              "ActivationCache with keys ['hook_embed', 'hook_pos_embed', 'blocks.0.hook_resid_pre', 'blocks.0.ln1.hook_scale', 'blocks.0.ln1.hook_normalized', 'blocks.0.attn.hook_q', 'blocks.0.attn.hook_k', 'blocks.0.attn.hook_v', 'blocks.0.attn.hook_attn_scores', 'blocks.0.attn.hook_pattern', 'blocks.0.attn.hook_z', 'blocks.0.hook_attn_out', 'blocks.0.hook_resid_mid', 'blocks.0.ln2.hook_scale', 'blocks.0.ln2.hook_normalized', 'blocks.0.mlp.hook_pre', 'blocks.0.mlp.hook_post', 'blocks.0.hook_mlp_out', 'blocks.0.hook_resid_post', 'blocks.1.hook_resid_pre', 'blocks.1.ln1.hook_scale', 'blocks.1.ln1.hook_normalized', 'blocks.1.attn.hook_q', 'blocks.1.attn.hook_k', 'blocks.1.attn.hook_v', 'blocks.1.attn.hook_attn_scores', 'blocks.1.attn.hook_pattern', 'blocks.1.attn.hook_z', 'blocks.1.hook_attn_out', 'blocks.1.hook_resid_mid', 'blocks.1.ln2.hook_scale', 'blocks.1.ln2.hook_normalized', 'blocks.1.mlp.hook_pre', 'blocks.1.mlp.hook_post', 'blocks.1.hook_mlp_out', 'blocks.1.hook_resid_post', 'blocks.2.hook_resid_pre', 'blocks.2.ln1.hook_scale', 'blocks.2.ln1.hook_normalized', 'blocks.2.attn.hook_q', 'blocks.2.attn.hook_k', 'blocks.2.attn.hook_v', 'blocks.2.attn.hook_attn_scores', 'blocks.2.attn.hook_pattern', 'blocks.2.attn.hook_z', 'blocks.2.hook_attn_out', 'blocks.2.hook_resid_mid', 'blocks.2.ln2.hook_scale', 'blocks.2.ln2.hook_normalized', 'blocks.2.mlp.hook_pre', 'blocks.2.mlp.hook_post', 'blocks.2.hook_mlp_out', 'blocks.2.hook_resid_post', 'blocks.3.hook_resid_pre', 'blocks.3.ln1.hook_scale', 'blocks.3.ln1.hook_normalized', 'blocks.3.attn.hook_q', 'blocks.3.attn.hook_k', 'blocks.3.attn.hook_v', 'blocks.3.attn.hook_attn_scores', 'blocks.3.attn.hook_pattern', 'blocks.3.attn.hook_z', 'blocks.3.hook_attn_out', 'blocks.3.hook_resid_mid', 'blocks.3.ln2.hook_scale', 'blocks.3.ln2.hook_normalized', 'blocks.3.mlp.hook_pre', 'blocks.3.mlp.hook_post', 'blocks.3.hook_mlp_out', 'blocks.3.hook_resid_post', 'blocks.4.hook_resid_pre', 'blocks.4.ln1.hook_scale', 'blocks.4.ln1.hook_normalized', 'blocks.4.attn.hook_q', 'blocks.4.attn.hook_k', 'blocks.4.attn.hook_v', 'blocks.4.attn.hook_attn_scores', 'blocks.4.attn.hook_pattern', 'blocks.4.attn.hook_z', 'blocks.4.hook_attn_out', 'blocks.4.hook_resid_mid', 'blocks.4.ln2.hook_scale', 'blocks.4.ln2.hook_normalized', 'blocks.4.mlp.hook_pre', 'blocks.4.mlp.hook_post', 'blocks.4.hook_mlp_out', 'blocks.4.hook_resid_post', 'blocks.5.hook_resid_pre', 'blocks.5.ln1.hook_scale', 'blocks.5.ln1.hook_normalized', 'blocks.5.attn.hook_q', 'blocks.5.attn.hook_k', 'blocks.5.attn.hook_v', 'blocks.5.attn.hook_attn_scores', 'blocks.5.attn.hook_pattern', 'blocks.5.attn.hook_z', 'blocks.5.hook_attn_out', 'blocks.5.hook_resid_mid', 'blocks.5.ln2.hook_scale', 'blocks.5.ln2.hook_normalized', 'blocks.5.mlp.hook_pre', 'blocks.5.mlp.hook_post', 'blocks.5.hook_mlp_out', 'blocks.5.hook_resid_post', 'blocks.6.hook_resid_pre', 'blocks.6.ln1.hook_scale', 'blocks.6.ln1.hook_normalized', 'blocks.6.attn.hook_q', 'blocks.6.attn.hook_k', 'blocks.6.attn.hook_v', 'blocks.6.attn.hook_attn_scores', 'blocks.6.attn.hook_pattern', 'blocks.6.attn.hook_z', 'blocks.6.hook_attn_out', 'blocks.6.hook_resid_mid', 'blocks.6.ln2.hook_scale', 'blocks.6.ln2.hook_normalized', 'blocks.6.mlp.hook_pre', 'blocks.6.mlp.hook_post', 'blocks.6.hook_mlp_out', 'blocks.6.hook_resid_post', 'blocks.7.hook_resid_pre', 'blocks.7.ln1.hook_scale', 'blocks.7.ln1.hook_normalized', 'blocks.7.attn.hook_q', 'blocks.7.attn.hook_k', 'blocks.7.attn.hook_v', 'blocks.7.attn.hook_attn_scores', 'blocks.7.attn.hook_pattern', 'blocks.7.attn.hook_z', 'blocks.7.hook_attn_out', 'blocks.7.hook_resid_mid', 'blocks.7.ln2.hook_scale', 'blocks.7.ln2.hook_normalized', 'blocks.7.mlp.hook_pre', 'blocks.7.mlp.hook_post', 'blocks.7.hook_mlp_out', 'blocks.7.hook_resid_post', 'blocks.8.hook_resid_pre', 'blocks.8.ln1.hook_scale', 'blocks.8.ln1.hook_normalized', 'blocks.8.attn.hook_q', 'blocks.8.attn.hook_k', 'blocks.8.attn.hook_v', 'blocks.8.attn.hook_attn_scores', 'blocks.8.attn.hook_pattern', 'blocks.8.attn.hook_z', 'blocks.8.hook_attn_out', 'blocks.8.hook_resid_mid', 'blocks.8.ln2.hook_scale', 'blocks.8.ln2.hook_normalized', 'blocks.8.mlp.hook_pre', 'blocks.8.mlp.hook_post', 'blocks.8.hook_mlp_out', 'blocks.8.hook_resid_post', 'blocks.9.hook_resid_pre', 'blocks.9.ln1.hook_scale', 'blocks.9.ln1.hook_normalized', 'blocks.9.attn.hook_q', 'blocks.9.attn.hook_k', 'blocks.9.attn.hook_v', 'blocks.9.attn.hook_attn_scores', 'blocks.9.attn.hook_pattern', 'blocks.9.attn.hook_z', 'blocks.9.hook_attn_out', 'blocks.9.hook_resid_mid', 'blocks.9.ln2.hook_scale', 'blocks.9.ln2.hook_normalized', 'blocks.9.mlp.hook_pre', 'blocks.9.mlp.hook_post', 'blocks.9.hook_mlp_out', 'blocks.9.hook_resid_post', 'blocks.10.hook_resid_pre', 'blocks.10.ln1.hook_scale', 'blocks.10.ln1.hook_normalized', 'blocks.10.attn.hook_q', 'blocks.10.attn.hook_k', 'blocks.10.attn.hook_v', 'blocks.10.attn.hook_attn_scores', 'blocks.10.attn.hook_pattern', 'blocks.10.attn.hook_z', 'blocks.10.hook_attn_out', 'blocks.10.hook_resid_mid', 'blocks.10.ln2.hook_scale', 'blocks.10.ln2.hook_normalized', 'blocks.10.mlp.hook_pre', 'blocks.10.mlp.hook_post', 'blocks.10.hook_mlp_out', 'blocks.10.hook_resid_post', 'blocks.11.hook_resid_pre', 'blocks.11.ln1.hook_scale', 'blocks.11.ln1.hook_normalized', 'blocks.11.attn.hook_q', 'blocks.11.attn.hook_k', 'blocks.11.attn.hook_v', 'blocks.11.attn.hook_attn_scores', 'blocks.11.attn.hook_pattern', 'blocks.11.attn.hook_z', 'blocks.11.hook_attn_out', 'blocks.11.hook_resid_mid', 'blocks.11.ln2.hook_scale', 'blocks.11.ln2.hook_normalized', 'blocks.11.mlp.hook_pre', 'blocks.11.mlp.hook_post', 'blocks.11.hook_mlp_out', 'blocks.11.hook_resid_post', 'ln_final.hook_scale', 'ln_final.hook_normalized']"
            ]
          },
          "metadata": {},
          "execution_count": 24
        }
      ]
    },
    {
      "cell_type": "markdown",
      "metadata": {
        "id": "rSHVuoxUFwrz"
      },
      "source": [
        "If you inspect the `gpt2_cache` object, you should see that it contains a very large number of keys, each one corresponding to a different activation in the model. You can access the keys by indexing the cache directly, or by a more convenient indexing shorthand. For instance, the code:\n"
      ]
    },
    {
      "cell_type": "code",
      "execution_count": 25,
      "metadata": {
        "id": "g6S7nL1SFxlm"
      },
      "outputs": [],
      "source": [
        "attn_patterns_layer_0 = gpt2_cache[\"pattern\", 0]"
      ]
    },
    {
      "cell_type": "markdown",
      "metadata": {
        "id": "6CPykIduFz6C"
      },
      "source": [
        "returns the same thing as:\n"
      ]
    },
    {
      "cell_type": "code",
      "execution_count": null,
      "metadata": {
        "id": "PIsPKXKOF2KA"
      },
      "outputs": [],
      "source": [
        "attn_patterns_layer_0_copy = gpt2_cache[\"blocks.0.attn.hook_pattern\"]\n",
        "\n",
        "t.testing.assert_close(attn_patterns_layer_0, attn_patterns_layer_0_copy)"
      ]
    },
    {
      "cell_type": "markdown",
      "metadata": {
        "id": "efgg9LEEF33O"
      },
      "source": [
        "<details>\n",
        "<summary>Aside: <code>utils.get_act_name</code></summary>\n",
        "\n",
        "The reason these are the same is that, under the hood, the first example actually indexes by `utils.get_act_name(\"pattern\", 0)`, which evaluates to `\"blocks.0.attn.hook_pattern\"`.\n",
        "\n",
        "In general, `utils.get_act_name` is a useful function for getting the full name of an activation, given its short name and layer number.\n",
        "\n",
        "You can use the diagram from the **Transformer Architecture** section to help you find activation names.\n",
        "</details>\n"
      ]
    },
    {
      "cell_type": "markdown",
      "metadata": {
        "id": "deNLzOcuF9yP"
      },
      "source": [
        "### Exercise - verify activations\n",
        "\n",
        "```c\n",
        "Difficulty: 🔴🔴🔴⚪⚪\n",
        "Importance: 🔵🔵🔵⚪⚪\n",
        "\n",
        "You should spend up to 10-15 minutes on this exercise.\n",
        "\n",
        "If you're already comfortable implementing things like attention calculations (e.g. having gone through Neel's transformer walkthrough) you can skip this exercise. However, it might serve as a useful refresher.\n",
        "```\n",
        "\n",
        "Verify that `hook_q`, `hook_k` and `hook_pattern` are related to each other in the way implied by the diagram. Do this by computing `layer0_pattern_from_cache` (the attention pattern taken directly from the cache, for layer 0) and `layer0_pattern_from_q_and_k` (the attention pattern calculated from `hook_q` and `hook_k`, for layer 0). Remember that attention pattern is the probabilities, so you'll need to scale and softmax appropriately.\n"
      ]
    },
    {
      "cell_type": "code",
      "source": [
        "import torch\n",
        "import torch.nn.functional as F\n",
        "\n",
        "def calculate_attention_pattern(q, k):\n",
        "    # Step 1: Compute the dot product of q and k\n",
        "    # q shape: [seqQ, nhead, headsize]\n",
        "    # k shape: [seqK, nhead, headsize]\n",
        "    # We want to end up with shape [nhead, seqQ, seqK]\n",
        "    dot_product = torch.einsum('qhd,khd->hqk', q, k)\n",
        "\n",
        "    # Step 2: Scale the dot product\n",
        "    scale = q.size(-1) ** 0.5  # sqrt of headsize\n",
        "    scaled_dot_product = dot_product / scale\n",
        "\n",
        "    # Step 3: Apply causal mask (lower triangular)\n",
        "    mask = torch.tril(torch.ones_like(scaled_dot_product[0])).unsqueeze(0)\n",
        "    masked_dot_product = scaled_dot_product.masked_fill(mask == 0, float('-inf'))\n",
        "\n",
        "    # Step 4: Apply softmax to get attention probabilities\n",
        "    return F.softmax(masked_dot_product, dim=-1)\n",
        "\n",
        "# Get q and k from the cache\n",
        "q = gpt2_cache[\"q\", 0]\n",
        "k = gpt2_cache[\"k\", 0]\n",
        "\n",
        "# Calculate the attention pattern\n",
        "layer0_pattern_from_q_and_k = calculate_attention_pattern(q, k)\n",
        "\n",
        "# Get the cached attention pattern\n",
        "layer0_pattern_from_cache = gpt2_cache[\"pattern\", 0]\n",
        "\n",
        "# Compare the results\n",
        "torch.testing.assert_close(layer0_pattern_from_cache, layer0_pattern_from_q_and_k)\n",
        "print(\"Tests passed!\")"
      ],
      "metadata": {
        "colab": {
          "base_uri": "https://localhost:8080/"
        },
        "id": "pF223PM-L_4I",
        "outputId": "b1a9df58-6f8d-4ec2-d195-f01d9b7a342e"
      },
      "execution_count": 45,
      "outputs": [
        {
          "output_type": "stream",
          "name": "stdout",
          "text": [
            "Tests passed!\n"
          ]
        }
      ]
    },
    {
      "cell_type": "markdown",
      "metadata": {
        "id": "3FDUELPcGC0W"
      },
      "source": [
        "<details>\n",
        "<summary>Hint</summary>\n",
        "\n",
        "You'll need to use three different cache indexes in all:\n",
        "\n",
        "* `gpt2_cache[\"pattern\", 0]` to get the attention patterns, which have shape `[seqQ, seqK]`\n",
        "* `gpt2_cache[\"q\", 0]` to get the query vectors, which have shape `[seqQ, nhead, headsize]`\n",
        "* `gpt2_cache[\"k\", 0]` to get the key vectors, which have shape `[seqK, nhead, headsize]`\n",
        "\n",
        "</details>\n"
      ]
    },
    {
      "cell_type": "markdown",
      "metadata": {
        "id": "dAfJSiXBGRin"
      },
      "source": [
        "## Visualising Attention Heads\n",
        "\n",
        "A key insight from the Mathematical Frameworks paper is that we should focus on interpreting the parts of the model that are intrinsically interpretable - the input tokens, the output logits and the attention patterns. Everything else (the residual stream, keys, queries, values, etc) are compressed intermediate states when calculating meaningful things. So a natural place to start is classifying heads by their attention patterns on various texts.\n",
        "\n",
        "When doing interpretability, it's always good to begin by visualising your data, rather than taking summary statistics. Summary statistics can be super misleading! But now that we have visualised the attention patterns, we can create some basic summary statistics and use our visualisations to validate them! (Accordingly, being good at web dev/data visualisation is a surprisingly useful skillset! Neural networks are very high-dimensional object.)\n",
        "\n",
        "Let's visualize the attention pattern of all the heads in layer 0, using [Alan Cooney's CircuitsVis library](https://github.com/alan-cooney/CircuitsVis) (based on Anthropic's PySvelte library). If you did the previous set of exercises, you'll have seen this library before.\n",
        "\n",
        "We will use the function `cv.attention.attention_patterns`, which takes two important arguments:\n",
        "\n",
        "* `attention`: Attention head activations.\n",
        "    * This should be a tensor of shape `[nhead, seq_dest, seq_src]`, i.e. the `[i, :, :]`th element is the grid of attention patterns (probabilities) for the `i`th attention head.\n",
        "    * We get this by indexing our `gpt2_cache` object.\n",
        "* `tokens`: List of tokens (e.g. `[\"A\", \"person\"]`).\n",
        "    * Sequence length must match that inferred from `attention`.\n",
        "    * This is used to label the grid.\n",
        "    * We get this by using the `gpt2_small.to_str_tokens` method.\n",
        "\n",
        "(Another optional argument is `attention_head_names`, which is useful if you don't just want the heads to show up as \"Head 0\", \"Head 1\", ... in the visualisation. Also, note that we can use `cv.attention.attention_patterns` too, which has the same syntax but presents information differently, and can be more helpful in some cases.)\n",
        "\n",
        "<details>\n",
        "<summary>Help - my <code>attention_heads</code> plots are behaving weirdly (e.g. they continually shrink after I plot them).</summary>\n",
        "\n",
        "This seems to be a bug in `circuitsvis` - on VSCode, the attention head plots continually shrink in size.\n",
        "\n",
        "Until this is fixed, one way to get around it is to open the plots in your browser. You can do this inline with the `webbrowser` library:\n",
        "\n",
        "```python\n",
        "attn_heads = cv.attention.attention_heads(\n",
        "    tokens=gpt2_str_tokens,\n",
        "    attention=attention_pattern,\n",
        "    attention_head_names=[f\"L0H{i}\" for i in range(12)],\n",
        ")\n",
        "\n",
        "path = \"attn_heads.html\"\n",
        "\n",
        "with open(path, \"w\") as f:\n",
        "    f.write(str(attn_heads))\n",
        "\n",
        "webbrowser.open(path)\n",
        "```\n",
        "\n",
        "To check exactly where this is getting saved, you can print your current working directory with `os.getcwd()`.\n",
        "</details>\n",
        "\n",
        "This visualization is interactive! Try hovering over a token or head, and click to lock. The grid on the top left and for each head is the attention pattern as a destination position by source position grid. It's lower triangular because GPT-2 has **causal attention**, attention can only look backwards, so information can only move forwards in the network.\n"
      ]
    },
    {
      "cell_type": "code",
      "execution_count": 46,
      "metadata": {
        "id": "Pm7LUCkYGjcV",
        "colab": {
          "base_uri": "https://localhost:8080/",
          "height": 409
        },
        "outputId": "fd5b1ff0-a9b9-4fa8-ea1b-f85f959178e3"
      },
      "outputs": [
        {
          "output_type": "stream",
          "name": "stdout",
          "text": [
            "<class 'transformer_lens.ActivationCache.ActivationCache'>\n",
            "torch.Size([12, 33, 33])\n",
            "Layer 0 Head Attention Patterns:\n"
          ]
        },
        {
          "output_type": "display_data",
          "data": {
            "text/plain": [
              "<circuitsvis.utils.render.RenderedHTML at 0x7a3f3c48e110>"
            ],
            "text/html": [
              "<div id=\"circuits-vis-5c2efa30-0dc4\" style=\"margin: 15px 0;\"/>\n",
              "    <script crossorigin type=\"module\">\n",
              "    import { render, AttentionPatterns } from \"https://unpkg.com/circuitsvis@1.41.0/dist/cdn/esm.js\";\n",
              "    render(\n",
              "      \"circuits-vis-5c2efa30-0dc4\",\n",
              "      AttentionPatterns,\n",
              "      {\"tokens\": [\"<|endoftext|>\", \"Natural\", \" language\", \" processing\", \" tasks\", \",\", \" such\", \" as\", \" question\", \" answering\", \",\", \" machine\", \" translation\", \",\", \" reading\", \" comprehension\", \",\", \" and\", \" summar\", \"ization\", \",\", \" are\", \" typically\", \" approached\", \" with\", \" supervised\", \" learning\", \" on\", \" tasks\", \"pe\", \"cific\", \" datasets\", \".\"], \"attention\": [[[1.0, 0.0, 0.0, 0.0, 0.0, 0.0, 0.0, 0.0, 0.0, 0.0, 0.0, 0.0, 0.0, 0.0, 0.0, 0.0, 0.0, 0.0, 0.0, 0.0, 0.0, 0.0, 0.0, 0.0, 0.0, 0.0, 0.0, 0.0, 0.0, 0.0, 0.0, 0.0, 0.0], [0.9639418125152588, 0.03605815768241882, 0.0, 0.0, 0.0, 0.0, 0.0, 0.0, 0.0, 0.0, 0.0, 0.0, 0.0, 0.0, 0.0, 0.0, 0.0, 0.0, 0.0, 0.0, 0.0, 0.0, 0.0, 0.0, 0.0, 0.0, 0.0, 0.0, 0.0, 0.0, 0.0, 0.0, 0.0], [0.8389372825622559, 0.1182878389954567, 0.04277484491467476, 0.0, 0.0, 0.0, 0.0, 0.0, 0.0, 0.0, 0.0, 0.0, 0.0, 0.0, 0.0, 0.0, 0.0, 0.0, 0.0, 0.0, 0.0, 0.0, 0.0, 0.0, 0.0, 0.0, 0.0, 0.0, 0.0, 0.0, 0.0, 0.0, 0.0], [0.4743610918521881, 0.13382019102573395, 0.2737175226211548, 0.11810119450092316, 0.0, 0.0, 0.0, 0.0, 0.0, 0.0, 0.0, 0.0, 0.0, 0.0, 0.0, 0.0, 0.0, 0.0, 0.0, 0.0, 0.0, 0.0, 0.0, 0.0, 0.0, 0.0, 0.0, 0.0, 0.0, 0.0, 0.0, 0.0, 0.0], [0.3560643196105957, 0.10184912383556366, 0.23054221272468567, 0.20397408306598663, 0.10757023096084595, 0.0, 0.0, 0.0, 0.0, 0.0, 0.0, 0.0, 0.0, 0.0, 0.0, 0.0, 0.0, 0.0, 0.0, 0.0, 0.0, 0.0, 0.0, 0.0, 0.0, 0.0, 0.0, 0.0, 0.0, 0.0, 0.0, 0.0, 0.0], [0.6660143733024597, 0.16866381466388702, 0.04535672441124916, 0.03885502368211746, 0.06775479763746262, 0.013355262577533722, 0.0, 0.0, 0.0, 0.0, 0.0, 0.0, 0.0, 0.0, 0.0, 0.0, 0.0, 0.0, 0.0, 0.0, 0.0, 0.0, 0.0, 0.0, 0.0, 0.0, 0.0, 0.0, 0.0, 0.0, 0.0, 0.0, 0.0], [0.38626953959465027, 0.2851093113422394, 0.07609008252620697, 0.05908379703760147, 0.07223348319530487, 0.03979634493589401, 0.08141740411520004, 0.0, 0.0, 0.0, 0.0, 0.0, 0.0, 0.0, 0.0, 0.0, 0.0, 0.0, 0.0, 0.0, 0.0, 0.0, 0.0, 0.0, 0.0, 0.0, 0.0, 0.0, 0.0, 0.0, 0.0, 0.0, 0.0], [0.3775394856929779, 0.18838824331760406, 0.11723989248275757, 0.08685598522424698, 0.06669183075428009, 0.035000164061784744, 0.09693001955747604, 0.031354404985904694, 0.0, 0.0, 0.0, 0.0, 0.0, 0.0, 0.0, 0.0, 0.0, 0.0, 0.0, 0.0, 0.0, 0.0, 0.0, 0.0, 0.0, 0.0, 0.0, 0.0, 0.0, 0.0, 0.0, 0.0, 0.0], [0.48697546124458313, 0.06781316548585892, 0.07952875643968582, 0.0848078653216362, 0.15902605652809143, 0.02957780472934246, 0.025685932487249374, 0.016474606469273567, 0.05011039599776268, 0.0, 0.0, 0.0, 0.0, 0.0, 0.0, 0.0, 0.0, 0.0, 0.0, 0.0, 0.0, 0.0, 0.0, 0.0, 0.0, 0.0, 0.0, 0.0, 0.0, 0.0, 0.0, 0.0, 0.0], [0.2906550168991089, 0.04013494774699211, 0.14614856243133545, 0.09940595179796219, 0.1538919061422348, 0.03900160267949104, 0.024988971650600433, 0.03184126317501068, 0.10222822427749634, 0.07170349359512329, 0.0, 0.0, 0.0, 0.0, 0.0, 0.0, 0.0, 0.0, 0.0, 0.0, 0.0, 0.0, 0.0, 0.0, 0.0, 0.0, 0.0, 0.0, 0.0, 0.0, 0.0, 0.0, 0.0], [0.39624106884002686, 0.09694173187017441, 0.02727065235376358, 0.02355136349797249, 0.037234481424093246, 0.006502418778836727, 0.08118753135204315, 0.013088453561067581, 0.06990590691566467, 0.2404310256242752, 0.007645337376743555, 0.0, 0.0, 0.0, 0.0, 0.0, 0.0, 0.0, 0.0, 0.0, 0.0, 0.0, 0.0, 0.0, 0.0, 0.0, 0.0, 0.0, 0.0, 0.0, 0.0, 0.0, 0.0], [0.24864791333675385, 0.1380205601453781, 0.09235323220491409, 0.08676130324602127, 0.1381969451904297, 0.05914198234677315, 0.03223859518766403, 0.03158242255449295, 0.030489444732666016, 0.03873484209179878, 0.06671834737062454, 0.03711448237299919, 0.0, 0.0, 0.0, 0.0, 0.0, 0.0, 0.0, 0.0, 0.0, 0.0, 0.0, 0.0, 0.0, 0.0, 0.0, 0.0, 0.0, 0.0, 0.0, 0.0, 0.0], [0.19148437678813934, 0.16172590851783752, 0.07445935904979706, 0.0774095207452774, 0.02196110039949417, 0.033921290189027786, 0.05125020816922188, 0.01951923780143261, 0.031324464827775955, 0.040201522409915924, 0.03874269127845764, 0.21578861773014069, 0.04221170023083687, 0.0, 0.0, 0.0, 0.0, 0.0, 0.0, 0.0, 0.0, 0.0, 0.0, 0.0, 0.0, 0.0, 0.0, 0.0, 0.0, 0.0, 0.0, 0.0, 0.0], [0.3704318404197693, 0.08681420236825943, 0.02458467334508896, 0.021616319194436073, 0.03238872066140175, 0.0054227327927947044, 0.0727522000670433, 0.011272789910435677, 0.06329690665006638, 0.21726815402507782, 0.006367161404341459, 0.029603799805045128, 0.050998445600271225, 0.0071820588782429695, 0.0, 0.0, 0.0, 0.0, 0.0, 0.0, 0.0, 0.0, 0.0, 0.0, 0.0, 0.0, 0.0, 0.0, 0.0, 0.0, 0.0, 0.0, 0.0], [0.19737647473812103, 0.04603996127843857, 0.04399982839822769, 0.13373461365699768, 0.05424819514155388, 0.02547571435570717, 0.02756350487470627, 0.02157093584537506, 0.05171823874115944, 0.0645809918642044, 0.028064632788300514, 0.23551592230796814, 0.019129808992147446, 0.029963519424200058, 0.021017689257860184, 0.0, 0.0, 0.0, 0.0, 0.0, 0.0, 0.0, 0.0, 0.0, 0.0, 0.0, 0.0, 0.0, 0.0, 0.0, 0.0, 0.0, 0.0], [0.08907236903905869, 0.019288338720798492, 0.1665353626012802, 0.07281263172626495, 0.047386396676301956, 0.024487914517521858, 0.028987329453229904, 0.01937035098671913, 0.02667301520705223, 0.0731663629412651, 0.025704581290483475, 0.042423564940690994, 0.05869462713599205, 0.028932685032486916, 0.18119071424007416, 0.09527372568845749, 0.0, 0.0, 0.0, 0.0, 0.0, 0.0, 0.0, 0.0, 0.0, 0.0, 0.0, 0.0, 0.0, 0.0, 0.0, 0.0, 0.0], [0.281672865152359, 0.06441289931535721, 0.01800854504108429, 0.016169613227248192, 0.023183880373835564, 0.003753294702619314, 0.054722439497709274, 0.007909761741757393, 0.04616468772292137, 0.16947278380393982, 0.004361642058938742, 0.021011333912611008, 0.03549069166183472, 0.004932566080242395, 0.09555220603942871, 0.147263303399086, 0.005917452275753021, 0.0, 0.0, 0.0, 0.0, 0.0, 0.0, 0.0, 0.0, 0.0, 0.0, 0.0, 0.0, 0.0, 0.0, 0.0, 0.0], [0.21305492520332336, 0.05912372097373009, 0.033820874989032745, 0.027476869523525238, 0.028393549844622612, 0.008422907441854477, 0.04008529707789421, 0.011629259213805199, 0.05295189470052719, 0.1540464609861374, 0.009831814095377922, 0.03610192611813545, 0.047372885048389435, 0.011069191619753838, 0.09972474724054337, 0.13971346616744995, 0.013185341842472553, 0.013994943350553513, 0.0, 0.0, 0.0, 0.0, 0.0, 0.0, 0.0, 0.0, 0.0, 0.0, 0.0, 0.0, 0.0, 0.0, 0.0], [0.15871693193912506, 0.04387889429926872, 0.08712147921323776, 0.08998464792966843, 0.03073856607079506, 0.03414895012974739, 0.024917246773838997, 0.0313919372856617, 0.02482384443283081, 0.019790321588516235, 0.036254849284887314, 0.020694417878985405, 0.04284069687128067, 0.03820900246500969, 0.06234658882021904, 0.10919708758592606, 0.0413760207593441, 0.04916761443018913, 0.05440092086791992, 0.0, 0.0, 0.0, 0.0, 0.0, 0.0, 0.0, 0.0, 0.0, 0.0, 0.0, 0.0, 0.0, 0.0], [0.10485514998435974, 0.12122292071580887, 0.0648748129606247, 0.08768721669912338, 0.034340519458055496, 0.017483938485383987, 0.03415178507566452, 0.015289141796529293, 0.023312104865908623, 0.028306495398283005, 0.01872045174241066, 0.028111940249800682, 0.04190531373023987, 0.02098955772817135, 0.04678509384393692, 0.08659636229276657, 0.023631837218999863, 0.024273164570331573, 0.1670239418745041, 0.010438215918838978, 0.0, 0.0, 0.0, 0.0, 0.0, 0.0, 0.0, 0.0, 0.0, 0.0, 0.0, 0.0, 0.0], [0.22901973128318787, 0.051843829452991486, 0.013585180975496769, 0.012337238527834415, 0.01800542324781418, 0.0027703633531928062, 0.04238125681877136, 0.005856251809746027, 0.03614487498998642, 0.13039231300354004, 0.003153424011543393, 0.015672575682401657, 0.027800407260656357, 0.0035543276462703943, 0.07460813969373703, 0.11298276484012604, 0.004272268619388342, 0.00683220149949193, 0.18569742143154144, 0.01807364448904991, 0.005016350653022528, 0.0, 0.0, 0.0, 0.0, 0.0, 0.0, 0.0, 0.0, 0.0, 0.0, 0.0, 0.0], [0.18869931995868683, 0.034387119114398956, 0.02234474942088127, 0.019972730427980423, 0.016354022547602654, 0.006856550928205252, 0.020859045907855034, 0.005695998668670654, 0.03415919095277786, 0.07260987162590027, 0.007857213728129864, 0.018040243536233902, 0.026904454454779625, 0.009020397439599037, 0.06876447051763535, 0.1757872849702835, 0.010720070451498032, 0.009284546598792076, 0.19256392121315002, 0.025180326774716377, 0.012639065273106098, 0.02129935659468174, 0.0, 0.0, 0.0, 0.0, 0.0, 0.0, 0.0, 0.0, 0.0, 0.0, 0.0], [0.1195831298828125, 0.022259412333369255, 0.03294714167714119, 0.020170243456959724, 0.03565329313278198, 0.013459899462759495, 0.01751646213233471, 0.010057869367301464, 0.02585643343627453, 0.05955955758690834, 0.015084503218531609, 0.015008733607828617, 0.053174640983343124, 0.016597606241703033, 0.041555263102054596, 0.13129344582557678, 0.019296666607260704, 0.015855055302381516, 0.17925086617469788, 0.016183827072381973, 0.022295527160167694, 0.015463384799659252, 0.10187705606222153, 0.0, 0.0, 0.0, 0.0, 0.0, 0.0, 0.0, 0.0, 0.0, 0.0], [0.14615540206432343, 0.02672751620411873, 0.016624564304947853, 0.018987679854035378, 0.06278637796640396, 0.015317171812057495, 0.019792240113019943, 0.01422777958214283, 0.025458166375756264, 0.04530353471636772, 0.016364360228180885, 0.0374930240213871, 0.013288650661706924, 0.017496537417173386, 0.039945829659700394, 0.058817531913518906, 0.019260982051491737, 0.02461603656411171, 0.038219694048166275, 0.021577803418040276, 0.020949894562363625, 0.07973216474056244, 0.050176069140434265, 0.170680969953537, 0.0, 0.0, 0.0, 0.0, 0.0, 0.0, 0.0, 0.0, 0.0], [0.11321673542261124, 0.036746371537446976, 0.011786575429141521, 0.010274863801896572, 0.020370658487081528, 0.005243884399533272, 0.01591884344816208, 0.0052667842246592045, 0.02489173412322998, 0.06593261659145355, 0.005933656357228756, 0.01820903643965721, 0.021020205691456795, 0.006667503155767918, 0.03482880815863609, 0.13742120563983917, 0.007927050814032555, 0.008618665859103203, 0.1137719601392746, 0.013557428494095802, 0.009277831763029099, 0.026121364906430244, 0.08499343693256378, 0.19073909521102905, 0.011263745836913586, 0.0, 0.0, 0.0, 0.0, 0.0, 0.0, 0.0, 0.0], [0.1333770751953125, 0.02621660754084587, 0.03827150911092758, 0.07152574509382248, 0.05317767709493637, 0.013925845734775066, 0.0070841871201992035, 0.013450151309370995, 0.009841443039476871, 0.011789781041443348, 0.01353758666664362, 0.038154974579811096, 0.041933052241802216, 0.013882284052670002, 0.03707146272063255, 0.1383846253156662, 0.014846332371234894, 0.031569525599479675, 0.05598171427845955, 0.01553669199347496, 0.015956364572048187, 0.04545556753873825, 0.016699664294719696, 0.025325773283839226, 0.03671894967556, 0.08028542250394821, 0.0, 0.0, 0.0, 0.0, 0.0, 0.0, 0.0], [0.10608968138694763, 0.019107727333903313, 0.02446865849196911, 0.027496397495269775, 0.016365811228752136, 0.005011419299989939, 0.010413101874291897, 0.0060811396688222885, 0.005301062949001789, 0.011143160052597523, 0.004565387032926083, 0.018969900906085968, 0.004321116954088211, 0.004814978688955307, 0.029409391805529594, 0.028682032600045204, 0.005097253248095512, 0.0072343493811786175, 0.0341259241104126, 0.010370591655373573, 0.005643263924866915, 0.0072835832834243774, 0.029389536008238792, 0.010038794949650764, 0.009134515188634396, 0.5466632843017578, 0.012777909636497498, 0.0, 0.0, 0.0, 0.0, 0.0, 0.0], [0.10467309504747391, 0.033219415694475174, 0.015341246500611305, 0.009373546577990055, 0.026595447212457657, 0.005787803791463375, 0.013571353629231453, 0.004554882179945707, 0.028058907017111778, 0.026107236742973328, 0.006353434175252914, 0.013315829448401928, 0.026628248393535614, 0.006888875272125006, 0.06204746663570404, 0.05890704691410065, 0.008068048395216465, 0.007557095494121313, 0.0852278470993042, 0.01707575097680092, 0.009256890043616295, 0.019695769995450974, 0.1261780709028244, 0.13061511516571045, 0.011351034045219421, 0.08984369039535522, 0.04638151079416275, 0.0073252953588962555, 0.0, 0.0, 0.0, 0.0, 0.0], [0.08561895787715912, 0.021438928321003914, 0.056412555277347565, 0.057066626846790314, 0.019802190363407135, 0.006727494765073061, 0.005809160880744457, 0.004516262095421553, 0.003164749126881361, 0.01761521026492119, 0.006174593698233366, 0.08767972141504288, 0.012299870140850544, 0.006350458133965731, 0.017522132024168968, 0.14295226335525513, 0.006585485301911831, 0.00787569023668766, 0.03007892519235611, 0.013907491229474545, 0.007376695983111858, 0.007684786804020405, 0.022160837426781654, 0.012385030277073383, 0.01189005933701992, 0.0866977870464325, 0.19902534782886505, 0.013594490475952625, 0.029586225748062134, 0.0, 0.0, 0.0, 0.0], [0.14064589142799377, 0.01329871080815792, 0.01570296287536621, 0.01735786907374859, 0.022331509739160538, 0.029672276228666306, 0.04172082617878914, 0.018995432183146477, 0.038277123123407364, 0.048635635524988174, 0.030946901068091393, 0.016023900359869003, 0.020880911499261856, 0.0324382409453392, 0.030558135360479355, 0.022808341309428215, 0.03537759929895401, 0.03145160898566246, 0.03497114032506943, 0.018679101020097733, 0.03821908310055733, 0.022578848525881767, 0.06819558143615723, 0.04214094579219818, 0.028620854020118713, 0.037750013172626495, 0.018578054383397102, 0.03376871719956398, 0.03641697019338608, 0.012956840917468071, 0.0, 0.0, 0.0], [0.07168619334697723, 0.06924448162317276, 0.019306914880871773, 0.014161987230181694, 0.01682320050895214, 0.019380614161491394, 0.019257420673966408, 0.022003663703799248, 0.013706530444324017, 0.03578377142548561, 0.018465174362063408, 0.05207167938351631, 0.020085172727704048, 0.019862128421664238, 0.02066211774945259, 0.0472516268491745, 0.02107670158147812, 0.036787256598472595, 0.02432408556342125, 0.003827547887340188, 0.023920681327581406, 0.00853322260081768, 0.026241611689329147, 0.027380075305700302, 0.0346120148897171, 0.022884152829647064, 0.10047906637191772, 0.06913503259420395, 0.025474566966295242, 0.06495600938796997, 0.03061535954475403, 0.0, 0.0], [0.0691077783703804, 0.03701226785778999, 0.038621142506599426, 0.05933324247598648, 0.01592354290187359, 0.00791856087744236, 0.010371045209467411, 0.006615669000893831, 0.0025200783275067806, 0.026019366458058357, 0.007905231788754463, 0.02965201996266842, 0.04000625014305115, 0.008451343514025211, 0.01074115838855505, 0.05027562379837036, 0.009428865276277065, 0.013601030223071575, 0.05036920681595802, 0.031767141073942184, 0.010793033055961132, 0.007216807454824448, 0.006478429771959782, 0.01480061374604702, 0.021585971117019653, 0.15769490599632263, 0.0888475775718689, 0.019016945734620094, 0.029729323461651802, 0.03316134959459305, 0.050883639603853226, 0.034150853753089905, 0.0], [0.14375515282154083, 0.016811039298772812, 0.009386662393808365, 0.006830316502600908, 0.011656850576400757, 0.0015672278823330998, 0.01971147209405899, 0.0023980415426194668, 0.021235888823866844, 0.04683685302734375, 0.001690515549853444, 0.005827197339385748, 0.01198000181466341, 0.0018251424189656973, 0.042313337326049805, 0.0549137219786644, 0.0021786577999591827, 0.002417011186480522, 0.09604071825742722, 0.005752877332270145, 0.0025577901396900415, 0.007121226284652948, 0.08889929950237274, 0.10852079093456268, 0.005179053638130426, 0.036577336490154266, 0.02471991814672947, 0.003734766272827983, 0.031077086925506592, 0.016887936741113663, 0.0945085808634758, 0.07171520590782166, 0.003372322069481015]], [[1.0, 0.0, 0.0, 0.0, 0.0, 0.0, 0.0, 0.0, 0.0, 0.0, 0.0, 0.0, 0.0, 0.0, 0.0, 0.0, 0.0, 0.0, 0.0, 0.0, 0.0, 0.0, 0.0, 0.0, 0.0, 0.0, 0.0, 0.0, 0.0, 0.0, 0.0, 0.0, 0.0], [0.000424665748141706, 0.9995753169059753, 0.0, 0.0, 0.0, 0.0, 0.0, 0.0, 0.0, 0.0, 0.0, 0.0, 0.0, 0.0, 0.0, 0.0, 0.0, 0.0, 0.0, 0.0, 0.0, 0.0, 0.0, 0.0, 0.0, 0.0, 0.0, 0.0, 0.0, 0.0, 0.0, 0.0, 0.0], [0.0005621897289529443, 0.01640724018216133, 0.9830306172370911, 0.0, 0.0, 0.0, 0.0, 0.0, 0.0, 0.0, 0.0, 0.0, 0.0, 0.0, 0.0, 0.0, 0.0, 0.0, 0.0, 0.0, 0.0, 0.0, 0.0, 0.0, 0.0, 0.0, 0.0, 0.0, 0.0, 0.0, 0.0, 0.0, 0.0], [0.0011627564672380686, 0.02168198674917221, 0.003762038890272379, 0.9733933210372925, 0.0, 0.0, 0.0, 0.0, 0.0, 0.0, 0.0, 0.0, 0.0, 0.0, 0.0, 0.0, 0.0, 0.0, 0.0, 0.0, 0.0, 0.0, 0.0, 0.0, 0.0, 0.0, 0.0, 0.0, 0.0, 0.0, 0.0, 0.0, 0.0], [3.724433190654963e-05, 0.00017202235176227987, 0.0002814393083099276, 0.002742142416536808, 0.9967671632766724, 0.0, 0.0, 0.0, 0.0, 0.0, 0.0, 0.0, 0.0, 0.0, 0.0, 0.0, 0.0, 0.0, 0.0, 0.0, 0.0, 0.0, 0.0, 0.0, 0.0, 0.0, 0.0, 0.0, 0.0, 0.0, 0.0, 0.0, 0.0], [0.008268446661531925, 0.0002398560318397358, 7.361917960224673e-05, 6.437716365326196e-05, 0.0001756635756464675, 0.9911779761314392, 0.0, 0.0, 0.0, 0.0, 0.0, 0.0, 0.0, 0.0, 0.0, 0.0, 0.0, 0.0, 0.0, 0.0, 0.0, 0.0, 0.0, 0.0, 0.0, 0.0, 0.0, 0.0, 0.0, 0.0, 0.0, 0.0, 0.0], [0.0012215052265673876, 0.005400451831519604, 0.0016716319369152188, 0.00040775592788122594, 0.0006163663347251713, 0.00109311961568892, 0.9895892143249512, 0.0, 0.0, 0.0, 0.0, 0.0, 0.0, 0.0, 0.0, 0.0, 0.0, 0.0, 0.0, 0.0, 0.0, 0.0, 0.0, 0.0, 0.0, 0.0, 0.0, 0.0, 0.0, 0.0, 0.0, 0.0, 0.0], [0.0012459782883524895, 0.0009121228358708322, 0.0005976723623462021, 0.00013656883675139397, 0.0003304110432509333, 0.001572279492393136, 0.0038808202371001244, 0.9913240671157837, 0.0, 0.0, 0.0, 0.0, 0.0, 0.0, 0.0, 0.0, 0.0, 0.0, 0.0, 0.0, 0.0, 0.0, 0.0, 0.0, 0.0, 0.0, 0.0, 0.0, 0.0, 0.0, 0.0, 0.0, 0.0], [0.00028217461658641696, 0.004068179056048393, 0.002660516882315278, 0.001309309503994882, 0.008030485361814499, 0.00028790938085876405, 0.00022922920470591635, 0.0003948422963730991, 0.9827372431755066, 0.0, 0.0, 0.0, 0.0, 0.0, 0.0, 0.0, 0.0, 0.0, 0.0, 0.0, 0.0, 0.0, 0.0, 0.0, 0.0, 0.0, 0.0, 0.0, 0.0, 0.0, 0.0, 0.0, 0.0], [3.4739397960947827e-05, 0.00039538511191494763, 0.0001327274803770706, 0.00025852362159639597, 0.00108556286431849, 9.198069892590865e-05, 0.0003267084830440581, 0.0005427465075626969, 0.006105942185968161, 0.9910256266593933, 0.0, 0.0, 0.0, 0.0, 0.0, 0.0, 0.0, 0.0, 0.0, 0.0, 0.0, 0.0, 0.0, 0.0, 0.0, 0.0, 0.0, 0.0, 0.0, 0.0, 0.0, 0.0, 0.0], [0.0033785076811909676, 5.0908769480884075e-05, 1.6452095223939978e-05, 1.692615114734508e-05, 4.1814157157205045e-05, 0.49394044280052185, 0.0001298127754125744, 0.0008837342611514032, 3.221200677216984e-05, 2.7252151994616725e-05, 0.5014819502830505, 0.0, 0.0, 0.0, 0.0, 0.0, 0.0, 0.0, 0.0, 0.0, 0.0, 0.0, 0.0, 0.0, 0.0, 0.0, 0.0, 0.0, 0.0, 0.0, 0.0, 0.0, 0.0], [8.416048513026908e-05, 0.0013417223235592246, 0.0012613598955795169, 0.0021450757049024105, 0.004042365122586489, 0.0004830532125197351, 0.00011582646402530372, 0.0001520359655842185, 2.692528323677834e-05, 0.00012675138714257628, 0.0003128990938421339, 0.9899078607559204, 0.0, 0.0, 0.0, 0.0, 0.0, 0.0, 0.0, 0.0, 0.0, 0.0, 0.0, 0.0, 0.0, 0.0, 0.0, 0.0, 0.0, 0.0, 0.0, 0.0, 0.0], [0.00037822304875589907, 0.0009837556863203645, 0.03934122994542122, 0.0027322459500283003, 0.003668016055598855, 0.00011039170931326225, 0.00012931022502016276, 0.00021743460092693567, 0.00010623285925248638, 0.0007748180069029331, 6.647660484304652e-05, 0.0003148665127810091, 0.9511770009994507, 0.0, 0.0, 0.0, 0.0, 0.0, 0.0, 0.0, 0.0, 0.0, 0.0, 0.0, 0.0, 0.0, 0.0, 0.0, 0.0, 0.0, 0.0, 0.0, 0.0], [0.0021017196122556925, 2.443689118081238e-05, 7.788786206219811e-06, 8.651612006360665e-06, 2.0140056221862324e-05, 0.29971349239349365, 7.525269029429182e-05, 0.0004898306797258556, 1.8459464627085254e-05, 1.5344543498940766e-05, 0.3283389210700989, 4.175803769612685e-05, 6.469193522207206e-06, 0.3691377639770508, 0.0, 0.0, 0.0, 0.0, 0.0, 0.0, 0.0, 0.0, 0.0, 0.0, 0.0, 0.0, 0.0, 0.0, 0.0, 0.0, 0.0, 0.0, 0.0], [0.00014968343020882457, 0.00011296618322376162, 0.00036294921301305294, 0.0001859122421592474, 0.00016460922779515386, 4.1432369471294805e-05, 2.8764743547071703e-05, 7.786951027810574e-05, 0.0009200993226841092, 0.01034018024802208, 2.7572392355068587e-05, 1.783325569704175e-05, 0.00033054559025913477, 2.4375729481107555e-05, 0.9872152805328369, 0.0, 0.0, 0.0, 0.0, 0.0, 0.0, 0.0, 0.0, 0.0, 0.0, 0.0, 0.0, 0.0, 0.0, 0.0, 0.0, 0.0, 0.0], [0.00010753844981081784, 0.0021781940013170242, 0.0020426148548722267, 0.004251938778907061, 0.006989923305809498, 2.511883940314874e-05, 0.0007779046427458525, 0.0005783559754490852, 0.00293784704990685, 0.033225417137145996, 1.7199308786075562e-05, 0.0008936493541114032, 0.0015238601481541991, 1.4656845451099798e-05, 0.006222649477422237, 0.9382131695747375, 0.0, 0.0, 0.0, 0.0, 0.0, 0.0, 0.0, 0.0, 0.0, 0.0, 0.0, 0.0, 0.0, 0.0, 0.0, 0.0, 0.0], [0.0013634866336360574, 1.322604475717526e-05, 4.013937996205641e-06, 4.8030515245045535e-06, 1.0257449503114913e-05, 0.19665956497192383, 4.527257624431513e-05, 0.0002776258625090122, 1.1714419088093564e-05, 9.473308637097944e-06, 0.22919613122940063, 2.643059087859001e-05, 4.101847025594907e-06, 0.265761137008667, 8.515345143678132e-06, 4.536020242085215e-06, 0.3065996766090393, 0.0, 0.0, 0.0, 0.0, 0.0, 0.0, 0.0, 0.0, 0.0, 0.0, 0.0, 0.0, 0.0, 0.0, 0.0, 0.0], [0.0008924761787056923, 0.00013490821584127843, 4.7798494051676244e-05, 5.803713065688498e-05, 0.00010480182390892878, 0.012799106538295746, 0.0007168253068812191, 0.03257955238223076, 2.644995583978016e-05, 0.0001118508298532106, 0.01188427023589611, 4.010277916677296e-05, 5.5554191931150854e-05, 0.012377879582345486, 0.00010783500329125673, 5.4043754062149674e-05, 0.013122130185365677, 0.9148862957954407, 0.0, 0.0, 0.0, 0.0, 0.0, 0.0, 0.0, 0.0, 0.0, 0.0, 0.0, 0.0, 0.0, 0.0, 0.0], [5.075319677416701e-06, 4.396139411255717e-05, 3.398505214136094e-05, 7.940302020870149e-05, 5.477922604768537e-05, 7.921559586065996e-07, 9.313333976024296e-06, 7.727086995146237e-06, 8.597262785769999e-05, 0.00012274044274818152, 5.141494625604537e-07, 1.702795657365641e-06, 3.8341830077115446e-05, 4.450980384262948e-07, 0.00013928250700701028, 0.00032758014276623726, 3.994805410911795e-07, 3.948134690290317e-06, 0.9990440011024475, 0.0, 0.0, 0.0, 0.0, 0.0, 0.0, 0.0, 0.0, 0.0, 0.0, 0.0, 0.0, 0.0, 0.0], [9.346199658466503e-05, 0.0018395757069811225, 0.002523313742130995, 0.01808728277683258, 0.002936380682513118, 0.0002733583969529718, 4.872979479841888e-05, 0.00042127788765355945, 0.0001562437682878226, 0.0009748343145474792, 0.00020533606584649533, 0.0010228840401396155, 0.0019548037089407444, 0.0001947038690559566, 0.0011294211726635695, 0.0016656118677929044, 0.00018734042532742023, 0.0009503458277322352, 0.0004455179441720247, 0.964889645576477, 0.0, 0.0, 0.0, 0.0, 0.0, 0.0, 0.0, 0.0, 0.0, 0.0, 0.0, 0.0, 0.0], [0.0010859700851142406, 8.51233744469937e-06, 2.5307274427177617e-06, 3.0625189992861124e-06, 5.975137355562765e-06, 0.13292619585990906, 3.345328150317073e-05, 0.00018891258514486253, 8.477760275127366e-06, 6.540431058965623e-06, 0.16445912420749664, 1.8130043827113695e-05, 3.0627436444774503e-06, 0.19719180464744568, 6.429851055145264e-06, 3.444734375079861e-06, 0.2331712543964386, 0.0022796280682086945, 3.7134348076506285e-06, 3.5288045182824135e-05, 0.26855844259262085, 0.0, 0.0, 0.0, 0.0, 0.0, 0.0, 0.0, 0.0, 0.0, 0.0, 0.0, 0.0], [0.0004197954840492457, 0.00011805014219135046, 0.00014240515884011984, 3.796787859755568e-05, 0.00019043180509470403, 0.00176512252073735, 0.0005709825200028718, 0.0005008855368942022, 8.840746886562556e-05, 0.0001420867774868384, 0.0016639834502711892, 3.348111204104498e-05, 2.441398100927472e-05, 0.00175465049687773, 6.520305760204792e-05, 2.4142671463778242e-05, 0.0018299139337614179, 0.0015691040316596627, 3.974881110480055e-05, 0.0001571241591591388, 0.001855448354035616, 0.9870065450668335, 0.0, 0.0, 0.0, 0.0, 0.0, 0.0, 0.0, 0.0, 0.0, 0.0, 0.0], [7.501784421037883e-05, 0.0014379819622263312, 6.345151632558554e-05, 0.00010864839714486152, 0.00015633183647878468, 3.210126124031376e-06, 0.002203276613727212, 0.00022076575260143727, 5.240297468844801e-05, 4.8815836635185406e-05, 2.264463546453044e-06, 1.5327233995776623e-05, 4.157144303462701e-06, 2.0228428638802143e-06, 6.296796982496744e-06, 4.848669414059259e-05, 1.992900934055797e-06, 3.2470103178638965e-05, 0.0012695115292444825, 1.96326454897644e-05, 1.8090968296746723e-06, 0.0005810296861454844, 0.9936450719833374, 0.0, 0.0, 0.0, 0.0, 0.0, 0.0, 0.0, 0.0, 0.0, 0.0], [7.45018624002114e-05, 0.000613941578194499, 0.0009361236006952822, 0.000848783936817199, 0.00285064778290689, 1.0365101843490265e-05, 0.00021614358411170542, 0.0001739761355565861, 0.0020508472807705402, 0.0058053163811564445, 8.05526906333398e-06, 8.086630259640515e-05, 0.0007702477159909904, 7.288218967005378e-06, 0.0010576200438663363, 0.0022756049875169992, 6.6632937887334265e-06, 0.00011621084559010342, 0.0005972476210445166, 8.736338349990547e-05, 6.332368684525136e-06, 6.0964935983065516e-05, 6.0906069847987965e-05, 0.9812840819358826, 0.0, 0.0, 0.0, 0.0, 0.0, 0.0, 0.0, 0.0, 0.0], [0.0005848742439411581, 0.00015909186913631856, 1.0836471119546331e-05, 7.365469355136156e-05, 0.00011349535634508356, 0.0008256660075858235, 0.00031911043333821, 0.018529975786805153, 1.0226579433947336e-05, 4.958717545378022e-05, 0.0007716424879617989, 4.4548152800416574e-05, 9.865015272225719e-06, 0.0008067174931056798, 2.2673864805256017e-05, 1.2464139217627235e-05, 0.0008449099841527641, 0.008790107443928719, 3.579237454687245e-05, 3.662858944153413e-05, 0.0008917528321035206, 0.0010791778331622481, 0.0003708460717462003, 0.00010837136505870149, 0.9654979109764099, 0.0, 0.0, 0.0, 0.0, 0.0, 0.0, 0.0, 0.0], [1.6459896869491786e-05, 0.00017152423970401287, 3.208315320080146e-05, 0.00010234154615318403, 0.002631872659549117, 9.88616648101015e-06, 3.2508429285371676e-05, 3.741747059393674e-05, 0.00012631516437977552, 4.991202149540186e-05, 8.302526111947373e-06, 8.443398837698624e-05, 3.1279632821679115e-05, 7.63334992370801e-06, 1.010133473755559e-05, 5.667370351147838e-05, 7.442115474987077e-06, 2.7689606213243678e-05, 1.841830635385122e-05, 2.8794293029932305e-06, 6.840408332209336e-06, 4.27987151851994e-06, 0.00043176495819352567, 0.00017617485718801618, 8.995583630166948e-05, 0.9958258867263794, 0.0, 0.0, 0.0, 0.0, 0.0, 0.0, 0.0], [2.63680012722034e-05, 0.00018008674669545144, 0.00018082918541040272, 0.0003046466736122966, 0.00039390832534991205, 4.674835872719996e-05, 2.7231642889091745e-05, 4.873481884715147e-05, 0.0002913158677984029, 0.0004206156881991774, 3.8046331610530615e-05, 0.00025245067081414163, 5.606727791018784e-05, 3.820361598627642e-05, 0.00153650576248765, 0.0012537199072539806, 3.593415021896362e-05, 2.3036574930301867e-05, 0.00018036190886050463, 0.0001226607710123062, 3.517773802741431e-05, 6.924665649421513e-05, 0.00011267262016190216, 0.0008507365128025413, 0.00014361833746079355, 0.00023527914891019464, 0.9930958151817322, 0.0, 0.0, 0.0, 0.0, 0.0, 0.0], [0.0007048270781524479, 5.675398642779328e-05, 3.351298346387921e-06, 7.472670404240489e-06, 1.7859523723018356e-05, 0.0008156545227393508, 4.95296590088401e-05, 0.0013531007571145892, 3.741769614862278e-05, 0.0001437804603483528, 0.0007639349205419421, 9.991702427214477e-06, 2.88444607576821e-06, 0.0007552245515398681, 0.00010159618977922946, 3.120552264590515e-06, 0.0008060965919867158, 0.0011406786506995559, 1.4343141629069578e-05, 9.910203516483307e-06, 0.000864920555613935, 8.663288463139907e-05, 3.4695531212491915e-05, 0.00010265847959090024, 0.00766348373144865, 4.187906233710237e-05, 3.4908723591797752e-06, 0.9844046235084534, 0.0, 0.0, 0.0, 0.0, 0.0], [2.0288276573410258e-05, 2.9542672564275563e-05, 5.0374936108710244e-05, 0.0009778310777619481, 0.3728252351284027, 6.661306088062702e-06, 1.57336125994334e-05, 3.9812402974348515e-05, 0.00022353179519996047, 0.0001267430925508961, 5.118435183248948e-06, 0.00024116130953188986, 1.2973813682037871e-05, 4.800682745553786e-06, 2.3321596017922275e-05, 7.723518501734361e-05, 4.593428911903175e-06, 1.9647088265628554e-05, 0.0002112990478053689, 1.145348960562842e-05, 4.380477093945956e-06, 1.4442656720348168e-05, 3.6767360143130645e-05, 0.00011845299013657495, 3.79771227017045e-05, 0.0007802740437909961, 0.00040483594057150185, 1.0429545000079088e-05, 0.6236649751663208, 0.0, 0.0, 0.0, 0.0], [2.0582947399816476e-05, 8.831260493025184e-05, 0.0002045488217845559, 0.00030189016251824796, 8.223895565606654e-05, 1.970443372556474e-05, 0.00014085126167628914, 2.8963204385945573e-05, 7.669385013286956e-06, 3.7246169085847214e-05, 1.673678525548894e-05, 6.404708983609453e-05, 0.00069105887087062, 1.6027599485823885e-05, 0.00015603681094944477, 0.00014825955440755934, 1.5700084986747243e-05, 9.155399311566725e-05, 8.525099110556766e-05, 4.904517481918447e-06, 1.5784411516506225e-05, 5.293112189974636e-05, 0.000529835931956768, 0.0005658399895764887, 6.167325045680627e-05, 6.729498272761703e-05, 0.00030774460174143314, 1.0369168194301892e-05, 6.799336551921442e-05, 0.9960988759994507, 0.0, 0.0, 0.0], [1.3371306522458326e-05, 0.0009821535786613822, 0.00041548089939169586, 0.0001144232737715356, 0.00038730751839466393, 5.6608546401548665e-06, 0.0012746263528242707, 0.0005708056851290166, 0.0006383624859154224, 0.0005776663310825825, 4.127729425817961e-06, 9.161743037111592e-06, 9.142833005171269e-05, 3.774860488192644e-06, 1.3575295270129573e-05, 0.0002916174125857651, 3.4474858239263995e-06, 7.899185584392399e-05, 0.0031891181133687496, 4.885083853878314e-06, 3.1652868983655935e-06, 1.4087440831644926e-05, 0.0001567144354339689, 0.0003544889041222632, 0.00017265439964830875, 0.0013050634879618883, 0.00021867667965125293, 2.677672091522254e-05, 0.0002646020438987762, 1.3334517461771611e-05, 0.9888005256652832, 0.0, 0.0], [2.7455085728433914e-05, 0.00016438274178653955, 7.996430213097483e-05, 0.0011914981296285987, 0.0007883618236519396, 2.658419134604628e-06, 3.0057588446652517e-05, 7.457982519554207e-06, 0.00014940994151402265, 2.8857184588559903e-05, 1.873829091891821e-06, 0.0003328806778881699, 5.160865111974999e-05, 1.7577480093677877e-06, 0.0001265660102944821, 0.00014267023652791977, 1.6954469401753158e-06, 2.1952613678877242e-05, 0.00023040801170282066, 4.429342516232282e-05, 1.6103335838124622e-06, 2.700804907362908e-05, 0.00023884838446974754, 0.00019046032684855163, 9.49614513956476e-06, 0.00044664417509920895, 0.0002209578815381974, 5.3791804930369835e-06, 0.0006956406286917627, 0.00015470779908355325, 0.00025485435617156327, 0.9943285584449768, 0.0], [0.006231043487787247, 9.722806862555444e-05, 6.87158990331227e-06, 2.1151097826077603e-05, 5.8280591474613175e-05, 0.007238902151584625, 2.0987938114558347e-05, 0.0002545905008446425, 6.243860116228461e-05, 2.0924684577039443e-05, 0.007872143760323524, 5.5853193771326914e-05, 9.868776942312252e-06, 0.009169402532279491, 7.203003042377532e-05, 7.068680588417919e-06, 0.010345966555178165, 0.0013096537441015244, 3.803680374403484e-05, 8.022697147680447e-05, 0.012053251266479492, 4.071999137522653e-05, 3.686071750053088e-06, 3.4713455534074455e-05, 0.0005061823176220059, 8.918942330637947e-05, 2.9112034098943695e-05, 0.0012772816698998213, 8.489656465826556e-05, 0.0001844739163061604, 0.0001342574250884354, 6.813061190769076e-05, 0.9425214529037476]], [[1.0, 0.0, 0.0, 0.0, 0.0, 0.0, 0.0, 0.0, 0.0, 0.0, 0.0, 0.0, 0.0, 0.0, 0.0, 0.0, 0.0, 0.0, 0.0, 0.0, 0.0, 0.0, 0.0, 0.0, 0.0, 0.0, 0.0, 0.0, 0.0, 0.0, 0.0, 0.0, 0.0], [0.943029522895813, 0.056970469653606415, 0.0, 0.0, 0.0, 0.0, 0.0, 0.0, 0.0, 0.0, 0.0, 0.0, 0.0, 0.0, 0.0, 0.0, 0.0, 0.0, 0.0, 0.0, 0.0, 0.0, 0.0, 0.0, 0.0, 0.0, 0.0, 0.0, 0.0, 0.0, 0.0, 0.0, 0.0], [0.9185556173324585, 0.03280004858970642, 0.04864436015486717, 0.0, 0.0, 0.0, 0.0, 0.0, 0.0, 0.0, 0.0, 0.0, 0.0, 0.0, 0.0, 0.0, 0.0, 0.0, 0.0, 0.0, 0.0, 0.0, 0.0, 0.0, 0.0, 0.0, 0.0, 0.0, 0.0, 0.0, 0.0, 0.0, 0.0], [0.8779287934303284, 0.056434255093336105, 0.04271190986037254, 0.022925009950995445, 0.0, 0.0, 0.0, 0.0, 0.0, 0.0, 0.0, 0.0, 0.0, 0.0, 0.0, 0.0, 0.0, 0.0, 0.0, 0.0, 0.0, 0.0, 0.0, 0.0, 0.0, 0.0, 0.0, 0.0, 0.0, 0.0, 0.0, 0.0, 0.0], [0.804131805896759, 0.02909819595515728, 0.07556727528572083, 0.056435927748680115, 0.03476676344871521, 0.0, 0.0, 0.0, 0.0, 0.0, 0.0, 0.0, 0.0, 0.0, 0.0, 0.0, 0.0, 0.0, 0.0, 0.0, 0.0, 0.0, 0.0, 0.0, 0.0, 0.0, 0.0, 0.0, 0.0, 0.0, 0.0, 0.0, 0.0], [0.49431052803993225, 0.02018355391919613, 0.027966566383838654, 0.018319064751267433, 0.03144202008843422, 0.40777817368507385, 0.0, 0.0, 0.0, 0.0, 0.0, 0.0, 0.0, 0.0, 0.0, 0.0, 0.0, 0.0, 0.0, 0.0, 0.0, 0.0, 0.0, 0.0, 0.0, 0.0, 0.0, 0.0, 0.0, 0.0, 0.0, 0.0, 0.0], [0.605747640132904, 0.029242441058158875, 0.09491511434316635, 0.07609354704618454, 0.0661465972661972, 0.08705794811248779, 0.040796685963869095, 0.0, 0.0, 0.0, 0.0, 0.0, 0.0, 0.0, 0.0, 0.0, 0.0, 0.0, 0.0, 0.0, 0.0, 0.0, 0.0, 0.0, 0.0, 0.0, 0.0, 0.0, 0.0, 0.0, 0.0, 0.0, 0.0], [0.44838210940361023, 0.04542431980371475, 0.074014812707901, 0.06864849478006363, 0.0937662273645401, 0.08774266391992569, 0.06534271687269211, 0.1166786327958107, 0.0, 0.0, 0.0, 0.0, 0.0, 0.0, 0.0, 0.0, 0.0, 0.0, 0.0, 0.0, 0.0, 0.0, 0.0, 0.0, 0.0, 0.0, 0.0, 0.0, 0.0, 0.0, 0.0, 0.0, 0.0], [0.4916926622390747, 0.13782070577144623, 0.039550185203552246, 0.06153319403529167, 0.045399658381938934, 0.04073147475719452, 0.06228702515363693, 0.05861866846680641, 0.06236645579338074, 0.0, 0.0, 0.0, 0.0, 0.0, 0.0, 0.0, 0.0, 0.0, 0.0, 0.0, 0.0, 0.0, 0.0, 0.0, 0.0, 0.0, 0.0, 0.0, 0.0, 0.0, 0.0, 0.0, 0.0], [0.5404124855995178, 0.04442669451236725, 0.03957853466272354, 0.04188808426260948, 0.07529856264591217, 0.04669508710503578, 0.048475224524736404, 0.05500520393252373, 0.08293057978153229, 0.0252895038574934, 0.0, 0.0, 0.0, 0.0, 0.0, 0.0, 0.0, 0.0, 0.0, 0.0, 0.0, 0.0, 0.0, 0.0, 0.0, 0.0, 0.0, 0.0, 0.0, 0.0, 0.0, 0.0, 0.0], [0.2827354371547699, 0.014234179630875587, 0.017647750675678253, 0.011433077044785023, 0.021741699427366257, 0.26665404438972473, 0.01540352776646614, 0.047349270433187485, 0.017767535522580147, 0.013926063664257526, 0.2911074161529541, 0.0, 0.0, 0.0, 0.0, 0.0, 0.0, 0.0, 0.0, 0.0, 0.0, 0.0, 0.0, 0.0, 0.0, 0.0, 0.0, 0.0, 0.0, 0.0, 0.0, 0.0, 0.0], [0.34496620297431946, 0.046116769313812256, 0.05771549418568611, 0.11131858825683594, 0.11289365589618683, 0.027930347248911858, 0.0385919027030468, 0.0565653070807457, 0.05864058434963226, 0.0664859339594841, 0.02611435577273369, 0.05266089364886284, 0.0, 0.0, 0.0, 0.0, 0.0, 0.0, 0.0, 0.0, 0.0, 0.0, 0.0, 0.0, 0.0, 0.0, 0.0, 0.0, 0.0, 0.0, 0.0, 0.0, 0.0], [0.4699215888977051, 0.03201570734381676, 0.10772896558046341, 0.027006784453988075, 0.04465882480144501, 0.022773560136556625, 0.023117074742913246, 0.02549153007566929, 0.04950270056724548, 0.026573944836854935, 0.019708862528204918, 0.06337959319353104, 0.08812081813812256, 0.0, 0.0, 0.0, 0.0, 0.0, 0.0, 0.0, 0.0, 0.0, 0.0, 0.0, 0.0, 0.0, 0.0, 0.0, 0.0, 0.0, 0.0, 0.0, 0.0], [0.20661763846874237, 0.010379303246736526, 0.012261936441063881, 0.008319100365042686, 0.016007067635655403, 0.19527745246887207, 0.011453282088041306, 0.03475670889019966, 0.013073592446744442, 0.01093897596001625, 0.21602481603622437, 0.005866499152034521, 0.02364230901002884, 0.2353813499212265, 0.0, 0.0, 0.0, 0.0, 0.0, 0.0, 0.0, 0.0, 0.0, 0.0, 0.0, 0.0, 0.0, 0.0, 0.0, 0.0, 0.0, 0.0, 0.0], [0.33993497490882874, 0.029161639511585236, 0.09540706127882004, 0.03395186364650726, 0.08440458029508591, 0.012559543363749981, 0.029358645901083946, 0.024564187973737717, 0.10622429102659225, 0.04689214006066322, 0.011469589546322823, 0.006369196344166994, 0.11145275831222534, 0.011318006552755833, 0.056931521743535995, 0.0, 0.0, 0.0, 0.0, 0.0, 0.0, 0.0, 0.0, 0.0, 0.0, 0.0, 0.0, 0.0, 0.0, 0.0, 0.0, 0.0, 0.0], [0.4040880799293518, 0.024195656180381775, 0.038910072296857834, 0.01472743321210146, 0.024456562474370003, 0.03845001384615898, 0.0392303504049778, 0.03717140108346939, 0.06030002236366272, 0.041985493153333664, 0.03716716170310974, 0.016391238197684288, 0.0392896868288517, 0.03772982582449913, 0.13448569178581238, 0.011421297676861286, 0.0, 0.0, 0.0, 0.0, 0.0, 0.0, 0.0, 0.0, 0.0, 0.0, 0.0, 0.0, 0.0, 0.0, 0.0, 0.0, 0.0], [0.15876440703868866, 0.008203908801078796, 0.009295263327658176, 0.006221715826541185, 0.011793186888098717, 0.1506979614496231, 0.008851953782141209, 0.026313534006476402, 0.010186919011175632, 0.008433722890913486, 0.16762235760688782, 0.004420035518705845, 0.018211795017123222, 0.18350820243358612, 0.020927339792251587, 0.006447792984545231, 0.20009995996952057, 0.0, 0.0, 0.0, 0.0, 0.0, 0.0, 0.0, 0.0, 0.0, 0.0, 0.0, 0.0, 0.0, 0.0, 0.0, 0.0], [0.17539213597774506, 0.02056967094540596, 0.018291451036930084, 0.009298023767769337, 0.017377886921167374, 0.04253479838371277, 0.020701592788100243, 0.050443947315216064, 0.025438042357563972, 0.017218224704265594, 0.043115343898534775, 0.013349819928407669, 0.028528612107038498, 0.04597257822751999, 0.03408820182085037, 0.01983422227203846, 0.04992835596203804, 0.36791709065437317, 0.0, 0.0, 0.0, 0.0, 0.0, 0.0, 0.0, 0.0, 0.0, 0.0, 0.0, 0.0, 0.0, 0.0, 0.0], [0.2603333592414856, 0.017148379236459732, 0.03745276480913162, 0.07594802230596542, 0.04674699530005455, 0.01806853525340557, 0.03134647011756897, 0.037415146827697754, 0.07175810635089874, 0.058725401759147644, 0.0170787051320076, 0.04030592367053032, 0.057063568383455276, 0.017113586887717247, 0.10491332411766052, 0.04670536518096924, 0.0172302033752203, 0.024682151153683662, 0.019963962957262993, 0.0, 0.0, 0.0, 0.0, 0.0, 0.0, 0.0, 0.0, 0.0, 0.0, 0.0, 0.0, 0.0, 0.0], [0.30547064542770386, 0.051904983818531036, 0.04346897825598717, 0.021846851333975792, 0.02101719193160534, 0.03390474617481232, 0.041904743760824203, 0.039092887192964554, 0.028871968388557434, 0.02300342172384262, 0.0320579968392849, 0.023334508761763573, 0.0711059644818306, 0.03290089964866638, 0.06164194270968437, 0.03183263540267944, 0.03376762941479683, 0.045714907348155975, 0.03501522168517113, 0.02214187942445278, 0.0, 0.0, 0.0, 0.0, 0.0, 0.0, 0.0, 0.0, 0.0, 0.0, 0.0, 0.0, 0.0], [0.12242948263883591, 0.006105296779423952, 0.006670299917459488, 0.00458177924156189, 0.009337780997157097, 0.11381799727678299, 0.0067833587527275085, 0.01971990242600441, 0.007580860983580351, 0.006613647099584341, 0.12765920162200928, 0.0035026581026613712, 0.014002326875925064, 0.14000993967056274, 0.015684885904192924, 0.0050926110707223415, 0.15336203575134277, 0.03527415543794632, 0.022465620189905167, 0.006954457610845566, 0.1723516583442688, 0.0, 0.0, 0.0, 0.0, 0.0, 0.0, 0.0, 0.0, 0.0, 0.0, 0.0, 0.0], [0.20538486540317535, 0.034778524190187454, 0.01468291599303484, 0.03118332475423813, 0.030931269749999046, 0.021952778100967407, 0.032908644527196884, 0.057405322790145874, 0.055875133723020554, 0.04864276945590973, 0.023520754650235176, 0.01510854996740818, 0.027386318892240524, 0.024518480524420738, 0.06060457602143288, 0.03477614372968674, 0.026137810200452805, 0.05168439820408821, 0.06281401962041855, 0.020291483029723167, 0.02860173024237156, 0.09081017971038818, 0.0, 0.0, 0.0, 0.0, 0.0, 0.0, 0.0, 0.0, 0.0, 0.0, 0.0], [0.23978610336780548, 0.031323522329330444, 0.050377536565065384, 0.015869444236159325, 0.03901458904147148, 0.022805534303188324, 0.04285357892513275, 0.02888229675590992, 0.04046265780925751, 0.03410725295543671, 0.022644517943263054, 0.03923073038458824, 0.0723857656121254, 0.022345513105392456, 0.049581050872802734, 0.03193335980176926, 0.02332558110356331, 0.04521358385682106, 0.030554333701729774, 0.022876495495438576, 0.024732301011681557, 0.05549478158354759, 0.01419956237077713, 0.0, 0.0, 0.0, 0.0, 0.0, 0.0, 0.0, 0.0, 0.0, 0.0], [0.23581695556640625, 0.020558306947350502, 0.043750058859586716, 0.029704872518777847, 0.03703876957297325, 0.014953460544347763, 0.040043093264102936, 0.027184361591935158, 0.0457618273794651, 0.038092587143182755, 0.01418188214302063, 0.037891533225774765, 0.06518243998289108, 0.014182932674884796, 0.05489491671323776, 0.023720959201455116, 0.014592771418392658, 0.025570007041096687, 0.07356178015470505, 0.03918234258890152, 0.014925517141819, 0.046288661658763885, 0.027801068499684334, 0.01511886715888977, 0.0, 0.0, 0.0, 0.0, 0.0, 0.0, 0.0, 0.0, 0.0], [0.14254969358444214, 0.012010169215500355, 0.0168813057243824, 0.020742537453770638, 0.032451748847961426, 0.029626015573740005, 0.030295200645923615, 0.056208718568086624, 0.029608741402626038, 0.029481835663318634, 0.03263986110687256, 0.010038222186267376, 0.04078618064522743, 0.03462788090109825, 0.03391635790467262, 0.020155752077698708, 0.03684316575527191, 0.0606469102203846, 0.047447074204683304, 0.032525304704904556, 0.04040037468075752, 0.05947759747505188, 0.03129400685429573, 0.04792546108365059, 0.071419857442379, 0.0, 0.0, 0.0, 0.0, 0.0, 0.0, 0.0, 0.0], [0.22229067981243134, 0.05911139398813248, 0.037026770412921906, 0.04059014841914177, 0.0272544976323843, 0.019174782559275627, 0.03171538934111595, 0.0204621534794569, 0.03811328858137131, 0.01992787979543209, 0.01853891648352146, 0.015436704270541668, 0.045364901423454285, 0.01935577020049095, 0.050358302891254425, 0.03328137472271919, 0.02017974853515625, 0.03679434955120087, 0.043313879519701004, 0.02847638726234436, 0.02131732553243637, 0.04771285131573677, 0.013107028789818287, 0.026336075738072395, 0.03021136485040188, 0.03454802185297012, 0.0, 0.0, 0.0, 0.0, 0.0, 0.0, 0.0], [0.28438130021095276, 0.023870108649134636, 0.046418800950050354, 0.010260096751153469, 0.033909864723682404, 0.018301472067832947, 0.023708896711468697, 0.024766836315393448, 0.025767764076590538, 0.022968808189034462, 0.01673544943332672, 0.013406948186457157, 0.04598663002252579, 0.016673224046826363, 0.0810639038681984, 0.05033261701464653, 0.016726158559322357, 0.019904807209968567, 0.030325332656502724, 0.010146317072212696, 0.017318228259682655, 0.019040970131754875, 0.011081120930612087, 0.052046455442905426, 0.0333535335958004, 0.03880883380770683, 0.012695505283772945, 0.0, 0.0, 0.0, 0.0, 0.0, 0.0], [0.11854350566864014, 0.013350950554013252, 0.013422027230262756, 0.03027322143316269, 0.02616293355822563, 0.020776212215423584, 0.021280212327837944, 0.03798935189843178, 0.03536441922187805, 0.03665180131793022, 0.0220040213316679, 0.015380030497908592, 0.030023114755749702, 0.02329968847334385, 0.03000754490494728, 0.014861378818750381, 0.02452194131910801, 0.03999800607562065, 0.039001546800136566, 0.03600768372416496, 0.026851214468479156, 0.06795872002840042, 0.038931310176849365, 0.05725806578993797, 0.06659835577011108, 0.030756860971450806, 0.02334320917725563, 0.05938269942998886, 0.0, 0.0, 0.0, 0.0, 0.0], [0.25091856718063354, 0.01135188527405262, 0.023033954203128815, 0.018849777057766914, 0.01320883259177208, 0.01643040031194687, 0.03763697296380997, 0.02151942253112793, 0.03823147341609001, 0.03122309036552906, 0.01608109101653099, 0.017179010435938835, 0.0823964774608612, 0.015775419771671295, 0.04969312250614166, 0.03397902473807335, 0.016469134017825127, 0.025656117126345634, 0.053269315510988235, 0.024380965158343315, 0.017032891511917114, 0.031062567606568336, 0.014834262430667877, 0.04310780391097069, 0.027818361297249794, 0.015127931721508503, 0.012749842368066311, 0.026852697134017944, 0.014129593037068844, 0.0, 0.0, 0.0, 0.0], [0.19256941974163055, 0.022833675146102905, 0.01449588779360056, 0.02805502898991108, 0.032904252409935, 0.018577100709080696, 0.02377672679722309, 0.014988915994763374, 0.027755487710237503, 0.019952135160565376, 0.018426891416311264, 0.026808487251400948, 0.04026195779442787, 0.01895735040307045, 0.01998024433851242, 0.03905029967427254, 0.019494330510497093, 0.030714334920048714, 0.07932320237159729, 0.03619769960641861, 0.02037959359586239, 0.023319318890571594, 0.018723849207162857, 0.056927695870399475, 0.023927541449666023, 0.039243247359991074, 0.02178352139890194, 0.020374231040477753, 0.041788287460803986, 0.008409246802330017, 0.0, 0.0, 0.0], [0.18919387459754944, 0.014352060854434967, 0.027829356491565704, 0.018936051055788994, 0.0545523464679718, 0.0243024043738842, 0.02075256034731865, 0.030501805245876312, 0.01690041832625866, 0.029904035851359367, 0.023111779242753983, 0.021664856001734734, 0.033359821885824203, 0.023050513118505478, 0.02792700193822384, 0.026253480464220047, 0.024257952347397804, 0.024394985288381577, 0.01766667142510414, 0.022081071510910988, 0.02544151246547699, 0.02399672381579876, 0.015941409394145012, 0.02186347171664238, 0.04876274615526199, 0.010234057903289795, 0.02576296404004097, 0.0619233101606369, 0.06737110763788223, 0.018184123560786247, 0.009525512345135212, 0.0, 0.0], [0.27111947536468506, 0.05460575222969055, 0.03970598429441452, 0.035128965973854065, 0.02031376026570797, 0.008183861151337624, 0.02255663089454174, 0.014036448672413826, 0.02619847096502781, 0.03235536441206932, 0.007185028400272131, 0.010813489556312561, 0.051626093685626984, 0.007057543378323317, 0.04232775792479515, 0.01850598119199276, 0.006952997297048569, 0.012550855055451393, 0.03785516321659088, 0.014787379652261734, 0.007130768150091171, 0.018956730142235756, 0.010758969001471996, 0.02354053594172001, 0.01625620387494564, 0.007915412075817585, 0.03652311861515045, 0.014562278985977173, 0.01925145648419857, 0.010911822319030762, 0.034396711736917496, 0.06592904776334763, 0.0], [0.14836539328098297, 0.014506899751722813, 0.007646298501640558, 0.011038764379918575, 0.026302475482225418, 0.013194830156862736, 0.027184873819351196, 0.017392201349139214, 0.016122130677103996, 0.03288079425692558, 0.014050276018679142, 0.0071673523634672165, 0.0161200612783432, 0.014647038653492928, 0.01845090091228485, 0.013102132827043533, 0.015283218584954739, 0.014542992226779461, 0.05961219593882561, 0.02238388918340206, 0.016796985641121864, 0.10928261280059814, 0.07263998687267303, 0.08393707126379013, 0.025248993188142776, 0.03774847090244293, 0.016226939857006073, 0.024953896179795265, 0.04216582328081131, 0.004525810480117798, 0.014491365291178226, 0.019145702943205833, 0.022841647267341614]], [[1.0, 0.0, 0.0, 0.0, 0.0, 0.0, 0.0, 0.0, 0.0, 0.0, 0.0, 0.0, 0.0, 0.0, 0.0, 0.0, 0.0, 0.0, 0.0, 0.0, 0.0, 0.0, 0.0, 0.0, 0.0, 0.0, 0.0, 0.0, 0.0, 0.0, 0.0, 0.0, 0.0], [0.09646990895271301, 0.9035300612449646, 0.0, 0.0, 0.0, 0.0, 0.0, 0.0, 0.0, 0.0, 0.0, 0.0, 0.0, 0.0, 0.0, 0.0, 0.0, 0.0, 0.0, 0.0, 0.0, 0.0, 0.0, 0.0, 0.0, 0.0, 0.0, 0.0, 0.0, 0.0, 0.0, 0.0, 0.0], [0.043252330273389816, 0.08177747577428818, 0.8749701976776123, 0.0, 0.0, 0.0, 0.0, 0.0, 0.0, 0.0, 0.0, 0.0, 0.0, 0.0, 0.0, 0.0, 0.0, 0.0, 0.0, 0.0, 0.0, 0.0, 0.0, 0.0, 0.0, 0.0, 0.0, 0.0, 0.0, 0.0, 0.0, 0.0, 0.0], [0.09995399415493011, 0.025312749668955803, 0.020108094438910484, 0.8546252250671387, 0.0, 0.0, 0.0, 0.0, 0.0, 0.0, 0.0, 0.0, 0.0, 0.0, 0.0, 0.0, 0.0, 0.0, 0.0, 0.0, 0.0, 0.0, 0.0, 0.0, 0.0, 0.0, 0.0, 0.0, 0.0, 0.0, 0.0, 0.0, 0.0], [0.024889372289180756, 0.0032073582988232374, 0.0018421609420329332, 0.022361528128385544, 0.9476996660232544, 0.0, 0.0, 0.0, 0.0, 0.0, 0.0, 0.0, 0.0, 0.0, 0.0, 0.0, 0.0, 0.0, 0.0, 0.0, 0.0, 0.0, 0.0, 0.0, 0.0, 0.0, 0.0, 0.0, 0.0, 0.0, 0.0, 0.0, 0.0], [0.10732372105121613, 0.01784166693687439, 0.01955333910882473, 0.04333319887518883, 0.10211491584777832, 0.7098331451416016, 0.0, 0.0, 0.0, 0.0, 0.0, 0.0, 0.0, 0.0, 0.0, 0.0, 0.0, 0.0, 0.0, 0.0, 0.0, 0.0, 0.0, 0.0, 0.0, 0.0, 0.0, 0.0, 0.0, 0.0, 0.0, 0.0, 0.0], [0.006426361855119467, 0.00044797887676395476, 0.00014756589371245354, 0.0004693679220508784, 0.001441188738681376, 0.0038597004022449255, 0.98720782995224, 0.0, 0.0, 0.0, 0.0, 0.0, 0.0, 0.0, 0.0, 0.0, 0.0, 0.0, 0.0, 0.0, 0.0, 0.0, 0.0, 0.0, 0.0, 0.0, 0.0, 0.0, 0.0, 0.0, 0.0, 0.0, 0.0], [0.0010354594560340047, 0.00019901855557691306, 0.0001602041011210531, 6.937284342711791e-05, 0.00038674139068461955, 0.005171595141291618, 0.8964056372642517, 0.09657193720340729, 0.0, 0.0, 0.0, 0.0, 0.0, 0.0, 0.0, 0.0, 0.0, 0.0, 0.0, 0.0, 0.0, 0.0, 0.0, 0.0, 0.0, 0.0, 0.0, 0.0, 0.0, 0.0, 0.0, 0.0, 0.0], [0.0012883321614935994, 0.0003233453317079693, 0.00026527189766056836, 0.00025490616098977625, 0.000201298258616589, 0.00010049015691038221, 0.0005700880428776145, 0.000409130152547732, 0.9965871572494507, 0.0, 0.0, 0.0, 0.0, 0.0, 0.0, 0.0, 0.0, 0.0, 0.0, 0.0, 0.0, 0.0, 0.0, 0.0, 0.0, 0.0, 0.0, 0.0, 0.0, 0.0, 0.0, 0.0, 0.0], [0.00018741606618277729, 1.619654540263582e-05, 4.228112629789393e-06, 0.0002875890932045877, 1.1125726814498194e-05, 9.805675290408544e-06, 0.0001556722418172285, 7.632972119608894e-05, 0.0034869108349084854, 0.9957647323608398, 0.0, 0.0, 0.0, 0.0, 0.0, 0.0, 0.0, 0.0, 0.0, 0.0, 0.0, 0.0, 0.0, 0.0, 0.0, 0.0, 0.0, 0.0, 0.0, 0.0, 0.0, 0.0, 0.0], [0.015741515904664993, 0.0006393615039996803, 0.00045715292799286544, 0.0009912531822919846, 0.002114033093675971, 0.018089773133397102, 0.047120366245508194, 0.07010906934738159, 0.061528366059064865, 0.27690380811691284, 0.5063052773475647, 0.0, 0.0, 0.0, 0.0, 0.0, 0.0, 0.0, 0.0, 0.0, 0.0, 0.0, 0.0, 0.0, 0.0, 0.0, 0.0, 0.0, 0.0, 0.0, 0.0, 0.0, 0.0], [0.0006166601087898016, 0.0005207080976106226, 4.61151976196561e-05, 0.0014613015810027719, 0.0005623756442219019, 4.44760407845024e-05, 0.0003653968160506338, 0.0002860166132450104, 0.004506129305809736, 0.0058165183290839195, 0.0007244551088660955, 0.9850499033927917, 0.0, 0.0, 0.0, 0.0, 0.0, 0.0, 0.0, 0.0, 0.0, 0.0, 0.0, 0.0, 0.0, 0.0, 0.0, 0.0, 0.0, 0.0, 0.0, 0.0, 0.0], [0.0010478582698851824, 3.062820542254485e-05, 0.0001734501274768263, 5.423129550763406e-05, 6.388429756043479e-05, 1.1261148756602779e-05, 1.7169008060591295e-05, 1.3931307876191568e-05, 0.0020760400220751762, 0.00026926861028186977, 0.00015268517017830163, 0.0036844394635409117, 0.992405116558075, 0.0, 0.0, 0.0, 0.0, 0.0, 0.0, 0.0, 0.0, 0.0, 0.0, 0.0, 0.0, 0.0, 0.0, 0.0, 0.0, 0.0, 0.0, 0.0, 0.0], [0.010746277868747711, 0.000253543839789927, 0.00015322939725592732, 0.00029287030338309705, 0.0005376791232265532, 0.004423542879521847, 0.009884336031973362, 0.012843038886785507, 0.012738624587655067, 0.05966851860284805, 0.1077299416065216, 0.02474570833146572, 0.0780869871377945, 0.6778956651687622, 0.0, 0.0, 0.0, 0.0, 0.0, 0.0, 0.0, 0.0, 0.0, 0.0, 0.0, 0.0, 0.0, 0.0, 0.0, 0.0, 0.0, 0.0, 0.0], [0.00041217979742214084, 2.6218713173875585e-05, 1.775588680175133e-05, 0.0001918186608236283, 3.2979430670820875e-06, 3.912674856110243e-06, 1.0438077879371122e-05, 4.906835329165915e-06, 0.0005868556327186525, 0.0030381425749510527, 3.6931178328813985e-05, 0.0007724293391220272, 0.0096226055175066, 0.00016094396414700896, 0.9851114153862, 0.0, 0.0, 0.0, 0.0, 0.0, 0.0, 0.0, 0.0, 0.0, 0.0, 0.0, 0.0, 0.0, 0.0, 0.0, 0.0, 0.0, 0.0], [0.00010886602831305936, 3.584551905078115e-06, 5.1916676966357045e-06, 3.0838429665891454e-05, 1.840876393544022e-05, 7.954773764140555e-07, 3.3532076031406177e-06, 6.5743715822463855e-06, 0.0007270939531736076, 0.0018232472939416766, 7.85327392804902e-06, 0.00030627509113401175, 0.0069750514812767506, 3.485090201138519e-05, 0.028292767703533173, 0.9616552591323853, 0.0, 0.0, 0.0, 0.0, 0.0, 0.0, 0.0, 0.0, 0.0, 0.0, 0.0, 0.0, 0.0, 0.0, 0.0, 0.0, 0.0], [0.006073979195207357, 8.815195906208828e-05, 4.5837779907742515e-05, 8.250469545600936e-05, 0.00012720409722533077, 0.0009312523761764169, 0.0016699978150427341, 0.001938195084221661, 0.002101697027683258, 0.010131658054888248, 0.016047310084104538, 0.003835379844531417, 0.012242144905030727, 0.10037069022655487, 0.07853122055530548, 0.1099734902381897, 0.6558093428611755, 0.0, 0.0, 0.0, 0.0, 0.0, 0.0, 0.0, 0.0, 0.0, 0.0, 0.0, 0.0, 0.0, 0.0, 0.0, 0.0], [0.0021863027941435575, 1.1892969268956222e-05, 1.673598490015138e-05, 2.0815499738091603e-05, 2.1162562916288152e-05, 0.0007714939420111477, 0.000865213864017278, 0.0005560302524827421, 0.00015655922470614314, 0.0019499922636896372, 0.010891214944422245, 0.00039543150342069566, 0.0015144740464165807, 0.0691632628440857, 0.004308108240365982, 0.004035167396068573, 0.49397021532058716, 0.4091658890247345, 0.0, 0.0, 0.0, 0.0, 0.0, 0.0, 0.0, 0.0, 0.0, 0.0, 0.0, 0.0, 0.0, 0.0, 0.0], [1.9797969798673876e-05, 4.972388865098765e-07, 9.165694869750496e-09, 1.32304037947506e-07, 5.60181163677953e-08, 1.1903900087872898e-08, 6.153117624307924e-07, 4.068542480695214e-08, 4.517446541285608e-06, 1.4017750800121576e-05, 1.6456915830076468e-07, 1.0863813031392056e-06, 7.444054062943906e-06, 1.0056684232040425e-06, 2.759499693638645e-05, 0.00031378009589388967, 6.201119504112285e-06, 8.21336197986966e-06, 0.9995948672294617, 0.0, 0.0, 0.0, 0.0, 0.0, 0.0, 0.0, 0.0, 0.0, 0.0, 0.0, 0.0, 0.0, 0.0], [6.497143658634741e-06, 8.691995390108787e-07, 1.405136686116748e-06, 3.7704759847656533e-07, 3.329163291709847e-07, 6.104962579911444e-08, 2.542995680698823e-08, 1.1067728422631262e-07, 3.6708668631035835e-05, 5.704793011318543e-07, 6.172335815790575e-07, 0.00015627907123416662, 0.0001473791489843279, 3.0103760764177423e-06, 6.130660767666996e-05, 0.0017769887344911695, 1.854588663263712e-05, 3.426309922360815e-05, 0.9233516454696655, 0.07440301030874252, 0.0, 0.0, 0.0, 0.0, 0.0, 0.0, 0.0, 0.0, 0.0, 0.0, 0.0, 0.0, 0.0], [0.003649001708254218, 3.749440293177031e-05, 1.7470805687480606e-05, 2.8449228921090253e-05, 3.312421540613286e-05, 0.0001956921914825216, 0.0002647591463755816, 0.0002469042665325105, 0.00028033179114572704, 0.0013949173735454679, 0.001791028305888176, 0.00042467928142286837, 0.001462370390072465, 0.009717762470245361, 0.008053941652178764, 0.013200567103922367, 0.06315958499908447, 0.07152783870697021, 0.075231172144413, 0.02420509047806263, 0.725077748298645, 0.0, 0.0, 0.0, 0.0, 0.0, 0.0, 0.0, 0.0, 0.0, 0.0, 0.0, 0.0], [0.0006410906789824367, 3.925715645891614e-06, 1.1607382930378662e-06, 1.5375524071714608e-06, 9.072649618246942e-07, 8.058227649598848e-06, 1.3223969290265813e-05, 4.6199324970075395e-06, 3.6788464058190584e-05, 4.565183917293325e-05, 7.577830547234043e-05, 2.2741774955647998e-05, 5.668478843290359e-05, 0.00047375174472108483, 0.00036407768493518233, 0.0004240030248183757, 0.00375733501277864, 0.004363130312412977, 0.007395241875201464, 0.0050226361490786076, 0.05575631931424141, 0.9215313792228699, 0.0, 0.0, 0.0, 0.0, 0.0, 0.0, 0.0, 0.0, 0.0, 0.0, 0.0], [0.0005377681227400899, 8.122560188894568e-07, 2.301858557984815e-06, 1.4700387964694528e-06, 1.8703628938965267e-06, 6.024505978530215e-07, 4.127837655687472e-06, 1.6705735106370412e-06, 2.0471961761359125e-06, 7.430019468301907e-05, 3.5942298381996807e-06, 7.171495781221893e-06, 3.0528179195243865e-05, 1.8927723431261256e-05, 0.0002543880545999855, 0.00019496388267725706, 0.00012626514944713563, 0.00018230521527584642, 0.0037352307699620724, 0.0006727116415277123, 0.0015798311214894056, 0.011177671141922474, 0.981389582157135, 0.0, 0.0, 0.0, 0.0, 0.0, 0.0, 0.0, 0.0, 0.0, 0.0], [8.512815838912502e-05, 4.870875613960379e-07, 1.245894509338541e-06, 2.0811258139019628e-07, 1.9242861526436172e-07, 3.70403121507934e-08, 4.5552476990451396e-07, 5.5045354940830293e-08, 1.5320351849368308e-06, 5.083290488983039e-06, 2.1400938976512407e-07, 1.4595293578167912e-06, 1.4768345863558352e-05, 1.0635013723003794e-06, 2.94615365419304e-05, 5.728810720029287e-05, 6.6156744651379995e-06, 7.844209903851151e-06, 0.00015063841419760138, 0.00022636979701928794, 7.97358006821014e-05, 0.0001304084580624476, 0.010868425481021404, 0.9883312582969666, 0.0, 0.0, 0.0, 0.0, 0.0, 0.0, 0.0, 0.0, 0.0], [0.00041663285810500383, 2.2503731997858267e-06, 5.270555902825436e-06, 2.7549138394533657e-05, 3.9630598621442914e-05, 7.5147481766180135e-06, 8.100944796751719e-06, 1.1581348189793061e-05, 1.3205998584453482e-05, 6.750720058334991e-05, 2.521280293876771e-05, 1.4860723240417428e-05, 7.521706720581278e-05, 0.00011457481741672382, 0.00025745329912751913, 0.00036668588290922344, 0.0006904752226546407, 0.0014518490061163902, 0.0032460226211696863, 0.0006353408098220825, 0.008745580911636353, 0.01519089750945568, 0.01815018616616726, 0.13303323090076447, 0.8174030780792236, 0.0, 0.0, 0.0, 0.0, 0.0, 0.0, 0.0, 0.0], [1.673923725320492e-05, 8.245316962529614e-08, 3.257380143395494e-08, 2.873734139541284e-08, 1.6217633458381897e-07, 1.5275354314780998e-09, 2.327860038064955e-08, 5.576718198341268e-09, 1.2825753969991638e-07, 1.3429435341549834e-07, 6.16054940394406e-09, 2.5232478151338e-07, 3.2057475891633658e-06, 2.6277223952320128e-08, 7.619948405590549e-07, 7.901944627519697e-06, 1.3940399412604165e-07, 1.955255868324457e-07, 0.00032022525556385517, 8.173670380529074e-07, 1.5629989320586901e-06, 3.76315961148066e-06, 0.0007450495613738894, 0.0037152215372771025, 3.9344129618257284e-05, 0.995144248008728, 0.0, 0.0, 0.0, 0.0, 0.0, 0.0, 0.0], [0.00023842244991101325, 5.040096311859088e-06, 1.3208554037191789e-06, 8.599811735621188e-06, 5.166063601791393e-06, 1.3470925352976337e-07, 6.710797606501728e-07, 2.69969319788288e-07, 6.345713245536899e-06, 4.417818854562938e-05, 2.7444932015896484e-07, 2.0171135474811308e-05, 1.6526626495760866e-05, 8.12278358353069e-07, 0.0001077100241673179, 0.00012397419777698815, 3.507592055029818e-06, 8.50583273859229e-06, 6.980275793466717e-05, 0.00026813664590008557, 2.879286876122933e-05, 0.00011957917740801349, 0.0001296166592510417, 0.007425930816680193, 0.0007109706057235599, 0.005815007723867893, 0.9848405718803406, 0.0, 0.0, 0.0, 0.0, 0.0, 0.0], [0.0004089956928510219, 6.095389153415454e-07, 1.996391347347526e-06, 9.310358109360095e-06, 3.7690572298743064e-06, 1.9876542864949442e-06, 4.5765563072563964e-07, 1.069073505277629e-06, 3.0871860872139223e-06, 9.211415999743622e-06, 4.724370228359476e-06, 1.2070056527591078e-06, 5.095625965623185e-06, 1.8047156117972918e-05, 4.857865860685706e-05, 4.169387466390617e-05, 0.000105375045677647, 0.00022466870723292232, 0.0001152864788309671, 0.000249289907515049, 0.0013673118082806468, 0.0016190315363928676, 0.001327513251453638, 0.0034917828161269426, 0.06305655092000961, 0.006469064857810736, 0.09512645751237869, 0.8262878656387329, 0.0, 0.0, 0.0, 0.0, 0.0], [0.00031804668833501637, 1.4181815686242771e-06, 3.185494676927192e-07, 2.7823052732856013e-06, 5.3885887609794736e-05, 4.300602540752152e-08, 5.386255566008913e-07, 8.497841008647811e-08, 5.999697805236792e-07, 4.110325789952185e-06, 7.099399823573549e-08, 8.454308044747449e-07, 2.5266151624236954e-06, 2.1983885289955651e-07, 6.098246103647398e-06, 2.112996662617661e-05, 9.411784276380786e-07, 9.950376806955319e-07, 3.0413633794523776e-05, 2.976995119752246e-06, 8.453845111944247e-06, 2.6007064661826007e-05, 0.00023055810015648603, 0.0013383397599682212, 0.00021758259390480816, 0.007014394737780094, 0.017924025654792786, 0.0005302681820467114, 0.9722622632980347, 0.0, 0.0, 0.0, 0.0], [1.8505279797409457e-07, 5.565671479246248e-09, 7.26265547701388e-10, 7.745968311212437e-09, 1.507948077517085e-08, 8.228521197750638e-10, 1.7915348093922034e-09, 1.7345581637684404e-09, 1.0962556196147943e-08, 5.003275305170973e-08, 3.9228162940219136e-09, 1.001388696408867e-07, 2.333774595797422e-08, 1.6555224746639396e-08, 5.171330030862009e-08, 1.6146024961471994e-07, 9.827883218349598e-08, 2.7074443664787395e-07, 5.411982328951126e-06, 2.508381840016227e-07, 1.1805933581854333e-06, 2.8004258183500497e-06, 4.610363248502836e-06, 0.00022679209359921515, 5.7942310377256945e-05, 0.0004519546346273273, 0.00011976478708675131, 0.00023980876721907407, 0.0018739993683993816, 0.9970145225524902, 0.0, 0.0, 0.0], [4.347449794295244e-05, 2.9688608265132643e-06, 3.919368793958711e-07, 9.117039212469535e-07, 4.364481469565362e-07, 4.686582233404124e-09, 9.240360299145323e-08, 1.2419325123858016e-08, 7.188937445334886e-08, 6.30453087069327e-07, 6.108888506162202e-09, 1.9987122357179032e-07, 1.4578646414520335e-06, 1.4727316255402911e-08, 1.7957326292616926e-07, 2.642266008479055e-05, 5.112647372129686e-08, 4.710665280072135e-08, 0.001576115726493299, 2.198941047026892e-06, 3.3339856031489035e-07, 2.181483296226361e-06, 0.00016240391414612532, 0.0017777637112885714, 1.1749207260436378e-05, 0.0036160836461931467, 6.199471681611612e-05, 3.5168231988791376e-05, 0.0011488678865134716, 0.016085589304566383, 0.9754422307014465, 0.0, 0.0], [0.00115629390347749, 6.1990535868972074e-06, 6.137800596661691e-07, 3.1026661417854484e-06, 8.2284321933912e-07, 4.3660275395041026e-08, 9.363272823748048e-08, 2.7735492125202654e-08, 5.109519634061144e-07, 1.2355308172118384e-06, 3.8253045175906664e-08, 1.1272317124166875e-06, 1.9008953131560702e-06, 8.71407408453706e-08, 5.398188022809336e-06, 7.393437499558786e-06, 3.128872663182847e-07, 3.0146313179102435e-07, 0.0001359535235678777, 1.3343834325496573e-05, 2.39964992942987e-06, 3.871280569001101e-05, 0.0008219636511057615, 0.0006131274858489633, 2.151843909814488e-05, 0.00414072722196579, 0.0008760871132835746, 0.00011684637138387188, 0.0021590683609247208, 0.027525311335921288, 0.04434973746538162, 0.9179997444152832, 0.0], [0.0031942862551659346, 4.6816658141324297e-05, 3.499129888950847e-05, 2.7043073714594357e-05, 1.4000303963257466e-05, 1.7085123545257375e-05, 8.051890290516894e-06, 3.909829956683097e-06, 1.0716924407461192e-05, 1.7930773537955247e-05, 1.4207478670869023e-05, 2.691124791454058e-05, 2.6412013539811596e-05, 3.1100189517019317e-05, 1.1198587344551925e-05, 5.485492874868214e-05, 0.00011474464554339647, 0.00010493661102373153, 0.00028062990168109536, 0.00020839046919718385, 0.000932925206143409, 0.0018990000244230032, 0.0011267578229308128, 0.0019257260719314218, 0.003917152993381023, 0.007499446626752615, 0.010695911943912506, 0.02319985441863537, 0.030398115515708923, 0.12729337811470032, 0.04325321316719055, 0.1766805648803711, 0.5669296979904175]], [[1.0, 0.0, 0.0, 0.0, 0.0, 0.0, 0.0, 0.0, 0.0, 0.0, 0.0, 0.0, 0.0, 0.0, 0.0, 0.0, 0.0, 0.0, 0.0, 0.0, 0.0, 0.0, 0.0, 0.0, 0.0, 0.0, 0.0, 0.0, 0.0, 0.0, 0.0, 0.0, 0.0], [0.2530861496925354, 0.7469138503074646, 0.0, 0.0, 0.0, 0.0, 0.0, 0.0, 0.0, 0.0, 0.0, 0.0, 0.0, 0.0, 0.0, 0.0, 0.0, 0.0, 0.0, 0.0, 0.0, 0.0, 0.0, 0.0, 0.0, 0.0, 0.0, 0.0, 0.0, 0.0, 0.0, 0.0, 0.0], [0.30671584606170654, 0.32906392216682434, 0.3642202615737915, 0.0, 0.0, 0.0, 0.0, 0.0, 0.0, 0.0, 0.0, 0.0, 0.0, 0.0, 0.0, 0.0, 0.0, 0.0, 0.0, 0.0, 0.0, 0.0, 0.0, 0.0, 0.0, 0.0, 0.0, 0.0, 0.0, 0.0, 0.0, 0.0, 0.0], [0.07416970282793045, 0.1618967205286026, 0.05432590842247009, 0.7096076607704163, 0.0, 0.0, 0.0, 0.0, 0.0, 0.0, 0.0, 0.0, 0.0, 0.0, 0.0, 0.0, 0.0, 0.0, 0.0, 0.0, 0.0, 0.0, 0.0, 0.0, 0.0, 0.0, 0.0, 0.0, 0.0, 0.0, 0.0, 0.0, 0.0], [0.1668822467327118, 0.03901786357164383, 0.03822462633252144, 0.21398361027240753, 0.5418916344642639, 0.0, 0.0, 0.0, 0.0, 0.0, 0.0, 0.0, 0.0, 0.0, 0.0, 0.0, 0.0, 0.0, 0.0, 0.0, 0.0, 0.0, 0.0, 0.0, 0.0, 0.0, 0.0, 0.0, 0.0, 0.0, 0.0, 0.0, 0.0], [0.19483636319637299, 0.21119257807731628, 0.051505643874406815, 0.08703837543725967, 0.22999556362628937, 0.22543151676654816, 0.0, 0.0, 0.0, 0.0, 0.0, 0.0, 0.0, 0.0, 0.0, 0.0, 0.0, 0.0, 0.0, 0.0, 0.0, 0.0, 0.0, 0.0, 0.0, 0.0, 0.0, 0.0, 0.0, 0.0, 0.0, 0.0, 0.0], [0.13900130987167358, 0.02974863536655903, 0.03860697150230408, 0.0513327457010746, 0.1928425133228302, 0.08012373745441437, 0.46834418177604675, 0.0, 0.0, 0.0, 0.0, 0.0, 0.0, 0.0, 0.0, 0.0, 0.0, 0.0, 0.0, 0.0, 0.0, 0.0, 0.0, 0.0, 0.0, 0.0, 0.0, 0.0, 0.0, 0.0, 0.0, 0.0, 0.0], [0.08969781547784805, 0.04080604389309883, 0.034733086824417114, 0.08414534479379654, 0.09911052882671356, 0.07059450447559357, 0.1361658275127411, 0.4447469115257263, 0.0, 0.0, 0.0, 0.0, 0.0, 0.0, 0.0, 0.0, 0.0, 0.0, 0.0, 0.0, 0.0, 0.0, 0.0, 0.0, 0.0, 0.0, 0.0, 0.0, 0.0, 0.0, 0.0, 0.0, 0.0], [0.059865161776542664, 0.02019045315682888, 0.01878531277179718, 0.10584726929664612, 0.05794878676533699, 0.027517717331647873, 0.0566631518304348, 0.08226758241653442, 0.5709145069122314, 0.0, 0.0, 0.0, 0.0, 0.0, 0.0, 0.0, 0.0, 0.0, 0.0, 0.0, 0.0, 0.0, 0.0, 0.0, 0.0, 0.0, 0.0, 0.0, 0.0, 0.0, 0.0, 0.0, 0.0], [0.010379272513091564, 0.0046982541680336, 0.004143984988331795, 0.007291404064744711, 0.006256690714508295, 0.003318047383800149, 0.009175023064017296, 0.018754398450255394, 0.033931486308574677, 0.9020515084266663, 0.0, 0.0, 0.0, 0.0, 0.0, 0.0, 0.0, 0.0, 0.0, 0.0, 0.0, 0.0, 0.0, 0.0, 0.0, 0.0, 0.0, 0.0, 0.0, 0.0, 0.0, 0.0, 0.0], [0.0727011039853096, 0.04776483401656151, 0.010500343516469002, 0.016159430146217346, 0.04617819935083389, 0.05249456316232681, 0.05184571444988251, 0.21189506351947784, 0.035158198326826096, 0.1726718693971634, 0.28263065218925476, 0.0, 0.0, 0.0, 0.0, 0.0, 0.0, 0.0, 0.0, 0.0, 0.0, 0.0, 0.0, 0.0, 0.0, 0.0, 0.0, 0.0, 0.0, 0.0, 0.0, 0.0, 0.0], [0.01512689795345068, 0.004731189925223589, 0.0023226330522447824, 0.0065757399424910545, 0.01836245507001877, 0.003339663613587618, 0.008784219622612, 0.007409735582768917, 0.006289802026003599, 0.07638943940401077, 0.01200347300618887, 0.838664710521698, 0.0, 0.0, 0.0, 0.0, 0.0, 0.0, 0.0, 0.0, 0.0, 0.0, 0.0, 0.0, 0.0, 0.0, 0.0, 0.0, 0.0, 0.0, 0.0, 0.0, 0.0], [0.03233194351196289, 0.010628955438733101, 0.0026151614729315042, 0.0011762913782149553, 0.003093282226473093, 0.0015055511612445116, 0.007079708855599165, 0.0028344637248665094, 0.005003879778087139, 0.012032576836645603, 0.003987770993262529, 0.0518723726272583, 0.8658380508422852, 0.0, 0.0, 0.0, 0.0, 0.0, 0.0, 0.0, 0.0, 0.0, 0.0, 0.0, 0.0, 0.0, 0.0, 0.0, 0.0, 0.0, 0.0, 0.0, 0.0], [0.05045590549707413, 0.02653886191546917, 0.005783275701105595, 0.008087310008704662, 0.021799402311444283, 0.0256703682243824, 0.022779056802392006, 0.09139895439147949, 0.01501738652586937, 0.07093925774097443, 0.12448635697364807, 0.1266833394765854, 0.061021335422992706, 0.34933921694755554, 0.0, 0.0, 0.0, 0.0, 0.0, 0.0, 0.0, 0.0, 0.0, 0.0, 0.0, 0.0, 0.0, 0.0, 0.0, 0.0, 0.0, 0.0, 0.0], [0.054741270840168, 0.052968502044677734, 0.0039881267584860325, 0.012351629324257374, 0.004415624774992466, 0.0035962779074907303, 0.011385710909962654, 0.009828060865402222, 0.014749743975698948, 0.07078832387924194, 0.011209194548428059, 0.05164061114192009, 0.1973438262939453, 0.027129285037517548, 0.4738638401031494, 0.0, 0.0, 0.0, 0.0, 0.0, 0.0, 0.0, 0.0, 0.0, 0.0, 0.0, 0.0, 0.0, 0.0, 0.0, 0.0, 0.0, 0.0], [0.007163072936236858, 0.00496384734287858, 0.0027692283038049936, 0.001942443777807057, 0.010544730350375175, 0.001414487836882472, 0.003663665149360895, 0.003149950411170721, 0.00548129715025425, 0.02161404676735401, 0.003922199830412865, 0.07935080677270889, 0.22477902472019196, 0.009166962467133999, 0.027402658015489578, 0.5926715731620789, 0.0, 0.0, 0.0, 0.0, 0.0, 0.0, 0.0, 0.0, 0.0, 0.0, 0.0, 0.0, 0.0, 0.0, 0.0, 0.0, 0.0], [0.034611038863658905, 0.01529634464532137, 0.0030951225198805332, 0.0038990911561995745, 0.009989401325583458, 0.011446875520050526, 0.00918936263769865, 0.033565130084753036, 0.005761216394603252, 0.0255809985101223, 0.04384687915444374, 0.045213595032691956, 0.02055337280035019, 0.11962331086397171, 0.15673241019248962, 0.13173454999923706, 0.32986125349998474, 0.0, 0.0, 0.0, 0.0, 0.0, 0.0, 0.0, 0.0, 0.0, 0.0, 0.0, 0.0, 0.0, 0.0, 0.0, 0.0], [0.01725388690829277, 0.004397530108690262, 0.004968690220266581, 0.007064317353069782, 0.006634900346398354, 0.006910955533385277, 0.011386913247406483, 0.01617850363254547, 0.020317768678069115, 0.020396821200847626, 0.023422114551067352, 0.0189091507345438, 0.04024205356836319, 0.06200674548745155, 0.11645367741584778, 0.07975112646818161, 0.1686447113752365, 0.37506017088890076, 0.0, 0.0, 0.0, 0.0, 0.0, 0.0, 0.0, 0.0, 0.0, 0.0, 0.0, 0.0, 0.0, 0.0, 0.0], [0.0024591200053691864, 0.00024919791030697525, 3.400466084713116e-05, 0.00021132981055416167, 0.00020066798606421798, 0.00012589269317686558, 0.0003650689322967082, 0.00037359818816185, 0.000137985625769943, 0.00047022191574797034, 0.000271518510999158, 0.003417078172788024, 0.0006049812072888017, 0.0005454614874906838, 0.0008937683305703104, 0.0015852147480472922, 0.001215077005326748, 0.002821272239089012, 0.9840186238288879, 0.0, 0.0, 0.0, 0.0, 0.0, 0.0, 0.0, 0.0, 0.0, 0.0, 0.0, 0.0, 0.0, 0.0], [0.0001528244756627828, 0.03892359510064125, 0.0004715200047940016, 0.00037318162503652275, 3.2717998692533e-05, 1.0635602848196868e-05, 3.824579835054465e-06, 1.324468212260399e-05, 6.418924022000283e-05, 2.7344372938387096e-05, 2.8319931516307406e-05, 0.0022295680828392506, 0.0013866369845345616, 7.163517875596881e-05, 0.0001402555499225855, 0.008246433921158314, 0.00019678617536555976, 0.00020546649466268718, 0.8976381421089172, 0.049783747643232346, 0.0, 0.0, 0.0, 0.0, 0.0, 0.0, 0.0, 0.0, 0.0, 0.0, 0.0, 0.0, 0.0], [0.02645810693502426, 0.010410873219370842, 0.0021332567557692528, 0.0024560189340263605, 0.005542592145502567, 0.005954567342996597, 0.004195828922092915, 0.013451530598104, 0.0023519503884017467, 0.009471958503127098, 0.015433425083756447, 0.014804963953793049, 0.0068657579831779, 0.03787313774228096, 0.04744930565357208, 0.045472823083400726, 0.10199164599180222, 0.08666392415761948, 0.06470180302858353, 0.10160756856203079, 0.3947089910507202, 0.0, 0.0, 0.0, 0.0, 0.0, 0.0, 0.0, 0.0, 0.0, 0.0, 0.0, 0.0], [0.02115790732204914, 0.0035484377294778824, 0.001744113047607243, 0.0035093086771667004, 0.00420189555734396, 0.0025777844712138176, 0.004015862010419369, 0.004599001258611679, 0.003955161198973656, 0.006455844733864069, 0.005907898768782616, 0.003733164630830288, 0.009013406932353973, 0.013927984051406384, 0.029895823448896408, 0.020082326605916023, 0.038044437766075134, 0.0688309296965599, 0.08152896910905838, 0.03834027424454689, 0.15160265564918518, 0.48332679271698, 0.0, 0.0, 0.0, 0.0, 0.0, 0.0, 0.0, 0.0, 0.0, 0.0, 0.0], [0.0014211670495569706, 0.0004069012065883726, 0.00027144214254803956, 0.001486921333707869, 0.0006475145928561687, 0.0002567149931564927, 0.0002729761181399226, 0.0005059844697825611, 0.00017537492385599762, 0.0012059590080752969, 0.0005902888369746506, 0.0004307387862354517, 0.0003699951630551368, 0.001332282554358244, 0.0007594259805046022, 0.002518306253477931, 0.0035999766550958157, 0.004756714683026075, 0.011892926879227161, 0.0034102119971066713, 0.013851094990968704, 0.05907326936721802, 0.8907637596130371, 0.0, 0.0, 0.0, 0.0, 0.0, 0.0, 0.0, 0.0, 0.0, 0.0], [0.0050588627345860004, 0.0008823544485494494, 0.0015358275268226862, 0.0016909867990761995, 0.0013438744936138391, 0.0004949706490151584, 0.0006572252605110407, 0.0005521586281247437, 0.000581209606025368, 0.002054559765383601, 0.0008380872313864529, 0.0010067487601190805, 0.0011300843907520175, 0.0016139924991875887, 0.005022870376706123, 0.014576875604689121, 0.003714330494403839, 0.004681475460529327, 0.007913823239505291, 0.00677838921546936, 0.01229136623442173, 0.02773301489651203, 0.10214638710021973, 0.7957004904747009, 0.0, 0.0, 0.0, 0.0, 0.0, 0.0, 0.0, 0.0, 0.0], [0.0040047005750238895, 0.00045769783901050687, 0.0015645228559151292, 0.0031372075900435448, 0.0019937469623982906, 0.0003789266338571906, 0.0004957788623869419, 0.0005698016029782593, 0.00100520730484277, 0.0023432262241840363, 0.000577215279918164, 0.0016756155528128147, 0.003078738460317254, 0.0012285257689654827, 0.005278331693261862, 0.006328062620013952, 0.003151730401441455, 0.005319311283528805, 0.021383143961429596, 0.006147709675133228, 0.012332229875028133, 0.07402168214321136, 0.1211402490735054, 0.561111330986023, 0.16127532720565796, 0.0, 0.0, 0.0, 0.0, 0.0, 0.0, 0.0, 0.0], [0.0011286535300314426, 4.9889109504874796e-05, 4.129114677198231e-05, 9.249593858839944e-05, 5.513616997632198e-05, 3.8617217796854675e-05, 5.592021989286877e-05, 0.000148962382809259, 5.5092091315600555e-06, 6.817420216975734e-05, 3.6204415664542466e-05, 4.623952190740965e-05, 0.0010654997313395143, 5.919869363424368e-05, 7.787245704093948e-05, 0.0003842116566374898, 0.0001169242532341741, 0.00022428194642998278, 0.0005083975847810507, 0.0001562809047754854, 0.0003233142488170415, 0.0007086818804964423, 0.0009207397815771401, 0.0008559702546335757, 0.004414443392306566, 0.9884169697761536, 0.0, 0.0, 0.0, 0.0, 0.0, 0.0, 0.0], [0.0024299691431224346, 0.0036596369463950396, 0.0006344980793073773, 0.0006202650256454945, 0.002987673506140709, 0.00034763681469485164, 0.0005059166578575969, 0.00041149696335196495, 0.0002132155786966905, 0.0006509344093501568, 0.00039556960109621286, 0.1698644906282425, 0.0021888981573283672, 0.0006812369101680815, 0.000868375354912132, 0.008905138820409775, 0.0014638525899499655, 0.0013394574634730816, 0.006495125591754913, 0.007638712413609028, 0.00461939861997962, 0.003161791944876313, 0.014200895093381405, 0.04639662802219391, 0.02278607338666916, 0.2193925678730011, 0.47714054584503174, 0.0, 0.0, 0.0, 0.0, 0.0, 0.0], [0.015610343776643276, 0.0009648085106164217, 0.0010281838476657867, 0.007148525677621365, 0.005316656548529863, 0.0005432689795270562, 0.0007839896134100854, 0.00047082980745472014, 0.002298033330589533, 0.005463096778839827, 0.000548307376448065, 0.0008661500178277493, 0.0009035557741299272, 0.000925196916796267, 0.00837593525648117, 0.001447813818231225, 0.002061491599306464, 0.003693381790071726, 0.017008867114782333, 0.006138679105788469, 0.007041897624731064, 0.041287075728178024, 0.06922481954097748, 0.26617175340652466, 0.05024218186736107, 0.11445146054029465, 0.13764901459217072, 0.232334703207016, 0.0, 0.0, 0.0, 0.0, 0.0], [0.02189530059695244, 0.001351455575786531, 0.0013727967161685228, 0.005157720297574997, 0.0109327994287014, 0.00044522201642394066, 0.0016178300138562918, 0.0005713259452022612, 0.0007700269925408065, 0.003093537874519825, 0.00036163444747217, 0.0009329019230790436, 0.0019032395211979747, 0.0005254389252513647, 0.0007036186871118844, 0.001578063704073429, 0.0010200479300692677, 0.0009346723090857267, 0.005167579744011164, 0.0007855424773879349, 0.0028796852566301823, 0.006337147671729326, 0.049514155834913254, 0.021886885166168213, 0.030046865344047546, 0.06941603869199753, 0.02995389513671398, 0.06111625209450722, 0.6677283048629761, 0.0, 0.0, 0.0, 0.0], [0.00029466560226865113, 8.085118315648288e-05, 0.000119926524348557, 0.00017154008673969656, 0.0003899008734151721, 8.63025852595456e-05, 5.253726340015419e-05, 6.616374594159424e-05, 0.00011378392082406208, 6.20008067926392e-05, 0.00011238035949645564, 0.0005867322906851768, 9.7849995654542e-05, 0.00021334872872103006, 0.0004044431261718273, 0.0004726243787445128, 0.0004730740038212389, 0.0005199525621719658, 0.0008571154321543872, 0.00022720212291460484, 0.0015976789873093367, 0.0014780638739466667, 0.0016501436475664377, 0.009339651092886925, 0.012792704626917839, 0.012606966309249401, 0.021659599617123604, 0.028867460787296295, 0.07784786075353622, 0.8267574906349182, 0.0, 0.0, 0.0], [0.0006396538810804486, 0.000199202069779858, 0.00033784547122195363, 0.0003228608111385256, 0.0003883974568452686, 2.251142359455116e-05, 0.00011559659469639882, 1.9683653590618633e-05, 8.749771222937852e-05, 0.00016675733786541969, 2.135314207407646e-05, 0.0001825766812544316, 0.0028796191327273846, 3.27083544107154e-05, 6.355978985084221e-05, 0.00090784952044487, 6.314188794931397e-05, 4.9545138608664274e-05, 0.005010180175304413, 0.00021555731655098498, 0.00018923312018159777, 0.000235798375797458, 0.002119170967489481, 0.0034752427600324154, 0.0004957508645020425, 0.012673025950789452, 0.0026274612173438072, 0.0011926381848752499, 0.028011495247483253, 0.14214558899402618, 0.795108437538147, 0.0, 0.0], [0.005492156837135553, 0.001417964929714799, 6.310049502644688e-05, 0.0009282388491556048, 0.0004675880481954664, 9.701246744953096e-05, 5.6787117500789464e-05, 6.824066076660529e-05, 4.05481769121252e-05, 0.00021011504577472806, 6.534710701089352e-05, 0.00011957811511820182, 9.082329779630527e-05, 9.077359572984278e-05, 0.00013827519433107227, 0.00041228372720070183, 0.00016900616174098104, 0.00013570731971412897, 0.002428328851237893, 0.00020654822583310306, 0.0004959608777426183, 0.0001656200474826619, 0.0018254051683470607, 0.0016808194341138005, 0.0010187356965616345, 0.015071510337293148, 0.003408375894650817, 0.003384195500984788, 0.01886552944779396, 0.010037439875304699, 0.008259577676653862, 0.9230883717536926, 0.0], [0.009386100806295872, 0.0017380549106746912, 0.0018091683741658926, 0.0014350233832374215, 0.0016812800895422697, 0.0019791286904364824, 0.001414343947544694, 0.002112781163305044, 0.0012016954133287072, 0.0010467637330293655, 0.0012532478431239724, 0.001212568487972021, 0.00069524155696854, 0.0016850169049575925, 0.001290499116294086, 0.001494942232966423, 0.003052463522180915, 0.00617640744894743, 0.003993150312453508, 0.0029945187270641327, 0.008827609941363335, 0.009542388841509819, 0.010477346368134022, 0.021451428532600403, 0.06221359223127365, 0.026861028745770454, 0.03390642628073692, 0.11987604945898056, 0.05027466639876366, 0.02679685316979885, 0.031165678054094315, 0.10728628188371658, 0.4436681568622589]], [[1.0, 0.0, 0.0, 0.0, 0.0, 0.0, 0.0, 0.0, 0.0, 0.0, 0.0, 0.0, 0.0, 0.0, 0.0, 0.0, 0.0, 0.0, 0.0, 0.0, 0.0, 0.0, 0.0, 0.0, 0.0, 0.0, 0.0, 0.0, 0.0, 0.0, 0.0, 0.0, 0.0], [0.10520478338003159, 0.8947951793670654, 0.0, 0.0, 0.0, 0.0, 0.0, 0.0, 0.0, 0.0, 0.0, 0.0, 0.0, 0.0, 0.0, 0.0, 0.0, 0.0, 0.0, 0.0, 0.0, 0.0, 0.0, 0.0, 0.0, 0.0, 0.0, 0.0, 0.0, 0.0, 0.0, 0.0, 0.0], [0.039072006940841675, 0.0020172197837382555, 0.9589107632637024, 0.0, 0.0, 0.0, 0.0, 0.0, 0.0, 0.0, 0.0, 0.0, 0.0, 0.0, 0.0, 0.0, 0.0, 0.0, 0.0, 0.0, 0.0, 0.0, 0.0, 0.0, 0.0, 0.0, 0.0, 0.0, 0.0, 0.0, 0.0, 0.0, 0.0], [0.015578617341816425, 0.0008392537129111588, 0.0006979755125939846, 0.9828841090202332, 0.0, 0.0, 0.0, 0.0, 0.0, 0.0, 0.0, 0.0, 0.0, 0.0, 0.0, 0.0, 0.0, 0.0, 0.0, 0.0, 0.0, 0.0, 0.0, 0.0, 0.0, 0.0, 0.0, 0.0, 0.0, 0.0, 0.0, 0.0, 0.0], [0.00885645393282175, 9.934268746292219e-06, 1.1174811334058177e-05, 0.00030246941605582833, 0.9908198714256287, 0.0, 0.0, 0.0, 0.0, 0.0, 0.0, 0.0, 0.0, 0.0, 0.0, 0.0, 0.0, 0.0, 0.0, 0.0, 0.0, 0.0, 0.0, 0.0, 0.0, 0.0, 0.0, 0.0, 0.0, 0.0, 0.0, 0.0, 0.0], [0.35445013642311096, 0.030589288100600243, 0.059889595955610275, 0.02290351875126362, 0.04747588932514191, 0.4846915900707245, 0.0, 0.0, 0.0, 0.0, 0.0, 0.0, 0.0, 0.0, 0.0, 0.0, 0.0, 0.0, 0.0, 0.0, 0.0, 0.0, 0.0, 0.0, 0.0, 0.0, 0.0, 0.0, 0.0, 0.0, 0.0, 0.0, 0.0], [0.04476909711956978, 0.0015664706006646156, 0.00037738564424216747, 0.00025073319557122886, 0.00040889790398068726, 0.0002606568450573832, 0.952366828918457, 0.0, 0.0, 0.0, 0.0, 0.0, 0.0, 0.0, 0.0, 0.0, 0.0, 0.0, 0.0, 0.0, 0.0, 0.0, 0.0, 0.0, 0.0, 0.0, 0.0, 0.0, 0.0, 0.0, 0.0, 0.0, 0.0], [0.09058350324630737, 0.001147075672633946, 0.006027346942573786, 0.0005468474118970335, 0.0017094224458560348, 0.0037850849330425262, 0.0026845429092645645, 0.8935161232948303, 0.0, 0.0, 0.0, 0.0, 0.0, 0.0, 0.0, 0.0, 0.0, 0.0, 0.0, 0.0, 0.0, 0.0, 0.0, 0.0, 0.0, 0.0, 0.0, 0.0, 0.0, 0.0, 0.0, 0.0, 0.0], [0.006010745652019978, 2.4289116481668316e-05, 0.00031266806763596833, 1.8682971131056547e-05, 0.0002979248820338398, 9.904544640448876e-06, 6.619561190746026e-06, 7.91221395957109e-07, 0.9933184385299683, 0.0, 0.0, 0.0, 0.0, 0.0, 0.0, 0.0, 0.0, 0.0, 0.0, 0.0, 0.0, 0.0, 0.0, 0.0, 0.0, 0.0, 0.0, 0.0, 0.0, 0.0, 0.0, 0.0, 0.0], [0.004546821117401123, 0.00020019400108139962, 0.00029920274391770363, 0.0013363964390009642, 0.0003267661377321929, 8.741382657717622e-07, 1.741573760227766e-05, 2.7834195748255297e-07, 0.0002966530155390501, 0.9929754734039307, 0.0, 0.0, 0.0, 0.0, 0.0, 0.0, 0.0, 0.0, 0.0, 0.0, 0.0, 0.0, 0.0, 0.0, 0.0, 0.0, 0.0, 0.0, 0.0, 0.0, 0.0, 0.0, 0.0], [0.12262566387653351, 0.023926572874188423, 0.03827650472521782, 0.016171956434845924, 0.03036622889339924, 0.2937593162059784, 0.10661350190639496, 0.0705995261669159, 0.041900068521499634, 0.017833087593317032, 0.2379276156425476, 0.0, 0.0, 0.0, 0.0, 0.0, 0.0, 0.0, 0.0, 0.0, 0.0, 0.0, 0.0, 0.0, 0.0, 0.0, 0.0, 0.0, 0.0, 0.0, 0.0, 0.0, 0.0], [0.0008121050195768476, 0.00011546649329829961, 0.00013500881323125213, 5.5392822105204687e-05, 0.0001317413116339594, 1.002717681330978e-06, 1.3799076441500802e-06, 1.6001582991975738e-07, 1.8972953057527775e-06, 5.419655622063146e-07, 4.753087523567956e-07, 0.9987448453903198, 0.0, 0.0, 0.0, 0.0, 0.0, 0.0, 0.0, 0.0, 0.0, 0.0, 0.0, 0.0, 0.0, 0.0, 0.0, 0.0, 0.0, 0.0, 0.0, 0.0, 0.0], [0.0013333044480532408, 0.00010533048771321774, 0.0007669609622098505, 0.0009021887090057135, 3.5708358154806774e-06, 8.120482561935205e-07, 1.403809051225835e-07, 9.56129397877703e-08, 1.6865054703885107e-06, 2.9789038308081217e-05, 4.381340659165289e-07, 1.196580001305847e-06, 0.9968544840812683, 0.0, 0.0, 0.0, 0.0, 0.0, 0.0, 0.0, 0.0, 0.0, 0.0, 0.0, 0.0, 0.0, 0.0, 0.0, 0.0, 0.0, 0.0, 0.0, 0.0], [0.08159801363945007, 0.021388864144682884, 0.02887715771794319, 0.012675794772803783, 0.024931587278842926, 0.229964941740036, 0.10401228815317154, 0.0647209882736206, 0.03460092470049858, 0.015198715031147003, 0.1856415718793869, 0.020528052002191544, 0.0050038499757647514, 0.17085719108581543, 0.0, 0.0, 0.0, 0.0, 0.0, 0.0, 0.0, 0.0, 0.0, 0.0, 0.0, 0.0, 0.0, 0.0, 0.0, 0.0, 0.0, 0.0, 0.0], [0.0013488869881257415, 8.921203698264435e-05, 0.000685996375977993, 0.0006963227060623467, 2.1248662960715592e-05, 3.7633941474268795e-07, 6.226744062587386e-07, 4.307220820010116e-07, 7.091880888765445e-06, 0.0013103695819154382, 1.6113767742353957e-07, 9.548754178467789e-07, 0.00016453591524623334, 1.1531948018728144e-07, 0.9956737160682678, 0.0, 0.0, 0.0, 0.0, 0.0, 0.0, 0.0, 0.0, 0.0, 0.0, 0.0, 0.0, 0.0, 0.0, 0.0, 0.0, 0.0, 0.0], [0.0010867469245567918, 0.00040724806603975594, 0.00010700291022658348, 0.000678270123898983, 0.0001102845199056901, 1.3184225622353551e-07, 2.660260918219137e-07, 4.6195592062758806e-07, 8.409698239120189e-06, 0.0007784857298247516, 5.1094300346221644e-08, 8.792061976237164e-07, 4.934280877932906e-05, 3.48930981886042e-08, 0.00011441165406722575, 0.9966580867767334, 0.0, 0.0, 0.0, 0.0, 0.0, 0.0, 0.0, 0.0, 0.0, 0.0, 0.0, 0.0, 0.0, 0.0, 0.0, 0.0, 0.0], [0.058680858463048935, 0.018785743042826653, 0.02406730130314827, 0.011013144627213478, 0.02145637758076191, 0.1911056488752365, 0.09902723133563995, 0.06065867841243744, 0.03016272746026516, 0.01480190735310316, 0.15370334684848785, 0.016615163534879684, 0.004385381005704403, 0.14085334539413452, 0.015014993958175182, 0.005390204954892397, 0.13427798449993134, 0.0, 0.0, 0.0, 0.0, 0.0, 0.0, 0.0, 0.0, 0.0, 0.0, 0.0, 0.0, 0.0, 0.0, 0.0, 0.0], [0.07323043793439865, 0.02837458811700344, 0.021058259531855583, 0.007611880078911781, 0.010053581558167934, 0.06553947925567627, 0.14559772610664368, 0.08620847016572952, 0.010241265408694744, 0.0074257394298911095, 0.04526268690824509, 0.006621458567678928, 0.0011621775338426232, 0.039238546043634415, 0.008256876841187477, 0.003065688768401742, 0.0361226424574852, 0.40492844581604004, 0.0, 0.0, 0.0, 0.0, 0.0, 0.0, 0.0, 0.0, 0.0, 0.0, 0.0, 0.0, 0.0, 0.0, 0.0], [7.944516255520284e-05, 1.8382177131570643e-06, 3.713446616870897e-08, 1.5575307770632207e-05, 3.4723857424978632e-06, 1.3165122325631273e-09, 2.703876234022573e-08, 1.7186685852266237e-08, 9.232280007154259e-08, 1.3506391951523256e-05, 4.4787887287789374e-10, 2.0416770496467507e-09, 5.5420287026208825e-08, 3.0638666603799436e-10, 4.2177236991847167e-07, 7.065881163725862e-06, 2.4244439789100625e-10, 1.4397385506015326e-09, 0.9998784065246582, 0.0, 0.0, 0.0, 0.0, 0.0, 0.0, 0.0, 0.0, 0.0, 0.0, 0.0, 0.0, 0.0, 0.0], [0.0029344926588237286, 0.0005883846897631884, 0.00425031129270792, 0.004028462339192629, 0.0001159294624812901, 4.33162222179817e-06, 6.7739006226474885e-06, 7.076461770338938e-05, 0.00024952678359113634, 0.00031593357562087476, 2.0824400053243153e-06, 4.4092172174714506e-05, 0.0003044696641154587, 1.470257643632067e-06, 0.00019761343719437718, 0.0013599263038486242, 1.2478652706704452e-06, 6.875188773847185e-06, 0.0001926111290231347, 0.9853248000144958, 0.0, 0.0, 0.0, 0.0, 0.0, 0.0, 0.0, 0.0, 0.0, 0.0, 0.0, 0.0, 0.0], [0.04056532308459282, 0.017898326739668846, 0.020600976422429085, 0.00982110109180212, 0.01788281463086605, 0.15653996169567108, 0.09208230674266815, 0.05628827586770058, 0.02666134014725685, 0.014471277594566345, 0.12537626922130585, 0.013986769132316113, 0.003927926532924175, 0.11453615128993988, 0.013395370915532112, 0.0048466632142663, 0.10880250483751297, 0.04953397065401077, 0.005186408292502165, 0.0044208732433617115, 0.10317536443471909, 0.0, 0.0, 0.0, 0.0, 0.0, 0.0, 0.0, 0.0, 0.0, 0.0, 0.0, 0.0], [0.02453642338514328, 0.0031243418343365192, 0.0009699318907223642, 4.6315548388520256e-05, 0.000134348010760732, 0.0006453952519223094, 0.011668861843645573, 0.00032713526161387563, 0.0004573051701299846, 2.3976139345904812e-05, 0.00034454232081770897, 4.996437201043591e-05, 2.5757426556083374e-05, 0.00028217825456522405, 6.525329354190035e-06, 4.981822712579742e-06, 0.00023554042854811996, 0.0002664515923243016, 2.531117388571147e-05, 2.9761171390418895e-05, 0.00018809281755238771, 0.9566067457199097, 0.0, 0.0, 0.0, 0.0, 0.0, 0.0, 0.0, 0.0, 0.0, 0.0, 0.0], [0.0020759981125593185, 0.00014591787476092577, 5.289893306326121e-05, 4.2180698073934764e-05, 4.73871041322127e-05, 4.142327441059024e-07, 0.00012964288180228323, 2.4250999558717012e-05, 1.803400891731144e-06, 1.4839254163234727e-06, 1.4489967270492343e-07, 4.199928753223503e-06, 4.106833273453958e-08, 1.0260482241619684e-07, 8.285441026600893e-07, 5.781897698398097e-07, 7.695144432773304e-08, 6.669596785968679e-08, 6.472609675256535e-05, 1.5700887843195233e-06, 5.641820166601974e-08, 4.403028015076416e-06, 0.9974013566970825, 0.0, 0.0, 0.0, 0.0, 0.0, 0.0, 0.0, 0.0, 0.0, 0.0], [0.0005159124848432839, 0.00011814665049314499, 3.270570596214384e-05, 0.00021188781829550862, 4.563537731883116e-05, 2.9248951705085346e-07, 3.0579512895201333e-06, 7.607390273278725e-08, 0.00013753709208685905, 0.0005283550708554685, 1.1576057801221395e-07, 4.028596322314115e-06, 2.0793006569874706e-06, 8.805442064385716e-08, 0.00010051696881419048, 4.431631896295585e-05, 6.96373803066308e-08, 9.3730577077622e-08, 3.3377782528987154e-05, 1.5888932466623373e-05, 5.61069697369021e-08, 7.052668138385343e-08, 9.389314072905108e-06, 0.9981963038444519, 0.0, 0.0, 0.0, 0.0, 0.0, 0.0, 0.0, 0.0, 0.0], [0.06915226578712463, 0.014032110571861267, 0.005599099211394787, 0.001257685711607337, 0.0008468003943562508, 0.009601176716387272, 0.008965776301920414, 0.05247696489095688, 0.00025028386153280735, 0.0009063855977728963, 0.0054199048317968845, 0.0007309213979169726, 0.0001918793423101306, 0.004396581556648016, 0.005964712705463171, 0.0003558542230166495, 0.003877016482874751, 0.009727219119668007, 0.001102349255234003, 0.0003644291136879474, 0.003413958242163062, 0.0030523547902703285, 0.005698249209672213, 0.00029557320522144437, 0.7923203706741333, 0.0, 0.0, 0.0, 0.0, 0.0, 0.0, 0.0, 0.0], [0.0010461547644808888, 1.9557177438400686e-05, 1.7358943296130747e-06, 3.103043491137214e-05, 2.7307931304676458e-05, 1.0180679410609628e-08, 4.815763077203883e-07, 1.7494214432645094e-07, 7.312396377301411e-08, 7.983060754668259e-07, 3.4643037327697357e-09, 4.9067134568758775e-06, 1.0718913046048328e-07, 2.352543937433893e-09, 2.3834030571379117e-07, 1.3731321359955473e-06, 1.8288600633908914e-09, 6.247609984910696e-09, 9.208320989273489e-06, 1.6384241234845831e-06, 1.2523876380399201e-09, 8.271258122860559e-10, 8.45677095639985e-06, 3.118676431768108e-06, 9.241404086424154e-09, 0.9988435506820679, 0.0, 0.0, 0.0, 0.0, 0.0, 0.0, 0.0], [0.0010544918477535248, 0.00021373212803155184, 0.00028157164342701435, 0.0011373355519026518, 0.00014783910592086613, 2.0068473531864583e-06, 4.831345904676709e-06, 3.4823281112039695e-06, 5.100334874441614e-06, 0.00012420448183547705, 9.301492127633537e-07, 1.058260204445105e-05, 1.1688251106534153e-05, 7.077497912177932e-07, 0.0034115903545171022, 0.00019905237422790378, 5.995600531605305e-07, 4.643032411877357e-07, 1.958506072696764e-05, 0.0001108774813474156, 4.7500441269221483e-07, 3.280878217992722e-07, 4.53534084954299e-06, 5.161703666090034e-05, 3.2474670774718106e-07, 1.3071333341940772e-05, 0.9931888580322266, 0.0, 0.0, 0.0, 0.0, 0.0, 0.0], [0.024200791493058205, 0.002820132300257683, 0.004319304600358009, 0.0009108308586291969, 0.0017753957072272897, 0.003809919347986579, 0.0029533260967582464, 0.016714803874492645, 0.0013931752182543278, 0.005003184545785189, 0.002276090905070305, 0.0005876418435946107, 0.0009901630692183971, 0.001806695363484323, 0.0031312413047999144, 0.00023389386478811502, 0.001608272548764944, 0.009910304099321365, 0.0028539549093693495, 0.0002049516187980771, 0.0013712662039324641, 0.006919007748365402, 0.0010336586274206638, 0.0001452840951969847, 0.01748979650437832, 0.00046553154243156314, 0.00030240858905017376, 0.8847689628601074, 0.0, 0.0, 0.0, 0.0, 0.0], [0.0005256077274680138, 3.528643219397054e-06, 1.7037648376572179e-06, 9.408158803125843e-05, 0.6647974252700806, 1.6531456026314117e-07, 9.511092002867372e-07, 8.886863724910654e-07, 1.7016660422086716e-05, 3.742178523680195e-05, 6.832251386867938e-08, 9.810877600102685e-06, 7.548720759587013e-08, 4.963250077594239e-08, 2.039384526142385e-06, 7.686528988415375e-06, 4.066842507199908e-08, 2.6744256587107884e-08, 3.3431744668632746e-05, 4.341069086422067e-07, 3.007981774771906e-08, 3.2060558652347027e-08, 4.9005689106706996e-06, 3.0609355690103257e-06, 1.4603164011361969e-08, 2.214549203927163e-05, 9.211150427290704e-06, 3.1642709785728584e-08, 0.3344281315803528, 0.0, 0.0, 0.0, 0.0], [0.004676995798945427, 0.00028021298930980265, 8.346086542587727e-05, 3.157009587084758e-06, 4.065339282988134e-07, 1.3343489513317763e-07, 2.6423513190820813e-05, 1.1439967551041264e-07, 2.7872297891917697e-07, 3.749599272850901e-06, 4.652889273870642e-08, 1.7213951650774106e-06, 1.8165567894357082e-07, 3.148470284486393e-08, 1.8334196738578612e-07, 5.2147374418609616e-08, 2.5215761922936508e-08, 3.078435284464831e-08, 7.142016045236232e-08, 1.6640111510923816e-08, 1.7768190474498624e-08, 8.634509640614851e-08, 2.800961965476745e-06, 8.454128419543849e-07, 3.0983517973481867e-08, 2.927860691670503e-07, 5.676212140315329e-07, 5.055422303001933e-09, 2.914092434025406e-08, 0.9949181079864502, 0.0, 0.0, 0.0], [5.636797868646681e-05, 0.00020023711840622127, 1.6319095266226213e-06, 1.5089314047145308e-06, 1.7779768313630484e-05, 5.956430348952324e-10, 6.940369075891795e-06, 5.034010541749012e-09, 2.1682872386463714e-07, 1.7164273913294892e-06, 1.9326229505622905e-10, 1.8911425314627195e-08, 9.538840117784275e-08, 1.2946883842790413e-10, 8.07715050399338e-09, 4.3866159103345126e-05, 9.768683778554887e-11, 5.256079460558283e-10, 6.93216934450902e-05, 7.505880716962565e-08, 7.069304863716042e-11, 3.988046870517792e-08, 1.0610286153678317e-05, 2.2120707399153616e-06, 8.688617603169746e-10, 9.928477084031329e-06, 5.390084822920471e-09, 1.1354458345769203e-10, 3.060040626223781e-06, 3.894562325967854e-07, 0.9995738863945007, 0.0, 0.0], [0.0003556980809662491, 1.9489494661684148e-05, 9.160984518530313e-06, 1.308527589571895e-05, 2.3808943296899088e-05, 2.971901658099796e-08, 4.160602475167252e-05, 1.775652407332018e-07, 6.896254944877e-07, 1.0506249736863538e-06, 1.2230788826173011e-08, 4.290551714802859e-06, 3.2958334372779063e-07, 9.211106544171344e-09, 1.7466412600697367e-06, 4.682798589783488e-06, 7.4427393137455056e-09, 9.673836842694072e-09, 3.966513759223744e-05, 7.324898660954204e-07, 5.543711711908372e-09, 1.0396725258488004e-07, 1.4401616681425367e-05, 8.873356819094624e-06, 5.989427620534116e-09, 1.562782927067019e-05, 2.9811244530719705e-06, 6.8743553072181385e-09, 4.854669441556325e-06, 7.072278549458133e-06, 6.210697392816655e-06, 0.999423623085022, 0.0], [0.054552704095840454, 0.01642906479537487, 0.016008339822292328, 0.006986879277974367, 0.024884160608053207, 0.07376931607723236, 0.07933788746595383, 0.055945541709661484, 0.027268217876553535, 0.013368786312639713, 0.05590307340025902, 0.007223027292639017, 0.0054265777580440044, 0.05012327805161476, 0.008279063738882542, 0.0030609641689807177, 0.04682295769453049, 0.04751848056912422, 0.0028449445962905884, 0.007037977688014507, 0.04282715916633606, 0.05138189718127251, 0.027282392606139183, 0.02637534588575363, 0.02615921013057232, 0.011997985653579235, 0.006220120470970869, 0.036487795412540436, 0.011124703101813793, 0.005218563135713339, 0.0025592013262212276, 0.0026040312368422747, 0.14697043597698212]], [[1.0, 0.0, 0.0, 0.0, 0.0, 0.0, 0.0, 0.0, 0.0, 0.0, 0.0, 0.0, 0.0, 0.0, 0.0, 0.0, 0.0, 0.0, 0.0, 0.0, 0.0, 0.0, 0.0, 0.0, 0.0, 0.0, 0.0, 0.0, 0.0, 0.0, 0.0, 0.0, 0.0], [0.9192656874656677, 0.08073429763317108, 0.0, 0.0, 0.0, 0.0, 0.0, 0.0, 0.0, 0.0, 0.0, 0.0, 0.0, 0.0, 0.0, 0.0, 0.0, 0.0, 0.0, 0.0, 0.0, 0.0, 0.0, 0.0, 0.0, 0.0, 0.0, 0.0, 0.0, 0.0, 0.0, 0.0, 0.0], [0.454373836517334, 0.4265042543411255, 0.11912187188863754, 0.0, 0.0, 0.0, 0.0, 0.0, 0.0, 0.0, 0.0, 0.0, 0.0, 0.0, 0.0, 0.0, 0.0, 0.0, 0.0, 0.0, 0.0, 0.0, 0.0, 0.0, 0.0, 0.0, 0.0, 0.0, 0.0, 0.0, 0.0, 0.0, 0.0], [0.5267519950866699, 0.22321633994579315, 0.1242063120007515, 0.12582530081272125, 0.0, 0.0, 0.0, 0.0, 0.0, 0.0, 0.0, 0.0, 0.0, 0.0, 0.0, 0.0, 0.0, 0.0, 0.0, 0.0, 0.0, 0.0, 0.0, 0.0, 0.0, 0.0, 0.0, 0.0, 0.0, 0.0, 0.0, 0.0, 0.0], [0.39034879207611084, 0.17099407315254211, 0.06872709840536118, 0.1837182641029358, 0.18621177971363068, 0.0, 0.0, 0.0, 0.0, 0.0, 0.0, 0.0, 0.0, 0.0, 0.0, 0.0, 0.0, 0.0, 0.0, 0.0, 0.0, 0.0, 0.0, 0.0, 0.0, 0.0, 0.0, 0.0, 0.0, 0.0, 0.0, 0.0, 0.0], [0.19744226336479187, 0.25436848402023315, 0.14488452672958374, 0.18925853073596954, 0.20821940898895264, 0.005826790351420641, 0.0, 0.0, 0.0, 0.0, 0.0, 0.0, 0.0, 0.0, 0.0, 0.0, 0.0, 0.0, 0.0, 0.0, 0.0, 0.0, 0.0, 0.0, 0.0, 0.0, 0.0, 0.0, 0.0, 0.0, 0.0, 0.0, 0.0], [0.19473569095134735, 0.13241827487945557, 0.14391930401325226, 0.15120738744735718, 0.3002447485923767, 0.020584629848599434, 0.05688998103141785, 0.0, 0.0, 0.0, 0.0, 0.0, 0.0, 0.0, 0.0, 0.0, 0.0, 0.0, 0.0, 0.0, 0.0, 0.0, 0.0, 0.0, 0.0, 0.0, 0.0, 0.0, 0.0, 0.0, 0.0, 0.0, 0.0], [0.126966655254364, 0.21597377955913544, 0.1608932465314865, 0.1969882994890213, 0.1884462684392929, 0.013544929213821888, 0.07520708441734314, 0.02197970263659954, 0.0, 0.0, 0.0, 0.0, 0.0, 0.0, 0.0, 0.0, 0.0, 0.0, 0.0, 0.0, 0.0, 0.0, 0.0, 0.0, 0.0, 0.0, 0.0, 0.0, 0.0, 0.0, 0.0, 0.0, 0.0], [0.2912122309207916, 0.05954226851463318, 0.1107940599322319, 0.09717852622270584, 0.22345612943172455, 0.016262583434581757, 0.08719441294670105, 0.024762263521552086, 0.0895974263548851, 0.0, 0.0, 0.0, 0.0, 0.0, 0.0, 0.0, 0.0, 0.0, 0.0, 0.0, 0.0, 0.0, 0.0, 0.0, 0.0, 0.0, 0.0, 0.0, 0.0, 0.0, 0.0, 0.0, 0.0], [0.2298194319009781, 0.03802674263715744, 0.160138338804245, 0.11780407279729843, 0.1618119180202484, 0.035528186708688736, 0.07561112195253372, 0.020756034180521965, 0.10670629143714905, 0.05379774793982506, 0.0, 0.0, 0.0, 0.0, 0.0, 0.0, 0.0, 0.0, 0.0, 0.0, 0.0, 0.0, 0.0, 0.0, 0.0, 0.0, 0.0, 0.0, 0.0, 0.0, 0.0, 0.0, 0.0], [0.13314424455165863, 0.18858645856380463, 0.10808097571134567, 0.15994974970817566, 0.17739209532737732, 0.003598014824092388, 0.025062087923288345, 0.012862932868301868, 0.07453099638223648, 0.11275245994329453, 0.004039982333779335, 0.0, 0.0, 0.0, 0.0, 0.0, 0.0, 0.0, 0.0, 0.0, 0.0, 0.0, 0.0, 0.0, 0.0, 0.0, 0.0, 0.0, 0.0, 0.0, 0.0, 0.0, 0.0], [0.1674640029668808, 0.1435522884130478, 0.061185695230960846, 0.17358075082302094, 0.10113831609487534, 0.01755347289144993, 0.03239530324935913, 0.007995500229299068, 0.05453447252511978, 0.07883201539516449, 0.01725822128355503, 0.14451001584529877, 0.0, 0.0, 0.0, 0.0, 0.0, 0.0, 0.0, 0.0, 0.0, 0.0, 0.0, 0.0, 0.0, 0.0, 0.0, 0.0, 0.0, 0.0, 0.0, 0.0, 0.0], [0.2699682116508484, 0.13029062747955322, 0.06605684012174606, 0.061561428010463715, 0.08437132835388184, 0.019846616312861443, 0.01631278172135353, 0.012965922243893147, 0.03231463208794594, 0.05254795029759407, 0.01986861228942871, 0.1369563788175583, 0.0969386175274849, 0.0, 0.0, 0.0, 0.0, 0.0, 0.0, 0.0, 0.0, 0.0, 0.0, 0.0, 0.0, 0.0, 0.0, 0.0, 0.0, 0.0, 0.0, 0.0, 0.0], [0.09820353239774704, 0.13618646562099457, 0.08005780726671219, 0.12152862548828125, 0.1357937455177307, 0.0024323577526956797, 0.01778949424624443, 0.009086493402719498, 0.05637528374791145, 0.08521636575460434, 0.0027533378452062607, 0.15203779935836792, 0.09946724027395248, 0.003071402432397008, 0.0, 0.0, 0.0, 0.0, 0.0, 0.0, 0.0, 0.0, 0.0, 0.0, 0.0, 0.0, 0.0, 0.0, 0.0, 0.0, 0.0, 0.0, 0.0], [0.1701289564371109, 0.08885716646909714, 0.0908968597650528, 0.08085790276527405, 0.11427341401576996, 0.01090148650109768, 0.014788414351642132, 0.005497368983924389, 0.05151256546378136, 0.05330684408545494, 0.01059581246227026, 0.09442279487848282, 0.13098113238811493, 0.011153683066368103, 0.07182560116052628, 0.0, 0.0, 0.0, 0.0, 0.0, 0.0, 0.0, 0.0, 0.0, 0.0, 0.0, 0.0, 0.0, 0.0, 0.0, 0.0, 0.0, 0.0], [0.1036585196852684, 0.03588540852069855, 0.08803568035364151, 0.06087937578558922, 0.08348329365253448, 0.03080575540661812, 0.029615923762321472, 0.010918698273599148, 0.040499940514564514, 0.042886074632406235, 0.03219296410679817, 0.15008129179477692, 0.12658770382404327, 0.0349021777510643, 0.05825434625148773, 0.0713128075003624, 0.0, 0.0, 0.0, 0.0, 0.0, 0.0, 0.0, 0.0, 0.0, 0.0, 0.0, 0.0, 0.0, 0.0, 0.0, 0.0, 0.0], [0.07047092169523239, 0.09600996971130371, 0.05621572956442833, 0.08699892461299896, 0.0993412658572197, 0.0016298795817419887, 0.012408615089952946, 0.006380435544997454, 0.04101407155394554, 0.06348714977502823, 0.0018482195446267724, 0.11387646198272705, 0.07328977435827255, 0.0020712921395897865, 0.07246169447898865, 0.20012781023979187, 0.0023677763529121876, 0.0, 0.0, 0.0, 0.0, 0.0, 0.0, 0.0, 0.0, 0.0, 0.0, 0.0, 0.0, 0.0, 0.0, 0.0, 0.0], [0.05659444257616997, 0.08906208723783493, 0.04703238978981972, 0.09457875043153763, 0.08793895691633224, 0.0019721670541912317, 0.01776767708361149, 0.0059904376976192, 0.06014859676361084, 0.08834964781999588, 0.0022637664806097746, 0.1046152114868164, 0.060793694108724594, 0.002556623425334692, 0.0781862810254097, 0.19496025145053864, 0.0029299897141754627, 0.004259058274328709, 0.0, 0.0, 0.0, 0.0, 0.0, 0.0, 0.0, 0.0, 0.0, 0.0, 0.0, 0.0, 0.0, 0.0, 0.0], [0.1597062349319458, 0.026096448302268982, 0.045151788741350174, 0.0349758118391037, 0.0803067535161972, 0.054690368473529816, 0.040785450488328934, 0.026513027027249336, 0.027251919731497765, 0.039198171347379684, 0.05351432412862778, 0.0484292171895504, 0.0626426488161087, 0.055582091212272644, 0.055596642196178436, 0.047929584980010986, 0.05676325410604477, 0.048922985792160034, 0.03594321385025978, 0.0, 0.0, 0.0, 0.0, 0.0, 0.0, 0.0, 0.0, 0.0, 0.0, 0.0, 0.0, 0.0, 0.0], [0.0866311714053154, 0.09557435661554337, 0.03673810511827469, 0.06946709007024765, 0.05681459605693817, 0.0081902164965868, 0.02219584584236145, 0.007642826531082392, 0.03146827593445778, 0.0755520612001419, 0.008965262211859226, 0.05263477563858032, 0.04491105303168297, 0.009935060515999794, 0.04481380432844162, 0.15198470652103424, 0.010933401063084602, 0.007993682287633419, 0.16402564942836761, 0.013528088107705116, 0.0, 0.0, 0.0, 0.0, 0.0, 0.0, 0.0, 0.0, 0.0, 0.0, 0.0, 0.0, 0.0], [0.04783453792333603, 0.06669352948665619, 0.03798919543623924, 0.060403693467378616, 0.06899042427539825, 0.0010267298202961683, 0.008172677829861641, 0.004158168565481901, 0.02826828509569168, 0.044072434306144714, 0.0011586484033614397, 0.07832913100719452, 0.05082900449633598, 0.001300497562624514, 0.04904298856854439, 0.14145003259181976, 0.001493433490395546, 0.002556686755269766, 0.17534080147743225, 0.12910205125808716, 0.001787054818123579, 0.0, 0.0, 0.0, 0.0, 0.0, 0.0, 0.0, 0.0, 0.0, 0.0, 0.0, 0.0], [0.04114089533686638, 0.04766075685620308, 0.035869989544153214, 0.0666610598564148, 0.07969272881746292, 0.0023650771472603083, 0.020340191200375557, 0.004854493774473667, 0.06436207890510559, 0.06737154722213745, 0.002707367530092597, 0.05596053600311279, 0.05648665502667427, 0.00307672587223351, 0.053543880581855774, 0.15165922045707703, 0.0035397144965827465, 0.004673927556723356, 0.16402718424797058, 0.05968153476715088, 0.004154942464083433, 0.010169519111514091, 0.0, 0.0, 0.0, 0.0, 0.0, 0.0, 0.0, 0.0, 0.0, 0.0, 0.0], [0.0662880688905716, 0.04092540964484215, 0.0273226797580719, 0.04505368694663048, 0.06575218588113785, 0.015657570213079453, 0.02788187935948372, 0.013711252249777317, 0.03174295276403427, 0.05280746519565582, 0.015447774901986122, 0.03218112140893936, 0.03290105238556862, 0.016298864036798477, 0.026636634021997452, 0.09772845357656479, 0.017114199697971344, 0.01691945642232895, 0.09847069531679153, 0.047879066318273544, 0.018412543460726738, 0.015331598930060863, 0.17753535509109497, 0.0, 0.0, 0.0, 0.0, 0.0, 0.0, 0.0, 0.0, 0.0, 0.0], [0.09801428765058517, 0.026328811421990395, 0.03586813434958458, 0.057130612432956696, 0.06943874806165695, 0.012128965929150581, 0.020909085869789124, 0.008747956715524197, 0.026999665424227715, 0.03726676478981972, 0.01171634066849947, 0.08499537408351898, 0.055013351142406464, 0.012196713127195835, 0.03563911095261574, 0.08789660036563873, 0.012970100156962872, 0.010851016268134117, 0.06408390402793884, 0.059639185667037964, 0.014492177404463291, 0.0060937367379665375, 0.09761438518762589, 0.05396498367190361, 0.0, 0.0, 0.0, 0.0, 0.0, 0.0, 0.0, 0.0, 0.0], [0.02769324742257595, 0.040737707167863846, 0.031223533675074577, 0.05879038944840431, 0.05601825192570686, 0.0015714784385636449, 0.011908035725355148, 0.0033397930674254894, 0.051765523850917816, 0.05291246622800827, 0.0018259823555126786, 0.06030036509037018, 0.02835717983543873, 0.0020878086797893047, 0.05086478218436241, 0.07898832857608795, 0.0023987051099538803, 0.002904825611039996, 0.11135733872652054, 0.0458601750433445, 0.002884919522330165, 0.011431250721216202, 0.12340552359819412, 0.13488483428955078, 0.006487557198852301, 0.0, 0.0, 0.0, 0.0, 0.0, 0.0, 0.0, 0.0], [0.1539076715707779, 0.02378678508102894, 0.05320247635245323, 0.03963884711265564, 0.057110607624053955, 0.01562894508242607, 0.02020607516169548, 0.009252367541193962, 0.02131185494363308, 0.029029959812760353, 0.014741911552846432, 0.06123838946223259, 0.10112594068050385, 0.015157823450863361, 0.04335403069853783, 0.04090718552470207, 0.01573266088962555, 0.0200734194368124, 0.053749341517686844, 0.034686170518398285, 0.01698938012123108, 0.006368501111865044, 0.04042015224695206, 0.031060418114066124, 0.013937166891992092, 0.06738189607858658, 0.0, 0.0, 0.0, 0.0, 0.0, 0.0, 0.0], [0.08555092662572861, 0.03505740314722061, 0.05885256826877594, 0.034979093819856644, 0.05178742855787277, 0.0025119909550994635, 0.004151215776801109, 0.0020859164651483297, 0.01408112421631813, 0.024491364136338234, 0.0023760031908750534, 0.0953511968255043, 0.07766133546829224, 0.0024908804334700108, 0.04572675749659538, 0.05774115025997162, 0.0026603781152516603, 0.0033477565739303827, 0.04799827188253403, 0.026788819581270218, 0.002958714496344328, 0.004655786324292421, 0.03607097640633583, 0.02159920148551464, 0.00478863250464201, 0.22052207589149475, 0.033713050186634064, 0.0, 0.0, 0.0, 0.0, 0.0, 0.0], [0.020706724375486374, 0.037194062024354935, 0.01972370594739914, 0.03894225135445595, 0.03182699903845787, 0.0012253696331754327, 0.008815756998956203, 0.0024052958469837904, 0.034579548984766006, 0.04729807749390602, 0.001395375351421535, 0.051482051610946655, 0.02048674412071705, 0.0015608376124873757, 0.03826117888092995, 0.048637546598911285, 0.001782529056072235, 0.0025446065701544285, 0.06541351228952408, 0.041885603219270706, 0.002096060663461685, 0.009401385672390461, 0.0846003070473671, 0.09019993990659714, 0.005403279326856136, 0.22932559251785278, 0.056922685354948044, 0.005882924422621727, 0.0, 0.0, 0.0, 0.0, 0.0], [0.08582808077335358, 0.03967174515128136, 0.014841809868812561, 0.05653620883822441, 0.0596061646938324, 0.006987516302615404, 0.0101100979372859, 0.0028877253644168377, 0.015322847291827202, 0.025928765535354614, 0.006830441299825907, 0.033548954874277115, 0.021093519404530525, 0.007213158067315817, 0.019323384389281273, 0.052982281893491745, 0.007658605929464102, 0.0051578436978161335, 0.0652318224310875, 0.018170012161135674, 0.008534704335033894, 0.00436816830188036, 0.026912420988082886, 0.04962797090411186, 0.004404330626130104, 0.1938866823911667, 0.03933223709464073, 0.005363550968468189, 0.11263900250196457, 0.0, 0.0, 0.0, 0.0], [0.07040347903966904, 0.059261616319417953, 0.015334843657910824, 0.024139031767845154, 0.015728848055005074, 0.019492102786898613, 0.017311522737145424, 0.017303064465522766, 0.020563241094350815, 0.045155834406614304, 0.021815847605466843, 0.07079730182886124, 0.030063960701227188, 0.023540612310171127, 0.020684486255049706, 0.02116367593407631, 0.026445114985108376, 0.023540053516626358, 0.05663726106286049, 0.033694785088300705, 0.030707305297255516, 0.015993354842066765, 0.015474076382815838, 0.030803648754954338, 0.03180558234453201, 0.07969608157873154, 0.034374866634607315, 0.03453716263175011, 0.030624372884631157, 0.0629068911075592, 0.0, 0.0, 0.0], [0.05338497832417488, 0.02962152101099491, 0.021030087023973465, 0.023695701733231544, 0.03343639522790909, 0.018393810838460922, 0.024060707539319992, 0.022810017690062523, 0.013972360640764236, 0.028813550248742104, 0.019059743732213974, 0.015371971763670444, 0.025335311889648438, 0.019971957430243492, 0.01407573651522398, 0.038844529539346695, 0.0213461983948946, 0.019321436062455177, 0.056326597929000854, 0.021360011771321297, 0.02339457906782627, 0.023136649280786514, 0.06416384875774384, 0.06724691390991211, 0.034695103764534, 0.043490201234817505, 0.030327241867780685, 0.032857153564691544, 0.05327510088682175, 0.0659981369972229, 0.041182488203048706, 0.0, 0.0], [0.18177089095115662, 0.019533146172761917, 0.02800293080508709, 0.029110202565789223, 0.04134831950068474, 0.018019486218690872, 0.010471731424331665, 0.008382906205952168, 0.015335793606936932, 0.021839454770088196, 0.016893336549401283, 0.038061387836933136, 0.036438655108213425, 0.017464270815253258, 0.02612907439470291, 0.04011504352092743, 0.018317200243473053, 0.012488218024373055, 0.051369719207286835, 0.01944383606314659, 0.019889764487743378, 0.003576456569135189, 0.02623295783996582, 0.01842919923365116, 0.01172374002635479, 0.0327298678457737, 0.0348082073032856, 0.012035046704113483, 0.060302939265966415, 0.007873310707509518, 0.042272936552762985, 0.07959000021219254, 0.0], [0.015003412030637264, 0.02033485472202301, 0.00781343225389719, 0.01655357889831066, 0.016466088593006134, 0.00023809666163288057, 0.001959894085302949, 0.0006898263818584383, 0.006483220495283604, 0.010734076611697674, 0.00024435287923552096, 0.014634678140282631, 0.009247622452676296, 0.000260591710684821, 0.009339921176433563, 0.04272658750414848, 0.0002886393340304494, 0.00038116745417937636, 0.05474935844540596, 0.0945277288556099, 0.0003421132278162986, 0.0017270215321332216, 0.04745934158563614, 0.026613807305693626, 0.0010238662362098694, 0.16537980735301971, 0.01418711245059967, 0.0013092365115880966, 0.04770653694868088, 0.011198497377336025, 0.2205076366662979, 0.1394260674715042, 0.0004418624739628285]], [[1.0, 0.0, 0.0, 0.0, 0.0, 0.0, 0.0, 0.0, 0.0, 0.0, 0.0, 0.0, 0.0, 0.0, 0.0, 0.0, 0.0, 0.0, 0.0, 0.0, 0.0, 0.0, 0.0, 0.0, 0.0, 0.0, 0.0, 0.0, 0.0, 0.0, 0.0, 0.0, 0.0], [0.9333657622337341, 0.06663422286510468, 0.0, 0.0, 0.0, 0.0, 0.0, 0.0, 0.0, 0.0, 0.0, 0.0, 0.0, 0.0, 0.0, 0.0, 0.0, 0.0, 0.0, 0.0, 0.0, 0.0, 0.0, 0.0, 0.0, 0.0, 0.0, 0.0, 0.0, 0.0, 0.0, 0.0, 0.0], [0.3245234191417694, 0.5923720598220825, 0.08310455083847046, 0.0, 0.0, 0.0, 0.0, 0.0, 0.0, 0.0, 0.0, 0.0, 0.0, 0.0, 0.0, 0.0, 0.0, 0.0, 0.0, 0.0, 0.0, 0.0, 0.0, 0.0, 0.0, 0.0, 0.0, 0.0, 0.0, 0.0, 0.0, 0.0, 0.0], [0.14159749448299408, 0.5143811702728271, 0.28144118189811707, 0.0625801533460617, 0.0, 0.0, 0.0, 0.0, 0.0, 0.0, 0.0, 0.0, 0.0, 0.0, 0.0, 0.0, 0.0, 0.0, 0.0, 0.0, 0.0, 0.0, 0.0, 0.0, 0.0, 0.0, 0.0, 0.0, 0.0, 0.0, 0.0, 0.0, 0.0], [0.2526228427886963, 0.058340735733509064, 0.10458870232105255, 0.4411159157752991, 0.14333190023899078, 0.0, 0.0, 0.0, 0.0, 0.0, 0.0, 0.0, 0.0, 0.0, 0.0, 0.0, 0.0, 0.0, 0.0, 0.0, 0.0, 0.0, 0.0, 0.0, 0.0, 0.0, 0.0, 0.0, 0.0, 0.0, 0.0, 0.0, 0.0], [0.18051569163799286, 0.09828915446996689, 0.10873943567276001, 0.12262703478336334, 0.09995540231466293, 0.3898732364177704, 0.0, 0.0, 0.0, 0.0, 0.0, 0.0, 0.0, 0.0, 0.0, 0.0, 0.0, 0.0, 0.0, 0.0, 0.0, 0.0, 0.0, 0.0, 0.0, 0.0, 0.0, 0.0, 0.0, 0.0, 0.0, 0.0, 0.0], [0.17192299664020538, 0.02332093007862568, 0.12332706898450851, 0.060765013098716736, 0.059717174619436264, 0.3475920259952545, 0.21335482597351074, 0.0, 0.0, 0.0, 0.0, 0.0, 0.0, 0.0, 0.0, 0.0, 0.0, 0.0, 0.0, 0.0, 0.0, 0.0, 0.0, 0.0, 0.0, 0.0, 0.0, 0.0, 0.0, 0.0, 0.0, 0.0, 0.0], [0.09627041220664978, 0.04683619737625122, 0.028257332742214203, 0.0323924794793129, 0.05865044519305229, 0.1582937091588974, 0.30996474623680115, 0.26933473348617554, 0.0, 0.0, 0.0, 0.0, 0.0, 0.0, 0.0, 0.0, 0.0, 0.0, 0.0, 0.0, 0.0, 0.0, 0.0, 0.0, 0.0, 0.0, 0.0, 0.0, 0.0, 0.0, 0.0, 0.0, 0.0], [0.09948238730430603, 0.06464188545942307, 0.028671862557530403, 0.07305682450532913, 0.029787207022309303, 0.13960030674934387, 0.20754705369472504, 0.2658020853996277, 0.09141042828559875, 0.0, 0.0, 0.0, 0.0, 0.0, 0.0, 0.0, 0.0, 0.0, 0.0, 0.0, 0.0, 0.0, 0.0, 0.0, 0.0, 0.0, 0.0, 0.0, 0.0, 0.0, 0.0, 0.0, 0.0], [0.056320417672395706, 0.029885895550251007, 0.013419928029179573, 0.0024075570981949568, 0.013245497830212116, 0.045645445585250854, 0.05522572621703148, 0.10027095675468445, 0.6579984426498413, 0.025580134242773056, 0.0, 0.0, 0.0, 0.0, 0.0, 0.0, 0.0, 0.0, 0.0, 0.0, 0.0, 0.0, 0.0, 0.0, 0.0, 0.0, 0.0, 0.0, 0.0, 0.0, 0.0, 0.0, 0.0], [0.04266994446516037, 0.010426483117043972, 0.01065219659358263, 0.013446652330458164, 0.009353154338896275, 0.040159717202186584, 0.07105176895856857, 0.13737663626670837, 0.10423256456851959, 0.2173663228750229, 0.3432645797729492, 0.0, 0.0, 0.0, 0.0, 0.0, 0.0, 0.0, 0.0, 0.0, 0.0, 0.0, 0.0, 0.0, 0.0, 0.0, 0.0, 0.0, 0.0, 0.0, 0.0, 0.0, 0.0], [0.02968389354646206, 0.0025616425555199385, 0.004407485015690327, 0.03424865007400513, 0.014238733798265457, 0.02800184302031994, 0.022288009524345398, 0.07105953246355057, 0.04026230424642563, 0.5543045997619629, 0.17333033680915833, 0.025612959638237953, 0.0, 0.0, 0.0, 0.0, 0.0, 0.0, 0.0, 0.0, 0.0, 0.0, 0.0, 0.0, 0.0, 0.0, 0.0, 0.0, 0.0, 0.0, 0.0, 0.0, 0.0], [0.04039591923356056, 0.00863158330321312, 0.005494215060025454, 0.003864139085635543, 0.02336309291422367, 0.027207015082240105, 0.025677330791950226, 0.05048520863056183, 0.05105607211589813, 0.05041785165667534, 0.14164339005947113, 0.5115285515785217, 0.060235656797885895, 0.0, 0.0, 0.0, 0.0, 0.0, 0.0, 0.0, 0.0, 0.0, 0.0, 0.0, 0.0, 0.0, 0.0, 0.0, 0.0, 0.0, 0.0, 0.0, 0.0], [0.028706375509500504, 0.004808465484529734, 0.00472364854067564, 0.005382602568715811, 0.0034560433123260736, 0.014470183290541172, 0.02403736673295498, 0.04162618890404701, 0.03567289188504219, 0.07060740888118744, 0.10830997675657272, 0.058116085827350616, 0.20621229708194733, 0.39387041330337524, 0.0, 0.0, 0.0, 0.0, 0.0, 0.0, 0.0, 0.0, 0.0, 0.0, 0.0, 0.0, 0.0, 0.0, 0.0, 0.0, 0.0, 0.0, 0.0], [0.05342653766274452, 0.011923311278223991, 0.015572256408631802, 0.00211232784204185, 0.005851042922586203, 0.022170957177877426, 0.03818467631936073, 0.027411574497818947, 0.05464283004403114, 0.04910830035805702, 0.12328372150659561, 0.052871689200401306, 0.07545659691095352, 0.3701529800891876, 0.09783118218183517, 0.0, 0.0, 0.0, 0.0, 0.0, 0.0, 0.0, 0.0, 0.0, 0.0, 0.0, 0.0, 0.0, 0.0, 0.0, 0.0, 0.0, 0.0], [0.008346722461283207, 0.00027852738276124, 0.0011786014074459672, 0.0021395504008978605, 0.0024761746171861887, 0.0029182920698076487, 0.004576905630528927, 0.003965598531067371, 0.004973024129867554, 0.011347781866788864, 0.01301407441496849, 0.005545973312109709, 0.020895598456263542, 0.038385432213544846, 0.8750315308570862, 0.004926198627799749, 0.0, 0.0, 0.0, 0.0, 0.0, 0.0, 0.0, 0.0, 0.0, 0.0, 0.0, 0.0, 0.0, 0.0, 0.0, 0.0, 0.0], [0.0217002984136343, 0.0026786646340042353, 0.0023839217610657215, 0.002815624698996544, 0.0015562322223559022, 0.0061394027434289455, 0.009039804339408875, 0.01374085433781147, 0.012412169948220253, 0.024686524644494057, 0.03406902775168419, 0.017561450600624084, 0.06082955747842789, 0.12004055082798004, 0.11516807228326797, 0.1266370415687561, 0.42854079604148865, 0.0, 0.0, 0.0, 0.0, 0.0, 0.0, 0.0, 0.0, 0.0, 0.0, 0.0, 0.0, 0.0, 0.0, 0.0, 0.0], [0.019681425765156746, 0.0028661906253546476, 0.0027528656646609306, 0.0023641979787498713, 0.0022205731365829706, 0.004776975139975548, 0.005015387665480375, 0.007020771037787199, 0.0066029978916049, 0.015824873000383377, 0.021779119968414307, 0.02237590402364731, 0.03905555605888367, 0.07342641055583954, 0.07227567583322525, 0.0810362920165062, 0.25563186407089233, 0.3652929663658142, 0.0, 0.0, 0.0, 0.0, 0.0, 0.0, 0.0, 0.0, 0.0, 0.0, 0.0, 0.0, 0.0, 0.0, 0.0], [0.03443864360451698, 0.002429508836939931, 0.0027038767002522945, 0.0010108936112374067, 0.00282124150544405, 0.009310657158493996, 0.007474066689610481, 0.010526387020945549, 0.019342590123414993, 0.006583395414054394, 0.030525265261530876, 0.008166543208062649, 0.023945657536387444, 0.08047980815172195, 0.04428933188319206, 0.048865076154470444, 0.2326631247997284, 0.38709738850593567, 0.047326456755399704, 0.0, 0.0, 0.0, 0.0, 0.0, 0.0, 0.0, 0.0, 0.0, 0.0, 0.0, 0.0, 0.0, 0.0], [0.003697676118463278, 0.006450952962040901, 0.000492171267978847, 0.0003069592930842191, 0.00012400750711094588, 0.0010727355256676674, 0.0008858788060024381, 0.001380635192617774, 0.0008200168376788497, 0.00027311863959766924, 0.002783056115731597, 0.03529421240091324, 0.0035613656509667635, 0.007148304022848606, 0.0016474067233502865, 0.016731655225157738, 0.019172798842191696, 0.022339224815368652, 0.8733668327331543, 0.0024509539362043142, 0.0, 0.0, 0.0, 0.0, 0.0, 0.0, 0.0, 0.0, 0.0, 0.0, 0.0, 0.0, 0.0], [0.013628793880343437, 0.0014384459936991334, 0.0012188644614070654, 0.001291586784645915, 0.00061180314514786, 0.0021400388795882463, 0.0027469589840620756, 0.0033360470551997423, 0.003091872204095125, 0.005988916847854853, 0.007237227633595467, 0.00354774366132915, 0.01289196964353323, 0.02222917042672634, 0.020824262872338295, 0.026295339688658714, 0.07648167759180069, 0.16261447966098785, 0.1263866275548935, 0.10034437477588654, 0.40565377473831177, 0.0, 0.0, 0.0, 0.0, 0.0, 0.0, 0.0, 0.0, 0.0, 0.0, 0.0, 0.0], [0.021432990208268166, 0.0007291653309948742, 0.0010889676632359624, 0.0008559624548070133, 0.0010556640336290002, 0.0023542484268546104, 0.0018633317667990923, 0.002486989600583911, 0.0040113660506904125, 0.0036456251982599497, 0.006636614445596933, 0.0024591642431914806, 0.00810664240270853, 0.01950136013329029, 0.013945503160357475, 0.016831614077091217, 0.06727854162454605, 0.10203750431537628, 0.07506179809570312, 0.037855114787817, 0.3474154472351074, 0.2633463740348816, 0.0, 0.0, 0.0, 0.0, 0.0, 0.0, 0.0, 0.0, 0.0, 0.0, 0.0], [0.01837441697716713, 0.0016340164002031088, 0.0002648656954988837, 0.000627709727268666, 0.0007212888449430466, 0.0022947140969336033, 0.001437576487660408, 0.0024335698690265417, 0.001022504293359816, 0.0021730989683419466, 0.005665972828865051, 0.0005857073119841516, 0.004730312153697014, 0.015789642930030823, 0.009121065028011799, 0.006447887048125267, 0.04965183511376381, 0.0722111314535141, 0.04530429467558861, 0.022536231204867363, 0.23380494117736816, 0.2810094952583313, 0.22215764224529266, 0.0, 0.0, 0.0, 0.0, 0.0, 0.0, 0.0, 0.0, 0.0, 0.0], [0.01601027324795723, 0.000419077550759539, 0.0016793152317404747, 0.002033163793385029, 0.0011126060271635652, 0.002304126974195242, 0.0016414874698966742, 0.0020452288445085287, 0.0008826435660012066, 0.003531820373609662, 0.004660748410969973, 0.001146126538515091, 0.004025287926197052, 0.01172945648431778, 0.006906020455062389, 0.005978983361274004, 0.03413611650466919, 0.053919944912195206, 0.0753692165017128, 0.015544149093329906, 0.15307283401489258, 0.2167249470949173, 0.23267318308353424, 0.1524532586336136, 0.0, 0.0, 0.0, 0.0, 0.0, 0.0, 0.0, 0.0, 0.0], [0.016415515914559364, 0.0010881003690883517, 0.0013027017703279853, 0.0012335627106949687, 0.0010325228795409203, 0.0013605289859697223, 0.0011352727888152003, 0.0009713188046589494, 0.0017580244457349181, 0.002354997443035245, 0.002267798176035285, 0.0026170043274760246, 0.0032849644776433706, 0.005564451217651367, 0.007287739310413599, 0.006582664325833321, 0.01691107638180256, 0.02334820292890072, 0.03336375951766968, 0.01206084992736578, 0.08410517126321793, 0.10776980966329575, 0.12741310894489288, 0.250095933675766, 0.288674920797348, 0.0, 0.0, 0.0, 0.0, 0.0, 0.0, 0.0, 0.0], [0.031117714941501617, 0.0015063050668686628, 0.0010839311871677637, 0.0024215197190642357, 0.0013826864305883646, 0.003793718758970499, 0.0016339282738044858, 0.003119516186416149, 0.0012812630739063025, 0.0020685235504060984, 0.004760118201375008, 0.0008757313480600715, 0.008592118509113789, 0.009353633970022202, 0.01199326105415821, 0.005963003728538752, 0.02202817238867283, 0.034113287925720215, 0.009586763568222523, 0.013681813143193722, 0.08417058736085892, 0.0891781598329544, 0.10806834697723389, 0.15560783445835114, 0.3723685145378113, 0.020249497145414352, 0.0, 0.0, 0.0, 0.0, 0.0, 0.0, 0.0], [0.01483847200870514, 0.0005757312756031752, 0.004743664059787989, 0.00045677373418584466, 0.0007412274717353284, 0.0014999990817159414, 0.0008866079151630402, 0.0008452079491689801, 0.00010359255247749388, 0.0009065138292498887, 0.0018096790881827474, 0.0602911040186882, 0.001537756877951324, 0.003307939972728491, 0.0013713677180930972, 0.0020826775580644608, 0.00864398293197155, 0.009088870137929916, 0.007760959677398205, 0.005808328744024038, 0.03386514633893967, 0.03987186402082443, 0.053745537996292114, 0.03694772347807884, 0.1225944310426712, 0.5718705058097839, 0.013804462738335133, 0.0, 0.0, 0.0, 0.0, 0.0, 0.0], [0.018570007756352425, 0.001214318792335689, 0.001288043218664825, 0.001061256742104888, 0.0007490046555176377, 0.001048562815412879, 0.0008687884546816349, 0.0005973858060315251, 0.0012938282452523708, 0.0014042537659406662, 0.0011055096983909607, 0.0005003450787626207, 0.002026262227445841, 0.002146313898265362, 0.0028737937100231647, 0.0026413726154714823, 0.005802986212074757, 0.008191369473934174, 0.008339077234268188, 0.005543306469917297, 0.02655872516334057, 0.033089201897382736, 0.03250735253095627, 0.09199859201908112, 0.10410479456186295, 0.16861781477928162, 0.20895428955554962, 0.2669034004211426, 0.0, 0.0, 0.0, 0.0, 0.0], [0.01665443740785122, 0.0007248664041981101, 0.000898066908121109, 0.0031616869382560253, 0.0005522826686501503, 0.0016607269644737244, 0.0007486122194677591, 0.0009652789449319243, 0.00038427981780841947, 0.002257780870422721, 0.0015545643400400877, 0.0007037001778371632, 0.001468818518333137, 0.00279987882822752, 0.0030139824375510216, 0.00536904064938426, 0.006552342791110277, 0.008701574988663197, 0.007138867396861315, 0.006516320630908012, 0.026185572147369385, 0.039291977882385254, 0.031550079584121704, 0.02434304729104042, 0.10670772194862366, 0.1515980362892151, 0.13674211502075195, 0.32013946771621704, 0.09161484986543655, 0.0, 0.0, 0.0, 0.0], [0.03722681850194931, 0.0007442733622156084, 0.0019180340459570289, 0.0014290626859292388, 0.002559734508395195, 0.0032928369473665953, 0.0009007258922792971, 0.00154451048001647, 0.00035572165506891906, 0.00044927396811544895, 0.0026688161306083202, 0.00140466692391783, 0.0017281018663197756, 0.004542736802250147, 0.001294104615226388, 0.004677666816860437, 0.009138198569417, 0.008992963470518589, 0.005343667231500149, 0.0020318408496677876, 0.030930889770388603, 0.0212152898311615, 0.03639977052807808, 0.0567946620285511, 0.11195964366197586, 0.011458109132945538, 0.03353291377425194, 0.26588526368141174, 0.2469540685415268, 0.09262560307979584, 0.0, 0.0, 0.0], [0.04408877715468407, 0.0011082962155342102, 0.0033875915687531233, 0.004853191785514355, 0.0028643219266086817, 0.004500862676650286, 0.0014518114039674401, 0.0021924939937889576, 0.000790236983448267, 0.0006717388750985265, 0.003577157622203231, 0.0005131774232722819, 0.012861719354987144, 0.005116851069033146, 0.003014256479218602, 0.005887457635253668, 0.010453423485159874, 0.013818350620567799, 0.008691047318279743, 0.01122927013784647, 0.031400904059410095, 0.02318163588643074, 0.030444355681538582, 0.035206858068704605, 0.09999874234199524, 0.006090166512876749, 0.1471422016620636, 0.16393038630485535, 0.1274951845407486, 0.19357752799987793, 0.00045998996938578784, 0.0, 0.0], [0.037174053490161896, 0.005006897728890181, 0.0016112321754917502, 0.002830147510394454, 0.0005118497647345066, 0.0027071223594248295, 0.002097030635923147, 0.0012328758602961898, 0.0006310894386842847, 0.0017632474191486835, 0.0017868780996650457, 0.0002528331824578345, 0.0010720746358856559, 0.0026448306161910295, 0.0015661596553400159, 0.0038084073457866907, 0.005276742856949568, 0.00693026976659894, 0.013310845009982586, 0.0035816412419080734, 0.018304508179426193, 0.026684779673814774, 0.01997150480747223, 0.03215578943490982, 0.07432042807340622, 0.02392227202653885, 0.08761473745107651, 0.1800755113363266, 0.027492580935359, 0.05972246453166008, 0.19122684001922607, 0.16271239519119263, 0.0], [0.008116934448480606, 0.0008723065839149058, 0.00037072921986691654, 0.000473485270049423, 0.0001783301413524896, 0.0003994704456999898, 0.0002951165079139173, 0.0001831193658290431, 0.0001671455247560516, 0.0002370246802456677, 0.0002533357182983309, 0.00012855046952608973, 0.00020213195239193738, 0.00039944914169609547, 0.00016511822468601167, 0.00046228725113905966, 0.0008780211792327464, 0.0011140501592308283, 0.002070879563689232, 0.001963676419109106, 0.003527857130393386, 0.004475222434848547, 0.004463480319827795, 0.007312549743801355, 0.014446229673922062, 0.035030465573072433, 0.020014138892292976, 0.043885763734579086, 0.019436737522482872, 0.11325728893280029, 0.07277622818946838, 0.1619684100151062, 0.4804745018482208]], [[1.0, 0.0, 0.0, 0.0, 0.0, 0.0, 0.0, 0.0, 0.0, 0.0, 0.0, 0.0, 0.0, 0.0, 0.0, 0.0, 0.0, 0.0, 0.0, 0.0, 0.0, 0.0, 0.0, 0.0, 0.0, 0.0, 0.0, 0.0, 0.0, 0.0, 0.0, 0.0, 0.0], [0.9473748207092285, 0.052625205367803574, 0.0, 0.0, 0.0, 0.0, 0.0, 0.0, 0.0, 0.0, 0.0, 0.0, 0.0, 0.0, 0.0, 0.0, 0.0, 0.0, 0.0, 0.0, 0.0, 0.0, 0.0, 0.0, 0.0, 0.0, 0.0, 0.0, 0.0, 0.0, 0.0, 0.0, 0.0], [0.8785884380340576, 0.05539465695619583, 0.06601693481206894, 0.0, 0.0, 0.0, 0.0, 0.0, 0.0, 0.0, 0.0, 0.0, 0.0, 0.0, 0.0, 0.0, 0.0, 0.0, 0.0, 0.0, 0.0, 0.0, 0.0, 0.0, 0.0, 0.0, 0.0, 0.0, 0.0, 0.0, 0.0, 0.0, 0.0], [0.727077066898346, 0.1370987743139267, 0.04866090416908264, 0.0871632918715477, 0.0, 0.0, 0.0, 0.0, 0.0, 0.0, 0.0, 0.0, 0.0, 0.0, 0.0, 0.0, 0.0, 0.0, 0.0, 0.0, 0.0, 0.0, 0.0, 0.0, 0.0, 0.0, 0.0, 0.0, 0.0, 0.0, 0.0, 0.0, 0.0], [0.4651745557785034, 0.1342930644750595, 0.15358169376850128, 0.1747255027294159, 0.07222514599561691, 0.0, 0.0, 0.0, 0.0, 0.0, 0.0, 0.0, 0.0, 0.0, 0.0, 0.0, 0.0, 0.0, 0.0, 0.0, 0.0, 0.0, 0.0, 0.0, 0.0, 0.0, 0.0, 0.0, 0.0, 0.0, 0.0, 0.0, 0.0], [0.1703597754240036, 0.011841943487524986, 0.023650866001844406, 0.021745840087532997, 0.025856340304017067, 0.7465451955795288, 0.0, 0.0, 0.0, 0.0, 0.0, 0.0, 0.0, 0.0, 0.0, 0.0, 0.0, 0.0, 0.0, 0.0, 0.0, 0.0, 0.0, 0.0, 0.0, 0.0, 0.0, 0.0, 0.0, 0.0, 0.0, 0.0, 0.0], [0.1421457678079605, 0.04383271187543869, 0.05021180585026741, 0.045165054500103, 0.05872131884098053, 0.5111533999443054, 0.14876994490623474, 0.0, 0.0, 0.0, 0.0, 0.0, 0.0, 0.0, 0.0, 0.0, 0.0, 0.0, 0.0, 0.0, 0.0, 0.0, 0.0, 0.0, 0.0, 0.0, 0.0, 0.0, 0.0, 0.0, 0.0, 0.0, 0.0], [0.08473353832960129, 0.020369812846183777, 0.03746166080236435, 0.03195912763476372, 0.034196045249700546, 0.4350067377090454, 0.118940569460392, 0.23733246326446533, 0.0, 0.0, 0.0, 0.0, 0.0, 0.0, 0.0, 0.0, 0.0, 0.0, 0.0, 0.0, 0.0, 0.0, 0.0, 0.0, 0.0, 0.0, 0.0, 0.0, 0.0, 0.0, 0.0, 0.0, 0.0], [0.3423079550266266, 0.03593636676669121, 0.0725921094417572, 0.10352756828069687, 0.08196528255939484, 0.07694564759731293, 0.14196327328681946, 0.09896720200777054, 0.04579459875822067, 0.0, 0.0, 0.0, 0.0, 0.0, 0.0, 0.0, 0.0, 0.0, 0.0, 0.0, 0.0, 0.0, 0.0, 0.0, 0.0, 0.0, 0.0, 0.0, 0.0, 0.0, 0.0, 0.0, 0.0], [0.3711484968662262, 0.06278743594884872, 0.058069538325071335, 0.05566271021962166, 0.13124841451644897, 0.07535629719495773, 0.10726623237133026, 0.07924027740955353, 0.030107326805591583, 0.029113223776221275, 0.0, 0.0, 0.0, 0.0, 0.0, 0.0, 0.0, 0.0, 0.0, 0.0, 0.0, 0.0, 0.0, 0.0, 0.0, 0.0, 0.0, 0.0, 0.0, 0.0, 0.0, 0.0, 0.0], [0.06430105865001678, 0.0051691061817109585, 0.011012992821633816, 0.009054881520569324, 0.011748076416552067, 0.31885021924972534, 0.03684946522116661, 0.08319546282291412, 0.012068139389157295, 0.014676219783723354, 0.43307435512542725, 0.0, 0.0, 0.0, 0.0, 0.0, 0.0, 0.0, 0.0, 0.0, 0.0, 0.0, 0.0, 0.0, 0.0, 0.0, 0.0, 0.0, 0.0, 0.0, 0.0, 0.0, 0.0], [0.23777925968170166, 0.03812996670603752, 0.01974334381520748, 0.0750802755355835, 0.1442078948020935, 0.06244927644729614, 0.0701838955283165, 0.06523603945970535, 0.048832159489393234, 0.03460032492876053, 0.06439770013093948, 0.13935987651348114, 0.0, 0.0, 0.0, 0.0, 0.0, 0.0, 0.0, 0.0, 0.0, 0.0, 0.0, 0.0, 0.0, 0.0, 0.0, 0.0, 0.0, 0.0, 0.0, 0.0, 0.0], [0.29014480113983154, 0.0408577099442482, 0.06965623795986176, 0.06467736512422562, 0.11515597254037857, 0.07279440015554428, 0.05406041070818901, 0.04095998406410217, 0.036461230367422104, 0.03709699213504791, 0.0811215490102768, 0.06249444559216499, 0.03451892361044884, 0.0, 0.0, 0.0, 0.0, 0.0, 0.0, 0.0, 0.0, 0.0, 0.0, 0.0, 0.0, 0.0, 0.0, 0.0, 0.0, 0.0, 0.0, 0.0, 0.0], [0.04191603884100914, 0.0033880702685564756, 0.007082363124936819, 0.005899205803871155, 0.0075861928053200245, 0.20389792323112488, 0.023296771571040154, 0.05173071473836899, 0.007816811092197895, 0.009731379337608814, 0.27760186791419983, 0.008386770263314247, 0.016172707080841064, 0.33549317717552185, 0.0, 0.0, 0.0, 0.0, 0.0, 0.0, 0.0, 0.0, 0.0, 0.0, 0.0, 0.0, 0.0, 0.0, 0.0, 0.0, 0.0, 0.0, 0.0], [0.15129354596138, 0.04240787774324417, 0.04383378103375435, 0.09706753492355347, 0.14943554997444153, 0.044398847967386246, 0.0617450587451458, 0.04199517145752907, 0.018608802929520607, 0.03141244873404503, 0.050926513969898224, 0.06660287827253342, 0.0941622257232666, 0.05761290714144707, 0.04849691689014435, 0.0, 0.0, 0.0, 0.0, 0.0, 0.0, 0.0, 0.0, 0.0, 0.0, 0.0, 0.0, 0.0, 0.0, 0.0, 0.0, 0.0, 0.0], [0.2995802164077759, 0.07432065159082413, 0.03006196953356266, 0.016736479476094246, 0.03856482356786728, 0.05106879398226738, 0.09408663958311081, 0.05606794357299805, 0.054582275450229645, 0.045220401138067245, 0.05638071894645691, 0.015378042124211788, 0.04082852602005005, 0.06084692105650902, 0.030811067670583725, 0.03546449542045593, 0.0, 0.0, 0.0, 0.0, 0.0, 0.0, 0.0, 0.0, 0.0, 0.0, 0.0, 0.0, 0.0, 0.0, 0.0, 0.0, 0.0], [0.030439969152212143, 0.0024933931417763233, 0.005298209842294455, 0.0042233881540596485, 0.0055174450390040874, 0.14508458971977234, 0.016034144908189774, 0.03598647937178612, 0.005758051294833422, 0.007398177403956652, 0.19613468647003174, 0.006090887356549501, 0.011465118266642094, 0.23738011717796326, 0.008031779900193214, 0.005861485842615366, 0.2768021523952484, 0.0, 0.0, 0.0, 0.0, 0.0, 0.0, 0.0, 0.0, 0.0, 0.0, 0.0, 0.0, 0.0, 0.0, 0.0, 0.0], [0.015668941661715508, 0.001913348096422851, 0.0067479368299245834, 0.005610876716673374, 0.006710362620651722, 0.10858525335788727, 0.013436980545520782, 0.030674800276756287, 0.00869804434478283, 0.0059587713330984116, 0.15696409344673157, 0.0064012655057013035, 0.014357198029756546, 0.19220468401908875, 0.009938817471265793, 0.008154566399753094, 0.2286139577627182, 0.17936013638973236, 0.0, 0.0, 0.0, 0.0, 0.0, 0.0, 0.0, 0.0, 0.0, 0.0, 0.0, 0.0, 0.0, 0.0, 0.0], [0.2751207947731018, 0.04635608568787575, 0.0257827490568161, 0.0203710850328207, 0.04519129917025566, 0.04741504043340683, 0.0580083392560482, 0.05449461191892624, 0.021855834871530533, 0.028674190863966942, 0.050547968596220016, 0.03578946366906166, 0.014343991875648499, 0.05505192279815674, 0.019970914348959923, 0.02507065236568451, 0.059836700558662415, 0.10591267049312592, 0.0102057084441185, 0.0, 0.0, 0.0, 0.0, 0.0, 0.0, 0.0, 0.0, 0.0, 0.0, 0.0, 0.0, 0.0, 0.0], [0.12210454791784286, 0.02900637872517109, 0.027926109731197357, 0.03076370246708393, 0.06431961059570312, 0.05075865611433983, 0.05746714770793915, 0.038544509559869766, 0.028814462944865227, 0.03641035780310631, 0.05530691519379616, 0.027555694803595543, 0.05062386766076088, 0.060396838933229446, 0.037909094244241714, 0.034162603318691254, 0.06550317257642746, 0.08224612474441528, 0.08903133124113083, 0.011148841120302677, 0.0, 0.0, 0.0, 0.0, 0.0, 0.0, 0.0, 0.0, 0.0, 0.0, 0.0, 0.0, 0.0], [0.019922740757465363, 0.00159912696108222, 0.0035362725611776114, 0.002760607050731778, 0.003674754174426198, 0.09198573231697083, 0.009868196211755276, 0.02176273614168167, 0.003674617502838373, 0.004800304304808378, 0.12327180057764053, 0.0039482261054217815, 0.007727710530161858, 0.1490195095539093, 0.005094501655548811, 0.0038495520129799843, 0.17433802783489227, 0.14503756165504456, 0.003139178268611431, 0.003901565447449684, 0.21708732843399048, 0.0, 0.0, 0.0, 0.0, 0.0, 0.0, 0.0, 0.0, 0.0, 0.0, 0.0, 0.0], [0.025169136002659798, 0.002589145442470908, 0.007904480211436749, 0.002818176755681634, 0.00831749476492405, 0.06284766644239426, 0.016097374260425568, 0.024833565577864647, 0.007658038288354874, 0.011317085474729538, 0.08450999855995178, 0.012135399505496025, 0.02204839140176773, 0.1001725122332573, 0.015103289857506752, 0.020152263343334198, 0.11906809359788895, 0.14148969948291779, 0.006576653104275465, 0.007074062712490559, 0.1485065370798111, 0.1536109447479248, 0.0, 0.0, 0.0, 0.0, 0.0, 0.0, 0.0, 0.0, 0.0, 0.0, 0.0], [0.08679641038179398, 0.015818683430552483, 0.009913147427141666, 0.005941125564277172, 0.011749107390642166, 0.04402252286672592, 0.049411576241254807, 0.04721162095665932, 0.022448502480983734, 0.028144167736172676, 0.05249370262026787, 0.013664900325238705, 0.038044556975364685, 0.05856490507721901, 0.016008730977773666, 0.028531769290566444, 0.06752396374940872, 0.10004056245088577, 0.026074480265378952, 0.01816527172923088, 0.08061441779136658, 0.14588391780853271, 0.03293200954794884, 0.0, 0.0, 0.0, 0.0, 0.0, 0.0, 0.0, 0.0, 0.0, 0.0], [0.12203321605920792, 0.02679692953824997, 0.03471272438764572, 0.016600845381617546, 0.05098598822951317, 0.03362348675727844, 0.03376289829611778, 0.032894399017095566, 0.02276359684765339, 0.03469544276595116, 0.03710822016000748, 0.02750304713845253, 0.030508041381835938, 0.040704939514398575, 0.019409814849495888, 0.033388108015060425, 0.04603787139058113, 0.081419438123703, 0.025792919099330902, 0.017713339999318123, 0.053263746201992035, 0.0695522278547287, 0.07340097427368164, 0.03532780706882477, 0.0, 0.0, 0.0, 0.0, 0.0, 0.0, 0.0, 0.0, 0.0], [0.01263270154595375, 0.0031967295799404383, 0.008999618701636791, 0.0037871073000133038, 0.005590221378952265, 0.06018742918968201, 0.010173026472330093, 0.02606339193880558, 0.008280332200229168, 0.0059984419494867325, 0.08480238169431686, 0.007755734026432037, 0.01480766199529171, 0.10079348087310791, 0.011636026203632355, 0.007885097526013851, 0.12061364948749542, 0.12819868326187134, 0.006487111561000347, 0.003230572212487459, 0.15047506988048553, 0.10557693243026733, 0.015480614267289639, 0.01902632974088192, 0.07832163572311401, 0.0, 0.0, 0.0, 0.0, 0.0, 0.0, 0.0, 0.0], [0.11176051199436188, 0.01863555982708931, 0.05622371286153793, 0.0467727929353714, 0.03736491873860359, 0.0229934211820364, 0.0313652828335762, 0.02640889212489128, 0.04335922747850418, 0.05663561075925827, 0.0217864029109478, 0.023822136223316193, 0.03064168617129326, 0.023289257660508156, 0.05430492386221886, 0.06881185621023178, 0.024489372968673706, 0.047770895063877106, 0.03627173975110054, 0.022222531959414482, 0.02699892409145832, 0.02176610752940178, 0.03442491590976715, 0.028240269050002098, 0.05891917273402214, 0.024719834327697754, 0.0, 0.0, 0.0, 0.0, 0.0, 0.0, 0.0], [0.10639800131320953, 0.037107933312654495, 0.08273955434560776, 0.017856858670711517, 0.020950013771653175, 0.018305247649550438, 0.022620098665356636, 0.018192268908023834, 0.02185116522014141, 0.012518534436821938, 0.019214095547795296, 0.030340079218149185, 0.07187620550394058, 0.02078801579773426, 0.03963524103164673, 0.061515916138887405, 0.02317928895354271, 0.04398040845990181, 0.04619221016764641, 0.020667975768446922, 0.027080891653895378, 0.04386552423238754, 0.032767388969659805, 0.04369067773222923, 0.05080842971801758, 0.040294911712408066, 0.025562994182109833, 0.0, 0.0, 0.0, 0.0, 0.0, 0.0], [0.015084560960531235, 0.0038223848678171635, 0.005877269431948662, 0.004971850197762251, 0.005370154045522213, 0.052236441522836685, 0.016127677634358406, 0.031829893589019775, 0.008211130276322365, 0.011473825201392174, 0.06704683601856232, 0.010528388433158398, 0.010598232038319111, 0.07938902825117111, 0.007211728021502495, 0.006271467078477144, 0.09142370522022247, 0.10866505652666092, 0.0039738197810947895, 0.005621671676635742, 0.10983321815729141, 0.09237759560346603, 0.022960487753152847, 0.019314918667078018, 0.08864138275384903, 0.018464701250195503, 0.011022253893315792, 0.09165035933256149, 0.0, 0.0, 0.0, 0.0, 0.0], [0.09854129701852798, 0.039670590311288834, 0.05052139237523079, 0.04794391989707947, 0.01953187584877014, 0.01568341813981533, 0.025074752047657967, 0.014997907914221287, 0.02772345021367073, 0.01641817018389702, 0.016389021649956703, 0.02631657011806965, 0.03435923904180527, 0.017758002504706383, 0.023362677544355392, 0.037635140120983124, 0.01940559409558773, 0.03442170098423958, 0.04902297630906105, 0.030190540477633476, 0.022159067913889885, 0.03754066303372383, 0.03879312053322792, 0.04032415151596069, 0.0423126220703125, 0.06829199194908142, 0.02531411312520504, 0.043300747871398926, 0.03699524328112602, 0.0, 0.0, 0.0, 0.0], [0.10688817501068115, 0.03659576177597046, 0.00508308969438076, 0.010160422883927822, 0.013297364115715027, 0.04175208881497383, 0.02624681033194065, 0.030128559097647667, 0.01348239928483963, 0.018223203718662262, 0.04582627862691879, 0.025558799505233765, 0.015618832781910896, 0.05039898678660393, 0.01165702287107706, 0.011659123934805393, 0.05515515059232712, 0.05091661959886551, 0.019206790253520012, 0.013998402282595634, 0.06383468955755234, 0.029088923707604408, 0.01671043410897255, 0.02609526365995407, 0.05484982952475548, 0.038066718727350235, 0.03896065801382065, 0.053752362728118896, 0.023679161444306374, 0.053108099848032, 0.0, 0.0, 0.0], [0.10871606320142746, 0.06286415457725525, 0.023045102134346962, 0.012493222951889038, 0.009688264690339565, 0.023720793426036835, 0.02561735175549984, 0.028282862156629562, 0.019523117691278458, 0.015187141485512257, 0.024615773931145668, 0.018855810165405273, 0.013071912340819836, 0.025697462260723114, 0.010639791376888752, 0.007336438167840242, 0.02848825789988041, 0.0408751405775547, 0.023693926632404327, 0.02846081554889679, 0.0317811444401741, 0.033992134034633636, 0.016904521733522415, 0.04699751362204552, 0.05480916053056717, 0.060481686145067215, 0.021137811243534088, 0.05147772282361984, 0.015304331667721272, 0.0786886140704155, 0.037551939487457275, 0.0, 0.0], [0.1651061773300171, 0.01330733485519886, 0.022820327430963516, 0.032224975526332855, 0.028327815234661102, 0.011912123300135136, 0.021759124472737312, 0.01259132381528616, 0.025371333584189415, 0.01592349074780941, 0.011745059862732887, 0.021340157836675644, 0.022658510133624077, 0.012097005732357502, 0.058773938566446304, 0.04114297404885292, 0.012866129167377949, 0.021896714344620705, 0.02738574892282486, 0.015412727370858192, 0.014822247438132763, 0.013198772445321083, 0.02906010113656521, 0.04031303524971008, 0.023036926984786987, 0.05035790428519249, 0.04650067910552025, 0.032210759818553925, 0.045741353183984756, 0.011448170058429241, 0.05148482322692871, 0.04716220498085022, 0.0], [0.01986272819340229, 0.000694137648679316, 0.0017670613015070558, 0.001903819851577282, 0.002311578718945384, 0.059243883937597275, 0.005164949223399162, 0.008714546449482441, 0.0024906692560762167, 0.0030579594895243645, 0.07585156708955765, 0.002390551147982478, 0.0031773466616868973, 0.08945119380950928, 0.0030652983114123344, 0.0016209157183766365, 0.10312030464410782, 0.06259159743785858, 0.0020582962315529585, 0.00223221885971725, 0.12742041051387787, 0.02470385655760765, 0.003510193433612585, 0.004994177259504795, 0.028317106887698174, 0.005874198395758867, 0.006215325091034174, 0.036865655332803726, 0.005438115913420916, 0.004061863757669926, 0.004735514987260103, 0.004534381907433271, 0.2925585210323334]], [[1.0, 0.0, 0.0, 0.0, 0.0, 0.0, 0.0, 0.0, 0.0, 0.0, 0.0, 0.0, 0.0, 0.0, 0.0, 0.0, 0.0, 0.0, 0.0, 0.0, 0.0, 0.0, 0.0, 0.0, 0.0, 0.0, 0.0, 0.0, 0.0, 0.0, 0.0, 0.0, 0.0], [0.9726406335830688, 0.02735934592783451, 0.0, 0.0, 0.0, 0.0, 0.0, 0.0, 0.0, 0.0, 0.0, 0.0, 0.0, 0.0, 0.0, 0.0, 0.0, 0.0, 0.0, 0.0, 0.0, 0.0, 0.0, 0.0, 0.0, 0.0, 0.0, 0.0, 0.0, 0.0, 0.0, 0.0, 0.0], [0.8850566744804382, 0.08160647749900818, 0.033336855471134186, 0.0, 0.0, 0.0, 0.0, 0.0, 0.0, 0.0, 0.0, 0.0, 0.0, 0.0, 0.0, 0.0, 0.0, 0.0, 0.0, 0.0, 0.0, 0.0, 0.0, 0.0, 0.0, 0.0, 0.0, 0.0, 0.0, 0.0, 0.0, 0.0, 0.0], [0.7844979166984558, 0.09046001732349396, 0.107209712266922, 0.017832346260547638, 0.0, 0.0, 0.0, 0.0, 0.0, 0.0, 0.0, 0.0, 0.0, 0.0, 0.0, 0.0, 0.0, 0.0, 0.0, 0.0, 0.0, 0.0, 0.0, 0.0, 0.0, 0.0, 0.0, 0.0, 0.0, 0.0, 0.0, 0.0, 0.0], [0.6679065227508545, 0.10135097801685333, 0.10997926443815231, 0.0699087604880333, 0.05085448920726776, 0.0, 0.0, 0.0, 0.0, 0.0, 0.0, 0.0, 0.0, 0.0, 0.0, 0.0, 0.0, 0.0, 0.0, 0.0, 0.0, 0.0, 0.0, 0.0, 0.0, 0.0, 0.0, 0.0, 0.0, 0.0, 0.0, 0.0, 0.0], [0.5862791538238525, 0.06960926949977875, 0.06798024475574493, 0.06058962270617485, 0.08339764922857285, 0.13214406371116638, 0.0, 0.0, 0.0, 0.0, 0.0, 0.0, 0.0, 0.0, 0.0, 0.0, 0.0, 0.0, 0.0, 0.0, 0.0, 0.0, 0.0, 0.0, 0.0, 0.0, 0.0, 0.0, 0.0, 0.0, 0.0, 0.0, 0.0], [0.5015711784362793, 0.06227875128388405, 0.07209990173578262, 0.055909164249897, 0.08146876841783524, 0.12033161520957947, 0.10634061694145203, 0.0, 0.0, 0.0, 0.0, 0.0, 0.0, 0.0, 0.0, 0.0, 0.0, 0.0, 0.0, 0.0, 0.0, 0.0, 0.0, 0.0, 0.0, 0.0, 0.0, 0.0, 0.0, 0.0, 0.0, 0.0, 0.0], [0.4001610577106476, 0.05525398626923561, 0.06347684562206268, 0.054137859493494034, 0.07119617611169815, 0.11230526119470596, 0.12489718943834305, 0.11857163906097412, 0.0, 0.0, 0.0, 0.0, 0.0, 0.0, 0.0, 0.0, 0.0, 0.0, 0.0, 0.0, 0.0, 0.0, 0.0, 0.0, 0.0, 0.0, 0.0, 0.0, 0.0, 0.0, 0.0, 0.0, 0.0], [0.40185338258743286, 0.08579416573047638, 0.05644882097840309, 0.07181119918823242, 0.08318912237882614, 0.07845645397901535, 0.09191881865262985, 0.07768876105546951, 0.052839308977127075, 0.0, 0.0, 0.0, 0.0, 0.0, 0.0, 0.0, 0.0, 0.0, 0.0, 0.0, 0.0, 0.0, 0.0, 0.0, 0.0, 0.0, 0.0, 0.0, 0.0, 0.0, 0.0, 0.0, 0.0], [0.38271602988243103, 0.07976948469877243, 0.062077492475509644, 0.06360232084989548, 0.08211022615432739, 0.07804956287145615, 0.08597439527511597, 0.07506483793258667, 0.0632784441113472, 0.02735722064971924, 0.0, 0.0, 0.0, 0.0, 0.0, 0.0, 0.0, 0.0, 0.0, 0.0, 0.0, 0.0, 0.0, 0.0, 0.0, 0.0, 0.0, 0.0, 0.0, 0.0, 0.0, 0.0, 0.0], [0.340416818857193, 0.045351967215538025, 0.046589091420173645, 0.0403917096555233, 0.054890427738428116, 0.08179005980491638, 0.08906514942646027, 0.09645891934633255, 0.055649708956480026, 0.06398677080869675, 0.08540937304496765, 0.0, 0.0, 0.0, 0.0, 0.0, 0.0, 0.0, 0.0, 0.0, 0.0, 0.0, 0.0, 0.0, 0.0, 0.0, 0.0, 0.0, 0.0, 0.0, 0.0, 0.0, 0.0], [0.31186193227767944, 0.09539996832609177, 0.07292012870311737, 0.0697687566280365, 0.07777829468250275, 0.067350372672081, 0.061614058911800385, 0.054810743778944016, 0.05252014845609665, 0.05022519454360008, 0.07299346476793289, 0.012756959535181522, 0.0, 0.0, 0.0, 0.0, 0.0, 0.0, 0.0, 0.0, 0.0, 0.0, 0.0, 0.0, 0.0, 0.0, 0.0, 0.0, 0.0, 0.0, 0.0, 0.0, 0.0], [0.36652857065200806, 0.06308671087026596, 0.039478447288274765, 0.046095266938209534, 0.057407576590776443, 0.0634833350777626, 0.0523846335709095, 0.0550161711871624, 0.04584018513560295, 0.06228693202137947, 0.0658990815281868, 0.058063581585884094, 0.024429503828287125, 0.0, 0.0, 0.0, 0.0, 0.0, 0.0, 0.0, 0.0, 0.0, 0.0, 0.0, 0.0, 0.0, 0.0, 0.0, 0.0, 0.0, 0.0, 0.0, 0.0], [0.2856443524360657, 0.038040246814489365, 0.039423901587724686, 0.03423864021897316, 0.0463939793407917, 0.06771663576364517, 0.07328073680400848, 0.07855430990457535, 0.047896649688482285, 0.055936552584171295, 0.07124945521354675, 0.035689253360033035, 0.04956042766571045, 0.07637482136487961, 0.0, 0.0, 0.0, 0.0, 0.0, 0.0, 0.0, 0.0, 0.0, 0.0, 0.0, 0.0, 0.0, 0.0, 0.0, 0.0, 0.0, 0.0, 0.0], [0.29775434732437134, 0.05259547010064125, 0.043479397892951965, 0.05845862627029419, 0.045687295496463776, 0.05259403958916664, 0.044561997056007385, 0.04597470536828041, 0.06316148489713669, 0.07768759876489639, 0.054991427809000015, 0.03466470167040825, 0.05020098760724068, 0.05886143818497658, 0.019326550886034966, 0.0, 0.0, 0.0, 0.0, 0.0, 0.0, 0.0, 0.0, 0.0, 0.0, 0.0, 0.0, 0.0, 0.0, 0.0, 0.0, 0.0, 0.0], [0.2885315418243408, 0.04616910219192505, 0.028233056887984276, 0.0382423959672451, 0.04330624267458916, 0.05174914374947548, 0.043182745575904846, 0.04393121972680092, 0.05616343021392822, 0.06773822754621506, 0.05490174889564514, 0.0813930332660675, 0.043256908655166626, 0.059048134833574295, 0.03989905118942261, 0.014254068955779076, 0.0, 0.0, 0.0, 0.0, 0.0, 0.0, 0.0, 0.0, 0.0, 0.0, 0.0, 0.0, 0.0, 0.0, 0.0, 0.0, 0.0], [0.23721370100975037, 0.031615812331438065, 0.03324564918875694, 0.029231952503323555, 0.03861811012029648, 0.05549166351556778, 0.05966496095061302, 0.06321784108877182, 0.04073699936270714, 0.047526758164167404, 0.058378227055072784, 0.03039967082440853, 0.042871568351984024, 0.06284616887569427, 0.05321291834115982, 0.04736894741654396, 0.06835901737213135, 0.0, 0.0, 0.0, 0.0, 0.0, 0.0, 0.0, 0.0, 0.0, 0.0, 0.0, 0.0, 0.0, 0.0, 0.0, 0.0], [0.2098696380853653, 0.027291253209114075, 0.031156621873378754, 0.026615018025040627, 0.03165113553404808, 0.05273226276040077, 0.05274501442909241, 0.056359030306339264, 0.040765468031167984, 0.042782384902238846, 0.05619122460484505, 0.03067827597260475, 0.04398960620164871, 0.060914747416973114, 0.0501369908452034, 0.041573163121938705, 0.06652858853340149, 0.07801957428455353, 0.0, 0.0, 0.0, 0.0, 0.0, 0.0, 0.0, 0.0, 0.0, 0.0, 0.0, 0.0, 0.0, 0.0, 0.0], [0.23853830993175507, 0.04414582625031471, 0.04643501713871956, 0.034512702375650406, 0.035721808671951294, 0.04369330406188965, 0.043049730360507965, 0.03498826175928116, 0.043718066066503525, 0.03952197730541229, 0.04457852989435196, 0.02459944598376751, 0.0625118613243103, 0.047534842044115067, 0.043756067752838135, 0.049959320574998856, 0.050908032804727554, 0.05266246199607849, 0.01916448213160038, 0.0, 0.0, 0.0, 0.0, 0.0, 0.0, 0.0, 0.0, 0.0, 0.0, 0.0, 0.0, 0.0, 0.0], [0.17729143798351288, 0.042214613407850266, 0.030818704515695572, 0.030886098742485046, 0.03386848047375679, 0.04521184042096138, 0.04290102794766426, 0.03221559152007103, 0.04018865525722504, 0.04926900938153267, 0.04801623523235321, 0.038142453879117966, 0.05126514285802841, 0.05206844583153725, 0.04744117334485054, 0.03924532234668732, 0.056304723024368286, 0.05462946742773056, 0.05991862714290619, 0.028102939948439598, 0.0, 0.0, 0.0, 0.0, 0.0, 0.0, 0.0, 0.0, 0.0, 0.0, 0.0, 0.0, 0.0], [0.19048286974430084, 0.025203486904501915, 0.02678745985031128, 0.02367267943918705, 0.03110402263700962, 0.04345342144370079, 0.046493303030729294, 0.04820647090673447, 0.03323279321193695, 0.03892752528190613, 0.045491475611925125, 0.024442726746201515, 0.03570156544446945, 0.04907767474651337, 0.04303566366434097, 0.03905564174056053, 0.053717441856861115, 0.0665896013379097, 0.043208252638578415, 0.03176469728350639, 0.06035124510526657, 0.0, 0.0, 0.0, 0.0, 0.0, 0.0, 0.0, 0.0, 0.0, 0.0, 0.0, 0.0], [0.14975368976593018, 0.023474572226405144, 0.025508388876914978, 0.028942441567778587, 0.03517157956957817, 0.0388018973171711, 0.045942794531583786, 0.03962726891040802, 0.03708779066801071, 0.03872302919626236, 0.041907187551259995, 0.021688055247068405, 0.043282557278871536, 0.04592542350292206, 0.03893953561782837, 0.04007609933614731, 0.05060017853975296, 0.060830529779195786, 0.04372161999344826, 0.03023521974682808, 0.05728612095117569, 0.062474001199007034, 0.0, 0.0, 0.0, 0.0, 0.0, 0.0, 0.0, 0.0, 0.0, 0.0, 0.0], [0.1751340925693512, 0.02751927450299263, 0.029514024034142494, 0.020715320482850075, 0.026873519644141197, 0.0345461331307888, 0.038530781865119934, 0.03303780034184456, 0.04181557893753052, 0.04010030999779701, 0.03696894273161888, 0.030468935146927834, 0.03995395451784134, 0.04023706167936325, 0.04482617974281311, 0.03708263859152794, 0.04420142620801926, 0.049310438334941864, 0.04125743731856346, 0.02861069142818451, 0.04997342452406883, 0.05269284173846245, 0.03662918135523796, 0.0, 0.0, 0.0, 0.0, 0.0, 0.0, 0.0, 0.0, 0.0, 0.0], [0.13285993039608002, 0.040708065032958984, 0.04111678898334503, 0.034844253212213516, 0.04087604582309723, 0.02756720595061779, 0.028293684124946594, 0.022520430386066437, 0.03875419497489929, 0.04037804901599884, 0.029089415445923805, 0.029609225690364838, 0.05670115724205971, 0.031181875616312027, 0.03766116872429848, 0.05688637122511864, 0.03396705538034439, 0.03781306743621826, 0.04951413720846176, 0.03194558620452881, 0.03759903460741043, 0.043266382068395615, 0.043056685477495193, 0.0337902270257473, 0.0, 0.0, 0.0, 0.0, 0.0, 0.0, 0.0, 0.0, 0.0], [0.14709371328353882, 0.018218712881207466, 0.022143609821796417, 0.02162138931453228, 0.027072904631495476, 0.0338541716337204, 0.03787611424922943, 0.03801964223384857, 0.027932509779930115, 0.030901845544576645, 0.03606922924518585, 0.019023124128580093, 0.03465801104903221, 0.03916986659169197, 0.0337555967271328, 0.026136618107557297, 0.042978301644325256, 0.05313745141029358, 0.034635063260793686, 0.020140288397669792, 0.04878358915448189, 0.04990801960229874, 0.04624391347169876, 0.047156721353530884, 0.06346960365772247, 0.0, 0.0, 0.0, 0.0, 0.0, 0.0, 0.0, 0.0], [0.17602789402008057, 0.01488215010613203, 0.026751156896352768, 0.024088062345981598, 0.03566749393939972, 0.027094291523098946, 0.02498425729572773, 0.02147187478840351, 0.02635938487946987, 0.023845124989748, 0.027566999197006226, 0.01686953194439411, 0.07777430862188339, 0.02910921908915043, 0.04799698293209076, 0.029002515599131584, 0.03132335841655731, 0.03615598380565643, 0.039595603942871094, 0.01700800471007824, 0.03483905643224716, 0.03443719074130058, 0.04149218648672104, 0.09124381095170975, 0.0405229814350605, 0.0038906026165932417, 0.0, 0.0, 0.0, 0.0, 0.0, 0.0, 0.0], [0.1850174367427826, 0.02778700739145279, 0.025097617879509926, 0.02701900526881218, 0.029199199751019478, 0.030337030068039894, 0.03222178295254707, 0.023015078157186508, 0.0267928596585989, 0.02279387228190899, 0.03067483752965927, 0.021220851689577103, 0.05388806015253067, 0.0325930155813694, 0.030737649649381638, 0.025725245475769043, 0.03486603870987892, 0.03793581947684288, 0.028672022745013237, 0.0261489599943161, 0.03875334560871124, 0.04179506003856659, 0.03863157704472542, 0.05337153375148773, 0.039820726960897446, 0.02571162022650242, 0.010172728449106216, 0.0, 0.0, 0.0, 0.0, 0.0, 0.0], [0.1244632825255394, 0.016768906265497208, 0.020105106756091118, 0.019267039373517036, 0.024457821622490883, 0.030203357338905334, 0.031273938715457916, 0.03254605457186699, 0.023186014965176582, 0.023508405312895775, 0.031733203679323196, 0.01708051562309265, 0.029082056134939194, 0.034282177686691284, 0.0357913002371788, 0.02582055702805519, 0.03753114864230156, 0.04618251323699951, 0.029499998316168785, 0.017913803458213806, 0.042747292667627335, 0.0424346998333931, 0.039002399891614914, 0.04141837731003761, 0.05949500948190689, 0.035957347601652145, 0.030984854325652122, 0.0572628378868103, 0.0, 0.0, 0.0, 0.0, 0.0], [0.14491020143032074, 0.025843976065516472, 0.0311769749969244, 0.019462743774056435, 0.012575733475387096, 0.025274598971009254, 0.02202068828046322, 0.021267293021082878, 0.031655412167310715, 0.027664173394441605, 0.026251597329974174, 0.022091031074523926, 0.03851795569062233, 0.028266897425055504, 0.0288776196539402, 0.036865368485450745, 0.03069993481040001, 0.03204505145549774, 0.034116294234991074, 0.020355403423309326, 0.034463152289390564, 0.03542865067720413, 0.030728407204151154, 0.044418979436159134, 0.037935975939035416, 0.05734867602586746, 0.038896989077329636, 0.04111206531524658, 0.019728202372789383, 0.0, 0.0, 0.0, 0.0], [0.13168425858020782, 0.025460122153162956, 0.02796240523457527, 0.02410983480513096, 0.016868816688656807, 0.03140677139163017, 0.02324734628200531, 0.02207169681787491, 0.027362512424588203, 0.026370469480752945, 0.03204534947872162, 0.028775816783308983, 0.04614204168319702, 0.034559790045022964, 0.03132108971476555, 0.02943774312734604, 0.03749067336320877, 0.035974256694316864, 0.0306710135191679, 0.026778310537338257, 0.04166236147284508, 0.032743968069553375, 0.030348770320415497, 0.03265199065208435, 0.038056496530771255, 0.034575629979372025, 0.022936124354600906, 0.0369032546877861, 0.025966182351112366, 0.01441490463912487, 0.0, 0.0, 0.0], [0.1656370609998703, 0.02280925028026104, 0.029107753187417984, 0.024944651871919632, 0.02435288392007351, 0.02503182552754879, 0.018486661836504936, 0.01857367716729641, 0.028443636372685432, 0.02919994853436947, 0.025318216532468796, 0.032204993069171906, 0.025753293186426163, 0.026890531182289124, 0.031273964792490005, 0.033051498234272, 0.028835443779826164, 0.029910439625382423, 0.0275588221848011, 0.024624649435281754, 0.032053619623184204, 0.026493744924664497, 0.021709587424993515, 0.03164016827940941, 0.037074778228998184, 0.04799467697739601, 0.027932144701480865, 0.034756116569042206, 0.03804948180913925, 0.02153569459915161, 0.008750846609473228, 0.0, 0.0], [0.16794215142726898, 0.02598346397280693, 0.03222336247563362, 0.019469380378723145, 0.023735294118523598, 0.02311573177576065, 0.019973618909716606, 0.016550227999687195, 0.0297967791557312, 0.028494663536548615, 0.023108841851353645, 0.02208707481622696, 0.042165543884038925, 0.024390188977122307, 0.02074914611876011, 0.038735855370759964, 0.026269782334566116, 0.027289118617773056, 0.019617397338151932, 0.020242847502231598, 0.02920321375131607, 0.030413350090384483, 0.02576262317597866, 0.04084981232881546, 0.0333266444504261, 0.021795304492115974, 0.026310522109270096, 0.0310134906321764, 0.03689264506101608, 0.01937716454267502, 0.043556034564971924, 0.009558661840856075, 0.0], [0.11396832019090652, 0.0177528765052557, 0.016061967238783836, 0.015585060231387615, 0.01839611679315567, 0.0243670791387558, 0.026053883135318756, 0.023999106138944626, 0.021919483318924904, 0.02625112235546112, 0.02473055012524128, 0.015323013998568058, 0.02561456523835659, 0.026337888091802597, 0.02498287707567215, 0.02464262954890728, 0.028590310364961624, 0.03295151889324188, 0.027568623423576355, 0.01848754845559597, 0.03220851346850395, 0.03191468492150307, 0.03630724549293518, 0.0341540165245533, 0.03678559511899948, 0.032977718859910965, 0.026278894394636154, 0.03809891268610954, 0.029801957309246063, 0.018183251842856407, 0.036320675164461136, 0.03568093851208687, 0.05770311504602432]], [[1.0, 0.0, 0.0, 0.0, 0.0, 0.0, 0.0, 0.0, 0.0, 0.0, 0.0, 0.0, 0.0, 0.0, 0.0, 0.0, 0.0, 0.0, 0.0, 0.0, 0.0, 0.0, 0.0, 0.0, 0.0, 0.0, 0.0, 0.0, 0.0, 0.0, 0.0, 0.0, 0.0], [0.8058416247367859, 0.1941583901643753, 0.0, 0.0, 0.0, 0.0, 0.0, 0.0, 0.0, 0.0, 0.0, 0.0, 0.0, 0.0, 0.0, 0.0, 0.0, 0.0, 0.0, 0.0, 0.0, 0.0, 0.0, 0.0, 0.0, 0.0, 0.0, 0.0, 0.0, 0.0, 0.0, 0.0, 0.0], [0.6373866200447083, 0.09672043472528458, 0.2658929228782654, 0.0, 0.0, 0.0, 0.0, 0.0, 0.0, 0.0, 0.0, 0.0, 0.0, 0.0, 0.0, 0.0, 0.0, 0.0, 0.0, 0.0, 0.0, 0.0, 0.0, 0.0, 0.0, 0.0, 0.0, 0.0, 0.0, 0.0, 0.0, 0.0, 0.0], [0.5870265960693359, 0.09922720491886139, 0.07913830876350403, 0.23460790514945984, 0.0, 0.0, 0.0, 0.0, 0.0, 0.0, 0.0, 0.0, 0.0, 0.0, 0.0, 0.0, 0.0, 0.0, 0.0, 0.0, 0.0, 0.0, 0.0, 0.0, 0.0, 0.0, 0.0, 0.0, 0.0, 0.0, 0.0, 0.0, 0.0], [0.4194737374782562, 0.06312593072652817, 0.08123067766427994, 0.08381502330303192, 0.35235464572906494, 0.0, 0.0, 0.0, 0.0, 0.0, 0.0, 0.0, 0.0, 0.0, 0.0, 0.0, 0.0, 0.0, 0.0, 0.0, 0.0, 0.0, 0.0, 0.0, 0.0, 0.0, 0.0, 0.0, 0.0, 0.0, 0.0, 0.0, 0.0], [0.530853271484375, 0.0959073007106781, 0.07779338210821152, 0.06661548465490341, 0.07293295115232468, 0.15589764714241028, 0.0, 0.0, 0.0, 0.0, 0.0, 0.0, 0.0, 0.0, 0.0, 0.0, 0.0, 0.0, 0.0, 0.0, 0.0, 0.0, 0.0, 0.0, 0.0, 0.0, 0.0, 0.0, 0.0, 0.0, 0.0, 0.0, 0.0], [0.38503068685531616, 0.0747809112071991, 0.06978145241737366, 0.04760652035474777, 0.05144914612174034, 0.08776702731847763, 0.28358420729637146, 0.0, 0.0, 0.0, 0.0, 0.0, 0.0, 0.0, 0.0, 0.0, 0.0, 0.0, 0.0, 0.0, 0.0, 0.0, 0.0, 0.0, 0.0, 0.0, 0.0, 0.0, 0.0, 0.0, 0.0, 0.0, 0.0], [0.296295702457428, 0.053282689303159714, 0.06944748759269714, 0.04097548499703407, 0.06660831719636917, 0.1021856889128685, 0.10869500786066055, 0.26250964403152466, 0.0, 0.0, 0.0, 0.0, 0.0, 0.0, 0.0, 0.0, 0.0, 0.0, 0.0, 0.0, 0.0, 0.0, 0.0, 0.0, 0.0, 0.0, 0.0, 0.0, 0.0, 0.0, 0.0, 0.0, 0.0], [0.3047500252723694, 0.06337985396385193, 0.05753422528505325, 0.040577199310064316, 0.0730014219880104, 0.07375828921794891, 0.07239889353513718, 0.05693604424595833, 0.2576640546321869, 0.0, 0.0, 0.0, 0.0, 0.0, 0.0, 0.0, 0.0, 0.0, 0.0, 0.0, 0.0, 0.0, 0.0, 0.0, 0.0, 0.0, 0.0, 0.0, 0.0, 0.0, 0.0, 0.0, 0.0], [0.29880768060684204, 0.055528245866298676, 0.05443596467375755, 0.052853018045425415, 0.06568749994039536, 0.07554221153259277, 0.06968103349208832, 0.054113876074552536, 0.09120788425207138, 0.18214255571365356, 0.0, 0.0, 0.0, 0.0, 0.0, 0.0, 0.0, 0.0, 0.0, 0.0, 0.0, 0.0, 0.0, 0.0, 0.0, 0.0, 0.0, 0.0, 0.0, 0.0, 0.0, 0.0, 0.0], [0.26933014392852783, 0.0635242909193039, 0.05952121689915657, 0.05242469534277916, 0.060521580278873444, 0.12185829877853394, 0.07608652859926224, 0.09753070771694183, 0.04232606291770935, 0.05058327689766884, 0.10629310458898544, 0.0, 0.0, 0.0, 0.0, 0.0, 0.0, 0.0, 0.0, 0.0, 0.0, 0.0, 0.0, 0.0, 0.0, 0.0, 0.0, 0.0, 0.0, 0.0, 0.0, 0.0, 0.0], [0.22074292600154877, 0.06960077583789825, 0.04872346669435501, 0.06675717234611511, 0.06954209506511688, 0.06483788788318634, 0.04652373865246773, 0.039300840348005295, 0.018016096204519272, 0.0358063243329525, 0.05302288755774498, 0.26712578535079956, 0.0, 0.0, 0.0, 0.0, 0.0, 0.0, 0.0, 0.0, 0.0, 0.0, 0.0, 0.0, 0.0, 0.0, 0.0, 0.0, 0.0, 0.0, 0.0, 0.0, 0.0], [0.15080063045024872, 0.047324731945991516, 0.12551112473011017, 0.062400806695222855, 0.05354630574584007, 0.0557839535176754, 0.04542611539363861, 0.03888600319623947, 0.030199816450476646, 0.03337055444717407, 0.04645954445004463, 0.023437924683094025, 0.28685247898101807, 0.0, 0.0, 0.0, 0.0, 0.0, 0.0, 0.0, 0.0, 0.0, 0.0, 0.0, 0.0, 0.0, 0.0, 0.0, 0.0, 0.0, 0.0, 0.0, 0.0], [0.2044883817434311, 0.04972051456570625, 0.04838545620441437, 0.04385358840227127, 0.05115719139575958, 0.1007489264011383, 0.06420683115720749, 0.08302562683820724, 0.03880452737212181, 0.04795775189995766, 0.09582381695508957, 0.03239700570702553, 0.04441103711724281, 0.09501936286687851, 0.0, 0.0, 0.0, 0.0, 0.0, 0.0, 0.0, 0.0, 0.0, 0.0, 0.0, 0.0, 0.0, 0.0, 0.0, 0.0, 0.0, 0.0, 0.0], [0.16236738860607147, 0.02851918339729309, 0.047843076288700104, 0.041354816406965256, 0.040284883230924606, 0.05200536921620369, 0.04226506128907204, 0.03821169212460518, 0.05986882001161575, 0.06849399954080582, 0.047342799603939056, 0.01971517503261566, 0.06202227622270584, 0.04572192579507828, 0.24398356676101685, 0.0, 0.0, 0.0, 0.0, 0.0, 0.0, 0.0, 0.0, 0.0, 0.0, 0.0, 0.0, 0.0, 0.0, 0.0, 0.0, 0.0, 0.0], [0.1312893033027649, 0.03962809965014458, 0.059519391506910324, 0.039663225412368774, 0.04406355321407318, 0.04348496347665787, 0.03726547211408615, 0.03240034729242325, 0.037205737084150314, 0.06481602787971497, 0.0404745377600193, 0.025914236903190613, 0.06507598608732224, 0.03922511264681816, 0.07744195312261581, 0.2225320190191269, 0.0, 0.0, 0.0, 0.0, 0.0, 0.0, 0.0, 0.0, 0.0, 0.0, 0.0, 0.0, 0.0, 0.0, 0.0, 0.0, 0.0], [0.158133402466774, 0.03911251202225685, 0.038564953953027725, 0.03587968274950981, 0.04187794029712677, 0.08161001652479172, 0.052458055317401886, 0.0681268721818924, 0.034448061138391495, 0.04342752322554588, 0.08275998383760452, 0.029333386570215225, 0.041573792695999146, 0.08478686213493347, 0.0488160140812397, 0.03235284611582756, 0.08673813194036484, 0.0, 0.0, 0.0, 0.0, 0.0, 0.0, 0.0, 0.0, 0.0, 0.0, 0.0, 0.0, 0.0, 0.0, 0.0, 0.0], [0.13890595734119415, 0.03169632703065872, 0.03251555189490318, 0.03538899123668671, 0.038000330328941345, 0.06974425166845322, 0.05942454934120178, 0.06768238544464111, 0.027843810617923737, 0.03905466943979263, 0.07273104041814804, 0.030109867453575134, 0.041630927473306656, 0.07565010339021683, 0.04018832743167877, 0.027483627200126648, 0.07795906811952591, 0.09399019926786423, 0.0, 0.0, 0.0, 0.0, 0.0, 0.0, 0.0, 0.0, 0.0, 0.0, 0.0, 0.0, 0.0, 0.0, 0.0], [0.09691289812326431, 0.030687307938933372, 0.03081795759499073, 0.044734321534633636, 0.04171941801905632, 0.036036767065525055, 0.041017040610313416, 0.03210475668311119, 0.043440625071525574, 0.04885553941130638, 0.034579016268253326, 0.01602509431540966, 0.04994165152311325, 0.0346352756023407, 0.06065686419606209, 0.034977883100509644, 0.03454342484474182, 0.037827931344509125, 0.2504861652851105, 0.0, 0.0, 0.0, 0.0, 0.0, 0.0, 0.0, 0.0, 0.0, 0.0, 0.0, 0.0, 0.0, 0.0], [0.1205921396613121, 0.04121064394712448, 0.050985172390937805, 0.05289151519536972, 0.02886129356920719, 0.04706200584769249, 0.02921283058822155, 0.03817000612616539, 0.021046485751867294, 0.029787803068757057, 0.044067222625017166, 0.026503339409828186, 0.04127002879977226, 0.044307366013526917, 0.030801543965935707, 0.04064902290701866, 0.044745106250047684, 0.04212244600057602, 0.028442274779081345, 0.19727173447608948, 0.0, 0.0, 0.0, 0.0, 0.0, 0.0, 0.0, 0.0, 0.0, 0.0, 0.0, 0.0, 0.0], [0.11388304829597473, 0.028255388140678406, 0.02835129201412201, 0.026958661153912544, 0.03131086379289627, 0.05977547541260719, 0.039182148873806, 0.05072040110826492, 0.027684016153216362, 0.035564228892326355, 0.06452133506536484, 0.02426709048449993, 0.03616493567824364, 0.06838168948888779, 0.041393011808395386, 0.029094643890857697, 0.0723004937171936, 0.07349380850791931, 0.03700020909309387, 0.0352863185107708, 0.07641094923019409, 0.0, 0.0, 0.0, 0.0, 0.0, 0.0, 0.0, 0.0, 0.0, 0.0, 0.0, 0.0], [0.08453849703073502, 0.01741660013794899, 0.018949134275317192, 0.016560642048716545, 0.02229611948132515, 0.04174060374498367, 0.058948636054992676, 0.038933612406253815, 0.030214643105864525, 0.03464234247803688, 0.0483190156519413, 0.016358427703380585, 0.02567455545067787, 0.05309673771262169, 0.020546531304717064, 0.020469829440116882, 0.05704640597105026, 0.06604909896850586, 0.03774645924568176, 0.021413881331682205, 0.061299290508031845, 0.20773887634277344, 0.0, 0.0, 0.0, 0.0, 0.0, 0.0, 0.0, 0.0, 0.0, 0.0, 0.0], [0.1124843880534172, 0.024394843727350235, 0.024523146450519562, 0.02748955599963665, 0.02610466629266739, 0.03731505945324898, 0.06748531758785248, 0.03890375420451164, 0.017981430515646935, 0.02845439687371254, 0.03756532073020935, 0.01832607202231884, 0.02008865214884281, 0.03865170478820801, 0.023285647854208946, 0.02422661893069744, 0.03960612043738365, 0.048331886529922485, 0.04500094801187515, 0.017362147569656372, 0.04009140282869339, 0.05208288133144379, 0.19024406373500824, 0.0, 0.0, 0.0, 0.0, 0.0, 0.0, 0.0, 0.0, 0.0, 0.0], [0.08183357864618301, 0.019828448072075844, 0.0268733948469162, 0.029252564534544945, 0.02518443949520588, 0.031927723437547684, 0.029049785807728767, 0.02497250773012638, 0.033506255596876144, 0.040074292570352554, 0.03351731225848198, 0.01603599451482296, 0.03204454109072685, 0.034480638802051544, 0.028517091646790504, 0.03532731533050537, 0.035832278430461884, 0.040583960711956024, 0.029941098764538765, 0.021097920835018158, 0.03671329468488693, 0.03921258822083473, 0.035432398319244385, 0.2387605607509613, 0.0, 0.0, 0.0, 0.0, 0.0, 0.0, 0.0, 0.0, 0.0], [0.10145691782236099, 0.014237047173082829, 0.01698417030274868, 0.018636569380760193, 0.028536243364214897, 0.0365380123257637, 0.029570503160357475, 0.04198320955038071, 0.014166045002639294, 0.03008139692246914, 0.040166426450014114, 0.02007502317428589, 0.03037012554705143, 0.04353439435362816, 0.030393024906516075, 0.02071734331548214, 0.04677111282944679, 0.0549510195851326, 0.028809180483222008, 0.02004370093345642, 0.050925444811582565, 0.040844663977622986, 0.041858021169900894, 0.03848978504538536, 0.15986067056655884, 0.0, 0.0, 0.0, 0.0, 0.0, 0.0, 0.0, 0.0], [0.07937924563884735, 0.020674310624599457, 0.020799752324819565, 0.027988232672214508, 0.04565475508570671, 0.02656259387731552, 0.025396713986992836, 0.021243257448077202, 0.017763793468475342, 0.02520064450800419, 0.027576463297009468, 0.030607081949710846, 0.034379992634058, 0.028568314388394356, 0.022726934403181076, 0.01605195552110672, 0.02971273474395275, 0.032761793583631516, 0.025702400133013725, 0.012878884561359882, 0.030626116320490837, 0.020369650796055794, 0.03741389885544777, 0.027850378304719925, 0.03571850806474686, 0.27639153599739075, 0.0, 0.0, 0.0, 0.0, 0.0, 0.0, 0.0], [0.0960543155670166, 0.02309289202094078, 0.024199651554226875, 0.024974139407277107, 0.036829642951488495, 0.0300143975764513, 0.02106921374797821, 0.018117520958185196, 0.022569259628653526, 0.02834322303533554, 0.030505139380693436, 0.021707676351070404, 0.02821178548038006, 0.03163941577076912, 0.03916612267494202, 0.03627365827560425, 0.03311571106314659, 0.035143960267305374, 0.025745240971446037, 0.015889013186097145, 0.03467545285820961, 0.026770081371068954, 0.027143444865942, 0.040450796484947205, 0.03760383278131485, 0.03232334926724434, 0.17837102711200714, 0.0, 0.0, 0.0, 0.0, 0.0, 0.0], [0.07476937770843506, 0.011021510697901249, 0.010706559754908085, 0.0153254559263587, 0.01990356668829918, 0.03285865858197212, 0.021936068311333656, 0.029454149305820465, 0.01642150804400444, 0.022476594895124435, 0.0372234508395195, 0.01758023165166378, 0.021954134106636047, 0.04046213626861572, 0.031415414065122604, 0.010417778976261616, 0.04429737851023674, 0.051181260496377945, 0.02956555038690567, 0.015394335612654686, 0.0490642748773098, 0.03202194347977638, 0.030905114486813545, 0.04132051765918732, 0.06578273326158524, 0.039784032851457596, 0.020499693229794502, 0.16625653207302094, 0.0, 0.0, 0.0, 0.0, 0.0], [0.05124203488230705, 0.011390027590095997, 0.020265793427824974, 0.024529634043574333, 0.12732437252998352, 0.02008390612900257, 0.017692742869257927, 0.020381979644298553, 0.01854860782623291, 0.023206070065498352, 0.021026071161031723, 0.02052123472094536, 0.02521073818206787, 0.021994244307279587, 0.017190465703606606, 0.02080591581761837, 0.023035308346152306, 0.026458045467734337, 0.03108612820506096, 0.011454470455646515, 0.024357987567782402, 0.022524958476424217, 0.024600770324468613, 0.024587998166680336, 0.02838081866502762, 0.046606115996837616, 0.043627072125673294, 0.02030046656727791, 0.2115659862756729, 0.0, 0.0, 0.0, 0.0], [0.0792929157614708, 0.02353738620877266, 0.022847291082143784, 0.019936051219701767, 0.015462880954146385, 0.025110291317105293, 0.02142905257642269, 0.015073491260409355, 0.00992409884929657, 0.015724750235676765, 0.027188709005713463, 0.020747289061546326, 0.034976355731487274, 0.029102327302098274, 0.021219031885266304, 0.018147621303796768, 0.031058188527822495, 0.033809494227170944, 0.020137561485171318, 0.012323123402893543, 0.0336926206946373, 0.024336129426956177, 0.031084522604942322, 0.03377702459692955, 0.04355441406369209, 0.03296351805329323, 0.03314929082989693, 0.025364909321069717, 0.02216367982327938, 0.2228659838438034, 0.0, 0.0, 0.0], [0.10059651732444763, 0.030963759869337082, 0.02557849884033203, 0.02022406831383705, 0.02713298425078392, 0.0294907558709383, 0.0407448336482048, 0.021403612568974495, 0.016392601653933525, 0.022520700469613075, 0.027555176988244057, 0.013599204830825329, 0.027306703850626945, 0.02780657634139061, 0.011214183643460274, 0.023586533963680267, 0.028399180620908737, 0.03066891059279442, 0.0216642078012228, 0.017032325267791748, 0.029051588848233223, 0.02654993161559105, 0.032975535839796066, 0.026790333911776543, 0.0320606529712677, 0.027298323810100555, 0.017307182773947716, 0.01876882091164589, 0.028226519003510475, 0.0170851219445467, 0.18000468611717224, 0.0, 0.0], [0.08361605554819107, 0.016581891104578972, 0.015823300927877426, 0.02200515940785408, 0.02406255342066288, 0.021028297021985054, 0.022811289876699448, 0.01441239845007658, 0.015572093427181244, 0.015104833990335464, 0.020917734131217003, 0.021798167377710342, 0.02598598226904869, 0.022013209760189056, 0.022025063633918762, 0.018091218546032906, 0.02311510592699051, 0.025451794266700745, 0.025943515822291374, 0.011241885833442211, 0.024466166272759438, 0.022869901731610298, 0.031613435596227646, 0.029542671516537666, 0.02381790801882744, 0.029349014163017273, 0.025922635570168495, 0.017268186435103416, 0.031844597309827805, 0.0120377317070961, 0.027524925768375397, 0.2561412453651428, 0.0], [0.05258439853787422, 0.012508373707532883, 0.012737675569951534, 0.012144196778535843, 0.014467818662524223, 0.024812443181872368, 0.01710914447903633, 0.02516256831586361, 0.016298964619636536, 0.01516009122133255, 0.029820039868354797, 0.014290275052189827, 0.02409479208290577, 0.03374277055263519, 0.02163226343691349, 0.018924104049801826, 0.03819216042757034, 0.04115181788802147, 0.024165771901607513, 0.020635642111301422, 0.0441853292286396, 0.037937089800834656, 0.029636356979608536, 0.031528402119874954, 0.045423075556755066, 0.03596360236406326, 0.030482526868581772, 0.04609916731715202, 0.03206764906644821, 0.017662934958934784, 0.03169601038098335, 0.04462911933660507, 0.10305343568325043]], [[1.0, 0.0, 0.0, 0.0, 0.0, 0.0, 0.0, 0.0, 0.0, 0.0, 0.0, 0.0, 0.0, 0.0, 0.0, 0.0, 0.0, 0.0, 0.0, 0.0, 0.0, 0.0, 0.0, 0.0, 0.0, 0.0, 0.0, 0.0, 0.0, 0.0, 0.0, 0.0, 0.0], [0.770771324634552, 0.2292286604642868, 0.0, 0.0, 0.0, 0.0, 0.0, 0.0, 0.0, 0.0, 0.0, 0.0, 0.0, 0.0, 0.0, 0.0, 0.0, 0.0, 0.0, 0.0, 0.0, 0.0, 0.0, 0.0, 0.0, 0.0, 0.0, 0.0, 0.0, 0.0, 0.0, 0.0, 0.0], [0.7813623547554016, 0.109785296022892, 0.10885237157344818, 0.0, 0.0, 0.0, 0.0, 0.0, 0.0, 0.0, 0.0, 0.0, 0.0, 0.0, 0.0, 0.0, 0.0, 0.0, 0.0, 0.0, 0.0, 0.0, 0.0, 0.0, 0.0, 0.0, 0.0, 0.0, 0.0, 0.0, 0.0, 0.0, 0.0], [0.535038948059082, 0.11194942146539688, 0.15013687312602997, 0.20287474989891052, 0.0, 0.0, 0.0, 0.0, 0.0, 0.0, 0.0, 0.0, 0.0, 0.0, 0.0, 0.0, 0.0, 0.0, 0.0, 0.0, 0.0, 0.0, 0.0, 0.0, 0.0, 0.0, 0.0, 0.0, 0.0, 0.0, 0.0, 0.0, 0.0], [0.41803592443466187, 0.16036377847194672, 0.10740304738283157, 0.10625778138637543, 0.2079395204782486, 0.0, 0.0, 0.0, 0.0, 0.0, 0.0, 0.0, 0.0, 0.0, 0.0, 0.0, 0.0, 0.0, 0.0, 0.0, 0.0, 0.0, 0.0, 0.0, 0.0, 0.0, 0.0, 0.0, 0.0, 0.0, 0.0, 0.0, 0.0], [0.4349867105484009, 0.0957985445857048, 0.08251802623271942, 0.10028503835201263, 0.15332910418510437, 0.1330825686454773, 0.0, 0.0, 0.0, 0.0, 0.0, 0.0, 0.0, 0.0, 0.0, 0.0, 0.0, 0.0, 0.0, 0.0, 0.0, 0.0, 0.0, 0.0, 0.0, 0.0, 0.0, 0.0, 0.0, 0.0, 0.0, 0.0, 0.0], [0.44621357321739197, 0.056242138147354126, 0.05040302127599716, 0.07084294408559799, 0.0936090499162674, 0.11472620815038681, 0.16796307265758514, 0.0, 0.0, 0.0, 0.0, 0.0, 0.0, 0.0, 0.0, 0.0, 0.0, 0.0, 0.0, 0.0, 0.0, 0.0, 0.0, 0.0, 0.0, 0.0, 0.0, 0.0, 0.0, 0.0, 0.0, 0.0, 0.0], [0.3609195053577423, 0.07294463366270065, 0.05191009119153023, 0.07159049063920975, 0.0932166576385498, 0.09543666988611221, 0.14539918303489685, 0.1085827499628067, 0.0, 0.0, 0.0, 0.0, 0.0, 0.0, 0.0, 0.0, 0.0, 0.0, 0.0, 0.0, 0.0, 0.0, 0.0, 0.0, 0.0, 0.0, 0.0, 0.0, 0.0, 0.0, 0.0, 0.0, 0.0], [0.31714072823524475, 0.07683129608631134, 0.055522847920656204, 0.06445365399122238, 0.08586592972278595, 0.10643256455659866, 0.14521129429340363, 0.09439338743686676, 0.05414831265807152, 0.0, 0.0, 0.0, 0.0, 0.0, 0.0, 0.0, 0.0, 0.0, 0.0, 0.0, 0.0, 0.0, 0.0, 0.0, 0.0, 0.0, 0.0, 0.0, 0.0, 0.0, 0.0, 0.0, 0.0], [0.19288603961467743, 0.11343874782323837, 0.04530508071184158, 0.08361203223466873, 0.05763271078467369, 0.11914193630218506, 0.11441227048635483, 0.12364519387483597, 0.07640959322452545, 0.07351642102003098, 0.0, 0.0, 0.0, 0.0, 0.0, 0.0, 0.0, 0.0, 0.0, 0.0, 0.0, 0.0, 0.0, 0.0, 0.0, 0.0, 0.0, 0.0, 0.0, 0.0, 0.0, 0.0, 0.0], [0.2517409026622772, 0.06019411236047745, 0.049302101135253906, 0.0592232383787632, 0.08453337848186493, 0.07307686656713486, 0.12308556586503983, 0.08293969929218292, 0.06380270421504974, 0.07185833156108856, 0.08024312555789948, 0.0, 0.0, 0.0, 0.0, 0.0, 0.0, 0.0, 0.0, 0.0, 0.0, 0.0, 0.0, 0.0, 0.0, 0.0, 0.0, 0.0, 0.0, 0.0, 0.0, 0.0, 0.0], [0.24793605506420135, 0.04855773597955704, 0.0617169626057148, 0.06616785377264023, 0.08788599818944931, 0.0592038594186306, 0.09128587692975998, 0.06866814196109772, 0.06062866374850273, 0.08399353176355362, 0.06569414585828781, 0.0582612007856369, 0.0, 0.0, 0.0, 0.0, 0.0, 0.0, 0.0, 0.0, 0.0, 0.0, 0.0, 0.0, 0.0, 0.0, 0.0, 0.0, 0.0, 0.0, 0.0, 0.0, 0.0], [0.15039603412151337, 0.0707230269908905, 0.03618801757693291, 0.03812885656952858, 0.05496574193239212, 0.0955279991030693, 0.1278020441532135, 0.09101751446723938, 0.04133946821093559, 0.06619423627853394, 0.11493083834648132, 0.03526816517114639, 0.07751810550689697, 0.0, 0.0, 0.0, 0.0, 0.0, 0.0, 0.0, 0.0, 0.0, 0.0, 0.0, 0.0, 0.0, 0.0, 0.0, 0.0, 0.0, 0.0, 0.0, 0.0], [0.21730750799179077, 0.052248746156692505, 0.042796891182661057, 0.05130989849567413, 0.07021073251962662, 0.06084863469004631, 0.10094167292118073, 0.06729137897491455, 0.05347270518541336, 0.058032404631376266, 0.06386599689722061, 0.04143684357404709, 0.05429814010858536, 0.06593841314315796, 0.0, 0.0, 0.0, 0.0, 0.0, 0.0, 0.0, 0.0, 0.0, 0.0, 0.0, 0.0, 0.0, 0.0, 0.0, 0.0, 0.0, 0.0, 0.0], [0.14158987998962402, 0.08735614269971848, 0.04109629988670349, 0.07771319150924683, 0.06641591340303421, 0.06084614619612694, 0.07890869677066803, 0.06467181444168091, 0.041567541658878326, 0.05314026400446892, 0.06033194065093994, 0.04990345239639282, 0.06147688254714012, 0.06152055412530899, 0.05346130579710007, 0.0, 0.0, 0.0, 0.0, 0.0, 0.0, 0.0, 0.0, 0.0, 0.0, 0.0, 0.0, 0.0, 0.0, 0.0, 0.0, 0.0, 0.0], [0.11277394741773605, 0.05140271037817001, 0.03480073809623718, 0.044109947979450226, 0.04927102103829384, 0.08066023886203766, 0.09371130913496017, 0.07634278386831284, 0.034600723534822464, 0.05556501820683479, 0.09000372141599655, 0.027950912714004517, 0.05808687582612038, 0.09759878367185593, 0.0585305392742157, 0.03459075838327408, 0.0, 0.0, 0.0, 0.0, 0.0, 0.0, 0.0, 0.0, 0.0, 0.0, 0.0, 0.0, 0.0, 0.0, 0.0, 0.0, 0.0], [0.19136790931224823, 0.04588800668716431, 0.03718419745564461, 0.044788479804992676, 0.058455392718315125, 0.051623113453388214, 0.0845179632306099, 0.056617312133312225, 0.04477924108505249, 0.04681584611535072, 0.05177520960569382, 0.03474307432770729, 0.043655939400196075, 0.05257751792669296, 0.04571910575032234, 0.05523938313126564, 0.05425223708152771, 0.0, 0.0, 0.0, 0.0, 0.0, 0.0, 0.0, 0.0, 0.0, 0.0, 0.0, 0.0, 0.0, 0.0, 0.0, 0.0], [0.1780986785888672, 0.03651317581534386, 0.035378023982048035, 0.04660060629248619, 0.05606747046113014, 0.05542529374361038, 0.06580900400876999, 0.05869591236114502, 0.04460207372903824, 0.03845332935452461, 0.055220697075128555, 0.02812929078936577, 0.03887631371617317, 0.056352075189352036, 0.04307204484939575, 0.04859213903546333, 0.05801299586892128, 0.056100860238075256, 0.0, 0.0, 0.0, 0.0, 0.0, 0.0, 0.0, 0.0, 0.0, 0.0, 0.0, 0.0, 0.0, 0.0, 0.0], [0.11277125775814056, 0.044163431972265244, 0.016790850088000298, 0.03922898694872856, 0.030570218339562416, 0.08429383486509323, 0.058298319578170776, 0.07985572516918182, 0.027740227058529854, 0.02460792474448681, 0.08568026125431061, 0.012135532684624195, 0.021223630756139755, 0.08979953825473785, 0.024395644664764404, 0.018000083044171333, 0.09797864407300949, 0.08564861118793488, 0.04681729897856712, 0.0, 0.0, 0.0, 0.0, 0.0, 0.0, 0.0, 0.0, 0.0, 0.0, 0.0, 0.0, 0.0, 0.0], [0.15648680925369263, 0.04359337314963341, 0.02946912683546543, 0.02338278666138649, 0.03989394009113312, 0.06601446121931076, 0.07239894568920135, 0.049598775804042816, 0.025720085948705673, 0.028729889541864395, 0.07268746942281723, 0.02010437287390232, 0.03894994035363197, 0.0779348611831665, 0.0318501740694046, 0.02957259677350521, 0.08162924647331238, 0.04983031004667282, 0.04757083207368851, 0.014582021161913872, 0.0, 0.0, 0.0, 0.0, 0.0, 0.0, 0.0, 0.0, 0.0, 0.0, 0.0, 0.0, 0.0], [0.16675156354904175, 0.04021674767136574, 0.031946271657943726, 0.039155539125204086, 0.04867973551154137, 0.043519359081983566, 0.07027734071016312, 0.046769797801971436, 0.0373704694211483, 0.037859510630369186, 0.04185349494218826, 0.029438788071274757, 0.034967031329870224, 0.041871536523103714, 0.0366596020758152, 0.044189490377902985, 0.04244700446724892, 0.043090008199214935, 0.05540824308991432, 0.024029972031712532, 0.04349849000573158, 0.0, 0.0, 0.0, 0.0, 0.0, 0.0, 0.0, 0.0, 0.0, 0.0, 0.0, 0.0], [0.21311701834201813, 0.03452147915959358, 0.026512039825320244, 0.037284668534994125, 0.042002297937870026, 0.05378074571490288, 0.06410716474056244, 0.04019590839743614, 0.02951396070420742, 0.030562065541744232, 0.04814048483967781, 0.01964574307203293, 0.02385598048567772, 0.04712360352277756, 0.02780524268746376, 0.025632813572883606, 0.04690321162343025, 0.04211502894759178, 0.04245339706540108, 0.016209980472922325, 0.047201551496982574, 0.04131558910012245, 0.0, 0.0, 0.0, 0.0, 0.0, 0.0, 0.0, 0.0, 0.0, 0.0, 0.0], [0.16099104285240173, 0.031492140144109726, 0.025506015866994858, 0.03203628212213516, 0.0381193608045578, 0.05386462062597275, 0.05289199575781822, 0.06297366321086884, 0.03872942179441452, 0.030703019350767136, 0.048614997416734695, 0.016964135691523552, 0.02098487876355648, 0.04743490368127823, 0.026178566738963127, 0.03281703591346741, 0.04874100536108017, 0.037023063749074936, 0.050284434109926224, 0.014425939880311489, 0.049269210547208786, 0.02748514898121357, 0.052469126880168915, 0.0, 0.0, 0.0, 0.0, 0.0, 0.0, 0.0, 0.0, 0.0, 0.0], [0.13924191892147064, 0.04732196033000946, 0.022920072078704834, 0.03782673180103302, 0.037331584841012955, 0.05628195405006409, 0.06773106008768082, 0.06383748352527618, 0.02882455661892891, 0.028368614614009857, 0.05008405074477196, 0.014775178395211697, 0.021058905869722366, 0.04819712042808533, 0.017685124650597572, 0.015456229448318481, 0.048427969217300415, 0.03709954768419266, 0.04247326776385307, 0.018426820635795593, 0.0486132986843586, 0.022673968225717545, 0.05998958647251129, 0.02535296604037285, 0.0, 0.0, 0.0, 0.0, 0.0, 0.0, 0.0, 0.0, 0.0], [0.1956235021352768, 0.032333288341760635, 0.02287408895790577, 0.03839075192809105, 0.03449877351522446, 0.046169064939022064, 0.05553749203681946, 0.03960668668150902, 0.02309839241206646, 0.024249278008937836, 0.04043305292725563, 0.01607854850590229, 0.021624954417347908, 0.039030563086271286, 0.026520883664488792, 0.028113417327404022, 0.03823630139231682, 0.03542613238096237, 0.041745737195014954, 0.021097134798765182, 0.03767953813076019, 0.03728693351149559, 0.04423923417925835, 0.022921519353985786, 0.03718467056751251, 0.0, 0.0, 0.0, 0.0, 0.0, 0.0, 0.0, 0.0], [0.05819650739431381, 0.03889740630984306, 0.02600524201989174, 0.023567894473671913, 0.022979984059929848, 0.05384150892496109, 0.058061063289642334, 0.06858772039413452, 0.0374598391354084, 0.02915908955037594, 0.05474674329161644, 0.013592950068414211, 0.027647051960229874, 0.05575401708483696, 0.030779870226979256, 0.01613735966384411, 0.05745426192879677, 0.03968729078769684, 0.03406553715467453, 0.013110978528857231, 0.05977656692266464, 0.01604376547038555, 0.029699303209781647, 0.02056654915213585, 0.08347288519144058, 0.03070860728621483, 0.0, 0.0, 0.0, 0.0, 0.0, 0.0, 0.0], [0.15561483800411224, 0.030323190614581108, 0.021067574620246887, 0.03860042244195938, 0.025089256465435028, 0.04719521477818489, 0.042556483298540115, 0.051662590354681015, 0.030368125066161156, 0.020133627578616142, 0.042556967586278915, 0.018511777743697166, 0.01867172308266163, 0.041430290788412094, 0.02202213555574417, 0.02106102555990219, 0.041666179895401, 0.027249224483966827, 0.040481582283973694, 0.01553642563521862, 0.04219620302319527, 0.017007362097501755, 0.06220950558781624, 0.015703169628977776, 0.05443187803030014, 0.040924072265625, 0.015729237347841263, 0.0, 0.0, 0.0, 0.0, 0.0, 0.0], [0.1521887332201004, 0.032320473343133926, 0.02627761848270893, 0.03215136379003525, 0.0370805449783802, 0.038433339446783066, 0.04218520224094391, 0.03440919890999794, 0.029296185821294785, 0.024752281606197357, 0.03461231291294098, 0.021795082837343216, 0.023419685661792755, 0.03386644646525383, 0.028580613434314728, 0.034403253346681595, 0.03315696865320206, 0.026710420846939087, 0.04213564470410347, 0.019021352753043175, 0.032785799354314804, 0.026840003207325935, 0.03304457291960716, 0.02330264262855053, 0.033900342881679535, 0.03944922611117363, 0.021334242075681686, 0.042546454817056656, 0.0, 0.0, 0.0, 0.0, 0.0], [0.10210392624139786, 0.048305340111255646, 0.027957910671830177, 0.028134869411587715, 0.043688926845788956, 0.03765961527824402, 0.04012180119752884, 0.03589581698179245, 0.024491777643561363, 0.019768042489886284, 0.03467407450079918, 0.015431452542543411, 0.03261655569076538, 0.034143395721912384, 0.027461379766464233, 0.020323196426033974, 0.034458402544260025, 0.01582757942378521, 0.030705826357007027, 0.020360929891467094, 0.03558043763041496, 0.03479030355811119, 0.03518148884177208, 0.02857259474694729, 0.04333387687802315, 0.038963887840509415, 0.017587684094905853, 0.04553377628326416, 0.046325091272592545, 0.0, 0.0, 0.0, 0.0], [0.1184174120426178, 0.026689790189266205, 0.028547653928399086, 0.03516455739736557, 0.03519093245267868, 0.03070487454533577, 0.04254689812660217, 0.023103507235646248, 0.025463107973337173, 0.02967853471636772, 0.028395213186740875, 0.01917826570570469, 0.02383357286453247, 0.027640022337436676, 0.03381752595305443, 0.039640143513679504, 0.027574429288506508, 0.02185617946088314, 0.03966764733195305, 0.03941834717988968, 0.02711561508476734, 0.03049808368086815, 0.03493283689022064, 0.032320547848939896, 0.027840565890073776, 0.038775768131017685, 0.021124791353940964, 0.03861143812537193, 0.03277181461453438, 0.01947997882962227, 0.0, 0.0, 0.0], [0.054337915033102036, 0.019247837364673615, 0.011686460115015507, 0.014118611812591553, 0.013909771107137203, 0.05736805498600006, 0.0345463827252388, 0.04665059596300125, 0.013026447035372257, 0.013271286152303219, 0.059527721256017685, 0.009063145145773888, 0.017364205792546272, 0.06135564297437668, 0.012634649872779846, 0.015145528130233288, 0.06425531953573227, 0.04627063870429993, 0.019556349143385887, 0.012543466873466969, 0.06913559138774872, 0.034823693335056305, 0.03000595234334469, 0.012261820957064629, 0.07985592633485794, 0.018996434286236763, 0.010722927749156952, 0.0865454450249672, 0.01717408373951912, 0.022144166752696037, 0.022453967481851578, 0.0, 0.0], [0.058496441692113876, 0.034377384930849075, 0.01360310334712267, 0.024170435965061188, 0.01900586485862732, 0.0654640793800354, 0.03062296472489834, 0.03573205694556236, 0.018859457224607468, 0.012241480872035027, 0.06282185763120651, 0.011835742741823196, 0.009552355855703354, 0.06431794911623001, 0.021589569747447968, 0.010912966914474964, 0.06665909290313721, 0.023997467011213303, 0.026596762239933014, 0.006153557449579239, 0.06984328478574753, 0.03723869472742081, 0.030046718195080757, 0.021686818450689316, 0.04364059865474701, 0.021209610626101494, 0.013490455225110054, 0.04632722958922386, 0.020434502512216568, 0.013362258672714233, 0.018568988889455795, 0.04714022949337959, 0.0], [0.13528688251972198, 0.029733380302786827, 0.026111336424946785, 0.037535760551691055, 0.038881566375494, 0.0331667922437191, 0.048243895173072815, 0.030468303710222244, 0.026038210839033127, 0.024123696610331535, 0.027892740443348885, 0.02270994521677494, 0.024185286834836006, 0.026114553213119507, 0.023209666833281517, 0.025175288319587708, 0.024614792317152023, 0.02112315036356449, 0.029685044661164284, 0.01816748082637787, 0.023064378648996353, 0.02059808559715748, 0.03441140055656433, 0.021083397790789604, 0.02253883332014084, 0.032281551510095596, 0.013987243175506592, 0.024144940078258514, 0.02700229175388813, 0.012929449789226055, 0.03616538643836975, 0.02684023045003414, 0.03248503804206848]]], \"headLabels\": [\"L0H0\", \"L0H1\", \"L0H2\", \"L0H3\", \"L0H4\", \"L0H5\", \"L0H6\", \"L0H7\", \"L0H8\", \"L0H9\", \"L0H10\", \"L0H11\"]}\n",
              "    )\n",
              "    </script>"
            ]
          },
          "metadata": {}
        }
      ],
      "source": [
        "print(type(gpt2_cache))\n",
        "attention_pattern = gpt2_cache[\"pattern\", 0]\n",
        "print(attention_pattern.shape)\n",
        "gpt2_str_tokens = gpt2_small.to_str_tokens(gpt2_text)\n",
        "\n",
        "print(\"Layer 0 Head Attention Patterns:\")\n",
        "display(cv.attention.attention_patterns(\n",
        "    tokens=gpt2_str_tokens,\n",
        "    attention=attention_pattern,\n",
        "    attention_head_names=[f\"L0H{i}\" for i in range(12)],\n",
        "))"
      ]
    },
    {
      "cell_type": "markdown",
      "metadata": {
        "id": "sDvQvf3nGlgp"
      },
      "source": [
        "Hover over heads to see the attention patterns; click on a head to lock it. Hover over each token to see which other tokens it attends to (or which other tokens attend to it - you can see this by changing the dropdown to `Destination <- Source`).\n"
      ]
    },
    {
      "cell_type": "markdown",
      "source": [
        "\n",
        "<details>\n",
        "<summary>Other circuitsvis functions - neuron activations</summary>\n",
        "\n",
        "The `circuitsvis` library also has a number of cool visualisations for **neuron activations**. Here are some more of them (you don't have to understand them all now, but you can come back to them later).\n",
        "\n",
        "The function below visualises neuron activations. The example shows just one sequence, but it can also show multiple sequences (if `tokens` is a list of lists of strings, and `activations` is a list of tensors).\n",
        "\n",
        "```python\n",
        "neuron_activations_for_all_layers = t.stack([\n",
        "    gpt2_cache[\"post\", layer] for layer in range(gpt2_small.cfg.n_layers)\n",
        "], dim=1)\n",
        "# shape = (seq_pos, layers, neurons)\n",
        "\n",
        "cv.activations.text_neuron_activations(\n",
        "    tokens=gpt2_str_tokens,\n",
        "    activations=neuron_activations_for_all_layers\n",
        ")\n",
        "```\n",
        "\n",
        "The next function shows which words each of the neurons activates most / least on (note that it requires some weird indexing to work correctly).\n",
        "\n",
        "```python\n",
        "neuron_activations_for_all_layers_rearranged = utils.to_numpy(einops.rearrange(neuron_activations_for_all_layers, \"seq layers neurons -> 1 layers seq neurons\"))\n",
        "\n",
        "cv.topk_tokens.topk_tokens(\n",
        "    # Some weird indexing required here ¯\\_(ツ)_/¯\n",
        "    tokens=[gpt2_str_tokens],\n",
        "    activations=neuron_activations_for_all_layers_rearranged,\n",
        "    max_k=7,\n",
        "    first_dimension_name=\"Layer\",\n",
        "    third_dimension_name=\"Neuron\",\n",
        "    first_dimension_labels=list(range(12))\n",
        ")\n",
        "```\n",
        "</details>"
      ],
      "metadata": {
        "id": "DV4pHPMSMROZ"
      }
    },
    {
      "cell_type": "code",
      "source": [
        "neuron_activations_for_all_layers = t.stack([\n",
        "    gpt2_cache[\"post\", layer] for layer in range(gpt2_small.cfg.n_layers)\n",
        "], dim=1)\n",
        "# shape = (seq_pos, layers, neurons)\n",
        "\n",
        "cv.activations.text_neuron_activations(\n",
        "    tokens=gpt2_str_tokens,\n",
        "    activations=neuron_activations_for_all_layers\n",
        ")"
      ],
      "metadata": {
        "id": "zDKSb65UM7Hj"
      },
      "execution_count": null,
      "outputs": []
    },
    {
      "cell_type": "code",
      "source": [
        "neuron_activations_for_all_layers_rearranged = utils.to_numpy(einops.rearrange(neuron_activations_for_all_layers, \"seq layers neurons -> 1 layers seq neurons\"))\n",
        "\n",
        "cv.topk_tokens.topk_tokens(\n",
        "    # Some weird indexing required here ¯\\_(ツ)_/¯\n",
        "    tokens=[gpt2_str_tokens],\n",
        "    activations=neuron_activations_for_all_layers_rearranged,\n",
        "    max_k=7,\n",
        "    first_dimension_name=\"Layer\",\n",
        "    third_dimension_name=\"Neuron\",\n",
        "    first_dimension_labels=list(range(12))\n",
        ")"
      ],
      "metadata": {
        "id": "26fNOTAhNMTH"
      },
      "execution_count": null,
      "outputs": []
    },
    {
      "cell_type": "markdown",
      "metadata": {
        "id": "c9dS0gMOGrOZ"
      },
      "source": [
        "# 2️⃣ Finding induction heads\n"
      ]
    },
    {
      "cell_type": "markdown",
      "metadata": {
        "id": "8paALp2IGyqR"
      },
      "source": [
        "> ##### Learning objectives\n",
        ">\n",
        "> - Understand what induction heads are, and the algorithm they are implementing\n",
        "> - Inspect activation patterns to identify basic attention head patterns, and write your own functions to detect attention heads for you\n",
        "> - Identify induction heads by looking at the attention patterns produced from a repeating random sequence\n"
      ]
    },
    {
      "cell_type": "markdown",
      "metadata": {
        "id": "OclKuCm_G4EI"
      },
      "source": [
        "## Introducing Our Toy Attention-Only Model\n",
        "\n",
        "Here we introduce a toy 2L attention-only transformer trained specifically for today. Some changes to make them easier to interpret:\n",
        "- It has only attention blocks.\n",
        "- The positional embeddings are only added to the residual stream before each key and query vector in the attention layers as opposed to the token embeddings - i.e. we compute queries as `Q = (resid + pos_embed) @ W_Q + b_Q` and same for keys, but values as `V = resid @ W_V + b_V`. This means that **the residual stream can't directly encode positional information**.\n",
        "    - This turns out to make it *way* easier for induction heads to form, it happens 2-3x times earlier - [see the comparison of two training runs](https://wandb.ai/mechanistic-interpretability/attn-only/reports/loss_ewma-22-08-24-11-08-83---VmlldzoyNTI0MDMz?accessToken=8ap8ir6y072uqa4f9uinotdtrwmoa8d8k2je4ec0lyasf1jcm3mtdh37ouijgdbm) here. (The bump in each curve is the formation of induction heads.)\n",
        "    - The argument that does this below is `positional_embedding_type=\"shortformer\"`.\n",
        "- It has no MLP layers, no LayerNorms, and no biases.\n",
        "- There are separate embed and unembed matrices (i.e. the weights are not tied).\n",
        "\n",
        "\\*In other words, we compute\n",
        "\n",
        "We now define our model with a `HookedTransformerConfig` object. This is similar to the `Config` object we used in the previous set of exercises, although it has a lot more features. You can look at the documentation page (Right-click, \"Go to Definition\" in VSCode) to seee what the different arguments do.\n"
      ]
    },
    {
      "cell_type": "code",
      "execution_count": null,
      "metadata": {
        "id": "Az0iWVMUGnIy"
      },
      "outputs": [],
      "source": [
        "cfg = HookedTransformerConfig(\n",
        "    d_model=768,\n",
        "    d_head=64,\n",
        "    n_heads=12,\n",
        "    n_layers=2,\n",
        "    n_ctx=2048,\n",
        "    d_vocab=50278,\n",
        "    attention_dir=\"causal\",\n",
        "    attn_only=True, # defaults to False\n",
        "    tokenizer_name=\"EleutherAI/gpt-neox-20b\",\n",
        "    seed=398,\n",
        "    use_attn_result=True,\n",
        "    normalization_type=None, # defaults to \"LN\", i.e. layernorm with weights & biases\n",
        "    positional_embedding_type=\"shortformer\"\n",
        ")"
      ]
    },
    {
      "cell_type": "markdown",
      "metadata": {
        "id": "YSK_0Z0EG8vE"
      },
      "source": [
        "<details>\n",
        "<summary>An aside about tokenizers</summary>\n",
        "\n",
        "In the last section, we defined a tokenizer explicitly, and passed it into our model. But here, we just pass a tokenizer name. The model automatically creates a tokenizer for us (under the hood, it calls `AutoTokenizer.from_pretrained(tokenizer_name)`).\n",
        "</details>\n",
        "\n",
        "Below, you'll load in your weights, with some boilerplate code to download your state dict from HuggingFace (you can do this for any model you've uploaded to HuggingFace yourself):\n"
      ]
    },
    {
      "cell_type": "code",
      "execution_count": null,
      "metadata": {
        "id": "ZiO18Aj6hNnK"
      },
      "outputs": [],
      "source": [
        "from huggingface_hub import hf_hub_download\n",
        "\n",
        "REPO_ID = \"callummcdougall/attn_only_2L_half\"\n",
        "FILENAME = \"attn_only_2L_half.pth\"\n",
        "\n",
        "weights_path = hf_hub_download(repo_id=REPO_ID, filename=FILENAME)"
      ]
    },
    {
      "cell_type": "markdown",
      "metadata": {
        "id": "uh9NhPrBhNnK"
      },
      "source": [
        "Finally, we'll create our model and load in the weights:\n"
      ]
    },
    {
      "cell_type": "code",
      "execution_count": null,
      "metadata": {
        "id": "mkwIxlMgHDcV"
      },
      "outputs": [],
      "source": [
        "model = HookedTransformer(cfg)\n",
        "pretrained_weights = t.load(weights_path, map_location=device)\n",
        "model.load_state_dict(pretrained_weights)"
      ]
    },
    {
      "cell_type": "markdown",
      "metadata": {
        "id": "aI2rp_mKHFGC"
      },
      "source": [
        "Use the [diagram at this link](https://raw.githubusercontent.com/callummcdougall/computational-thread-art/master/example_images/misc/small-merm.svg) to remind yourself of the relevant hook names.\n"
      ]
    },
    {
      "cell_type": "markdown",
      "metadata": {
        "id": "vBDA1EbxHL5R"
      },
      "source": [
        "### Exercise - visualise attention patterns\n",
        "\n",
        "```c\n",
        "Difficulty: 🔴🔴⚪⚪⚪\n",
        "Importance: 🔵🔵🔵⚪⚪\n",
        "\n",
        "You should spend up to ~10 minutes on this exercise.\n",
        "\n",
        "It's important to be comfortable using circuitsvis, and the cache object.\n",
        "```\n",
        "\n",
        "*This exercise should be very quick - you can reuse code from the previous section. You should look at the solution if you're still stuck after 5-10 minutes.*\n",
        "\n",
        "Visualise the attention patterns for both layers of your model, on the following prompt:\n"
      ]
    },
    {
      "cell_type": "code",
      "execution_count": null,
      "metadata": {
        "id": "wF2PES1PHVSf"
      },
      "outputs": [],
      "source": [
        "text = \"We think that powerful, significantly superhuman machine intelligence is more likely than not to be created this century. If current machine learning techniques were scaled up to this level, we think they would by default produce systems that are deceptive or manipulative, and that no solid plans are known for how to avoid this.\"\n",
        "\n",
        "logits, cache = model.run_with_cache(text, remove_batch_dim=True)"
      ]
    },
    {
      "cell_type": "markdown",
      "metadata": {
        "id": "JwukbB_qHS7c"
      },
      "source": [
        "*(Note that we've run the model on the string `text`, rather than on tokens like we did previously when creating a cache - this is something that `HookedTransformer` allows.)*\n",
        "\n",
        "Inspect the attention patterns. What do you notice about the attention heads?\n",
        "\n",
        "You should spot three relatively distinctive basic patterns, which occur in multiple heads. What are these patterns, and can you guess why they might be present?\n",
        "\n",
        "<details>\n",
        "<summary>Aside - what to do if your plots won't show up</summary>\n",
        "\n",
        "A common mistake is to fail to pass the tokens in as arguments. If you do this, your attention patterns won't render.\n",
        "\n",
        "If this isn't the problem, then it might be an issue with the Circuitsvis library.Rather than plotting inline, you can do the following, and then open in your browser from the left-hand file explorer menu of VSCode:\n",
        "</details>\n"
      ]
    },
    {
      "cell_type": "code",
      "execution_count": null,
      "metadata": {
        "id": "WC23gqMaHfRf"
      },
      "outputs": [],
      "source": [
        "# YOUR CODE HERE - visualize attention"
      ]
    },
    {
      "cell_type": "markdown",
      "metadata": {
        "id": "A00EWF9WHUQX"
      },
      "source": [
        "<details>\n",
        "<summary>Discussion of results </summary>\n",
        "\n",
        "We notice that there are three basic patterns which repeat quite frequently:\n",
        "\n",
        "* `prev_token_heads`, which attend mainly to the previous token (e.g. head `0.7`)\n",
        "* `current_token_heads`, which attend mainly to the current token (e.g. head `1.6`)\n",
        "* `first_token_heads`, which attend mainly to the first token (e.g. heads `0.3` or `1.4`, although these are a bit less clear-cut than the other two)\n",
        "\n",
        "The `prev_token_heads` and `current_token_heads` are perhaps unsurprising, because words that are close together in a sequence probably have a lot more mutual information (i.e. we could get quite far using bigram or trigram prediction).\n",
        "\n",
        "The `first_token_heads` are a bit more surprising. The basic intuition here is that the first token in a sequence is often used as a resting or null position for heads that only sometimes activate (since our attention probabilities always have to add up to 1).\n",
        "</details>\n"
      ]
    },
    {
      "cell_type": "markdown",
      "metadata": {
        "id": "Od-uDxRaHUOQ"
      },
      "source": [
        "Now that we've observed our three basic attention patterns, it's time to make detectors for those patterns!\n"
      ]
    },
    {
      "cell_type": "markdown",
      "metadata": {
        "id": "aGXkm-zgHUL9"
      },
      "source": [
        "### Exercise - write your own detectors\n",
        "\n",
        "```c\n",
        "Difficulty: 🔴🔴⚪⚪⚪\n",
        "Importance: 🔵🔵🔵⚪⚪\n",
        "\n",
        "You shouldn't spend more than 15-20 minutes on these exercises.\n",
        "\n",
        "These exercises shouldn't be too challenging, if you understand attention patterns. Use the hint if stuck on things like how to correctly index your tensors, or how to access the activation patterns from the cache.\n",
        "```\n",
        "\n",
        "You should fill in the functions below, which act as detectors for particular types of heads. Validate your detectors by comparing these results to the visual attention patterns above - summary statistics on their own can be dodgy, but are much more reliable if you can validate it by directly playing with the data.\n",
        "\n",
        "Tasks like this are useful, because we need to be able to take our observations / intuitions about what a model is doing, and translate these into quantitative measures. As the exercises proceed, we'll be creating some much more interesting tools and detectors!\n",
        "\n",
        "Note - there's no objectively correct answer for which heads are doing which tasks, and which detectors can spot them. You should just try and come up with something plausible-seeming, which identifies the kind of behaviour you're looking for.\n"
      ]
    },
    {
      "cell_type": "code",
      "execution_count": null,
      "metadata": {
        "id": "3kGccWbxH7oV"
      },
      "outputs": [],
      "source": [
        "def current_attn_detector(cache: ActivationCache) -> list[str]:\n",
        "    '''\n",
        "    Returns a list e.g. [\"0.2\", \"1.4\", \"1.9\"] of \"layer.head\" which you judge to be current-token heads\n",
        "    '''\n",
        "    pass\n",
        "\n",
        "\n",
        "def prev_attn_detector(cache: ActivationCache) -> list[str]:\n",
        "    '''\n",
        "    Returns a list e.g. [\"0.2\", \"1.4\", \"1.9\"] of \"layer.head\" which you judge to be prev-token heads\n",
        "    '''\n",
        "    pass\n",
        "\n",
        "\n",
        "def first_attn_detector(cache: ActivationCache) -> list[str]:\n",
        "    '''\n",
        "    Returns a list e.g. [\"0.2\", \"1.4\", \"1.9\"] of \"layer.head\" which you judge to be first-token heads\n",
        "    '''\n",
        "    pass\n",
        "\n",
        "\n",
        "print(\"Heads attending to current token  = \", \", \".join(current_attn_detector(cache)))\n",
        "print(\"Heads attending to previous token = \", \", \".join(prev_attn_detector(cache)))\n",
        "print(\"Heads attending to first token    = \", \", \".join(first_attn_detector(cache)))"
      ]
    },
    {
      "cell_type": "markdown",
      "metadata": {
        "id": "21HXRwbSSy_8"
      },
      "source": [
        "<details>\n",
        "<summary>Hint</summary>\n",
        "\n",
        "Try and compute the average attention probability along the relevant tokens. For instance, you can get the tokens just below the diagonal by using `t.diagonal` with appropriate `offset` parameter:\n",
        "\n",
        "```python\n",
        ">>> arr = t.arange(9).reshape(3, 3)\n",
        ">>> arr\n",
        "tensor([[0, 1, 2],\n",
        "        [3, 4, 5],\n",
        "        [6, 7, 8]])\n",
        "\n",
        ">>> arr.diagonal()\n",
        "tensor([0, 4, 8])\n",
        "\n",
        ">>> arr.diagonal(-1)\n",
        "tensor([3, 7])\n",
        "```\n",
        "\n",
        "Remember that you should be using `cache[\"pattern\", layer]` to get all the attention probabilities for a given layer, and then indexing on the 0th dimension to get the correct head.\n",
        "</details>\n"
      ]
    },
    {
      "cell_type": "markdown",
      "metadata": {
        "id": "HAxjI6Q9HUJx"
      },
      "source": [
        "Compare the printouts to your attention visualisations above. Do they seem to make sense?\n",
        "\n",
        "### Bonus - try different text\n",
        "\n",
        "Try inputting different text, and see how stable your results are. Do you always get the same classifications for heads?\n"
      ]
    },
    {
      "cell_type": "markdown",
      "metadata": {
        "id": "XsZy1UBgHUHU"
      },
      "source": [
        "Now, it's time to turn our attention to induction heads.\n",
        "\n",
        "## What are induction heads?\n",
        "\n",
        "(Note: I use induction **head** to refer to the head in the second layer which attends to the 'token immediately after the copy of the current token', and induction **circuit** to refer to the circuit consisting of the composition of a **previous token head** in layer 0 and an **induction head** in layer 1)\n",
        "\n",
        "[Induction heads](https://transformer-circuits.pub/2021/framework/index.html#induction-heads) are the first sophisticated circuit we see in transformers! And are sufficiently interesting that we wrote [another paper just about them](https://transformer-circuits.pub/2022/in-context-learning-and-induction-heads/index.html).\n",
        "\n",
        "<details>\n",
        "<summary>An aside on why induction heads are a big deal</summary>\n",
        "\n",
        "There's a few particularly striking things about induction heads:\n",
        "\n",
        "* They develop fairly suddenly in a phase change - from about 2B to 4B tokens we go from no induction heads to pretty well developed ones. This is a striking divergence from a 1L model [see the comparison of in context learning performance curves curves for models with different layers](https://transformer-circuits.pub/2022/in-context-learning-and-induction-heads/index.html#:~:text=Our%20first%20observation) and can be observed in much larger models (eg a 13B one)\n",
        "    * Phase changes are particularly interesting (and depressing) from an alignment perspective, because the prospect of a sharp left turn, or emergent capabilities like deception or situational awareness seems like worlds where alignment may be harder, and we get caught by surprise without warning shots or simpler but analogous models to test our techniques on.\n",
        "* They are responsible for a significant loss decrease - so much so that there's a visible bump in the loss curve when they develop (this change in loss can be pretty comparable to the increase in loss from major increases in model size, though this is hard to make an apples-to-apples comparison)\n",
        "* They seem to be responsible for the vast majority of in-context learning - the ability to use far back tokens in the context to predict the next token. This is a significant way in which transformers outperform older architectures like RNNs or LSTMs, and induction heads seem to be a big part of this.\n",
        "* The same core circuit seems to be used in a bunch of more sophisticated settings, such as translation or few-shot learning - there are heads that seem clearly responsible for those *and* which double as induction heads.\n",
        "\n",
        "</details>\n",
        "\n",
        "Again, you are strongly recommended to read the [corresponding section of the glossary](https://dynalist.io/d/n2ZWtnoYHrU1s4vnFSAQ519J#z=_Jzi6YHRHKP1JziwdE02qdYZ), before continuing (or [this LessWrong post](https://www.lesswrong.com/posts/TvrfY4c9eaGLeyDkE/induction-heads-illustrated)). In brief, however, the induction circuit consists of a previous token head in layer 0 and an induction head in layer 1, where the induction head learns to attend to the token immediately *after* copies of the current token via K-Composition with the previous token head.\n",
        "\n",
        "##### Question - why couldn't an induction head form in a 1L model?\n",
        "\n",
        "<details>\n",
        "<summary>Answer</summary>\n",
        "\n",
        "Because this would require a head which attends a key position based on the *value of the token before it*. Attention scores are just a function of the key token and the query token, and are not a function of other tokens.\n",
        "\n",
        "(The attention pattern *does* in fact include effects from other tokens because of softmax - if another key token has a high attention score, softmax inhibits this pair. But this inhibition is symmetric across positions, so can't systematically favour the token *next* to the relevant one.)\n",
        "\n",
        "Note that a key detail is that the value of adjacent tokens are (approximately) unrelated - if the model wanted to attend based on relative *position* this is easy.\n",
        "</details>\n"
      ]
    },
    {
      "cell_type": "markdown",
      "metadata": {
        "id": "mejpDZlBHUEL"
      },
      "source": [
        "## Checking for the induction capability\n",
        "\n",
        "A striking thing about models with induction heads is that, given a repeated sequence of random tokens, they can predict the repeated half of the sequence. This is nothing like it's training data, so this is kind of wild! The ability to predict this kind of out of distribution generalisation is a strong point of evidence that you've really understood a circuit.\n",
        "\n",
        "To check that this model has induction heads, we're going to run it on exactly that, and compare performance on the two halves - you should see a striking difference in the per token losses.\n",
        "\n",
        "Note - we're using small sequences (and just one sequence), since the results are very obvious and this makes it easier to visualise. In practice we'd obviously use larger ones on more subtle tasks. But it's often easiest to iterate and debug on small tasks.\n"
      ]
    },
    {
      "cell_type": "markdown",
      "metadata": {
        "id": "--Rc6KozHT-1"
      },
      "source": [
        "### Exercise - plot per-token loss on repeated sequence\n",
        "\n",
        "```c\n",
        "Difficulty: 🔴🔴⚪⚪⚪\n",
        "Importance: 🔵🔵⚪⚪⚪\n",
        "\n",
        "You shouldn't spend more than 10-15 minutes on these exercises.\n",
        "```\n",
        "\n",
        "You should fill in the functions below. We've given you the first line of the first function, which defines a prefix (remember we need the BOS token for GPT-2, since it was trained to have one).\n"
      ]
    },
    {
      "cell_type": "code",
      "execution_count": null,
      "metadata": {
        "id": "APlyxd32IWzV"
      },
      "outputs": [],
      "source": [
        "def generate_repeated_tokens(\n",
        "    model: HookedTransformer, seq_len: int, batch: int = 1\n",
        ") -> Int[Tensor, \"batch full_seq_len\"]:\n",
        "    '''\n",
        "    Generates a sequence of repeated random tokens\n",
        "\n",
        "    Outputs are:\n",
        "        rep_tokens: [batch, 1+2*seq_len]\n",
        "    '''\n",
        "    pass\n",
        "\n",
        "\n",
        "def run_and_cache_model_repeated_tokens(model: HookedTransformer, seq_len: int, batch: int = 1) -> tuple[Tensor, Tensor, ActivationCache]:\n",
        "    '''\n",
        "    Generates a sequence of repeated random tokens, and runs the model on it, returning (tokens, logits, cache)\n",
        "\n",
        "    Should use the `generate_repeated_tokens` function above\n",
        "\n",
        "    Outputs are:\n",
        "        rep_tokens: [batch, 1+2*seq_len]\n",
        "        rep_logits: [batch, 1+2*seq_len, d_vocab]\n",
        "        rep_cache: The cache of the model run on rep_tokens\n",
        "    '''\n",
        "    pass\n",
        "\n",
        "\n",
        "seq_len = 50\n",
        "batch = 1\n",
        "(rep_tokens, rep_logits, rep_cache) = run_and_cache_model_repeated_tokens(model, seq_len, batch)\n",
        "rep_cache.remove_batch_dim()\n",
        "rep_str = model.to_str_tokens(rep_tokens)\n",
        "model.reset_hooks()\n",
        "log_probs = get_log_probs(rep_logits, rep_tokens).squeeze()\n",
        "\n",
        "print(f\"Performance on the first half: {log_probs[:seq_len].mean():.3f}\")\n",
        "print(f\"Performance on the second half: {log_probs[seq_len:].mean():.3f}\")\n",
        "\n",
        "plot_loss_difference(log_probs, rep_str, seq_len)"
      ]
    },
    {
      "cell_type": "markdown",
      "metadata": {
        "id": "GQVYx89VHT4a"
      },
      "source": [
        "<details>\n",
        "<summary>Hint</summary>\n",
        "\n",
        "You can define the first half of the repeated tokens using `t.randint(low, high, shape)`. Also remember to specify `dtype=t.long`.\n",
        "\n",
        "Then you can concatenate together your prefix and two copies of the repeated tokens, using `t.concat`.\n",
        "</details>\n",
        "\n"
      ]
    },
    {
      "cell_type": "markdown",
      "metadata": {
        "id": "ooiXcu15HTwv"
      },
      "source": [
        "### Looking for Induction Attention Patterns\n",
        "\n",
        "The next natural thing to check for is the induction attention pattern.\n",
        "\n",
        "First, go back to the attention patterns visualisation code from earlier (i.e. `cv.attention.attention_heads` or `attention_patterns`) and manually check for likely heads in the second layer. Which ones do you think might be serving as induction heads?\n",
        "\n",
        "Note - above, we defined the `rep_str` object for you, so you can use it in your `circuitsvis` functions.\n"
      ]
    },
    {
      "cell_type": "code",
      "execution_count": null,
      "metadata": {
        "id": "pYnjfNSnIoCa"
      },
      "outputs": [],
      "source": [
        "# YOUR CODE HERE - display the attention patterns stored in `rep_cache`, for each layer"
      ]
    },
    {
      "cell_type": "markdown",
      "metadata": {
        "id": "9hUuNqY1HTof"
      },
      "source": [
        "<details>\n",
        "<summary>What you should see (only click after you've made your own observations):</summary>\n",
        "\n",
        "```python\n",
        "for layer in range(model.cfg.n_layers):\n",
        "    attention_pattern = rep_cache[\"pattern\", layer]\n",
        "    display(cv.attention.attention_patterns(tokens=rep_str, attention=attention_pattern))\n",
        "```\n",
        "\n",
        "The characteristic pattern of attention heads is a diagonal stripe, with the diagonal offset as `seq_len - 1` (because the destination token attends to the token *after* the destimation token's previous occurrence).\n",
        "\n",
        "You should see that heads 4 and 10 are strongly induction-y, head 6 is very weakly induction-y, and the rest aren't.\n",
        "\n",
        "</details>\n"
      ]
    },
    {
      "cell_type": "markdown",
      "metadata": {
        "id": "BcK4I-ZBhNnP"
      },
      "source": [
        "### Exercise - make an induction-head detector\n",
        "\n",
        "```c\n",
        "Difficulty: 🔴🔴⚪⚪⚪\n",
        "Importance: 🔵🔵⚪⚪⚪\n",
        "\n",
        "You shouldn't spend more than 5-10 minutes on this exercise.\n",
        "\n",
        "This exercise should be very similar to the earlier detector exercises (with a slightly more difficult form of indexing)\n",
        "```\n"
      ]
    },
    {
      "cell_type": "markdown",
      "metadata": {
        "id": "_MBJKlOMHTKa"
      },
      "source": [
        "Now, you should make an induction pattern score function, which looks for the average attention paid to the offset diagonal. Do this in the same style as our earlier head scorers.\n"
      ]
    },
    {
      "cell_type": "code",
      "execution_count": null,
      "metadata": {
        "id": "d4PMG9cVJGNa"
      },
      "outputs": [],
      "source": [
        "def induction_attn_detector(cache: ActivationCache) -> list[str]:\n",
        "    '''\n",
        "    Returns a list e.g. [\"0.2\", \"1.4\", \"1.9\"] of \"layer.head\" which you judge to be induction heads\n",
        "\n",
        "    Remember - the tokens used to generate rep_cache are (bos_token, *rand_tokens, *rand_tokens)\n",
        "    '''\n",
        "    pass\n",
        "\n",
        "\n",
        "print(\"Induction heads = \", \", \".join(induction_attn_detector(rep_cache)))"
      ]
    },
    {
      "cell_type": "markdown",
      "metadata": {
        "id": "EmUgS0JsJIiC"
      },
      "source": [
        "If this function works as expected, then you should see output that matches your observations from `circuitsvis` (i.e. the heads which you observed to be induction heads are being classified as induction heads by your function here).\n",
        "\n",
        "<details>\n",
        "<summary>Help - I'm not sure what offset to use.</summary>\n",
        "\n",
        "The offset in your diagonal should be `- (seq_len - 1)` (where `seq_len` is the length of the random tokens which you repeat twice), because the second instance of random token `T` will attend to the token **after** the first instance of `T`.\n",
        "</details>\n",
        "\n"
      ]
    },
    {
      "cell_type": "markdown",
      "metadata": {
        "id": "lGYJsGDMJKBk"
      },
      "source": [
        "# 3️⃣ TransformerLens: Hooks\n"
      ]
    },
    {
      "cell_type": "markdown",
      "metadata": {
        "id": "BmvH6gTJJUV_"
      },
      "source": [
        "> ##### Learning objectives\n",
        ">\n",
        "> - Understand what hooks are, and how they are used in TransformerLens\n",
        "> - Use hooks to access activations, process the results, and write them to an external tensor\n",
        "> - Build tools to perform attribution, i.e. detecting which components of your model are responsible for performance on a given task\n",
        "> - Understand how hooks can be used to perform basic interventions like **ablation**\n"
      ]
    },
    {
      "cell_type": "markdown",
      "metadata": {
        "id": "ZFWi9ZoLJKiH"
      },
      "source": [
        "## What are hooks?\n",
        "\n",
        "One of the great things about interpreting neural networks is that we have *full control* over our system. From a computational perspective, we know exactly what operations are going on inside (even if we don't know what they mean!). And we can make precise, surgical edits and see how the model's behaviour and other internals change. This is an extremely powerful tool, because it can let us e.g. set up careful counterfactuals and causal intervention to easily understand model behaviour.\n",
        "\n",
        "Accordingly, being able to do this is a pretty core operation, and this is one of the main things TransformerLens supports! The key feature here is **hook points**. Every activation inside the transformer is surrounded by a hook point, which allows us to edit or intervene on it.\n",
        "\n",
        "We do this by adding a **hook function** to that activation, and then calling `model.run_with_hooks`.\n",
        "\n",
        "*(Terminology note - because basically all the activations in our model have an associated hook point, we'll sometimes use the terms \"hook\" and \"activation\" interchangeably.)*\n"
      ]
    },
    {
      "cell_type": "markdown",
      "metadata": {
        "id": "4BQM1JrCJKaE"
      },
      "source": [
        "### Hook functions\n",
        "\n",
        "Hook functions take two arguments: `activation_value` and `hook_point`. The `activation_value` is a tensor representing some activation in the model, just like the values in our `ActivationCache`. The `hook_point` is an object which gives us methods like `hook.layer()` or attributes like `hook.name` that are sometimes useful to call within the function.\n",
        "\n",
        "If we're using hooks to edit activations, then the hook function should return a tensor of the same shape as the activation value. But we can also just have our hook function access the activation, do some processing, and write the results to some external variable (in which case our hook function should just not return anything).\n",
        "\n",
        "An example hook function for changing the attention patterns at a particular layer might look like:\n"
      ]
    },
    {
      "cell_type": "markdown",
      "metadata": {
        "id": "ToP08SBsJsgS"
      },
      "source": [
        "```python\n",
        "def hook_function(\n",
        "    attn_pattern: Float[Tensor, \"batch heads seq_len seq_len\"],\n",
        "    hook: HookPoint\n",
        ") -> TT[\"batch\", \"heads\", \"seq_len\", \"seq_len\"]:\n",
        "\n",
        "    # modify attn_pattern (can be inplace)\n",
        "    return attn_pattern\n",
        "```\n"
      ]
    },
    {
      "cell_type": "markdown",
      "metadata": {
        "id": "X5gnN_cNJKSc"
      },
      "source": [
        "### Running with hooks\n",
        "\n",
        "Once you've defined a hook function (or functions), you should call `model.run_with_hooks`. A typical call to this function might look like:\n"
      ]
    },
    {
      "cell_type": "markdown",
      "metadata": {
        "id": "dgf9Rv5PJufC"
      },
      "source": [
        "```python\n",
        "loss = model.run_with_hooks(\n",
        "    tokens,\n",
        "    return_type=\"loss\",\n",
        "    fwd_hooks=[\n",
        "        ('blocks.1.attn.hook_pattern', hook_function)\n",
        "    ]\n",
        ")\n",
        "```\n"
      ]
    },
    {
      "cell_type": "markdown",
      "metadata": {
        "id": "-lN0Q41VJKKw"
      },
      "source": [
        "Let's break this code down.\n",
        "\n",
        "* `tokens` represents our model's input.\n",
        "* `return_type=\"loss\"` is used here because we're modifying our activations and seeing how this affects the loss.\n",
        "    * We could also return the logits, or just use `return_type=None` if we only want to access the intermediate activations and we don't care about the output.\n",
        "* `fwd_hooks` is a list of 2-tuples of (hook name, hook function).\n",
        "    * The hook name is a string that specifies which activation we want to hook.\n",
        "    * The hook function gets run with the corresponding activation as its first argument.\n",
        "\n",
        "### A bit more about hooks\n",
        "\n",
        "Here are a few extra notes for how to squeeze even more functionality out of hooks. If you'd prefer, you can [jump ahead](#hooks-accessing-activations) to see an actual example of hooks being used, and come back to this section later.\n",
        "\n",
        "<details>\n",
        "<summary>Resetting hooks</summary>\n",
        "\n",
        "`model.run_with_hooks` has the default parameter `reset_hooks_end=True` which resets all hooks at the end of the run (including both those that were added before and during the run).\n",
        "\n",
        "Despite this, it's possible to shoot yourself in the foot with hooks, e.g. if there's an error in one of your hooks so the function never finishes. In this case, you can use `model.reset_hooks()` to reset all hooks.\n",
        "\n",
        "Further, if you *do* want to keep the hooks that you add, you can do this by calling `add_hook` on the relevant `HookPoint`.\n",
        "</details>\n",
        "<details>\n",
        "<summary>Adding multiple hooks at once</summary>\n",
        "\n",
        "Including more than one tuple in the `fwd_hooks` list is one way to add multiple hooks:\n",
        "\n",
        "```python\n",
        "loss = model.run_with_hooks(\n",
        "    tokens,\n",
        "    return_type=\"loss\",\n",
        "    fwd_hooks=[\n",
        "        ('blocks.0.attn.hook_pattern', hook_function),\n",
        "        ('blocks.1.attn.hook_pattern', hook_function)\n",
        "    ]\n",
        ")\n",
        "```\n",
        "\n",
        "Another way is to use a **name filter** rather than a single name:\n",
        "\n",
        "```python\n",
        "loss = model.run_with_hooks(\n",
        "    tokens,\n",
        "    return_type=\"loss\",\n",
        "    fwd_hooks=[\n",
        "        (lambda name: name.endswith(\"pattern\"), hook_function)\n",
        "    ]\n",
        ")\n",
        "```\n",
        "</details>\n",
        "<details>\n",
        "<summary><code>utils.get_act_name</code></summary>\n",
        "\n",
        "When we were indexing the cache in the previous section, we found we could use strings like `cache['blocks.0.attn.hook_pattern']`, or use the shorthand of `cache['pattern', 0]`. The reason the second one works is that it calls the function `utils.get_act_name` under the hood, i.e. we have:\n",
        "\n",
        "```python\n",
        "utils.get_act_name('pattern', 0) == 'blocks.0.attn.hook_pattern'\n",
        "```\n",
        "\n",
        "Using `utils.get_act_name` in your forward hooks is often easier than using the full string, since the only thing you need to remember is the activation name (you can refer back to the diagram in the previous section for this).\n",
        "</details>\n",
        "<details>\n",
        "<summary>Using <code>functools.partial</code> to create variations on hooks</summary>\n",
        "\n",
        "A useful trick is to define a hook function with more arguments than it needs, and then use `functools.partial` to fill in the extra arguments. For instance, if you want a hook function which only modifies a particular head, but you want to run it on all heads separately (rather than just adding all the hooks and having them all run on the next forward pass), then you can do something like:\n",
        "\n",
        "```python\n",
        "def hook_all_attention_patterns(\n",
        "    attn_pattern: TT[\"batch\", \"heads\", \"seq_len\", \"seq_len\"],\n",
        "    hook: HookPoint,\n",
        "    head_idx: int\n",
        ") -> TT[\"batch\", \"heads\", \"seq_len\", \"seq_len\"]:\n",
        "    # modify attn_pattern inplace, at head_idx\n",
        "    return attn_pattern\n",
        "\n",
        "for head_idx in range(12):\n",
        "    temp_hook_fn = functools.partial(hook_all_attention_patterns, head_idx=head_idx)\n",
        "    model.run_with_hooks(tokens, fwd_hooks=[('blocks.1.attn.hook_pattern', temp_hook_fn)])\n",
        "```\n",
        "</details>\n",
        "\n",
        "And here are some points of interest, which aren't vital to understand:\n",
        "\n",
        "<details>\n",
        "<summary>Relationship to PyTorch hooks</summary>\n",
        "\n",
        "[PyTorch hooks](https://blog.paperspace.com/pytorch-hooks-gradient-clipping-debugging/) are a great and underrated, yet incredibly janky, feature. They can act on a layer, and edit the input or output of that layer, or the gradient when applying autodiff. The key difference is that **Hook points** act on *activations* not layers. This means that you can intervene within a layer on each activation, and don't need to care about the precise layer structure of the transformer. And it's immediately clear exactly how the hook's effect is applied. This adjustment was shamelessly inspired by [Garcon's use of ProbePoints](https://transformer-circuits.pub/2021/garcon/index.html).\n",
        "\n",
        "They also come with a range of other quality of life improvements. PyTorch's hooks are global state, which can be a massive pain if you accidentally leave a hook on a model. TransformerLens hooks are also global state, but `run_with_hooks` tries to create an abstraction where these are local state by removing all hooks at the end of the function (and they come with a helpful `model.reset_hooks()` method to remove all hooks).\n",
        "</details>\n",
        "\n",
        "<details>\n",
        "<summary>How are TransformerLens hooks actually implemented?</summary>\n",
        "\n",
        "They are implemented as modules with the identity function as their forward method:\n",
        "\n",
        "```python\n",
        "class HookPoint(nn.Module):\n",
        "    ...\n",
        "    def forward(self, x):\n",
        "        return x\n",
        "```\n",
        "\n",
        "but also with special features for adding and removing hook functions. This is why you see hooks when you print a HookedTransformer model, because all its modules are recursively printed.\n",
        "\n",
        "When you run the model normally, hook modules won't change the model's behaviour (since applying the identity function does nothing). It's only once you add functions to the hook modules (e.g. a function which ablates any inputs into the hook module) that the model's behaviour changes.\n",
        "\n",
        "</details>\n"
      ]
    },
    {
      "cell_type": "markdown",
      "metadata": {
        "id": "gVxoO6VcKPtW"
      },
      "source": [
        "## Hooks: Accessing Activations\n",
        "\n",
        "In later sections, we'll write some code to intervene on hooks, which is really the core feature that makes them so useful for interpretability. But for now, let's just look at how to access them without changing their value. This can be achieved by having the hook function write to a global variable, and return nothing (rather than modifying the activation in place).\n",
        "\n",
        "Why might we want to do this? It turns out to be useful for things like:\n",
        "\n",
        "* Extracting activations for a specific task\n",
        "* Doing some long-running calculation across many inputs, e.g. finding the text that most activates a specific neuron\n",
        "\n",
        "Note that, in theory, this could all be done using the `run_with_cache` function we used in the previous section, combined with post-processing of the cache result. But using hooks can be more intuitive and memory efficient.\n"
      ]
    },
    {
      "cell_type": "markdown",
      "metadata": {
        "id": "GaJ0zU1kKRDe"
      },
      "source": [
        "### Exercise - calculate induction scores with hooks\n",
        "\n",
        "```c\n",
        "Difficulty: 🔴🔴🔴⚪⚪\n",
        "Importance: 🔵🔵🔵🔵⚪\n",
        "\n",
        "You shouldn't spend more than 15-20 minutes on this exercise.\n",
        "\n",
        "This is our first exercise with hooks, which are an absolutely vital TransformerLens tool. Use the hints if you're stuck.\n",
        "```\n",
        "\n",
        "To start with, we'll look at how hooks can be used to get the same results as from the previous section (where we ran our induction head detector functions on the values in the cache).\n",
        "\n",
        "Most of the code has already been provided for you below; the only thing you need to do is **implement the `induction_score_hook` function**. As mentioned, this function takes two arguments: the activation value (which in this case will be our attention pattern) and the hook object (which gives us some useful methods and attributes that we can access in the function, e.g. `hook.layer()` to return the layer, or `hook.name` to return the name, which is the same as the name in the cache).\n",
        "\n",
        "Your function should do the following:\n",
        "\n",
        "* Calculate the induction score for the attention pattern `pattern`, using the same methodology as you used in the previous section when you wrote your induction head detectors.\n",
        "    * Note that this time, the batch dimension is greater than 1, so you should compute the average attention score over the batch dimension.\n",
        "    * Also note that you are computing the induction score for all heads at once, rather than one at a time. You might find the arguments `dim1` and `dim2` of the `torch.diagonal` function useful.\n",
        "* Write this score to the tensor `induction_score_store`, which is a global variable that we've provided for you. The `[i, j]`th element of this tensor should be the induction score for the `j`th head in the `i`th layer.\n"
      ]
    },
    {
      "cell_type": "code",
      "execution_count": null,
      "metadata": {
        "id": "H7Lz6BE0JIKh"
      },
      "outputs": [],
      "source": [
        "seq_len = 50\n",
        "batch = 10\n",
        "rep_tokens_10 = generate_repeated_tokens(model, seq_len, batch)\n",
        "\n",
        "# We make a tensor to store the induction score for each head.\n",
        "# We put it on the model's device to avoid needing to move things between the GPU and CPU, which can be slow.\n",
        "induction_score_store = t.zeros((model.cfg.n_layers, model.cfg.n_heads), device=model.cfg.device)\n",
        "\n",
        "def induction_score_hook(\n",
        "    pattern: Float[Tensor, \"batch head_index dest_pos source_pos\"],\n",
        "    hook: HookPoint,\n",
        "):\n",
        "    '''\n",
        "    Calculates the induction score, and stores it in the [layer, head] position of the `induction_score_store` tensor.\n",
        "    '''\n",
        "    pass\n",
        "\n",
        "pattern_hook_names_filter = lambda name: name.endswith(\"pattern\")\n",
        "\n",
        "# Run with hooks (this is where we write to the `induction_score_store` tensor`)\n",
        "model.run_with_hooks(\n",
        "    rep_tokens_10,\n",
        "    return_type=None, # For efficiency, we don't need to calculate the logits\n",
        "    fwd_hooks=[(\n",
        "        pattern_hook_names_filter,\n",
        "        induction_score_hook\n",
        "    )]\n",
        ")\n",
        "\n",
        "# Plot the induction scores for each head in each layer\n",
        "imshow(\n",
        "    induction_score_store,\n",
        "    labels={\"x\": \"Head\", \"y\": \"Layer\"},\n",
        "    title=\"Induction Score by Head\",\n",
        "    text_auto=\".2f\",\n",
        "    width=900, height=400\n",
        ")"
      ]
    },
    {
      "cell_type": "markdown",
      "metadata": {
        "id": "fTkPOxVNKaxt"
      },
      "source": [
        "If this function has been implemented correctly, you should see a result matching your observations from the previous section: a high induction score (>0.6) for all the heads which you identified as induction heads, and a low score (close to 0) for all others.\n",
        "\n",
        "<details>\n",
        "<summary>Help - I'm not sure how to implement this function.</summary>\n",
        "\n",
        "To get the induction stripe, you can use:\n",
        "\n",
        "```python\n",
        "torch.diagonal(pattern, dim1=-2, dim2=-1, offset=1-seq_len)\n",
        "```\n",
        "\n",
        "since this returns the diagonal of each attention scores matrix, for every element in the batch and every attention head.\n",
        "\n",
        "Once you have this, you can then take the mean over the batch and diagonal dimensions, giving you a tensor of length `n_heads`. You can then write this to the global `induction_score_store` tensor, using the `hook.layer()` method to get the correct row number.\n",
        "</details>\n"
      ]
    },
    {
      "cell_type": "markdown",
      "metadata": {
        "id": "g0vfMILdKiQA"
      },
      "source": [
        "### Exercise - find induction heads in GPT2-small\n",
        "\n",
        "```c\n",
        "Difficulty: 🔴🔴🔴⚪⚪\n",
        "Importance: 🔵🔵🔵🔵⚪\n",
        "\n",
        "You shouldn't spend more than 10-20 minutes on this exercise.\n",
        "\n",
        "Here, you mostly just need to use previously defined functions and interpret the results, rather than writing new code.\n",
        "```\n",
        "\n",
        "*This is your first opportunity to investigate a larger and more extensively trained model, rather than the simple 2-layer model we've been using so far. None of the code required is new (you can copy most of it from previous sections), so these exercises shouldn't take very long.*\n"
      ]
    },
    {
      "cell_type": "markdown",
      "metadata": {
        "id": "tnG0vhamLU_z"
      },
      "source": [
        "Perform the same analysis on your `gpt2_small`. You should observe that some heads, particularly in a couple of the middle layers, have high induction scores. Use CircuitsVis to plot the attention patterns for these heads when run on the repeated token sequences, and verify that they look like induction heads.\n",
        "\n",
        "Note - you can make CircuitsVis plots (and other visualisations) using hooks rather than plotting directly from the cache. For example, we've given you a hook function which will display the attention patterns at a given hook when you include it in a call to `model.run_with_hooks`.\n"
      ]
    },
    {
      "cell_type": "code",
      "execution_count": null,
      "metadata": {
        "id": "IO2GMPY2Kjqr"
      },
      "outputs": [],
      "source": [
        "def visualize_pattern_hook(\n",
        "    pattern: Float[Tensor, \"batch head_index dest_pos source_pos\"],\n",
        "    hook: HookPoint,\n",
        "):\n",
        "    print(\"Layer: \", hook.layer())\n",
        "    display(\n",
        "        cv.attention.attention_patterns(\n",
        "            tokens=gpt2_small.to_str_tokens(rep_tokens[0]),\n",
        "            attention=pattern.mean(0)\n",
        "        )\n",
        "    )\n",
        "\n",
        "    # YOUR CODE HERE - find induction heads in gpt2_small"
      ]
    },
    {
      "cell_type": "markdown",
      "metadata": {
        "id": "1BSPHnpaKqu7"
      },
      "source": [
        "## Building interpretability tools\n",
        "\n",
        "In order to develop a mechanistic understanding for how transformers perform certain tasks, we need to be able to answer questions like:\n",
        "\n",
        "> *How much of the model's performance on some particular task is attributable to each component of the model?*\n",
        "\n",
        "where \"component\" here might mean, for example, a specific head in a layer.\n",
        "\n",
        "There are many ways to approach a question like this. For example, we might look at how a head interacts with other heads in different layers, or we might perform a causal intervention by seeing how well the model performs if we remove the effect of this head. However, we'll keep things simple for now, and ask the question: **what are the direct contributions of this head to the output logits?**\n",
        "\n",
        "### Direct Logit attribution\n",
        "\n",
        "A consequence of the residual stream is that the output logits are the sum of the contributions of each layer, and thus the sum of the results of each head. This means we can decompose the output logits into a term coming from each head and directly do attribution like this!\n",
        "\n",
        "<details>\n",
        "<summary>A concrete example</summary>\n",
        "\n",
        "Let's say that our model knows that the token Harry is followed by the token Potter, and we want to figure out how it does this. The logits on Harry are `residual @ W_U`. But this is a linear map, and the residual stream is the sum of all previous layers `residual = embed + attn_out_0 + attn_out_1`. So `logits = (embed @ W_U) + (attn_out @ W_U) + (attn_out_1 @ W_U)`\n",
        "\n",
        "We can be even more specific, and *just* look at the logit of the Potter token - this corresponds to a column of `W_U`, and so a direction in the residual stream - our logit is now a single number that is the sum of `(embed @ potter_U) + (attn_out_0 @ potter_U) + (attn_out_1 @ potter_U)`. Even better, we can decompose each attention layer output into the sum of the result of each head, and use this to get many terms.\n",
        "</details>\n",
        "\n",
        "Your mission here is to write a function to look at how much each component contributes to the correct logit. Your components are:\n",
        "\n",
        "* The direct path (i.e. the residual connections from the embedding to unembedding),\n",
        "* Each layer 0 head (via the residual connection and skipping layer 1)\n",
        "* Each layer 1 head\n",
        "\n",
        "To emphasise, these are not paths from the start to the end of the model, these are paths from the output of some component directly to the logits - we make no assumptions about how each path was calculated!\n",
        "\n",
        "A few important notes for this exercise:\n",
        "\n",
        "* Here we are just looking at the DIRECT effect on the logits, i.e. the thing that this component writes / embeds into the residual stream - if heads compose with other heads and affect logits like that, or inhibit logits for other tokens to boost the correct one we will not pick up on this!\n",
        "* By looking at just the logits corresponding to the correct token, our data is much lower dimensional because we can ignore all other tokens other than the correct next one (Dealing with a 50K vocab size is a pain!). But this comes at the cost of missing out on more subtle effects, like a head suppressing other plausible logits, to increase the log prob of the correct one.\n",
        "    * There are other situations where our job might be easier. For instance, in the IOI task (which we'll discuss shortly) we're just comparing the logits of the indirect object to the logits of the direct object, meaning we can use the **difference between these logits**, and ignore all the other logits.\n",
        "* When calculating correct output logits, we will get tensors with a dimension `(position - 1,)`, not `(position,)` - we remove the final element of the output (logits), and the first element of labels (tokens). This is because we're predicting the *next* token, and we don't know the token after the final token, so we ignore it.\n",
        "\n",
        "<details>\n",
        "<summary>Aside - centering <code>W_U</code></summary>\n",
        "\n",
        "While we won't worry about this for this exercise, logit attribution is often more meaningful if we first center `W_U` - i.e. ensure the mean of each row writing to the output logits is zero. Log softmax is invariant when we add a constant to all the logits, so we want to control for a head that just increases all logits by the same amount. We won't do this here for ease of testing.\n",
        "</details>\n",
        "\n",
        "<details>\n",
        "<summary>Question - why don't we do this to the log probs instead?</summary>\n",
        "\n",
        "Because log probs aren't linear, they go through `log_softmax`, a non-linear function.\n",
        "</details>\n"
      ]
    },
    {
      "cell_type": "markdown",
      "metadata": {
        "id": "pg9Mk-Y8K85A"
      },
      "source": [
        "### Exercise - build logit attribution tool\n",
        "\n",
        "```c\n",
        "Difficulty: 🔴🔴🔴⚪⚪\n",
        "Importance: 🔵🔵🔵🔵⚪\n",
        "\n",
        "You shouldn't spend more than 10-15 minutes on this exercise.\n",
        "\n",
        "This exercise is important, but has quite a few messy einsums, so you might get more value from reading the solution than doing the exercises.\n",
        "```\n",
        "\n",
        "You should implement the `logit_attribution` function below. This should return the contribution of each component in the \"correct direction\". We've already given you the unembedding vectors for the correct direction, `W_U_correct_tokens` (note that we take the `[1:]` slice of tokens, for reasons discussed above).\n",
        "\n",
        "The code below this function will check your logit attribution function is working correctly, by taking the sum of logit attributions and comparing it to the actual values in the residual stream at the end of your model.\n"
      ]
    },
    {
      "cell_type": "code",
      "execution_count": null,
      "metadata": {
        "id": "DddLKFSwK_fi"
      },
      "outputs": [],
      "source": [
        "def logit_attribution(\n",
        "    embed: Float[Tensor, \"seq d_model\"],\n",
        "    l1_results: Float[Tensor, \"seq nheads d_model\"],\n",
        "    l2_results: Float[Tensor, \"seq nheads d_model\"],\n",
        "    W_U: Float[Tensor, \"d_model d_vocab\"],\n",
        "    tokens: Int[Tensor, \"seq\"]\n",
        ") -> Float[Tensor, \"seq-1 n_components\"]:\n",
        "    '''\n",
        "    Inputs:\n",
        "        embed: the embeddings of the tokens (i.e. token + position embeddings)\n",
        "        l1_results: the outputs of the attention heads at layer 1 (with head as one of the dimensions)\n",
        "        l2_results: the outputs of the attention heads at layer 2 (with head as one of the dimensions)\n",
        "        W_U: the unembedding matrix\n",
        "        tokens: the token ids of the sequence\n",
        "\n",
        "    Returns:\n",
        "        Tensor of shape (seq_len-1, n_components)\n",
        "        represents the concatenation (along dim=-1) of logit attributions from:\n",
        "            the direct path (seq-1,1)\n",
        "            layer 0 logits (seq-1, n_heads)\n",
        "            layer 1 logits (seq-1, n_heads)\n",
        "        so n_components = 1 + 2*n_heads\n",
        "    '''\n",
        "    W_U_correct_tokens = W_U[:, tokens[1:]]\n",
        "    pass\n",
        "\n",
        "\n",
        "text = \"We think that powerful, significantly superhuman machine intelligence is more likely than not to be created this century. If current machine learning techniques were scaled up to this level, we think they would by default produce systems that are deceptive or manipulative, and that no solid plans are known for how to avoid this.\"\n",
        "logits, cache = model.run_with_cache(text, remove_batch_dim=True)\n",
        "str_tokens = model.to_str_tokens(text)\n",
        "tokens = model.to_tokens(text)\n",
        "\n",
        "with t.inference_mode():\n",
        "    embed = cache[\"embed\"]\n",
        "    l1_results = cache[\"result\", 0]\n",
        "    l2_results = cache[\"result\", 1]\n",
        "    logit_attr = logit_attribution(embed, l1_results, l2_results, model.W_U, tokens[0])\n",
        "    # Uses fancy indexing to get a len(tokens[0])-1 length tensor, where the kth entry is the predicted logit for the correct k+1th token\n",
        "    correct_token_logits = logits[0, t.arange(len(tokens[0]) - 1), tokens[0, 1:]]\n",
        "    t.testing.assert_close(logit_attr.sum(1), correct_token_logits, atol=1e-3, rtol=0)\n",
        "    print(\"Tests passed!\")"
      ]
    },
    {
      "cell_type": "markdown",
      "metadata": {
        "id": "22wzWYZdK81H"
      },
      "source": [
        "Once you've got the tests working, you can visualise the logit attributions for each path through the model. We've provided you with the helper function `plot_logit_attribution`, which presents the results in a nice way.\n"
      ]
    },
    {
      "cell_type": "code",
      "execution_count": null,
      "metadata": {
        "id": "zNsS-qcpLLVz"
      },
      "outputs": [],
      "source": [
        "embed = cache[\"embed\"]\n",
        "l1_results = cache[\"result\", 0]\n",
        "l2_results = cache[\"result\", 1]\n",
        "logit_attr = logit_attribution(embed, l1_results, l2_results, model.W_U, tokens[0])\n",
        "\n",
        "plot_logit_attribution(model, logit_attr, tokens)"
      ]
    },
    {
      "cell_type": "markdown",
      "metadata": {
        "id": "R_5AwUIRK8w5"
      },
      "source": [
        "#### Question - what is the interpretation of this plot?\n",
        "\n",
        "You should find that the most variation in the logit attribution comes from the direct path. In particular, some of the tokens in the direct path have a very high logit attribution (e.g. tokens 12, 24 and 46). Can you guess what gives them in particular such a high logit attribution?\n",
        "\n",
        "<details>\n",
        "<summary>Answer</summary>\n",
        "\n",
        "The tokens with very high logit attribution are the ones which \"offer very probable bigrams\". For instance, the highest contribution on the direct path comes from `| manip|`, because this is very likely to be followed by `|ulative|` (or presumably a different stem like `| ulation|`). `| super|` -> `|human|` is another example of a bigram formed when the tokenizer splits one word into multiple tokens.\n",
        "\n",
        "There are also examples that come from two different words, rather than a single word split by the tokenizer. These include:\n",
        "\n",
        "* `| more|` -> `| likely|`\n",
        "* `| machine|` -> `| learning|`\n",
        "* `| by|` -> `| default|`\n",
        "* `| how|` -> `| to|`\n",
        "\n",
        "See later for a discussion of all the ~infuriating~ fun quirks of tokenization!\n",
        "</details>\n",
        "\n",
        "Another feature of the plot - the heads in the second layer seem to have much higher contributions than the heads in the first layer. Why do you think this might be?\n",
        "\n",
        "<details>\n",
        "<summary>Hint</summary>\n",
        "\n",
        "Think about what this graph actually represents, in terms of paths through the transformer.\n",
        "</details>\n",
        "\n",
        "<details>\n",
        "<summary>Answer</summary>\n",
        "\n",
        "This is because of a point we discussed earlier - this plot doesn't pick up on things like a head's effect in composition with another head. So the attribution for layer-0 heads won't involve any composition, whereas the attributions for layer-1 heads will involve not only the single-head paths through those attention heads, but also the 2-layer compositional paths through heads in layer 0 and layer 1.\n",
        "</details>\n"
      ]
    },
    {
      "cell_type": "markdown",
      "metadata": {
        "id": "Phy2zvxCLdYL"
      },
      "source": [
        "### Exercise - logit attribution for the induction heads\n",
        "\n",
        "```c\n",
        "Difficulty: 🔴🔴🔴⚪⚪\n",
        "Importance: 🔵🔵⚪⚪⚪\n",
        "\n",
        "You shouldn't spend more than ~10 minutes on this exercise.\n",
        "\n",
        "This exercise just involves calling logit_attribution with appropriate arguments. Don't spend too long on it, you should look at solutions if you are stuck.\n",
        "```\n",
        "\n",
        "Perform logit attribution for your attention-only model `model`, on the `rep_cache`. What do you expect to see?\n",
        "\n",
        "Remember, you'll need to split the sequence in two, with one overlapping token (since predicting the next token involves removing the final token with no label) - your `logit_attr` should both have shape `[seq_len, 2*n_heads + 1]` (ie `[50, 25]` here).\n",
        "\n",
        "<details>\n",
        "<summary>Note - the first plot will be pretty meaningless. Can you see why?</summary>\n",
        "\n",
        "Because the first plot shows the logit attribution for the first half of the sequence, i.e. the first occurrence of each of the tokens. Since there is no structure to this sequence (it is purely random), there is no reason to expect the heads to be doing meaningful computation. The structure lies in the second half of the sequence, when the tokens are repeated, and the heads with high logit attributions will be the ones that can perform induction.\n",
        "</details>\n"
      ]
    },
    {
      "cell_type": "code",
      "execution_count": null,
      "metadata": {
        "id": "FgEeiKZPLnyE"
      },
      "outputs": [],
      "source": [
        "seq_len = 50\n",
        "\n",
        "embed = rep_cache[\"embed\"]\n",
        "l1_results = rep_cache[\"result\", 0]\n",
        "l2_results = rep_cache[\"result\", 1]\n",
        "first_half_tokens = rep_tokens[0, : 1 + seq_len]\n",
        "second_half_tokens = rep_tokens[0, seq_len:]\n",
        "\n",
        "# YOUR CODE HERE - define `first_half_logit_attr` and `second_half_logit_attr`\n",
        "\n",
        "assert first_half_logit_attr.shape == (seq_len, 2*model.cfg.n_heads + 1)\n",
        "assert second_half_logit_attr.shape == (seq_len, 2*model.cfg.n_heads + 1)\n",
        "\n",
        "plot_logit_attribution(model, first_half_logit_attr, first_half_tokens, \"Logit attribution (first half of repeated sequence)\")\n",
        "plot_logit_attribution(model, second_half_logit_attr, second_half_tokens, \"Logit attribution (second half of repeated sequence)\")"
      ]
    },
    {
      "cell_type": "markdown",
      "metadata": {
        "id": "PLaGqDfJK8sz"
      },
      "source": [
        "What is the interpretation of this plot, in the context of our induction head circuit?\n",
        "\n",
        "<details>\n",
        "<summary>Answer</summary>\n",
        "\n",
        "Previously, we observed that heads `1.4` and `1.10` seemed to be acting as induction heads.\n",
        "\n",
        "This plot gives further evidence that this is the case, since these two heads have a large logit attribution score **on sequences in which the only way to get accurate predictions is to use the induction mechanism**.\n",
        "\n",
        "This also agrees with our attention scores result, in showing tht `1.10` is a stronger induction head than `1.4`.\n",
        "</details>\n"
      ]
    },
    {
      "cell_type": "markdown",
      "metadata": {
        "id": "4L93pPDiL77t"
      },
      "source": [
        "## Hooks: Intervening on Activations\n",
        "\n",
        "Now that we've built some tools to decompose our model's output, it's time to start making causal interventions.\n",
        "\n",
        "### Ablations\n",
        "\n",
        "Let's start with a simple example: **ablation**. An ablation is a simple causal intervention on a model - we pick some part of it and set it to zero. This is a crude proxy for how much that part matters. Further, if we have some story about how a specific circuit in the model enables some capability, showing that ablating *other* parts does nothing can be strong evidence of this.\n",
        "\n",
        "As mentioned in [the glossary](https://dynalist.io/d/n2ZWtnoYHrU1s4vnFSAQ519J#z=fh-HJyz1CgUVrXuoiban6bYx), there are many ways to do ablation. We'll focus on the simplest: zero-ablation (even though it's somewhat unprincipled).\n"
      ]
    },
    {
      "cell_type": "markdown",
      "metadata": {
        "id": "-JNwwzKxK8oh"
      },
      "source": [
        "### Exercise - induction head ablation\n",
        "\n",
        "```c\n",
        "Difficulty: 🔴🔴⚪⚪⚪\n",
        "Importance: 🔵🔵🔵🔵⚪\n",
        "\n",
        "You shouldn't spend more than ~10 minutes on this exercise.\n",
        "\n",
        "This exercise is conceptually important, but very short.\n",
        "```\n",
        "\n",
        "The code below provides a template for performing zero-ablation on the value vectors at a particular head (i.e. the vectors we get when applying the weight matrices `W_V` to the residual stream). If you're confused about what different activations mean, you can refer back to [the diagram](https://raw.githubusercontent.com/callummcdougall/computational-thread-art/master/example_images/misc/small-merm.svg).\n",
        "\n",
        "**The only thing left for you to do is fill in the function `head_ablation_hook`** so that it performs zero-ablation on the head given by `head_index_to_ablate`. In other words, your function should return a modified version of `value` with this head ablated. (Technically you don't have to return any tensor if you're modifying `value` in-place; this is just convention.)\n",
        "\n",
        "A few notes to help explain the code below:\n",
        "\n",
        "* In the `get_ablation_scores` function, we run our hook function in a for loop: once for each layer and each head. Each time, we write a single value to the tensor `ablation_scores` that stores the results of ablating that particular head.\n",
        "* We use `cross_entropy_loss` as a metric for model performance, rather than logit difference like in the previous section.\n",
        "    * If the head didn't have any effect on the output, then the ablation score would be zero (since the loss doesn't increase when we ablate).\n",
        "    * If the head was very important for making correct predictions, then we should see a very large ablation score.\n",
        "* We use `functools.partial` to create a temporary hook function with the head number fixed. This is a nice way to avoid having to write a separate hook function for each head.\n",
        "* We use `utils.get_act_name` to get the name of our activation. This is a nice shorthand way of getting the full name.\n"
      ]
    },
    {
      "cell_type": "code",
      "execution_count": null,
      "metadata": {
        "id": "iaLTsjZiMMgQ"
      },
      "outputs": [],
      "source": [
        "def head_ablation_hook(\n",
        "    v: Float[Tensor, \"batch seq n_heads d_head\"],\n",
        "    hook: HookPoint,\n",
        "    head_index_to_ablate: int,\n",
        ") -> Float[Tensor, \"batch seq n_heads d_head\"]:\n",
        "    # YOUR CODE HERE!\n",
        "    raise NotImplementedError()\n",
        "\n",
        "\n",
        "def cross_entropy_loss(logits, tokens):\n",
        "    '''\n",
        "    Computes the mean cross entropy between logits (the model's prediction) and tokens (the true values).\n",
        "    '''\n",
        "    log_probs = F.log_softmax(logits, dim=-1)\n",
        "    pred_log_probs = t.gather(log_probs[:, :-1], -1, tokens[:, 1:, None])[..., 0]\n",
        "    return -pred_log_probs.mean()\n",
        "\n",
        "\n",
        "def get_ablation_scores(\n",
        "    model: HookedTransformer,\n",
        "    tokens: Int[Tensor, \"batch seq\"]\n",
        ") -> Float[Tensor, \"n_layers n_heads\"]:\n",
        "    '''\n",
        "    Returns a tensor of shape (n_layers, n_heads) containing the increase in cross entropy loss from ablating the output of each head.\n",
        "    '''\n",
        "    # Initialize an object to store the ablation scores\n",
        "    ablation_scores = t.zeros((model.cfg.n_layers, model.cfg.n_heads), device=model.cfg.device)\n",
        "\n",
        "    # Calculating loss without any ablation, to act as a baseline\n",
        "    model.reset_hooks()\n",
        "    logits = model(tokens, return_type=\"logits\")\n",
        "    seq_len = (tokens.shape[1] - 1) // 2\n",
        "    loss_no_ablation = cross_entropy_loss(logits[:, -seq_len:], tokens[:, -seq_len:])\n",
        "\n",
        "    for layer in tqdm(range(model.cfg.n_layers)):\n",
        "        for head in range(model.cfg.n_heads):\n",
        "            # Use functools.partial to create a temporary hook function with the head number fixed\n",
        "            temp_hook_fn = functools.partial(head_ablation_hook, head_index_to_ablate=head)\n",
        "            # Run the model with the ablation hook\n",
        "            ablated_logits = model.run_with_hooks(tokens, fwd_hooks=[\n",
        "                (utils.get_act_name(\"result\", layer), temp_hook_fn)\n",
        "            ])\n",
        "            # Calculate the logit difference\n",
        "            loss = cross_entropy_loss(ablated_logits[:, -seq_len:], tokens[:, -seq_len:])\n",
        "            # Store the result, subtracting the clean loss so that a value of zero means no change in loss\n",
        "            ablation_scores[layer, head] = loss - loss_no_ablation\n",
        "\n",
        "    return ablation_scores\n",
        "\n",
        "\n",
        "ablation_scores = get_ablation_scores(model, rep_tokens)\n",
        "tests.test_get_ablation_scores(ablation_scores, model, rep_tokens)"
      ]
    },
    {
      "cell_type": "markdown",
      "metadata": {
        "id": "mdiktdOqK8jR"
      },
      "source": [
        "Once you've passed the tests, you can plot the results:\n"
      ]
    },
    {
      "cell_type": "code",
      "execution_count": null,
      "metadata": {
        "id": "9wE47lE6MR3T"
      },
      "outputs": [],
      "source": [
        "imshow(\n",
        "    ablation_scores,\n",
        "    labels={\"x\": \"Head\", \"y\": \"Layer\", \"color\": \"Logit diff\"},\n",
        "    title=\"Loss Difference After Ablating Heads\",\n",
        "    text_auto=\".2f\",\n",
        "    width=900, height=400\n",
        ")"
      ]
    },
    {
      "cell_type": "markdown",
      "metadata": {
        "id": "dmbSOM37K8dV"
      },
      "source": [
        "What is your interpretation of these results?\n",
        "\n",
        "<details>\n",
        "<summary>Interpretation</summary>\n",
        "\n",
        "This tells us not just which heads are responsible for writing output to the residual stream that gets us the correct result, but **which heads play an important role in the induction circuit**.\n",
        "\n",
        "This chart tells us that - for sequences of repeated tokens - head `0.7` is by far the most important in layer 0 (which makes sense, since we observed it to be the strongest \"previous token head\"), and heads `1.4`, `1.10` are the most important in layer 1 (which makes sense, since we observed these to be the most induction-y).\n",
        "\n",
        "This is a good illustration of the kind of result which we can get from ablation, but **wouldn't be able to get from something like direct logit attribution**, because it isn't a causal intervention.\n",
        "</details>\n",
        "\n",
        "### Bonus - different ablations\n",
        "\n",
        "Try ablating *every* head apart from the previous token head and the two induction heads. What does this do to performance?\n",
        "\n",
        "What if you mean ablate it, rather than zero ablating it?\n",
        "\n",
        "*(In later sections e.g. Indirect Object Identification, we'll use hooks to implement some more advanced causal interventions, such as **activation patching** and **causal tracing**.)*\n"
      ]
    },
    {
      "cell_type": "markdown",
      "metadata": {
        "id": "RJmvjLzqK75I"
      },
      "source": [
        "# 4️⃣ Reverse-engineering induction circuits\n"
      ]
    },
    {
      "cell_type": "markdown",
      "metadata": {
        "id": "V3wdFTLDMmdY"
      },
      "source": [
        "> ##### Learning objectives\n",
        ">\n",
        "> - Understand the difference between investigating a circuit by looking at activtion patterns, and reverse-engineering a circuit by looking directly at the weights\n",
        "> - Use the factored matrix class to inspect the QK and OV circuits within an induction circuit\n",
        "> - Perform further exploration of induction circuits: composition scores, and targeted ablations\n"
      ]
    },
    {
      "cell_type": "markdown",
      "metadata": {
        "id": "J1NGoyR3MmWT"
      },
      "source": [
        "In previous exercises, we looked at the attention patterns and attributions of attention heads to try and identify which ones were important in the induction circuit. This might be a good way to get a feel for the circuit, but it's not a very rigorous way to understand it. It would be better described as **feature analysis**, where we observe *that* a particular head seems to be performing some task on a certain class of inputs, without identifying *why* it does so.\n",
        "\n",
        "Now we're going to do some more rigorous mechanistic analysis - digging into the weights and using them to reverse engineer the induction head algorithm and verify that it is really doing what we think it is.\n"
      ]
    },
    {
      "cell_type": "markdown",
      "metadata": {
        "id": "EbYD9jWFMmOI"
      },
      "source": [
        "## Refresher - the induction circuit\n",
        "\n",
        "Before we get into the meat of this section, let's refresh the results we've gotten so far from investigating induction heads. We've found:\n",
        "\n",
        "* When fed repeated sequences of tokens, heads `1.4` and `1.10` have the characteristic induction head attention pattern of a diagonal stripe with offset `seq_len - 1`.\n",
        "    * We saw this both from the CircuitsVis results, and from the fact that these heads had high induction scores by our chosen metric (with all other heads having much lower scores).\n",
        "* We also saw that head `0.7` strongly attends to the previous token in the sequence (even on non-repeated sequences).\n",
        "* We performed **logit attribution** on the model, and found that the values written to the residual stream by heads `1.4` and `1.10` were both important for getting us correct predictions in the second half of the sequence.\n",
        "* We performed **zero-ablation** on the model, and found that heads `0.7`, `1.4` and `1.10` all resulted in a large accuracy degradation on the repeated sequence task when they were ablated.\n",
        "\n",
        "Based on all these observations, try and summarise the induction circuit and how it works, in your own words. You should try and link your explanation to the QK and OV circuits for particular heads, and describe what type (or types) of attention head composition are taking place.\n",
        "\n",
        "You can use the dropdown below to check your understanding.\n",
        "\n",
        "<details>\n",
        "<summary>My summary of the algorithm</summary>\n",
        "\n",
        "* Head `0.7` is a previous token head (the QK-circuit ensures it always attends to the previous token).\n",
        "* The OV circuit of head `0.7` writes a copy of the previous token in a *different* subspace to the one used by the embedding.\n",
        "* The output of head `0.7` is used by the *key* input of head `1.10` via K-Composition to attend to 'the source token whose previous token is the destination token'.\n",
        "* The OV-circuit of head `1.10` copies the *value* of the source token to the same output logit.\n",
        "    * Note that this is copying from the embedding subspace, *not* the `0.7` output subspace - it is not using V-Composition at all.\n",
        "* `1.4` is also performing the same role as `1.10` (so together they can be more accurate - we'll see exactly how later).\n",
        "\n",
        "To emphasise - the sophisticated hard part is computing the *attention* pattern of the induction head - this takes careful composition. The previous token and copying parts are fairly easy. This is a good illustrative example of how the QK circuits and OV circuits act semi-independently, and are often best thought of somewhat separately. And that computing the attention patterns can involve real and sophisticated computation!\n",
        "\n",
        "Below is a diagram of the induction circuit, with the heads indicated in the weight matrices.\n",
        "\n",
        "![kcomp_diagram_3.png](https://raw.githubusercontent.com/callummcdougall/computational-thread-art/master/example_images/misc/kcomp_diagram_described_3.png)\n",
        "</details>\n"
      ]
    },
    {
      "cell_type": "markdown",
      "metadata": {
        "id": "5hQ1nB-nMmGV"
      },
      "source": [
        "## Refresher - QK and OV circuits\n",
        "\n",
        "Before we start, a brief terminology note. I'll refer to weight matrices for a particular layer and head using superscript notation, e.g. $W_Q^{1.4}$ is the query matrix for the 4th head in layer 1, and it has shape `[d_model, d_head]` (remember that we multiply with weight matrices on the right). Similarly, attention patterns will be denoted $A^{1.4}$ (remember that these are **activations**, not parameters, since they're given by the formula $A^h = x W_{QK}^h x^T$, where $x$ is the residual stream (with shape `[seq_len, d_model]`).\n",
        "\n",
        "As a shorthand, I'll often have $A$ denote the one-hot encoding of token `A` (i.e. the vector with zeros everywhere except a one at the index of `A`), so $A^T W_E$ is the embedding vector for `A`.\n",
        "\n",
        "Lastly, I'll refer to special matrix products as follows:\n",
        "\n",
        "* $W_{OV}^{h} := W_V^{h}W_O^{h}$ is the **OV circuit** for head $h$, and $W_E W_{OV}^h W_U$ is the **full OV circuit**.\n",
        "* $W_{QK}^h := W_Q^h (W_K^h)^T$ is the **QK circuit** for head $h$, and $W_E W_{QK}^h W_E^T$ is the **full QK circuit**.\n",
        "\n",
        "Note that the order of these matrices are slightly different from the **Mathematical Frameworks** paper - this is a consequence of the way TransformerLens stores its weight matrices.\n"
      ]
    },
    {
      "cell_type": "markdown",
      "metadata": {
        "id": "aWtgyybxMl9N"
      },
      "source": [
        "#### Question - what is the interpretation of each of the following matrices?\n",
        "\n",
        "*There are quite a lot of questions here, but they are conceptually important. If you're confused, you might want to read the answers to the first few questions and then try the later ones.*\n",
        "\n",
        "In your answers, you should describe the type of input it takes, and what the outputs represent.\n",
        "\n",
        "#### $W_{OV}^{h}$\n",
        "\n",
        "<details>\n",
        "<summary>Answer</summary>\n",
        "\n",
        "$W_{OV}^{h}$ has size $(d_\\text{model}, d_\\text{model})$, it is a linear map describing **what information gets moved from source to destination, in the residual stream.**\n",
        "\n",
        "In other words, if $x$ is a vector in the residual stream, then $x^T W_{OV}^{h}$ is the vector written to the residual stream at the destination position, if the destination token only pays attention to the source token at the position of the vector $x$.\n",
        "</details>\n",
        "\n",
        "#### $W_E W_{OV}^h W_U$\n",
        "\n",
        "<details>\n",
        "<summary>Hint</summary>\n",
        "\n",
        "If $A$ is the one-hot encoding for token `A` (i.e. the vector with zeros everywhere except for a one in the position corresponding to token `A`), then think about what $A^T W_E W_{OV}^h W_U$ represents. You can evaluate this expression from left to right (e.g. start with thinking about what $A^T W_E$ represents, then multiply by the other two matrices).\n",
        "</details>\n",
        "<details>\n",
        "<summary>Answer</summary>\n",
        "\n",
        "$W_E W_{OV}^h W_U$ has size $(d_\\text{vocab}, d_\\text{vocab})$, it is a linear map describing **what information gets moved from source to destination, in a start-to-end sense.**\n",
        "\n",
        "If $A$ is the one-hot encoding for token `A`, then:\n",
        "\n",
        "* $A^T W_E$ is the embedding vector for `A`.\n",
        "* $A^T W_E W_{OV}^h$ is the vector which would get written to the residual stream at the destination position, if the destination token only pays attention to `A`.\n",
        "* $A^T W_E W_{OV}^h W_U$ is the unembedding of this vector, i.e. the thing which gets added to the final logits.\n",
        "\n",
        "</details>\n",
        "\n",
        "#### $W_{QK}^{h}$\n",
        "\n",
        "<details>\n",
        "<summary>Answer</summary>\n",
        "\n",
        "$W_{QK}^{h}$ has size $(d_\\text{model}, d_\\text{model})$, it is a bilinear form describing **where information is moved to and from** in the residual stream (i.e. which residual stream vectors attend to which others).\n",
        "\n",
        "$x_i^T W_{QK}^h x_j = (x_i^T W_Q^h) (x_j^T W_K^h)^T$ is the attention score paid by token $i$ to token $j$.\n",
        "</details>\n",
        "\n",
        "#### $W_E W_{QK}^h W_E^T$\n",
        "\n",
        "<details>\n",
        "<summary>Answer</summary>\n",
        "\n",
        "$W_E W_{QK}^h W_E^T$ has size $(d_\\text{vocab}, d_\\text{vocab})$, it is a bilinear form describing **where information is moved to and from**, among words in our vocabulary (i.e. which tokens pay attention to which others).\n",
        "\n",
        "If $A$ and $B$ are one-hot encodings for tokens `A` and `B`, then $A^T W_E W_{QK}^h W_E^T B$ is the attention score paid by token `A` to token `B`:\n",
        "\n",
        "$$\n",
        "A^T \\, W_E\\, W_{QK}^{h}\\, W_E^T \\, B = \\underbrace{(A^T W_E W_Q^{h})}_{\\text{query for token } A}  \\underbrace{(B^T W_E W_K^{h})^T}_{\\text{key for token }B}\n",
        "$$\n",
        "</details>\n",
        "\n",
        "#### $W_{pos} W_{QK}^h W_{pos}^T$\n",
        "\n",
        "<details>\n",
        "<summary>Answer</summary>\n",
        "\n",
        "$W_{pos} W_{QK}^h W_{pos}^T$ has size $(n_\\text{ctx}, n_\\text{ctx})$, it is a bilinear form describing **where information is moved to and from**, among tokens in our context (i.e. which token positions pay attention to other positions).\n",
        "\n",
        "If $i$ and $j$ are one-hot encodings for positions `i` and `j` (in other words they are just the ith and jth basis vectors), then $i^T W_{pos} W_{QK}^h W_{pos}^T j$ is the attention score paid by the token with position `i` to the token with position `j`:\n",
        "\n",
        "$$\n",
        "i^T \\, W_{pos}\\, W_{QK}^{h}\\, W_{pos}^T \\, j = \\underbrace{(i^T W_{pos} W_Q^{h})}_{\\text{query for i-th token}}  \\underbrace{(j^T W_{pos} W_K^{h})^T}_{\\text{key for j-th token}}\n",
        "$$\n",
        "\n",
        "</details>\n",
        "\n",
        "#### $W_E W_{OV}^{h_1} W_{QK}^{h_2} W_E^T$\n",
        "\n",
        "where $h_1$ is in an earlier layer than $h_2$.\n",
        "\n",
        "<details>\n",
        "<summary>Hint</summary>\n",
        "\n",
        "This matrix is best seen as a bilinear form of size $(d_\\text{vocab}, d_\\text{vocab})$. The $(A, B)$-th element is:\n",
        "\n",
        "$$\n",
        "(A^T W_E W_{OV}^{h_1}) W_{QK}^{h_2} (B^T W_E)^T\n",
        "$$\n",
        "</details>\n",
        "\n",
        "<details>\n",
        "<summary>Answer</summary>\n",
        "\n",
        "$W_E W_{OV}^{h_1} W_{QK}^{h_2} W_E^T$ has size $(d_\\text{vocab}, d_\\text{vocab})$, it is a bilinear form describing where information is moved to and from in head $h_2$, given that the **query-side vector** is formed from the output of head $h_1$. In other words, this is an instance of **Q-composition**.\n",
        "\n",
        "If $A$ and $B$ are one-hot encodings for tokens `A` and `B`, then $A^T W_E W_{OV}^{h_1} W_{QK}^{h_2} W_E^T B$ is the attention score paid **to** token `B`, **by** any token which attended strongly to an `A`-token in head $h_1$.\n",
        "\n",
        "---\n",
        "\n",
        "To further break this down, if it still seems confusing:\n",
        "\n",
        "$$\n",
        "\\begin{aligned}\n",
        "A^T \\, W_E\\, W_{OV}^{h_1} W_{QK}^{h_2}\\, W_E^T \\, B &= \\underbrace{(A^T W_E W_{OV}^{h_1}W_Q^{h_2})}_{\\text{query of token which attended to A}}  \\underbrace{(B^T W_E W_K^{h_2})^T}_\\text{key of token B} \\\\\n",
        "\\end{aligned}\n",
        "$$\n",
        "\n",
        "---\n",
        "\n",
        "Note that the actual attention score will be a sum of multiple terms, not just this one (in fact, we'd have a different term for every combination of query and key input). But this term describes the **particular contribution** to the attention score from this combination of query and key input, and it might be the case that this term is the only one that matters (i.e. all other terms don't much affect the final probabilities). We'll see something exactly like this later on.\n",
        "</details>\n"
      ]
    },
    {
      "cell_type": "markdown",
      "metadata": {
        "id": "BMO-17ZPMlpn"
      },
      "source": [
        "Before we start, there's a problem that we might run into when calculating all these matrices. Some of them are massive, and might not fit on our GPU. For instance, both full circuit matrices have shape $(d_\\text{vocab}, d_\\text{vocab})$, which in our case means $50278\\times 50278 \\approx 2.5\\times 10^{9}$ elements. Even if your GPU can handle this, it still seems inefficient. Is there any way we can meaningfully analyse these matrices, without actually having to calculate them?\n",
        "\n",
        "## Factored Matrix class\n",
        "\n",
        "In transformer interpretability, we often need to analyse low rank factorized matrices - a matrix $M = AB$, where M is `[large, large]`, but A is `[large, small]` and B is `[small, large]`. This is a common structure in transformers.\n",
        "\n",
        "For instance, we can factorise the OV circuit above as $W_{OV}^h = W_V^h W_O^h$, where $W_V^h$ has shape `[768, 64]` and $W_O^h$ has shape `[64, 768]`. For an even more extreme example, the full OV circuit can be written as $(W_E W_V^h) (W_O^h W_U)$, where these two matrices have shape `[50278, 64]` and `[64, 50278]` respectively. Similarly, we can write the full QK circuit as $(W_E W_Q^h) (W_E W_K^h)^T$.\n",
        "\n",
        "The `FactoredMatrix` class is a convenient way to work with these. It implements efficient algorithms for various operations on these, such as computing the trace, eigenvalues, Frobenius norm, singular value decomposition, and products with other matrices. It can (approximately) act as a drop-in replacement for the original matrix.\n",
        "\n",
        "This is all possible because knowing the factorisation of a matrix gives us a much easier way of computing its important properties. Intuitively, since $M=AB$ is a very large matrix that operates on very small subspaces, we shouldn't expect knowing the actual values $M_{ij}$ to be the most efficient way of storing it!\n"
      ]
    },
    {
      "cell_type": "markdown",
      "metadata": {
        "id": "IBL1qfvMPT8q"
      },
      "source": [
        "### Exercise - deriving properties of a factored matrix\n",
        "\n",
        "```c\n",
        "Difficulty: 🔴🔴🔴🔴⚪\n",
        "Importance: 🔵🔵⚪⚪⚪\n",
        "\n",
        "You shouldn't spend more than 10-25 minutes on this exercise.\n",
        "\n",
        "If you're less interested in the maths, you can skip these exercises.\n",
        "```\n",
        "\n",
        "To give you an idea of what kinds of properties you can easily compute if you have a factored matrix, let's try and derive some ourselves.\n",
        "\n",
        "Suppose we have $M=AB$, where $A$ has shape $(m, n)$, $B$ has shape $(n, m)$, and $m > n$. So $M$ is a size-$(m, m)$ matrix with rank at most $n$.\\;\n",
        "\n",
        "**Question - how can you easily compute the trace of $M$?**\n",
        "\n",
        "<details>\n",
        "<summary>Answer</summary>\n",
        "\n",
        "We have:\n",
        "\n",
        "$$\n",
        "\\text{Tr}(M) = \\text{Tr}(AB)\n",
        "= \\sum_{i=1}^m \\sum_{j=1}^n A_{ij} B_{ji}\n",
        "$$\n",
        "\n",
        "so evaluation of the trace is $O(mn)$.\n",
        "\n",
        "Note that, by cyclicity of the trace, we can also show that $\\text{Tr}(M) = \\text{Tr}(BA)$ (although we don't even need to calculate the product $AB$ to evaluate the trace).\n",
        "</details>\n",
        "\n",
        "**Question - how can you easily compute the eigenvalues of $M$?**\n",
        "\n",
        "(As you'll see in later exercises, eigenvalues are very important for evaluating matrices, for instance we can assess the [copying scores](https://transformer-circuits.pub/2021/framework/index.html#copying-matrix) of an OV circuit by looking at the eigenvalues of $W_{OV}$.)\n",
        "\n",
        "<details>\n",
        "<summary>Hint</summary>\n",
        "\n",
        "It's computationally cheaper to find the eigenvalues of $BA$ rather than $AB$.\n",
        "\n",
        "How are the eigenvalues of $AB$ and $BA$ related?\n",
        "</details>\n",
        "<details>\n",
        "<summary>Answer</summary>\n",
        "\n",
        "The eigenvalues of $AB$ and $BA$ are related as follows: if $\\mathbf{v}$ is an eigenvector of $AB$ with $ABv = \\lambda \\mathbf{v}$, then $B\\mathbf{v}$ is an eigenvector of $BA$ with the same eigenvalue:\n",
        "\n",
        "$$\n",
        "BA(B\\mathbf{v}) = B (AB\\mathbf{v}) = B (\\lambda \\mathbf{v}) = \\lambda (B\\mathbf{v})\n",
        "$$\n",
        "\n",
        "This only fails when $B\\mathbf{v} = \\mathbf{0}$, but in this case $AB\\mathbf{v} = \\mathbf{0}$ so $\\lambda = 0$. Thus, we can conclude that any non-zero eigenvalues of $AB$ are also eigenvalues of $BA$.\n",
        "\n",
        "It's much computationally cheaper to compute the eigenvalues of $BA$ (since it's a much smaller matrix), and this gives us all the non-zero eigenvalues of $AB$.\n",
        "</details>\n",
        "\n",
        "**Question (hard) - how can you easily compute the SVD of $M$?**\n",
        "\n",
        "<details>\n",
        "<summary>Hint</summary>\n",
        "\n",
        "For a size-$(m, n)$ matrix with $m > n$, the [algorithmic complexity of finding SVD](https://en.wikipedia.org/wiki/Singular_value_decomposition#Numerical_approach) is $O(mn^2)$. So it's relatively cheap to find the SVD of $A$ and $B$ (complexity $mn^2$ vs $m^3$). Can you use that to find the SVD of $M$?\n",
        "</details>\n",
        "\n",
        "\n",
        "<details>\n",
        "<summary>Answer</summary>\n",
        "\n",
        "It's much cheaper to compute the SVD of the small matrices $A$ and $B$. Denote these SVDs by:\n",
        "\n",
        "$$\n",
        "\\begin{aligned}\n",
        "A &= U_A S_A V_A^T \\\\\n",
        "B &= U_B S_B V_B^T\n",
        "\\end{aligned}\n",
        "$$\n",
        "\n",
        "where $U_A$ and $V_B$ are $(m, n)$, and the other matrices are $(n, n)$.\n",
        "\n",
        "Then we have:\n",
        "\n",
        "$$\n",
        "\\begin{aligned}\n",
        "\\quad\\quad\\quad\\quad M &= AB \\\\\n",
        "&= U_A (S_A V_A^T U_B S_B) V_B^T\n",
        "\\end{aligned}\n",
        "$$\n",
        "\n",
        "Note that the matrix in the middle has size $(n, n)$ (i.e. small), so we can compute its SVD cheaply:\n",
        "\n",
        "$$\n",
        "\\begin{aligned}\n",
        "\\; S_A V_A^T U_B S_B &= U' S' {V'}^T \\quad\\quad\\quad\\quad\\quad\n",
        "\\end{aligned}\n",
        "$$\n",
        "\n",
        "and finally, this gives us the SVD of $M$:\n",
        "\n",
        "$$\n",
        "\\begin{aligned}\n",
        "\\quad\\quad M &= U_A U' S' {V'}^T V_B^T \\\\\n",
        "&= U S {V'}^T\n",
        "\\end{aligned}\n",
        "$$\n",
        "\n",
        "where $U = U_A U'$, $V = V_B V'$, and $S = S'$.\n",
        "\n",
        "All our SVD calculations and matrix multiplications had complexity at most $O(mn^2)$, which is much better than $O(m^3)$ (remember that we don't need to compute all the values of $U = U_A U'$, only the ones which correspond to non-zero singular values).\n",
        "</details>\n",
        "\n",
        "If you're curious, you can go to the `FactoredMatrix` documentation to see the implementation of the SVD calculation, as well as other properties and operations.\n"
      ]
    },
    {
      "cell_type": "markdown",
      "metadata": {
        "id": "QbfBXlYcPpxt"
      },
      "source": [
        "Now that we've discussed some of the motivations behind having a `FactoredMatrix` class, let's see it in action.\n",
        "\n",
        "### Basic Examples\n",
        "\n",
        "We can use the basic class directly - let's make a factored matrix directly and look at the basic operations:\n"
      ]
    },
    {
      "cell_type": "code",
      "execution_count": null,
      "metadata": {
        "id": "5LIr_ivOPsk2"
      },
      "outputs": [],
      "source": [
        "A = t.randn(5, 2)\n",
        "B = t.randn(2, 5)\n",
        "AB = A @ B\n",
        "AB_factor = FactoredMatrix(A, B)\n",
        "print(\"Norms:\")\n",
        "print(AB.norm())\n",
        "print(AB_factor.norm())\n",
        "\n",
        "print(f\"Right dimension: {AB_factor.rdim}, Left dimension: {AB_factor.ldim}, Hidden dimension: {AB_factor.mdim}\")"
      ]
    },
    {
      "cell_type": "markdown",
      "metadata": {
        "id": "5YmNMkIYPuqq"
      },
      "source": [
        "We can also look at the eigenvalues and singular values of the matrix. Note that, because the matrix is rank 2 but 5 by 5, the final 3 eigenvalues and singular values are zero - the factored class omits the zeros.\n"
      ]
    },
    {
      "cell_type": "code",
      "execution_count": null,
      "metadata": {
        "id": "tlFXprK4Pweo"
      },
      "outputs": [],
      "source": [
        "print(\"Eigenvalues:\")\n",
        "print(t.linalg.eig(AB).eigenvalues)\n",
        "print(AB_factor.eigenvalues)\n",
        "print()\n",
        "print(\"Singular Values:\")\n",
        "print(t.linalg.svd(AB).S)\n",
        "print(AB_factor.S)\n",
        "print(\"Full SVD:\")\n",
        "print(AB_factor.svd())"
      ]
    },
    {
      "cell_type": "markdown",
      "metadata": {
        "id": "FhP6qtywPTy-"
      },
      "source": [
        "<details>\n",
        "<summary>Aside - the sizes of objects returned by the SVD method.</summary>\n",
        "\n",
        "If $M = USV^T$, and `M.shape = (m, n)` and the rank is `r`, then the SVD method returns the matrices $U, S, V$. They have shape `(m, r)`, `(r,)`, and `(n, r)` respectively, because:\n",
        "\n",
        "* We don't bother storing the off-diagonal entries of $S$, since they're all zero.\n",
        "* We don't bother storing the columns of $U$ and $V$ which correspond to zero singular values, since these won't affect the value of $USV^T$.\n",
        "</details>\n",
        "\n",
        "We can multiply a factored matrix with an unfactored matrix to get another factored matrix (as in example below). We can also multiply two factored matrices together to get another factored matrix.\n"
      ]
    },
    {
      "cell_type": "code",
      "execution_count": null,
      "metadata": {
        "id": "ZUpuZj-kP5cz"
      },
      "outputs": [],
      "source": [
        "C = t.randn(5, 300)\n",
        "ABC = AB @ C\n",
        "ABC_factor = AB_factor @ C\n",
        "print(\"Unfactored:\", ABC.shape, ABC.norm())\n",
        "print(\"Factored:\", ABC_factor.shape, ABC_factor.norm())\n",
        "print(f\"Right dimension: {ABC_factor.rdim}, Left dimension: {ABC_factor.ldim}, Hidden dimension: {ABC_factor.mdim}\")"
      ]
    },
    {
      "cell_type": "markdown",
      "metadata": {
        "id": "vWGT1Do4P6zQ"
      },
      "source": [
        "If we want to collapse this back to an unfactored matrix, we can use the `AB` property to get the product:\n"
      ]
    },
    {
      "cell_type": "code",
      "execution_count": null,
      "metadata": {
        "id": "GjPwvpg_P7rX"
      },
      "outputs": [],
      "source": [
        "AB_unfactored = AB_factor.AB\n",
        "t.testing.assert_close(AB_unfactored, AB)"
      ]
    },
    {
      "cell_type": "markdown",
      "metadata": {
        "id": "AV6Ldh8cPTqN"
      },
      "source": [
        "## Reverse-engineering circuits\n",
        "\n",
        "Within our induction circuit, we have four individual circuits: the OV and QK circuits in our previous token head, and the OV and QK circuits in our induction head. In the following sections of the exercise, we'll reverse-engineer each of these circuits in turn.\n",
        "\n",
        "* In the section **OV copying circuit**, we'll look at the layer-1 OV circuit.\n",
        "* In the section **QK prev-token circuit**, we'll look at the layer-0 QK circuit.\n",
        "* The third section (**K-composition**) is a bit trickier, because it involves looking at the composition of the layer-0 OV circuit **and** layer-1 QK circuit. We will have to do two things:\n",
        "    1. Show that these two circuits are composing (i.e. that the output of the layer-0 OV circuit is the main determinant of the key vectors in the layer-1 QK circuit).\n",
        "    2. Show that the joint operation of these two circuits is \"make the second instance of a token attend to the token *following* an earlier instance.\n",
        "\n",
        "The dropdown below contains a diagram explaining how the three sections relate to the different components of the induction circuit. You might have to open it in a new tab to see it clearly.\n",
        "\n",
        "<details>\n",
        "<summary>Diagram</summary>\n",
        "\n",
        "![kcomp](https://raw.githubusercontent.com/callummcdougall/computational-thread-art/master/example_images/misc/kcomp_diagram_described_2_new.png)\n",
        "</details>\n",
        "\n",
        "After this, we'll have a look at composition scores, which are a more mathematically justified way of showing that two attention heads are composing (without having to look at their behaviour on any particular class of inputs, since it is a property of the actual model weights).\n"
      ]
    },
    {
      "cell_type": "markdown",
      "metadata": {
        "id": "JDERB3SXPTUC"
      },
      "source": [
        "## [1] OV copying circuit\n",
        "\n",
        "Let's start with an easy parts of the circuit - the copying OV circuit of `1.4` and `1.10`. Let's start with head 4. The only interpretable (read: **privileged basis**) things here are the input tokens and output logits, so we want to study the matrix:\n",
        "\n",
        "$$\n",
        "W_E W_{OV}^{1.4} W_U\n",
        "$$\n",
        "\n",
        "(and same for `1.10`). This is the $(d_\\text{vocab}, d_\\text{vocab})$-shape matrix that combines with the attention pattern to get us from input to output.\n",
        "\n",
        "We want to calculate this matrix, and inspect it. We should find that its diagonal values are very high, and its non-diagonal values are much lower.\n",
        "\n",
        "**Question - why should we expect this observation?** (you may find it helpful to refer back to the previous section, where you described what the interpretation of different matrices was.)\n",
        "\n",
        "<details>\n",
        "<summary>Hint</summary>\n",
        "\n",
        "Suppose our repeating sequence is `A B ... A B`. Let $A$, $B$ be the corresponding one-hot encoded tokens. The `B`-th row of this matrix is:\n",
        "\n",
        "$$\n",
        "B^T W_E W_{OV}^{1.4} W_U\n",
        "$$\n",
        "\n",
        "What is the interpretation of this expression, in the context of our attention head?\n",
        "</details>\n",
        "\n",
        "<!-- <details> -->\n",
        "<summary>Answer</summary>\n",
        "\n",
        "If our repeating sequence is `A B ... A B`, then:\n",
        "\n",
        "$$\n",
        "B^T W_E W_{OV}^{1.4} W_U\n",
        "$$\n",
        "\n",
        "is the **vector of logits which gets moved from the first `B` token to the second `A` token, to be used as the prediction for the token following the second `A` token**. It should result in a high prediction for `B`, and a low prediction for everything else. In other words, the `(B, X)`-th element of this matrix should be highest for `X=B`, which is exactly what we claimed.\n",
        "\n",
        "---\n",
        "\n",
        "If this still seems confusing, let's break it down bit by bit. We have:\n",
        "\n",
        "* $B^T W_E$ is the token-embedding of `B`.\n",
        "* $B^T W_E W_{OV}^{1.4}$ is the vector which gets moved from the first `B` token to the second `A` token, by our attention head (because the second `A` token attends strongly to the first `B`).\n",
        "* $B^T W_E W_{OV}^{1.4} W_U$ is the vector of logits representing how this attention head affects the prediction of the token following the second `A`. There should be a higher logit for `B` than for any other token, because the attention head is trying to copy `B` to the second `A`.\n",
        "\n",
        "---\n",
        "\n",
        "<img src=\"https://raw.githubusercontent.com/callummcdougall/computational-thread-art/master/example_images/misc/kcomp_diagram_described-OV-end.png\" width=\"500\">\n",
        "\n",
        "</details>\n"
      ]
    },
    {
      "cell_type": "markdown",
      "metadata": {
        "id": "5LfzLieWPTgi"
      },
      "source": [
        "### Exercise - compute OV circuit for `1.4`\n",
        "\n",
        "*This is the first of several similar exercises where you calculate a circuit by multiplying matrices. This exercise is pretty important (in particular, you should make sure you understand what this matrix represents and why we're interested in it), but the actual calculation shouldn't take very long.*\n"
      ]
    },
    {
      "cell_type": "markdown",
      "metadata": {
        "id": "mw0P4WTGMjU2"
      },
      "source": [
        "You should compute it as a `FactoredMatrix` object.\n",
        "\n",
        "Remember, you can access the model's weights directly e.g. using `model.W_E` or `model.W_Q` (the latter gives you all the `W_Q` matrices, indexed by layer and head).\n"
      ]
    },
    {
      "cell_type": "code",
      "execution_count": null,
      "metadata": {
        "id": "QamUKy6mUQqo"
      },
      "outputs": [],
      "source": [
        "layer = 1\n",
        "head_index = 4\n",
        "\n",
        "# YOUR CODE HERE - compte the `full_OV_circuit` object\n",
        "\n",
        "tests.test_full_OV_circuit(full_OV_circuit, model, layer, head_index)"
      ]
    },
    {
      "cell_type": "markdown",
      "metadata": {
        "id": "KzRwrMMZUSun"
      },
      "source": [
        "<details>\n",
        "<summary>Help - I'm not sure how to use this class to compute a product of more than 2 matrices.</summary>\n",
        "\n",
        "You can compute it directly, as:\n",
        "\n",
        "```python\n",
        "full_OV_circuit = FactoredMatrix(W_E @ W_V, W_O @ W_U)\n",
        "```\n",
        "\n",
        "Alternatively, another nice feature about the `FactoredMatrix` class is that you can chain together matrix multiplications. The following code defines exactly the same `FactoredMatrix` object:\n",
        "\n",
        "```python\n",
        "OV_circuit = FactoredMatrix(W_V, W_O)\n",
        "full_OV_circuit = W_E @ OV_circuit @ W_U\n",
        "```\n",
        "</details>"
      ]
    },
    {
      "cell_type": "markdown",
      "metadata": {
        "id": "c-PjNsfdPS43"
      },
      "source": [
        "### Exercise - verify this is the identity\n",
        "\n",
        "```c\n",
        "Difficulty: 🔴🔴⚪⚪⚪\n",
        "Importance: 🔵🔵🔵⚪⚪\n",
        "\n",
        "You shouldn't spend more than 5-10 minutes on this exercise.\n",
        "\n",
        "This exercise should be very short; it only requires 2 lines of code. Understanding it conceptually is more important than the actual coding.\n",
        "```\n"
      ]
    },
    {
      "cell_type": "markdown",
      "metadata": {
        "id": "h4deQSV5M33H"
      },
      "source": [
        "Now we want to check that this matrix is the identity. Since it's in factored matrix form, this is a bit tricky, but there are still things we can do.\n",
        "\n",
        "First, to validate that it looks diagonal-ish, let's pick 200 random rows and columns and visualise that - it should at least look identity-ish here!\n"
      ]
    },
    {
      "cell_type": "code",
      "execution_count": null,
      "metadata": {
        "id": "qXgRTO1jUbqi"
      },
      "outputs": [],
      "source": [
        "# YOUR CODE HERE - get a random sample from the full OV circuit, so it can be plotted with `imshow`\n",
        "imshow(\n",
        "    full_OV_circuit_sample,\n",
        "    labels={\"x\": \"Input token\", \"y\": \"Logits on output token\"},\n",
        "    title=\"Full OV circuit for copying head\",\n",
        "    width=700,\n",
        ")"
      ]
    },
    {
      "cell_type": "markdown",
      "metadata": {
        "id": "ef6iWjQsUdDd"
      },
      "source": [
        "<details>\n",
        "<summary>Aside - indexing factored matrices</summary>\n",
        "\n",
        "Yet another nice thing about factored matrices is that you can evaluate small submatrices without having to compute the entire matrix. This is based on the fact that the `[i, j]`-th element of matrix `AB` is `A[i, :] @ B[:, j]`.\n",
        "\n",
        "When you index a factored matrix, you get back another factored matrix. So rather than explicitly calculating `A[left_indices, :] @ B[:, left_indices]`, we can just write `AB[left_indices, left_indices]`.\n",
        "</details>\n",
        "\n",
        "You should observe a pretty distinct diagonal pattern here, which is a good sign. However, the matrix is pretty noisy so it probably won't be exactly the identity. Instead, we should come up with a summary statistic to capture a rough sense of \"closeness to the identity\".\n",
        "\n",
        "**Accuracy** is a good summary statistic - what fraction of the time is the largest logit in a row on the diagonal? Even if there's lots of noise, you'd probably still expect the largest logit to be on the diagonal a good deal of the time.\n",
        "\n",
        "If you're on a Colab or have a powerful GPU, you should be able to compute the full matrix and perform this test. However, it's better practice to iterate through this matrix when we can, so that we avoid CUDA issues. We've given you a `batch_size` argument in the function below, and you should try to only explicitly calculate matrices of size `d_vocab * batch_size` rather than the massive matrix of `d_vocab * d_vocab`."
      ]
    },
    {
      "cell_type": "code",
      "execution_count": null,
      "metadata": {
        "id": "0fa73_qlUy9P"
      },
      "outputs": [],
      "source": [
        "def top_1_acc(full_OV_circuit: FactoredMatrix, batch_size: int = 1000) -> float:\n",
        "    '''\n",
        "    This should take the argmax of each column (ie over dim=0) and return the fraction of the time that's equal to the correct logit\n",
        "    '''\n",
        "    pass\n",
        "\n",
        "\n",
        "print(f\"Fraction of the time that the best logit is on the diagonal: {top_1_acc(full_OV_circuit):.4f}\")"
      ]
    },
    {
      "cell_type": "markdown",
      "metadata": {
        "id": "f0omG_tnU01V"
      },
      "source": [
        "This should return about 30.79% - pretty underwhelming. It goes up to 47.73% for top-5. What's up with that?\n"
      ]
    },
    {
      "cell_type": "markdown",
      "metadata": {
        "id": "womxCKC-Uc73"
      },
      "source": [
        "### Exercise - compute effective circuit\n",
        "\n",
        "```c\n",
        "Difficulty: 🔴🔴⚪⚪⚪\n",
        "Importance: 🔵🔵🔵⚪⚪\n",
        "\n",
        "You shouldn't spend more than 5-10 minutes on this exercise.\n",
        "\n",
        "This exercise should be very short; it only requires 2 lines of code. Understanding it conceptually is more important than the actual coding.\n",
        "```\n"
      ]
    },
    {
      "cell_type": "markdown",
      "metadata": {
        "id": "xIFaowSONYhc"
      },
      "source": [
        "Now we return to why we have *two* induction heads. If both have the same attention pattern, the effective OV circuit is actually $W_E(W_V^{1.4}W_O^{1.4}+W_V^{1.10}W_O^{1.10})W_U$, and this is what matters. So let's re-run our analysis on this!\n",
        "\n",
        "<img src=\"https://raw.githubusercontent.com/callummcdougall/computational-thread-art/master/example_images/misc/effective_ov_circuit.png\" width=\"650\">\n"
      ]
    },
    {
      "cell_type": "markdown",
      "metadata": {
        "id": "cvvIxncCV5nJ"
      },
      "source": [
        "<details>\n",
        "<summary>Question - why might the model want to split the circuit across two heads?</summary>\n",
        "\n",
        "Because $W_V W_O$ is a rank 64 matrix. The sum of two is a rank 128 matrix. This can be a significantly better approximation to the desired 50K x 50K matrix!\n",
        "</details>\n"
      ]
    },
    {
      "cell_type": "code",
      "execution_count": null,
      "metadata": {
        "id": "f83trUNAV6ij"
      },
      "outputs": [],
      "source": [
        "# YOUR CODE HERE - compute the effective OV circuit, and run `top_1_acc` on it"
      ]
    },
    {
      "cell_type": "markdown",
      "metadata": {
        "id": "QixqCn7kV94q"
      },
      "source": [
        "<details>\n",
        "<summary>Expected output</summary>\n",
        "\n",
        "You should get an accuracy of 95.6% for top-1, and 98% for top-5 - much better!\n",
        "</details>\n"
      ]
    },
    {
      "cell_type": "markdown",
      "metadata": {
        "id": "1Y89hhZsWB7V"
      },
      "source": [
        "## [2] QK prev-token circuit\n",
        "\n",
        "The other easy circuit is the QK-circuit of L0H7 - how does it know to be a previous token circuit?\n",
        "\n",
        "We can multiply out the full QK circuit via the positional embeddings:\n",
        "\n",
        "$$\n",
        "W_\\text{pos} W_Q^{0.7} (W_K^{0.7})^T W_\\text{pos}^T\n",
        "$$\n",
        "\n",
        "to get a matrix `pos_by_pos` of shape `[max_ctx, max_ctx]` (max ctx = max context length, i.e. maximum length of a sequence we're allowing, which is set by our choice of dimensions in $W_\\text{pos}$).\n",
        "\n",
        "Note that in this case, our max context window is 2048 (we can check this via `model.cfg.n_ctx`). This is much smaller than the 50k-size matrices we were working with in the previous section, so we shouldn't need to use the factored matrix class here.\n",
        "\n",
        "Once we calculate it, we can then mask it and apply a softmax, and should get a clear stripe on the lower diagonal (Tip: Click and drag to zoom in, hover over cells to see their values and indices!)\n"
      ]
    },
    {
      "cell_type": "markdown",
      "metadata": {
        "id": "AzWvf8XQWD28"
      },
      "source": [
        "<details>\n",
        "<summary>Question - why should we expect this matrix to have a lower-diagonal stripe?</summary>\n",
        "\n",
        "The full QK circuit $W_\\text{pos} W_{QK}^{0.7} W_\\text{pos}^T$ has shape `[n_ctx, n_ctx]`. It is a bilinear form, with the $(i, j)$-th element representing the attention score paid by the $i$-th token to the $j$-th token. This should be very large when $j = i - 1$ (and smaller for all other values of $j$), because this is a **previous head token**. So if we softmax over $j$, we should get a lower-diagonal stripe of 1.\n",
        "\n",
        "<img src=\"https://raw.githubusercontent.com/callummcdougall/computational-thread-art/master/example_images/misc/kcomp_diagram_described-QK-last.png\" width=\"600\">\n",
        "\n",
        "</details>\n",
        "\n",
        "Why is it justified to ignore token encodings? In this case, it turns out that the positional encodings have a much larger effect on the attention scores than the token encodings. If you want, you can verify this for yourself - after going through the next section (reverse-engineering K-composition), you'll have a better sense of how to perform attribution on the inputs to attention heads, and assess their importance).\n"
      ]
    },
    {
      "cell_type": "markdown",
      "metadata": {
        "id": "3Kq1FabjWjF4"
      },
      "source": [
        "### Exercise - compute full QK-circuit for `0.7`\n",
        "\n",
        "```c\n",
        "Difficulty: 🔴🔴🔴⚪⚪\n",
        "Importance: 🔵🔵🔵⚪⚪\n",
        "\n",
        "You shouldn't spend more than 10-15 minutes on this exercise.\n",
        "\n",
        "The fiddly masking and scaling steps make this exercise a bit harder than the last one. Look at the solution if you don't see where you're going wrong.\n",
        "```\n",
        "\n",
        "*This is another relatively simple matrix multiplication, although it's a bit fiddly on account of the  masking and scaling steps. If you understand what you're being asked to do but still not passing the tests, you should probably look at the solution.*\n"
      ]
    },
    {
      "cell_type": "markdown",
      "metadata": {
        "id": "-h8HM0LPN4-o"
      },
      "source": [
        "Now, you should compute and plot the matrix.\n",
        "\n",
        "Remember, you're calculating the attention pattern (i.e. probabilites) not the scores. You'll need to mask the scores (you can use the `mask_scores` function we've provided you with), and scale them.\n"
      ]
    },
    {
      "cell_type": "code",
      "execution_count": null,
      "metadata": {
        "id": "sUb-JFppWkg-"
      },
      "outputs": [],
      "source": [
        "def mask_scores(attn_scores: Float[Tensor, \"query_nctx key_nctx\"]):\n",
        "    '''Mask the attention scores so that tokens don't attend to previous tokens.'''\n",
        "    assert attn_scores.shape == (model.cfg.n_ctx, model.cfg.n_ctx)\n",
        "    mask = t.tril(t.ones_like(attn_scores)).bool()\n",
        "    neg_inf = t.tensor(-1.0e6).to(attn_scores.device)\n",
        "    masked_attn_scores = t.where(mask, attn_scores, neg_inf)\n",
        "    return masked_attn_scores\n",
        "\n",
        "\n",
        "    # YOUR CODE HERE - calculate the matrix `pos_by_pos_pattern` as described above\n",
        "tests.test_pos_by_pos_pattern(pos_by_pos_pattern, model, layer, head_index)"
      ]
    },
    {
      "cell_type": "markdown",
      "metadata": {
        "id": "-q20PTgEWmIm"
      },
      "source": [
        "Once the tests pass, you can plot a corner of your matrix:\n"
      ]
    },
    {
      "cell_type": "code",
      "execution_count": null,
      "metadata": {
        "id": "L8dylbJWtxI7"
      },
      "outputs": [],
      "source": [
        "print(f\"Avg lower-diagonal value: {pos_by_pos_pattern.diag(-1).mean():.4f}\")\n",
        "\n",
        "imshow(\n",
        "    utils.to_numpy(pos_by_pos_pattern[:100, :100]),\n",
        "    labels={\"x\": \"Key\", \"y\": \"Query\"},\n",
        "    title=\"Attention patterns for prev-token QK circuit, first 100 indices\",\n",
        "    width=700\n",
        ")"
      ]
    },
    {
      "cell_type": "markdown",
      "metadata": {
        "id": "D4LbhcE5Uc0F"
      },
      "source": [
        "## [3] K-composition circuit\n",
        "\n",
        "We now dig into the hard part of the circuit - demonstrating the K-Composition between the previous token head and the induction head.\n",
        "\n",
        "#### Splitting activations\n",
        "\n",
        "We can repeat the trick from the logit attribution scores. The QK-input for layer 1 is the sum of 14 terms (2+n_heads) - the token embedding, the positional embedding, and the results of each layer 0 head. So for each head $\\text{H}$ in layer 1, the query tensor (ditto key) corresponding to sequence position $i$ is:\n",
        "\n",
        "$$\n",
        "\\begin{align*}\n",
        "x W^\\text{1.H}_Q &= (e + pe + \\sum_{h=0}^{11} x^\\text{0.h}) W^\\text{1.H}_Q \\\\\n",
        "&= e W^\\text{1.H}_Q + pe W^\\text{1.H}_Q + \\sum_{h=0}^{11} x^\\text{0.h} W^\\text{1.H}_Q\n",
        "\\end{align*}\n",
        "$$\n",
        "\n",
        "where $e$ stands for the token embedding, $pe$ for the positional embedding, and $x^\\text{0.h}$ for the output of head $h$ in layer 0 (and the sum of these tensors equals the residual stream $x$). All these tensors have shape `[seq, d_model]`. So we can treat the expression above as a sum of matrix multiplications `[seq, d_model] @ [d_model, d_head] -> [seq, d_head]`.\n",
        "\n",
        "For ease of notation, I'll refer to the 14 inputs as $(y_0, y_1, ..., y_{13})$ rather than $(e, pe, x^\\text{0.h}, ..., x^{h.11})$. So we have:\n",
        "\n",
        "$$\n",
        "x W^h_Q = \\sum_{i=0}^{13} y_i W^h_Q\n",
        "$$\n",
        "\n",
        "with each $y_i$ having shape `[seq, d_model]`, and the sum of $y_i$s being the full residual stream $x$. Here is a diagram to illustrate:\n",
        "\n",
        "<img src=\"https://raw.githubusercontent.com/callummcdougall/computational-thread-art/master/example_images/misc/components.png\" width=\"550\">\n"
      ]
    },
    {
      "cell_type": "markdown",
      "metadata": {
        "id": "9X_s8YfsUctM"
      },
      "source": [
        "### Exercise - analyse the relative importance\n",
        "\n",
        "```c\n",
        "Difficulty: 🔴🔴🔴🔴⚪\n",
        "Importance: 🔵🔵🔵🔵⚪\n",
        "\n",
        "You shouldn't spend more than 15-25 minutes on these exercises.\n",
        "\n",
        "Most of these functions just involve indexing and einsums, but conceptual understanding / figuring out exactly what the question is asking for is the hard part!\n",
        "```\n"
      ]
    },
    {
      "cell_type": "markdown",
      "metadata": {
        "id": "NhlziOldQlda"
      },
      "source": [
        "We can now analyse the relative importance of these 14 terms! A very crude measure is to take the norm of each term (by component and position).\n",
        "\n",
        "Note that this is a pretty dodgy metric - q and k are not inherently interpretable! But it can be a good and easy-to-compute proxy.\n",
        "\n",
        "<details>\n",
        "<summary>Question - why are Q and K not inherently interpretable? Why might the norm be a good metric in spite of this?</summary>\n",
        "\n",
        "They are not inherently interpretable because they operate on the residual stream, which doesn't have a **privileged basis**. You could stick a rotation matrix $R$ after all of the $Q$, $K$ and $V$ weights (and stick a rotation matrix before everything that writes to the residual stream), and the model would still behave exactly the same.\n",
        "\n",
        "The reason taking the norm is still a reasonable thing to do is that, despite the individual elements of these vectors not being inherently interpretable, it's still a safe bet that if they are larger than they will have a greater overall effect on the residual stream. So looking at the norm doesn't tell us how they work, but it does indicate which ones are more important.\n",
        "</details>\n",
        "\n",
        "Fill in the functions below:\n"
      ]
    },
    {
      "cell_type": "code",
      "execution_count": null,
      "metadata": {
        "id": "JQmd48vgW5_v"
      },
      "outputs": [],
      "source": [
        "def decompose_qk_input(cache: ActivationCache) -> Tensor:\n",
        "    '''\n",
        "    Output is decomposed_qk_input, with shape [2+num_heads, seq, d_model]\n",
        "\n",
        "    The [i, 0, 0]th element is y_i (from notation above)\n",
        "    '''\n",
        "    pass\n",
        "\n",
        "\n",
        "def decompose_q(\n",
        "    decomposed_qk_input: Float[Tensor, \"n_heads+2 posn d_head\"],\n",
        "    ind_head_index: int,\n",
        "    model: HookedTransformer,\n",
        ") -> Tensor:\n",
        "    '''\n",
        "    Output is decomposed_q with shape [2+num_heads, position, d_head]\n",
        "\n",
        "    The [i, :, :]th element is y_i @ W_Q (so the sum along axis 0 is just the q-values)\n",
        "    '''\n",
        "    pass\n",
        "\n",
        "\n",
        "def decompose_k(\n",
        "    decomposed_qk_input: Float[Tensor, \"n_heads+2 posn d_head\"],\n",
        "    ind_head_index: int,\n",
        "    model: HookedTransformer,\n",
        ") -> Tensor:\n",
        "    '''\n",
        "    Output is decomposed_k with shape [2+num_heads, position, d_head]\n",
        "\n",
        "    The [i, :, :]th element is y_i @ W_K (so the sum along axis 0 is just the k-values)\n",
        "    '''\n",
        "    pass\n",
        "\n",
        "\n",
        "ind_head_index = 4\n",
        "# First we get decomposed q and k input, and check they're what we expect\n",
        "decomposed_qk_input = decompose_qk_input(rep_cache)\n",
        "decomposed_q = decompose_q(decomposed_qk_input, ind_head_index)\n",
        "decomposed_k = decompose_k(decomposed_qk_input, ind_head_index)\n",
        "t.testing.assert_close(decomposed_qk_input.sum(0), rep_cache[\"resid_pre\", 1] + rep_cache[\"pos_embed\"], rtol=0.01, atol=1e-05)\n",
        "t.testing.assert_close(decomposed_q.sum(0), rep_cache[\"q\", 1][:, ind_head_index], rtol=0.01, atol=0.001)\n",
        "t.testing.assert_close(decomposed_k.sum(0), rep_cache[\"k\", 1][:, ind_head_index], rtol=0.01, atol=0.01)\n",
        "# Second, we plot our results\n",
        "component_labels = [\"Embed\", \"PosEmbed\"] + [f\"0.{h}\" for h in range(model.cfg.n_heads)]\n",
        "for decomposed_input, name in [(decomposed_q, \"query\"), (decomposed_k, \"key\")]:\n",
        "    imshow(\n",
        "        utils.to_numpy(decomposed_input.pow(2).sum([-1])),\n",
        "        labels={\"x\": \"Position\", \"y\": \"Component\"},\n",
        "        title=f\"Norms of components of {name}\",\n",
        "        y=component_labels,\n",
        "        width=1000, height=400\n",
        "    )"
      ]
    },
    {
      "cell_type": "markdown",
      "metadata": {
        "id": "pUaYPdg6Ucfj"
      },
      "source": [
        "<details>\n",
        "<summary>What you should see</summary>\n",
        "\n",
        "You should see that the most important query components are the token and positional embeddings. The most important key components are those from $y_9$, which is $x_7$, i.e. from head `0.7`.\n",
        "\n",
        "</details>\n",
        "\n",
        "<details>\n",
        "\n",
        "<summary>A technical note on the positional embeddings - optional, feel free to skip this.</summary>\n",
        "\n",
        "You might be wondering why the tests compare the decomposed qk sum with the sum of the `resid_pre + pos_embed`, rather than just `resid_pre`. The answer lies in how we defined the transformer, specifically in this line from the config:\n",
        "\n",
        "```python\n",
        "positional_embedding_type=\"shortformer\"\n",
        "```\n",
        "\n",
        "The result of this is that the positional embedding isn't added to the residual stream. Instead, it's added as inputs to the Q and K calculation (i.e. we calculate `(resid_pre + pos_embed) @ W_Q` and same for `W_K`), but **not** as inputs to the V calculation (i.e. we just calculate `resid_pre @ W_V`). This isn't actually how attention works in general, but for our purposes it makes the analysis of induction heads cleaner because we don't have positional embeddings interfering with the OV circuit.\n",
        "\n",
        "**Question - this type of embedding actually makes it impossible for attention heads to form via Q-composition. Can you see why?**\n",
        "</details>\n",
        "\n"
      ]
    },
    {
      "cell_type": "markdown",
      "source": [
        "This tells us which heads are probably important, but we can do better than that. Rather than looking at the query and key components separately, we can see how they combine together - i.e. take the decomposed attention scores.\n",
        "\n",
        "This is a bilinear function of q and k, and so we will end up with a `decomposed_scores` tensor with shape `[query_component, key_component, query_pos, key_pos]`, where summing along BOTH of the first axes will give us the original attention scores (pre-mask).\n"
      ],
      "metadata": {
        "id": "lvlVMODYmagm"
      }
    },
    {
      "cell_type": "markdown",
      "metadata": {
        "id": "KZvU04gYXRXq"
      },
      "source": [
        "### Exercise - decompose attention scores\n",
        "\n",
        "```c\n",
        "Difficulty: 🔴🔴⚪⚪⚪\n",
        "Importance: 🔵🔵🔵🔵⚪\n",
        "\n",
        "You shouldn't spend more than 5-10 minutes on this exercise.\n",
        "\n",
        "Having already done the previous exercises, this one should be easier.\n",
        "```\n",
        "\n",
        "Implement the function giving the decomposed scores (remember to scale by `sqrt(d_head)`!) For now, don't mask it.\n",
        "\n",
        "<details>\n",
        "<summary>Question - why do I focus on the attention scores, not the attention pattern? (i.e. pre softmax not post softmax)</summary>\n",
        "\n",
        "Because the decomposition trick *only* works for things that are linear - softmax isn't linear and so we can no longer consider each component independently.\n",
        "</details>\n",
        "\n",
        "<details>\n",
        "<summary>Help - I'm confused about what we're doing / why we're doing it.</summary>\n",
        "\n",
        "Remember that each of our components writes to the residual stream separately. So after layer 1, we have:\n",
        "\n",
        "<img src=\"https://raw.githubusercontent.com/callummcdougall/computational-thread-art/master/example_images/misc/components.png\" width=\"650\">\n",
        "\n",
        "We're particularly interested in the attention scores computed in head `1.4`, and how they depend on the inputs into that head. We've already decomposed the residual stream value $x$ into its terms $e$, $pe$, and $x^ 0$ through $x^{11}$ (which we've labelled $y_0, ..., y_{13}$ for simplicity), and we've done the same for key and query terms. We can picture these terms being passed into head `1.4` as:\n",
        "\n",
        "<img src=\"https://raw.githubusercontent.com/callummcdougall/computational-thread-art/master/example_images/misc/components-2.png\" width=\"650\">\n",
        "\n",
        "So when we expand `attn_scores` out in full, they are a sum of $14^2 = 196$ terms - one for each combination of `(query_component, key_component)`.\n",
        "\n",
        "---\n",
        "\n",
        "#### Why is this decomposition useful?\n",
        "\n",
        "We have a theory about a particular circuit in our model. We think that head `1.4` is an induction head, and the most important components that feed into this head are the prev token head `0.7` (as key) and the token embedding (as query). This is already supported by the evidence of our magnitude plots above (because we saw that `0.7` as key and token embeddings as query were large), but we still don't know how this particular key and query work **together**; we've only looked at them separately.\n",
        "\n",
        "By decomposing `attn_scores` like this, we can check whether the contribution from combination `(query=tok_emb, key=0.7)` is indeed producing the characteristic induction head pattern which we've observed (and the other 195 terms don't really matter).\n",
        "</details>\n"
      ]
    },
    {
      "cell_type": "code",
      "execution_count": null,
      "metadata": {
        "id": "m3ZhyA9tXQwX"
      },
      "outputs": [],
      "source": [
        "def decompose_attn_scores(decomposed_q: t.Tensor, decomposed_k: t.Tensor) -> Tensor:\n",
        "    '''\n",
        "    Output is decomposed_scores with shape [query_component, key_component, query_pos, key_pos]\n",
        "\n",
        "    The [i, j, 0, 0]th element is y_i @ W_QK @ y_j^T (so the sum along both first axes are the attention scores)\n",
        "    '''\n",
        "    pass\n",
        "\n",
        "tests.test_decompose_attn_scores(decompose_attn_scores, decomposed_q, decomposed_k)"
      ]
    },
    {
      "cell_type": "markdown",
      "metadata": {
        "id": "egmtQK4RXKuF"
      },
      "source": [
        "Once these tests have passed, you can plot the results:\n"
      ]
    },
    {
      "cell_type": "code",
      "execution_count": null,
      "metadata": {
        "id": "pD7LG25tYJ0r"
      },
      "outputs": [],
      "source": [
        "decomposed_scores = decompose_attn_scores(decomposed_q, decomposed_k)\n",
        "decomposed_stds = einops.reduce(\n",
        "    decomposed_scores,\n",
        "    \"query_decomp key_decomp query_pos key_pos -> query_decomp key_decomp\",\n",
        "    t.std\n",
        ")\n",
        "\n",
        "# First plot: attention score contribution from (query_component, key_component) = (Embed, L0H7)\n",
        "imshow(\n",
        "    utils.to_numpy(t.tril(decomposed_scores[0, 9])),\n",
        "    title=\"Attention score contributions from (query, key) = (embed, output of L0H7)\",\n",
        "    width=800\n",
        ")\n",
        "\n",
        "# Second plot: std dev over query and key positions, shown by component\n",
        "imshow(\n",
        "    utils.to_numpy(decomposed_stds),\n",
        "    labels={\"x\": \"Key Component\", \"y\": \"Query Component\"},\n",
        "    title=\"Standard deviations of attention score contributions (by key and query component)\",\n",
        "    x=component_labels,\n",
        "    y=component_labels,\n",
        "    width=800\n",
        ")"
      ]
    },
    {
      "cell_type": "markdown",
      "metadata": {
        "id": "oIJO3gpiYNhj"
      },
      "source": [
        "<details>\n",
        "<summary>Question - what is the interpretation of these plots?</summary>\n",
        "\n",
        "The first plot tells you that the term $e W_{QK}^{1.4} (x^{0.7})^T$ (i.e. the component of the attention scores for head `1.4` where the query is supplied by the token embeddings and the key is supplied by the output of head `0.7`) produces the distinctive attention pattern we see in the induction head: a strong diagonal stripe.\n",
        "\n",
        "Although this tells us that this this component would probably be sufficient to implement the induction mechanism, it doesn't tell us the whole story. Ideally, we'd like to show that the other 195 terms are unimportant. Taking the standard deviation across the attention scores for a particular pair of components is a decent proxy for how important this term is in the overall attention pattern. The second plot shows us that the standard deviation is very small for all the other components, so we can be confident that the other components are unimportant.\n",
        "\n",
        "To summarise:\n",
        "\n",
        "* The first plot tells us that the pair `(q_component=tok_emb, k_component=0.7)` produces the characteristic induction-head pattern we see in attention head `1.4`.\n",
        "* The second plot confirms that this pair is the only important one for influencing the attention pattern in `1.4`; all other pairs have very small contributions.\n",
        "</details>\n",
        "\n",
        "### Interpreting the full circuit\n",
        "\n",
        "Now we know that head `1.4` is composing with head `0.7` via K composition, we can multiply through to create a full circuit:\n",
        "\n",
        "$$\n",
        "W_E\\, W_{QK}^{1.4}\\, (W_{OV}^{0.7})^T\\, W_E^T\n",
        "$$\n",
        "\n",
        "and verify that it's the identity. (Note, when we say identity here, we're again thinking about it as a distribution over logits, so this should be taken to mean \"high diagonal values\", and we'll be using our previous metric of `top_1_acc`.)\n",
        "\n",
        "#### Question - why should this be the identity?\n",
        "\n",
        "<details>\n",
        "<summary>Answer</summary>\n",
        "\n",
        "This matrix is a bilinear form. Its diagonal elements $(A, A)$ are:\n",
        "\n",
        "$$\n",
        "A^T \\, W_E\\, W_{QK}^{1.4}\\, W_{OV}^{0.7}\\, W_E^T \\, A = \\underbrace{(A^T W_E W_Q^{1.4})}_{\\text{query}} \\underbrace{(A^T W_E W_{OV}^{0.7} W_K^{1.4})^T}_{\\text{key}}\n",
        "$$\n",
        "\n",
        "Intuitively, the query is saying **\"I'm looking for a token which followed $A$\"**, and the key is saying **\"I *am* a token which folllowed $A$\"** (recall that $A^T W_E W_{OV}^{0.7}$ is the vector which gets moved one position forward by our prev token head `0.7`).\n",
        "\n",
        "Now, consider the off-diagonal elements $(A, X)$ (for $X \\neq A$). We expect these to be small, because the key doesn't match the query:\n",
        "\n",
        "$$\n",
        "A^T \\, W_E\\, W_{QK}^{1.4}\\, W_{OV}^{0.7}\\, W_E^T \\, X = \\underbrace{(\\text{I'm looking for a token which followed A})}_\\text{query} \\boldsymbol{\\cdot} \\underbrace{(\\text{I am a token which followed X})}_{\\text{key}}\n",
        "$$\n",
        "\n",
        "\n",
        "Hence, we expect this to be the identity.\n",
        "\n",
        "An illustration:\n",
        "\n",
        "<img src=\"https://raw.githubusercontent.com/callummcdougall/computational-thread-art/master/example_images/misc/kcomp_diagram_described-K-last.png\" width=\"700\">\n",
        "\n",
        "<!-- ![kcomp_diagram_described-K.png](https://raw.githubusercontent.com/callummcdougall/computational-thread-art/master/example_images/misc/kcomp_diagram_described-K.png) -->\n",
        "</details>\n"
      ]
    },
    {
      "cell_type": "markdown",
      "metadata": {
        "id": "RtpIRXHxYjCO"
      },
      "source": [
        "### Exercise - compute the K-comp circuit\n",
        "\n",
        "```c\n",
        "Difficulty: 🔴🔴🔴⚪⚪\n",
        "Importance: 🔵🔵🔵🔵⚪\n",
        "\n",
        "You shouldn't spend more than 10-20 minutes on this exercise.\n",
        "```\n",
        "\n",
        "Calculate the matrix above, as a `FactoredMatrix` object.\n",
        "\n",
        "<details>\n",
        "<summary>Aside about multiplying FactoredMatrix objects together.</summary>\n",
        "\n",
        "If  `M1 = A1 @ B1` and `M2 = A2 @ B2` are factored matrices, then `M = M1 @ M2` returns a new factored matrix. This might be:\n",
        "\n",
        "```python\n",
        "FactoredMatrix(M1.AB @ M2.A, M2.B)\n",
        "```\n",
        "\n",
        "or it might be:\n",
        "\n",
        "```python\n",
        "FactoredMatrix(M1.A, M1.B @ M2.AB)\n",
        "```\n",
        "\n",
        "with these two objects corresponding to the factorisations $M = (A_1 B_1 A_2) (B_2)$ and $M = (A_1) (B_1 A_2 B_2)$ respectively.\n",
        "\n",
        "Which one gets returned depends on the size of the hidden dimension, e.g. `M1.mdim < M2.mdim` then the factorisation used will be $M = A_1 B_1 (A_2 B_2)$.\n",
        "\n",
        "Remember that both these factorisations are valid, and will give you the exact same SVD. The only reason to prefer one over the other is for computational efficiency (we prefer a smaller bottleneck dimension, because this determines the computational complexity of operations like finding SVD).\n",
        "</details>\n"
      ]
    },
    {
      "cell_type": "code",
      "execution_count": null,
      "metadata": {
        "colab": {
          "background_save": true
        },
        "id": "wDugzs6DZzHO"
      },
      "outputs": [],
      "source": [
        "def find_K_comp_full_circuit(\n",
        "    model: HookedTransformer,\n",
        "    prev_token_head_index: int,\n",
        "    ind_head_index: int\n",
        ") -> FactoredMatrix:\n",
        "    '''\n",
        "    Returns a (vocab, vocab)-size FactoredMatrix, with the first dimension being the query side and the second dimension being the key side (going via the previous token head)\n",
        "    '''\n",
        "    pass\n",
        "\n",
        "\n",
        "prev_token_head_index = 7\n",
        "ind_head_index = 4\n",
        "K_comp_circuit = find_K_comp_full_circuit(model, prev_token_head_index, ind_head_index)\n",
        "\n",
        "tests.test_find_K_comp_full_circuit(find_K_comp_full_circuit, model)\n",
        "\n",
        "print(f\"Fraction of tokens where the highest activating key is the same token: {top_1_acc(K_comp_circuit.T):.4f}\")"
      ]
    },
    {
      "cell_type": "markdown",
      "metadata": {
        "id": "HOfqDceLZXDC"
      },
      "source": [
        "You can also try this out for `ind_head_index = 10`. Do you get a better result?\n",
        "\n",
        "Note - unlike last time, it doesn't make sense to consider the \"effective circuit\" formed by adding together the weight matrices for heads `1.4` and `1.10`. Why not?\n",
        "\n",
        "<details>\n",
        "<summary>Answer</summary>\n",
        "\n",
        "Because the weight matrices we're dealing with here are from the QK circuit, not the OV circuit. These don't get combined in a linear way; instead we take softmax over each head's QK-circuit output individually.\n",
        "</details>\n",
        "\n",
        "## Further Exploration of Induction Circuits\n",
        "\n",
        "I now consider us to have fully reverse engineered an induction circuit - by both interpreting the features and by reverse engineering the circuit from the weights. But there's a bunch more ideas that we can apply for finding circuits in networks that are fun to practice on induction heads, so here's some bonus content - feel free to skip to the later bonus ideas though.\n",
        "\n",
        "### Composition scores\n",
        "\n",
        "A particularly cool idea in the paper is the idea of [virtual weights](https://transformer-circuits.pub/2021/framework/index.html#residual-comms), or compositional scores. (Though I came up with it, so I'm deeply biased!). This is used [to identify induction heads](https://transformer-circuits.pub/2021/framework/index.html#analyzing-a-two-layer-model).\n",
        "\n",
        "The key idea of compositional scores is that the residual stream is a large space, and each head is reading and writing from small subspaces. By default, any two heads will have little overlap between their subspaces (in the same way that any two random vectors have almost zero dot product in a large vector space). But if two heads are deliberately composing, then they will likely want to ensure they write and read from similar subspaces, so that minimal information is lost. As a result, we can just directly look at \"how much overlap there is\" between the output space of the earlier head and the K, Q, or V input space of the later head.\n",
        "\n",
        "We represent the **output space** with $W_{OV}=W_V W_O$. Call matrices like this $W_A$.\n",
        "\n",
        "We represent the **input space** with $W_{QK}=W_Q W_K^T$ (for Q-composition), $W_{QK}^T=W_K  W_Q^T$ (for K-Composition) or $W_{OV}=W_V W_O$ (for V-Composition, of the later head). Call matrices like these $W_B$ (we've used this notation so that $W_B$ refers to a later head, and $W_A$ to an earlier head).\n",
        "\n",
        "<details>\n",
        "<summary>Help - I don't understand what motivates these definitions.</summary>\n",
        "\n",
        "Recall that we can view each head as having three input wires (keys, queries and values), and one output wire (the outputs). The different forms of composition come from the fact that keys, queries and values can all be supplied from the output of a different head.\n",
        "\n",
        "Here is an illustration which shows the three different cases, and should also explain why we use this terminology. You might have to open it in a new tab to see it clearly.\n",
        "\n",
        "![composition](https://raw.githubusercontent.com/callummcdougall/computational-thread-art/master/example_images/misc/composition_new.png)\n",
        "\n",
        "</details>\n",
        "\n",
        "How do we formalise overlap? This is basically an open question, but a surprisingly good metric is $\\frac{\\|W_AW_B\\|_F}{\\|W_B\\|_F\\|W_A\\|_F}$ where $\\|W\\|_F=\\sum_{i,j}W_{i,j}^2$ is the Frobenius norm, the sum of squared elements. (If you're dying of curiosity as to what makes this a good metric, you can jump to the section immediately after the exercises below.)\n"
      ]
    },
    {
      "cell_type": "markdown",
      "metadata": {
        "id": "EtTTNIjEZZbm"
      },
      "source": [
        "### Exercise - calculate composition scores\n",
        "\n",
        "```c\n",
        "Difficulty: 🔴🔴🔴⚪⚪\n",
        "Importance: 🔵🔵🔵⚪⚪\n",
        "\n",
        "You shouldn't spend more than 15-25 minutes on these exercises.\n",
        "\n",
        "Writing a composition score function should be easy. The slightly harder part is getting the right weight matrices in the exercises that come after.\n",
        "```\n"
      ]
    },
    {
      "cell_type": "markdown",
      "metadata": {
        "id": "kebAzc1dWS2v"
      },
      "source": [
        "\n",
        "\n",
        "Let's calculate this metric for all pairs of heads in layer 0 and layer 1 for each of K, Q and V composition and plot it.\n",
        "\n",
        "We'll start by implementing this using plain old tensors (later on we'll see how this can be sped up using the `FactoredMatrix` class). We also won't worry about batching our calculations yet; we'll just do one matrix at a time.\n",
        "\n",
        "We've given you tensors `q_comp_scores` etc. to hold the composition scores for each of Q, K and V composition (i.e. the `[i, j]`th element of `q_comp_scores` is the Q-composition score between the output from the `i`th head in layer 0 and the input to the `j`th head in layer 1). You should complete the function `get_comp_score`, and then fill in each of these tensors.\n"
      ]
    },
    {
      "cell_type": "code",
      "execution_count": null,
      "metadata": {
        "id": "qirubY7ebN-p"
      },
      "outputs": [],
      "source": [
        "def get_comp_score(\n",
        "    W_A: Float[Tensor, \"in_A out_A\"],\n",
        "    W_B: Float[Tensor, \"out_A out_B\"]\n",
        ") -> float:\n",
        "    '''\n",
        "    Return the composition score between W_A and W_B.\n",
        "    '''\n",
        "    pass\n",
        "\n",
        "\n",
        "tests.test_get_comp_score(get_comp_score)"
      ]
    },
    {
      "cell_type": "markdown",
      "metadata": {
        "id": "Ohe2lvvAZZRG"
      },
      "source": [
        "Once you've passed the tests, you can fill in all the composition scores. Here you should just use a for loop, iterating over all possible pairs of `W_A` in layer 0 and `W_B` in layer 1, for each type of composition. Later on, we'll look at ways to batch this computation.\n"
      ]
    },
    {
      "cell_type": "code",
      "execution_count": null,
      "metadata": {
        "id": "NRud3669bRhU"
      },
      "outputs": [],
      "source": [
        "# Get all QK and OV matrices\n",
        "W_QK = model.W_Q @ model.W_K.transpose(-1, -2)\n",
        "W_OV = model.W_V @ model.W_O\n",
        "\n",
        "# Define tensors to hold the composition scores\n",
        "composition_scores = {\n",
        "    \"Q\": t.zeros(model.cfg.n_heads, model.cfg.n_heads).to(device),\n",
        "    \"K\": t.zeros(model.cfg.n_heads, model.cfg.n_heads).to(device),\n",
        "    \"V\": t.zeros(model.cfg.n_heads, model.cfg.n_heads).to(device),\n",
        "}\n",
        "\n",
        "# YOUR CODE HERE - fill in each tensor in the dictionary, by looping over W_A and W_B from layers 0 and 1\n",
        "\n",
        "for comp_type in \"QKV\":\n",
        "    plot_comp_scores(model, composition_scores[comp_type], f\"{comp_type} Composition Scores\")"
      ]
    },
    {
      "cell_type": "markdown",
      "metadata": {
        "id": "bmqFfxcihNnf"
      },
      "source": [
        "### Exercise - Setting a Baseline\n",
        "\n",
        "```c\n",
        "Difficulty: 🔴🔴⚪⚪⚪\n",
        "Importance: 🔵🔵⚪⚪⚪\n",
        "\n",
        "You shouldn't spend more than ~10 minutes on this exercise.\n",
        "```\n",
        "\n",
        "To interpret the above graphs we need a baseline! A good one is what the scores look like at initialisation. Make a function that randomly generates a composition score 200 times and tries this. Remember to generate 4 `[d_head, d_model]` matrices, not 2 `[d_model, d_model]` matrices! This model was initialised with **Kaiming Uniform Initialisation**:\n",
        "\n",
        "```python\n",
        "W = t.empty(shape)\n",
        "nn.init.kaiming_uniform_(W, a=np.sqrt(5))\n",
        "```\n",
        "\n",
        "(Ideally we'd do a more efficient generation involving batching, and more samples, but we won't worry about that yet.)\n"
      ]
    },
    {
      "cell_type": "code",
      "execution_count": null,
      "metadata": {
        "id": "hp6xeJsKbcfJ"
      },
      "outputs": [],
      "source": [
        "def generate_single_random_comp_score() -> float:\n",
        "    '''\n",
        "    Write a function which generates a single composition score for random matrices\n",
        "    '''\n",
        "    pass\n",
        "\n",
        "\n",
        "n_samples = 300\n",
        "comp_scores_baseline = np.zeros(n_samples)\n",
        "for i in tqdm(range(n_samples)):\n",
        "    comp_scores_baseline[i] = generate_single_random_comp_score()"
      ]
    },
    {
      "cell_type": "code",
      "source": [
        "print(\"\\nMean:\", comp_scores_baseline.mean())\n",
        "print(\"Std:\", comp_scores_baseline.std())\n",
        "\n",
        "hist(\n",
        "    comp_scores_baseline,\n",
        "    nbins=50,\n",
        "    width=800,\n",
        "    labels={\"x\": \"Composition score\"},\n",
        "    title=\"Random composition scores\"\n",
        ")"
      ],
      "metadata": {
        "id": "WF_7no3vuZ1D"
      },
      "execution_count": null,
      "outputs": []
    },
    {
      "cell_type": "markdown",
      "metadata": {
        "id": "gM60MEJbZZJV"
      },
      "source": [
        "We can re-plot our above graphs with this baseline set to white. Look for interesting things in this graph!\n"
      ]
    },
    {
      "cell_type": "code",
      "execution_count": null,
      "metadata": {
        "id": "KRwowjP1bmiq"
      },
      "outputs": [],
      "source": [
        "baseline = comp_scores_baseline.mean()\n",
        "for comp_type, comp_scores in composition_scores.items():\n",
        "    plot_comp_scores(model, comp_scores, f\"{comp_type} Composition Scores\", baseline=baseline)"
      ]
    },
    {
      "cell_type": "markdown",
      "metadata": {
        "id": "GoEhNjgU1GzI"
      },
      "source": [
        "<details>\n",
        "<summary>Some interesting things to observe:</summary>\n",
        "\n",
        "The most obvious thing that jumps out (when considered in the context of all the analysis we've done so far) is the K-composition scores. `0.7` (the prev token head) is strongly composing with `1.4` and `1.10` (the two attention heads). This is what we expect, and is a good indication that our composition scores are working as intended.\n",
        "\n",
        "Another interesting thing to note is that the V-composition scores for heads `1.4` and `1.10` with all other heads in layer 0 are very low. In the context of the induction circuit, this is a good thing - the OV circuits of our induction heads should be operating on the **embeddings**, rather than the outputs of the layer-0 heads. (If our repeating sequence is `A B ... A B`, then it's the QK circuit's job to make sure the second `A` attends to the first `B`, and it's the OV circuit's job to project the residual vector at that position onto the **embedding space** in order to extract the `B`-information, while hopefully ignoring anything else that has been written to that position by the heads in layer 0). So once again, this is a good sign for our composition scores.\n",
        "\n",
        "![small_comp](https://raw.githubusercontent.com/callummcdougall/computational-thread-art/master/example_images/misc/small_comp_diagram_last.png)\n",
        "\n",
        "</details>\n"
      ]
    },
    {
      "cell_type": "markdown",
      "metadata": {
        "id": "MPwEd6QzZY0Q"
      },
      "source": [
        "#### Theory + Efficient Implementation\n",
        "\n",
        "So, what's up with that metric? The key is a cute linear algebra result that the squared Frobenius norm is equal to the sum of the squared singular values.\n",
        "\n",
        "<details>\n",
        "<summary>Proof</summary>\n",
        "\n",
        "We'll give three different proofs:\n",
        "\n",
        "---\n",
        "\n",
        "##### Short sketch of proof\n",
        "\n",
        "Clearly $\\|M\\|_F^2$ equals the sum of squared singular values when $M$ is diagonal. The singular values of $M$ don't change when we multiply it by an orthogonal matrix (only the matrices $U$ and $V$ will change, not $S$), so it remains to show that the Frobenius norm also won't change when we multiply $M$ by an orthogonal matrix. But this follows from the fact that the Frobenius norm is the sum of the squared $l_2$ norms of the column vectors of $M$, and orthogonal matrices preserve $l_2$ norms. (If we're right-multiplying $M$ by an orthogonal matrix, then we instead view this as performing orthogonal operations on the row vectors of $M$, and the same argument holds.)\n",
        "\n",
        "---\n",
        "\n",
        "##### Long proof\n",
        "\n",
        "$$\n",
        "\\begin{aligned}\n",
        "\\|M\\|_F^2 &= \\sum_{ij}M_{ij}^2 \\\\\n",
        "&= \\sum_{ij}((USV^T)_{ij})^2 \\\\\n",
        "&= \\sum_{ij}\\bigg(\\sum_k U_{ik}S_{kk}V_{jk}\\bigg)^2 \\\\\n",
        "&= \\sum_{ijk_1 k_2}S_{k_1 k_1} S_{k_2 k_2} U_{i k_1} U_{i k_2} V_{j k_2} V_{j k_2} \\\\\n",
        "&= \\sum_{k_1 k_2}S_{k_1 k_1} S_{k_2 k_2} \\bigg(\\sum_i U_{i k_1} U_{i k_2}\\bigg)\\bigg(\\sum_j V_{j k_2} V_{j k_2}\\bigg) \\\\\n",
        "\\end{aligned}\n",
        "$$\n",
        "\n",
        "Each of the terms in large brackets is actually the dot product of columns of $U$ and $V$ respectively. Since these are orthogonal matrices, these terms evaluate to 1 when $k_1=k_2$ and 0 otherwise. So we are left with:\n",
        "\n",
        "$$\n",
        "\\|M\\|_F^2 = \\sum_{k}S_{k k}^2\n",
        "$$\n",
        "\n",
        "---\n",
        "\n",
        "##### Cute proof which uses the fact that the squared Frobenius norm $|M|^2$ is the same as the trace of $MM^T$\n",
        "\n",
        "$$\n",
        "\\|M\\|_F^2 = \\text{Tr}(MM^T) = \\text{Tr}(USV^TVSU^T) = \\text{Tr}(US^2U^T) = \\text{Tr}(S^2 U^T U) = \\text{Tr}(S^2) = \\|S\\|_F^2\n",
        "$$\n",
        "\n",
        "where we used the cyclicity of trace, and the fact that $U$ is orthogonal so $U^TU=I$ (and same for $V$). We finish by observing that $\\|S\\|_F^2$ is precisely the sum of the squared singular values.\n",
        "</details>\n"
      ]
    },
    {
      "cell_type": "markdown",
      "metadata": {
        "id": "ZDjv_GXUZYgt"
      },
      "source": [
        "So if $W_A=U_AS_AV_A^T$, $W_B=U_BS_BV_B^T$, then $\\|W_A\\|_F=\\|S_A\\|_F$, $\\|W_B\\|_F=\\|S_B\\|_F$ and $\\|W_AW_B\\|_F=\\|S_AV_A^TU_BS_B\\|_F$. In some sense, $V_A^TU_B$ represents how aligned the subspaces written to and read from are, and the $S_A$ and $S_B$ terms weights by the importance of those subspaces.\n",
        "\n",
        "<details>\n",
        "<summary>Click here, if this explanation still seems confusing.</summary>\n",
        "\n",
        "$U_B$ is a matrix of shape `[d_model, d_head]`. It represents **the subspace being read from**, i.e. our later head reads from the residual stream by projecting it onto the `d_head` columns of this matrix.\n",
        "\n",
        "$V_A$ is a matrix of shape `[d_model, d_head]`. It represents **the subspace being written to**, i.e. the thing written to the residual stream by our earlier head is a linear combination of the `d_head` column-vectors of $V_A$.\n",
        "\n",
        "$V_A^T U_B$ is a matrix of shape `[d_head, d_head]`. Each element of this matrix is formed by taking the dot product of two vectors of length `d_model`:\n",
        "\n",
        "* $v_i^A$, a column of $V_A$ (one of the vectors our earlier head embeds into the residual stream)\n",
        "* $u_j^B$, a column of $U_B$ (one of the vectors our later head projects the residual stream onto)\n",
        "\n",
        "Let the singular values of $S_A$ be $\\sigma_1^A, ..., \\sigma_k^A$ and similarly for $S_B$. Then:\n",
        "\n",
        "$$\n",
        "\\|S_A V_A^T U_B S_B\\|_F^2 = \\sum_{i,j=1}^k (\\sigma_i^A \\sigma_j^B)^2 \\|v^A_i \\cdot u^B_j\\|_F^2\n",
        "$$\n",
        "\n",
        "This is a weighted sum of the squared cosine similarity of the columns of $V_A$ and $U_B$ (i.e. the output directions of the earlier head and the input directions of the later head). The weights in this sum are given by the singular values of both $S_A$ and $S_B$ - i.e. if $v^A_i$ is an important output direction, **and** $u_B^i$ is an important input direction, then the composition score will be much higher when these two directions are aligned with each other.\n",
        "\n",
        "---\n",
        "\n",
        "To build intuition, let's consider a couple of extreme examples.\n",
        "\n",
        "* If there was no overlap between the spaces being written to and read from, then $V_A^T U_B$ would be a matrix of zeros (since every $v_i^A \\cdot u_j^B$ would be zero). This would mean that the composition score would be zero.\n",
        "* If there was perfect overlap, i.e. the span of the $v_i^A$ vectors and $u_j^B$ vectors is the same, then the composition score is large. It is as large as possible when the most important input directions and most important output directions line up (i.e. when the singular values $\\sigma_i^A$ and $\\sigma_j^B$ are in the same order).\n",
        "* If our matrices $W_A$ and $W_B$ were just rank 1 (i.e. $W_A = \\sigma_A u_A v_A^T$, and $W_B = \\sigma_B u_B v_B^T$), then the composition score is $|v_A^T u_B|$, in other words just the cosine similarity of the single output direction of $W_A$ and the single input direction of $W_B$.\n",
        "</details>\n"
      ]
    },
    {
      "cell_type": "markdown",
      "metadata": {
        "id": "Kpr8kEeGcTx_"
      },
      "source": [
        "### Exercise - batching, and using the `FactoredMatrix` class\n",
        "\n",
        "```c\n",
        "Difficulty: 🔴🔴🔴🔴⚪\n",
        "Importance: 🔵⚪⚪⚪⚪\n",
        "\n",
        "This exercise is optional, and not a vitally important conceptual part  of this section. It's also quite messy to rearrange our tensors in the right way! You are invited to skip it if you want.\n",
        "```\n"
      ]
    },
    {
      "cell_type": "markdown",
      "metadata": {
        "id": "F5Y7GgKWXPtA"
      },
      "source": [
        "We can also use this insight to write a more efficient way to calculate composition scores - this is extremely useful if you want to do this analysis at scale! The key is that we know that our matrices have a low rank factorisation, and it's much cheaper to calculate the SVD of a narrow matrix than one that's large in both dimensions. See the [algorithm described at the end of the paper](https://transformer-circuits.pub/2021/framework/index.html#induction-heads:~:text=Working%20with%20Low%2DRank%20Matrices) (search for SVD).\n",
        "\n",
        "So we can work with the `FactoredMatrix` class. This also provides the method `.norm()` which returns the Frobenium norm. This is also a good opportunity to bring back baching - this will sometimes be useful in our analysis. In the function below, `W_As` and `W_Bs` are both >2D factored matrices (e.g. they might represent the OV circuits for all heads in a particular layer, or across multiple layers), and the function's output should be a tensor of composition scores for each pair of matrices `(W_A, W_B)` in the >2D tensors `(W_As, W_Bs)`.\n"
      ]
    },
    {
      "cell_type": "code",
      "execution_count": null,
      "metadata": {
        "id": "Apc3rweMcVzc"
      },
      "outputs": [],
      "source": [
        "def get_batched_comp_scores(\n",
        "    W_As: FactoredMatrix,\n",
        "    W_Bs: FactoredMatrix\n",
        ") -> Tensor:\n",
        "    '''Computes the compositional scores from indexed factored matrices W_As and W_Bs.\n",
        "\n",
        "    Each of W_As and W_Bs is a FactoredMatrix object which is indexed by all but its last 2 dimensions, i.e.:\n",
        "        W_As.shape == (*A_idx, A_in, A_out)\n",
        "        W_Bs.shape == (*B_idx, B_in, B_out)\n",
        "        A_out == B_in\n",
        "\n",
        "    Return: tensor of shape (*A_idx, *B_idx) where the [*a_idx, *b_idx]th element is the compositional score from W_As[*a_idx] to W_Bs[*b_idx].\n",
        "    '''\n",
        "    pass\n",
        "\n",
        "\n",
        "W_QK = FactoredMatrix(model.W_Q, model.W_K.transpose(-1, -2))\n",
        "W_OV = FactoredMatrix(model.W_V, model.W_O)\n",
        "\n",
        "composition_scores_batched = dict()\n",
        "composition_scores_batched[\"Q\"] = get_batched_comp_scores(W_OV[0], W_QK[1])\n",
        "composition_scores_batched[\"K\"] = get_batched_comp_scores(W_OV[0], W_QK[1].T) # Factored matrix: .T is interpreted as transpose of the last two axes\n",
        "composition_scores_batched[\"V\"] = get_batched_comp_scores(W_OV[0], W_OV[1])\n",
        "\n",
        "t.testing.assert_close(composition_scores_batched[\"Q\"], composition_scores[\"Q\"])\n",
        "t.testing.assert_close(composition_scores_batched[\"K\"], composition_scores[\"K\"])\n",
        "t.testing.assert_close(composition_scores_batched[\"V\"], composition_scores[\"V\"])\n",
        "print(\"Tests passed - your `get_batched_comp_scores` function is working!\")"
      ]
    },
    {
      "cell_type": "markdown",
      "metadata": {
        "id": "Dlf9aXyYcZbg"
      },
      "source": [
        "<details>\n",
        "<summary>Hint</summary>\n",
        "\n",
        "Suppose `W_As` has shape `(A1, A2, ..., Am, A_in, A_out)` and `W_Bs` has shape `(B1, B2, ..., Bn, B_in, B_out)` (where `A_out == B_in`).\n",
        "\n",
        "It will be helpful to reshape these two tensors so that:\n",
        "\n",
        "```python\n",
        "W_As.shape == (A1*A2*...*Am, 1, A_in, A_out)\n",
        "W_Bs.shape == (1, B1*B2*...*Bn, B_in, B_out)\n",
        "```\n",
        "\n",
        "since we can then multiply them together as `W_As @ W_Bs` (broadcasting will take care of this for us!).\n",
        "\n",
        "To do the reshaping, the easiest way is to reshape `W_As.A` and `W_As.B`, and define a new `FactoredMatrix` from these reshaped tensors (and same for `W_Bs`).\n",
        "</details>\n"
      ]
    },
    {
      "cell_type": "markdown",
      "metadata": {
        "id": "PXad9JB6chPy"
      },
      "source": [
        "### Targeted Ablations\n",
        "\n",
        "We can refine the ablation technique to detect composition by looking at the effect of the ablation on the attention pattern of an induction head, rather than the loss. Let's implement this!\n",
        "\n",
        "Gotcha - by default, `run_with_hooks` removes any existing hooks when it runs. If you want to use caching, set the `reset_hooks_start` flag to False.\n"
      ]
    },
    {
      "cell_type": "code",
      "execution_count": null,
      "metadata": {
        "id": "vJcSO_PmcjF6"
      },
      "outputs": [],
      "source": [
        "seq_len = 50\n",
        "\n",
        "def ablation_induction_score(prev_head_index: int | None, ind_head_index: int) -> float:\n",
        "    '''\n",
        "    Takes as input the index of the L0 head and the index of the L1 head, and then runs with the previous token head ablated and returns the induction score for the ind_head_index now.\n",
        "    '''\n",
        "    def ablation_hook(v, hook):\n",
        "        if prev_head_index is not None:\n",
        "            v[:, :, prev_head_index] = 0.0\n",
        "        return v\n",
        "\n",
        "    def induction_pattern_hook(attn, hook):\n",
        "        hook.ctx[prev_head_index] = attn[0, ind_head_index].diag(-(seq_len - 1)).mean()\n",
        "\n",
        "    model.run_with_hooks(\n",
        "        rep_tokens,\n",
        "        fwd_hooks=[\n",
        "            (utils.get_act_name(\"v\", 0), ablation_hook),\n",
        "            (utils.get_act_name(\"pattern\", 1), induction_pattern_hook)\n",
        "        ],\n",
        "    )\n",
        "    return model.blocks[1].attn.hook_pattern.ctx[prev_head_index].item()\n",
        "\n",
        "\n",
        "baseline_induction_score = ablation_induction_score(None, 4)\n",
        "print(f\"Induction score for no ablations: {baseline_induction_score:.5f}\\n\")\n",
        "for i in range(model.cfg.n_heads):\n",
        "    new_induction_score = ablation_induction_score(i, 4)\n",
        "    induction_score_change = new_induction_score - baseline_induction_score\n",
        "    print(f\"Ablation score change for head {i:02}: {induction_score_change:+.5f}\")"
      ]
    },
    {
      "cell_type": "markdown",
      "metadata": {
        "id": "cZYSMQ--clXm"
      },
      "source": [
        "<details>\n",
        "<summary>Question - what is the interpretation of the results you're getting?</summary>\n",
        "\n",
        "You should have found that the induction score without any ablations is about 0.68, and that most other heads don't change the induction score by much when they are ablated, except for head 7 which reduces the induction score to nearly zero.\n",
        "\n",
        "This is another strong piece of evidence that head `0.7` is the prev token head in this induction circuit.\n",
        "</details>\n"
      ]
    },
    {
      "cell_type": "markdown",
      "metadata": {
        "id": "gF7BofwBcpmI"
      },
      "source": [
        "## Bonus\n",
        "\n",
        "### Looking for Circuits in Real LLMs\n",
        "\n",
        "A particularly cool application of these techniques is looking for real examples of circuits in large language models. Fortunately, there's a bunch of open source ones you can play around with in the `TransformerLens` library! Many of the techniques we've been using for our 2L transformer carry over to ones with more layers.\n",
        "\n",
        "This library should make it moderately easy to play around with these models - I recommend going wild and looking for interesting circuits!\n",
        "\n",
        "Some fun things you might want to try:\n",
        "\n",
        "- Look for induction heads - try repeating all of the steps from above. Do they follow the same algorithm?\n",
        "- Look for neurons that erase info\n",
        "    - i.e. having a high negative cosine similarity between the input and output weights\n",
        "- Try to interpret a position embedding.\n",
        "\n",
        "<details>\n",
        "<summary>Positional Embedding Hint</summary>\n",
        "\n",
        "Look at the singular value decomposition `t.svd` and plot the principal components over position space. High ones tend to be sine and cosine waves of different frequencies.\n",
        "</details>\n",
        "\n",
        "- Look for heads with interpretable attention patterns: e.g. heads that attend to the same word (or subsequent word) when given text in different languages, or the most recent proper noun, or the most recent full-stop, or the subject of the sentence, etc.\n",
        "    - Pick a head, ablate it, and run the model on a load of text with and without the head. Look for tokens with the largest difference in loss, and try to interpret what the head is doing.\n",
        "- Try replicating some of Kevin's work on indirect object identification.\n",
        "- Inspired by the [ROME paper](https://rome.baulab.info/), use the causal tracing technique of patching in the residual stream - can you analyse how the network answers different facts?\n",
        "\n",
        "Note: I apply several simplifications to the resulting transformer - these leave the model mathematically equivalent and doesn't change the output log probs, but does somewhat change the structure of the model and one change translates the output logits by a constant.\n",
        "\n",
        "<details>\n",
        "<summary>Model simplifications</summary>\n",
        "\n",
        "#### Centering $W_U$\n",
        "\n",
        "The output of $W_U$ is a $d_{vocab}$ vector (or tensor with that as the final dimension) which is fed into a softmax\n",
        "\n",
        "#### LayerNorm Folding\n",
        "\n",
        "LayerNorm is only applied at the start of a linear layer reading from the residual stream (eg query, key, value, mlp_in or unembed calculations)\n",
        "\n",
        "Each LayerNorm has the functional form $LN:\\mathbb{R}^n\\to\\mathbb{R}^n$,\n",
        "$LN(x)=s(x) * w_{ln} + b_{ln}$, where $*$ is element-wise multiply and $s(x)=\\frac{x-\\bar{x}}{|x-\\bar{x}|}$, and $w_{ln},b_{ln}$ are both vectors in $\\mathbb{R}^n$\n",
        "\n",
        "The linear layer has form $l:\\mathbb{R}^n\\to\\mathbb{R}^m$, $l(y)=Wy+b$ where $W\\in \\mathbb{R}^{m\\times n},b\\in \\mathbb{R}^m,y\\in\\mathbb{R}^n$\n",
        "\n",
        "So $f(LN(x))=W(w_{ln} * s(x)+b_{ln})+b=(W * w_{ln})s(x)+(Wb_{ln}+b)=W_{eff}s(x)+b_{eff}$, where $W_{eff}$ is the elementwise product of $W$ and $w_{ln}$ (showing that elementwise multiplication commutes like this is left as an exercise) and $b_{eff}=Wb_{ln}+b\\in \\mathbb{R}^m$.\n",
        "\n",
        "From the perspective of interpretability, it's much nicer to interpret the folded layer $W_{eff},b_{eff}$ - fundamentally, this is the computation being done, and there's no reason to expect $W$ or $w_{ln}$ to be meaningful on their own.\n",
        "</details>\n"
      ]
    },
    {
      "cell_type": "markdown",
      "metadata": {
        "id": "uhGTCGF4c4PQ"
      },
      "source": [
        "### Training Your Own Toy Models\n",
        "\n",
        "A fun exercise is training models on the minimal task that'll produce induction heads - predicting the next token in a sequence of random tokens with repeated subsequences. You can get a small 2L Attention-Only model to do this.\n",
        "\n",
        "<details>\n",
        "<summary>Tips</summary>\n",
        "\n",
        "* Make sure to randomise the positions that are repeated! Otherwise the model can just learn the boring algorithm of attending to fixed positions\n",
        "* It works better if you *only* evaluate loss on the repeated tokens, this makes the task less noisy.\n",
        "* It works best with several repeats of the same sequence rather than just one.\n",
        "* If you do things right, and give it finite data + weight decay, you *should* be able to get it to grok - this may take some hyper-parameter tuning though.\n",
        "* When I've done this I get weird franken-induction heads, where each head has 1/3 of an induction stripe, and together cover all tokens.\n",
        "* It'll work better if you only let the queries and keys access the positional embeddings, but *should* work either way.\n",
        "</details>\n"
      ]
    },
    {
      "cell_type": "markdown",
      "metadata": {
        "id": "4F95nL4ZhNni"
      },
      "source": [
        "### Interpreting Induction Heads During Training\n",
        "\n",
        "A particularly striking result about induction heads is that they consistently [form very abruptly in training as a phase change](https://transformer-circuits.pub/2022/in-context-learning-and-induction-heads/index.html#argument-phase-change), and are such an important capability that there is a [visible non-convex bump in the loss curve](https://wandb.ai/mechanistic-interpretability/attn-only/reports/loss_ewma-22-08-24-22-08-00---VmlldzoyNTI2MDM0?accessToken=r6v951q0e1l4q4o70wb2q67wopdyo3v69kz54siuw7lwb4jz6u732vo56h6dr7c2) (in this model, approx 2B to 4B tokens). I have a bunch of checkpoints for this model, you can try re-running the induction head detection techniques on intermediate checkpoints and see what happens. (Bonus points if you have good ideas for how to efficiently send a bunch of 300MB checkpoints from Wandb lol)\n"
      ]
    },
    {
      "cell_type": "markdown",
      "metadata": {
        "id": "4ykXRb9HhNni"
      },
      "source": [
        "### Further discussion / investigation\n",
        "\n",
        "Anthropic has written a post on [In-context Learning and Induction Heads](https://transformer-circuits.pub/2022/in-context-learning-and-induction-heads/index.html) which goes into much deeper discussion on induction heads. The post is structured around six different points of evidence for the hypothesis that **induction heads are the main source of in-context learning in transformer models**, even large ones. Briefly, these are:\n",
        "\n",
        "1. Transformers undergo a \"phase change\" where they suddenly become much better at in-context learning, and this is around the same time induction heads appear.\n",
        "2. When we change the transformer's architecture to make it easier for induction heads to form, we get a corresponding improvement in in-context learning.\n",
        "3. When we ablate induction heads at runtime, in-context learning gets worse.\n",
        "4. We have specific examples of induction heads performing more complex in-context learning algorithms (you'll have the opportunity to investigate one of these later - **indirect object identification**).\n",
        "5. We have a mechanistic explanation of induction heads, which suggests natural extensions to more general forms of in-context learning.\n",
        "6. In-context learning-related behaviour is generally smoothly continuous between small and large models, suggesting that the underlying mechanism is also the same.\n",
        "\n",
        "Here are a few questions for you:\n",
        "\n",
        "* How compelling do you find this evidence? Discuss with your partner.\n",
        "    * Which points do you find most compelling?\n",
        "    * Which do you find least compelling?\n",
        "    * Are there any subset of these which would be enough to convince you of the hypothesis, in the absence of others?\n",
        "* In point 3, the paper observes that in-context learning performance degrades when you ablate induction heads. While we measured this by testing the model's ability to copy a duplicated random sequence, the paper used **in-context learning score** (the loss of the 500th token in the context, minus the loss on the 50th token).\n",
        "    * Can you see why this is a reasonable metric?\n",
        "    * Can you replicate these results (maybe on a larger model than the 2-layer one we've been using)?\n",
        "* In point 4 (more complex forms of in-context learning), the paper suggests the natural extension of \"fuzzy induction heads\", which match patterns like `[A*][B*]...[A][B]` rather than `[A][B]...[A][B]` (where the `*` indicates some form of linguistic similarity, not necessarily being the same token).\n",
        "    * Can you think of any forms this might take, i.e. any kinds of similarity which induction heads might pick up on? Can you generate examples?\n"
      ]
    },
    {
      "cell_type": "code",
      "source": [],
      "metadata": {
        "id": "MVWx3uzn-x_g"
      },
      "execution_count": null,
      "outputs": []
    }
  ]
}