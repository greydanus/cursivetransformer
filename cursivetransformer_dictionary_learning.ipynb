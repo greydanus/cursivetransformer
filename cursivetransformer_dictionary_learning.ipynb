{
  "nbformat": 4,
  "nbformat_minor": 0,
  "metadata": {
    "colab": {
      "provenance": [],
      "machine_shape": "hm",
      "gpuType": "A100",
      "authorship_tag": "ABX9TyMsacy1zAgRpPD18V3ecBUX",
      "include_colab_link": true
    },
    "kernelspec": {
      "name": "python3",
      "display_name": "Python 3"
    },
    "language_info": {
      "name": "python"
    },
    "accelerator": "GPU"
  },
  "cells": [
    {
      "cell_type": "markdown",
      "metadata": {
        "id": "view-in-github",
        "colab_type": "text"
      },
      "source": [
        "<a href=\"https://colab.research.google.com/github/zwimpee/cursivetransformer/blob/main/cursivetransformer_dictionary_learning.ipynb\" target=\"_parent\"><img src=\"https://colab.research.google.com/assets/colab-badge.svg\" alt=\"Open In Colab\"/></a>"
      ]
    },
    {
      "cell_type": "markdown",
      "source": [
        "# Cursive Transformer Mechanistic Interpretability\n",
        "\n",
        "The purpose of this notebook is to apply the techniques of mechanistic interpretability, in particular dictionary learning, to our cursive transformer. The goal of this exercise is two-fold:\n",
        "1. Attempt to gain insight into the structure and orientation of the features being learned by the model, in particular in the cross-attention and feed-forward layers\n",
        "2. More generally become familiar with the latest ME techniques, as they can easily transfer to be applied beyond the scope of this project to essentially ANY transformer-based model\n",
        "\n",
        "To this end, we will reference the following resources throughout this document:\n",
        "- https://transformer-circuits.pub/2023/monosemantic-features\n",
        "- https://www.alignmentforum.org/posts/fKuugaxt2XLTkASkk/open-source-replication-and-commentary-on-anthropic-s\n",
        "- https://colab.research.google.com/drive/1u8larhpxy8w4mMsJiSBddNOzFGj7_RTn?usp=sharing\n",
        "- https://github.com/TransformerLensOrg/TransformerLens\n",
        "- https://arena3-chapter1-transformer-interp.streamlit.app/"
      ],
      "metadata": {
        "id": "GdwBlsu_am35"
      }
    },
    {
      "cell_type": "markdown",
      "source": [
        "# Setup"
      ],
      "metadata": {
        "id": "JuHwKIaP3Oyi"
      }
    },
    {
      "cell_type": "code",
      "source": [
        "!python3 -V"
      ],
      "metadata": {
        "id": "12UmRQ9N3Rav"
      },
      "execution_count": null,
      "outputs": []
    },
    {
      "cell_type": "markdown",
      "source": [
        "## Dependencies"
      ],
      "metadata": {
        "id": "5BpggN2t3Qr4"
      }
    },
    {
      "cell_type": "code",
      "source": [
        "!pip install transformer_lens\n",
        "!pip install gradio\n",
        "!pip install wandb\n",
        "!pip install einops\n",
        "!pip install matplotlib\n",
        "!pip install datasets\n",
        "\n",
        "# Clone the cursivetransformer repository and install its requirements\n",
        "!rm -rf cursivetransformer && git clone https://github.com/zwimpee/cursivetransformer.git\n",
        "!pip install -r cursivetransformer/requirements.txt\n",
        "\n",
        "# Login to Weights & Biases (replace 'your_api_key' with your actual API key)\n",
        "import wandb\n",
        "wandb.login()"
      ],
      "metadata": {
        "id": "VY-xjph_3QkR"
      },
      "execution_count": null,
      "outputs": []
    },
    {
      "cell_type": "markdown",
      "source": [
        "## Imports"
      ],
      "metadata": {
        "id": "cWhbLc-33V2C"
      }
    },
    {
      "cell_type": "code",
      "source": [
        "import sys\n",
        "sys.path.append('/content/cursivetransformer')  # Adjust the path if necessary\n",
        "\n",
        "# Import cursivetransformer modules\n",
        "from cursivetransformer.model import get_all_args, get_checkpoint\n",
        "from cursivetransformer.data import create_datasets, offsets_to_strokes\n",
        "\n",
        "# Import other necessary libraries\n",
        "import torch\n",
        "import torch.nn as nn\n",
        "import torch.nn.functional as F\n",
        "import numpy as np\n",
        "import gradio as gr\n",
        "import pprint\n",
        "import json\n",
        "from datasets import load_dataset\n",
        "from IPython.display import HTML, display\n",
        "from functools import partial\n",
        "import tqdm.notebook as tqdm\n",
        "import matplotlib.pyplot as plt\n",
        "from einops import rearrange"
      ],
      "metadata": {
        "id": "xit1BQED3ZK_"
      },
      "execution_count": null,
      "outputs": []
    },
    {
      "cell_type": "markdown",
      "source": [
        "# Defining the Autoencoder"
      ],
      "metadata": {
        "id": "NkFwM1If3bbO"
      }
    },
    {
      "cell_type": "code",
      "execution_count": null,
      "metadata": {
        "id": "1p4_vsXeZigM"
      },
      "outputs": [],
      "source": [
        "# Configuration for the autoencoder\n",
        "cfg = {\n",
        "    \"seed\": 49,\n",
        "    \"batch_size\": 4096,\n",
        "    \"buffer_mult\": 384,\n",
        "    \"lr\": 1e-4,\n",
        "    \"num_tokens\": int(2e9),\n",
        "    \"l1_coeff\": 3e-4,\n",
        "    \"beta1\": 0.9,\n",
        "    \"beta2\": 0.99,\n",
        "    \"dict_mult\": 8,\n",
        "    \"seq_len\": 256,\n",
        "    \"d_mlp\": None,  # To be set after loading the model\n",
        "    \"enc_dtype\": \"fp32\",\n",
        "    \"remove_rare_dir\": False,\n",
        "}\n",
        "\n",
        "cfg[\"model_batch_size\"] = 64\n",
        "cfg[\"buffer_size\"] = cfg[\"batch_size\"] * cfg[\"buffer_mult\"]\n",
        "cfg[\"buffer_batches\"] = cfg[\"buffer_size\"] // cfg[\"seq_len\"]\n",
        "\n",
        "DTYPES = {\"fp32\": torch.float32, \"fp16\": torch.float16, \"bf16\": torch.bfloat16}\n",
        "\n",
        "class AutoEncoder(nn.Module):\n",
        "    def __init__(self, cfg):\n",
        "        super().__init__()\n",
        "        d_hidden = cfg[\"d_mlp\"] * cfg[\"dict_mult\"]\n",
        "        d_mlp = cfg[\"d_mlp\"]\n",
        "        l1_coeff = cfg[\"l1_coeff\"]\n",
        "        dtype = DTYPES[cfg[\"enc_dtype\"]]\n",
        "        torch.manual_seed(cfg[\"seed\"])\n",
        "        self.W_enc = nn.Parameter(torch.nn.init.kaiming_uniform_(torch.empty(d_mlp, d_hidden, dtype=dtype)))\n",
        "        self.W_dec = nn.Parameter(torch.nn.init.kaiming_uniform_(torch.empty(d_hidden, d_mlp, dtype=dtype)))\n",
        "        self.b_enc = nn.Parameter(torch.zeros(d_hidden, dtype=dtype))\n",
        "        self.b_dec = nn.Parameter(torch.zeros(d_mlp, dtype=dtype))\n",
        "\n",
        "        self.W_dec.data[:] = self.W_dec / self.W_dec.norm(dim=-1, keepdim=True)\n",
        "\n",
        "        self.d_hidden = d_hidden\n",
        "        self.l1_coeff = l1_coeff\n",
        "\n",
        "        self.to(\"cuda\")\n",
        "\n",
        "    def forward(self, x):\n",
        "        x_cent = x - self.b_dec\n",
        "        acts = F.relu(x_cent @ self.W_enc + self.b_enc)\n",
        "        x_reconstruct = acts @ self.W_dec + self.b_dec\n",
        "        l2_loss = (x_reconstruct.float() - x.float()).pow(2).sum(-1).mean(0)\n",
        "        l1_loss = self.l1_coeff * (acts.float().abs().sum())\n",
        "        loss = l2_loss + l1_loss\n",
        "        return loss, x_reconstruct, acts, l2_loss, l1_loss\n",
        "\n",
        "    @torch.no_grad()\n",
        "    def remove_parallel_component_of_grads(self):\n",
        "        W_dec_normed = self.W_dec / self.W_dec.norm(dim=-1, keepdim=True)\n",
        "        W_dec_grad_proj = (self.W_dec.grad * W_dec_normed).sum(-1, keepdim=True) * W_dec_normed\n",
        "        self.W_dec.grad -= W_dec_grad_proj"
      ]
    },
    {
      "cell_type": "markdown",
      "source": [
        "# Utils\n",
        "\n"
      ],
      "metadata": {
        "id": "TDksX_ZQ3lcD"
      }
    },
    {
      "cell_type": "markdown",
      "source": [
        "### Get Reconstruction Loss"
      ],
      "metadata": {
        "id": "iDiByoQV3kvs"
      }
    },
    {
      "cell_type": "code",
      "source": [
        "def get_recons_loss(num_batches=5, local_encoder=None):\n",
        "    if local_encoder is None:\n",
        "        local_encoder = encoder\n",
        "    loss_list = []\n",
        "    loss_fn = nn.CrossEntropyLoss()\n",
        "    for i in range(num_batches):\n",
        "        idx = torch.randperm(len(all_tokens))[:cfg[\"model_batch_size\"]]\n",
        "        tokens = all_tokens[idx].to(model_device)\n",
        "        context = all_contexts[idx].to(model_device)\n",
        "        targets = all_targets[idx].to(model_device)\n",
        "\n",
        "        # Capture MLP activations\n",
        "        mlp_activations = []\n",
        "\n",
        "        def capture_mlp_activations(module, input, output):\n",
        "            mlp_activations.append(output.detach())\n",
        "\n",
        "        # Register the hook on the MLP output layer\n",
        "        mlp_layer = model.transformer.h[0].mlp.c_proj  # Adjust layer index as needed\n",
        "        hook_handle = mlp_layer.register_forward_hook(capture_mlp_activations)\n",
        "\n",
        "        # Forward pass without hooks\n",
        "        logits, loss = model(tokens, context, targets=targets)\n",
        "        loss = loss.item()\n",
        "\n",
        "        # Remove the hook\n",
        "        hook_handle.remove()\n",
        "\n",
        "        # Get the activations\n",
        "        mlp_acts = mlp_activations[0]  # Shape: [batch_size, seq_len, d_mlp]\n",
        "\n",
        "        # Flatten activations\n",
        "        mlp_acts_flattened = mlp_acts.reshape(-1, cfg[\"d_mlp\"])\n",
        "\n",
        "        # Reconstruct activations using encoder\n",
        "        loss_enc, x_reconstruct, hidden_acts, l2_loss, l1_loss = local_encoder(mlp_acts_flattened)\n",
        "\n",
        "        # Reconstructed activations reshaped back to original shape\n",
        "        reconstructed_acts = x_reconstruct.view_as(mlp_acts)\n",
        "\n",
        "        # Define the hook to replace activations\n",
        "        def reconstruction_hook(module, input, output):\n",
        "            return reconstructed_acts\n",
        "\n",
        "        # Register the reconstruction hook\n",
        "        hook_handle = mlp_layer.register_forward_hook(reconstruction_hook)\n",
        "        # Forward pass with reconstructed activations\n",
        "        logits_recons, loss_recons = model(tokens, context, targets=targets)\n",
        "        recons_loss = loss_recons.item()\n",
        "        hook_handle.remove()\n",
        "\n",
        "        # Zero ablation\n",
        "        def zero_ablation_hook(module, input, output):\n",
        "            return torch.zeros_like(output)\n",
        "\n",
        "        hook_handle = mlp_layer.register_forward_hook(zero_ablation_hook)\n",
        "        logits_zero_abl, loss_zero_abl = model(tokens, context, targets=targets)\n",
        "        zero_abl_loss = loss_zero_abl.item()\n",
        "        hook_handle.remove()\n",
        "\n",
        "        loss_list.append((loss, recons_loss, zero_abl_loss))\n",
        "    losses = torch.tensor(loss_list)\n",
        "    loss, recons_loss, zero_abl_loss = losses.mean(0).tolist()\n",
        "\n",
        "    print(f\"loss: {loss:.4f}, recons_loss: {recons_loss:.4f}, zero_abl_loss: {zero_abl_loss:.4f}\")\n",
        "    score = ((zero_abl_loss - recons_loss) / (zero_abl_loss - loss))\n",
        "    print(f\"Reconstruction Score: {score:.2%}\")\n",
        "    return score, loss, recons_loss, zero_abl_loss"
      ],
      "metadata": {
        "id": "pxQjA1Xh3pgP"
      },
      "execution_count": null,
      "outputs": []
    },
    {
      "cell_type": "markdown",
      "source": [
        "### Get Frequencies"
      ],
      "metadata": {
        "id": "j1dKdlV13rTg"
      }
    },
    {
      "cell_type": "code",
      "source": [
        "@torch.no_grad()\n",
        "def get_freqs(num_batches=25, local_encoder=None):\n",
        "    if local_encoder is None:\n",
        "        local_encoder = encoder\n",
        "    act_freq_scores = torch.zeros(local_encoder.d_hidden, dtype=torch.float32).cuda()\n",
        "    total = 0\n",
        "    for i in tqdm.trange(num_batches):\n",
        "        idx = torch.randperm(len(all_tokens))[:cfg[\"model_batch_size\"]]\n",
        "        tokens = all_tokens[idx].to(model_device)\n",
        "        context = all_contexts[idx].to(model_device)\n",
        "\n",
        "        mlp_activations = []\n",
        "\n",
        "        def capture_mlp_activations(module, input, output):\n",
        "            mlp_activations.append(output.detach())\n",
        "\n",
        "        # Register the hook on the MLP output layer\n",
        "        mlp_layer = model.transformer.h[0].mlp.c_proj  # Adjust layer index as needed\n",
        "        hook_handle = mlp_layer.register_forward_hook(capture_mlp_activations)\n",
        "\n",
        "        # Forward pass\n",
        "        logits, _ = model(tokens, context)\n",
        "        # Remove the hook\n",
        "        hook_handle.remove()\n",
        "\n",
        "        # Get the activations\n",
        "        mlp_acts = mlp_activations[0]  # Shape: [batch_size, seq_len, d_mlp]\n",
        "        mlp_acts_flattened = mlp_acts.reshape(-1, cfg[\"d_mlp\"])\n",
        "\n",
        "        # Pass through encoder\n",
        "        hidden = local_encoder(mlp_acts_flattened)[2]  # Get the activations\n",
        "\n",
        "        act_freq_scores += (hidden > 0).sum(0)\n",
        "        total += hidden.shape[0]\n",
        "    act_freq_scores /= total\n",
        "    num_dead = (act_freq_scores == 0).float().mean()\n",
        "    print(\"Num dead\", num_dead.item())\n",
        "    return act_freq_scores"
      ],
      "metadata": {
        "id": "kbDgvhpS3vnU"
      },
      "execution_count": null,
      "outputs": []
    },
    {
      "cell_type": "markdown",
      "source": [
        "## Visualise Feature Utils"
      ],
      "metadata": {
        "id": "kk1mA6FK3y0j"
      }
    },
    {
      "cell_type": "code",
      "source": [
        "from html import escape\n",
        "import colorsys\n",
        "from IPython.display import display, HTML\n",
        "\n",
        "SPACE = \"·\"\n",
        "NEWLINE = \"↩\"\n",
        "TAB = \"→\"\n",
        "\n",
        "def create_html(strings, values, max_value=None, saturation=0.5, allow_different_length=False, return_string=False):\n",
        "    # Escape strings to deal with tabs, newlines, etc.\n",
        "    escaped_strings = [escape(s, quote=True) for s in strings]\n",
        "    processed_strings = [\n",
        "        s.replace(\"\\n\", f\"{NEWLINE}<br/>\").replace(\"\\t\", f\"{TAB}&emsp;\").replace(\" \", \"&nbsp;\")\n",
        "        for s in escaped_strings\n",
        "    ]\n",
        "\n",
        "    if isinstance(values, torch.Tensor) and len(values.shape) > 1:\n",
        "        values = values.flatten().tolist()\n",
        "\n",
        "    if not allow_different_length:\n",
        "        assert len(processed_strings) == len(values)\n",
        "\n",
        "    # Scale values\n",
        "    if max_value is None:\n",
        "        max_value = max(max(values), -min(values)) + 1e-3\n",
        "    scaled_values = [v / max_value * saturation for v in values]\n",
        "\n",
        "    # Create HTML\n",
        "    html = \"\"\n",
        "    for i, s in enumerate(processed_strings):\n",
        "        if i < len(scaled_values):\n",
        "            v = scaled_values[i]\n",
        "        else:\n",
        "            v = 0\n",
        "        if v < 0:\n",
        "            hue = 0  # Red in HSV\n",
        "        else:\n",
        "            hue = 0.66  # Blue in HSV\n",
        "        rgb_color = colorsys.hsv_to_rgb(\n",
        "            hue, v, 1\n",
        "        )\n",
        "        hex_color = \"#%02x%02x%02x\" % (\n",
        "            int(rgb_color[0] * 255),\n",
        "            int(rgb_color[1] * 255),\n",
        "            int(rgb_color[2] * 255),\n",
        "        )\n",
        "        html += f'<span style=\"background-color: {hex_color}; border: 1px solid lightgray; font-size: 16px; border-radius: 3px;\">{s}</span>'\n",
        "    if return_string:\n",
        "        return html\n",
        "    else:\n",
        "        display(HTML(html))\n",
        "\n",
        "# - [ ] TODO: <-DEBUG THIS!!!\n",
        "def stroke_to_svg(stroke_sequence):\n",
        "    # This function generates an SVG path for each stroke in the sequence\n",
        "    svg_output = \"\"\n",
        "    for stroke in stroke_sequence:\n",
        "        svg_output += f'<path d=\"M{stroke[0][0]},{stroke[0][1]}'\n",
        "        for point in stroke[1:]:\n",
        "            svg_output += f' L{point[0]},{point[1]}'\n",
        "        svg_output += '\" style=\"stroke:black;fill:none;\" />'\n",
        "    return svg_output\n",
        "\n",
        "def basic_feature_vis(feature_index, max_val=0):\n",
        "    feature_in = encoder.W_enc[:, feature_index]\n",
        "    feature_bias = encoder.b_enc[feature_index]\n",
        "\n",
        "    # Get a sample stroke sequence and context from the dataset\n",
        "    x, c, _ = test_dataset[0]  # You can choose any index or randomize\n",
        "    tokens = x.unsqueeze(0).to(model_device)  # Stroke tokens\n",
        "    context = c.unsqueeze(0).to(model_device)  # Context tokens\n",
        "\n",
        "    # Capture MLP activations\n",
        "    mlp_activations = []\n",
        "\n",
        "    def capture_mlp_activations(module, input, output):\n",
        "        mlp_activations.append(output.detach())\n",
        "\n",
        "    # Register the hook\n",
        "    mlp_layer = model.transformer.h[0].mlp.c_proj\n",
        "    hook_handle = mlp_layer.register_forward_hook(capture_mlp_activations)\n",
        "\n",
        "    # Forward pass\n",
        "    logits, _ = model(tokens, context)\n",
        "    hook_handle.remove()\n",
        "\n",
        "    # Get the activations\n",
        "    mlp_acts = mlp_activations[0][0].cpu()  # Shape: [seq_len, d_mlp]\n",
        "    feature_acts = F.relu((mlp_acts - encoder.b_dec.cpu()) @ feature_in.cpu() + feature_bias.cpu())\n",
        "    if max_val == 0:\n",
        "        max_val = max(1e-7, feature_acts.max().item())\n",
        "\n",
        "    # Decode stroke tokens back to the original stroke format\n",
        "    stroke_sequence = [offsets_to_strokes(test_dataset.decode_stroke(t)) for t in tokens]\n",
        "\n",
        "    # Convert decoded strokes to SVG format for visualization\n",
        "    stroke_svgs = [stroke_to_svg(stroke) for stroke in stroke_sequence]\n",
        "\n",
        "    return basic_token_vis_make_str(stroke_svgs, feature_acts, max_val)\n",
        "\n",
        "\n",
        "def basic_token_vis_make_str(strings, values, max_val=None):\n",
        "    if not isinstance(strings, list):\n",
        "        strings = list(strings)\n",
        "    values = values.detach().numpy()\n",
        "    if max_val is None:\n",
        "        max_val = values.max()\n",
        "    header_string = f\"<h4>Max Range <b>{values.max():.4f}</b> Min Range: <b>{values.min():.4f}</b></h4>\"\n",
        "    header_string += f\"<h4>Set Max Range <b>{max_val:.4f}</b></h4>\"\n",
        "    body_string = create_html(strings, values, max_value=max_val, return_string=True)\n",
        "    return header_string + body_string"
      ],
      "metadata": {
        "id": "I9jLMFym32Yw"
      },
      "execution_count": null,
      "outputs": []
    },
    {
      "cell_type": "markdown",
      "source": [
        "### Make Token DataFrame"
      ],
      "metadata": {
        "id": "NZmEcWIx34gp"
      }
    },
    {
      "cell_type": "code",
      "source": [
        "def make_token_df(tokens, len_prefix=5, len_suffix=1):\n",
        "    str_tokens = [str(t.item()) for t in tokens]\n",
        "    unique_token = [f\"{s}/{i}\" for i, s in enumerate(str_tokens)]\n",
        "\n",
        "    context = []\n",
        "    batch = []\n",
        "    pos = []\n",
        "    label = []\n",
        "    for p in range(len(tokens)):\n",
        "        prefix = \"\".join(str_tokens[max(0, p - len_prefix):p])\n",
        "        if p == len(tokens) - 1:\n",
        "            suffix = \"\"\n",
        "        else:\n",
        "            suffix = \"\".join(str_tokens[p + 1:min(len(tokens) - 1, p + 1 + len_suffix)])\n",
        "        current = str_tokens[p]\n",
        "        context.append(f\"{prefix}|{current}|{suffix}\")\n",
        "        batch.append(0)  # Since we have a single batch\n",
        "        pos.append(p)\n",
        "        label.append(f\"{0}/{p}\")\n",
        "    return pd.DataFrame(dict(\n",
        "        str_tokens=str_tokens,\n",
        "        unique_token=unique_token,\n",
        "        context=context,\n",
        "        batch=batch,\n",
        "        pos=pos,\n",
        "        label=label,\n",
        "    ))"
      ],
      "metadata": {
        "id": "j3py2Keq37VI"
      },
      "execution_count": null,
      "outputs": []
    },
    {
      "cell_type": "markdown",
      "source": [
        "## Loading the Model"
      ],
      "metadata": {
        "id": "rpgE-1vu37QZ"
      }
    },
    {
      "cell_type": "code",
      "source": [
        "args = get_all_args(False)\n",
        "args.sample_only = True\n",
        "args.load_from_run_id = '6le6tujz'  # Replace with your actual run ID\n",
        "args.wandb_entity = 'sam-greydanus'\n",
        "args.dataset_name = 'bigbank'  # Replace with your dataset name\n",
        "args.wandb_run_name = 'cursivetransformer_dictionary_learning'\n",
        "\n",
        "torch.manual_seed(args.seed)\n",
        "torch.cuda.manual_seed_all(args.seed)\n",
        "\n",
        "train_dataset, test_dataset = create_datasets(args)\n",
        "\n",
        "args.block_size = train_dataset.get_stroke_seq_length()\n",
        "args.context_block_size = train_dataset.get_text_seq_length()\n",
        "args.vocab_size = train_dataset.get_vocab_size()\n",
        "args.context_vocab_size = train_dataset.get_char_vocab_size()\n",
        "\n",
        "model, optimizer, scheduler, step, best_loss = get_checkpoint(args)\n",
        "\n",
        "\n",
        "cfg[\"d_mlp\"] = args.n_embd  # Assuming n_embd is the MLP dimension\n",
        "args"
      ],
      "metadata": {
        "id": "Fb6qP_3i72fU"
      },
      "execution_count": null,
      "outputs": []
    },
    {
      "cell_type": "code",
      "source": [
        "model_device = 'cuda'\n",
        "model = model.to(model_device)\n",
        "model = model.eval()  # Set model to evaluation mode"
      ],
      "metadata": {
        "id": "f650Kjl_O-P4"
      },
      "execution_count": null,
      "outputs": []
    },
    {
      "cell_type": "markdown",
      "source": [
        "# Loading Data"
      ],
      "metadata": {
        "id": "hTPC8yxS4DNM"
      }
    },
    {
      "cell_type": "code",
      "source": [
        "# Prepare data\n",
        "batch_size = cfg[\"model_batch_size\"]\n",
        "num_samples = 1000\n",
        "stroke_seqs = []\n",
        "contexts = []\n",
        "\n",
        "for i in range(num_samples):\n",
        "    x, c, y = test_dataset[i]\n",
        "    stroke_seqs.append(x)\n",
        "    contexts.append(c)\n",
        "\n",
        "all_tokens = torch.stack(stroke_seqs)\n",
        "all_contexts = torch.stack(contexts)"
      ],
      "metadata": {
        "id": "nAEcf7h_4DFN"
      },
      "execution_count": null,
      "outputs": []
    },
    {
      "cell_type": "markdown",
      "source": [
        "# Analysis\n",
        "\n"
      ],
      "metadata": {
        "id": "q7_RwgFV4Mln"
      }
    },
    {
      "cell_type": "markdown",
      "source": [
        "## Initialize the Autoencoder"
      ],
      "metadata": {
        "id": "JwmkLrrc4Cv3"
      }
    },
    {
      "cell_type": "code",
      "source": [
        "encoder = AutoEncoder(cfg)"
      ],
      "metadata": {
        "id": "Yiea6x6o4Q69"
      },
      "execution_count": null,
      "outputs": []
    },
    {
      "cell_type": "markdown",
      "source": [
        "# Train the Autoencoder"
      ],
      "metadata": {
        "id": "u4f-J5kyOa9R"
      }
    },
    {
      "cell_type": "code",
      "source": [
        "def train_sae(model, encoder, num_batches=5000, batch_size=256):\n",
        "    optimizer = torch.optim.Adam(encoder.parameters(), lr=cfg['lr'], betas=(cfg['beta1'], cfg['beta2']))\n",
        "\n",
        "    for batch in tqdm.tqdm(range(num_batches)):\n",
        "        optimizer.zero_grad()\n",
        "\n",
        "        # Sample data\n",
        "        idx = torch.randperm(len(all_tokens))[:batch_size]\n",
        "        tokens = all_tokens[idx].to(model_device)\n",
        "        contexts = all_contexts[idx].to(model_device)\n",
        "\n",
        "        # Capture MLP activations\n",
        "        mlp_activations = []\n",
        "        def capture_mlp_activations(module, input, output):\n",
        "            mlp_activations.append(output.detach())\n",
        "\n",
        "        # Register the hook\n",
        "        mlp_layer = model.transformer.h[0].mlp.c_proj\n",
        "        hook_handle = mlp_layer.register_forward_hook(capture_mlp_activations)\n",
        "\n",
        "        # Forward pass\n",
        "        with torch.no_grad():\n",
        "            _ = model(tokens, contexts)\n",
        "\n",
        "        # Remove the hook\n",
        "        hook_handle.remove()\n",
        "\n",
        "        # Get the activations\n",
        "        mlp_acts = mlp_activations[0].reshape(-1, cfg[\"d_mlp\"])\n",
        "\n",
        "        # Pass through encoder\n",
        "        loss, _, _, l2_loss, l1_loss = encoder(mlp_acts)\n",
        "\n",
        "        # Backward pass\n",
        "        loss.backward()\n",
        "        optimizer.step()\n",
        "\n",
        "        if batch % 10 == 0:\n",
        "            print(f\"Batch {batch}, Loss: {loss.item():.4f}, L2 Loss: {l2_loss.item():.4f}, L1 Loss: {l1_loss.item():.4f}\")\n",
        "\n",
        "    print(\"SAE training completed.\")\n",
        "\n",
        "# Train the SAE\n",
        "train_sae(model, encoder)\n",
        "# Save the encoder weights\n",
        "# torch.save(encoder.state_dict(), 'encoder_weights.pth')"
      ],
      "metadata": {
        "id": "FAgTAimjOajl"
      },
      "execution_count": null,
      "outputs": []
    },
    {
      "cell_type": "markdown",
      "source": [
        "## Using the Autoencoder"
      ],
      "metadata": {
        "id": "4G3YdRYB4RZr"
      }
    },
    {
      "cell_type": "code",
      "source": [
        "batch_size = cfg[\"model_batch_size\"] # - [ ] TODO: Determine if this is needed?\n",
        "num_samples = 1000\n",
        "stroke_seqs = []\n",
        "contexts = []\n",
        "targets = []\n",
        "\n",
        "for i in range(num_samples):\n",
        "    x, c, y = test_dataset[i]\n",
        "    stroke_seqs.append(x)\n",
        "    contexts.append(c)\n",
        "    targets.append(y)\n",
        "\n",
        "all_tokens = torch.stack(stroke_seqs)\n",
        "all_contexts = torch.stack(contexts)\n",
        "all_targets = torch.stack(targets)\n",
        "\n",
        "mlp_hook_name = 'transformer.h.0.mlp.c_proj' # - [ ] TODO: Validate that this is in fact the correct place to hook in the SAE\n",
        "_ = get_recons_loss(num_batches=5, local_encoder=encoder) # - [ ] TODO: Increase number of batches?"
      ],
      "metadata": {
        "id": "2BewccqL4Uj1"
      },
      "execution_count": null,
      "outputs": []
    },
    {
      "cell_type": "markdown",
      "source": [
        "## Get Frequencies"
      ],
      "metadata": {
        "id": "9XdD3DmT4Vgm"
      }
    },
    {
      "cell_type": "code",
      "source": [
        "freqs = get_freqs(num_batches=25, local_encoder=encoder)\n",
        "\n",
        "# Add 1e-6.5 so that dead features show up as log_freq -6.5\n",
        "log_freq = (freqs + 10 ** -6.5).log10().cpu().numpy()\n",
        "plt.figure(figsize=(10, 6))\n",
        "plt.hist(log_freq, bins=50, color='skyblue', edgecolor='black')\n",
        "plt.title(\"Log Frequency of Features\")\n",
        "plt.xlabel(\"Log Frequency\")\n",
        "plt.ylabel(\"Count\")\n",
        "plt.show()"
      ],
      "metadata": {
        "id": "JmvsQC9y4a2H"
      },
      "execution_count": null,
      "outputs": []
    },
    {
      "cell_type": "markdown",
      "source": [
        "## Interpreting A Feature"
      ],
      "metadata": {
        "id": "mdR_2rtj4cWM"
      }
    },
    {
      "cell_type": "markdown",
      "source": [
        "Let's investigate a non-rare feature, for example, `feature_id = 7`."
      ],
      "metadata": {
        "id": "LfbqK50lBl-I"
      }
    },
    {
      "cell_type": "code",
      "source": [
        "import pandas as pd\n",
        "\n",
        "feature_id = 1 # Change as needed\n",
        "batch_size = 128  # Adjust as needed\n",
        "\n",
        "print(f\"Feature freq: {freqs[feature_id].item():.4f}\")\n",
        "\n",
        "# Get activations\n",
        "idx = torch.randperm(len(all_tokens))[:batch_size]\n",
        "tokens = all_tokens[idx].to(model_device)\n",
        "contexts = all_contexts[idx].to(model_device)\n",
        "targets = all_targets[idx].to(model_device)\n",
        "\n",
        "mlp_activations = []\n",
        "\n",
        "def capture_mlp_activations(module, input, output):\n",
        "    mlp_activations.append(output.detach())\n",
        "\n",
        "# Register the hook\n",
        "mlp_layer = model.transformer.h[0].mlp.c_proj\n",
        "hook_handle = mlp_layer.register_forward_hook(capture_mlp_activations)\n",
        "\n",
        "# Forward pass\n",
        "logits, _ = model(tokens, contexts)\n",
        "# Remove the hook\n",
        "hook_handle.remove()\n",
        "\n",
        "# Get the activations\n",
        "mlp_acts = mlp_activations[0]  # Shape: [batch_size, seq_len, d_mlp]\n",
        "mlp_acts_flattened = mlp_acts.reshape(-1, cfg[\"d_mlp\"])\n",
        "\n",
        "# Pass through encoder\n",
        "loss_enc, x_reconstruct, hidden_acts, l2_loss, l1_loss = encoder(mlp_acts_flattened)\n",
        "print(\"hidden_acts.shape\", hidden_acts.shape)\n",
        "\n",
        "# Create token dataframe\n",
        "token_df = make_token_df(tokens.cpu().flatten())\n",
        "token_df[\"feature\"] = hidden_acts[:, feature_id].detach().cpu().numpy()\n",
        "display(token_df.sort_values(\"feature\", ascending=False).head(20))"
      ],
      "metadata": {
        "id": "UYT7m6vp4cPn"
      },
      "execution_count": null,
      "outputs": []
    },
    {
      "cell_type": "markdown",
      "source": [
        "## TODO: Visualizing Feature Activations"
      ],
      "metadata": {
        "id": "h-yvVk0v4cFG"
      }
    },
    {
      "cell_type": "code",
      "source": [
        "# Access the character-to-index and index-to-character mappings from the dataset\n",
        "char2idx = train_dataset.stoi  # Character to index mapping\n",
        "idx2char = train_dataset.itos  # Index to character mapping\n",
        "\n",
        "# Define the tokenization function using the dataset's mapping\n",
        "def tokenize_text(text):\n",
        "    # Map each character to its index, default to PAD token (0) for unknown characters\n",
        "    return [char2idx.get(ch, train_dataset.char_PAD_TOKEN) for ch in text]\n",
        "\n",
        "def make_feature_vis_gradio(feature_id, starting_text=None):\n",
        "    if starting_text is None:\n",
        "        starting_text = \"Sample text for visualization\"\n",
        "\n",
        "    with gr.Blocks() as demo:\n",
        "        gr.HTML(value=f\"Hacky Interactive Neuroscope for cursivetransformer\")\n",
        "        # The input elements\n",
        "        with gr.Row():\n",
        "            with gr.Column():\n",
        "                text = gr.Textbox(label=\"Context Text\", value=starting_text)\n",
        "                feature_index = gr.Number(\n",
        "                    label=\"Feature Index\", value=feature_id, precision=0\n",
        "                )\n",
        "                max_val = gr.Number(label=\"Max Value\", value=None)\n",
        "                inputs = [text, feature_index, max_val]\n",
        "        with gr.Row():\n",
        "            with gr.Column():\n",
        "                # The output element\n",
        "                out = gr.HTML(label=\"Neuron Acts\", value=basic_feature_vis(feature_id))\n",
        "        def update_output(text, feature_index, max_val):\n",
        "            return basic_feature_vis(text, int(feature_index), max_val)\n",
        "        for inp in inputs:\n",
        "            inp.change(update_output, inputs, out)\n",
        "    demo.launch(share=True)\n",
        "\n",
        "# Visualize the feature activations\n",
        "starting_text = \"Sample text to test feature activations in cursivetransformer\"\n",
        "make_feature_vis_gradio(feature_id, starting_text)"
      ],
      "metadata": {
        "id": "KvYERycr4bz5"
      },
      "execution_count": null,
      "outputs": []
    },
    {
      "cell_type": "code",
      "source": [],
      "metadata": {
        "id": "p4o5BPGlB6iD"
      },
      "execution_count": null,
      "outputs": []
    }
  ]
}