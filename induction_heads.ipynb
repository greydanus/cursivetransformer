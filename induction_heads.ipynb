{
  "nbformat": 4,
  "nbformat_minor": 0,
  "metadata": {
    "colab": {
      "provenance": [],
      "authorship_tag": "ABX9TyORPM2g4yBUalWXcdR0NCxf",
      "include_colab_link": true
    },
    "kernelspec": {
      "name": "python3",
      "display_name": "Python 3"
    },
    "language_info": {
      "name": "python"
    }
  },
  "cells": [
    {
      "cell_type": "markdown",
      "metadata": {
        "id": "view-in-github",
        "colab_type": "text"
      },
      "source": [
        "<a href=\"https://colab.research.google.com/github/zwimpee/cursivetransformer/blob/main/induction_heads.ipynb\" target=\"_parent\"><img src=\"https://colab.research.google.com/assets/colab-badge.svg\" alt=\"Open In Colab\"/></a>"
      ]
    },
    {
      "cell_type": "markdown",
      "source": [
        "# Detecting Induction Heads in `cursivetransformer`\n",
        "\n"
      ],
      "metadata": {
        "id": "-kqExwC68w3v"
      }
    },
    {
      "cell_type": "markdown",
      "source": [
        "In this notebook, we aim to detect **induction heads** in the `cursivetransformer` model. We'll adapt methods from Neel Nanda's work on reverse-engineering induction circuits to our model, which is trained to generate cursive handwriting. Our goal is to identify components within the model that perform induction-like mechanisms, specifically focusing on how the model might use previous tokens to inform the generation of subsequent ones.\n",
        "\n"
      ],
      "metadata": {
        "id": "hhoafjBR8w2I"
      }
    },
    {
      "cell_type": "markdown",
      "source": [
        "---\n",
        "\n",
        "## **Table of Contents**\n",
        "\n",
        "1. [Introduction to Induction Heads](#introduction)\n",
        "2. [Setting Up the Environment](#setup)\n",
        "3. [Loading the Model and Data](#loading)\n",
        "4. [Analyzing Attention Patterns](#attention)\n",
        "5. [Identifying Candidate Induction Heads](#candidate_heads)\n",
        "6. [Reverse-Engineering the Induction Circuit](#reverse_engineering)\n",
        "    - [QK and OV Circuits](#qk_ov)\n",
        "    - [Analyzing the QK Circuit](#qk_analysis)\n",
        "    - [Analyzing the OV Circuit](#ov_analysis)\n",
        "7. [Computing Composition Scores](#composition_scores)\n",
        "8. [Visualizing and Interpreting Results](#visualization)\n",
        "9. [Conclusion](#conclusion)"
      ],
      "metadata": {
        "id": "HiF2q9UC8wz3"
      }
    },
    {
      "cell_type": "markdown",
      "source": [
        "---\n",
        "\n",
        "<a name=\"introduction\"></a>\n",
        "## 1. Introduction to Induction Heads"
      ],
      "metadata": {
        "id": "kDfd-kgo8wxu"
      }
    },
    {
      "cell_type": "markdown",
      "source": [
        "**Induction heads** are specialized attention heads in transformer models that enable the model to perform **in-context learning**. They allow the model to recognize and replicate patterns by attending to previous occurrences of tokens in the sequence.\n",
        "\n",
        "In the context of the `cursivetransformer`, which generates cursive handwriting, induction heads may help the model maintain consistent handwriting styles or replicate patterns in stroke sequences.\n",
        "\n",
        "**Our Objectives:**\n",
        "\n",
        "- Identify attention heads in the `cursivetransformer` that function as induction heads.\n",
        "- Reverse-engineer the circuits involved to understand how they operate.\n",
        "- Analyze the QK (query-key) and OV (output-value) circuits to see how they contribute to induction behavior."
      ],
      "metadata": {
        "id": "YHvx2YAZ8wvm"
      }
    },
    {
      "cell_type": "markdown",
      "source": [
        "---\n",
        "\n",
        "<a name=\"setup\"></a>\n",
        "## 2. Setting Up the Environment\n",
        "\n"
      ],
      "metadata": {
        "id": "o6vLHyYq8woG"
      }
    },
    {
      "cell_type": "markdown",
      "source": [
        "First, let's import necessary libraries and set up the environment."
      ],
      "metadata": {
        "id": "tbI4V-Dv8u5_"
      }
    },
    {
      "cell_type": "code",
      "source": [
        "import torch\n",
        "import torch.nn as nn\n",
        "import torch.nn.functional as F\n",
        "import einops\n",
        "import numpy as np\n",
        "import pandas as pd\n",
        "import matplotlib.pyplot as plt\n",
        "import plotly.express as px\n",
        "import tqdm\n",
        "\n",
        "# If using Jupyter, uncomment the next line\n",
        "# %matplotlib inline\n",
        "\n",
        "# Set random seeds for reproducibility\n",
        "torch.manual_seed(42)\n",
        "np.random.seed(42)\n",
        "\n",
        "# Check for GPU\n",
        "device = torch.device(\"cuda\" if torch.cuda.is_available() else \"cpu\")\n",
        "print(f\"Using device: {device}\")"
      ],
      "metadata": {
        "id": "1Dqz__b69GzN"
      },
      "execution_count": null,
      "outputs": []
    },
    {
      "cell_type": "markdown",
      "source": [
        "---\n",
        "\n",
        "<a name=\"loading\"></a>\n",
        "## 3. Loading the Model and Data\n",
        "\n"
      ],
      "metadata": {
        "id": "FCJLcYy49KIk"
      }
    },
    {
      "cell_type": "markdown",
      "source": [
        "We'll load the `cursivetransformer` model and the associated dataset.\n",
        "\n",
        "**Note:** Ensure that you have the model and dataset available in your environment. Adjust paths as necessary."
      ],
      "metadata": {
        "id": "8OziMPk69KGf"
      }
    },
    {
      "cell_type": "code",
      "source": [
        "# Assume the model and dataset classes are defined in cursivetransformer.py\n",
        "# You may need to adjust the import statements based on your project structure\n",
        "\n",
        "from cursivetransformer import CursiveTransformer, CursiveDataset\n",
        "\n",
        "# Load the model\n",
        "model = CursiveTransformer.load_from_checkpoint('path_to_model_checkpoint.ckpt')\n",
        "model.to(device)\n",
        "model.eval()  # Set model to evaluation mode\n",
        "\n",
        "# Load the dataset\n",
        "train_dataset = CursiveDataset(split='train')\n",
        "test_dataset = CursiveDataset(split='test')\n",
        "\n",
        "# Define data loaders if necessary\n",
        "from torch.utils.data import DataLoader\n",
        "\n",
        "batch_size = 64  # Adjust as needed\n",
        "test_loader = DataLoader(test_dataset, batch_size=batch_size, shuffle=False)"
      ],
      "metadata": {
        "id": "kekoU7JZ9O4Q"
      },
      "execution_count": null,
      "outputs": []
    },
    {
      "cell_type": "markdown",
      "source": [
        "---\n",
        "\n",
        "<a name=\"attention\"></a>\n",
        "## 4. Analyzing Attention Patterns"
      ],
      "metadata": {
        "id": "upH02Nmv9KEX"
      }
    },
    {
      "cell_type": "markdown",
      "source": [
        "To detect induction heads, we'll start by analyzing the attention patterns of each head in the model. Induction heads typically display a **distinctive attention pattern**: they attend from a token to previous occurrences of the same token or related tokens."
      ],
      "metadata": {
        "id": "gzgCx3M99J-P"
      }
    },
    {
      "cell_type": "markdown",
      "source": [
        "### Extracting Attention Patterns\n",
        "\n",
        "\n"
      ],
      "metadata": {
        "id": "YZxAoAZZ9YaQ"
      }
    },
    {
      "cell_type": "markdown",
      "source": [
        "We'll define a function to extract and visualize attention patterns for a given layer and head."
      ],
      "metadata": {
        "id": "6ru9FM789XI4"
      }
    },
    {
      "cell_type": "code",
      "source": [
        "def get_attention_patterns(model, data_loader, layer_idx, head_idx, num_batches=1):\n",
        "    attention_patterns = []\n",
        "\n",
        "    def hook_fn(module, input, output):\n",
        "        # Output shape: [batch_size, num_heads, seq_len, seq_len]\n",
        "        attention_patterns.append(output.detach().cpu())\n",
        "\n",
        "    hook_handle = model.transformer.layers[layer_idx].self_attn.attn_drop.register_forward_hook(hook_fn)\n",
        "\n",
        "    # Run a few batches to collect attention patterns\n",
        "    for i, batch in enumerate(data_loader):\n",
        "        if i >= num_batches:\n",
        "            break\n",
        "        inputs, _ = batch  # Adjust unpacking based on your dataset\n",
        "        inputs = inputs.to(device)\n",
        "        with torch.no_grad():\n",
        "            _ = model(inputs)\n",
        "    hook_handle.remove()\n",
        "\n",
        "    # Concatenate attention patterns from all batches\n",
        "    attention_patterns = torch.cat(attention_patterns, dim=0)  # Shape: [total_samples, num_heads, seq_len, seq_len]\n",
        "\n",
        "    # Extract patterns for the specified head\n",
        "    patterns = attention_patterns[:, head_idx, :, :]  # Shape: [total_samples, seq_len, seq_len]\n",
        "\n",
        "    return patterns"
      ],
      "metadata": {
        "id": "fQTSKnua9Xbj"
      },
      "execution_count": null,
      "outputs": []
    },
    {
      "cell_type": "markdown",
      "source": [
        "### Visualizing Attention Patterns\n",
        "\n"
      ],
      "metadata": {
        "id": "qXR1yzmi9dRz"
      }
    },
    {
      "cell_type": "markdown",
      "source": [
        "We'll plot the average attention pattern for the specified head."
      ],
      "metadata": {
        "id": "Dls2dZ4m9dPV"
      }
    },
    {
      "cell_type": "code",
      "source": [
        "def plot_attention_pattern(patterns, layer_idx, head_idx):\n",
        "    # Compute the average attention pattern over samples\n",
        "    avg_pattern = patterns.mean(dim=0)  # Shape: [seq_len, seq_len]\n",
        "\n",
        "    fig = px.imshow(\n",
        "        avg_pattern,\n",
        "        labels={'x': 'Key Position', 'y': 'Query Position', 'color': 'Attention Weight'},\n",
        "        title=f'Average Attention Pattern for Layer {layer_idx}, Head {head_idx}',\n",
        "        color_continuous_scale='Blues'\n",
        "    )\n",
        "    fig.update_layout(width=600, height=600)\n",
        "    fig.show()"
      ],
      "metadata": {
        "id": "THTWaOTG9eJF"
      },
      "execution_count": null,
      "outputs": []
    },
    {
      "cell_type": "markdown",
      "source": [
        "### Example Usage\n",
        "\n"
      ],
      "metadata": {
        "id": "z_LPb4qw9j9i"
      }
    },
    {
      "cell_type": "markdown",
      "source": [
        "Let's analyze and plot attention patterns for all heads in a specific layer."
      ],
      "metadata": {
        "id": "MH3ZQmAH9j26"
      }
    },
    {
      "cell_type": "code",
      "source": [
        "layer_idx = 0  # Adjust as needed\n",
        "num_heads = model.transformer.layers[layer_idx].self_attn.num_heads\n",
        "\n",
        "for head_idx in range(num_heads):\n",
        "    patterns = get_attention_patterns(model, test_loader, layer_idx, head_idx, num_batches=1)\n",
        "    plot_attention_pattern(patterns, layer_idx, head_idx)"
      ],
      "metadata": {
        "id": "PjFTilVE9kfd"
      },
      "execution_count": null,
      "outputs": []
    },
    {
      "cell_type": "markdown",
      "source": [
        "\n",
        "**Interpretation:**\n",
        "\n",
        "- Look for heads where the attention pattern shows a diagonal offset, indicating that the head is attending to previous tokens in a specific way.\n",
        "- Heads that show such patterns are candidates for being induction heads."
      ],
      "metadata": {
        "id": "UhYALwu59qHI"
      }
    },
    {
      "cell_type": "markdown",
      "source": [
        "---\n",
        "\n",
        "<a name=\"candidate_heads\"></a>\n",
        "## 5. Identifying Candidate Induction Heads\n",
        "\n"
      ],
      "metadata": {
        "id": "r8BEWS_79vIb"
      }
    },
    {
      "cell_type": "markdown",
      "source": [
        "Based on the attention patterns, we can identify candidate heads that might be functioning as induction heads."
      ],
      "metadata": {
        "id": "f-7O6oqc9vGF"
      }
    },
    {
      "cell_type": "markdown",
      "source": [
        "**Example:**\n",
        "\n",
        "Suppose we observe that head 3 in layer 0 shows a diagonal attention pattern with an offset, suggesting it might be an induction head."
      ],
      "metadata": {
        "id": "HRXSyDCD9vAG"
      }
    },
    {
      "cell_type": "markdown",
      "source": [
        "---\n",
        "\n",
        "<a name=\"reverse_engineering\"></a>\n",
        "## 6. Reverse-Engineering the Induction Circuit"
      ],
      "metadata": {
        "id": "VI6GtCHL92Rp"
      }
    },
    {
      "cell_type": "markdown",
      "source": [
        "To confirm that a head is an induction head, we'll analyze its **QK** and **OV** circuits. This involves examining the weight matrices and understanding how they contribute to the attention mechanism."
      ],
      "metadata": {
        "id": "33gM5g3z92Lp"
      }
    },
    {
      "cell_type": "markdown",
      "source": [
        "<a name=\"qk_ov\"></a>\n",
        "### Understanding QK and OV Circuits"
      ],
      "metadata": {
        "id": "A3IC89A797AP"
      }
    },
    {
      "cell_type": "markdown",
      "source": [
        "- **QK Circuit:** Determines the attention scores by projecting queries and keys.\n",
        "- **OV Circuit:** Determines how information is aggregated and written back to the residual stream."
      ],
      "metadata": {
        "id": "uos4yr3096oQ"
      }
    },
    {
      "cell_type": "markdown",
      "source": [
        "---\n",
        "\n",
        "<a name=\"qk_analysis\"></a>\n",
        "### Analyzing the QK Circuit"
      ],
      "metadata": {
        "id": "xpWxgO8o9_rO"
      }
    },
    {
      "cell_type": "markdown",
      "source": [
        "#### Extracting Q and K Matrices\n"
      ],
      "metadata": {
        "id": "6ztzxRhn9_o0"
      }
    },
    {
      "cell_type": "code",
      "source": [
        "def get_QK_matrices(model, layer_idx, head_idx):\n",
        "    W_Q = model.transformer.layers[layer_idx].self_attn.q_proj.weight  # Shape: [d_model, d_head * num_heads]\n",
        "    W_K = model.transformer.layers[layer_idx].self_attn.k_proj.weight  # Shape: [d_model, d_head * num_heads]\n",
        "\n",
        "    d_head = model.transformer.layers[layer_idx].self_attn.head_dim\n",
        "    W_Q = W_Q[:, head_idx * d_head: (head_idx + 1) * d_head]  # Shape: [d_model, d_head]\n",
        "    W_K = W_K[:, head_idx * d_head: (head_idx + 1) * d_head]\n",
        "\n",
        "    return W_Q, W_K"
      ],
      "metadata": {
        "id": "1W_oAQ8j-E8V"
      },
      "execution_count": null,
      "outputs": []
    },
    {
      "cell_type": "markdown",
      "source": [
        "#### Computing the QK Circuit\n",
        "\n"
      ],
      "metadata": {
        "id": "Kwsl9LF19_jH"
      }
    },
    {
      "cell_type": "markdown",
      "source": [
        "The QK circuit is given by \\( W_Q W_K^T \\)."
      ],
      "metadata": {
        "id": "hgZUBqdC-IcE"
      }
    },
    {
      "cell_type": "code",
      "source": [
        "def compute_QK_circuit(W_Q, W_K):\n",
        "    return W_Q @ W_K.T  # Shape: [d_model, d_model]"
      ],
      "metadata": {
        "id": "yliM0ZPd-M_M"
      },
      "execution_count": null,
      "outputs": []
    },
    {
      "cell_type": "markdown",
      "source": [
        "#### Visualizing the QK Circuit"
      ],
      "metadata": {
        "id": "vAoBjlSV-IYY"
      }
    },
    {
      "cell_type": "markdown",
      "source": [
        "We can visualize the QK circuit to understand what features the head is focusing on."
      ],
      "metadata": {
        "id": "GYXn4zF0-IWD"
      }
    },
    {
      "cell_type": "code",
      "source": [
        "def plot_QK_circuit(QK_circuit):\n",
        "    plt.figure(figsize=(8, 6))\n",
        "    plt.imshow(QK_circuit.detach().cpu().numpy(), cmap='viridis')\n",
        "    plt.colorbar()\n",
        "    plt.title('QK Circuit')\n",
        "    plt.xlabel('Key Features')\n",
        "    plt.ylabel('Query Features')\n",
        "    plt.show()"
      ],
      "metadata": {
        "id": "Ke8p33Vm-St5"
      },
      "execution_count": null,
      "outputs": []
    },
    {
      "cell_type": "markdown",
      "source": [
        "#### Example Usage"
      ],
      "metadata": {
        "id": "oEDY6RHH-ISJ"
      }
    },
    {
      "cell_type": "code",
      "source": [
        "W_Q, W_K = get_QK_matrices(model, layer_idx=0, head_idx=3)\n",
        "QK_circuit = compute_QK_circuit(W_Q, W_K)\n",
        "plot_QK_circuit(QK_circuit)"
      ],
      "metadata": {
        "id": "S3Ldx0Aa-aJC"
      },
      "execution_count": null,
      "outputs": []
    },
    {
      "cell_type": "markdown",
      "source": [
        "**Interpretation:**\n",
        "\n",
        "- Look for patterns that indicate the head is attending to previous tokens or specific features that align with induction behavior."
      ],
      "metadata": {
        "id": "OiEk0_tO-cpY"
      }
    },
    {
      "cell_type": "markdown",
      "source": [
        "---\n",
        "\n",
        "<a name=\"ov_analysis\"></a>\n",
        "### Analyzing the OV Circuit"
      ],
      "metadata": {
        "id": "8Sabp_ak-fTL"
      }
    },
    {
      "cell_type": "markdown",
      "source": [
        "#### Extracting V and O Matrices"
      ],
      "metadata": {
        "id": "57iAHYFJ-fQx"
      }
    },
    {
      "cell_type": "code",
      "source": [
        "def get_VO_matrices(model, layer_idx, head_idx):\n",
        "    W_V = model.transformer.layers[layer_idx].self_attn.v_proj.weight  # Shape: [d_model, d_head * num_heads]\n",
        "    W_O = model.transformer.layers[layer_idx].self_attn.out_proj.weight  # Shape: [d_model, d_head * num_heads]\n",
        "\n",
        "    d_head = model.transformer.layers[layer_idx].self_attn.head_dim\n",
        "    W_V = W_V[:, head_idx * d_head: (head_idx + 1) * d_head]  # Shape: [d_model, d_head]\n",
        "    W_O = W_O[head_idx * d_head: (head_idx + 1) * d_head, :]  # Shape: [d_head, d_model]\n",
        "\n",
        "    return W_V, W_O"
      ],
      "metadata": {
        "id": "48pdM8Vx-i06"
      },
      "execution_count": null,
      "outputs": []
    },
    {
      "cell_type": "markdown",
      "source": [
        "#### Computing the OV Circuit\n",
        "\n"
      ],
      "metadata": {
        "id": "3h15gOaB-fMi"
      }
    },
    {
      "cell_type": "markdown",
      "source": [
        "The OV circuit is given by \\( W_V W_O \\)."
      ],
      "metadata": {
        "id": "n-sWMxwz-fJw"
      }
    },
    {
      "cell_type": "code",
      "source": [
        "def compute_OV_circuit(W_V, W_O):\n",
        "    return W_V @ W_O  # Shape: [d_model, d_model]"
      ],
      "metadata": {
        "id": "H8hXwQj0-n68"
      },
      "execution_count": null,
      "outputs": []
    },
    {
      "cell_type": "markdown",
      "source": [
        "#### Visualizing the OV Circuit"
      ],
      "metadata": {
        "id": "vm77dyTN-p8j"
      }
    },
    {
      "cell_type": "code",
      "source": [
        "def plot_OV_circuit(OV_circuit):\n",
        "    plt.figure(figsize=(8, 6))\n",
        "    plt.imshow(OV_circuit.detach().cpu().numpy(), cmap='coolwarm')\n",
        "    plt.colorbar()\n",
        "    plt.title('OV Circuit')\n",
        "    plt.xlabel('Output Features')\n",
        "    plt.ylabel('Value Features')\n",
        "    plt.show()"
      ],
      "metadata": {
        "id": "epAedQx_-svc"
      },
      "execution_count": null,
      "outputs": []
    },
    {
      "cell_type": "markdown",
      "source": [
        "#### Example Usage"
      ],
      "metadata": {
        "id": "OJ1lM99e-p6O"
      }
    },
    {
      "cell_type": "code",
      "source": [
        "W_V, W_O = get_VO_matrices(model, layer_idx=0, head_idx=3)\n",
        "OV_circuit = compute_OV_circuit(W_V, W_O)\n",
        "plot_OV_circuit(OV_circuit)"
      ],
      "metadata": {
        "id": "oklUR_Po-wAa"
      },
      "execution_count": null,
      "outputs": []
    },
    {
      "cell_type": "markdown",
      "source": [
        "**Interpretation:**\n",
        "\n",
        "- The OV circuit shows how the head writes information back to the residual stream.\n",
        "- An induction head often copies information from the key positions to the query positions."
      ],
      "metadata": {
        "id": "3lY_3uVD-p2c"
      }
    },
    {
      "cell_type": "markdown",
      "source": [
        "---\n",
        "\n",
        "<a name=\"composition_scores\"></a>\n",
        "## 7. Computing Composition Scores"
      ],
      "metadata": {
        "id": "aQ7fIdOX-1fV"
      }
    },
    {
      "cell_type": "markdown",
      "source": [
        "Composition scores help us quantify how much two components (e.g., heads) are interacting or composing with each other."
      ],
      "metadata": {
        "id": "oCM9RPRy-1YH"
      }
    },
    {
      "cell_type": "markdown",
      "source": [
        "### Defining the Composition Score"
      ],
      "metadata": {
        "id": "wqSCc7OG-4XS"
      }
    },
    {
      "cell_type": "markdown",
      "source": [
        "We can define the composition score between two matrices \\( W_A \\) and \\( W_B \\) as:\n",
        "\n",
        "\\[ \\text{Comp\\_Score} = \\frac{\\| W_A W_B \\|_F}{\\| W_A \\|_F \\| W_B \\|_F} \\]\n",
        "\n",
        "where \\( \\| \\cdot \\|_F \\) denotes the Frobenius norm."
      ],
      "metadata": {
        "id": "vlK4UcCT-48E"
      }
    },
    {
      "cell_type": "markdown",
      "source": [
        "### Computing Composition Scores Between Heads"
      ],
      "metadata": {
        "id": "3QRHoKHF-42c"
      }
    },
    {
      "cell_type": "markdown",
      "source": [
        "Suppose we suspect that head 3 in layer 0 is composing with head 5 in layer 1."
      ],
      "metadata": {
        "id": "Ff5S_PsY-9Hs"
      }
    },
    {
      "cell_type": "code",
      "source": [
        "def get_composition_score(W_A, W_B):\n",
        "    numerator = torch.norm(W_A @ W_B, p='fro')\n",
        "    denominator = torch.norm(W_A, p='fro') * torch.norm(W_B, p='fro')\n",
        "    return (numerator / denominator).item()"
      ],
      "metadata": {
        "id": "gXM9yVN5-_ZE"
      },
      "execution_count": null,
      "outputs": []
    },
    {
      "cell_type": "markdown",
      "source": [
        "#### Example Usage"
      ],
      "metadata": {
        "id": "4alkfkJQ_CCn"
      }
    },
    {
      "cell_type": "code",
      "source": [
        "# Get OV circuit of head 3 in layer 0\n",
        "W_V0, W_O0 = get_VO_matrices(model, layer_idx=0, head_idx=3)\n",
        "W_OV0 = W_V0 @ W_O0  # Shape: [d_model, d_model]\n",
        "\n",
        "# Get QK circuit of head 5 in layer 1\n",
        "W_Q1, W_K1 = get_QK_matrices(model, layer_idx=1, head_idx=5)\n",
        "W_QK1 = W_Q1 @ W_K1.T  # Shape: [d_model, d_model]\n",
        "\n",
        "# Compute composition score\n",
        "comp_score = get_composition_score(W_OV0, W_QK1)\n",
        "print(f\"Composition Score between Layer 0 Head 3 and Layer 1 Head 5: {comp_score:.4f}\")"
      ],
      "metadata": {
        "id": "tU2FYvgG_Co5"
      },
      "execution_count": null,
      "outputs": []
    },
    {
      "cell_type": "markdown",
      "source": [
        "**Interpreting the Score:**\n",
        "\n",
        "- A higher composition score suggests that the two heads are interacting significantly.\n",
        "- We can compute composition scores for all pairs of heads to identify significant interactions."
      ],
      "metadata": {
        "id": "L9s0X6Jq_F8s"
      }
    },
    {
      "cell_type": "markdown",
      "source": [
        "### Computing Composition Scores for All Head Pairs"
      ],
      "metadata": {
        "id": "iJDbcw-O_IzO"
      }
    },
    {
      "cell_type": "code",
      "source": [
        "num_layers = len(model.transformer.layers)\n",
        "num_heads = model.transformer.layers[0].self_attn.num_heads\n",
        "\n",
        "# Initialize a matrix to hold composition scores\n",
        "composition_scores = np.zeros((num_heads, num_heads))\n",
        "\n",
        "for head_idx0 in range(num_heads):\n",
        "    W_V0, W_O0 = get_VO_matrices(model, layer_idx=0, head_idx=head_idx0)\n",
        "    W_OV0 = W_V0 @ W_O0  # Shape: [d_model, d_model]\n",
        "\n",
        "    for head_idx1 in range(num_heads):\n",
        "        W_Q1, W_K1 = get_QK_matrices(model, layer_idx=1, head_idx=head_idx1)\n",
        "        W_QK1 = W_Q1 @ W_K1.T  # Shape: [d_model, d_model]\n",
        "\n",
        "        # Compute composition score\n",
        "        comp_score = get_composition_score(W_OV0, W_QK1)\n",
        "        composition_scores[head_idx0, head_idx1] = comp_score\n",
        "\n",
        "# Plot the composition scores\n",
        "plt.figure(figsize=(8, 6))\n",
        "plt.imshow(composition_scores, cmap='plasma')\n",
        "plt.colorbar()\n",
        "plt.title('Composition Scores Between Layer 0 and Layer 1 Heads')\n",
        "plt.xlabel('Layer 1 Heads')\n",
        "plt.ylabel('Layer 0 Heads')\n",
        "plt.show()"
      ],
      "metadata": {
        "id": "KVtpMSQU_I_2"
      },
      "execution_count": null,
      "outputs": []
    },
    {
      "cell_type": "markdown",
      "source": [
        "**Interpretation:**\n",
        "\n",
        "- Look for pairs with high composition scores.\n",
        "- These pairs are candidates for being involved in induction circuits."
      ],
      "metadata": {
        "id": "8j0Vbhm4_Mni"
      }
    },
    {
      "cell_type": "markdown",
      "source": [
        "---\n",
        "\n",
        "<a name=\"visualization\"></a>\n",
        "## 8. Visualizing and Interpreting Results"
      ],
      "metadata": {
        "id": "83_7h0d4_P8i"
      }
    },
    {
      "cell_type": "markdown",
      "source": [
        "### Attention Pattern Visualization"
      ],
      "metadata": {
        "id": "0jYM_OeO_P6C"
      }
    },
    {
      "cell_type": "markdown",
      "source": [
        "Revisiting the attention patterns, we can overlay the positions where high attention occurs with the tokens in the sequence.\n",
        "\n",
        "Suppose we have stroke sequences and corresponding context text; we can map attention weights back to the strokes.\n",
        "\n",
        "**Note:** The actual implementation would depend on how strokes and tokens are represented in your model."
      ],
      "metadata": {
        "id": "tReP3z4h_P0u"
      }
    },
    {
      "cell_type": "markdown",
      "source": [
        "### Analyzing Specific Sequences"
      ],
      "metadata": {
        "id": "CNq9hRx0_VeH"
      }
    },
    {
      "cell_type": "markdown",
      "source": [
        "We can select specific sequences where induction behavior is expected, such as sequences where certain patterns repeat."
      ],
      "metadata": {
        "id": "aUoleQKL_W5h"
      }
    },
    {
      "cell_type": "code",
      "source": [
        "# Example: Select a sequence with repeating patterns\n",
        "sequence_idx = 0  # Adjust as needed\n",
        "inputs, targets = test_dataset[sequence_idx]\n",
        "inputs = inputs.unsqueeze(0).to(device)\n",
        "\n",
        "# Run the model and extract attention patterns\n",
        "def extract_attention_patterns(module, input, output):\n",
        "    attention_patterns.append(output.detach().cpu())\n",
        "\n",
        "attention_patterns = []\n",
        "hook_handle = model.transformer.layers[0].self_attn.attn_drop.register_forward_hook(extract_attention_patterns)\n",
        "\n",
        "with torch.no_grad():\n",
        "    outputs = model(inputs)\n",
        "hook_handle.remove()\n",
        "\n",
        "# Process and visualize the attention patterns as before"
      ],
      "metadata": {
        "id": "_RPgvAu8_Yfx"
      },
      "execution_count": null,
      "outputs": []
    },
    {
      "cell_type": "markdown",
      "source": [
        "---\n",
        "\n",
        "<a name=\"conclusion\"></a>\n",
        "## 9. Conclusion"
      ],
      "metadata": {
        "id": "AwSdWZBl_awj"
      }
    },
    {
      "cell_type": "markdown",
      "source": [
        "By adapting methods from Neel Nanda's notebook, we've attempted to detect induction heads in the `cursivetransformer` model. Through analyzing attention patterns, computing QK and OV circuits, and calculating composition scores, we've identified candidate heads that may function as induction heads.\n",
        "\n",
        "**Next Steps:**\n",
        "\n",
        "- **Validate Findings:** Perform further experiments to confirm the induction behavior, such as ablation studies.\n",
        "- **Interpret Features:** Investigate what specific features the induction heads are focusing on, possibly relating to specific strokes or handwriting styles.\n",
        "- **Extend Analysis:** Apply similar methods to other components or layers of the model to gain deeper insights.\n",
        "\n",
        "---\n",
        "\n",
        "**References:**\n",
        "\n",
        "- Neel Nanda's work on reverse-engineering induction circuits.\n",
        "- [Transformer Circuits Thread](https://transformer-circuits.pub/2021/framework/index.html)\n",
        "\n",
        "---\n",
        "\n",
        "**Note:** The actual implementation details may vary based on the specific architecture and data representations used in the `cursivetransformer` model. Adjustments may be necessary to accommodate differences."
      ],
      "metadata": {
        "id": "lYzcYiV5_aqF"
      }
    }
  ]
}